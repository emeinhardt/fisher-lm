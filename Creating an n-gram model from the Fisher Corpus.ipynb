{
 "cells": [
  {
   "cell_type": "markdown",
   "metadata": {},
   "source": [
    "**Eric Meinhardt / emeinhardt@ucsd.edu**"
   ]
  },
  {
   "cell_type": "code",
   "execution_count": 1,
   "metadata": {
    "ExecuteTime": {
     "end_time": "2019-04-15T23:15:01.170290Z",
     "start_time": "2019-04-15T23:15:01.166972Z"
    }
   },
   "outputs": [],
   "source": [
    "#Prints **all** console output, not just last item in cell \n",
    "from IPython.core.interactiveshell import InteractiveShell\n",
    "InteractiveShell.ast_node_interactivity = \"all\""
   ]
  },
  {
   "cell_type": "code",
   "execution_count": 2,
   "metadata": {
    "ExecuteTime": {
     "end_time": "2019-04-15T23:15:01.226565Z",
     "start_time": "2019-04-15T23:15:01.172655Z"
    }
   },
   "outputs": [],
   "source": [
    "import os"
   ]
  },
  {
   "cell_type": "markdown",
   "metadata": {},
   "source": [
    "# Overview"
   ]
  },
  {
   "cell_type": "markdown",
   "metadata": {},
   "source": [
    "This notebook documents the process of creating an n-gram model from the Fisher corpus using `kenlm`."
   ]
  },
  {
   "cell_type": "markdown",
   "metadata": {},
   "source": [
    "# Basic structure of the data / code for interfacing with it"
   ]
  },
  {
   "cell_type": "code",
   "execution_count": 3,
   "metadata": {
    "ExecuteTime": {
     "end_time": "2019-04-15T23:15:01.232432Z",
     "start_time": "2019-04-15T23:15:01.229463Z"
    }
   },
   "outputs": [],
   "source": [
    "repo_dir = '/mnt/cube/home/AD/emeinhar/fisher-lm'"
   ]
  },
  {
   "cell_type": "code",
   "execution_count": 4,
   "metadata": {
    "ExecuteTime": {
     "end_time": "2019-04-15T23:15:01.237213Z",
     "start_time": "2019-04-15T23:15:01.234474Z"
    }
   },
   "outputs": [],
   "source": [
    "fisher_dir = \"/mnt/truffle/corpora/fisher_english_transcripts/fe_03_p2_tran\""
   ]
  },
  {
   "cell_type": "code",
   "execution_count": 5,
   "metadata": {
    "ExecuteTime": {
     "end_time": "2019-04-15T23:15:01.249126Z",
     "start_time": "2019-04-15T23:15:01.239673Z"
    }
   },
   "outputs": [
    {
     "data": {
      "text/plain": [
       "'/mnt/cube/home/AD/emeinhar/fisher-lm'"
      ]
     },
     "execution_count": 5,
     "metadata": {},
     "output_type": "execute_result"
    }
   ],
   "source": [
    "os.getcwd()"
   ]
  },
  {
   "cell_type": "code",
   "execution_count": 6,
   "metadata": {
    "ExecuteTime": {
     "end_time": "2019-04-15T23:15:01.256881Z",
     "start_time": "2019-04-15T23:15:01.250889Z"
    }
   },
   "outputs": [],
   "source": [
    "os.chdir(fisher_dir)"
   ]
  },
  {
   "cell_type": "code",
   "execution_count": 7,
   "metadata": {
    "ExecuteTime": {
     "end_time": "2019-04-15T23:15:01.373224Z",
     "start_time": "2019-04-15T23:15:01.258549Z"
    }
   },
   "outputs": [
    {
     "name": "stdout",
     "output_type": "stream",
     "text": [
      "\u001b[0m\u001b[01;34mdata\u001b[0m/  \u001b[01;34mdoc\u001b[0m/  \u001b[01;32mindex.html\u001b[0m*\r\n"
     ]
    }
   ],
   "source": [
    "%ls"
   ]
  },
  {
   "cell_type": "code",
   "execution_count": 8,
   "metadata": {
    "ExecuteTime": {
     "end_time": "2019-04-15T23:15:01.379154Z",
     "start_time": "2019-04-15T23:15:01.375061Z"
    }
   },
   "outputs": [
    {
     "data": {
      "text/plain": [
       "'/mnt/truffle/corpora/fisher_english_transcripts/fe_03_p2_tran/data'"
      ]
     },
     "execution_count": 8,
     "metadata": {},
     "output_type": "execute_result"
    }
   ],
   "source": [
    "os.chdir(os.path.join(fisher_dir, 'data'))\n",
    "os.getcwd()"
   ]
  },
  {
   "cell_type": "code",
   "execution_count": 9,
   "metadata": {
    "ExecuteTime": {
     "end_time": "2019-04-15T23:15:01.492508Z",
     "start_time": "2019-04-15T23:15:01.380698Z"
    }
   },
   "outputs": [
    {
     "name": "stdout",
     "output_type": "stream",
     "text": [
      "\u001b[0m\u001b[01;34mbbn_orig\u001b[0m/  \u001b[01;34mtrans\u001b[0m/\r\n"
     ]
    }
   ],
   "source": [
    "%ls"
   ]
  },
  {
   "cell_type": "markdown",
   "metadata": {},
   "source": [
    "Here we can see that there are two representations of the Fisher Corpus Part 2."
   ]
  },
  {
   "cell_type": "markdown",
   "metadata": {},
   "source": [
    "## Main set of transcriptions"
   ]
  },
  {
   "cell_type": "code",
   "execution_count": 10,
   "metadata": {
    "ExecuteTime": {
     "end_time": "2019-04-15T23:15:01.498897Z",
     "start_time": "2019-04-15T23:15:01.494602Z"
    }
   },
   "outputs": [
    {
     "data": {
      "text/plain": [
       "'/mnt/truffle/corpora/fisher_english_transcripts/fe_03_p2_tran/data/trans'"
      ]
     },
     "execution_count": 10,
     "metadata": {},
     "output_type": "execute_result"
    }
   ],
   "source": [
    "os.chdir(os.path.join(fisher_dir, 'data' + '/' + 'trans'))\n",
    "os.getcwd()"
   ]
  },
  {
   "cell_type": "code",
   "execution_count": 11,
   "metadata": {
    "ExecuteTime": {
     "end_time": "2019-04-15T23:15:01.503921Z",
     "start_time": "2019-04-15T23:15:01.501623Z"
    }
   },
   "outputs": [],
   "source": [
    "main_data_dir = '/mnt/truffle/corpora/fisher_english_transcripts/fe_03_p2_tran/data/trans'"
   ]
  },
  {
   "cell_type": "code",
   "execution_count": 12,
   "metadata": {
    "ExecuteTime": {
     "end_time": "2019-04-15T23:15:01.629469Z",
     "start_time": "2019-04-15T23:15:01.507237Z"
    }
   },
   "outputs": [
    {
     "name": "stdout",
     "output_type": "stream",
     "text": [
      "\u001b[0m\u001b[01;34m058\u001b[0m/  \u001b[01;34m063\u001b[0m/  \u001b[01;34m068\u001b[0m/  \u001b[01;34m073\u001b[0m/  \u001b[01;34m078\u001b[0m/  \u001b[01;34m083\u001b[0m/  \u001b[01;34m088\u001b[0m/  \u001b[01;34m093\u001b[0m/  \u001b[01;34m098\u001b[0m/  \u001b[01;34m103\u001b[0m/  \u001b[01;34m108\u001b[0m/  \u001b[01;34m113\u001b[0m/\r\n",
      "\u001b[01;34m059\u001b[0m/  \u001b[01;34m064\u001b[0m/  \u001b[01;34m069\u001b[0m/  \u001b[01;34m074\u001b[0m/  \u001b[01;34m079\u001b[0m/  \u001b[01;34m084\u001b[0m/  \u001b[01;34m089\u001b[0m/  \u001b[01;34m094\u001b[0m/  \u001b[01;34m099\u001b[0m/  \u001b[01;34m104\u001b[0m/  \u001b[01;34m109\u001b[0m/  \u001b[01;34m114\u001b[0m/\r\n",
      "\u001b[01;34m060\u001b[0m/  \u001b[01;34m065\u001b[0m/  \u001b[01;34m070\u001b[0m/  \u001b[01;34m075\u001b[0m/  \u001b[01;34m080\u001b[0m/  \u001b[01;34m085\u001b[0m/  \u001b[01;34m090\u001b[0m/  \u001b[01;34m095\u001b[0m/  \u001b[01;34m100\u001b[0m/  \u001b[01;34m105\u001b[0m/  \u001b[01;34m110\u001b[0m/  \u001b[01;34m115\u001b[0m/\r\n",
      "\u001b[01;34m061\u001b[0m/  \u001b[01;34m066\u001b[0m/  \u001b[01;34m071\u001b[0m/  \u001b[01;34m076\u001b[0m/  \u001b[01;34m081\u001b[0m/  \u001b[01;34m086\u001b[0m/  \u001b[01;34m091\u001b[0m/  \u001b[01;34m096\u001b[0m/  \u001b[01;34m101\u001b[0m/  \u001b[01;34m106\u001b[0m/  \u001b[01;34m111\u001b[0m/  \u001b[01;34m116\u001b[0m/\r\n",
      "\u001b[01;34m062\u001b[0m/  \u001b[01;34m067\u001b[0m/  \u001b[01;34m072\u001b[0m/  \u001b[01;34m077\u001b[0m/  \u001b[01;34m082\u001b[0m/  \u001b[01;34m087\u001b[0m/  \u001b[01;34m092\u001b[0m/  \u001b[01;34m097\u001b[0m/  \u001b[01;34m102\u001b[0m/  \u001b[01;34m107\u001b[0m/  \u001b[01;34m112\u001b[0m/\r\n"
     ]
    }
   ],
   "source": [
    "%ls"
   ]
  },
  {
   "cell_type": "code",
   "execution_count": 13,
   "metadata": {
    "ExecuteTime": {
     "end_time": "2019-04-15T23:15:01.634306Z",
     "start_time": "2019-04-15T23:15:01.631348Z"
    }
   },
   "outputs": [],
   "source": [
    "trans_folders = os.listdir()"
   ]
  },
  {
   "cell_type": "code",
   "execution_count": 14,
   "metadata": {
    "ExecuteTime": {
     "end_time": "2019-04-15T23:15:01.640430Z",
     "start_time": "2019-04-15T23:15:01.635997Z"
    }
   },
   "outputs": [
    {
     "data": {
      "text/plain": [
       "'/mnt/truffle/corpora/fisher_english_transcripts/fe_03_p2_tran/data/trans/058'"
      ]
     },
     "execution_count": 14,
     "metadata": {},
     "output_type": "execute_result"
    }
   ],
   "source": [
    "os.chdir(os.path.join(main_data_dir, '058'))\n",
    "os.getcwd()"
   ]
  },
  {
   "cell_type": "code",
   "execution_count": 15,
   "metadata": {
    "ExecuteTime": {
     "end_time": "2019-04-15T23:15:01.758806Z",
     "start_time": "2019-04-15T23:15:01.641483Z"
    }
   },
   "outputs": [
    {
     "name": "stdout",
     "output_type": "stream",
     "text": [
      "\u001b[0m\u001b[01;32mfe_03_05851.txt\u001b[0m*  \u001b[01;32mfe_03_05864.txt\u001b[0m*  \u001b[01;32mfe_03_05877.txt\u001b[0m*  \u001b[01;32mfe_03_05890.txt\u001b[0m*\r\n",
      "\u001b[01;32mfe_03_05852.txt\u001b[0m*  \u001b[01;32mfe_03_05865.txt\u001b[0m*  \u001b[01;32mfe_03_05878.txt\u001b[0m*  \u001b[01;32mfe_03_05891.txt\u001b[0m*\r\n",
      "\u001b[01;32mfe_03_05853.txt\u001b[0m*  \u001b[01;32mfe_03_05866.txt\u001b[0m*  \u001b[01;32mfe_03_05879.txt\u001b[0m*  \u001b[01;32mfe_03_05892.txt\u001b[0m*\r\n",
      "\u001b[01;32mfe_03_05854.txt\u001b[0m*  \u001b[01;32mfe_03_05867.txt\u001b[0m*  \u001b[01;32mfe_03_05880.txt\u001b[0m*  \u001b[01;32mfe_03_05893.txt\u001b[0m*\r\n",
      "\u001b[01;32mfe_03_05855.txt\u001b[0m*  \u001b[01;32mfe_03_05868.txt\u001b[0m*  \u001b[01;32mfe_03_05881.txt\u001b[0m*  \u001b[01;32mfe_03_05894.txt\u001b[0m*\r\n",
      "\u001b[01;32mfe_03_05856.txt\u001b[0m*  \u001b[01;32mfe_03_05869.txt\u001b[0m*  \u001b[01;32mfe_03_05882.txt\u001b[0m*  \u001b[01;32mfe_03_05895.txt\u001b[0m*\r\n",
      "\u001b[01;32mfe_03_05857.txt\u001b[0m*  \u001b[01;32mfe_03_05870.txt\u001b[0m*  \u001b[01;32mfe_03_05883.txt\u001b[0m*  \u001b[01;32mfe_03_05896.txt\u001b[0m*\r\n",
      "\u001b[01;32mfe_03_05858.txt\u001b[0m*  \u001b[01;32mfe_03_05871.txt\u001b[0m*  \u001b[01;32mfe_03_05884.txt\u001b[0m*  \u001b[01;32mfe_03_05897.txt\u001b[0m*\r\n",
      "\u001b[01;32mfe_03_05859.txt\u001b[0m*  \u001b[01;32mfe_03_05872.txt\u001b[0m*  \u001b[01;32mfe_03_05885.txt\u001b[0m*  \u001b[01;32mfe_03_05898.txt\u001b[0m*\r\n",
      "\u001b[01;32mfe_03_05860.txt\u001b[0m*  \u001b[01;32mfe_03_05873.txt\u001b[0m*  \u001b[01;32mfe_03_05886.txt\u001b[0m*  \u001b[01;32mfe_03_05899.txt\u001b[0m*\r\n",
      "\u001b[01;32mfe_03_05861.txt\u001b[0m*  \u001b[01;32mfe_03_05874.txt\u001b[0m*  \u001b[01;32mfe_03_05887.txt\u001b[0m*\r\n",
      "\u001b[01;32mfe_03_05862.txt\u001b[0m*  \u001b[01;32mfe_03_05875.txt\u001b[0m*  \u001b[01;32mfe_03_05888.txt\u001b[0m*\r\n",
      "\u001b[01;32mfe_03_05863.txt\u001b[0m*  \u001b[01;32mfe_03_05876.txt\u001b[0m*  \u001b[01;32mfe_03_05889.txt\u001b[0m*\r\n"
     ]
    }
   ],
   "source": [
    "%ls"
   ]
  },
  {
   "cell_type": "code",
   "execution_count": 16,
   "metadata": {
    "ExecuteTime": {
     "end_time": "2019-04-15T23:15:01.763966Z",
     "start_time": "2019-04-15T23:15:01.760113Z"
    }
   },
   "outputs": [
    {
     "data": {
      "text/plain": [
       "'fe_03_05851.txt'"
      ]
     },
     "execution_count": 16,
     "metadata": {},
     "output_type": "execute_result"
    },
    {
     "data": {
      "text/plain": [
       "'05851'"
      ]
     },
     "execution_count": 16,
     "metadata": {},
     "output_type": "execute_result"
    }
   ],
   "source": [
    "os.listdir()[0]\n",
    "os.listdir()[0][6:11]"
   ]
  },
  {
   "cell_type": "code",
   "execution_count": 17,
   "metadata": {
    "ExecuteTime": {
     "end_time": "2019-04-15T23:15:01.875568Z",
     "start_time": "2019-04-15T23:15:01.764908Z"
    }
   },
   "outputs": [
    {
     "name": "stdout",
     "output_type": "stream",
     "text": [
      "     1\t# fe_03_05851.sph\r\n",
      "     2\t# Transcribed at the LDC\r\n",
      "     3\t\r\n",
      "     4\t56.38 61.03 A: i mean no money is very important definitely and a million dollars is a dream come true for me i mean \r\n",
      "     5\t\r\n",
      "     6\t61.19 64.71 A: i can actually imagine the kind of things i can buy \r\n",
      "     7\t\r\n",
      "     8\t64.41 65.38 B: yeah \r\n",
      "     9\t\r\n",
      "    10\t65.57 69.14 A: travel and do whatever i want to in life but then again \r\n",
      "    11\t\r\n",
      "    12\t69.61 70.13 A: i just \r\n",
      "    13\t\r\n",
      "    14\t70.25 73.34 A: can't i mean stop talking to my best friend that's like \r\n",
      "    15\t\r\n",
      "    16\t73.54 76.25 A: i can't do that i mean i've been so close to her \r\n",
      "    17\t\r\n",
      "    18\t76.52 78.31 A: she has been my friend since my school days \r\n",
      "    19\t\r\n",
      "    20\t79.01 81.04 A: so i share almost everything with her \r\n",
      "    21\t\r\n",
      "    22\t81.15 81.91 B: mhm th- \r\n",
      "    23\t\r\n",
      "    24\t81.36 85.99 A: whatever problems whatever successes that i've faced in life i mean everything i have to share with her \r\n",
      "    25\t\r\n",
      "    26\t86.36 89.54 B: and they know so much about you and \r\n",
      "    27\t\r\n",
      "    28\t87.81 89.13 A: yeah i know \r\n",
      "    29\t\r\n",
      "    30\t90.29 92.75 A: everything i mean any little problem any little \r\n",
      "    31\t\r\n",
      "    32\t92.98 95.78 A: thing that you have in your life you can always go and talk to her about it \r\n",
      "    33\t\r\n",
      "    34\t95.97 96.50 B: mhm \r\n",
      "    35\t\r\n",
      "    36\t96.55 101.84 A: really nice it really feels nice you know you can share your burdens with her your joys with her your sorrows with her \r\n",
      "    37\t\r\n",
      "    38\t103.75 107.05 A: seriously money is definitely important but th- but then \r\n",
      "    39\t\r\n",
      "    40\t106.55 108.89 B: i don't think its that important right \r\n",
      "    41\t\r\n",
      "    42\t108.17 108.87 A: mhm \r\n",
      "    43\t\r\n",
      "    44\t109.24 111.54 A: not to sacrifice a friendship for it right \r\n",
      "    45\t\r\n",
      "    46\t111.58 112.17 B: mhm \r\n",
      "    47\t\r\n",
      "    48\t112.27 113.36 A: you can't do that \r\n",
      "    49\t\r\n",
      "    50\t113.43 116.05 B: does your best friend d- does she live close by \r\n",
      "    51\t\r\n",
      "    52\t116.33 119.01 A: mhm she's actually in india and i'm from india \r\n",
      "    53\t\r\n",
      "    54\t119.47 119.83 B: uh-huh \r\n",
      "    55\t\r\n",
      "    56\t119.47 123.07 A: i just came here last year but we're still in touch through mail li- \r\n",
      "    57\t\r\n",
      "    58\t121.08 121.51 B: oh \r\n",
      "    59\t\r\n",
      "    60\t123.19 125.13 A: call her on and off once in while but \r\n"
     ]
    }
   ],
   "source": [
    "%cat -n fe_03_05851.txt | head -60"
   ]
  },
  {
   "cell_type": "markdown",
   "metadata": {},
   "source": [
    "Per the documentation, each five digit number before the file extension is a unique call id."
   ]
  },
  {
   "cell_type": "markdown",
   "metadata": {},
   "source": [
    "### Organizing call transcription files, a unique call ID, and call transcription file location"
   ]
  },
  {
   "cell_type": "markdown",
   "metadata": {},
   "source": [
    "**Let's create a relation between filename, call id, and location.**"
   ]
  },
  {
   "cell_type": "code",
   "execution_count": 18,
   "metadata": {
    "ExecuteTime": {
     "end_time": "2019-04-15T23:15:01.879134Z",
     "start_time": "2019-04-15T23:15:01.876642Z"
    }
   },
   "outputs": [
    {
     "data": {
      "text/plain": [
       "'/mnt/truffle/corpora/fisher_english_transcripts/fe_03_p2_tran/data/trans/058/fe_03_05851.txt'"
      ]
     },
     "execution_count": 18,
     "metadata": {},
     "output_type": "execute_result"
    }
   ],
   "source": [
    "os.path.join(main_data_dir, '058' + '/' + 'fe_03_05851.txt')"
   ]
  },
  {
   "cell_type": "code",
   "execution_count": 19,
   "metadata": {
    "ExecuteTime": {
     "end_time": "2019-04-15T23:15:01.884660Z",
     "start_time": "2019-04-15T23:15:01.879972Z"
    }
   },
   "outputs": [],
   "source": [
    "def filenameToRelation_orig(fn, curr_dir):\n",
    "    return {'filename':fn,\n",
    "            'call_id':fn[6:11],\n",
    "            'location':os.path.join(main_data_dir, curr_dir + '/' + fn)}"
   ]
  },
  {
   "cell_type": "code",
   "execution_count": 46,
   "metadata": {
    "ExecuteTime": {
     "end_time": "2019-04-15T23:15:46.797941Z",
     "start_time": "2019-04-15T23:15:46.794030Z"
    }
   },
   "outputs": [
    {
     "data": {
      "text/plain": [
       "'/mnt/truffle/corpora/fisher_english_transcripts/fe_03_p2_tran/data/trans'"
      ]
     },
     "execution_count": 46,
     "metadata": {},
     "output_type": "execute_result"
    }
   ],
   "source": [
    "os.chdir(main_data_dir)\n",
    "os.getcwd()"
   ]
  },
  {
   "cell_type": "code",
   "execution_count": 47,
   "metadata": {
    "ExecuteTime": {
     "end_time": "2019-04-15T23:15:48.228240Z",
     "start_time": "2019-04-15T23:15:48.188890Z"
    }
   },
   "outputs": [],
   "source": [
    "main_call_relation = []\n",
    "for folder in trans_folders:\n",
    "    os.chdir(folder)\n",
    "    for file in os.listdir():\n",
    "        main_call_relation.append(filenameToRelation_orig(file, folder))\n",
    "    os.chdir('..')"
   ]
  },
  {
   "cell_type": "code",
   "execution_count": 48,
   "metadata": {
    "ExecuteTime": {
     "end_time": "2019-04-15T23:15:48.946482Z",
     "start_time": "2019-04-15T23:15:48.943576Z"
    }
   },
   "outputs": [
    {
     "data": {
      "text/plain": [
       "[{'filename': 'fe_03_05851.txt',\n",
       "  'call_id': '05851',\n",
       "  'location': '/mnt/truffle/corpora/fisher_english_transcripts/fe_03_p2_tran/data/trans/058/fe_03_05851.txt'},\n",
       " {'filename': 'fe_03_05852.txt',\n",
       "  'call_id': '05852',\n",
       "  'location': '/mnt/truffle/corpora/fisher_english_transcripts/fe_03_p2_tran/data/trans/058/fe_03_05852.txt'},\n",
       " {'filename': 'fe_03_05853.txt',\n",
       "  'call_id': '05853',\n",
       "  'location': '/mnt/truffle/corpora/fisher_english_transcripts/fe_03_p2_tran/data/trans/058/fe_03_05853.txt'}]"
      ]
     },
     "execution_count": 48,
     "metadata": {},
     "output_type": "execute_result"
    }
   ],
   "source": [
    "main_call_relation[:3]"
   ]
  },
  {
   "cell_type": "markdown",
   "metadata": {},
   "source": [
    "### Organizing transcriptions of each call"
   ]
  },
  {
   "cell_type": "markdown",
   "metadata": {},
   "source": [
    "Each line of a transcribed call file is either\n",
    " - a comment (prefixed with `#`), only ever appearing in the top two lines of the file\n",
    " - blank\n",
    " - or a transcription line.\n",
    "\n",
    "A transcription line consists of\n",
    " - a two decimal point float indicating the time of the start of the transcribed speech in the line\n",
    " - a two decimal point float indicating the time of the end of the transcribed speech in the line\n",
    " - two characters indicating which of two speakers produced the transcribed speech in the line\n",
    " - a sequence of transcribed speech wordforms (all lowercase)\n",
    "\n",
    "Each of these elements is separated from the other by a space.\n",
    "\n",
    "Transcribed wordform sequences that transcribers were unsure of what exactly was said are surrounded by double parentheses, with the transcriber's best guess (if any) inside the parentheses e.g. \n",
    "  - `295.11 298.23 A: (( no way )) money can be substituted for her no way`\n",
    "  - `335.99 341.73 B: (( )) on friday and i have to work it's my last day with them i teach preschool so`"
   ]
  },
  {
   "cell_type": "code",
   "execution_count": 49,
   "metadata": {
    "ExecuteTime": {
     "end_time": "2019-04-15T23:15:52.508652Z",
     "start_time": "2019-04-15T23:15:52.395958Z"
    }
   },
   "outputs": [
    {
     "name": "stdout",
     "output_type": "stream",
     "text": [
      "     1\t# fe_03_05851.sph\r\n",
      "     2\t# Transcribed at the LDC\r\n",
      "     3\t\r\n",
      "     4\t56.38 61.03 A: i mean no money is very important definitely and a million dollars is a dream come true for me i mean \r\n",
      "     5\t\r\n",
      "     6\t61.19 64.71 A: i can actually imagine the kind of things i can buy \r\n",
      "     7\t\r\n",
      "     8\t64.41 65.38 B: yeah \r\n",
      "     9\t\r\n",
      "    10\t65.57 69.14 A: travel and do whatever i want to in life but then again \r\n",
      "    11\t\r\n",
      "    12\t69.61 70.13 A: i just \r\n",
      "    13\t\r\n",
      "    14\t70.25 73.34 A: can't i mean stop talking to my best friend that's like \r\n",
      "    15\t\r\n",
      "    16\t73.54 76.25 A: i can't do that i mean i've been so close to her \r\n",
      "    17\t\r\n",
      "    18\t76.52 78.31 A: she has been my friend since my school days \r\n",
      "    19\t\r\n",
      "    20\t79.01 81.04 A: so i share almost everything with her \r\n"
     ]
    }
   ],
   "source": [
    "%cat -n ./058/fe_03_05851.txt | head -20"
   ]
  },
  {
   "cell_type": "code",
   "execution_count": 50,
   "metadata": {
    "ExecuteTime": {
     "end_time": "2019-04-15T23:15:53.726710Z",
     "start_time": "2019-04-15T23:15:53.721537Z"
    }
   },
   "outputs": [],
   "source": [
    "def get_raw_transcription_lines(callfile_fn):\n",
    "    lines = []\n",
    "    with open(callfile_fn, 'r', encoding='latin-1') as the_file:\n",
    "        for line in the_file:\n",
    "            if line[0] != '#' and line.rstrip() != '':\n",
    "                lines.append(line.rstrip())\n",
    "    return lines"
   ]
  },
  {
   "cell_type": "code",
   "execution_count": 51,
   "metadata": {
    "ExecuteTime": {
     "end_time": "2019-04-15T23:15:54.247209Z",
     "start_time": "2019-04-15T23:15:54.241945Z"
    }
   },
   "outputs": [
    {
     "data": {
      "text/plain": [
       "['56.38 61.03 A: i mean no money is very important definitely and a million dollars is a dream come true for me i mean',\n",
       " '61.19 64.71 A: i can actually imagine the kind of things i can buy',\n",
       " '64.41 65.38 B: yeah',\n",
       " '65.57 69.14 A: travel and do whatever i want to in life but then again',\n",
       " '69.61 70.13 A: i just']"
      ]
     },
     "execution_count": 51,
     "metadata": {},
     "output_type": "execute_result"
    }
   ],
   "source": [
    "ls = get_raw_transcription_lines('./058/fe_03_05851.txt')\n",
    "ls[:5]"
   ]
  },
  {
   "cell_type": "code",
   "execution_count": 52,
   "metadata": {
    "ExecuteTime": {
     "end_time": "2019-04-15T23:15:54.759160Z",
     "start_time": "2019-04-15T23:15:54.755510Z"
    }
   },
   "outputs": [
    {
     "data": {
      "text/plain": [
       "4.65"
      ]
     },
     "execution_count": 52,
     "metadata": {},
     "output_type": "execute_result"
    }
   ],
   "source": [
    "round(4.649999999999999, 2)"
   ]
  },
  {
   "cell_type": "code",
   "execution_count": 53,
   "metadata": {
    "ExecuteTime": {
     "end_time": "2019-04-15T23:15:55.858280Z",
     "start_time": "2019-04-15T23:15:55.853915Z"
    }
   },
   "outputs": [],
   "source": [
    "def remove_double_parens(speech):\n",
    "    speech_wordform_seq = speech.split(' ')\n",
    "    filtered = [w for w in speech_wordform_seq if w != '((' and w != '))']\n",
    "    return ' '.join(filtered)"
   ]
  },
  {
   "cell_type": "code",
   "execution_count": 54,
   "metadata": {
    "ExecuteTime": {
     "end_time": "2019-04-15T23:15:56.279614Z",
     "start_time": "2019-04-15T23:15:56.274898Z"
    }
   },
   "outputs": [
    {
     "data": {
      "text/plain": [
       "'no way money can be substituted for her no way'"
      ]
     },
     "execution_count": 54,
     "metadata": {},
     "output_type": "execute_result"
    },
    {
     "data": {
      "text/plain": [
       "\"on friday and i have to work it's my last day with them i teach preschool so\""
      ]
     },
     "execution_count": 54,
     "metadata": {},
     "output_type": "execute_result"
    }
   ],
   "source": [
    "remove_double_parens('(( no way )) money can be substituted for her no way')\n",
    "remove_double_parens(\"(( )) on friday and i have to work it's my last day with them i teach preschool so\")"
   ]
  },
  {
   "cell_type": "code",
   "execution_count": 55,
   "metadata": {
    "ExecuteTime": {
     "end_time": "2019-04-15T23:15:56.957260Z",
     "start_time": "2019-04-15T23:15:56.953079Z"
    }
   },
   "outputs": [],
   "source": [
    "def parse_transcription_line(line):\n",
    "    parts = line.split(' ')\n",
    "    start = float(parts[0])\n",
    "    end = float(parts[1])\n",
    "    duration = round(end - start, 2)\n",
    "    speaker = parts[2][0]\n",
    "    speech_raw = ' '.join(parts[3:])\n",
    "    speech_no_parens = remove_double_parens(speech_raw)\n",
    "    line_relation = {'start':start,\n",
    "                     'end':end,\n",
    "                     'duration':duration,\n",
    "                     'speaker':speaker,\n",
    "                     'speech_raw':speech_raw,\n",
    "                     'speech':speech_no_parens}\n",
    "    return line_relation"
   ]
  },
  {
   "cell_type": "code",
   "execution_count": 56,
   "metadata": {
    "ExecuteTime": {
     "end_time": "2019-04-15T23:15:58.041549Z",
     "start_time": "2019-04-15T23:15:58.038393Z"
    }
   },
   "outputs": [
    {
     "data": {
      "text/plain": [
       "{'start': 56.38,\n",
       " 'end': 61.03,\n",
       " 'duration': 4.65,\n",
       " 'speaker': 'A',\n",
       " 'speech_raw': 'i mean no money is very important definitely and a million dollars is a dream come true for me i mean',\n",
       " 'speech': 'i mean no money is very important definitely and a million dollars is a dream come true for me i mean'}"
      ]
     },
     "execution_count": 56,
     "metadata": {},
     "output_type": "execute_result"
    }
   ],
   "source": [
    "parse_transcription_line(ls[0])"
   ]
  },
  {
   "cell_type": "code",
   "execution_count": 57,
   "metadata": {
    "ExecuteTime": {
     "end_time": "2019-04-15T23:15:58.456685Z",
     "start_time": "2019-04-15T23:15:58.452419Z"
    }
   },
   "outputs": [],
   "source": [
    "def get_transcriptions_main(call_id):\n",
    "    call_rel_match = [c for c in main_call_relation if c['call_id'] == call_id]\n",
    "    assert len(call_rel_match) == 1, 'No matching call with call_id = {0}'.format(call_id)\n",
    "    call_rel = call_rel_match[0]\n",
    "#     call_fn = call_rel['filename']\n",
    "    parsed_lines = [parse_transcription_line(l) \n",
    "                    for l in get_raw_transcription_lines(call_rel['location'])]\n",
    "    return parsed_lines"
   ]
  },
  {
   "cell_type": "code",
   "execution_count": 58,
   "metadata": {
    "ExecuteTime": {
     "end_time": "2019-04-15T23:15:58.990834Z",
     "start_time": "2019-04-15T23:15:58.985546Z"
    }
   },
   "outputs": [
    {
     "data": {
      "text/plain": [
       "[{'start': 56.38,\n",
       "  'end': 61.03,\n",
       "  'duration': 4.65,\n",
       "  'speaker': 'A',\n",
       "  'speech_raw': 'i mean no money is very important definitely and a million dollars is a dream come true for me i mean',\n",
       "  'speech': 'i mean no money is very important definitely and a million dollars is a dream come true for me i mean'},\n",
       " {'start': 61.19,\n",
       "  'end': 64.71,\n",
       "  'duration': 3.52,\n",
       "  'speaker': 'A',\n",
       "  'speech_raw': 'i can actually imagine the kind of things i can buy',\n",
       "  'speech': 'i can actually imagine the kind of things i can buy'},\n",
       " {'start': 64.41,\n",
       "  'end': 65.38,\n",
       "  'duration': 0.97,\n",
       "  'speaker': 'B',\n",
       "  'speech_raw': 'yeah',\n",
       "  'speech': 'yeah'}]"
      ]
     },
     "execution_count": 58,
     "metadata": {},
     "output_type": "execute_result"
    }
   ],
   "source": [
    "get_transcriptions_main('05851')[:3]"
   ]
  },
  {
   "cell_type": "markdown",
   "metadata": {},
   "source": [
    "### Some summary / sanity-checking statistics"
   ]
  },
  {
   "cell_type": "markdown",
   "metadata": {},
   "source": [
    "How many calls are in the main transcripts?"
   ]
  },
  {
   "cell_type": "code",
   "execution_count": 59,
   "metadata": {
    "ExecuteTime": {
     "end_time": "2019-04-15T23:16:01.132985Z",
     "start_time": "2019-04-15T23:16:01.129207Z"
    }
   },
   "outputs": [
    {
     "data": {
      "text/plain": [
       "5849"
      ]
     },
     "execution_count": 59,
     "metadata": {},
     "output_type": "execute_result"
    }
   ],
   "source": [
    "call_ids = [c['call_id'] for c in main_call_relation]\n",
    "len(call_ids)"
   ]
  },
  {
   "cell_type": "markdown",
   "metadata": {},
   "source": [
    "How many word tokens are in the main transcripts?"
   ]
  },
  {
   "cell_type": "code",
   "execution_count": 60,
   "metadata": {
    "ExecuteTime": {
     "end_time": "2019-04-15T23:16:01.905686Z",
     "start_time": "2019-04-15T23:16:01.902123Z"
    }
   },
   "outputs": [],
   "source": [
    "def tokenize_speech_in_line(line_rel):\n",
    "    return line_rel['speech'].split(' ')\n",
    "\n",
    "def count_word_tokens_in_line(line_rel):\n",
    "    return len(tokenize_speech_in_line(line_rel))\n",
    "\n",
    "def count_word_tokens_in_call(call_id):\n",
    "    return sum([count_word_tokens_in_line(l) for l in get_transcriptions_main(call_id)])"
   ]
  },
  {
   "cell_type": "code",
   "execution_count": 61,
   "metadata": {
    "ExecuteTime": {
     "end_time": "2019-04-15T23:16:11.440066Z",
     "start_time": "2019-04-15T23:16:02.473609Z"
    }
   },
   "outputs": [
    {
     "data": {
      "text/plain": [
       "11035101"
      ]
     },
     "execution_count": 61,
     "metadata": {},
     "output_type": "execute_result"
    }
   ],
   "source": [
    "#9.9s on wittgenstein\n",
    "sum([count_word_tokens_in_call(call_id) for call_id in call_ids])"
   ]
  },
  {
   "cell_type": "markdown",
   "metadata": {},
   "source": [
    "How many word types are in the main transcripts?"
   ]
  },
  {
   "cell_type": "code",
   "execution_count": 62,
   "metadata": {
    "ExecuteTime": {
     "end_time": "2019-04-15T23:16:11.443911Z",
     "start_time": "2019-04-15T23:16:11.441503Z"
    }
   },
   "outputs": [],
   "source": [
    "from functools import reduce"
   ]
  },
  {
   "cell_type": "code",
   "execution_count": 63,
   "metadata": {
    "ExecuteTime": {
     "end_time": "2019-04-15T23:16:11.478518Z",
     "start_time": "2019-04-15T23:16:11.445569Z"
    }
   },
   "outputs": [
    {
     "data": {
      "text/plain": [
       "{0, 1, 2, 3}"
      ]
     },
     "execution_count": 63,
     "metadata": {},
     "output_type": "execute_result"
    }
   ],
   "source": [
    "union = lambda sets: reduce(set.union, sets)\n",
    "\n",
    "union([{0,1},{1,2},{3}])"
   ]
  },
  {
   "cell_type": "code",
   "execution_count": 64,
   "metadata": {
    "ExecuteTime": {
     "end_time": "2019-04-15T23:16:11.485218Z",
     "start_time": "2019-04-15T23:16:11.481652Z"
    }
   },
   "outputs": [],
   "source": [
    "def word_types_in_line(line_rel):\n",
    "    return set(tokenize_speech_in_line(line_rel))\n",
    "\n",
    "def word_types_in_call(call_id):\n",
    "    return union([word_types_in_line(l) for l in get_transcriptions_main(call_id)])"
   ]
  },
  {
   "cell_type": "code",
   "execution_count": 65,
   "metadata": {
    "ExecuteTime": {
     "end_time": "2019-04-15T23:16:32.200368Z",
     "start_time": "2019-04-15T23:16:11.487241Z"
    }
   },
   "outputs": [
    {
     "data": {
      "text/plain": [
       "48797"
      ]
     },
     "execution_count": 65,
     "metadata": {},
     "output_type": "execute_result"
    }
   ],
   "source": [
    "#20.0s on wittgenstein\n",
    "vocabulary_main = union([word_types_in_call(c) for c in call_ids])\n",
    "len(vocabulary_main)"
   ]
  },
  {
   "cell_type": "code",
   "execution_count": 66,
   "metadata": {
    "ExecuteTime": {
     "end_time": "2019-04-15T23:16:32.208586Z",
     "start_time": "2019-04-15T23:16:32.201745Z"
    }
   },
   "outputs": [
    {
     "data": {
      "text/plain": [
       "['',\n",
       " 'account',\n",
       " 'ardy',\n",
       " 'capacity',\n",
       " 'surveillance',\n",
       " 'merchantville',\n",
       " 'differing',\n",
       " 'jewel',\n",
       " 'deploy',\n",
       " 'schlocky',\n",
       " 'blather',\n",
       " 'extraordinary',\n",
       " 'allergy',\n",
       " \"he'd\",\n",
       " 'portrait',\n",
       " 'serbo',\n",
       " 'sarajevo',\n",
       " 'collar',\n",
       " 'rag',\n",
       " 'seeping',\n",
       " 'feasibility',\n",
       " 'kiki',\n",
       " 'genera-',\n",
       " 'during',\n",
       " 'mainly',\n",
       " 'dirges',\n",
       " 'georgeanne',\n",
       " 'tab',\n",
       " 'redux',\n",
       " 'comtrex',\n",
       " 'public-',\n",
       " 'escapologist',\n",
       " 'retrievers',\n",
       " 'limits',\n",
       " 'liveable',\n",
       " 'contempt',\n",
       " 'dressmaker',\n",
       " 'c._d._s.',\n",
       " 'refunded',\n",
       " 'logically',\n",
       " 'matures',\n",
       " 'heats',\n",
       " 'visions',\n",
       " 'exiled',\n",
       " 'colan',\n",
       " 'quan-',\n",
       " 'wakeman',\n",
       " 'marketplace',\n",
       " 'chintzy',\n",
       " 'skeleton',\n",
       " 'calter',\n",
       " 'wherev-',\n",
       " 'r._e._i.',\n",
       " 'inventories',\n",
       " \"region's\",\n",
       " 'chris-',\n",
       " 'trickling',\n",
       " 'weedner',\n",
       " 'streaks',\n",
       " 'gauging',\n",
       " 'cleverly',\n",
       " 'it',\n",
       " 'surround',\n",
       " 'forbidden',\n",
       " 'supplier',\n",
       " 'davy',\n",
       " 'jinks',\n",
       " 'kudlow',\n",
       " 'informant',\n",
       " \"scott's\",\n",
       " 'forks',\n",
       " 'shivering',\n",
       " 'butterworth',\n",
       " 'profit',\n",
       " 'all?',\n",
       " 'amazes',\n",
       " 'trickster',\n",
       " 'reign',\n",
       " 'expl-',\n",
       " 'dong',\n",
       " 'existentialism',\n",
       " \"teriyaki's\",\n",
       " \"clown's\",\n",
       " \"powell's\",\n",
       " 'paper-',\n",
       " 'desensitizing',\n",
       " \"michigan's\",\n",
       " 'fireworks',\n",
       " 'shaqs',\n",
       " 'cherishing',\n",
       " 'yappier',\n",
       " 'scumbag',\n",
       " 'khyber',\n",
       " 'wagner',\n",
       " 'ways',\n",
       " 'dee-',\n",
       " 'retrenching',\n",
       " 'novels',\n",
       " 'nudging',\n",
       " 'satisfied']"
      ]
     },
     "execution_count": 66,
     "metadata": {},
     "output_type": "execute_result"
    }
   ],
   "source": [
    "list(vocabulary_main)[:100]"
   ]
  },
  {
   "cell_type": "code",
   "execution_count": 67,
   "metadata": {
    "ExecuteTime": {
     "end_time": "2019-04-15T23:16:37.818586Z",
     "start_time": "2019-04-15T23:16:32.210168Z"
    }
   },
   "outputs": [],
   "source": [
    "%%capture\n",
    "#cell magic above suppresses useless output of file.write\n",
    "\n",
    "vocabulary_main_fn = 'fisher_vocabulary_main.txt'\n",
    "\n",
    "vocabulary_main_fp = os.path.join(repo_dir, vocabulary_main_fn)\n",
    "\n",
    "#5.29s on wittgenstein\n",
    "with open(vocabulary_main_fp, 'w') as file:\n",
    "    for w in vocabulary_main:\n",
    "        file.write(\"{0}\\n\".format(w));"
   ]
  },
  {
   "cell_type": "code",
   "execution_count": 68,
   "metadata": {
    "ExecuteTime": {
     "end_time": "2019-04-15T23:16:37.942418Z",
     "start_time": "2019-04-15T23:16:37.819963Z"
    }
   },
   "outputs": [
    {
     "name": "stdout",
     "output_type": "stream",
     "text": [
      "     1\t\r\n",
      "     2\taccount\r\n",
      "     3\tardy\r\n",
      "     4\tcapacity\r\n",
      "     5\tsurveillance\r\n",
      "     6\tmerchantville\r\n",
      "     7\tdiffering\r\n",
      "     8\tjewel\r\n",
      "     9\tdeploy\r\n",
      "    10\tschlocky\r\n",
      "    11\tblather\r\n",
      "    12\textraordinary\r\n",
      "    13\tallergy\r\n",
      "    14\the'd\r\n",
      "    15\tportrait\r\n",
      "    16\tserbo\r\n",
      "    17\tsarajevo\r\n",
      "    18\tcollar\r\n",
      "    19\trag\r\n",
      "    20\tseeping\r\n",
      "cat: write error: Broken pipe\r\n"
     ]
    }
   ],
   "source": [
    "%cat -n /mnt/cube/home/AD/emeinhar/fisher-lm/fisher_vocabulary_main.txt | head -20"
   ]
  },
  {
   "cell_type": "code",
   "execution_count": 69,
   "metadata": {
    "ExecuteTime": {
     "end_time": "2019-04-15T23:16:37.949705Z",
     "start_time": "2019-04-15T23:16:37.945001Z"
    }
   },
   "outputs": [
    {
     "data": {
      "text/plain": [
       "'/mnt/truffle/corpora/fisher_english_transcripts/fe_03_p2_tran/data/trans'"
      ]
     },
     "execution_count": 69,
     "metadata": {},
     "output_type": "execute_result"
    }
   ],
   "source": [
    "os.getcwd()"
   ]
  },
  {
   "cell_type": "markdown",
   "metadata": {},
   "source": [
    "### Naive utterance sequence"
   ]
  },
  {
   "cell_type": "code",
   "execution_count": 70,
   "metadata": {
    "ExecuteTime": {
     "end_time": "2019-04-15T23:16:37.956327Z",
     "start_time": "2019-04-15T23:16:37.953373Z"
    }
   },
   "outputs": [],
   "source": [
    "def get_utterances_from_call(call_id):\n",
    "    return [l['speech'] for l in get_transcriptions_main(call_id)]"
   ]
  },
  {
   "cell_type": "code",
   "execution_count": 71,
   "metadata": {
    "ExecuteTime": {
     "end_time": "2019-04-15T23:16:37.962070Z",
     "start_time": "2019-04-15T23:16:37.958759Z"
    }
   },
   "outputs": [
    {
     "data": {
      "text/plain": [
       "'05851'"
      ]
     },
     "execution_count": 71,
     "metadata": {},
     "output_type": "execute_result"
    }
   ],
   "source": [
    "call_ids[0]"
   ]
  },
  {
   "cell_type": "code",
   "execution_count": 72,
   "metadata": {
    "ExecuteTime": {
     "end_time": "2019-04-15T23:16:37.968978Z",
     "start_time": "2019-04-15T23:16:37.963362Z"
    }
   },
   "outputs": [
    {
     "data": {
      "text/plain": [
       "['i mean no money is very important definitely and a million dollars is a dream come true for me i mean',\n",
       " 'i can actually imagine the kind of things i can buy',\n",
       " 'yeah',\n",
       " 'travel and do whatever i want to in life but then again',\n",
       " 'i just',\n",
       " \"can't i mean stop talking to my best friend that's like\",\n",
       " \"i can't do that i mean i've been so close to her\",\n",
       " 'she has been my friend since my school days',\n",
       " 'so i share almost everything with her',\n",
       " 'mhm th-']"
      ]
     },
     "execution_count": 72,
     "metadata": {},
     "output_type": "execute_result"
    }
   ],
   "source": [
    "get_utterances_from_call('05851')[:10]"
   ]
  },
  {
   "cell_type": "code",
   "execution_count": 73,
   "metadata": {
    "ExecuteTime": {
     "end_time": "2019-04-15T23:16:47.038641Z",
     "start_time": "2019-04-15T23:16:37.970495Z"
    }
   },
   "outputs": [
    {
     "data": {
      "text/plain": [
       "1113586"
      ]
     },
     "execution_count": 73,
     "metadata": {},
     "output_type": "execute_result"
    }
   ],
   "source": [
    "#9.2s on wittgenstein\n",
    "utterances_main = []\n",
    "for c in call_ids:\n",
    "    utterances_main.extend( get_utterances_from_call(c) )\n",
    "len(utterances_main)"
   ]
  },
  {
   "cell_type": "code",
   "execution_count": 74,
   "metadata": {
    "ExecuteTime": {
     "end_time": "2019-04-15T23:16:47.044873Z",
     "start_time": "2019-04-15T23:16:47.040816Z"
    }
   },
   "outputs": [
    {
     "data": {
      "text/plain": [
       "'i mean no money is very important definitely and a million dollars is a dream come true for me i mean'"
      ]
     },
     "execution_count": 74,
     "metadata": {},
     "output_type": "execute_result"
    }
   ],
   "source": [
    "utterances_main[0]"
   ]
  },
  {
   "cell_type": "code",
   "execution_count": 75,
   "metadata": {
    "ExecuteTime": {
     "end_time": "2019-04-15T23:16:47.105460Z",
     "start_time": "2019-04-15T23:16:47.046896Z"
    }
   },
   "outputs": [
    {
     "data": {
      "text/plain": [
       "'/mnt/truffle/corpora/fisher_english_transcripts/fe_03_p2_tran/data/trans'"
      ]
     },
     "execution_count": 75,
     "metadata": {},
     "output_type": "execute_result"
    }
   ],
   "source": [
    "%pwd"
   ]
  },
  {
   "cell_type": "code",
   "execution_count": 76,
   "metadata": {
    "ExecuteTime": {
     "end_time": "2019-04-15T23:16:47.110886Z",
     "start_time": "2019-04-15T23:16:47.107206Z"
    }
   },
   "outputs": [
    {
     "data": {
      "text/plain": [
       "'/mnt/cube/home/AD/emeinhar/fisher-lm'"
      ]
     },
     "execution_count": 76,
     "metadata": {},
     "output_type": "execute_result"
    }
   ],
   "source": [
    "repo_dir"
   ]
  },
  {
   "cell_type": "code",
   "execution_count": 77,
   "metadata": {
    "ExecuteTime": {
     "end_time": "2019-04-15T23:18:52.493117Z",
     "start_time": "2019-04-15T23:16:47.112650Z"
    }
   },
   "outputs": [],
   "source": [
    "%%capture\n",
    "#cell magic above suppresses useless output of file.write\n",
    "\n",
    "fisher_utterances_main_fn = 'fisher_utterances_main.txt'\n",
    "\n",
    "fisher_utterances_main_path = os.path.join(repo_dir, fisher_utterances_main_fn)\n",
    "\n",
    "#2m 2s on wittgenstein\n",
    "with open(fisher_utterances_main_path, 'w') as file:\n",
    "    for utterance in utterances_main:\n",
    "        file.write(\"{0}\\n\".format(utterance));"
   ]
  },
  {
   "cell_type": "code",
   "execution_count": 78,
   "metadata": {
    "ExecuteTime": {
     "end_time": "2019-04-15T23:18:52.621900Z",
     "start_time": "2019-04-15T23:18:52.494688Z"
    }
   },
   "outputs": [
    {
     "name": "stdout",
     "output_type": "stream",
     "text": [
      "     1\ti mean no money is very important definitely and a million dollars is a dream come true for me i mean\r\n",
      "     2\ti can actually imagine the kind of things i can buy\r\n",
      "     3\tyeah\r\n",
      "     4\ttravel and do whatever i want to in life but then again\r\n",
      "     5\ti just\r\n",
      "     6\tcan't i mean stop talking to my best friend that's like\r\n",
      "     7\ti can't do that i mean i've been so close to her\r\n",
      "     8\tshe has been my friend since my school days\r\n",
      "     9\tso i share almost everything with her\r\n",
      "    10\tmhm th-\r\n",
      "    11\twhatever problems whatever successes that i've faced in life i mean everything i have to share with her\r\n",
      "    12\tand they know so much about you and\r\n",
      "    13\tyeah i know\r\n",
      "    14\teverything i mean any little problem any little\r\n",
      "    15\tthing that you have in your life you can always go and talk to her about it\r\n",
      "    16\tmhm\r\n",
      "    17\treally nice it really feels nice you know you can share your burdens with her your joys with her your sorrows with her\r\n",
      "    18\tseriously money is definitely important but th- but then\r\n",
      "    19\ti don't think its that important right\r\n",
      "    20\tmhm\r\n",
      "cat: write error: Broken pipe\r\n"
     ]
    }
   ],
   "source": [
    "%cat -n /mnt/cube/home/AD/emeinhar/fisher-lm/fisher_utterances_main.txt | head -20"
   ]
  },
  {
   "cell_type": "markdown",
   "metadata": {},
   "source": [
    "### All transcriptions"
   ]
  },
  {
   "cell_type": "code",
   "execution_count": 79,
   "metadata": {
    "ExecuteTime": {
     "end_time": "2019-04-15T23:18:52.629362Z",
     "start_time": "2019-04-15T23:18:52.624543Z"
    }
   },
   "outputs": [
    {
     "data": {
      "text/plain": [
       "[{'filename': 'fe_03_05851.txt',\n",
       "  'call_id': '05851',\n",
       "  'location': '/mnt/truffle/corpora/fisher_english_transcripts/fe_03_p2_tran/data/trans/058/fe_03_05851.txt'},\n",
       " {'filename': 'fe_03_05852.txt',\n",
       "  'call_id': '05852',\n",
       "  'location': '/mnt/truffle/corpora/fisher_english_transcripts/fe_03_p2_tran/data/trans/058/fe_03_05852.txt'},\n",
       " {'filename': 'fe_03_05853.txt',\n",
       "  'call_id': '05853',\n",
       "  'location': '/mnt/truffle/corpora/fisher_english_transcripts/fe_03_p2_tran/data/trans/058/fe_03_05853.txt'}]"
      ]
     },
     "execution_count": 79,
     "metadata": {},
     "output_type": "execute_result"
    }
   ],
   "source": [
    "main_call_relation[:3]"
   ]
  },
  {
   "cell_type": "code",
   "execution_count": 80,
   "metadata": {
    "ExecuteTime": {
     "end_time": "2019-04-15T23:18:52.635419Z",
     "start_time": "2019-04-15T23:18:52.631057Z"
    }
   },
   "outputs": [
    {
     "data": {
      "text/plain": [
       "'05851'"
      ]
     },
     "execution_count": 80,
     "metadata": {},
     "output_type": "execute_result"
    }
   ],
   "source": [
    "call_ids[0]"
   ]
  },
  {
   "cell_type": "code",
   "execution_count": 81,
   "metadata": {
    "ExecuteTime": {
     "end_time": "2019-04-15T23:18:52.649734Z",
     "start_time": "2019-04-15T23:18:52.636982Z"
    }
   },
   "outputs": [
    {
     "data": {
      "text/plain": [
       "[{'start': 56.38,\n",
       "  'end': 61.03,\n",
       "  'duration': 4.65,\n",
       "  'speaker': 'A',\n",
       "  'speech_raw': 'i mean no money is very important definitely and a million dollars is a dream come true for me i mean',\n",
       "  'speech': 'i mean no money is very important definitely and a million dollars is a dream come true for me i mean'},\n",
       " {'start': 61.19,\n",
       "  'end': 64.71,\n",
       "  'duration': 3.52,\n",
       "  'speaker': 'A',\n",
       "  'speech_raw': 'i can actually imagine the kind of things i can buy',\n",
       "  'speech': 'i can actually imagine the kind of things i can buy'},\n",
       " {'start': 64.41,\n",
       "  'end': 65.38,\n",
       "  'duration': 0.97,\n",
       "  'speaker': 'B',\n",
       "  'speech_raw': 'yeah',\n",
       "  'speech': 'yeah'}]"
      ]
     },
     "execution_count": 81,
     "metadata": {},
     "output_type": "execute_result"
    }
   ],
   "source": [
    "get_transcriptions_main('05851')[:3]"
   ]
  },
  {
   "cell_type": "code",
   "execution_count": 82,
   "metadata": {
    "ExecuteTime": {
     "end_time": "2019-04-15T23:18:52.657868Z",
     "start_time": "2019-04-15T23:18:52.651770Z"
    }
   },
   "outputs": [],
   "source": [
    "def dictionary_product(dictA, dictB):\n",
    "    '''\n",
    "    Given two dictionaries dictA and dictB, this non-statefully \n",
    "    creates a 'merged' dictionary.\n",
    "    \n",
    "    Note that dictA and dictB must either have disjoint keys,\n",
    "    or every key they share must map to the same value.\n",
    "    '''\n",
    "    keys_A = set(dictA.keys())\n",
    "    keys_B = set(dictB.keys())\n",
    "    common_keys = set(keys_A) & set(keys_B)\n",
    "    conflicting_common_keys = {k for k in common_keys if dictA[k] != dictB[k]}\n",
    "    assert conflicting_common_keys == set(), 'The dictionaries must have either zero common keys, or all common keys must map to the same value. Conflicting common keys: {0}'.format(conflicting_common_keys)\n",
    "#     assert common_keys == set(), 'The dictionaries must have no common keys. They share {0}'.format(common_keys)\n",
    "    \n",
    "    dictC = dict()\n",
    "    dictC.update({k:dictA[k] for k in keys_A})\n",
    "    dictC.update({k:dictB[k] for k in keys_B})\n",
    "    return dictC"
   ]
  },
  {
   "cell_type": "code",
   "execution_count": 83,
   "metadata": {
    "ExecuteTime": {
     "end_time": "2019-04-15T23:18:52.664594Z",
     "start_time": "2019-04-15T23:18:52.659207Z"
    }
   },
   "outputs": [
    {
     "data": {
      "text/plain": [
       "{'filename': 'fe_03_05851.txt',\n",
       " 'call_id': '05851',\n",
       " 'location': '/mnt/truffle/corpora/fisher_english_transcripts/fe_03_p2_tran/data/trans/058/fe_03_05851.txt'}"
      ]
     },
     "execution_count": 83,
     "metadata": {},
     "output_type": "execute_result"
    }
   ],
   "source": [
    "main_call_relation[0]"
   ]
  },
  {
   "cell_type": "code",
   "execution_count": 84,
   "metadata": {
    "ExecuteTime": {
     "end_time": "2019-04-15T23:19:05.011761Z",
     "start_time": "2019-04-15T23:18:52.665808Z"
    }
   },
   "outputs": [],
   "source": [
    "main_transcription_relation = []\n",
    "\n",
    "for call_relation in main_call_relation:\n",
    "    for transcription_relation in get_transcriptions_main(call_relation['call_id']):\n",
    "        new_transcription_rel = dictionary_product(transcription_relation, call_relation)\n",
    "        main_transcription_relation.append(new_transcription_rel)"
   ]
  },
  {
   "cell_type": "code",
   "execution_count": 85,
   "metadata": {
    "ExecuteTime": {
     "end_time": "2019-04-15T23:19:05.016468Z",
     "start_time": "2019-04-15T23:19:05.013237Z"
    }
   },
   "outputs": [
    {
     "data": {
      "text/plain": [
       "1113586"
      ]
     },
     "execution_count": 85,
     "metadata": {},
     "output_type": "execute_result"
    }
   ],
   "source": [
    "len(main_transcription_relation)"
   ]
  },
  {
   "cell_type": "code",
   "execution_count": 86,
   "metadata": {
    "ExecuteTime": {
     "end_time": "2019-04-15T23:19:05.023321Z",
     "start_time": "2019-04-15T23:19:05.018250Z"
    }
   },
   "outputs": [
    {
     "data": {
      "text/plain": [
       "[{'speaker': 'A',\n",
       "  'speech': 'i mean no money is very important definitely and a million dollars is a dream come true for me i mean',\n",
       "  'start': 56.38,\n",
       "  'end': 61.03,\n",
       "  'duration': 4.65,\n",
       "  'speech_raw': 'i mean no money is very important definitely and a million dollars is a dream come true for me i mean',\n",
       "  'call_id': '05851',\n",
       "  'filename': 'fe_03_05851.txt',\n",
       "  'location': '/mnt/truffle/corpora/fisher_english_transcripts/fe_03_p2_tran/data/trans/058/fe_03_05851.txt'},\n",
       " {'speaker': 'A',\n",
       "  'speech': 'i can actually imagine the kind of things i can buy',\n",
       "  'start': 61.19,\n",
       "  'end': 64.71,\n",
       "  'duration': 3.52,\n",
       "  'speech_raw': 'i can actually imagine the kind of things i can buy',\n",
       "  'call_id': '05851',\n",
       "  'filename': 'fe_03_05851.txt',\n",
       "  'location': '/mnt/truffle/corpora/fisher_english_transcripts/fe_03_p2_tran/data/trans/058/fe_03_05851.txt'},\n",
       " {'speaker': 'B',\n",
       "  'speech': 'yeah',\n",
       "  'start': 64.41,\n",
       "  'end': 65.38,\n",
       "  'duration': 0.97,\n",
       "  'speech_raw': 'yeah',\n",
       "  'call_id': '05851',\n",
       "  'filename': 'fe_03_05851.txt',\n",
       "  'location': '/mnt/truffle/corpora/fisher_english_transcripts/fe_03_p2_tran/data/trans/058/fe_03_05851.txt'},\n",
       " {'speaker': 'A',\n",
       "  'speech': 'travel and do whatever i want to in life but then again',\n",
       "  'start': 65.57,\n",
       "  'end': 69.14,\n",
       "  'duration': 3.57,\n",
       "  'speech_raw': 'travel and do whatever i want to in life but then again',\n",
       "  'call_id': '05851',\n",
       "  'filename': 'fe_03_05851.txt',\n",
       "  'location': '/mnt/truffle/corpora/fisher_english_transcripts/fe_03_p2_tran/data/trans/058/fe_03_05851.txt'},\n",
       " {'speaker': 'A',\n",
       "  'speech': 'i just',\n",
       "  'start': 69.61,\n",
       "  'end': 70.13,\n",
       "  'duration': 0.52,\n",
       "  'speech_raw': 'i just',\n",
       "  'call_id': '05851',\n",
       "  'filename': 'fe_03_05851.txt',\n",
       "  'location': '/mnt/truffle/corpora/fisher_english_transcripts/fe_03_p2_tran/data/trans/058/fe_03_05851.txt'}]"
      ]
     },
     "execution_count": 86,
     "metadata": {},
     "output_type": "execute_result"
    }
   ],
   "source": [
    "main_transcription_relation[:5]"
   ]
  },
  {
   "cell_type": "code",
   "execution_count": 87,
   "metadata": {
    "ExecuteTime": {
     "end_time": "2019-04-15T23:19:27.132459Z",
     "start_time": "2019-04-15T23:19:05.025015Z"
    }
   },
   "outputs": [],
   "source": [
    "import json\n",
    "\n",
    "fisher_utterances_relation_main_fn = 'fisher_utterances_relation_main.json'\n",
    "\n",
    "fisher_utterances_relation_main_path = os.path.join(repo_dir, fisher_utterances_relation_main_fn)\n",
    "\n",
    "#22.2s on wittgenstein\n",
    "with open(fisher_utterances_relation_main_path, 'w', encoding='utf8') as json_file:\n",
    "    json.dump(main_transcription_relation, json_file, indent=1, ensure_ascii=False)"
   ]
  },
  {
   "cell_type": "code",
   "execution_count": 88,
   "metadata": {
    "ExecuteTime": {
     "end_time": "2019-04-15T23:19:27.290793Z",
     "start_time": "2019-04-15T23:19:27.134650Z"
    }
   },
   "outputs": [
    {
     "name": "stdout",
     "output_type": "stream",
     "text": [
      "     1\t[\r\n",
      "     2\t {\r\n",
      "     3\t  \"speaker\": \"A\",\r\n",
      "     4\t  \"speech\": \"i mean no money is very important definitely and a million dollars is a dream come true for me i mean\",\r\n",
      "     5\t  \"start\": 56.38,\r\n",
      "     6\t  \"end\": 61.03,\r\n",
      "     7\t  \"duration\": 4.65,\r\n",
      "     8\t  \"speech_raw\": \"i mean no money is very important definitely and a million dollars is a dream come true for me i mean\",\r\n",
      "     9\t  \"call_id\": \"05851\",\r\n",
      "    10\t  \"filename\": \"fe_03_05851.txt\",\r\n",
      "    11\t  \"location\": \"/mnt/truffle/corpora/fisher_english_transcripts/fe_03_p2_tran/data/trans/058/fe_03_05851.txt\"\r\n",
      "    12\t },\r\n",
      "    13\t {\r\n",
      "    14\t  \"speaker\": \"A\",\r\n",
      "    15\t  \"speech\": \"i can actually imagine the kind of things i can buy\",\r\n",
      "    16\t  \"start\": 61.19,\r\n",
      "    17\t  \"end\": 64.71,\r\n",
      "    18\t  \"duration\": 3.52,\r\n",
      "    19\t  \"speech_raw\": \"i can actually imagine the kind of things i can buy\",\r\n",
      "    20\t  \"call_id\": \"05851\",\r\n",
      "cat: write error: Broken pipe\r\n"
     ]
    }
   ],
   "source": [
    "%cat -n /mnt/cube/home/AD/emeinhar/fisher-lm/fisher_utterances_relation_main.json | head -20"
   ]
  },
  {
   "cell_type": "markdown",
   "metadata": {},
   "source": [
    "## The `bbn` transcriptions"
   ]
  },
  {
   "cell_type": "markdown",
   "metadata": {},
   "source": [
    "For context, read\n",
    " - the last page of Cieri et al. 2004 (\"The Fisher Corpus: a Resource for the Next Generations of Speech-to-Text\", https://www.ldc.upenn.edu/sites/www.ldc.upenn.edu/files/lrec2004-fisher-corpus.pdf)\n",
    " - https://catalog.ldc.upenn.edu/docs/LDC2005T19/bbn_trans_readme.txt"
   ]
  },
  {
   "cell_type": "code",
   "execution_count": 89,
   "metadata": {
    "ExecuteTime": {
     "end_time": "2019-04-15T23:19:27.298248Z",
     "start_time": "2019-04-15T23:19:27.293309Z"
    }
   },
   "outputs": [
    {
     "data": {
      "text/plain": [
       "'/mnt/truffle/corpora/fisher_english_transcripts/fe_03_p2_tran/data'"
      ]
     },
     "execution_count": 89,
     "metadata": {},
     "output_type": "execute_result"
    }
   ],
   "source": [
    "os.chdir(os.path.join(fisher_dir, 'data'))\n",
    "os.getcwd()"
   ]
  },
  {
   "cell_type": "code",
   "execution_count": 90,
   "metadata": {
    "ExecuteTime": {
     "end_time": "2019-04-15T23:19:27.448892Z",
     "start_time": "2019-04-15T23:19:27.300106Z"
    }
   },
   "outputs": [
    {
     "name": "stdout",
     "output_type": "stream",
     "text": [
      "\u001b[0m\u001b[01;34mbbn_orig\u001b[0m/  \u001b[01;34mtrans\u001b[0m/\r\n"
     ]
    }
   ],
   "source": [
    "%ls"
   ]
  },
  {
   "cell_type": "code",
   "execution_count": 91,
   "metadata": {
    "ExecuteTime": {
     "end_time": "2019-04-15T23:19:27.457181Z",
     "start_time": "2019-04-15T23:19:27.451308Z"
    }
   },
   "outputs": [
    {
     "name": "stdout",
     "output_type": "stream",
     "text": [
      "/mnt/truffle/corpora/fisher_english_transcripts/fe_03_p2_tran/data/bbn_orig\n"
     ]
    }
   ],
   "source": [
    "%cd bbn_orig/"
   ]
  },
  {
   "cell_type": "code",
   "execution_count": 92,
   "metadata": {
    "ExecuteTime": {
     "end_time": "2019-04-15T23:19:27.466010Z",
     "start_time": "2019-04-15T23:19:27.463702Z"
    }
   },
   "outputs": [],
   "source": [
    "bbn_data_dir = '/mnt/truffle/corpora/fisher_english_transcripts/fe_03_p2_tran/data/bbn_orig'"
   ]
  },
  {
   "cell_type": "code",
   "execution_count": 93,
   "metadata": {
    "ExecuteTime": {
     "end_time": "2019-04-15T23:19:27.628550Z",
     "start_time": "2019-04-15T23:19:27.469152Z"
    }
   },
   "outputs": [
    {
     "name": "stdout",
     "output_type": "stream",
     "text": [
      "\u001b[0m\u001b[01;34m058\u001b[0m/  \u001b[01;34m063\u001b[0m/  \u001b[01;34m068\u001b[0m/  \u001b[01;34m073\u001b[0m/  \u001b[01;34m078\u001b[0m/  \u001b[01;34m083\u001b[0m/  \u001b[01;34m088\u001b[0m/  \u001b[01;34m093\u001b[0m/  \u001b[01;34m098\u001b[0m/  \u001b[01;34m103\u001b[0m/  \u001b[01;34m108\u001b[0m/  \u001b[01;34m113\u001b[0m/\r\n",
      "\u001b[01;34m059\u001b[0m/  \u001b[01;34m064\u001b[0m/  \u001b[01;34m069\u001b[0m/  \u001b[01;34m074\u001b[0m/  \u001b[01;34m079\u001b[0m/  \u001b[01;34m084\u001b[0m/  \u001b[01;34m089\u001b[0m/  \u001b[01;34m094\u001b[0m/  \u001b[01;34m099\u001b[0m/  \u001b[01;34m104\u001b[0m/  \u001b[01;34m109\u001b[0m/\r\n",
      "\u001b[01;34m060\u001b[0m/  \u001b[01;34m065\u001b[0m/  \u001b[01;34m070\u001b[0m/  \u001b[01;34m075\u001b[0m/  \u001b[01;34m080\u001b[0m/  \u001b[01;34m085\u001b[0m/  \u001b[01;34m090\u001b[0m/  \u001b[01;34m095\u001b[0m/  \u001b[01;34m100\u001b[0m/  \u001b[01;34m105\u001b[0m/  \u001b[01;34m110\u001b[0m/\r\n",
      "\u001b[01;34m061\u001b[0m/  \u001b[01;34m066\u001b[0m/  \u001b[01;34m071\u001b[0m/  \u001b[01;34m076\u001b[0m/  \u001b[01;34m081\u001b[0m/  \u001b[01;34m086\u001b[0m/  \u001b[01;34m091\u001b[0m/  \u001b[01;34m096\u001b[0m/  \u001b[01;34m101\u001b[0m/  \u001b[01;34m106\u001b[0m/  \u001b[01;34m111\u001b[0m/\r\n",
      "\u001b[01;34m062\u001b[0m/  \u001b[01;34m067\u001b[0m/  \u001b[01;34m072\u001b[0m/  \u001b[01;34m077\u001b[0m/  \u001b[01;34m082\u001b[0m/  \u001b[01;34m087\u001b[0m/  \u001b[01;34m092\u001b[0m/  \u001b[01;34m097\u001b[0m/  \u001b[01;34m102\u001b[0m/  \u001b[01;34m107\u001b[0m/  \u001b[01;34m112\u001b[0m/\r\n"
     ]
    }
   ],
   "source": [
    "%ls"
   ]
  },
  {
   "cell_type": "code",
   "execution_count": 94,
   "metadata": {
    "ExecuteTime": {
     "end_time": "2019-04-15T23:19:27.631886Z",
     "start_time": "2019-04-15T23:19:27.629785Z"
    }
   },
   "outputs": [],
   "source": [
    "bbn_folders = os.listdir()"
   ]
  },
  {
   "cell_type": "code",
   "execution_count": 95,
   "metadata": {
    "ExecuteTime": {
     "end_time": "2019-04-15T23:19:27.637835Z",
     "start_time": "2019-04-15T23:19:27.632753Z"
    }
   },
   "outputs": [
    {
     "data": {
      "text/plain": [
       "'/mnt/truffle/corpora/fisher_english_transcripts/fe_03_p2_tran/data/bbn_orig/058'"
      ]
     },
     "execution_count": 95,
     "metadata": {},
     "output_type": "execute_result"
    }
   ],
   "source": [
    "os.chdir(os.path.join(bbn_data_dir, '058'))\n",
    "os.getcwd()"
   ]
  },
  {
   "cell_type": "code",
   "execution_count": 96,
   "metadata": {
    "ExecuteTime": {
     "end_time": "2019-04-15T23:19:27.788911Z",
     "start_time": "2019-04-15T23:19:27.638703Z"
    }
   },
   "outputs": [
    {
     "name": "stdout",
     "output_type": "stream",
     "text": [
      "\u001b[0m\u001b[01;34mauto-segmented\u001b[0m/  \u001b[01;34moriginals\u001b[0m/  \u001b[01;34mrejected\u001b[0m/\r\n"
     ]
    }
   ],
   "source": [
    "%ls"
   ]
  },
  {
   "cell_type": "markdown",
   "metadata": {},
   "source": [
    "Note that, per `https://catalog.ldc.upenn.edu/docs/LDC2005T19/bbn_trans_readme.txt`, \n",
    " - each folder contains a group of (up to?) 100 calls with a shared 3 digit prefix in their call id.\n",
    " - subsets 114, 115, and 116 are not here, because those 300 transcripts were done by the LDC.\n",
    " \n",
    "Within each folder, `/originals/` contains `.txo` transcriptions produced by annotators at WordWave; these files were the input to an automatic segmentation process that created the `.ana` and `.trn` files in `/auto-segmented/` folders. `/rejected/` folders contain `.ana` and `.trn` data for utterances that the automatic segmentation process could not handle.\n",
    "\n",
    "That means the transcription data of interest for this project are in `.trn` files in both `/auto-segmented/` and `/rejected/` folders and will need to be combined."
   ]
  },
  {
   "cell_type": "code",
   "execution_count": 97,
   "metadata": {
    "ExecuteTime": {
     "end_time": "2019-04-15T23:19:27.793787Z",
     "start_time": "2019-04-15T23:19:27.790185Z"
    }
   },
   "outputs": [
    {
     "name": "stdout",
     "output_type": "stream",
     "text": [
      "/mnt/truffle/corpora/fisher_english_transcripts/fe_03_p2_tran/data/bbn_orig/058/auto-segmented\n"
     ]
    }
   ],
   "source": [
    "%cd auto-segmented/"
   ]
  },
  {
   "cell_type": "code",
   "execution_count": 98,
   "metadata": {
    "ExecuteTime": {
     "end_time": "2019-04-15T23:19:27.943933Z",
     "start_time": "2019-04-15T23:19:27.794900Z"
    }
   },
   "outputs": [
    {
     "name": "stdout",
     "output_type": "stream",
     "text": [
      "\u001b[0m\u001b[01;32mfe_03_05863.ana\u001b[0m*  \u001b[01;32mfe_03_05876.trn\u001b[0m*  \u001b[01;32mfe_03_05888.ana\u001b[0m*  \u001b[01;32mfe_03_05889.trn\u001b[0m*\r\n",
      "\u001b[01;32mfe_03_05863.trn\u001b[0m*  \u001b[01;32mfe_03_05887.ana\u001b[0m*  \u001b[01;32mfe_03_05888.trn\u001b[0m*  \u001b[01;32mfe_03_05898.ana\u001b[0m*\r\n",
      "\u001b[01;32mfe_03_05876.ana\u001b[0m*  \u001b[01;32mfe_03_05887.trn\u001b[0m*  \u001b[01;32mfe_03_05889.ana\u001b[0m*  \u001b[01;32mfe_03_05898.trn\u001b[0m*\r\n"
     ]
    }
   ],
   "source": [
    "%ls"
   ]
  },
  {
   "cell_type": "code",
   "execution_count": 99,
   "metadata": {
    "ExecuteTime": {
     "end_time": "2019-04-15T23:19:28.098026Z",
     "start_time": "2019-04-15T23:19:27.946487Z"
    }
   },
   "outputs": [
    {
     "name": "stdout",
     "output_type": "stream",
     "text": [
      "     1\tH- HI THIS IS DEBBIE  (fe_03_05876-A-0001)\r\n",
      "     2\tHI SYLVIA  (fe_03_05876-A-0002)\r\n",
      "     3\t[LAUGHTER] I'M JUST TRYING TO GET OVER THIS QUESTION  (fe_03_05876-A-0003)\r\n",
      "     4\tUH NO IT'S MY SECOND CALL BUT THEY JUST SEEM TO GET MO- [LAUGHTER] MORE AND MORE RIDICULOUS  (fe_03_05876-A-0005)\r\n",
      "     5\tOH REALLY [LAUGHTER] UM  (fe_03_05876-A-0006)\r\n",
      "     6\tWELL NO MY BEST FRIEND UM  (fe_03_05876-A-0007)\r\n",
      "     7\tI DON'T KNOW MY INSTINCT MY INITIAL INSTINCT IS TO SAY NO UH YOU KNOW  (fe_03_05876-A-0008)\r\n",
      "     8\tHOWEVER I GUESS [LAUGHTER] IF I HAD TO THINK ABOUT IT A WHILE  (fe_03_05876-A-0009)\r\n",
      "     9\tSEE I COULD DO SO MUCH WITH A MILLION DOLLARS HELP SO MANY PEOPLE BUT [LIPSMACK]  (fe_03_05876-A-0010)\r\n",
      "    10\tI DON'T KNOW IT JUST DOESN'T IT DOESN'T FEEL RIGHT TO TO TAKE TO HAVE THIS STRING ATTACHED YOU KNOW FIRST OF ALL  (fe_03_05876-A-0011)\r\n",
      "    11\t[LAUGHTER] SO DO I. THAT'S RIGHT  (fe_03_05876-A-0012)\r\n",
      "    12\tYOU'RE RIGHT  (fe_03_05876-A-0013)\r\n",
      "    13\tTHAT'S TRUE [NOISE]  (fe_03_05876-A-0014)\r\n",
      "    14\tMHM  (fe_03_05876-A-0015)\r\n",
      "    15\tRIGHT  (fe_03_05876-A-0016)\r\n",
      "    16\tNO YOU'RE RIGHT THERE'S LIKE A REAL RIPPLING EFFECT AND THEN IF YOUR IF YOUR HUSBAND OR BOYFRIEND KNOWS HER TOO IT WOULD BE IT W- YOU KNOW WHAT IF THEY WANTED TO MAINTAIN A FRIENDSHIP AND YOU COULDN'T BECAUSE OF THIS AGREEMENT  (fe_03_05876-A-0017)\r\n",
      "    17\tRIGHT EXACTLY NO NO I THINK I THINK IT'S A REALLY IT'S [NOISE]  (fe_03_05876-A-0018)\r\n",
      "    18\tI I DON'T KNOW I GUESS THERE COULD BE AN ARGUMENT MADE FOR TAKING IT  (fe_03_05876-A-0019)\r\n",
      "    19\tAND I THINK BASED ON JUST THE AMOUNT [LIPSMACK]  (fe_03_05876-A-0020)\r\n",
      "    20\tAND LIKE I SAID THE FACT THAT YOU COULD DO A LOT WITH IT  (fe_03_05876-A-0021)\r\n"
     ]
    }
   ],
   "source": [
    "%cat -n fe_03_05876.trn | head -20"
   ]
  },
  {
   "cell_type": "markdown",
   "metadata": {},
   "source": [
    "### Organizing call transcription files, a unique call ID, and call transcription file location"
   ]
  },
  {
   "cell_type": "markdown",
   "metadata": {
    "ExecuteTime": {
     "end_time": "2019-04-15T19:50:48.294410Z",
     "start_time": "2019-04-15T19:50:48.290003Z"
    }
   },
   "source": [
    "**Let's create a relation between call id, associated filenames, and locations.**"
   ]
  },
  {
   "cell_type": "code",
   "execution_count": 100,
   "metadata": {
    "ExecuteTime": {
     "end_time": "2019-04-15T23:19:28.104346Z",
     "start_time": "2019-04-15T23:19:28.099958Z"
    }
   },
   "outputs": [
    {
     "name": "stdout",
     "output_type": "stream",
     "text": [
      "/mnt/truffle/corpora/fisher_english_transcripts/fe_03_p2_tran/data/bbn_orig/058\n"
     ]
    }
   ],
   "source": [
    "%cd .."
   ]
  },
  {
   "cell_type": "code",
   "execution_count": 101,
   "metadata": {
    "ExecuteTime": {
     "end_time": "2019-04-15T23:19:28.109572Z",
     "start_time": "2019-04-15T23:19:28.106047Z"
    }
   },
   "outputs": [
    {
     "data": {
      "text/plain": [
       "'/mnt/truffle/corpora/fisher_english_transcripts/fe_03_p2_tran/data/bbn_orig/058'"
      ]
     },
     "execution_count": 101,
     "metadata": {},
     "output_type": "execute_result"
    }
   ],
   "source": [
    "%pwd"
   ]
  },
  {
   "cell_type": "code",
   "execution_count": 102,
   "metadata": {
    "ExecuteTime": {
     "end_time": "2019-04-15T23:19:28.261412Z",
     "start_time": "2019-04-15T23:19:28.110783Z"
    }
   },
   "outputs": [
    {
     "name": "stdout",
     "output_type": "stream",
     "text": [
      "\u001b[0m\u001b[01;34mauto-segmented\u001b[0m/  \u001b[01;34moriginals\u001b[0m/  \u001b[01;34mrejected\u001b[0m/\r\n"
     ]
    }
   ],
   "source": [
    "%ls"
   ]
  },
  {
   "cell_type": "code",
   "execution_count": 103,
   "metadata": {
    "ExecuteTime": {
     "end_time": "2019-04-15T23:19:28.267926Z",
     "start_time": "2019-04-15T23:19:28.263421Z"
    }
   },
   "outputs": [
    {
     "data": {
      "text/plain": [
       "True"
      ]
     },
     "execution_count": 103,
     "metadata": {},
     "output_type": "execute_result"
    }
   ],
   "source": [
    "set(os.listdir('./auto-segmented/')) == set(os.listdir('./rejected/'))"
   ]
  },
  {
   "cell_type": "code",
   "execution_count": 104,
   "metadata": {
    "ExecuteTime": {
     "end_time": "2019-04-15T23:19:28.272893Z",
     "start_time": "2019-04-15T23:19:28.269376Z"
    }
   },
   "outputs": [
    {
     "data": {
      "text/plain": [
       "['fe_03_05863.ana',\n",
       " 'fe_03_05863.trn',\n",
       " 'fe_03_05876.ana',\n",
       " 'fe_03_05876.trn',\n",
       " 'fe_03_05887.ana',\n",
       " 'fe_03_05887.trn',\n",
       " 'fe_03_05888.ana',\n",
       " 'fe_03_05888.trn',\n",
       " 'fe_03_05889.ana',\n",
       " 'fe_03_05889.trn',\n",
       " 'fe_03_05898.ana',\n",
       " 'fe_03_05898.trn']"
      ]
     },
     "execution_count": 104,
     "metadata": {},
     "output_type": "execute_result"
    }
   ],
   "source": [
    "os.listdir('./auto-segmented/')"
   ]
  },
  {
   "cell_type": "code",
   "execution_count": 105,
   "metadata": {
    "ExecuteTime": {
     "end_time": "2019-04-15T23:19:28.277067Z",
     "start_time": "2019-04-15T23:19:28.274168Z"
    }
   },
   "outputs": [
    {
     "data": {
      "text/plain": [
       "'05898'"
      ]
     },
     "execution_count": 105,
     "metadata": {},
     "output_type": "execute_result"
    }
   ],
   "source": [
    "'fe_03_05898.trn'[6:11]"
   ]
  },
  {
   "cell_type": "code",
   "execution_count": 106,
   "metadata": {
    "ExecuteTime": {
     "end_time": "2019-04-15T23:19:28.282722Z",
     "start_time": "2019-04-15T23:19:28.278223Z"
    }
   },
   "outputs": [],
   "source": [
    "def fn_to_call_id_bbn(bbn_fn):\n",
    "    return bbn_fn[6:11]"
   ]
  },
  {
   "cell_type": "code",
   "execution_count": 107,
   "metadata": {
    "ExecuteTime": {
     "end_time": "2019-04-15T23:19:28.289729Z",
     "start_time": "2019-04-15T23:19:28.284017Z"
    }
   },
   "outputs": [],
   "source": [
    "def get_call_ids_in_group_dir(group_dir):\n",
    "    autosegmented_files = set(os.listdir('./auto-segmented/'))\n",
    "    rejected_files = set(os.listdir('./rejected'))\n",
    "    autosegmented_call_ids = set(map(fn_to_call_id_bbn,\n",
    "                                     autosegmented_files))\n",
    "    rejected_call_ids = set(map(fn_to_call_id_bbn,\n",
    "                                rejected_files))\n",
    "    return sorted(list(autosegmented_call_ids | rejected_call_ids))"
   ]
  },
  {
   "cell_type": "code",
   "execution_count": 108,
   "metadata": {
    "ExecuteTime": {
     "end_time": "2019-04-15T23:19:28.346173Z",
     "start_time": "2019-04-15T23:19:28.290940Z"
    }
   },
   "outputs": [
    {
     "data": {
      "text/plain": [
       "['05863', '05876', '05887', '05888', '05889', '05898']"
      ]
     },
     "execution_count": 108,
     "metadata": {},
     "output_type": "execute_result"
    }
   ],
   "source": [
    "get_call_ids_in_group_dir('.')"
   ]
  },
  {
   "cell_type": "code",
   "execution_count": 109,
   "metadata": {
    "ExecuteTime": {
     "end_time": "2019-04-15T23:19:28.353761Z",
     "start_time": "2019-04-15T23:19:28.347496Z"
    }
   },
   "outputs": [],
   "source": [
    "def call_id_to_relation_bbn(call_id, group_dir):\n",
    "    fn_prefix = 'fe_03_'\n",
    "    suffix_a = '.ana'\n",
    "    suffix_b = '.trn'\n",
    "    ana_fn = fn_prefix + call_id + suffix_a\n",
    "    trn_fn = fn_prefix + call_id + suffix_b\n",
    "    loc_prefix = os.path.join(bbn_data_dir, group_dir)\n",
    "    return {'call_id':call_id,\n",
    "            'trn_fn':trn_fn,\n",
    "            'ana_fn':ana_fn,\n",
    "            'auto-segmented_trn_location':os.path.join(loc_prefix, 'auto-segmented/' + trn_fn),\n",
    "            'rejected_trn_location':os.path.join(loc_prefix, 'rejected/' + trn_fn) if os.path.isfile(os.path.join(loc_prefix, 'rejected/' + trn_fn)) else '',\n",
    "            'auto-segmented_ana_location':os.path.join(loc_prefix, 'auto-segmented/' + ana_fn),\n",
    "            'rejected_ana_location':os.path.join(loc_prefix, 'rejected/' + ana_fn) if os.path.isfile(os.path.join(loc_prefix, 'rejected/' + ana_fn)) else '',}"
   ]
  },
  {
   "cell_type": "code",
   "execution_count": 110,
   "metadata": {
    "ExecuteTime": {
     "end_time": "2019-04-15T23:19:28.360034Z",
     "start_time": "2019-04-15T23:19:28.354849Z"
    }
   },
   "outputs": [
    {
     "data": {
      "text/plain": [
       "'/mnt/truffle/corpora/fisher_english_transcripts/fe_03_p2_tran/data/bbn_orig/058'"
      ]
     },
     "execution_count": 110,
     "metadata": {},
     "output_type": "execute_result"
    }
   ],
   "source": [
    "%pwd"
   ]
  },
  {
   "cell_type": "code",
   "execution_count": 111,
   "metadata": {
    "ExecuteTime": {
     "end_time": "2019-04-15T23:19:28.369893Z",
     "start_time": "2019-04-15T23:19:28.360882Z"
    }
   },
   "outputs": [
    {
     "data": {
      "text/plain": [
       "['fe_03_05863.ana',\n",
       " 'fe_03_05863.trn',\n",
       " 'fe_03_05876.ana',\n",
       " 'fe_03_05876.trn',\n",
       " 'fe_03_05887.ana',\n",
       " 'fe_03_05887.trn',\n",
       " 'fe_03_05888.ana',\n",
       " 'fe_03_05888.trn',\n",
       " 'fe_03_05889.ana',\n",
       " 'fe_03_05889.trn',\n",
       " 'fe_03_05898.ana',\n",
       " 'fe_03_05898.trn']"
      ]
     },
     "execution_count": 111,
     "metadata": {},
     "output_type": "execute_result"
    },
    {
     "data": {
      "text/plain": [
       "['fe_03_05863.ana',\n",
       " 'fe_03_05863.trn',\n",
       " 'fe_03_05876.ana',\n",
       " 'fe_03_05876.trn',\n",
       " 'fe_03_05887.ana',\n",
       " 'fe_03_05887.trn',\n",
       " 'fe_03_05888.ana',\n",
       " 'fe_03_05888.trn',\n",
       " 'fe_03_05889.ana',\n",
       " 'fe_03_05889.trn',\n",
       " 'fe_03_05898.ana',\n",
       " 'fe_03_05898.trn']"
      ]
     },
     "execution_count": 111,
     "metadata": {},
     "output_type": "execute_result"
    }
   ],
   "source": [
    "os.listdir('./auto-segmented/')\n",
    "os.listdir('./rejected/')"
   ]
  },
  {
   "cell_type": "code",
   "execution_count": 112,
   "metadata": {
    "ExecuteTime": {
     "end_time": "2019-04-15T23:19:28.380843Z",
     "start_time": "2019-04-15T23:19:28.371620Z"
    }
   },
   "outputs": [
    {
     "data": {
      "text/plain": [
       "{'call_id': '05863',\n",
       " 'trn_fn': 'fe_03_05863.trn',\n",
       " 'ana_fn': 'fe_03_05863.ana',\n",
       " 'auto-segmented_trn_location': '/mnt/truffle/corpora/fisher_english_transcripts/fe_03_p2_tran/data/bbn_orig/058/auto-segmented/fe_03_05863.trn',\n",
       " 'rejected_trn_location': '/mnt/truffle/corpora/fisher_english_transcripts/fe_03_p2_tran/data/bbn_orig/058/rejected/fe_03_05863.trn',\n",
       " 'auto-segmented_ana_location': '/mnt/truffle/corpora/fisher_english_transcripts/fe_03_p2_tran/data/bbn_orig/058/auto-segmented/fe_03_05863.ana',\n",
       " 'rejected_ana_location': '/mnt/truffle/corpora/fisher_english_transcripts/fe_03_p2_tran/data/bbn_orig/058/rejected/fe_03_05863.ana'}"
      ]
     },
     "execution_count": 112,
     "metadata": {},
     "output_type": "execute_result"
    },
    {
     "data": {
      "text/plain": [
       "'/mnt/truffle/corpora/fisher_english_transcripts/fe_03_p2_tran/data/bbn_orig/058/auto-segmented/fe_03_05863.trn'"
      ]
     },
     "execution_count": 112,
     "metadata": {},
     "output_type": "execute_result"
    }
   ],
   "source": [
    "call_id_to_relation_bbn('05863', '058')\n",
    "\n",
    "loc = call_id_to_relation_bbn('05863', '058')['auto-segmented_trn_location']\n",
    "loc"
   ]
  },
  {
   "cell_type": "code",
   "execution_count": 113,
   "metadata": {
    "ExecuteTime": {
     "end_time": "2019-04-15T23:19:28.385019Z",
     "start_time": "2019-04-15T23:19:28.382244Z"
    }
   },
   "outputs": [
    {
     "data": {
      "text/plain": [
       "'/mnt/truffle/corpora/fisher_english_transcripts/fe_03_p2_tran/data/bbn_orig'"
      ]
     },
     "execution_count": 113,
     "metadata": {},
     "output_type": "execute_result"
    }
   ],
   "source": [
    "os.chdir(bbn_data_dir)\n",
    "os.getcwd()"
   ]
  },
  {
   "cell_type": "code",
   "execution_count": 114,
   "metadata": {
    "ExecuteTime": {
     "end_time": "2019-04-15T23:19:30.018721Z",
     "start_time": "2019-04-15T23:19:28.386273Z"
    }
   },
   "outputs": [],
   "source": [
    "bbn_call_relation = []\n",
    "for folder in bbn_folders:\n",
    "    os.chdir(folder)\n",
    "    for call_id in get_call_ids_in_group_dir('.'):\n",
    "        bbn_call_relation.append(call_id_to_relation_bbn(call_id, folder))\n",
    "    os.chdir('..')"
   ]
  },
  {
   "cell_type": "code",
   "execution_count": 115,
   "metadata": {
    "ExecuteTime": {
     "end_time": "2019-04-15T23:19:30.025297Z",
     "start_time": "2019-04-15T23:19:30.020605Z"
    }
   },
   "outputs": [
    {
     "data": {
      "text/plain": [
       "[{'call_id': '05863',\n",
       "  'trn_fn': 'fe_03_05863.trn',\n",
       "  'ana_fn': 'fe_03_05863.ana',\n",
       "  'auto-segmented_trn_location': '/mnt/truffle/corpora/fisher_english_transcripts/fe_03_p2_tran/data/bbn_orig/058/auto-segmented/fe_03_05863.trn',\n",
       "  'rejected_trn_location': '/mnt/truffle/corpora/fisher_english_transcripts/fe_03_p2_tran/data/bbn_orig/058/rejected/fe_03_05863.trn',\n",
       "  'auto-segmented_ana_location': '/mnt/truffle/corpora/fisher_english_transcripts/fe_03_p2_tran/data/bbn_orig/058/auto-segmented/fe_03_05863.ana',\n",
       "  'rejected_ana_location': '/mnt/truffle/corpora/fisher_english_transcripts/fe_03_p2_tran/data/bbn_orig/058/rejected/fe_03_05863.ana'},\n",
       " {'call_id': '05876',\n",
       "  'trn_fn': 'fe_03_05876.trn',\n",
       "  'ana_fn': 'fe_03_05876.ana',\n",
       "  'auto-segmented_trn_location': '/mnt/truffle/corpora/fisher_english_transcripts/fe_03_p2_tran/data/bbn_orig/058/auto-segmented/fe_03_05876.trn',\n",
       "  'rejected_trn_location': '/mnt/truffle/corpora/fisher_english_transcripts/fe_03_p2_tran/data/bbn_orig/058/rejected/fe_03_05876.trn',\n",
       "  'auto-segmented_ana_location': '/mnt/truffle/corpora/fisher_english_transcripts/fe_03_p2_tran/data/bbn_orig/058/auto-segmented/fe_03_05876.ana',\n",
       "  'rejected_ana_location': '/mnt/truffle/corpora/fisher_english_transcripts/fe_03_p2_tran/data/bbn_orig/058/rejected/fe_03_05876.ana'},\n",
       " {'call_id': '05887',\n",
       "  'trn_fn': 'fe_03_05887.trn',\n",
       "  'ana_fn': 'fe_03_05887.ana',\n",
       "  'auto-segmented_trn_location': '/mnt/truffle/corpora/fisher_english_transcripts/fe_03_p2_tran/data/bbn_orig/058/auto-segmented/fe_03_05887.trn',\n",
       "  'rejected_trn_location': '/mnt/truffle/corpora/fisher_english_transcripts/fe_03_p2_tran/data/bbn_orig/058/rejected/fe_03_05887.trn',\n",
       "  'auto-segmented_ana_location': '/mnt/truffle/corpora/fisher_english_transcripts/fe_03_p2_tran/data/bbn_orig/058/auto-segmented/fe_03_05887.ana',\n",
       "  'rejected_ana_location': '/mnt/truffle/corpora/fisher_english_transcripts/fe_03_p2_tran/data/bbn_orig/058/rejected/fe_03_05887.ana'}]"
      ]
     },
     "execution_count": 115,
     "metadata": {},
     "output_type": "execute_result"
    }
   ],
   "source": [
    "bbn_call_relation[:3]"
   ]
  },
  {
   "cell_type": "markdown",
   "metadata": {},
   "source": [
    "### Organizing transcriptions of each call"
   ]
  },
  {
   "cell_type": "code",
   "execution_count": 116,
   "metadata": {
    "ExecuteTime": {
     "end_time": "2019-04-15T23:19:30.032315Z",
     "start_time": "2019-04-15T23:19:30.027178Z"
    }
   },
   "outputs": [
    {
     "data": {
      "text/plain": [
       "'/mnt/truffle/corpora/fisher_english_transcripts/fe_03_p2_tran/data/bbn_orig/058'"
      ]
     },
     "execution_count": 116,
     "metadata": {},
     "output_type": "execute_result"
    }
   ],
   "source": [
    "os.chdir(os.path.join(bbn_data_dir, '058'))\n",
    "os.getcwd()"
   ]
  },
  {
   "cell_type": "code",
   "execution_count": 117,
   "metadata": {
    "ExecuteTime": {
     "end_time": "2019-04-15T23:19:30.195187Z",
     "start_time": "2019-04-15T23:19:30.034017Z"
    }
   },
   "outputs": [
    {
     "name": "stdout",
     "output_type": "stream",
     "text": [
      "\u001b[0m\u001b[01;32mfe_03_05863.ana\u001b[0m*  \u001b[01;32mfe_03_05876.trn\u001b[0m*  \u001b[01;32mfe_03_05888.ana\u001b[0m*  \u001b[01;32mfe_03_05889.trn\u001b[0m*\r\n",
      "\u001b[01;32mfe_03_05863.trn\u001b[0m*  \u001b[01;32mfe_03_05887.ana\u001b[0m*  \u001b[01;32mfe_03_05888.trn\u001b[0m*  \u001b[01;32mfe_03_05898.ana\u001b[0m*\r\n",
      "\u001b[01;32mfe_03_05876.ana\u001b[0m*  \u001b[01;32mfe_03_05887.trn\u001b[0m*  \u001b[01;32mfe_03_05889.ana\u001b[0m*  \u001b[01;32mfe_03_05898.trn\u001b[0m*\r\n"
     ]
    }
   ],
   "source": [
    "%ls auto-segmented/"
   ]
  },
  {
   "cell_type": "markdown",
   "metadata": {},
   "source": [
    "#### Parsing transcription lines"
   ]
  },
  {
   "cell_type": "code",
   "execution_count": 118,
   "metadata": {
    "ExecuteTime": {
     "end_time": "2019-04-15T23:19:30.342495Z",
     "start_time": "2019-04-15T23:19:30.196997Z"
    }
   },
   "outputs": [
    {
     "name": "stdout",
     "output_type": "stream",
     "text": [
      "     1\tHI [LAUGHTER]  (fe_03_05863-A-0001)\r\n",
      "     2\tHI MY NAME IS ZELDA  (fe_03_05863-A-0002)\r\n",
      "     3\tHI MONIQUE  (fe_03_05863-A-0003)\r\n",
      "     4\tI'M FINE AND YOU  (fe_03_05863-A-0004)\r\n",
      "     5\tGOOD  (fe_03_05863-A-0005)\r\n",
      "     6\tOKAY UM  (fe_03_05863-A-0006)\r\n",
      "     7\tI WOULD NOT DO IT  (fe_03_05863-A-0007)\r\n",
      "     8\t[NOISE] RIGHT I WOULDN'T UM DO YOU KID- ESP- UH TODAY I MEAN  (fe_03_05863-A-0008)\r\n",
      "     9\tPEOPLE LOOK AT MONEY MONEY IS EVERYTHING IT'S LIKE THEY THINK THAT MONEY'S GOING TO RESOLVE ALL THEIR PROBLEMS AND A MILLION DOLLARS TODAY IS NOT A LOT OF MONEY AND I WOULD AND THAT'S A BETRAYAL TO ME [NOISE]  (fe_03_05863-A-0009)\r\n",
      "    10\tRIGHT RIGHT  (fe_03_05863-A-0010)\r\n",
      "    11\tNO  (fe_03_05863-A-0011)\r\n",
      "    12\tI THINK HUMAN BEINGS ARE PR- UM [LIPSMACK] FRIENDSHIP RELAT- RELATIONSHIPS WITH PEOPLE ARE A LOT MORE IMPORTANT THAN MONEY  (fe_03_05863-A-0012)\r\n",
      "    13\tTHEN YOU WEREN'T REALLY THEIR BEST FRIEND EITHER  (fe_03_05863-A-0013)\r\n",
      "    14\tRIGHT RIGHT  (fe_03_05863-A-0014)\r\n",
      "    15\tNO  (fe_03_05863-A-0015)\r\n",
      "    16\tMM  (fe_03_05863-A-0016)\r\n",
      "    17\tI DON'T THINK ANY MONEY IS WORTH ANYONE'S LIFE UH A HUMAN A PERSON'S LIFE IS WORTH EVERYTHING  (fe_03_05863-A-0017)\r\n",
      "    18\tAMEN [LAUGHTER] IS RIGHT [LAUGHTER]  (fe_03_05863-A-0018)\r\n",
      "    19\tI MEAN I- THERE'S NOT REALLY MUCH THAT WE CAN DEBATE ON THIS BECAUSE WE REALLY AGREED ON IT YOU KNOW [LAUGHTER]  (fe_03_05863-A-0019)\r\n",
      "    20\tRIGHT  (fe_03_05863-A-0020)\r\n",
      "    21\tYEAH  (fe_03_05863-A-0022)\r\n",
      "    22\tACTUALLY MY RIGHT RIGHT  (fe_03_05863-A-0023)\r\n",
      "    23\tI WAS ACTUALLY TALKING TO MY BEST FRIEND ON THE PHONE WHEN I GOT THIS CALL [LAUGHTER] SO I SAID I GOT TO CALL YOU BACK  (fe_03_05863-A-0024)\r\n",
      "    24\tAND MY AND MY BEST FRIEND IS ACTUALLY A RELATIVE  (fe_03_05863-A-0025)\r\n",
      "    25\tSO  (fe_03_05863-A-0026)\r\n"
     ]
    }
   ],
   "source": [
    "%cat -n ./auto-segmented/fe_03_05863.trn | head -25"
   ]
  },
  {
   "cell_type": "code",
   "execution_count": 119,
   "metadata": {
    "ExecuteTime": {
     "end_time": "2019-04-15T23:19:30.490534Z",
     "start_time": "2019-04-15T23:19:30.344494Z"
    }
   },
   "outputs": [
    {
     "name": "stdout",
     "output_type": "stream",
     "text": [
      "     1\tBUT UM (fe_03_05863-A-0021)\r\n",
      "     2\tNO NO (fe_03_05863-A-0045)\r\n",
      "     3\tUM (fe_03_05863-A-0065)\r\n",
      "     4\t[LIPSMACK] OH (fe_03_05863-A-0066)\r\n",
      "     5\tREALLY (fe_03_05863-A-0105)\r\n",
      "     6\tYEAH MHM (fe_03_05863-A-0109)\r\n",
      "     7\tTHAT'S WHAT I SAY MHM (fe_03_05863-A-0113)\r\n",
      "     8\tYOU KNOW (fe_03_05863-A-0121)\r\n",
      "     9\tYEAH (fe_03_05863-A-0122)\r\n",
      "    10\tON ME THERE OOH THAT'S WHY UM I'M I'M LOSING YA (fe_03_05863-A-0125)\r\n",
      "    11\t[NOISE] HELLO HOW ARE YOU DOING MY (fe_03_05863-B-0002)\r\n",
      "    12\tHOW'RE YOU DOING (fe_03_05863-B-0004)\r\n",
      "    13\tMM MM (fe_03_05863-B-0019)\r\n",
      "    14\t[LAUGHTER] OH BOY [SIGH] (fe_03_05863-B-0021)\r\n",
      "    15\tLET'S SEE LET'S SEE (fe_03_05863-B-0022)\r\n",
      "    16\tYOU KNOW (fe_03_05863-B-0027)\r\n",
      "    17\t[NOISE] (fe_03_05863-B-0029)\r\n",
      "    18\tUH-HUH (fe_03_05863-B-0034)\r\n",
      "    19\tYOU LIVE IN CALIFORNIA (fe_03_05863-B-0039)\r\n",
      "    20\tMAN (fe_03_05863-B-0045)\r\n"
     ]
    }
   ],
   "source": [
    "%cat -n ./rejected/fe_03_05863.trn | head -20"
   ]
  },
  {
   "cell_type": "markdown",
   "metadata": {},
   "source": [
    "As indicated in `https://catalog.ldc.upenn.edu/docs/LDC2005T19/bbn_trans_readme.txt`, `.trn` files are in .SNOR format:\n",
    " - mono-case with no syntactic punctuation\n",
    " - each line is one \"utterance\"\n",
    " - each line ends with a unique utterance ID in parentheses\n",
    "\n",
    "Non-speech noises seem to be indicated by square brackets (e.g. `[LAUGHTER]`)."
   ]
  },
  {
   "cell_type": "code",
   "execution_count": 120,
   "metadata": {
    "ExecuteTime": {
     "end_time": "2019-04-15T23:19:30.500807Z",
     "start_time": "2019-04-15T23:19:30.492192Z"
    }
   },
   "outputs": [
    {
     "data": {
      "text/plain": [
       "{'speech_raw': '[LAUGHTER] OH BOY [SIGH]',\n",
       " 'speech': 'OH BOY',\n",
       " 'utterance_id': 'fe_03_05863-B-0021'}"
      ]
     },
     "execution_count": 120,
     "metadata": {},
     "output_type": "execute_result"
    },
    {
     "data": {
      "text/plain": [
       "{'speech_raw': '[LAUGHTER] THE DEAD S',\n",
       " 'speech': 'THE DEAD S',\n",
       " 'utterance_id': 'fe_03_10453-A-0023'}"
      ]
     },
     "execution_count": 120,
     "metadata": {},
     "output_type": "execute_result"
    }
   ],
   "source": [
    "def parse_trn_line_bbn(bbn_line):\n",
    "    parts = bbn_line.split(' ')\n",
    "    \n",
    "#     utterance_id = parts[-1]\n",
    "    utterance_id = parts[-1][1:-1] #strip parentheses off\n",
    "    \n",
    "    speech_raw_words = parts[:-1]\n",
    "    speech_raw = ' '.join(speech_raw_words)\n",
    "    speech_raw = speech_raw.rstrip()\n",
    "    \n",
    "    if utterance_id == \"(fe_03_07397-A-0028\":\n",
    "        utterance_id = \"fe_03_07397-A-0028\"\n",
    "        speech_raw_words += ['S']\n",
    "        speech_raw += ' S'\n",
    "    elif utterance_id == \"(fe_03_10453-A-0023\":\n",
    "        utterance_id = \"fe_03_10453-A-0023\"\n",
    "        speech_raw_words += ['S']\n",
    "        speech_raw += ' S'\n",
    "    \n",
    "    speech_filtered_words = [w for w in speech_raw_words if len(w) > 0 and w[0] != '[' and w[-1] != ']']\n",
    "    speech = ' '.join(speech_filtered_words)\n",
    "    speech = speech.rstrip()\n",
    "        \n",
    "    line_rel = {'speech_raw':speech_raw,\n",
    "                'speech':speech,\n",
    "                'utterance_id':utterance_id}\n",
    "    \n",
    "    return line_rel\n",
    "\n",
    "parse_trn_line_bbn('[LAUGHTER] OH BOY [SIGH] (fe_03_05863-B-0021)')\n",
    "parse_trn_line_bbn(\"[LAUGHTER] THE DEAD S(fe_03_10453-A-0023)\")"
   ]
  },
  {
   "cell_type": "markdown",
   "metadata": {},
   "source": [
    "As indicated in `https://catalog.ldc.upenn.edu/docs/LDC2005T19/bbn_trans_readme.txt`, each line of an `.ana` file indicates the start and end times (in samples) of each utterance:\n",
    " - the last column is an utterance id\n",
    " - the second or third from last column indicates the sample range of the utterance"
   ]
  },
  {
   "cell_type": "code",
   "execution_count": 121,
   "metadata": {
    "ExecuteTime": {
     "end_time": "2019-04-15T23:19:30.648566Z",
     "start_time": "2019-04-15T23:19:30.502009Z"
    }
   },
   "outputs": [
    {
     "name": "stdout",
     "output_type": "stream",
     "text": [
      "     1\tfe_03_05863 -c 1 -t NIST_1A -f 966480-974640 -o fe_03_05863-A-0021\r\n",
      "     2\tfe_03_05863 -c 1 -t NIST_1A -f 1821360-1826880 -o fe_03_05863-A-0045\r\n",
      "     3\tfe_03_05863 -c 1 -t NIST_1A -f 2573120-2579840 -o fe_03_05863-A-0065\r\n",
      "     4\tfe_03_05863 -c 1 -t NIST_1A -f 2592080-2598160 -o fe_03_05863-A-0066\r\n",
      "     5\tfe_03_05863 -c 1 -t NIST_1A -f 4225360-4233200 -o fe_03_05863-A-0105\r\n",
      "     6\tfe_03_05863 -c 1 -t NIST_1A -f 4392240-4404720 -o fe_03_05863-A-0109\r\n",
      "     7\tfe_03_05863 -c 1 -t NIST_1A -f 4482880-4492720 -o fe_03_05863-A-0113\r\n",
      "     8\tfe_03_05863 -c 1 -t NIST_1A -f 4687600-4694240 -o fe_03_05863-A-0121\r\n",
      "     9\tfe_03_05863 -c 1 -t NIST_1A -f 4702240-4710880 -o fe_03_05863-A-0122\r\n",
      "    10\tfe_03_05863 -c 1 -t NIST_1A -f 4772000-4799200 -o fe_03_05863-A-0125\r\n",
      "    11\tfe_03_05863 -c 2 -t NIST_1A -f 20240-32480 -o fe_03_05863-B-0002\r\n",
      "    12\tfe_03_05863 -c 2 -t NIST_1A -f 71360-80240 -o fe_03_05863-B-0004\r\n",
      "    13\tfe_03_05863 -c 2 -t NIST_1A -f 755440-762000 -o fe_03_05863-B-0019\r\n",
      "    14\tfe_03_05863 -c 2 -t NIST_1A -f 806960-840560 -o fe_03_05863-B-0021\r\n",
      "    15\tfe_03_05863 -c 2 -t NIST_1A -f 843120-860480 -o fe_03_05863-B-0022\r\n",
      "    16\tfe_03_05863 -c 2 -t NIST_1A -f 1083360-1090720 -o fe_03_05863-B-0027\r\n",
      "    17\tfe_03_05863 -c 2 -t NIST_1A -f 1208480-1213200 -o fe_03_05863-B-0029\r\n",
      "    18\tfe_03_05863 -c 2 -t NIST_1A -f 1456400-1462880 -o fe_03_05863-B-0034\r\n",
      "    19\tfe_03_05863 -c 2 -t NIST_1A -f 1609280-1620960 -o fe_03_05863-B-0039\r\n",
      "    20\tfe_03_05863 -c 2 -t NIST_1A -f 1829200-1836720 -o fe_03_05863-B-0045\r\n"
     ]
    }
   ],
   "source": [
    "%cat -n ./rejected/fe_03_05863.ana | head -20"
   ]
  },
  {
   "cell_type": "code",
   "execution_count": 122,
   "metadata": {
    "ExecuteTime": {
     "end_time": "2019-04-15T23:19:30.660012Z",
     "start_time": "2019-04-15T23:19:30.651077Z"
    }
   },
   "outputs": [
    {
     "data": {
      "text/plain": [
       "['fe_03_05863',\n",
       " '-c',\n",
       " '2',\n",
       " '-t',\n",
       " 'NIST_1A',\n",
       " '-f',\n",
       " '1829200-1836720',\n",
       " '-o',\n",
       " 'fe_03_05863-B-0045']"
      ]
     },
     "execution_count": 122,
     "metadata": {},
     "output_type": "execute_result"
    },
    {
     "data": {
      "text/plain": [
       "'1829200-1836720'"
      ]
     },
     "execution_count": 122,
     "metadata": {},
     "output_type": "execute_result"
    },
    {
     "data": {
      "text/plain": [
       "['1829200', '1836720']"
      ]
     },
     "execution_count": 122,
     "metadata": {},
     "output_type": "execute_result"
    }
   ],
   "source": [
    "\"fe_03_05863 -c 2 -t NIST_1A -f 1829200-1836720 -o fe_03_05863-B-0045\".split(' ')\n",
    "\"fe_03_05863 -c 2 -t NIST_1A -f 1829200-1836720 -o fe_03_05863-B-0045\".split(' ')[-3]\n",
    "\"fe_03_05863 -c 2 -t NIST_1A -f 1829200-1836720 -o fe_03_05863-B-0045\".split(' ')[-3].split('-')"
   ]
  },
  {
   "cell_type": "code",
   "execution_count": 123,
   "metadata": {
    "ExecuteTime": {
     "end_time": "2019-04-15T23:19:30.671495Z",
     "start_time": "2019-04-15T23:19:30.662138Z"
    }
   },
   "outputs": [
    {
     "data": {
      "text/plain": [
       "{'utterance_id': 'fe_03_05863-B-0045',\n",
       " 'start': 1829200,\n",
       " 'end': 1836720,\n",
       " 'duration': 7520,\n",
       " 'audio_fn': 'fe_03_05863.sph',\n",
       " 'channel': 2,\n",
       " 'type': 'NIST_1A'}"
      ]
     },
     "execution_count": 123,
     "metadata": {},
     "output_type": "execute_result"
    }
   ],
   "source": [
    "def parse_ana_line_bbn(bbn_line):\n",
    "    parts = bbn_line.split(' ')\n",
    "    \n",
    "#     utterance_id = parts[-1]\n",
    "    utterance_id = parts[-1]\n",
    "    \n",
    "    audio_ext = '.sph'\n",
    "    audio_fn = parts[0] + audio_ext\n",
    "    \n",
    "    channel = int(parts[2])\n",
    "    \n",
    "    ch_type = parts[4]\n",
    "    \n",
    "    utterance_sample_range = parts[-3]\n",
    "    \n",
    "    start_sample = int(utterance_sample_range.split('-')[0])\n",
    "    end_sample = int(utterance_sample_range.split('-')[1])\n",
    "    duration = end_sample - start_sample\n",
    "    \n",
    "    line_rel = {'utterance_id':utterance_id,\n",
    "                'start':start_sample,\n",
    "                'end':end_sample,\n",
    "                'duration':duration,\n",
    "                'audio_fn':audio_fn,\n",
    "                'channel':channel,\n",
    "                'type':ch_type}\n",
    "    \n",
    "    return line_rel\n",
    "\n",
    "parse_ana_line_bbn(\"fe_03_05863 -c 2 -t NIST_1A -f 1829200-1836720 -o fe_03_05863-B-0045\")"
   ]
  },
  {
   "cell_type": "markdown",
   "metadata": {},
   "source": [
    "#### Parsing files"
   ]
  },
  {
   "cell_type": "code",
   "execution_count": 124,
   "metadata": {
    "ExecuteTime": {
     "end_time": "2019-04-15T23:19:30.677380Z",
     "start_time": "2019-04-15T23:19:30.673336Z"
    }
   },
   "outputs": [],
   "source": [
    "def parse_trn_file_bbn(bbn_fp):\n",
    "    bbn_lines = []\n",
    "    with open(bbn_fp, 'r') as file:\n",
    "        for line in file:\n",
    "            bbn_lines.append(line.rstrip())\n",
    "    parsed_lines = [parse_trn_line_bbn(l) for l in bbn_lines]\n",
    "    return parsed_lines"
   ]
  },
  {
   "cell_type": "code",
   "execution_count": 125,
   "metadata": {
    "ExecuteTime": {
     "end_time": "2019-04-15T23:19:30.682851Z",
     "start_time": "2019-04-15T23:19:30.678686Z"
    }
   },
   "outputs": [
    {
     "data": {
      "text/plain": [
       "'/mnt/truffle/corpora/fisher_english_transcripts/fe_03_p2_tran/data/bbn_orig/058'"
      ]
     },
     "execution_count": 125,
     "metadata": {},
     "output_type": "execute_result"
    }
   ],
   "source": [
    "%pwd"
   ]
  },
  {
   "cell_type": "code",
   "execution_count": 126,
   "metadata": {
    "ExecuteTime": {
     "end_time": "2019-04-15T23:19:30.834778Z",
     "start_time": "2019-04-15T23:19:30.684167Z"
    }
   },
   "outputs": [
    {
     "name": "stdout",
     "output_type": "stream",
     "text": [
      "\u001b[0m\u001b[01;32mfe_03_05863.ana\u001b[0m*  \u001b[01;32mfe_03_05876.trn\u001b[0m*  \u001b[01;32mfe_03_05888.ana\u001b[0m*  \u001b[01;32mfe_03_05889.trn\u001b[0m*\r\n",
      "\u001b[01;32mfe_03_05863.trn\u001b[0m*  \u001b[01;32mfe_03_05887.ana\u001b[0m*  \u001b[01;32mfe_03_05888.trn\u001b[0m*  \u001b[01;32mfe_03_05898.ana\u001b[0m*\r\n",
      "\u001b[01;32mfe_03_05876.ana\u001b[0m*  \u001b[01;32mfe_03_05887.trn\u001b[0m*  \u001b[01;32mfe_03_05889.ana\u001b[0m*  \u001b[01;32mfe_03_05898.trn\u001b[0m*\r\n"
     ]
    }
   ],
   "source": [
    "%ls ./auto-segmented"
   ]
  },
  {
   "cell_type": "code",
   "execution_count": 127,
   "metadata": {
    "ExecuteTime": {
     "end_time": "2019-04-15T23:19:30.855177Z",
     "start_time": "2019-04-15T23:19:30.837423Z"
    }
   },
   "outputs": [
    {
     "data": {
      "text/plain": [
       "[{'speech_raw': 'H- HI THIS IS DEBBIE',\n",
       "  'speech': 'H- HI THIS IS DEBBIE',\n",
       "  'utterance_id': 'fe_03_05876-A-0001'},\n",
       " {'speech_raw': 'HI SYLVIA',\n",
       "  'speech': 'HI SYLVIA',\n",
       "  'utterance_id': 'fe_03_05876-A-0002'},\n",
       " {'speech_raw': \"[LAUGHTER] I'M JUST TRYING TO GET OVER THIS QUESTION\",\n",
       "  'speech': \"I'M JUST TRYING TO GET OVER THIS QUESTION\",\n",
       "  'utterance_id': 'fe_03_05876-A-0003'},\n",
       " {'speech_raw': \"UH NO IT'S MY SECOND CALL BUT THEY JUST SEEM TO GET MO- [LAUGHTER] MORE AND MORE RIDICULOUS\",\n",
       "  'speech': \"UH NO IT'S MY SECOND CALL BUT THEY JUST SEEM TO GET MO- MORE AND MORE RIDICULOUS\",\n",
       "  'utterance_id': 'fe_03_05876-A-0005'},\n",
       " {'speech_raw': 'OH REALLY [LAUGHTER] UM',\n",
       "  'speech': 'OH REALLY UM',\n",
       "  'utterance_id': 'fe_03_05876-A-0006'},\n",
       " {'speech_raw': 'WELL NO MY BEST FRIEND UM',\n",
       "  'speech': 'WELL NO MY BEST FRIEND UM',\n",
       "  'utterance_id': 'fe_03_05876-A-0007'},\n",
       " {'speech_raw': \"I DON'T KNOW MY INSTINCT MY INITIAL INSTINCT IS TO SAY NO UH YOU KNOW\",\n",
       "  'speech': \"I DON'T KNOW MY INSTINCT MY INITIAL INSTINCT IS TO SAY NO UH YOU KNOW\",\n",
       "  'utterance_id': 'fe_03_05876-A-0008'},\n",
       " {'speech_raw': 'HOWEVER I GUESS [LAUGHTER] IF I HAD TO THINK ABOUT IT A WHILE',\n",
       "  'speech': 'HOWEVER I GUESS IF I HAD TO THINK ABOUT IT A WHILE',\n",
       "  'utterance_id': 'fe_03_05876-A-0009'},\n",
       " {'speech_raw': 'SEE I COULD DO SO MUCH WITH A MILLION DOLLARS HELP SO MANY PEOPLE BUT [LIPSMACK]',\n",
       "  'speech': 'SEE I COULD DO SO MUCH WITH A MILLION DOLLARS HELP SO MANY PEOPLE BUT',\n",
       "  'utterance_id': 'fe_03_05876-A-0010'},\n",
       " {'speech_raw': \"I DON'T KNOW IT JUST DOESN'T IT DOESN'T FEEL RIGHT TO TO TAKE TO HAVE THIS STRING ATTACHED YOU KNOW FIRST OF ALL\",\n",
       "  'speech': \"I DON'T KNOW IT JUST DOESN'T IT DOESN'T FEEL RIGHT TO TO TAKE TO HAVE THIS STRING ATTACHED YOU KNOW FIRST OF ALL\",\n",
       "  'utterance_id': 'fe_03_05876-A-0011'},\n",
       " {'speech_raw': \"[LAUGHTER] SO DO I. THAT'S RIGHT\",\n",
       "  'speech': \"SO DO I. THAT'S RIGHT\",\n",
       "  'utterance_id': 'fe_03_05876-A-0012'},\n",
       " {'speech_raw': \"YOU'RE RIGHT\",\n",
       "  'speech': \"YOU'RE RIGHT\",\n",
       "  'utterance_id': 'fe_03_05876-A-0013'},\n",
       " {'speech_raw': \"THAT'S TRUE [NOISE]\",\n",
       "  'speech': \"THAT'S TRUE\",\n",
       "  'utterance_id': 'fe_03_05876-A-0014'},\n",
       " {'speech_raw': 'MHM', 'speech': 'MHM', 'utterance_id': 'fe_03_05876-A-0015'},\n",
       " {'speech_raw': 'RIGHT',\n",
       "  'speech': 'RIGHT',\n",
       "  'utterance_id': 'fe_03_05876-A-0016'},\n",
       " {'speech_raw': \"NO YOU'RE RIGHT THERE'S LIKE A REAL RIPPLING EFFECT AND THEN IF YOUR IF YOUR HUSBAND OR BOYFRIEND KNOWS HER TOO IT WOULD BE IT W- YOU KNOW WHAT IF THEY WANTED TO MAINTAIN A FRIENDSHIP AND YOU COULDN'T BECAUSE OF THIS AGREEMENT\",\n",
       "  'speech': \"NO YOU'RE RIGHT THERE'S LIKE A REAL RIPPLING EFFECT AND THEN IF YOUR IF YOUR HUSBAND OR BOYFRIEND KNOWS HER TOO IT WOULD BE IT W- YOU KNOW WHAT IF THEY WANTED TO MAINTAIN A FRIENDSHIP AND YOU COULDN'T BECAUSE OF THIS AGREEMENT\",\n",
       "  'utterance_id': 'fe_03_05876-A-0017'},\n",
       " {'speech_raw': \"RIGHT EXACTLY NO NO I THINK I THINK IT'S A REALLY IT'S [NOISE]\",\n",
       "  'speech': \"RIGHT EXACTLY NO NO I THINK I THINK IT'S A REALLY IT'S\",\n",
       "  'utterance_id': 'fe_03_05876-A-0018'},\n",
       " {'speech_raw': \"I I DON'T KNOW I GUESS THERE COULD BE AN ARGUMENT MADE FOR TAKING IT\",\n",
       "  'speech': \"I I DON'T KNOW I GUESS THERE COULD BE AN ARGUMENT MADE FOR TAKING IT\",\n",
       "  'utterance_id': 'fe_03_05876-A-0019'},\n",
       " {'speech_raw': 'AND I THINK BASED ON JUST THE AMOUNT [LIPSMACK]',\n",
       "  'speech': 'AND I THINK BASED ON JUST THE AMOUNT',\n",
       "  'utterance_id': 'fe_03_05876-A-0020'},\n",
       " {'speech_raw': 'AND LIKE I SAID THE FACT THAT YOU COULD DO A LOT WITH IT',\n",
       "  'speech': 'AND LIKE I SAID THE FACT THAT YOU COULD DO A LOT WITH IT',\n",
       "  'utterance_id': 'fe_03_05876-A-0021'},\n",
       " {'speech_raw': \"UH DEPENDING ON YOUR YOU KNOW SITUATION AND IT'S INTERESTING QUESTION THOUGH IT IT SAYS YOU DON'T HAVE YOU'RE NOT ALLOWED TO SPEAK TO THEM ANYMORE BUT COULD YOU POSSIBLY GIVE THEM MONEY [LAUGHTER] WELL IF YOU MADE AN AGREEMENT WITH THAT PERSON\",\n",
       "  'speech': \"UH DEPENDING ON YOUR YOU KNOW SITUATION AND IT'S INTERESTING QUESTION THOUGH IT IT SAYS YOU DON'T HAVE YOU'RE NOT ALLOWED TO SPEAK TO THEM ANYMORE BUT COULD YOU POSSIBLY GIVE THEM MONEY WELL IF YOU MADE AN AGREEMENT WITH THAT PERSON\",\n",
       "  'utterance_id': 'fe_03_05876-A-0022'},\n",
       " {'speech_raw': \"I COULD NEVER I'LL NEVER SPEAK TO YOU AGAIN BUT\",\n",
       "  'speech': \"I COULD NEVER I'LL NEVER SPEAK TO YOU AGAIN BUT\",\n",
       "  'utterance_id': 'fe_03_05876-A-0023'},\n",
       " {'speech_raw': \"I'LL GIVE YOU HALF A MILLION DOLLARS\",\n",
       "  'speech': \"I'LL GIVE YOU HALF A MILLION DOLLARS\",\n",
       "  'utterance_id': 'fe_03_05876-A-0024'},\n",
       " {'speech_raw': 'WHAT KIND OF A BENEFACTOR IS THAT ANY WAY',\n",
       "  'speech': 'WHAT KIND OF A BENEFACTOR IS THAT ANY WAY',\n",
       "  'utterance_id': 'fe_03_05876-A-0025'},\n",
       " {'speech_raw': \"I DON'T THINK IT'S A VERY GOOD DEFINITION OF A BENEFA- IN FACT I GET REALLY TICKED OFF UM\",\n",
       "  'speech': \"I DON'T THINK IT'S A VERY GOOD DEFINITION OF A BENEFA- IN FACT I GET REALLY TICKED OFF UM\",\n",
       "  'utterance_id': 'fe_03_05876-A-0026'},\n",
       " {'speech_raw': '[LIPSMACK] ESPECIALLY IN NEW YORK YOU SEE THIS ALL THE TIME WHERE THESE BENEFACTORS ARE CONSTANTLY HAVING THEIR NAMES PLASTERED ALL OVER MUSEUMS GALLERIES AND',\n",
       "  'speech': 'ESPECIALLY IN NEW YORK YOU SEE THIS ALL THE TIME WHERE THESE BENEFACTORS ARE CONSTANTLY HAVING THEIR NAMES PLASTERED ALL OVER MUSEUMS GALLERIES AND',\n",
       "  'utterance_id': 'fe_03_05876-A-0027'},\n",
       " {'speech_raw': \"PLASTERED EVERYWHERE JUST 'CAUSE THEY'VE GIVEN THEIR MONEY TO CERTAIN PLACES LIKE WHATEVER HAPPENED TO LIKE YOU KNOW SORT OF ANONYMITY AND JUST A HUMBLE SORT OF OKAY HERE\",\n",
       "  'speech': \"PLASTERED EVERYWHERE JUST 'CAUSE THEY'VE GIVEN THEIR MONEY TO CERTAIN PLACES LIKE WHATEVER HAPPENED TO LIKE YOU KNOW SORT OF ANONYMITY AND JUST A HUMBLE SORT OF OKAY HERE\",\n",
       "  'utterance_id': 'fe_03_05876-A-0028'},\n",
       " {'speech_raw': \"YOU KNOW HERE'S TEN MILLION DOLLARS TO REBUILD THIS MUSEUM WING BUT YOU DON'T HAVE TO NAME IT AFTER ME\",\n",
       "  'speech': \"YOU KNOW HERE'S TEN MILLION DOLLARS TO REBUILD THIS MUSEUM WING BUT YOU DON'T HAVE TO NAME IT AFTER ME\",\n",
       "  'utterance_id': 'fe_03_05876-A-0029'},\n",
       " {'speech_raw': 'JUST FOR MONEY',\n",
       "  'speech': 'JUST FOR MONEY',\n",
       "  'utterance_id': 'fe_03_05876-A-0031'},\n",
       " {'speech_raw': 'WELL ON HEAT',\n",
       "  'speech': 'WELL ON HEAT',\n",
       "  'utterance_id': 'fe_03_05876-A-0032'},\n",
       " {'speech_raw': \"NO YOU'RE RIGHT BUT I THINK ON T._V. THE FACTOR IS THE SAME RIGHT\",\n",
       "  'speech': \"NO YOU'RE RIGHT BUT I THINK ON T._V. THE FACTOR IS THE SAME RIGHT\",\n",
       "  'utterance_id': 'fe_03_05876-A-0033'},\n",
       " {'speech_raw': 'EVERYBODY WANTS TO BE ON T._V.',\n",
       "  'speech': 'EVERYBODY WANTS TO BE ON T._V.',\n",
       "  'utterance_id': 'fe_03_05876-A-0034'},\n",
       " {'speech_raw': \"IT'S PATHETIC\",\n",
       "  'speech': \"IT'S PATHETIC\",\n",
       "  'utterance_id': 'fe_03_05876-A-0035'},\n",
       " {'speech_raw': 'RIGHT RIGHT',\n",
       "  'speech': 'RIGHT RIGHT',\n",
       "  'utterance_id': 'fe_03_05876-A-0036'},\n",
       " {'speech_raw': \"WHERE WHERE'S THE LIMIT\",\n",
       "  'speech': \"WHERE WHERE'S THE LIMIT\",\n",
       "  'utterance_id': 'fe_03_05876-A-0038'},\n",
       " {'speech_raw': \"NO YOU'RE RIGHT\",\n",
       "  'speech': \"NO YOU'RE RIGHT\",\n",
       "  'utterance_id': 'fe_03_05876-A-0039'},\n",
       " {'speech_raw': \"NO YOU'RE RIGHT I LIKE THE USE OF THE WORD PROSTITUTION YOU'RE ABSOLUTELY RIGHT\",\n",
       "  'speech': \"NO YOU'RE RIGHT I LIKE THE USE OF THE WORD PROSTITUTION YOU'RE ABSOLUTELY RIGHT\",\n",
       "  'utterance_id': 'fe_03_05876-A-0040'},\n",
       " {'speech_raw': '[MN]', 'speech': '', 'utterance_id': 'fe_03_05876-A-0041'},\n",
       " {'speech_raw': 'DON-',\n",
       "  'speech': 'DON-',\n",
       "  'utterance_id': 'fe_03_05876-A-0042'},\n",
       " {'speech_raw': \"DON'T YOU THINK THOUGH THAT\",\n",
       "  'speech': \"DON'T YOU THINK THOUGH THAT\",\n",
       "  'utterance_id': 'fe_03_05876-A-0043'},\n",
       " {'speech_raw': \"UM THAT THEY IT'S GOTTEN A LOT WORSE IT'S BECO- THAT THIS PHENOMENON HAS BECOME MORE ACUTE OVER THE LAST FIVE YEARS OR SO I MEAN I THINK AMERICAN SOCIETY IS GENERALLY VERY MONEY ORIENTED UM\",\n",
       "  'speech': \"UM THAT THEY IT'S GOTTEN A LOT WORSE IT'S BECO- THAT THIS PHENOMENON HAS BECOME MORE ACUTE OVER THE LAST FIVE YEARS OR SO I MEAN I THINK AMERICAN SOCIETY IS GENERALLY VERY MONEY ORIENTED UM\",\n",
       "  'utterance_id': 'fe_03_05876-A-0044'},\n",
       " {'speech_raw': \"BUT IT'S\",\n",
       "  'speech': \"BUT IT'S\",\n",
       "  'utterance_id': 'fe_03_05876-A-0045'},\n",
       " {'speech_raw': \"I THINK IT'S IT'S REACHING SOME KIND OF PEAK YOU KNOW WITH ALL THESE REALITY SHOWS AS YOU SAID AND\",\n",
       "  'speech': \"I THINK IT'S IT'S REACHING SOME KIND OF PEAK YOU KNOW WITH ALL THESE REALITY SHOWS AS YOU SAID AND\",\n",
       "  'utterance_id': 'fe_03_05876-A-0046'},\n",
       " {'speech_raw': \"I DON'T KNOW\",\n",
       "  'speech': \"I DON'T KNOW\",\n",
       "  'utterance_id': 'fe_03_05876-A-0047'},\n",
       " {'speech_raw': \"IT'S KIND OF JUVENILE ISN'T IT ISN'T IT KIND OF LIKE BEING BACK IN HIGH SCHOOL OOH IS SHE GOING TO DO THAT AND WOULD SHE SWALLOW THAT SNAIL\",\n",
       "  'speech': \"IT'S KIND OF JUVENILE ISN'T IT ISN'T IT KIND OF LIKE BEING BACK IN HIGH SCHOOL OOH IS SHE GOING TO DO THAT AND WOULD SHE SWALLOW THAT SNAIL\",\n",
       "  'utterance_id': 'fe_03_05876-A-0049'},\n",
       " {'speech_raw': \"THAT'S TRUE\",\n",
       "  'speech': \"THAT'S TRUE\",\n",
       "  'utterance_id': 'fe_03_05876-A-0050'},\n",
       " {'speech_raw': \"YOU'RE RIGHT IN FACT I THINK I HEARD THERE'S A BIG BACKLASH IN HOLLYWOOD ISN'T THERE\",\n",
       "  'speech': \"YOU'RE RIGHT IN FACT I THINK I HEARD THERE'S A BIG BACKLASH IN HOLLYWOOD ISN'T THERE\",\n",
       "  'utterance_id': 'fe_03_05876-A-0051'},\n",
       " {'speech_raw': 'QUITE A LOT OF ACTORS LIKE A LITTLE UPSET BECAUSE THEY',\n",
       "  'speech': 'QUITE A LOT OF ACTORS LIKE A LITTLE UPSET BECAUSE THEY',\n",
       "  'utterance_id': 'fe_03_05876-A-0052'},\n",
       " {'speech_raw': 'ARE THERE NO WRITERS EITHER THERE MUST BE WRITERS NO',\n",
       "  'speech': 'ARE THERE NO WRITERS EITHER THERE MUST BE WRITERS NO',\n",
       "  'utterance_id': 'fe_03_05876-A-0053'},\n",
       " {'speech_raw': \"NO RIGHT NO DIALOG BUT THE IDEAS YEAH THERE'S AN IDEA PERSON\",\n",
       "  'speech': \"NO RIGHT NO DIALOG BUT THE IDEAS YEAH THERE'S AN IDEA PERSON\",\n",
       "  'utterance_id': 'fe_03_05876-A-0054'},\n",
       " {'speech_raw': \"YEAH I'M TOTALLY WITH YOU I TOTALLY AGREE AND UM [LIPSMACK] I THINK IT'S DISGUSTING\",\n",
       "  'speech': \"YEAH I'M TOTALLY WITH YOU I TOTALLY AGREE AND UM I THINK IT'S DISGUSTING\",\n",
       "  'utterance_id': 'fe_03_05876-A-0055'},\n",
       " {'speech_raw': \"BUT I THINK IT'S LIKE I SAID I THINK IT'S A REFLECTION OF JUST HOW SHALLOW AND PETTY AMERICAN SOCIETY HAS BECOME OR IS BECOMING OR WHATEVER\",\n",
       "  'speech': \"BUT I THINK IT'S LIKE I SAID I THINK IT'S A REFLECTION OF JUST HOW SHALLOW AND PETTY AMERICAN SOCIETY HAS BECOME OR IS BECOMING OR WHATEVER\",\n",
       "  'utterance_id': 'fe_03_05876-A-0056'},\n",
       " {'speech_raw': 'UM', 'speech': 'UM', 'utterance_id': 'fe_03_05876-A-0057'},\n",
       " {'speech_raw': 'SO', 'speech': 'SO', 'utterance_id': 'fe_03_05876-A-0058'},\n",
       " {'speech_raw': 'YES SORRY',\n",
       "  'speech': 'YES SORRY',\n",
       "  'utterance_id': 'fe_03_05876-A-0059'},\n",
       " {'speech_raw': 'YEAH',\n",
       "  'speech': 'YEAH',\n",
       "  'utterance_id': 'fe_03_05876-A-0060'},\n",
       " {'speech_raw': 'CREATING YOUR OWN DESTINY',\n",
       "  'speech': 'CREATING YOUR OWN DESTINY',\n",
       "  'utterance_id': 'fe_03_05876-A-0061'},\n",
       " {'speech_raw': \"OF COURSE WHO'S TO SAY THAT YOU NEVER I MEAN [MN]\",\n",
       "  'speech': \"OF COURSE WHO'S TO SAY THAT YOU NEVER I MEAN\",\n",
       "  'utterance_id': 'fe_03_05876-A-0062'},\n",
       " {'speech_raw': \"IF IT'S\",\n",
       "  'speech': \"IF IT'S\",\n",
       "  'utterance_id': 'fe_03_05876-A-0063'},\n",
       " {'speech_raw': \"[MN] IT'S LIKE A GENTLEMAN'S AGREEMENT ISN'T IT\",\n",
       "  'speech': \"IT'S LIKE A GENTLEMAN'S AGREEMENT ISN'T IT\",\n",
       "  'utterance_id': 'fe_03_05876-A-0064'},\n",
       " {'speech_raw': \"I MEAN WHO'S TO SAY THAT YOU COULDN'T TAKE THE MONEY AGREE TO IT AND THEN GO TALK TO YOUR FRIEND I MEAN\",\n",
       "  'speech': \"I MEAN WHO'S TO SAY THAT YOU COULDN'T TAKE THE MONEY AGREE TO IT AND THEN GO TALK TO YOUR FRIEND I MEAN\",\n",
       "  'utterance_id': 'fe_03_05876-A-0065'},\n",
       " {'speech_raw': \"THERE'S THAT BUT UM [LIPSMACK]\",\n",
       "  'speech': \"THERE'S THAT BUT UM\",\n",
       "  'utterance_id': 'fe_03_05876-A-0067'},\n",
       " {'speech_raw': \"I DON'T KNOW I THINK IT'S UH YEAH IT'S LIKE YOU SAID IT'S KINDA LIKE A SHOCK MAYBE IT'S A SHOCK QUESTION [LAUGHTER]\",\n",
       "  'speech': \"I DON'T KNOW I THINK IT'S UH YEAH IT'S LIKE YOU SAID IT'S KINDA LIKE A SHOCK MAYBE IT'S A SHOCK QUESTION\",\n",
       "  'utterance_id': 'fe_03_05876-A-0068'},\n",
       " {'speech_raw': 'THIS IS ALSO MY SECOND CALL THE FIRST ONE WAS ABOUT UM LIKE RELATIONSHIPS',\n",
       "  'speech': 'THIS IS ALSO MY SECOND CALL THE FIRST ONE WAS ABOUT UM LIKE RELATIONSHIPS',\n",
       "  'utterance_id': 'fe_03_05876-A-0069'},\n",
       " {'speech_raw': 'AND WHAT YOU THINK IS THE BEST TRAIT IN SOMEONE THAT',\n",
       "  'speech': 'AND WHAT YOU THINK IS THE BEST TRAIT IN SOMEONE THAT',\n",
       "  'utterance_id': 'fe_03_05876-A-0070'},\n",
       " {'speech_raw': 'OH REALLY',\n",
       "  'speech': 'OH REALLY',\n",
       "  'utterance_id': 'fe_03_05876-A-0071'},\n",
       " {'speech_raw': \"IT WASN'T ABOUT THE SARS VIRUS WAS IT [LAUGHTER] [MN] HUH\",\n",
       "  'speech': \"IT WASN'T ABOUT THE SARS VIRUS WAS IT HUH\",\n",
       "  'utterance_id': 'fe_03_05876-A-0072'},\n",
       " {'speech_raw': 'YEAH IT WAS JUST UH',\n",
       "  'speech': 'YEAH IT WAS JUST UH',\n",
       "  'utterance_id': 'fe_03_05876-A-0073'},\n",
       " {'speech_raw': \"WELL I DON'T KNOW THIS\",\n",
       "  'speech': \"WELL I DON'T KNOW THIS\",\n",
       "  'utterance_id': 'fe_03_05876-A-0074'},\n",
       " {'speech_raw': \"BUT THEY DID MENTION WHEN DIDN'T THEY SAY IT WAS A BENEFACTOR THOUGH OR SOME SOME SORT OF SPECIFIC\",\n",
       "  'speech': \"BUT THEY DID MENTION WHEN DIDN'T THEY SAY IT WAS A BENEFACTOR THOUGH OR SOME SOME SORT OF SPECIFIC\",\n",
       "  'utterance_id': 'fe_03_05876-A-0075'},\n",
       " {'speech_raw': \"OR PERHAPS YOU KNOW THEM AND THEY DON'T WANT TO BE KNOWN\",\n",
       "  'speech': \"OR PERHAPS YOU KNOW THEM AND THEY DON'T WANT TO BE KNOWN\",\n",
       "  'utterance_id': 'fe_03_05876-A-0076'},\n",
       " {'speech_raw': 'THEIR ANONYMITY IS PART OF THE WHOLE',\n",
       "  'speech': 'THEIR ANONYMITY IS PART OF THE WHOLE',\n",
       "  'utterance_id': 'fe_03_05876-A-0077'},\n",
       " {'speech_raw': \"PROCESS PERHAPS THEY DO KNOW YOU I MEAN I DON'T KNOW\",\n",
       "  'speech': \"PROCESS PERHAPS THEY DO KNOW YOU I MEAN I DON'T KNOW\",\n",
       "  'utterance_id': 'fe_03_05876-A-0078'},\n",
       " {'speech_raw': 'UH-HUH',\n",
       "  'speech': 'UH-HUH',\n",
       "  'utterance_id': 'fe_03_05876-A-0079'},\n",
       " {'speech_raw': 'RIGHT',\n",
       "  'speech': 'RIGHT',\n",
       "  'utterance_id': 'fe_03_05876-A-0080'},\n",
       " {'speech_raw': \"[NOISE] YEAH I MEAN HONESTLY I HAVE TO REALLY THINK ABOUT WHO MY BEST FRIEND IS THOUGH IN A SENSE I MEAN I'M I'M MARRIED SO REALLY MY HUSBAND'S MY BEST FRIEND SO IT WOULD BE\",\n",
       "  'speech': \"YEAH I MEAN HONESTLY I HAVE TO REALLY THINK ABOUT WHO MY BEST FRIEND IS THOUGH IN A SENSE I MEAN I'M I'M MARRIED SO REALLY MY HUSBAND'S MY BEST FRIEND SO IT WOULD BE\",\n",
       "  'utterance_id': 'fe_03_05876-A-0081'},\n",
       " {'speech_raw': \"I NOT I'M NOT\",\n",
       "  'speech': \"I NOT I'M NOT\",\n",
       "  'utterance_id': 'fe_03_05876-A-0082'},\n",
       " {'speech_raw': \"CLOSE ANYMORE WITH LIKE MY BEST FRIEND LIKE IN HIGH SCHOOL OR SOMETHING LIKE THAT AND I DON'T\",\n",
       "  'speech': \"CLOSE ANYMORE WITH LIKE MY BEST FRIEND LIKE IN HIGH SCHOOL OR SOMETHING LIKE THAT AND I DON'T\",\n",
       "  'utterance_id': 'fe_03_05876-A-0083'},\n",
       " {'speech_raw': \"I MEAN I HAVE GOOD FRIENDS THAT I COULD RELY ON IF SOMETHING HAPPENS TO ME I'D CALL THEM BUT\",\n",
       "  'speech': \"I MEAN I HAVE GOOD FRIENDS THAT I COULD RELY ON IF SOMETHING HAPPENS TO ME I'D CALL THEM BUT\",\n",
       "  'utterance_id': 'fe_03_05876-A-0084'},\n",
       " {'speech_raw': \"[LIPSMACK] I DON'T HAVE YOU KNOW LIKE A GIRLFRIEND THAT I CALL EVERY DAY OR SOMETHING LIKE THAT\",\n",
       "  'speech': \"I DON'T HAVE YOU KNOW LIKE A GIRLFRIEND THAT I CALL EVERY DAY OR SOMETHING LIKE THAT\",\n",
       "  'utterance_id': 'fe_03_05876-A-0085'},\n",
       " {'speech_raw': \"SO I'D REALLY HAVE TO KINDA\",\n",
       "  'speech': \"SO I'D REALLY HAVE TO KINDA\",\n",
       "  'utterance_id': 'fe_03_05876-A-0086'},\n",
       " {'speech_raw': 'WRACK MY BRAIN YEAH TO THINK OF SOMEBODY WHO I [SIGH] [LAUGHTER] WHO I WOULD NOT HAVE TO TALK TO I MEAN',\n",
       "  'speech': 'WRACK MY BRAIN YEAH TO THINK OF SOMEBODY WHO I WHO I WOULD NOT HAVE TO TALK TO I MEAN',\n",
       "  'utterance_id': 'fe_03_05876-A-0087'},\n",
       " {'speech_raw': 'MHM', 'speech': 'MHM', 'utterance_id': 'fe_03_05876-A-0089'},\n",
       " {'speech_raw': 'YEAH',\n",
       "  'speech': 'YEAH',\n",
       "  'utterance_id': 'fe_03_05876-A-0091'},\n",
       " {'speech_raw': \"OH THAT'S NEAT\",\n",
       "  'speech': \"OH THAT'S NEAT\",\n",
       "  'utterance_id': 'fe_03_05876-A-0092'},\n",
       " {'speech_raw': \"NOW SEE THAT'S COOL I HAD THAT IN HIGH SCHOOL AND LIKE THROUGH COLLEGE AND THEN\",\n",
       "  'speech': \"NOW SEE THAT'S COOL I HAD THAT IN HIGH SCHOOL AND LIKE THROUGH COLLEGE AND THEN\",\n",
       "  'utterance_id': 'fe_03_05876-A-0093'},\n",
       " {'speech_raw': 'NO I I MOVED AWAY AND LIVED FOR MANY YEARS OUTSIDE OF THE COUNTY MOVED IN OTHER S- LIVED IN OTHER STATES SO',\n",
       "  'speech': 'NO I I MOVED AWAY AND LIVED FOR MANY YEARS OUTSIDE OF THE COUNTY MOVED IN OTHER S- LIVED IN OTHER STATES SO',\n",
       "  'utterance_id': 'fe_03_05876-A-0094'},\n",
       " {'speech_raw': \"UM YOU KNOW IT THERE ARE PEOPLE I CAN JUST PICK UP THE PHONE AND AND YOU KNOW WE'RE RIGHT BACK TO WHERE WE WERE AND THAT'S VERY COOL THAT'S A GREAT KIND OF FRIENDSHIP BUT [LIPSMACK] UH YEAH I KNOW I KNOW EXACTLY WHAT YOU'RE DESCRIBING I DON'T REALLY HAVE THAT WITH LIKE A GIRLFRIEND\",\n",
       "  'speech': \"UM YOU KNOW IT THERE ARE PEOPLE I CAN JUST PICK UP THE PHONE AND AND YOU KNOW WE'RE RIGHT BACK TO WHERE WE WERE AND THAT'S VERY COOL THAT'S A GREAT KIND OF FRIENDSHIP BUT UH YEAH I KNOW I KNOW EXACTLY WHAT YOU'RE DESCRIBING I DON'T REALLY HAVE THAT WITH LIKE A GIRLFRIEND\",\n",
       "  'utterance_id': 'fe_03_05876-A-0095'},\n",
       " {'speech_raw': 'SO UM',\n",
       "  'speech': 'SO UM',\n",
       "  'utterance_id': 'fe_03_05876-A-0096'},\n",
       " {'speech_raw': 'IT WOULD BE DIFFICULT',\n",
       "  'speech': 'IT WOULD BE DIFFICULT',\n",
       "  'utterance_id': 'fe_03_05876-A-0097'},\n",
       " {'speech_raw': 'BUT STILL I I I HAVE TO GO WITH MY INITIAL INSTINCTS WHICH IS TO SAY NO',\n",
       "  'speech': 'BUT STILL I I I HAVE TO GO WITH MY INITIAL INSTINCTS WHICH IS TO SAY NO',\n",
       "  'utterance_id': 'fe_03_05876-A-0098'},\n",
       " {'speech_raw': \"BECAUSE SIMPLY BECAUSE IT'S JUST TOO SH- IT'S\",\n",
       "  'speech': \"BECAUSE SIMPLY BECAUSE IT'S JUST TOO SH- IT'S\",\n",
       "  'utterance_id': 'fe_03_05876-A-0099'},\n",
       " {'speech_raw': \"IT'S THAT WHOLE CONCEPT'S TOO SHALLOW IT'S IT'S IT'S TOO YEAH BUT IT'S THAT WHOLE CONCEPT OF ANYTHING FOR MONEY LIKE MONEY IS THE ANSWER TO EVERYTHING YOU KNOW AND\",\n",
       "  'speech': \"IT'S THAT WHOLE CONCEPT'S TOO SHALLOW IT'S IT'S IT'S TOO YEAH BUT IT'S THAT WHOLE CONCEPT OF ANYTHING FOR MONEY LIKE MONEY IS THE ANSWER TO EVERYTHING YOU KNOW AND\",\n",
       "  'utterance_id': 'fe_03_05876-A-0100'},\n",
       " {'speech_raw': \"YEAH I MEAN A MILLION DOLLARS WOULD BE BRILLIANT I MEAN WHATE- EVEN IF AFTER TAXES BUT [NOISE] I DON'T THINK IT'S WORTH PUTTING THAT KINDA PRICE ON IT\",\n",
       "  'speech': \"YEAH I MEAN A MILLION DOLLARS WOULD BE BRILLIANT I MEAN WHATE- EVEN IF AFTER TAXES BUT I DON'T THINK IT'S WORTH PUTTING THAT KINDA PRICE ON IT\",\n",
       "  'utterance_id': 'fe_03_05876-A-0101'},\n",
       " {'speech_raw': '[NOISE] RIGHT [NOISE]',\n",
       "  'speech': 'RIGHT',\n",
       "  'utterance_id': 'fe_03_05876-A-0102'},\n",
       " {'speech_raw': 'WELL TED TURNER MAYBE [LAUGHTER]',\n",
       "  'speech': 'WELL TED TURNER MAYBE',\n",
       "  'utterance_id': 'fe_03_05876-A-0103'},\n",
       " {'speech_raw': 'RIGHT',\n",
       "  'speech': 'RIGHT',\n",
       "  'utterance_id': 'fe_03_05876-A-0104'},\n",
       " {'speech_raw': 'NOT AT THAT COST IF YOU WERE TO WIN IT OUTRIGHT LIKE A LOTTERY',\n",
       "  'speech': 'NOT AT THAT COST IF YOU WERE TO WIN IT OUTRIGHT LIKE A LOTTERY',\n",
       "  'utterance_id': 'fe_03_05876-A-0105'},\n",
       " {'speech_raw': 'HELLO',\n",
       "  'speech': 'HELLO',\n",
       "  'utterance_id': 'fe_03_05876-B-0001'},\n",
       " {'speech_raw': 'HI THIS IS SYLVIA',\n",
       "  'speech': 'HI THIS IS SYLVIA',\n",
       "  'utterance_id': 'fe_03_05876-B-0002'},\n",
       " {'speech_raw': '[LAUGHTER] HOW ARE YOU',\n",
       "  'speech': 'HOW ARE YOU',\n",
       "  'utterance_id': 'fe_03_05876-B-0003'},\n",
       " {'speech_raw': 'OH YEAH IS THIS YOUR FIRST CALL',\n",
       "  'speech': 'OH YEAH IS THIS YOUR FIRST CALL',\n",
       "  'utterance_id': 'fe_03_05876-B-0004'},\n",
       " {'speech_raw': 'M- MY FIRST CALL WAS KINDA NORMAL UM YEAH BUT WOULD WOULD SO WOULD YOU TAKE THE MILLION DOLLARS',\n",
       "  'speech': 'M- MY FIRST CALL WAS KINDA NORMAL UM YEAH BUT WOULD WOULD SO WOULD YOU TAKE THE MILLION DOLLARS',\n",
       "  'utterance_id': 'fe_03_05876-B-0005'},\n",
       " {'speech_raw': 'RIGHT',\n",
       "  'speech': 'RIGHT',\n",
       "  'utterance_id': 'fe_03_05876-B-0006'},\n",
       " {'speech_raw': \"YEAH RIGHT YOU'RE YEAH I I'M RIGHT THERE WITH YOU UM I WOULDN'T TAKE IT BECAUSE FIRST OF ALL I LIVE IN NEW YORK AND A MILLION DOLLARS IS NOT THAT MUCH MONEY [LAUGHTER] IT REALLY ISN'T [LAUGHTER] I MEAN AFTER TAXES I MEAN WHAT CAN YOU GET [LAUGHTER] REALLY BUT UM\",\n",
       "  'speech': \"YEAH RIGHT YOU'RE YEAH I I'M RIGHT THERE WITH YOU UM I WOULDN'T TAKE IT BECAUSE FIRST OF ALL I LIVE IN NEW YORK AND A MILLION DOLLARS IS NOT THAT MUCH MONEY IT REALLY ISN'T I MEAN AFTER TAXES I M"
      ]
     },
     "execution_count": 127,
     "metadata": {},
     "output_type": "execute_result"
    },
    {
     "data": {
      "text/html": [
       "<b>limit_output extension: Maximum message size of 20000 exceeded with 33900 characters</b>"
      ]
     },
     "metadata": {},
     "output_type": "display_data"
    }
   ],
   "source": [
    "parse_trn_file_bbn('./auto-segmented/fe_03_05876.trn')"
   ]
  },
  {
   "cell_type": "code",
   "execution_count": 128,
   "metadata": {
    "ExecuteTime": {
     "end_time": "2019-04-15T23:19:30.859311Z",
     "start_time": "2019-04-15T23:19:30.856355Z"
    }
   },
   "outputs": [],
   "source": [
    "def parse_ana_file_bbn(bbn_fp):\n",
    "    bbn_lines = []\n",
    "    with open(bbn_fp, 'r') as file:\n",
    "        for line in file:\n",
    "            bbn_lines.append(line.rstrip())\n",
    "    parsed_lines = [parse_ana_line_bbn(l) for l in bbn_lines]\n",
    "    return parsed_lines"
   ]
  },
  {
   "cell_type": "code",
   "execution_count": 129,
   "metadata": {
    "ExecuteTime": {
     "end_time": "2019-04-15T23:19:30.888897Z",
     "start_time": "2019-04-15T23:19:30.860554Z"
    }
   },
   "outputs": [
    {
     "data": {
      "text/plain": [
       "[{'utterance_id': 'fe_03_05876-A-0001',\n",
       "  'start': 19360,\n",
       "  'end': 33280,\n",
       "  'duration': 13920,\n",
       "  'audio_fn': 'fe_03_05876.sph',\n",
       "  'channel': 1,\n",
       "  'type': 'NIST_1A'},\n",
       " {'utterance_id': 'fe_03_05876-A-0002',\n",
       "  'start': 39280,\n",
       "  'end': 50880,\n",
       "  'duration': 11600,\n",
       "  'audio_fn': 'fe_03_05876.sph',\n",
       "  'channel': 1,\n",
       "  'type': 'NIST_1A'},\n",
       " {'utterance_id': 'fe_03_05876-A-0003',\n",
       "  'start': 54720,\n",
       "  'end': 80080,\n",
       "  'duration': 25360,\n",
       "  'audio_fn': 'fe_03_05876.sph',\n",
       "  'channel': 1,\n",
       "  'type': 'NIST_1A'},\n",
       " {'utterance_id': 'fe_03_05876-A-0005',\n",
       "  'start': 94160,\n",
       "  'end': 131360,\n",
       "  'duration': 37200,\n",
       "  'audio_fn': 'fe_03_05876.sph',\n",
       "  'channel': 1,\n",
       "  'type': 'NIST_1A'},\n",
       " {'utterance_id': 'fe_03_05876-A-0006',\n",
       "  'start': 140400,\n",
       "  'end': 161200,\n",
       "  'duration': 20800,\n",
       "  'audio_fn': 'fe_03_05876.sph',\n",
       "  'channel': 1,\n",
       "  'type': 'NIST_1A'},\n",
       " {'utterance_id': 'fe_03_05876-A-0007',\n",
       "  'start': 180480,\n",
       "  'end': 215200,\n",
       "  'duration': 34720,\n",
       "  'audio_fn': 'fe_03_05876.sph',\n",
       "  'channel': 1,\n",
       "  'type': 'NIST_1A'},\n",
       " {'utterance_id': 'fe_03_05876-A-0008',\n",
       "  'start': 215520,\n",
       "  'end': 250400,\n",
       "  'duration': 34880,\n",
       "  'audio_fn': 'fe_03_05876.sph',\n",
       "  'channel': 1,\n",
       "  'type': 'NIST_1A'},\n",
       " {'utterance_id': 'fe_03_05876-A-0009',\n",
       "  'start': 252960,\n",
       "  'end': 281120,\n",
       "  'duration': 28160,\n",
       "  'audio_fn': 'fe_03_05876.sph',\n",
       "  'channel': 1,\n",
       "  'type': 'NIST_1A'},\n",
       " {'utterance_id': 'fe_03_05876-A-0010',\n",
       "  'start': 286800,\n",
       "  'end': 327440,\n",
       "  'duration': 40640,\n",
       "  'audio_fn': 'fe_03_05876.sph',\n",
       "  'channel': 1,\n",
       "  'type': 'NIST_1A'},\n",
       " {'utterance_id': 'fe_03_05876-A-0011',\n",
       "  'start': 340480,\n",
       "  'end': 395760,\n",
       "  'duration': 55280,\n",
       "  'audio_fn': 'fe_03_05876.sph',\n",
       "  'channel': 1,\n",
       "  'type': 'NIST_1A'},\n",
       " {'utterance_id': 'fe_03_05876-A-0012',\n",
       "  'start': 448880,\n",
       "  'end': 471040,\n",
       "  'duration': 22160,\n",
       "  'audio_fn': 'fe_03_05876.sph',\n",
       "  'channel': 1,\n",
       "  'type': 'NIST_1A'},\n",
       " {'utterance_id': 'fe_03_05876-A-0013',\n",
       "  'start': 472800,\n",
       "  'end': 482000,\n",
       "  'duration': 9200,\n",
       "  'audio_fn': 'fe_03_05876.sph',\n",
       "  'channel': 1,\n",
       "  'type': 'NIST_1A'},\n",
       " {'utterance_id': 'fe_03_05876-A-0014',\n",
       "  'start': 493280,\n",
       "  'end': 505840,\n",
       "  'duration': 12560,\n",
       "  'audio_fn': 'fe_03_05876.sph',\n",
       "  'channel': 1,\n",
       "  'type': 'NIST_1A'},\n",
       " {'utterance_id': 'fe_03_05876-A-0015',\n",
       "  'start': 595200,\n",
       "  'end': 602400,\n",
       "  'duration': 7200,\n",
       "  'audio_fn': 'fe_03_05876.sph',\n",
       "  'channel': 1,\n",
       "  'type': 'NIST_1A'},\n",
       " {'utterance_id': 'fe_03_05876-A-0016',\n",
       "  'start': 637520,\n",
       "  'end': 646560,\n",
       "  'duration': 9040,\n",
       "  'audio_fn': 'fe_03_05876.sph',\n",
       "  'channel': 1,\n",
       "  'type': 'NIST_1A'},\n",
       " {'utterance_id': 'fe_03_05876-A-0017',\n",
       "  'start': 681600,\n",
       "  'end': 781120,\n",
       "  'duration': 99520,\n",
       "  'audio_fn': 'fe_03_05876.sph',\n",
       "  'channel': 1,\n",
       "  'type': 'NIST_1A'},\n",
       " {'utterance_id': 'fe_03_05876-A-0018',\n",
       "  'start': 829760,\n",
       "  'end': 857360,\n",
       "  'duration': 27600,\n",
       "  'audio_fn': 'fe_03_05876.sph',\n",
       "  'channel': 1,\n",
       "  'type': 'NIST_1A'},\n",
       " {'utterance_id': 'fe_03_05876-A-0019',\n",
       "  'start': 865920,\n",
       "  'end': 896000,\n",
       "  'duration': 30080,\n",
       "  'audio_fn': 'fe_03_05876.sph',\n",
       "  'channel': 1,\n",
       "  'type': 'NIST_1A'},\n",
       " {'utterance_id': 'fe_03_05876-A-0020',\n",
       "  'start': 900160,\n",
       "  'end': 921200,\n",
       "  'duration': 21040,\n",
       "  'audio_fn': 'fe_03_05876.sph',\n",
       "  'channel': 1,\n",
       "  'type': 'NIST_1A'},\n",
       " {'utterance_id': 'fe_03_05876-A-0021',\n",
       "  'start': 924720,\n",
       "  'end': 947120,\n",
       "  'duration': 22400,\n",
       "  'audio_fn': 'fe_03_05876.sph',\n",
       "  'channel': 1,\n",
       "  'type': 'NIST_1A'},\n",
       " {'utterance_id': 'fe_03_05876-A-0022',\n",
       "  'start': 947440,\n",
       "  'end': 1056640,\n",
       "  'duration': 109200,\n",
       "  'audio_fn': 'fe_03_05876.sph',\n",
       "  'channel': 1,\n",
       "  'type': 'NIST_1A'},\n",
       " {'utterance_id': 'fe_03_05876-A-0023',\n",
       "  'start': 1056000,\n",
       "  'end': 1078880,\n",
       "  'duration': 22880,\n",
       "  'audio_fn': 'fe_03_05876.sph',\n",
       "  'channel': 1,\n",
       "  'type': 'NIST_1A'},\n",
       " {'utterance_id': 'fe_03_05876-A-0024',\n",
       "  'start': 1078960,\n",
       "  'end': 1096480,\n",
       "  'duration': 17520,\n",
       "  'audio_fn': 'fe_03_05876.sph',\n",
       "  'channel': 1,\n",
       "  'type': 'NIST_1A'},\n",
       " {'utterance_id': 'fe_03_05876-A-0025',\n",
       "  'start': 1131200,\n",
       "  'end': 1151440,\n",
       "  'duration': 20240,\n",
       "  'audio_fn': 'fe_03_05876.sph',\n",
       "  'channel': 1,\n",
       "  'type': 'NIST_1A'},\n",
       " {'utterance_id': 'fe_03_05876-A-0026',\n",
       "  'start': 1151760,\n",
       "  'end': 1194160,\n",
       "  'duration': 42400,\n",
       "  'audio_fn': 'fe_03_05876.sph',\n",
       "  'channel': 1,\n",
       "  'type': 'NIST_1A'},\n",
       " {'utterance_id': 'fe_03_05876-A-0027',\n",
       "  'start': 1196160,\n",
       "  'end': 1261520,\n",
       "  'duration': 65360,\n",
       "  'audio_fn': 'fe_03_05876.sph',\n",
       "  'channel': 1,\n",
       "  'type': 'NIST_1A'},\n",
       " {'utterance_id': 'fe_03_05876-A-0028',\n",
       "  'start': 1261280,\n",
       "  'end': 1336480,\n",
       "  'duration': 75200,\n",
       "  'audio_fn': 'fe_03_05876.sph',\n",
       "  'channel': 1,\n",
       "  'type': 'NIST_1A'},\n",
       " {'utterance_id': 'fe_03_05876-A-0029',\n",
       "  'start': 1337760,\n",
       "  'end': 1377680,\n",
       "  'duration': 39920,\n",
       "  'audio_fn': 'fe_03_05876.sph',\n",
       "  'channel': 1,\n",
       "  'type': 'NIST_1A'},\n",
       " {'utterance_id': 'fe_03_05876-A-0031',\n",
       "  'start': 1479120,\n",
       "  'end': 1488480,\n",
       "  'duration': 9360,\n",
       "  'audio_fn': 'fe_03_05876.sph',\n",
       "  'channel': 1,\n",
       "  'type': 'NIST_1A'},\n",
       " {'utterance_id': 'fe_03_05876-A-0032',\n",
       "  'start': 1514160,\n",
       "  'end': 1526320,\n",
       "  'duration': 12160,\n",
       "  'audio_fn': 'fe_03_05876.sph',\n",
       "  'channel': 1,\n",
       "  'type': 'NIST_1A'},\n",
       " {'utterance_id': 'fe_03_05876-A-0033',\n",
       "  'start': 1532240,\n",
       "  'end': 1557760,\n",
       "  'duration': 25520,\n",
       "  'audio_fn': 'fe_03_05876.sph',\n",
       "  'channel': 1,\n",
       "  'type': 'NIST_1A'},\n",
       " {'utterance_id': 'fe_03_05876-A-0034',\n",
       "  'start': 1558240,\n",
       "  'end': 1574240,\n",
       "  'duration': 16000,\n",
       "  'audio_fn': 'fe_03_05876.sph',\n",
       "  'channel': 1,\n",
       "  'type': 'NIST_1A'},\n",
       " {'utterance_id': 'fe_03_05876-A-0035',\n",
       "  'start': 1581840,\n",
       "  'end': 1593360,\n",
       "  'duration': 11520,\n",
       "  'audio_fn': 'fe_03_05876.sph',\n",
       "  'channel': 1,\n",
       "  'type': 'NIST_1A'},\n",
       " {'utterance_id': 'fe_03_05876-A-0036',\n",
       "  'start': 1654400,\n",
       "  'end': 1662960,\n",
       "  'duration': 8560,\n",
       "  'audio_fn': 'fe_03_05876.sph',\n",
       "  'channel': 1,\n",
       "  'type': 'NIST_1A'},\n",
       " {'utterance_id': 'fe_03_05876-A-0038',\n",
       "  'start': 1699840,\n",
       "  'end': 1712720,\n",
       "  'duration': 12880,\n",
       "  'audio_fn': 'fe_03_05876.sph',\n",
       "  'channel': 1,\n",
       "  'type': 'NIST_1A'},\n",
       " {'utterance_id': 'fe_03_05876-A-0039',\n",
       "  'start': 1733360,\n",
       "  'end': 1743280,\n",
       "  'duration': 9920,\n",
       "  'audio_fn': 'fe_03_05876.sph',\n",
       "  'channel': 1,\n",
       "  'type': 'NIST_1A'},\n",
       " {'utterance_id': 'fe_03_05876-A-0040',\n",
       "  'start': 1811760,\n",
       "  'end': 1845200,\n",
       "  'duration': 33440,\n",
       "  'audio_fn': 'fe_03_05876.sph',\n",
       "  'channel': 1,\n",
       "  'type': 'NIST_1A'},\n",
       " {'utterance_id': 'fe_03_05876-A-0041',\n",
       "  'start': 1848640,\n",
       "  'end': 1854960,\n",
       "  'duration': 6320,\n",
       "  'audio_fn': 'fe_03_05876.sph',\n",
       "  'channel': 1,\n",
       "  'type': 'NIST_1A'},\n",
       " {'utterance_id': 'fe_03_05876-A-0042',\n",
       "  'start': 1873120,\n",
       "  'end': 1879040,\n",
       "  'duration': 5920,\n",
       "  'audio_fn': 'fe_03_05876.sph',\n",
       "  'channel': 1,\n",
       "  'type': 'NIST_1A'},\n",
       " {'utterance_id': 'fe_03_05876-A-0043',\n",
       "  'start': 1884240,\n",
       "  'end': 1898880,\n",
       "  'duration': 14640,\n",
       "  'audio_fn': 'fe_03_05876.sph',\n",
       "  'channel': 1,\n",
       "  'type': 'NIST_1A'},\n",
       " {'utterance_id': 'fe_03_05876-A-0044',\n",
       "  'start': 1910160,\n",
       "  'end': 2022160,\n",
       "  'duration': 112000,\n",
       "  'audio_fn': 'fe_03_05876.sph',\n",
       "  'channel': 1,\n",
       "  'type': 'NIST_1A'},\n",
       " {'utterance_id': 'fe_03_05876-A-0045',\n",
       "  'start': 2028320,\n",
       "  'end': 2037200,\n",
       "  'duration': 8880,\n",
       "  'audio_fn': 'fe_03_05876.sph',\n",
       "  'channel': 1,\n",
       "  'type': 'NIST_1A'},\n",
       " {'utterance_id': 'fe_03_05876-A-0046',\n",
       "  'start': 2037440,\n",
       "  'end': 2093200,\n",
       "  'duration': 55760,\n",
       "  'audio_fn': 'fe_03_05876.sph',\n",
       "  'channel': 1,\n",
       "  'type': 'NIST_1A'},\n",
       " {'utterance_id': 'fe_03_05876-A-0047',\n",
       "  'start': 2095280,\n",
       "  'end': 2102720,\n",
       "  'duration': 7440,\n",
       "  'audio_fn': 'fe_03_05876.sph',\n",
       "  'channel': 1,\n",
       "  'type': 'NIST_1A'},\n",
       " {'utterance_id': 'fe_03_05876-A-0049',\n",
       "  'start': 2210160,\n",
       "  'end': 2269360,\n",
       "  'duration': 59200,\n",
       "  'audio_fn': 'fe_03_05876.sph',\n",
       "  'channel': 1,\n",
       "  'type': 'NIST_1A'},\n",
       " {'utterance_id': 'fe_03_05876-A-0050',\n",
       "  'start': 2313280,\n",
       "  'end': 2321280,\n",
       "  'duration': 8000,\n",
       "  'audio_fn': 'fe_03_05876.sph',\n",
       "  'channel': 1,\n",
       "  'type': 'NIST_1A'},\n",
       " {'utterance_id': 'fe_03_05876-A-0051',\n",
       "  'start': 2357280,\n",
       "  'end': 2388160,\n",
       "  'duration': 30880,\n",
       "  'audio_fn': 'fe_03_05876.sph',\n",
       "  'channel': 1,\n",
       "  'type': 'NIST_1A'},\n",
       " {'utterance_id': 'fe_03_05876-A-0052',\n",
       "  'start': 2392560,\n",
       "  'end': 2412800,\n",
       "  'duration': 20240,\n",
       "  'audio_fn': 'fe_03_05876.sph',\n",
       "  'channel': 1,\n",
       "  'type': 'NIST_1A'},\n",
       " {'utterance_id': 'fe_03_05876-A-0053',\n",
       "  'start': 2426240,\n",
       "  'end': 2449920,\n",
       "  'duration': 23680,\n",
       "  'audio_fn': 'fe_03_05876.sph',\n",
       "  'channel': 1,\n",
       "  'type': 'NIST_1A'},\n",
       " {'utterance_id': 'fe_03_05876-A-0054',\n",
       "  'start': 2459760,\n",
       "  'end': 2495200,\n",
       "  'duration': 35440,\n",
       "  'audio_fn': 'fe_03_05876.sph',\n",
       "  'channel': 1,\n",
       "  'type': 'NIST_1A'},\n",
       " {'utterance_id': 'fe_03_05876-A-0055',\n",
       "  'start': 2506720,\n",
       "  'end': 2542560,\n",
       "  'duration': 35840,\n",
       "  'audio_fn': 'fe_03_05876.sph',\n",
       "  'channel': 1,\n",
       "  'type': 'NIST_1A'},\n",
       " {'utterance_id': 'fe_03_05876-A-0056',\n",
       "  'start': 2542800,\n",
       "  'end': 2606560,\n",
       "  'duration': 63760,\n",
       "  'audio_fn': 'fe_03_05876.sph',\n",
       "  'channel': 1,\n",
       "  'type': 'NIST_1A'},\n",
       " {'utterance_id': 'fe_03_05876-A-0057',\n",
       "  'start': 2607680,\n",
       "  'end': 2615600,\n",
       "  'duration': 7920,\n",
       "  'audio_fn': 'fe_03_05876.sph',\n",
       "  'channel': 1,\n",
       "  'type': 'NIST_1A'},\n",
       " {'utterance_id': 'fe_03_05876-A-0058',\n",
       "  'start': 2617920,\n",
       "  'end': 2624400,\n",
       "  'duration': 6480,\n",
       "  'audio_fn': 'fe_03_05876.sph',\n",
       "  'channel': 1,\n",
       "  'type': 'NIST_1A'},\n",
       " {'utterance_id': 'fe_03_05876-A-0059',\n",
       "  'start': 2635840,\n",
       "  'end': 2648480,\n",
       "  'duration': 12640,\n",
       "  'audio_fn': 'fe_03_05876.sph',\n",
       "  'channel': 1,\n",
       "  'type': 'NIST_1A'},\n",
       " {'utterance_id': 'fe_03_05876-A-0060',\n",
       "  'start': 2754720,\n",
       "  'end': 2765920,\n",
       "  'duration': 11200,\n",
       "  'audio_fn': 'fe_03_05876.sph',\n",
       "  'channel': 1,\n",
       "  'type': 'NIST_1A'},\n",
       " {'utterance_id': 'fe_03_05876-A-0061',\n",
       "  'start': 2767200,\n",
       "  'end': 2782400,\n",
       "  'duration': 15200,\n",
       "  'audio_fn': 'fe_03_05876.sph',\n",
       "  'channel': 1,\n",
       "  'type': 'NIST_1A'},\n",
       " {'utterance_id': 'fe_03_05876-A-0062',\n",
       "  'start': 2790960,\n",
       "  'end': 2811280,\n",
       "  'duration': 20320,\n",
       "  'audio_fn': 'fe_03_05876.sph',\n",
       "  'channel': 1,\n",
       "  'type': 'NIST_1A'},\n",
       " {'utterance_id': 'fe_03_05876-A-0063',\n",
       "  'start': 2814640,\n",
       "  'end': 2822160,\n",
       "  'duration': 7520,\n",
       "  'audio_fn': 'fe_03_05876.sph',\n",
       "  'channel': 1,\n",
       "  'type': 'NIST_1A'},\n",
       " {'utterance_id': 'fe_03_05876-A-0064',\n",
       "  'start': 2825360,\n",
       "  'end': 2848560,\n",
       "  'duration': 23200,\n",
       "  'audio_fn': 'fe_03_05876.sph',\n",
       "  'channel': 1,\n",
       "  'type': 'NIST_1A'},\n",
       " {'utterance_id': 'fe_03_05876-A-0065',\n",
       "  'start': 2850880,\n",
       "  'end': 2884800,\n",
       "  'duration': 33920,\n",
       "  'audio_fn': 'fe_03_05876.sph',\n",
       "  'channel': 1,\n",
       "  'type': 'NIST_1A'},\n",
       " {'utterance_id': 'fe_03_05876-A-0067',\n",
       "  'start': 2921920,\n",
       "  'end': 2938080,\n",
       "  'duration': 16160,\n",
       "  'audio_fn': 'fe_03_05876.sph',\n",
       "  'channel': 1,\n",
       "  'type': 'NIST_1A'},\n",
       " {'utterance_id': 'fe_03_05876-A-0068',\n",
       "  'start': 2960800,\n",
       "  'end': 3007920,\n",
       "  'duration': 47120,\n",
       "  'audio_fn': 'fe_03_05876.sph',\n",
       "  'channel': 1,\n",
       "  'type': 'NIST_1A'},\n",
       " {'utterance_id': 'fe_03_05876-A-0069',\n",
       "  'start': 3050480,\n",
       "  'end': 3087200,\n",
       "  'duration': 36720,\n",
       "  'audio_fn': 'fe_03_05876.sph',\n",
       "  'channel': 1,\n",
       "  'type': 'NIST_1A'},\n",
       " {'utterance_id': 'fe_03_05876-A-0070',\n",
       "  'start': 3088880,\n",
       "  'end': 3118560,\n",
       "  'duration': 29680,\n",
       "  'audio_fn': 'fe_03_05876.sph',\n",
       "  'channel': 1,\n",
       "  'type': 'NIST_1A'},\n",
       " {'utterance_id': 'fe_03_05876-A-0071',\n",
       "  'start': 3169600,\n",
       "  'end': 3178880,\n",
       "  'duration': 9280,\n",
       "  'audio_fn': 'fe_03_05876.sph',\n",
       "  'channel': 1,\n",
       "  'type': 'NIST_1A'},\n",
       " {'utterance_id': 'fe_03_05876-A-0072',\n",
       "  'start': 3179920,\n",
       "  'end': 3229840,\n",
       "  'duration': 49920,\n",
       "  'audio_fn': 'fe_03_05876.sph',\n",
       "  'channel': 1,\n",
       "  'type': 'NIST_1A'},\n",
       " {'utterance_id': 'fe_03_05876-A-0073',\n",
       "  'start': 3232560,\n",
       "  'end': 3250480,\n",
       "  'duration': 17920,\n",
       "  'audio_fn': 'fe_03_05876.sph',\n",
       "  'channel': 1,\n",
       "  'type': 'NIST_1A'},\n",
       " {'utterance_id': 'fe_03_05876-A-0074',\n",
       "  'start': 3250560,\n",
       "  'end': 3262400,\n",
       "  'duration': 11840,\n",
       "  'audio_fn': 'fe_03_05876.sph',\n",
       "  'channel': 1,\n",
       "  'type': 'NIST_1A'},\n",
       " {'utterance_id': 'fe_03_05876-A-0075',\n",
       "  'start': 3267840,\n",
       "  'end': 3307120,\n",
       "  'duration': 39280,\n",
       "  'audio_fn': 'fe_03_05876.sph',\n",
       "  'channel': 1,\n",
       "  'type': 'NIST_1A'},\n",
       " {'utterance_id': 'fe_03_05876-A-0076',\n",
       "  'start': 3354640,\n",
       "  'end': 3376160,\n",
       "  'duration': 21520,\n",
       "  'audio_fn': 'fe_03_05876.sph',\n",
       "  'channel': 1,\n",
       "  'type': 'NIST_1A'},\n",
       " {'utterance_id': 'fe_03_05876-A-0077',\n",
       "  'start': 3379280,\n",
       "  'end': 3397520,\n",
       "  'duration': 18240,\n",
       "  'audio_fn': 'fe_03_05876.sph',\n",
       "  'channel': 1,\n",
       "  'type': 'NIST_1A'},\n",
       " {'utterance_id': 'fe_03_05876-A-0078',\n",
       "  'start': 3397680,\n",
       "  'end': 3418320,\n",
       "  'duration': 20640,\n",
       "  'audio_fn': 'fe_03_05876.sph',\n",
       "  'channel': 1,\n",
       "  'type': 'NIST_1A'},\n",
       " {'utterance_id': 'fe_03_05876-A-0079',\n",
       "  'start': 3463200,\n",
       "  'end': 3470160,\n",
       "  'duration': 6960,\n",
       "  'audio_fn': 'fe_03_05876.sph',\n",
       "  'channel': 1,\n",
       "  'type': 'NIST_1A'},\n",
       " {'utterance_id': 'fe_03_05876-A-0080',\n",
       "  'start': 3490400,\n",
       "  'end': 3502080,\n",
       "  'duration': 11680,\n",
       "  'audio_fn': 'fe_03_05876.sph',\n",
       "  'channel': 1,\n",
       "  'type': 'NIST_1A'},\n",
       " {'utterance_id': 'fe_03_05876-A-0081',\n",
       "  'start': 3597680,\n",
       "  'end': 3679440,\n",
       "  'duration': 81760,\n",
       "  'audio_fn': 'fe_03_05876.sph',\n",
       "  'channel': 1,\n",
       "  'type': 'NIST_1A'},\n",
       " {'utterance_id': 'fe_03_05876-A-0082',\n",
       "  'start': 3687360,\n",
       "  'end': 3698000,\n",
       "  'duration': 10640,\n",
       "  'audio_fn': 'fe_03_05876.sph',\n",
       "  'channel': 1,\n",
       "  'type': 'NIST_1A'},\n",
       " {'utterance_id': 'fe_03_05876-A-0083',\n",
       "  'start': 3699520,\n",
       "  'end': 3744880,\n",
       "  'duration': 45360,\n",
       "  'audio_fn': 'fe_03_05876.sph',\n",
       "  'channel': 1,\n",
       "  'type': 'NIST_1A'},\n",
       " {'utterance_id': 'fe_03_05876-A-0084',\n",
       "  'start': 3746400,\n",
       "  'end': 3789760,\n",
       "  'duration': 43360,\n",
       "  'audio_fn': 'fe_03_05876.sph',\n",
       "  'channel': 1,\n",
       "  'type': 'NIST_1A'},\n",
       " {'utterance_id': 'fe_03_05876-A-0085',\n",
       "  'start': 3790880,\n",
       "  'end': 3831200,\n",
       "  'duration': 40320,\n",
       "  'audio_fn': 'fe_03_05876.sph',\n",
       "  'channel': 1,\n",
       "  'type': 'NIST_1A'},\n",
       " {'utterance_id': 'fe_03_05876-A-0086',\n",
       "  'start': 3832480,\n",
       "  'end': 3848080,\n",
       "  'duration': 15600,\n",
       "  'audio_fn': 'fe_03_05876.sph',\n",
       "  'channel': 1,\n",
       "  'type': 'NIST_1A'},\n",
       " {'utterance_id': 'fe_03_05876-A-0087',\n",
       "  'start': 3854960,\n",
       "  'end': 3909280,\n",
       "  'duration': 54320,\n",
       "  'audio_fn': 'fe_03_05876.sph',\n",
       "  'channel': 1,\n",
       "  'type': 'NIST_1A'},\n",
       " {'utterance_id': 'fe_03_05876-A-0089',\n",
       "  'start': 3957200,\n",
       "  'end': 3965280,\n",
       "  'duration': 8080,\n",
       "  'audio_fn': 'fe_03_05876.sph',\n",
       "  'channel': 1,\n",
       "  'type': 'NIST_1A'},\n",
       " {'utterance_id': 'fe_03_05876-A-0091',\n",
       "  'start': 4065440,\n",
       "  'end': 4073360,\n",
       "  'duration': 7920,\n",
       "  'audio_fn': 'fe_03_05876.sph',\n",
       "  'channel': 1,\n",
       "  'type': 'NIST_1A'},\n",
       " {'utterance_id': 'fe_03_05876-A-0092',\n",
       "  'start': 4090960,\n",
       "  'end': 4100720,\n",
       "  'duration': 9760,\n",
       "  'audio_fn': 'fe_03_05876.sph',\n",
       "  'channel': 1,\n",
       "  'type': 'NIST_1A'},\n",
       " {'utterance_id': 'fe_03_05876-A-0093',\n",
       "  'start': 4125520,\n",
       "  'end': 4166960,\n",
       "  'duration': 41440,\n",
       "  'audio_fn': 'fe_03_05876.sph',\n",
       "  'channel': 1,\n",
       "  'type': 'NIST_1A'},\n",
       " {'utterance_id': 'fe_03_05876-A-0094',\n",
       "  'start': 4171360,\n",
       "  'end': 4225520,\n",
       "  'duration': 54160,\n",
       "  'audio_fn': 'fe_03_05876.sph',\n",
       "  'channel': 1,\n",
       "  'type': 'NIST_1A'},\n",
       " {'utterance_id': 'fe_03_05876-A-0095',\n",
       "  'start': 4227360,\n",
       "  'end': 4346880,\n",
       "  'duration': 119520,\n",
       "  'audio_fn': 'fe_03_05876.sph',\n",
       "  'channel': 1,\n",
       "  'type': 'NIST_1A'},\n",
       " {'utterance_id': 'fe_03_05876-A-0096',\n",
       "  'start': 4349440,\n",
       "  'end': 4361040,\n",
       "  'duration': 11600,\n",
       "  'audio_fn': 'fe_03_05876.sph',\n",
       "  'channel': 1,\n",
       "  'type': 'NIST_1A'},\n",
       " {'utterance_id': 'fe_03_05876-A-0097',\n",
       "  'start': 4365040,\n",
       "  'end': 4375600,\n",
       "  'duration': 10560,\n",
       "  'audio_fn': 'fe_03_05876.sph',\n",
       "  'channel': 1,\n",
       "  'type': 'NIST_1A'},\n",
       " {'utterance_id': 'fe_03_05876-A-0098',\n",
       "  'start': 4387040,\n",
       "  'end': 4426320,\n",
       "  'duration': 39280,\n",
       "  'audio_fn': 'fe_03_05876.sph',\n",
       "  'channel': 1,\n",
       "  'type': 'NIST_1A'},\n",
       " {'utterance_id': 'fe_03_05876-A-0099',\n",
       "  'start': 4431840,\n",
       "  'end': 4456800,\n",
       "  'duration': 24960,\n",
       "  'audio_fn': 'fe_03_05876.sph',\n",
       "  'channel': 1,\n",
       "  'type': 'NIST_1A'},\n",
       " {'utterance_id': 'fe_03_05876-A-0100',\n",
       "  'start': 4461600,\n",
       "  'end': 4532800,\n",
       "  'duration': 71200,\n",
       "  'audio_fn': 'fe_03_05876.sph',\n",
       "  'channel': 1,\n",
       "  'type': 'NIST_1A'},\n",
       " {'utterance_id': 'fe_03_05876-A-0101',\n",
       "  'start': 4533120,\n",
       "  'end': 4608160,\n",
       "  'duration': 75040,\n",
       "  'audio_fn': 'fe_03_05876.sph',\n",
       "  'channel': 1,\n",
       "  'type': 'NIST_1A'},\n",
       " {'utterance_id': 'fe_03_05876-A-0102',\n",
       "  'start': 4664720,\n",
       "  'end': 4672160,\n",
       "  'duration': 7440,\n",
       "  'audio_fn': 'fe_03_05876.sph',\n",
       "  'channel': 1,\n",
       "  'type': 'NIST_1A'},\n",
       " {'utterance_id': 'fe_03_05876-A-0103',\n",
       "  'start': 4677200,\n",
       "  'end': 4700240,\n",
       "  'duration': 23040,\n",
       "  'audio_fn': 'fe_03_05876.sph',\n",
       "  'channel': 1,\n",
       "  'type': 'NIST_1A'},\n",
       " {'utterance_id': 'fe_03_05876-A-0104',\n",
       "  'start': 4752560,\n",
       "  'end': 4759840,\n",
       "  'duration': 7280,\n",
       "  'audio_fn': 'fe_03_05876.sph',\n",
       "  'channel': 1,\n",
       "  'type': 'NIST_1A'},\n",
       " {'utterance_id': 'fe_03_05876-A-0105',\n",
       "  'start': 4767040,\n",
       "  'end': 4799120,\n",
       "  'duration': 32080,\n",
       "  'audio_fn': 'fe_03_05876.sph',\n",
       "  'channel': 1,\n",
       "  'type': 'NIST_1A'},\n",
       " {'utterance_id': 'fe_03_05876-B-0001',\n",
       "  'start': 560,\n",
       "  'end': 10240,\n",
       "  'duration': 9680,\n",
       "  'audio_fn': 'fe_03_05876.sph',\n",
       "  'channel': 2,\n",
       "  'type': 'NIST_1A'},\n",
       " {'utterance_id': 'fe_03_05876-B-0002',\n",
       "  'start': 30080,\n",
       "  'end': 42240,\n",
       "  'duration': 12160,\n",
       "  'audio_fn': 'fe_03_05876.sph',\n",
       "  'channel': 2,\n",
       "  'type': 'NIST_1A'},\n",
       " {'utterance_id': 'fe_03_05876-B-0003',\n",
       "  'start': 45520,\n",
       "  'end': 56800,\n",
       "  'duration': 11280,\n",
       "  'audio_fn': 'fe_03_05876.sph',\n",
       "  'channel': 2,\n",
       "  'type': 'NIST_1A'},\n",
       " {'utterance_id': 'fe_03_05876-B-0004',\n",
       "  'start': 77920,\n",
       "  'end': 95360,\n",
       "  'duration': 17440,\n",
       "  'audio_fn': 'fe_03_05876.sph',\n",
       "  'channel': 2,\n",
       "  'type': 'NIST_1A'},\n",
       " {'utterance_id': 'fe_03_05876-B-0005',\n",
       "  'start': 125440,\n",
       "  'end': 180880,\n",
       "  'duration': 55440,\n",
       "  'audio_fn': 'fe_03_05876.sph',\n",
       "  'channel': 2,\n",
       "  'type': 'NIST_1A'},\n",
       " {'utterance_id': 'fe_03_05876-B-0006',\n",
       "  'start': 359360,\n",
       "  'end': 366480,\n",
       "  'duration': 7120,\n",
       "  'audio_fn': 'fe_03_05876.sph',\n",
       "  'channel': 2,\n",
       "  'type': 'NIST_1A'},\n",
       " {'utterance_id': 'fe_03_05876-B-0007',\n",
       "  'start': 389760,\n",
       "  'end': 508880,\n",
       "  'duration': 119120,\n",
       "  'audio_fn': 'fe_03_05876.sph',\n",
       "  'channel': 2,\n",
       "  'type': 'NIST_1A'},\n",
       " {'utterance_id': 'fe_03_05876-B-0008',\n",
       "  'start': 509600,\n",
       "  'end': 598080,\n",
       "  'duration': 88480,\n",
       "  'audio_fn': 'fe_03_05876.sph',\n",
       "  'channel': 2,\n",
       "  'type': 'NIST_1A'},\n",
       " {'utterance_id': 'fe_03_05876-B-0009',\n",
       "  'start': 599600,\n",
       "  'end': 686960,\n",
       "  'duration': 87360,\n",
       "  'audio_fn': 'fe_03_05876.sph',\n",
       "  'channel': 2,\n",
       "  'type': 'NIST_1A'},\n",
       " {'utterance_id': 'fe_03_05876-B-0010',\n",
       "  'start': 702000,\n",
       "  'end': 712000,\n",
       "  'duration': 10000,\n",
       "  'audio_fn': 'fe_03_05876.sph',\n",
       "  'channel': 2,\n",
       "  'type': 'NIST_1A'},\n",
       " {'utterance_id': 'fe_03_05876-B-0011',\n",
       "  'start': 765280,\n",
       "  'end': 772800,\n",
       "  'duration': 7520,\n",
       "  'audio_fn': 'fe_03_05876.sph',\n",
       "  'channel': 2,\n",
       "  'type': 'NIST_1A'},\n",
       " {'utterance_id': 'fe_03_05876-B-0012',\n",
       "  'start': 773040,\n",
       "  'end': 837040,\n",
       "  'duration': 64000,\n",
       "  'audio_fn': 'fe_03_05876.sph',\n",
       "  'channel': 2,\n",
       "  'type': 'NIST_1A'},\n",
       " {'utterance_id': 'fe_03_05876-B-0013',\n",
       "  'start': 892480,\n",
       "  'end': 899600,\n",
       "  'duration': 7120,\n",
       "  'audio_fn': 'fe_03_05876.sph',\n",
       "  'channel': 2,\n",
       "  'type': 'NIST_1A'},\n",
       " {'utterance_id': 'fe_03_05876-B-0014',\n",
       "  'start': 943280,\n",
       "  'end': 950720,\n",
       "  'duration': 7440,\n",
       "  'audio_fn': 'fe_03_05876.sph',\n",
       "  'channel': 2,\n",
       "  'type': 'NIST_1A'},\n",
       " {'utterance_id': 'fe_03_05876-B-0015',\n",
       "  'start': 1026640,\n",
       "  'end': 1042160,\n",
       "  'duration': 15520,\n",
       "  'audio_fn': 'fe_03_05876.sph',\n",
       "  'channel': 2,\n",
       "  'type': 'NIST_1A'},\n",
       " {'utterance_id': 'fe_03_05876-B-0016',\n",
       "  'start': 1091440,\n",
       "  'end': 1126400,\n",
       "  'duration': 34960,\n",
       "  'audio_fn': 'fe_03_05876.sph',\n",
       "  'channel': 2,\n",
       "  'type': 'NIST_1A'},\n",
       " {'utterance_id': 'fe_03_05876-B-0017',\n",
       "  'start': 1130160,\n",
       "  'end': 1139360,\n",
       "  'duration': 9200,\n",
       "  'audio_fn': 'fe_03_05876.sph',\n",
       "  'channel': 2,\n",
       "  'type': 'NIST_1A'},\n",
       " {'utterance_id': 'fe_03_05876-B-0019',\n",
       "  'start': 1285440,\n",
       "  'end': 1293120,\n",
       "  'duration': 7680,\n",
       "  'audio_fn': 'fe_03_05876.sph',\n",
       "  'channel': 2,\n",
       "  'type': 'NIST_1A'},\n",
       " {'utterance_id': 'fe_03_05876-B-0020',\n",
       "  'start': 1374480,\n",
       "  'end': 1483280,\n",
       "  'duration': 108800,\n",
       "  'audio_fn': 'fe_03_05876.sph',\n",
       "  'channel': 2,\n",
       "  'type': 'NIST_1A'},\n",
       " {'utterance_id': 'fe_03_05876-B-0021',\n",
       "  'start': 1485680,\n",
       "  'end': 1534560,\n",
       "  'duration': 48880,\n",
       "  'audio_fn': 'fe_03_05876.sph',\n",
       "  'channel': 2,\n",
       "  'type': 'NIST_1A'},\n",
       " {'utterance_id': 'fe_03_05876-B-0023',\n",
       "  'start'"
      ]
     },
     "execution_count": 129,
     "metadata": {},
     "output_type": "execute_result"
    },
    {
     "data": {
      "text/html": [
       "<b>limit_output extension: Maximum message size of 20000 exceeded with 27931 characters</b>"
      ]
     },
     "metadata": {},
     "output_type": "display_data"
    }
   ],
   "source": [
    "parse_ana_file_bbn('./auto-segmented/fe_03_05876.ana')"
   ]
  },
  {
   "cell_type": "markdown",
   "metadata": {},
   "source": [
    "#### Creating merged representations of each call"
   ]
  },
  {
   "cell_type": "code",
   "execution_count": 130,
   "metadata": {
    "ExecuteTime": {
     "end_time": "2019-04-15T23:19:30.892011Z",
     "start_time": "2019-04-15T23:19:30.890060Z"
    }
   },
   "outputs": [],
   "source": [
    "#create merged representation of conversation from auto-segmented and rejected .trn and .ana files, sort utterances by utterance ID"
   ]
  },
  {
   "cell_type": "code",
   "execution_count": 131,
   "metadata": {
    "ExecuteTime": {
     "end_time": "2019-04-15T23:19:30.898759Z",
     "start_time": "2019-04-15T23:19:30.893152Z"
    }
   },
   "outputs": [
    {
     "data": {
      "text/plain": [
       "{'call_id': '05863',\n",
       " 'trn_fn': 'fe_03_05863.trn',\n",
       " 'ana_fn': 'fe_03_05863.ana',\n",
       " 'auto-segmented_trn_location': '/mnt/truffle/corpora/fisher_english_transcripts/fe_03_p2_tran/data/bbn_orig/058/auto-segmented/fe_03_05863.trn',\n",
       " 'rejected_trn_location': '/mnt/truffle/corpora/fisher_english_transcripts/fe_03_p2_tran/data/bbn_orig/058/rejected/fe_03_05863.trn',\n",
       " 'auto-segmented_ana_location': '/mnt/truffle/corpora/fisher_english_transcripts/fe_03_p2_tran/data/bbn_orig/058/auto-segmented/fe_03_05863.ana',\n",
       " 'rejected_ana_location': '/mnt/truffle/corpora/fisher_english_transcripts/fe_03_p2_tran/data/bbn_orig/058/rejected/fe_03_05863.ana'}"
      ]
     },
     "execution_count": 131,
     "metadata": {},
     "output_type": "execute_result"
    }
   ],
   "source": [
    "bbn_call_relation[0]"
   ]
  },
  {
   "cell_type": "code",
   "execution_count": 132,
   "metadata": {
    "ExecuteTime": {
     "end_time": "2019-04-15T23:19:30.911290Z",
     "start_time": "2019-04-15T23:19:30.900436Z"
    }
   },
   "outputs": [],
   "source": [
    "def get_transcriptions_bbn(call_id):\n",
    "    call_relation_matches = [c for c in bbn_call_relation if c['call_id'] == call_id]\n",
    "    assert len(call_relation_matches) == 1, 'call id {0} does not have exactly 1 match, but rather {1}'.format(call_id, call_relation_matches)\n",
    "    call_rel = call_relation_matches[0]\n",
    "    \n",
    "    as_trn = parse_trn_file_bbn(call_rel['auto-segmented_trn_location'])\n",
    "    r_trn = parse_trn_file_bbn(call_rel['rejected_trn_location'])\n",
    "    merged_trn = sorted(as_trn + r_trn, key=lambda t_rel: t_rel['utterance_id'])\n",
    "    \n",
    "    as_ana = parse_ana_file_bbn(call_rel['auto-segmented_ana_location'])\n",
    "    r_ana = parse_ana_file_bbn(call_rel['rejected_ana_location'])\n",
    "    merged_ana = sorted(as_ana + r_ana, key=lambda ana_rel: ana_rel['utterance_id'])\n",
    "    \n",
    "    assert len(merged_trn) == len(merged_ana), 'merged trn and merged ana utterance sequences differ in length: {0} vs. {1}'.format(len(merged_trn), len(merged_ana))\n",
    "    \n",
    "    utterance_ids = [t_rel['utterance_id'] for t_rel in merged_trn]\n",
    "    merged_rels = []\n",
    "    for u_id in utterance_ids:\n",
    "        matching_trns = [trn_rel for trn_rel in merged_trn if trn_rel['utterance_id'] == u_id]\n",
    "        assert len(matching_trns) == 1, 'Utterance id {0} does not have exactly one matching trn relation, instead has {1}'.format(u_id, matching_trns)\n",
    "        trn_rel = matching_trns[0]\n",
    "        \n",
    "        matching_anas = [ana_rel for ana_rel in merged_ana if ana_rel['utterance_id'] == u_id]\n",
    "        assert len(matching_anas) == 1, 'Utterance id {0} does not have exactly one matching ana relation, instead has {1}'.format(u_id, matching_anas)\n",
    "        ana_rel = matching_anas[0]\n",
    "        \n",
    "        merged_rel = dictionary_product(trn_rel, ana_rel)\n",
    "        merged_rels.append(merged_rel)\n",
    "    \n",
    "    return merged_rels"
   ]
  },
  {
   "cell_type": "code",
   "execution_count": 133,
   "metadata": {
    "ExecuteTime": {
     "end_time": "2019-04-15T23:19:30.955056Z",
     "start_time": "2019-04-15T23:19:30.913089Z"
    }
   },
   "outputs": [
    {
     "data": {
      "text/plain": [
       "[{'utterance_id': 'fe_03_05863-A-0001',\n",
       "  'speech_raw': 'HI [LAUGHTER]',\n",
       "  'speech': 'HI',\n",
       "  'channel': 1,\n",
       "  'start': 1360,\n",
       "  'type': 'NIST_1A',\n",
       "  'end': 12320,\n",
       "  'audio_fn': 'fe_03_05863.sph',\n",
       "  'duration': 10960},\n",
       " {'utterance_id': 'fe_03_05863-A-0002',\n",
       "  'speech_raw': 'HI MY NAME IS ZELDA',\n",
       "  'speech': 'HI MY NAME IS ZELDA',\n",
       "  'channel': 1,\n",
       "  'start': 32560,\n",
       "  'type': 'NIST_1A',\n",
       "  'end': 46640,\n",
       "  'audio_fn': 'fe_03_05863.sph',\n",
       "  'duration': 14080},\n",
       " {'utterance_id': 'fe_03_05863-A-0003',\n",
       "  'speech_raw': 'HI MONIQUE',\n",
       "  'speech': 'HI MONIQUE',\n",
       "  'channel': 1,\n",
       "  'start': 59760,\n",
       "  'type': 'NIST_1A',\n",
       "  'end': 69760,\n",
       "  'audio_fn': 'fe_03_05863.sph',\n",
       "  'duration': 10000},\n",
       " {'utterance_id': 'fe_03_05863-A-0004',\n",
       "  'speech_raw': \"I'M FINE AND YOU\",\n",
       "  'speech': \"I'M FINE AND YOU\",\n",
       "  'channel': 1,\n",
       "  'start': 77280,\n",
       "  'type': 'NIST_1A',\n",
       "  'end': 88320,\n",
       "  'audio_fn': 'fe_03_05863.sph',\n",
       "  'duration': 11040},\n",
       " {'utterance_id': 'fe_03_05863-A-0005',\n",
       "  'speech_raw': 'GOOD',\n",
       "  'speech': 'GOOD',\n",
       "  'channel': 1,\n",
       "  'start': 96800,\n",
       "  'type': 'NIST_1A',\n",
       "  'end': 104400,\n",
       "  'audio_fn': 'fe_03_05863.sph',\n",
       "  'duration': 7600},\n",
       " {'utterance_id': 'fe_03_05863-A-0006',\n",
       "  'speech_raw': 'OKAY UM',\n",
       "  'speech': 'OKAY UM',\n",
       "  'channel': 1,\n",
       "  'start': 128560,\n",
       "  'type': 'NIST_1A',\n",
       "  'end': 143280,\n",
       "  'audio_fn': 'fe_03_05863.sph',\n",
       "  'duration': 14720},\n",
       " {'utterance_id': 'fe_03_05863-A-0007',\n",
       "  'speech_raw': 'I WOULD NOT DO IT',\n",
       "  'speech': 'I WOULD NOT DO IT',\n",
       "  'channel': 1,\n",
       "  'start': 146880,\n",
       "  'type': 'NIST_1A',\n",
       "  'end': 159440,\n",
       "  'audio_fn': 'fe_03_05863.sph',\n",
       "  'duration': 12560},\n",
       " {'utterance_id': 'fe_03_05863-A-0008',\n",
       "  'speech_raw': \"[NOISE] RIGHT I WOULDN'T UM DO YOU KID- ESP- UH TODAY I MEAN\",\n",
       "  'speech': \"RIGHT I WOULDN'T UM DO YOU KID- ESP- UH TODAY I MEAN\",\n",
       "  'channel': 1,\n",
       "  'start': 209840,\n",
       "  'type': 'NIST_1A',\n",
       "  'end': 256720,\n",
       "  'audio_fn': 'fe_03_05863.sph',\n",
       "  'duration': 46880},\n",
       " {'utterance_id': 'fe_03_05863-A-0009',\n",
       "  'speech_raw': \"PEOPLE LOOK AT MONEY MONEY IS EVERYTHING IT'S LIKE THEY THINK THAT MONEY'S GOING TO RESOLVE ALL THEIR PROBLEMS AND A MILLION DOLLARS TODAY IS NOT A LOT OF MONEY AND I WOULD AND THAT'S A BETRAYAL TO ME [NOISE]\",\n",
       "  'speech': \"PEOPLE LOOK AT MONEY MONEY IS EVERYTHING IT'S LIKE THEY THINK THAT MONEY'S GOING TO RESOLVE ALL THEIR PROBLEMS AND A MILLION DOLLARS TODAY IS NOT A LOT OF MONEY AND I WOULD AND THAT'S A BETRAYAL TO ME\",\n",
       "  'channel': 1,\n",
       "  'start': 258320,\n",
       "  'type': 'NIST_1A',\n",
       "  'end': 348560,\n",
       "  'audio_fn': 'fe_03_05863.sph',\n",
       "  'duration': 90240},\n",
       " {'utterance_id': 'fe_03_05863-A-0010',\n",
       "  'speech_raw': 'RIGHT RIGHT',\n",
       "  'speech': 'RIGHT RIGHT',\n",
       "  'channel': 1,\n",
       "  'start': 409840,\n",
       "  'type': 'NIST_1A',\n",
       "  'end': 424320,\n",
       "  'audio_fn': 'fe_03_05863.sph',\n",
       "  'duration': 14480},\n",
       " {'utterance_id': 'fe_03_05863-A-0011',\n",
       "  'speech_raw': 'NO',\n",
       "  'speech': 'NO',\n",
       "  'channel': 1,\n",
       "  'start': 443680,\n",
       "  'type': 'NIST_1A',\n",
       "  'end': 450240,\n",
       "  'audio_fn': 'fe_03_05863.sph',\n",
       "  'duration': 6560},\n",
       " {'utterance_id': 'fe_03_05863-A-0012',\n",
       "  'speech_raw': 'I THINK HUMAN BEINGS ARE PR- UM [LIPSMACK] FRIENDSHIP RELAT- RELATIONSHIPS WITH PEOPLE ARE A LOT MORE IMPORTANT THAN MONEY',\n",
       "  'speech': 'I THINK HUMAN BEINGS ARE PR- UM FRIENDSHIP RELAT- RELATIONSHIPS WITH PEOPLE ARE A LOT MORE IMPORTANT THAN MONEY',\n",
       "  'channel': 1,\n",
       "  'start': 454240,\n",
       "  'type': 'NIST_1A',\n",
       "  'end': 517280,\n",
       "  'audio_fn': 'fe_03_05863.sph',\n",
       "  'duration': 63040},\n",
       " {'utterance_id': 'fe_03_05863-A-0013',\n",
       "  'speech_raw': \"THEN YOU WEREN'T REALLY THEIR BEST FRIEND EITHER\",\n",
       "  'speech': \"THEN YOU WEREN'T REALLY THEIR BEST FRIEND EITHER\",\n",
       "  'channel': 1,\n",
       "  'start': 599680,\n",
       "  'type': 'NIST_1A',\n",
       "  'end': 618880,\n",
       "  'audio_fn': 'fe_03_05863.sph',\n",
       "  'duration': 19200},\n",
       " {'utterance_id': 'fe_03_05863-A-0014',\n",
       "  'speech_raw': 'RIGHT RIGHT',\n",
       "  'speech': 'RIGHT RIGHT',\n",
       "  'channel': 1,\n",
       "  'start': 673680,\n",
       "  'type': 'NIST_1A',\n",
       "  'end': 687040,\n",
       "  'audio_fn': 'fe_03_05863.sph',\n",
       "  'duration': 13360},\n",
       " {'utterance_id': 'fe_03_05863-A-0015',\n",
       "  'speech_raw': 'NO',\n",
       "  'speech': 'NO',\n",
       "  'channel': 1,\n",
       "  'start': 708640,\n",
       "  'type': 'NIST_1A',\n",
       "  'end': 715680,\n",
       "  'audio_fn': 'fe_03_05863.sph',\n",
       "  'duration': 7040},\n",
       " {'utterance_id': 'fe_03_05863-A-0016',\n",
       "  'speech_raw': 'MM',\n",
       "  'speech': 'MM',\n",
       "  'channel': 1,\n",
       "  'start': 718320,\n",
       "  'type': 'NIST_1A',\n",
       "  'end': 725040,\n",
       "  'audio_fn': 'fe_03_05863.sph',\n",
       "  'duration': 6720},\n",
       " {'utterance_id': 'fe_03_05863-A-0017',\n",
       "  'speech_raw': \"I DON'T THINK ANY MONEY IS WORTH ANYONE'S LIFE UH A HUMAN A PERSON'S LIFE IS WORTH EVERYTHING\",\n",
       "  'speech': \"I DON'T THINK ANY MONEY IS WORTH ANYONE'S LIFE UH A HUMAN A PERSON'S LIFE IS WORTH EVERYTHING\",\n",
       "  'channel': 1,\n",
       "  'start': 727120,\n",
       "  'type': 'NIST_1A',\n",
       "  'end': 782800,\n",
       "  'audio_fn': 'fe_03_05863.sph',\n",
       "  'duration': 55680},\n",
       " {'utterance_id': 'fe_03_05863-A-0018',\n",
       "  'speech_raw': 'AMEN [LAUGHTER] IS RIGHT [LAUGHTER]',\n",
       "  'speech': 'AMEN IS RIGHT',\n",
       "  'channel': 1,\n",
       "  'start': 796320,\n",
       "  'type': 'NIST_1A',\n",
       "  'end': 814160,\n",
       "  'audio_fn': 'fe_03_05863.sph',\n",
       "  'duration': 17840},\n",
       " {'utterance_id': 'fe_03_05863-A-0019',\n",
       "  'speech_raw': \"I MEAN I- THERE'S NOT REALLY MUCH THAT WE CAN DEBATE ON THIS BECAUSE WE REALLY AGREED ON IT YOU KNOW [LAUGHTER]\",\n",
       "  'speech': \"I MEAN I- THERE'S NOT REALLY MUCH THAT WE CAN DEBATE ON THIS BECAUSE WE REALLY AGREED ON IT YOU KNOW\",\n",
       "  'channel': 1,\n",
       "  'start': 855600,\n",
       "  'type': 'NIST_1A',\n",
       "  'end': 913120,\n",
       "  'audio_fn': 'fe_03_05863.sph',\n",
       "  'duration': 57520},\n",
       " {'utterance_id': 'fe_03_05863-A-0020',\n",
       "  'speech_raw': 'RIGHT',\n",
       "  'speech': 'RIGHT',\n",
       "  'channel': 1,\n",
       "  'start': 955680,\n",
       "  'type': 'NIST_1A',\n",
       "  'end': 964960,\n",
       "  'audio_fn': 'fe_03_05863.sph',\n",
       "  'duration': 9280},\n",
       " {'utterance_id': 'fe_03_05863-A-0021',\n",
       "  'speech_raw': 'BUT UM',\n",
       "  'speech': 'BUT UM',\n",
       "  'channel': 1,\n",
       "  'start': 966480,\n",
       "  'type': 'NIST_1A',\n",
       "  'end': 974640,\n",
       "  'audio_fn': 'fe_03_05863.sph',\n",
       "  'duration': 8160},\n",
       " {'utterance_id': 'fe_03_05863-A-0022',\n",
       "  'speech_raw': 'YEAH',\n",
       "  'speech': 'YEAH',\n",
       "  'channel': 1,\n",
       "  'start': 982640,\n",
       "  'type': 'NIST_1A',\n",
       "  'end': 989040,\n",
       "  'audio_fn': 'fe_03_05863.sph',\n",
       "  'duration': 6400},\n",
       " {'utterance_id': 'fe_03_05863-A-0023',\n",
       "  'speech_raw': 'ACTUALLY MY RIGHT RIGHT',\n",
       "  'speech': 'ACTUALLY MY RIGHT RIGHT',\n",
       "  'channel': 1,\n",
       "  'start': 1081520,\n",
       "  'type': 'NIST_1A',\n",
       "  'end': 1101760,\n",
       "  'audio_fn': 'fe_03_05863.sph',\n",
       "  'duration': 20240},\n",
       " {'utterance_id': 'fe_03_05863-A-0024',\n",
       "  'speech_raw': 'I WAS ACTUALLY TALKING TO MY BEST FRIEND ON THE PHONE WHEN I GOT THIS CALL [LAUGHTER] SO I SAID I GOT TO CALL YOU BACK',\n",
       "  'speech': 'I WAS ACTUALLY TALKING TO MY BEST FRIEND ON THE PHONE WHEN I GOT THIS CALL SO I SAID I GOT TO CALL YOU BACK',\n",
       "  'channel': 1,\n",
       "  'start': 1108240,\n",
       "  'type': 'NIST_1A',\n",
       "  'end': 1180720,\n",
       "  'audio_fn': 'fe_03_05863.sph',\n",
       "  'duration': 72480},\n",
       " {'utterance_id': 'fe_03_05863-A-0025',\n",
       "  'speech_raw': 'AND MY AND MY BEST FRIEND IS ACTUALLY A RELATIVE',\n",
       "  'speech': 'AND MY AND MY BEST FRIEND IS ACTUALLY A RELATIVE',\n",
       "  'channel': 1,\n",
       "  'start': 1181680,\n",
       "  'type': 'NIST_1A',\n",
       "  'end': 1208000,\n",
       "  'audio_fn': 'fe_03_05863.sph',\n",
       "  'duration': 26320},\n",
       " {'utterance_id': 'fe_03_05863-A-0026',\n",
       "  'speech_raw': 'SO',\n",
       "  'speech': 'SO',\n",
       "  'channel': 1,\n",
       "  'start': 1214160,\n",
       "  'type': 'NIST_1A',\n",
       "  'end': 1219120,\n",
       "  'audio_fn': 'fe_03_05863.sph',\n",
       "  'duration': 4960},\n",
       " {'utterance_id': 'fe_03_05863-A-0027',\n",
       "  'speech_raw': 'YEAH BECAUSE WE GREW UP AS KIDS TOGETHER AND WE WERE ALWAYS BEST FRIENDS',\n",
       "  'speech': 'YEAH BECAUSE WE GREW UP AS KIDS TOGETHER AND WE WERE ALWAYS BEST FRIENDS',\n",
       "  'channel': 1,\n",
       "  'start': 1220640,\n",
       "  'type': 'NIST_1A',\n",
       "  'end': 1260400,\n",
       "  'audio_fn': 'fe_03_05863.sph',\n",
       "  'duration': 39760},\n",
       " {'utterance_id': 'fe_03_05863-A-0028',\n",
       "  'speech_raw': 'SO',\n",
       "  'speech': 'SO',\n",
       "  'channel': 1,\n",
       "  'start': 1264880,\n",
       "  'type': 'NIST_1A',\n",
       "  'end': 1270960,\n",
       "  'audio_fn': 'fe_03_05863.sph',\n",
       "  'duration': 6080},\n",
       " {'utterance_id': 'fe_03_05863-A-0029',\n",
       "  'speech_raw': 'MHM',\n",
       "  'speech': 'MHM',\n",
       "  'channel': 1,\n",
       "  'start': 1275520,\n",
       "  'type': 'NIST_1A',\n",
       "  'end': 1282960,\n",
       "  'audio_fn': 'fe_03_05863.sph',\n",
       "  'duration': 7440},\n",
       " {'utterance_id': 'fe_03_05863-A-0030',\n",
       "  'speech_raw': 'MHM',\n",
       "  'speech': 'MHM',\n",
       "  'channel': 1,\n",
       "  'start': 1370400,\n",
       "  'type': 'NIST_1A',\n",
       "  'end': 1377200,\n",
       "  'audio_fn': 'fe_03_05863.sph',\n",
       "  'duration': 6800},\n",
       " {'utterance_id': 'fe_03_05863-A-0031',\n",
       "  'speech_raw': 'AND WITH THIS BEST FRIEND I CAN CONFIDE IN ANYTHING AND I I AND UM',\n",
       "  'speech': 'AND WITH THIS BEST FRIEND I CAN CONFIDE IN ANYTHING AND I I AND UM',\n",
       "  'channel': 1,\n",
       "  'start': 1385760,\n",
       "  'type': 'NIST_1A',\n",
       "  'end': 1435200,\n",
       "  'audio_fn': 'fe_03_05863.sph',\n",
       "  'duration': 49440},\n",
       " {'utterance_id': 'fe_03_05863-A-0032',\n",
       "  'speech_raw': 'I TRUST HER',\n",
       "  'speech': 'I TRUST HER',\n",
       "  'channel': 1,\n",
       "  'start': 1435840,\n",
       "  'type': 'NIST_1A',\n",
       "  'end': 1448400,\n",
       "  'audio_fn': 'fe_03_05863.sph',\n",
       "  'duration': 12560},\n",
       " {'utterance_id': 'fe_03_05863-A-0033',\n",
       "  'speech_raw': 'IN EVERYTHING RIGHT',\n",
       "  'speech': 'IN EVERYTHING RIGHT',\n",
       "  'channel': 1,\n",
       "  'start': 1452480,\n",
       "  'type': 'NIST_1A',\n",
       "  'end': 1470240,\n",
       "  'audio_fn': 'fe_03_05863.sph',\n",
       "  'duration': 17760},\n",
       " {'utterance_id': 'fe_03_05863-A-0034',\n",
       "  'speech_raw': \"AND THERE'S NOTHING THAT I CAN'T SAY TO HER\",\n",
       "  'speech': \"AND THERE'S NOTHING THAT I CAN'T SAY TO HER\",\n",
       "  'channel': 1,\n",
       "  'start': 1472720,\n",
       "  'type': 'NIST_1A',\n",
       "  'end': 1495600,\n",
       "  'audio_fn': 'fe_03_05863.sph',\n",
       "  'duration': 22880},\n",
       " {'utterance_id': 'fe_03_05863-A-0035',\n",
       "  'speech_raw': 'AND UH AND THEN WHAT WOULD HAPPEN I MEAN',\n",
       "  'speech': 'AND UH AND THEN WHAT WOULD HAPPEN I MEAN',\n",
       "  'channel': 1,\n",
       "  'start': 1500800,\n",
       "  'type': 'NIST_1A',\n",
       "  'end': 1533360,\n",
       "  'audio_fn': 'fe_03_05863.sph',\n",
       "  'duration': 32560},\n",
       " {'utterance_id': 'fe_03_05863-A-0036',\n",
       "  'speech_raw': 'I WOULD LOSE THAT FOR A MILLION DOLLARS',\n",
       "  'speech': 'I WOULD LOSE THAT FOR A MILLION DOLLARS',\n",
       "  'channel': 1,\n",
       "  'start': 1534640,\n",
       "  'type': 'NIST_1A',\n",
       "  'end': 1552720,\n",
       "  'audio_fn': 'fe_03_05863.sph',\n",
       "  'duration': 18080},\n",
       " {'utterance_id': 'fe_03_05863-A-0037',\n",
       "  'speech_raw': \"YOU KNOW CERTAIN PARTS OF THE COUNTRY YOU CAN'T EVEN GET A HOUSE IN CALIFORNIA FOR A MILLION DOLLARS YOU KNOW\",\n",
       "  'speech': \"YOU KNOW CERTAIN PARTS OF THE COUNTRY YOU CAN'T EVEN GET A HOUSE IN CALIFORNIA FOR A MILLION DOLLARS YOU KNOW\",\n",
       "  'channel': 1,\n",
       "  'start': 1554160,\n",
       "  'type': 'NIST_1A',\n",
       "  'end': 1610240,\n",
       "  'audio_fn': 'fe_03_05863.sph',\n",
       "  'duration': 56080},\n",
       " {'utterance_id': 'fe_03_05863-A-0038',\n",
       "  'speech_raw': 'NO I LIVE IN MASSACHUSETTS',\n",
       "  'speech': 'NO I LIVE IN MASSACHUSETTS',\n",
       "  'channel': 1,\n",
       "  'start': 1620400,\n",
       "  'type': 'NIST_1A',\n",
       "  'end': 1636240,\n",
       "  'audio_fn': 'fe_03_05863.sph',\n",
       "  'duration': 15840},\n",
       " {'utterance_id': 'fe_03_05863-A-0039',\n",
       "  'speech_raw': 'OH YOU ARE',\n",
       "  'speech': 'OH YOU ARE',\n",
       "  'channel': 1,\n",
       "  'start': 1645120,\n",
       "  'type': 'NIST_1A',\n",
       "  'end': 1653840,\n",
       "  'audio_fn': 'fe_03_05863.sph',\n",
       "  'duration': 8720},\n",
       " {'utterance_id': 'fe_03_05863-A-0040',\n",
       "  'speech_raw': 'WHERE SAN FRANCISCO',\n",
       "  'speech': 'WHERE SAN FRANCISCO',\n",
       "  'channel': 1,\n",
       "  'start': 1661120,\n",
       "  'type': 'NIST_1A',\n",
       "  'end': 1673840,\n",
       "  'audio_fn': 'fe_03_05863.sph',\n",
       "  'duration': 12720},\n",
       " {'utterance_id': 'fe_03_05863-A-0041',\n",
       "  'speech_raw': 'RIGHT RIGHT BECAUSE I HAVE BEEN TO SAN FRANCISCO TWICE BECAUSE MY SON LIVES IN SAN HOSE',\n",
       "  'speech': 'RIGHT RIGHT BECAUSE I HAVE BEEN TO SAN FRANCISCO TWICE BECAUSE MY SON LIVES IN SAN HOSE',\n",
       "  'channel': 1,\n",
       "  'start': 1699920,\n",
       "  'type': 'NIST_1A',\n",
       "  'end': 1735680,\n",
       "  'audio_fn': 'fe_03_05863.sph',\n",
       "  'duration': 35760},\n",
       " {'utterance_id': 'fe_03_05863-A-0042',\n",
       "  'speech_raw': \"SO I KNOW THAT REAL ESTATE OUT THERE'S REALLY EXPENSIVE SO\",\n",
       "  'speech': \"SO I KNOW THAT REAL ESTATE OUT THERE'S REALLY EXPENSIVE SO\",\n",
       "  'channel': 1,\n",
       "  'start': 1736000,\n",
       "  'type': 'NIST_1A',\n",
       "  'end': 1775520,\n",
       "  'audio_fn': 'fe_03_05863.sph',\n",
       "  'duration': 39520},\n",
       " {'utterance_id': 'fe_03_05863-A-0043',\n",
       "  'speech_raw': \"IT IT'S NOT EVEN THOUGH\",\n",
       "  'speech': \"IT IT'S NOT EVEN THOUGH\",\n",
       "  'channel': 1,\n",
       "  'start': 1780240,\n",
       "  'type': 'NIST_1A',\n",
       "  'end': 1792560,\n",
       "  'audio_fn': 'fe_03_05863.sph',\n",
       "  'duration': 12320},\n",
       " {'utterance_id': 'fe_03_05863-A-0044',\n",
       "  'speech_raw': \"I WOULDN'T DO IT FOR ANYTHING NOTHING\",\n",
       "  'speech': \"I WOULDN'T DO IT FOR ANYTHING NOTHING\",\n",
       "  'channel': 1,\n",
       "  'start': 1794400,\n",
       "  'type': 'NIST_1A',\n",
       "  'end': 1816560,\n",
       "  'audio_fn': 'fe_03_05863.sph',\n",
       "  'duration': 22160},\n",
       " {'utterance_id': 'fe_03_05863-A-0045',\n",
       "  'speech_raw': 'NO NO',\n",
       "  'speech': 'NO NO',\n",
       "  'channel': 1,\n",
       "  'start': 1821360,\n",
       "  'type': 'NIST_1A',\n",
       "  'end': 1826880,\n",
       "  'audio_fn': 'fe_03_05863.sph',\n",
       "  'duration': 5520},\n",
       " {'utterance_id': 'fe_03_05863-A-0046',\n",
       "  'speech_raw': \"RIGHT RIGHT THEY ARE HARD TO DISCUSS BECAUSE IF WE AGREE WITH THEM RIGHT AWAY UH THERE'S NOT MUCH AND WE HAVE TO TALK ABOUT THIS TOPIC THE WHOLE TIME OF THE STUDY\",\n",
       "  'speech': \"RIGHT RIGHT THEY ARE HARD TO DISCUSS BECAUSE IF WE AGREE WITH THEM RIGHT AWAY UH THERE'S NOT MUCH AND WE HAVE TO TALK ABOUT THIS TOPIC THE WHOLE TIME OF THE STUDY\",\n",
       "  'channel': 1,\n",
       "  'start': 1860640,\n",
       "  'type': 'NIST_1A',\n",
       "  'end': 1948480,\n",
       "  'audio_fn': 'fe_03_05863.sph',\n",
       "  'duration': 87840},\n",
       " {'utterance_id': 'fe_03_05863-A-0047',\n",
       "  'speech_raw': 'SO UM',\n",
       "  'speech': 'SO UM',\n",
       "  'channel': 1,\n",
       "  'start': 1950640,\n",
       "  'type': 'NIST_1A',\n",
       "  'end': 1961600,\n",
       "  'audio_fn': 'fe_03_05863.sph',\n",
       "  'duration': 10960},\n",
       " {'utterance_id': 'fe_03_05863-A-0048',\n",
       "  'speech_raw': \"[LAUGHTER] IT IS LONG WHEN YOU WHEN YOU GET TO THE AGREEMENT IF WE WERE DEBATING ON IT IT WOULDN'T BE LONG BUT\",\n",
       "  'speech': \"IT IS LONG WHEN YOU WHEN YOU GET TO THE AGREEMENT IF WE WERE DEBATING ON IT IT WOULDN'T BE LONG BUT\",\n",
       "  'channel': 1,\n",
       "  'start': 1974720,\n",
       "  'type': 'NIST_1A',\n",
       "  'end': 2029120,\n",
       "  'audio_fn': 'fe_03_05863.sph',\n",
       "  'duration': 54400},\n",
       " {'utterance_id': 'fe_03_05863-A-0049',\n",
       "  'speech_raw': \"[LAUGHTER] WE'D BE LIKE THE POLITICIANS\",\n",
       "  'speech': \"WE'D BE LIKE THE POLITICIANS\",\n",
       "  'channel': 1,\n",
       "  'start': 2069360,\n",
       "  'type': 'NIST_1A',\n",
       "  'end': 2094640,\n",
       "  'audio_fn': 'fe_03_05863.sph',\n",
       "  'duration': 25280},\n",
       " {'utterance_id': 'fe_03_05863-A-0050',\n",
       "  'speech_raw': '[LAUGHTER] SO UM',\n",
       "  'speech': 'SO UM',\n",
       "  'channel': 1,\n",
       "  'start': 2122640,\n",
       "  'type': 'NIST_1A',\n",
       "  'end': 2137600,\n",
       "  'audio_fn': 'fe_03_05863.sph',\n",
       "  'duration': 14960},\n",
       " {'utterance_id': 'fe_03_05863-A-0051',\n",
       "  'speech_raw': \"THERE'S REALLY NOT MUCH UM\",\n",
       "  'speech': \"THERE'S REALLY NOT MUCH UM\",\n",
       "  'channel': 1,\n",
       "  'start': 2144560,\n",
       "  'type': 'NIST_1A',\n",
       "  'end': 2162160,\n",
       "  'audio_fn': 'fe_03_05863.sph',\n",
       "  'duration': 17600},\n",
       " {'utterance_id': 'fe_03_05863-A-0052',\n",
       "  'speech_raw': 'I CAN SAY',\n",
       "  'speech': 'I CAN SAY',\n",
       "  'channel': 1,\n",
       "  'start': 2164800,\n",
       "  'type': 'NIST_1A',\n",
       "  'end': 2178080,\n",
       "  'audio_fn': 'fe_03_05863.sph',\n",
       "  'duration': 13280},\n",
       " {'utterance_id': 'fe_03_05863-A-0053',\n",
       "  'speech_raw': \"BUT I WOULDN'T DO IT\",\n",
       "  'speech': \"BUT I WOULDN'T DO IT\",\n",
       "  'channel': 1,\n",
       "  'start': 2182640,\n",
       "  'type': 'NIST_1A',\n",
       "  'end': 2194640,\n",
       "  'audio_fn': 'fe_03_05863.sph',\n",
       "  'duration': 12000},\n",
       " {'utterance_id': 'fe_03_05863-A-0054',\n",
       "  'speech_raw': '[LAUGHTER]',\n",
       "  'speech': '',\n",
       "  'channel': 1,\n",
       "  'start': 2209680,\n",
       "  'type': 'NIST_1A',\n",
       "  'end': 2221040,\n",
       "  'audio_fn': 'fe_03_05863.sph',\n",
       "  'duration': 11360},\n",
       " {'utterance_id': 'fe_03_05863-A-0055',\n",
       "  'speech_raw': 'OH',\n",
       "  'speech': 'OH',\n",
       "  'channel': 1,\n",
       "  'start': 2235040,\n",
       "  'type': 'NIST_1A',\n",
       "  'end': 2243600,\n",
       "  'audio_fn': 'fe_03_05863.sph',\n",
       "  'duration': 8560},\n",
       " {'utterance_id': 'fe_03_05863-A-0056',\n",
       "  'speech_raw': 'SO',\n",
       "  'speech': 'SO',\n",
       "  'channel': 1,\n",
       "  'start': 2261040,\n",
       "  'type': 'NIST_1A',\n",
       "  'end': 2267760,\n",
       "  'audio_fn': 'fe_03_05863.sph',\n",
       "  'duration': 6720},\n",
       " {'utterance_id': 'fe_03_05863-A-0057',\n",
       "  'speech_raw': 'UH',\n",
       "  'speech': 'UH',\n",
       "  'channel': 1,\n",
       "  'start': 2269280,\n",
       "  'type': 'NIST_1A',\n",
       "  'end': 2281760,\n",
       "  'audio_fn': 'fe_03_05863.sph',\n",
       "  'duration': 12480},\n",
       " {'utterance_id': 'fe_03_05863-A-0058',\n",
       "  'speech_raw': 'I WONDER',\n",
       "  'speech': 'I WONDER',\n",
       "  'channel': 1,\n",
       "  'start': 2290960,\n",
       "  'type': 'NIST_1A',\n",
       "  'end': 2302080,\n",
       "  'audio_fn': 'fe_03_05863.sph',\n",
       "  'duration': 11120},\n",
       " {'utterance_id': 'fe_03_05863-A-0059',\n",
       "  'speech_raw': 'YEAH [LAUGHTER]',\n",
       "  'speech': 'YEAH',\n",
       "  'channel': 1,\n",
       "  'start': 2329680,\n",
       "  'type': 'NIST_1A',\n",
       "  'end': 2343840,\n",
       "  'audio_fn': 'fe_03_05863.sph',\n",
       "  'duration': 14160},\n",
       " {'utterance_id': 'fe_03_05863-A-0060',\n",
       "  'speech_raw': \"I THOUGHT I LOST YOU FOR A MINUTE TOO 'CAUSE THEY WERE I HEARD SOMETHING DIFFERENT UM\",\n",
       "  'speech': \"I THOUGHT I LOST YOU FOR A MINUTE TOO 'CAUSE THEY WERE I HEARD SOMETHING DIFFERENT UM\",\n",
       "  'channel': 1,\n",
       "  'start': 2350720,\n",
       "  'type': 'NIST_1A',\n",
       "  'end': 2391600,\n",
       "  'audio_fn': 'fe_03_05863.sph',\n",
       "  'duration': 40880},\n",
       " {'utterance_id': 'fe_03_05863-A-0061',\n",
       "  'speech_raw': \"I DON'T KNOW I DON'T KNOW WHAT ELSE TO SAY BECAUSE\",\n",
       "  'speech': \"I DON'T KNOW I DON'T KNOW WHAT ELSE TO SAY BECAUSE\",\n",
       "  'channel': 1,\n",
       "  'start': 2413200,\n",
       "  'type': 'NIST_1A',\n",
       "  'end': 2438400,\n",
       "  'audio_fn': 'fe_03_05863.sph',\n",
       "  'duration': 25200},\n",
       " {'utterance_id': 'fe_03_05863-A-0062',\n",
       "  'speech_raw': 'SO AM I. [LAUGHTER] WE GOT TO BE',\n",
       "  'speech': 'SO AM I. WE GOT TO BE',\n",
       "  'channel': 1,\n",
       "  'start': 2450880,\n",
       "  'type': 'NIST_1A',\n",
       "  'end': 2472320,\n",
       "  'audio_fn': 'fe_03_05863.sph',\n",
       "  'duration': 21440},\n",
       " {'utterance_id': 'fe_03_05863-A-0063',\n",
       "  'speech_raw': \"OH NO THE FIRST ONE THAT I GOT WAS ACTUALLY LAST WEEK 'CAUSE I JUST STARTED AND WE TALKED THROUGH THE WHOLE THING\",\n",
       "  'speech': \"OH NO THE FIRST ONE THAT I GOT WAS ACTUALLY LAST WEEK 'CAUSE I JUST STARTED AND WE TALKED THROUGH THE WHOLE THING\",\n",
       "  'channel': 1,\n",
       "  'start': 2484880,\n",
       "  'type': 'NIST_1A',\n",
       "  'end': 2540320,\n",
       "  'audio_fn': 'fe_03_05863.sph',\n",
       "  'duration': 55440},\n",
       " {'utterance_id': 'fe_03_05863-A-0064',\n",
       "  'speech_raw': 'WHICH WAS GOOD BUT WE AGREED SO',\n",
       "  'speech': 'WHICH WAS GOOD BUT WE AGREED SO',\n",
       "  'channel': 1,\n",
       "  'start': 2546480,\n",
       "  'type': 'NIST_1A',\n",
       "  'end': 2571040,\n",
       "  'audio_fn': 'fe_03_05863.sph',\n",
       "  'duration': 24560},\n",
       " {'utterance_id': 'fe_03_05863-A-0065',\n",
       "  'speech_raw': 'UM',\n",
       "  'speech': 'UM',\n",
       "  'channel': 1,\n",
       "  'start': 2573120,\n",
       "  'type': 'NIST_1A',\n",
       "  'end': 2579840,\n",
       "  'audio_fn': 'fe_03_05863.sph',\n",
       "  'duration': 6720},\n",
       " {'utterance_id': 'fe_03_05863-A-0066',\n",
       "  'speech_raw': '[LIPSMACK] OH',\n",
       "  'speech': 'OH',\n",
       "  'channel': 1,\n",
       "  'start': 2592080,\n",
       "  'type': 'NIST_1A',\n",
       "  'end': 2598160,\n",
       "  'audio_fn': 'fe_03_05863.sph',\n",
       "  'duration': 6080},\n",
       " {'utterance_id': 'fe_03_05863-A-0067',\n",
       "  'speech_raw': \"THIS IS HARD IT'S HARD TO TALK LIKE THIS\",\n",
       "  'speech': \"THIS IS HARD IT'S HARD TO TALK LIKE THIS\",\n",
       "  'channel': 1,\n",
       "  'start': 2605360,\n",
       "  'type': 'NIST_1A',\n",
       "  'end': 2630560,\n",
       "  'audio_fn': 'fe_03_05863.sph',\n",
       "  'duration': 25200},\n",
       " {'utterance_id': 'fe_03_05863-A-0068',\n",
       "  'speech_raw': 'HEY',\n",
       "  'speech': 'HEY',\n",
       "  'channel': 1,\n",
       "  'start': 2654240,\n",
       "  'type': 'NIST_1A',\n",
       "  'end': 2661280,\n",
       "  'audio_fn': 'fe_03_05863.sph',\n",
       "  'duration': 7040},\n",
       " {'utterance_id': 'fe_03_05863-A-0069',\n",
       "  'speech_raw': \"I- I DON'T KNOW UM SOME TIME WE WE CAN ALWAYS GET DIFFERENT PEOPLE BUT IT'D BE FUNNY IF WE GOT\",\n",
       "  'speech': \"I- I DON'T KNOW UM SOME TIME WE WE CAN ALWAYS GET DIFFERENT PEOPLE BUT IT'D BE FUNNY IF WE GOT\",\n",
       "  'channel': 1,\n",
       "  'start': 2666960,\n",
       "  'type': 'NIST_1A',\n",
       "  'end': 2710400,\n",
       "  'audio_fn': 'fe_03_05863.sph',\n",
       "  'duration': 43440},\n",
       " {'utterance_id': 'fe_03_05863-A-0070',\n",
       "  'speech_raw': 'THE SAME IF WE GOT TO TALK MORE THAN ONCE AND WE BECAME FRIENDS [LAUGHTER]',\n",
       "  'speech': 'THE SAME IF WE GOT TO TALK MORE THAN ONCE AND WE BECAME FRIENDS',\n",
       "  'channel': 1,\n",
       "  'start': 2711360,\n",
       "  'type': 'NIST_1A',\n",
       "  'end': 2756400,\n",
       "  'audio_fn': 'fe_03_05863.sph',\n",
       "  'duration': 45040},\n",
       " {'utterance_id': 'fe_03_05863-A-0071',\n",
       "  'speech_raw': \"AND WE'RE TALKING ABOUT BEST FRIENDS WE BECOME FRIENDS YOU KNOW BUT UM FRIENDS ARE ACTUALLY SEE THERE'S ANOTHER THING THAT WE CAN SAY YOU CAN CHOOSE YOUR FRIENDS AND YOU CAN'T CHOOSE YOUR FAMILY\",\n",
       "  'speech': \"AND WE'RE TALKING ABOUT BEST FRIENDS WE BECOME FRIENDS YOU KNOW BUT UM FRIENDS ARE ACTUALLY SEE THERE'S ANOTHER THING THAT WE CAN SAY YOU CAN CHOOSE YOUR FRIENDS AND YOU CAN'T CHOOSE YOUR FAMILY\",\n",
       "  'channel': 1,\n",
       "  'start': 2757920,\n",
       "  'type': 'NIST_1A',\n",
       "  'end': 2846400,\n",
       "  'audio_fn': 'fe_"
      ]
     },
     "execution_count": 133,
     "metadata": {},
     "output_type": "execute_result"
    },
    {
     "data": {
      "text/html": [
       "<b>limit_output extension: Maximum message size of 20000 exceeded with 62534 characters</b>"
      ]
     },
     "metadata": {},
     "output_type": "display_data"
    }
   ],
   "source": [
    "get_transcriptions_bbn('05863')"
   ]
  },
  {
   "cell_type": "markdown",
   "metadata": {},
   "source": [
    "### Some summary / sanity-checking statistics"
   ]
  },
  {
   "cell_type": "markdown",
   "metadata": {},
   "source": [
    "How many calls are in the bbn transcripts?"
   ]
  },
  {
   "cell_type": "code",
   "execution_count": 134,
   "metadata": {
    "ExecuteTime": {
     "end_time": "2019-04-15T23:19:30.962684Z",
     "start_time": "2019-04-15T23:19:30.956486Z"
    }
   },
   "outputs": [
    {
     "data": {
      "text/plain": [
       "5120"
      ]
     },
     "execution_count": 134,
     "metadata": {},
     "output_type": "execute_result"
    },
    {
     "data": {
      "text/plain": [
       "5849"
      ]
     },
     "execution_count": 134,
     "metadata": {},
     "output_type": "execute_result"
    },
    {
     "data": {
      "text/plain": [
       "729"
      ]
     },
     "execution_count": 134,
     "metadata": {},
     "output_type": "execute_result"
    }
   ],
   "source": [
    "call_ids_bbn = [c['call_id'] for c in bbn_call_relation]\n",
    "len(call_ids_bbn)\n",
    "len(call_ids)\n",
    "len(call_ids) - len(call_ids_bbn)"
   ]
  },
  {
   "cell_type": "code",
   "execution_count": 135,
   "metadata": {
    "ExecuteTime": {
     "end_time": "2019-04-15T23:19:30.977039Z",
     "start_time": "2019-04-15T23:19:30.964521Z"
    }
   },
   "outputs": [
    {
     "data": {
      "text/plain": [
       "{'05851',\n",
       " '05852',\n",
       " '05853',\n",
       " '05854',\n",
       " '05855',\n",
       " '05856',\n",
       " '05857',\n",
       " '05858',\n",
       " '05859',\n",
       " '05860',\n",
       " '05861',\n",
       " '05862',\n",
       " '05864',\n",
       " '05865',\n",
       " '05866',\n",
       " '05867',\n",
       " '05868',\n",
       " '05869',\n",
       " '05870',\n",
       " '05871',\n",
       " '05872',\n",
       " '05873',\n",
       " '05874',\n",
       " '05875',\n",
       " '05877',\n",
       " '05878',\n",
       " '05879',\n",
       " '05880',\n",
       " '05881',\n",
       " '05882',\n",
       " '05883',\n",
       " '05884',\n",
       " '05885',\n",
       " '05886',\n",
       " '05890',\n",
       " '05891',\n",
       " '05892',\n",
       " '05893',\n",
       " '05894',\n",
       " '05895',\n",
       " '05896',\n",
       " '05897',\n",
       " '05899',\n",
       " '05900',\n",
       " '05901',\n",
       " '05902',\n",
       " '05903',\n",
       " '05904',\n",
       " '05905',\n",
       " '05906',\n",
       " '05907',\n",
       " '05908',\n",
       " '05909',\n",
       " '05910',\n",
       " '05911',\n",
       " '05912',\n",
       " '05913',\n",
       " '05914',\n",
       " '05915',\n",
       " '05916',\n",
       " '05917',\n",
       " '05918',\n",
       " '05919',\n",
       " '05920',\n",
       " '05921',\n",
       " '05922',\n",
       " '05923',\n",
       " '05924',\n",
       " '05925',\n",
       " '05926',\n",
       " '05927',\n",
       " '05928',\n",
       " '05929',\n",
       " '05930',\n",
       " '05931',\n",
       " '05932',\n",
       " '05933',\n",
       " '05934',\n",
       " '05935',\n",
       " '05936',\n",
       " '05937',\n",
       " '05938',\n",
       " '05939',\n",
       " '05940',\n",
       " '05941',\n",
       " '05942',\n",
       " '05943',\n",
       " '05944',\n",
       " '05945',\n",
       " '05946',\n",
       " '05947',\n",
       " '05948',\n",
       " '05949',\n",
       " '05950',\n",
       " '05951',\n",
       " '05952',\n",
       " '05953',\n",
       " '05954',\n",
       " '05955',\n",
       " '05956',\n",
       " '05957',\n",
       " '05958',\n",
       " '05959',\n",
       " '05960',\n",
       " '05961',\n",
       " '05962',\n",
       " '05963',\n",
       " '05964',\n",
       " '05965',\n",
       " '05966',\n",
       " '05967',\n",
       " '05968',\n",
       " '05969',\n",
       " '05970',\n",
       " '05971',\n",
       " '05972',\n",
       " '05973',\n",
       " '05974',\n",
       " '05975',\n",
       " '05976',\n",
       " '05977',\n",
       " '05978',\n",
       " '05979',\n",
       " '05980',\n",
       " '05981',\n",
       " '05982',\n",
       " '05983',\n",
       " '05984',\n",
       " '05985',\n",
       " '05986',\n",
       " '05987',\n",
       " '05988',\n",
       " '05989',\n",
       " '05990',\n",
       " '05991',\n",
       " '05992',\n",
       " '05993',\n",
       " '05994',\n",
       " '05995',\n",
       " '05997',\n",
       " '05998',\n",
       " '05999',\n",
       " '06001',\n",
       " '06002',\n",
       " '06003',\n",
       " '06004',\n",
       " '06005',\n",
       " '06006',\n",
       " '06007',\n",
       " '06008',\n",
       " '06009',\n",
       " '06010',\n",
       " '06011',\n",
       " '06012',\n",
       " '06013',\n",
       " '06014',\n",
       " '06015',\n",
       " '06016',\n",
       " '06017',\n",
       " '06018',\n",
       " '06019',\n",
       " '06020',\n",
       " '06021',\n",
       " '06022',\n",
       " '06023',\n",
       " '06024',\n",
       " '06026',\n",
       " '06029',\n",
       " '06030',\n",
       " '06031',\n",
       " '06032',\n",
       " '06033',\n",
       " '06034',\n",
       " '06036',\n",
       " '06038',\n",
       " '06039',\n",
       " '06040',\n",
       " '07993',\n",
       " '08099',\n",
       " '08124',\n",
       " '08160',\n",
       " '08161',\n",
       " '08186',\n",
       " '08210',\n",
       " '08499',\n",
       " '08658',\n",
       " '08799',\n",
       " '08810',\n",
       " '08847',\n",
       " '08956',\n",
       " '08993',\n",
       " '08999',\n",
       " '09000',\n",
       " '09001',\n",
       " '09005',\n",
       " '09006',\n",
       " '09007',\n",
       " '09008',\n",
       " '09010',\n",
       " '09011',\n",
       " '09015',\n",
       " '09016',\n",
       " '09017',\n",
       " '09018',\n",
       " '09020',\n",
       " '09021',\n",
       " '09024',\n",
       " '09026',\n",
       " '09030',\n",
       " '09031',\n",
       " '09032',\n",
       " '09035',\n",
       " '09038',\n",
       " '09039',\n",
       " '09049',\n",
       " '09055',\n",
       " '09056',\n",
       " '09057',\n",
       " '09058',\n",
       " '09059',\n",
       " '09064',\n",
       " '09065',\n",
       " '09066',\n",
       " '09068',\n",
       " '09070',\n",
       " '09076',\n",
       " '09081',\n",
       " '09082',\n",
       " '09083',\n",
       " '09087',\n",
       " '09088',\n",
       " '09089',\n",
       " '09092',\n",
       " '09097',\n",
       " '09100',\n",
       " '09103',\n",
       " '09126',\n",
       " '09130',\n",
       " '09131',\n",
       " '09945',\n",
       " '09952',\n",
       " '09953',\n",
       " '09958',\n",
       " '09961',\n",
       " '09982',\n",
       " '10013',\n",
       " '10015',\n",
       " '10016',\n",
       " '10129',\n",
       " '10130',\n",
       " '10131',\n",
       " '10144',\n",
       " '10153',\n",
       " '10154',\n",
       " '10161',\n",
       " '10162',\n",
       " '10165',\n",
       " '10191',\n",
       " '10197',\n",
       " '10201',\n",
       " '10202',\n",
       " '10203',\n",
       " '10231',\n",
       " '10232',\n",
       " '10233',\n",
       " '10257',\n",
       " '10258',\n",
       " '10265',\n",
       " '10266',\n",
       " '10267',\n",
       " '10268',\n",
       " '10269',\n",
       " '10270',\n",
       " '10271',\n",
       " '10272',\n",
       " '10273',\n",
       " '10274',\n",
       " '10275',\n",
       " '10276',\n",
       " '10277',\n",
       " '10278',\n",
       " '10279',\n",
       " '10280',\n",
       " '10281',\n",
       " '10282',\n",
       " '10283',\n",
       " '10284',\n",
       " '10285',\n",
       " '10286',\n",
       " '10287',\n",
       " '10288',\n",
       " '10289',\n",
       " '10290',\n",
       " '10297',\n",
       " '10299',\n",
       " '10315',\n",
       " '10324',\n",
       " '10332',\n",
       " '10349',\n",
       " '10352',\n",
       " '10354',\n",
       " '10355',\n",
       " '10400',\n",
       " '10419',\n",
       " '10445',\n",
       " '10450',\n",
       " '10506',\n",
       " '10522',\n",
       " '10529',\n",
       " '10532',\n",
       " '10550',\n",
       " '10551',\n",
       " '10552',\n",
       " '10553',\n",
       " '10555',\n",
       " '10586',\n",
       " '10622',\n",
       " '10630',\n",
       " '10634',\n",
       " '10636',\n",
       " '10642',\n",
       " '10717',\n",
       " '10750',\n",
       " '10776',\n",
       " '10785',\n",
       " '10808',\n",
       " '10812',\n",
       " '10833',\n",
       " '10834',\n",
       " '10836',\n",
       " '10839',\n",
       " '10841',\n",
       " '10872',\n",
       " '10881',\n",
       " '10883',\n",
       " '10912',\n",
       " '10921',\n",
       " '10928',\n",
       " '10933',\n",
       " '10999',\n",
       " '11038',\n",
       " '11039',\n",
       " '11040',\n",
       " '11041',\n",
       " '11042',\n",
       " '11043',\n",
       " '11044',\n",
       " '11045',\n",
       " '11046',\n",
       " '11047',\n",
       " '11048',\n",
       " '11049',\n",
       " '11050',\n",
       " '11051',\n",
       " '11052',\n",
       " '11053',\n",
       " '11054',\n",
       " '11085',\n",
       " '11086',\n",
       " '11087',\n",
       " '11088',\n",
       " '11089',\n",
       " '11090',\n",
       " '11091',\n",
       " '11092',\n",
       " '11093',\n",
       " '11094',\n",
       " '11095',\n",
       " '11096',\n",
       " '11097',\n",
       " '11098',\n",
       " '11099',\n",
       " '11100',\n",
       " '11101',\n",
       " '11102',\n",
       " '11103',\n",
       " '11104',\n",
       " '11105',\n",
       " '11106',\n",
       " '11107',\n",
       " '11125',\n",
       " '11170',\n",
       " '11175',\n",
       " '11202',\n",
       " '11261',\n",
       " '11262',\n",
       " '11263',\n",
       " '11264',\n",
       " '11265',\n",
       " '11266',\n",
       " '11267',\n",
       " '11268',\n",
       " '11269',\n",
       " '11270',\n",
       " '11271',\n",
       " '11272',\n",
       " '11273',\n",
       " '11274',\n",
       " '11275',\n",
       " '11276',\n",
       " '11277',\n",
       " '11278',\n",
       " '11279',\n",
       " '11280',\n",
       " '11281',\n",
       " '11282',\n",
       " '11283',\n",
       " '11284',\n",
       " '11285',\n",
       " '11286',\n",
       " '11287',\n",
       " '11288',\n",
       " '11289',\n",
       " '11290',\n",
       " '11291',\n",
       " '11292',\n",
       " '11294',\n",
       " '11333',\n",
       " '11356',\n",
       " '11368',\n",
       " '11369',\n",
       " '11370',\n",
       " '11381',\n",
       " '11382',\n",
       " '11395',\n",
       " '11396',\n",
       " '11397',\n",
       " '11398',\n",
       " '11399',\n",
       " '11400',\n",
       " '11401',\n",
       " '11402',\n",
       " '11403',\n",
       " '11404',\n",
       " '11405',\n",
       " '11406',\n",
       " '11407',\n",
       " '11408',\n",
       " '11409',\n",
       " '11410',\n",
       " '11411',\n",
       " '11412',\n",
       " '11413',\n",
       " '11414',\n",
       " '11415',\n",
       " '11416',\n",
       " '11417',\n",
       " '11418',\n",
       " '11419',\n",
       " '11420',\n",
       " '11421',\n",
       " '11422',\n",
       " '11423',\n",
       " '11424',\n",
       " '11425',\n",
       " '11426',\n",
       " '11427',\n",
       " '11428',\n",
       " '11429',\n",
       " '11430',\n",
       " '11431',\n",
       " '11432',\n",
       " '11433',\n",
       " '11434',\n",
       " '11435',\n",
       " '11436',\n",
       " '11437',\n",
       " '11438',\n",
       " '11439',\n",
       " '11440',\n",
       " '11441',\n",
       " '11442',\n",
       " '11443',\n",
       " '11444',\n",
       " '11445',\n",
       " '11446',\n",
       " '11447',\n",
       " '11448',\n",
       " '11449',\n",
       " '11450',\n",
       " '11451',\n",
       " '11452',\n",
       " '11453',\n",
       " '11454',\n",
       " '11455',\n",
       " '11456',\n",
       " '11457',\n",
       " '11458',\n",
       " '11459',\n",
       " '11460',\n",
       " '11461',\n",
       " '11462',\n",
       " '11463',\n",
       " '11464',\n",
       " '11465',\n",
       " '11466',\n",
       " '11467',\n",
       " '11468',\n",
       " '11469',\n",
       " '11470',\n",
       " '11471',\n",
       " '11472',\n",
       " '11473',\n",
       " '11474',\n",
       " '11475',\n",
       " '11476',\n",
       " '11477',\n",
       " '11478',\n",
       " '11479',\n",
       " '11480',\n",
       " '11481',\n",
       " '11482',\n",
       " '11483',\n",
       " '11484',\n",
       " '11485',\n",
       " '11486',\n",
       " '11487',\n",
       " '11488',\n",
       " '11489',\n",
       " '11490',\n",
       " '11491',\n",
       " '11492',\n",
       " '11493',\n",
       " '11494',\n",
       " '11495',\n",
       " '11496',\n",
       " '11497',\n",
       " '11498',\n",
       " '11499',\n",
       " '11500',\n",
       " '11501',\n",
       " '11502',\n",
       " '11503',\n",
       " '11504',\n",
       " '11505',\n",
       " '11506',\n",
       " '11507',\n",
       " '11508',\n",
       " '11509',\n",
       " '11510',\n",
       " '11511',\n",
       " '11512',\n",
       " '11513',\n",
       " '11514',\n",
       " '11515',\n",
       " '11516',\n",
       " '11517',\n",
       " '11518',\n",
       " '11519',\n",
       " '11520',\n",
       " '11521',\n",
       " '11522',\n",
       " '11523',\n",
       " '11524',\n",
       " '11525',\n",
       " '11526',\n",
       " '11527',\n",
       " '11528',\n",
       " '11529',\n",
       " '11530',\n",
       " '11531',\n",
       " '11532',\n",
       " '11533',\n",
       " '11534',\n",
       " '11535',\n",
       " '11536',\n",
       " '11537',\n",
       " '11538',\n",
       " '11539',\n",
       " '11540',\n",
       " '11541',\n",
       " '11542',\n",
       " '11543',\n",
       " '11544',\n",
       " '11545',\n",
       " '11546',\n",
       " '11547',\n",
       " '11548',\n",
       " '11549',\n",
       " '11550',\n",
       " '11551',\n",
       " '11552',\n",
       " '11553',\n",
       " '11554',\n",
       " '11555',\n",
       " '11556',\n",
       " '11557',\n",
       " '11558',\n",
       " '11559',\n",
       " '11560',\n",
       " '11561',\n",
       " '11562',\n",
       " '11563',\n",
       " '11564',\n",
       " '11565',\n",
       " '11566',\n",
       " '11567',\n",
       " '11568',\n",
       " '11569',\n",
       " '11570',\n",
       " '11571',\n",
       " '11572',\n",
       " '11573',\n",
       " '11574',\n",
       " '11575',\n",
       " '11576',\n",
       " '11577',\n",
       " '11578',\n",
       " '11579',\n",
       " '11580',\n",
       " '11581',\n",
       " '11582',\n",
       " '11583',\n",
       " '11584',\n",
       " '11585',\n",
       " '11586',\n",
       " '11587',\n",
       " '11588',\n",
       " '11589',\n",
       " '11590',\n",
       " '11591',\n",
       " '11592',\n",
       " '11593',\n",
       " '11594',\n",
       " '11595',\n",
       " '11596',\n",
       " '11597',\n",
       " '11598',\n",
       " '11599',\n",
       " '11600',\n",
       " '11601',\n",
       " '11602',\n",
       " '11603',\n",
       " '11604',\n",
       " '11605',\n",
       " '11606',\n",
       " '11607',\n",
       " '11608',\n",
       " '11609',\n",
       " '11610',\n",
       " '11611',\n",
       " '11612',\n",
       " '11613',\n",
       " '11614',\n",
       " '11615',\n",
       " '11616',\n",
       " '11617',\n",
       " '11618',\n",
       " '11619',\n",
       " '11620',\n",
       " '11621',\n",
       " '11622',\n",
       " '11623',\n",
       " '11624',\n",
       " '11625',\n",
       " '11626',\n",
       " '11627',\n",
       " '11628',\n",
       " '11629',\n",
       " '11630',\n",
       " '11631',\n",
       " '11632',\n",
       " '11633',\n",
       " '11634',\n",
       " '11635',\n",
       " '11636',\n",
       " '11637',\n",
       " '11638',\n",
       " '11639',\n",
       " '11640',\n",
       " '11641',\n",
       " '11642',\n",
       " '11643',\n",
       " '11644',\n",
       " '11645',\n",
       " '11646',\n",
       " '11647',\n",
       " '11648',\n",
       " '11649',\n",
       " '11650',\n",
       " '11651',\n",
       " '11652',\n",
       " '11653',\n",
       " '11654',\n",
       " '11655',\n",
       " '11656',\n",
       " '11657',\n",
       " '11658',\n",
       " '11659',\n",
       " '11660',\n",
       " '11661',\n",
       " '11662',\n",
       " '11663',\n",
       " '11664',\n",
       " '11665',\n",
       " '11666',\n",
       " '11667',\n",
       " '11668',\n",
       " '11669',\n",
       " '11670',\n",
       " '11671',\n",
       " '11672',\n",
       " '11673',\n",
       " '11674',\n",
       " '11675',\n",
       " '11676',\n",
       " '11677',\n",
       " '11678',\n",
       " '11679',\n",
       " '11680',\n",
       " '11681',\n",
       " '11682',\n",
       " '11683',\n",
       " '11684',\n",
       " '11685',\n",
       " '11686',\n",
       " '11687',\n",
       " '11688',\n",
       " '11689',\n",
       " '11690',\n",
       " '11691',\n",
       " '11692',\n",
       " '11693',\n",
       " '11694',\n",
       " '11695',\n",
       " '11696',\n",
       " '11697',\n",
       " '11698',\n",
       " '11699'}"
      ]
     },
     "execution_count": 135,
     "metadata": {},
     "output_type": "execute_result"
    }
   ],
   "source": [
    "set(call_ids) - set(call_ids_bbn)"
   ]
  },
  {
   "cell_type": "markdown",
   "metadata": {},
   "source": [
    "According to the documentation, only 300 conversations should be missing from the `bbn` transcriptions - those prefixed with `114`, `115`, and `116`. What's the story on the other 429????"
   ]
  },
  {
   "cell_type": "markdown",
   "metadata": {},
   "source": [
    "How many word tokens are in the `bbn` transcripts?"
   ]
  },
  {
   "cell_type": "code",
   "execution_count": 136,
   "metadata": {
    "ExecuteTime": {
     "end_time": "2019-04-15T23:20:06.003976Z",
     "start_time": "2019-04-15T23:19:30.978303Z"
    }
   },
   "outputs": [
    {
     "data": {
      "text/plain": [
       "9676792"
      ]
     },
     "execution_count": 136,
     "metadata": {},
     "output_type": "execute_result"
    }
   ],
   "source": [
    "def count_word_tokens_in_call_bbn(call_id):\n",
    "    return sum([count_word_tokens_in_line(l) for l in get_transcriptions_bbn(call_id)])\n",
    "\n",
    "#31.0s on wittgenstein\n",
    "sum([count_word_tokens_in_call_bbn(call_id) for call_id in call_ids_bbn])"
   ]
  },
  {
   "cell_type": "markdown",
   "metadata": {},
   "source": [
    "How many word types are in the `bbn` transcripts?"
   ]
  },
  {
   "cell_type": "code",
   "execution_count": 137,
   "metadata": {
    "ExecuteTime": {
     "end_time": "2019-04-15T23:20:49.369354Z",
     "start_time": "2019-04-15T23:20:06.005403Z"
    }
   },
   "outputs": [
    {
     "data": {
      "text/plain": [
       "46160"
      ]
     },
     "execution_count": 137,
     "metadata": {},
     "output_type": "execute_result"
    }
   ],
   "source": [
    "def word_types_in_call_bbn(call_id):\n",
    "    return union([word_types_in_line(l) for l in get_transcriptions_bbn(call_id)])\n",
    "\n",
    "#42.2s on wittgenstein\n",
    "vocabulary_bbn = union([word_types_in_call_bbn(c) for c in call_ids_bbn])\n",
    "len(vocabulary_bbn)"
   ]
  },
  {
   "cell_type": "code",
   "execution_count": 138,
   "metadata": {
    "ExecuteTime": {
     "end_time": "2019-04-15T23:20:49.376699Z",
     "start_time": "2019-04-15T23:20:49.370406Z"
    }
   },
   "outputs": [
    {
     "data": {
      "text/plain": [
       "['',\n",
       " 'BODYBUILDING',\n",
       " 'SHOPAHOLIC',\n",
       " 'EMBODIED',\n",
       " 'BUTTING',\n",
       " 'PURCHASER',\n",
       " 'ECOMASS',\n",
       " 'CHURNED',\n",
       " 'DESK',\n",
       " 'PIMPLE',\n",
       " 'ABSURDEST',\n",
       " 'JUDE',\n",
       " 'TRANSOM',\n",
       " 'JOURNALS',\n",
       " 'LOBES',\n",
       " 'UNT-',\n",
       " 'SCANDALOUS',\n",
       " 'URBANA-CHAMPAIGN',\n",
       " 'PHONING',\n",
       " 'VICARIOUS',\n",
       " 'MONSON',\n",
       " 'COUNTERBALANCES',\n",
       " 'DICK',\n",
       " 'SIZED',\n",
       " 'QUEUES',\n",
       " 'ESPOUSED',\n",
       " 'R._I._C._O.',\n",
       " 'PLAY-',\n",
       " 'SABLE',\n",
       " \"RILEY'S\",\n",
       " 'CATARACTS',\n",
       " 'RULERS',\n",
       " 'YAH-',\n",
       " 'GORDON',\n",
       " 'ESTA',\n",
       " 'NICKELODEON',\n",
       " 'SEWED',\n",
       " \"DON'-\",\n",
       " 'PING',\n",
       " 'POSSIBLY',\n",
       " 'THETA',\n",
       " 'OUTLYING',\n",
       " 'CYNIC-',\n",
       " 'FOODS',\n",
       " 'TEMPTING',\n",
       " 'APPALLED',\n",
       " 'BEETS',\n",
       " 'DRY',\n",
       " 'STEPDAD',\n",
       " 'BROADCASTING',\n",
       " 'VERONIQUE',\n",
       " 'LICKED',\n",
       " 'INVACC-',\n",
       " \"TRINITY'S\",\n",
       " 'UNLIMITED',\n",
       " 'ATTRIBUTES',\n",
       " \"MOM'S\",\n",
       " 'TRAITOR',\n",
       " \"MARJIANA'S\",\n",
       " 'RUNNING',\n",
       " 'DUDDY',\n",
       " 'MESCULN',\n",
       " \"MINNESOTA'S\",\n",
       " 'GINOS',\n",
       " 'QUOTAS',\n",
       " 'PAULINE',\n",
       " 'PIGGY',\n",
       " 'PLIANT',\n",
       " \"WOULDN'T\",\n",
       " 'DEFORMED',\n",
       " 'HAWTHORN',\n",
       " 'FETTUCCINE',\n",
       " 'ORGIES',\n",
       " 'COPYCATS',\n",
       " 'OCCUPATIONAL',\n",
       " 'JETS',\n",
       " 'FAIR-WEATHER',\n",
       " 'SODOMY',\n",
       " 'IMBIBE',\n",
       " 'ISLANDERS',\n",
       " 'HISSELF',\n",
       " 'SCUZZY',\n",
       " 'GINGER',\n",
       " 'BUSING',\n",
       " 'BLOOMING',\n",
       " 'SUPERMARKETS',\n",
       " 'EBB',\n",
       " 'POOLE',\n",
       " 'GAMBLE',\n",
       " 'DOORWAY',\n",
       " 'ATTEMPT',\n",
       " \"MAY'VE\",\n",
       " 'HOCK',\n",
       " 'SEEMED',\n",
       " 'COSMOPOLITANS',\n",
       " 'PROTECTIVE',\n",
       " 'HEARINGS',\n",
       " 'GLAN-',\n",
       " 'REQUIRE-',\n",
       " 'SYNAGOGUE']"
      ]
     },
     "execution_count": 138,
     "metadata": {},
     "output_type": "execute_result"
    }
   ],
   "source": [
    "list(vocabulary_bbn)[:100]"
   ]
  },
  {
   "cell_type": "code",
   "execution_count": 139,
   "metadata": {
    "ExecuteTime": {
     "end_time": "2019-04-15T23:20:54.575996Z",
     "start_time": "2019-04-15T23:20:49.377922Z"
    }
   },
   "outputs": [],
   "source": [
    "%%capture\n",
    "#cell magic above suppresses useless output of file.write\n",
    "\n",
    "vocabulary_bbn_fn = 'fisher_vocabulary_bbn.txt'\n",
    "\n",
    "vocabulary_bbn_fp = os.path.join(repo_dir, vocabulary_bbn_fn)\n",
    "\n",
    "#5.02s on wittgenstein\n",
    "with open(vocabulary_bbn_fp, 'w') as file:\n",
    "    for w in vocabulary_bbn:\n",
    "        file.write(\"{0}\\n\".format(w));"
   ]
  },
  {
   "cell_type": "code",
   "execution_count": 140,
   "metadata": {
    "ExecuteTime": {
     "end_time": "2019-04-15T23:20:54.733913Z",
     "start_time": "2019-04-15T23:20:54.577240Z"
    }
   },
   "outputs": [
    {
     "name": "stdout",
     "output_type": "stream",
     "text": [
      "     1\t\r\n",
      "     2\tBODYBUILDING\r\n",
      "     3\tSHOPAHOLIC\r\n",
      "     4\tEMBODIED\r\n",
      "     5\tBUTTING\r\n",
      "     6\tPURCHASER\r\n",
      "     7\tECOMASS\r\n",
      "     8\tCHURNED\r\n",
      "     9\tDESK\r\n",
      "    10\tPIMPLE\r\n",
      "    11\tABSURDEST\r\n",
      "    12\tJUDE\r\n",
      "    13\tTRANSOM\r\n",
      "    14\tJOURNALS\r\n",
      "    15\tLOBES\r\n",
      "    16\tUNT-\r\n",
      "    17\tSCANDALOUS\r\n",
      "    18\tURBANA-CHAMPAIGN\r\n",
      "    19\tPHONING\r\n",
      "    20\tVICARIOUS\r\n",
      "cat: write error: Broken pipe\r\n"
     ]
    }
   ],
   "source": [
    "%cat -n /mnt/cube/home/AD/emeinhar/fisher-lm/fisher_vocabulary_bbn.txt | head -20"
   ]
  },
  {
   "cell_type": "markdown",
   "metadata": {},
   "source": [
    "### Naive utterance sequence"
   ]
  },
  {
   "cell_type": "code",
   "execution_count": 141,
   "metadata": {
    "ExecuteTime": {
     "end_time": "2019-04-15T23:20:54.739815Z",
     "start_time": "2019-04-15T23:20:54.736384Z"
    }
   },
   "outputs": [],
   "source": [
    "def get_utterances_from_call_bbn(call_id):\n",
    "    return [l['speech'] for l in get_transcriptions_bbn(call_id)]"
   ]
  },
  {
   "cell_type": "code",
   "execution_count": 142,
   "metadata": {
    "ExecuteTime": {
     "end_time": "2019-04-15T23:20:54.747742Z",
     "start_time": "2019-04-15T23:20:54.741762Z"
    }
   },
   "outputs": [
    {
     "data": {
      "text/plain": [
       "'05863'"
      ]
     },
     "execution_count": 142,
     "metadata": {},
     "output_type": "execute_result"
    }
   ],
   "source": [
    "call_ids_bbn[0]"
   ]
  },
  {
   "cell_type": "code",
   "execution_count": 143,
   "metadata": {
    "ExecuteTime": {
     "end_time": "2019-04-15T23:20:54.766257Z",
     "start_time": "2019-04-15T23:20:54.749313Z"
    }
   },
   "outputs": [
    {
     "data": {
      "text/plain": [
       "['HI',\n",
       " 'HI MY NAME IS ZELDA',\n",
       " 'HI MONIQUE',\n",
       " \"I'M FINE AND YOU\",\n",
       " 'GOOD',\n",
       " 'OKAY UM',\n",
       " 'I WOULD NOT DO IT',\n",
       " \"RIGHT I WOULDN'T UM DO YOU KID- ESP- UH TODAY I MEAN\",\n",
       " \"PEOPLE LOOK AT MONEY MONEY IS EVERYTHING IT'S LIKE THEY THINK THAT MONEY'S GOING TO RESOLVE ALL THEIR PROBLEMS AND A MILLION DOLLARS TODAY IS NOT A LOT OF MONEY AND I WOULD AND THAT'S A BETRAYAL TO ME\",\n",
       " 'RIGHT RIGHT']"
      ]
     },
     "execution_count": 143,
     "metadata": {},
     "output_type": "execute_result"
    }
   ],
   "source": [
    "get_utterances_from_call_bbn('05863')[:10]"
   ]
  },
  {
   "cell_type": "code",
   "execution_count": 144,
   "metadata": {
    "ExecuteTime": {
     "end_time": "2019-04-15T23:21:29.290620Z",
     "start_time": "2019-04-15T23:20:54.767449Z"
    }
   },
   "outputs": [
    {
     "data": {
      "text/plain": [
       "954017"
      ]
     },
     "execution_count": 144,
     "metadata": {},
     "output_type": "execute_result"
    }
   ],
   "source": [
    "#35.3s on wittgenstein\n",
    "utterances_bbn = []\n",
    "for c in call_ids_bbn:\n",
    "    utterances_bbn.extend( get_utterances_from_call_bbn(c) )\n",
    "len(utterances_bbn)"
   ]
  },
  {
   "cell_type": "code",
   "execution_count": 145,
   "metadata": {
    "ExecuteTime": {
     "end_time": "2019-04-15T23:21:29.295642Z",
     "start_time": "2019-04-15T23:21:29.292024Z"
    }
   },
   "outputs": [
    {
     "data": {
      "text/plain": [
       "'HI'"
      ]
     },
     "execution_count": 145,
     "metadata": {},
     "output_type": "execute_result"
    }
   ],
   "source": [
    "utterances_bbn[0]"
   ]
  },
  {
   "cell_type": "code",
   "execution_count": 146,
   "metadata": {
    "ExecuteTime": {
     "end_time": "2019-04-15T23:23:17.123991Z",
     "start_time": "2019-04-15T23:21:29.297292Z"
    }
   },
   "outputs": [],
   "source": [
    "%%capture\n",
    "#cell magic above suppresses useless output of file.write\n",
    "\n",
    "fisher_utterances_bbn_fn = 'fisher_utterances_bbn.txt'\n",
    "\n",
    "fisher_utterances_bbn_path = os.path.join(repo_dir, fisher_utterances_bbn_fn)\n",
    "\n",
    "#1m 46.3s on wittgenstein\n",
    "with open(fisher_utterances_bbn_path, 'w') as file:\n",
    "    for utterance in utterances_bbn:\n",
    "        file.write(\"{0}\\n\".format(utterance));"
   ]
  },
  {
   "cell_type": "code",
   "execution_count": 147,
   "metadata": {
    "ExecuteTime": {
     "end_time": "2019-04-15T23:23:17.283508Z",
     "start_time": "2019-04-15T23:23:17.125604Z"
    }
   },
   "outputs": [
    {
     "name": "stdout",
     "output_type": "stream",
     "text": [
      "     1\tHI\r\n",
      "     2\tHI MY NAME IS ZELDA\r\n",
      "     3\tHI MONIQUE\r\n",
      "     4\tI'M FINE AND YOU\r\n",
      "     5\tGOOD\r\n",
      "     6\tOKAY UM\r\n",
      "     7\tI WOULD NOT DO IT\r\n",
      "     8\tRIGHT I WOULDN'T UM DO YOU KID- ESP- UH TODAY I MEAN\r\n",
      "     9\tPEOPLE LOOK AT MONEY MONEY IS EVERYTHING IT'S LIKE THEY THINK THAT MONEY'S GOING TO RESOLVE ALL THEIR PROBLEMS AND A MILLION DOLLARS TODAY IS NOT A LOT OF MONEY AND I WOULD AND THAT'S A BETRAYAL TO ME\r\n",
      "    10\tRIGHT RIGHT\r\n",
      "    11\tNO\r\n",
      "    12\tI THINK HUMAN BEINGS ARE PR- UM FRIENDSHIP RELAT- RELATIONSHIPS WITH PEOPLE ARE A LOT MORE IMPORTANT THAN MONEY\r\n",
      "    13\tTHEN YOU WEREN'T REALLY THEIR BEST FRIEND EITHER\r\n",
      "    14\tRIGHT RIGHT\r\n",
      "    15\tNO\r\n",
      "    16\tMM\r\n",
      "    17\tI DON'T THINK ANY MONEY IS WORTH ANYONE'S LIFE UH A HUMAN A PERSON'S LIFE IS WORTH EVERYTHING\r\n",
      "    18\tAMEN IS RIGHT\r\n",
      "    19\tI MEAN I- THERE'S NOT REALLY MUCH THAT WE CAN DEBATE ON THIS BECAUSE WE REALLY AGREED ON IT YOU KNOW\r\n",
      "    20\tRIGHT\r\n",
      "cat: write error: Broken pipe\r\n"
     ]
    }
   ],
   "source": [
    "%cat -n /mnt/cube/home/AD/emeinhar/fisher-lm/fisher_utterances_bbn.txt | head -20"
   ]
  },
  {
   "cell_type": "markdown",
   "metadata": {},
   "source": [
    "### All transcriptions"
   ]
  },
  {
   "cell_type": "code",
   "execution_count": 148,
   "metadata": {
    "ExecuteTime": {
     "end_time": "2019-04-15T23:23:17.290886Z",
     "start_time": "2019-04-15T23:23:17.285674Z"
    }
   },
   "outputs": [
    {
     "data": {
      "text/plain": [
       "[{'call_id': '05863',\n",
       "  'trn_fn': 'fe_03_05863.trn',\n",
       "  'ana_fn': 'fe_03_05863.ana',\n",
       "  'auto-segmented_trn_location': '/mnt/truffle/corpora/fisher_english_transcripts/fe_03_p2_tran/data/bbn_orig/058/auto-segmented/fe_03_05863.trn',\n",
       "  'rejected_trn_location': '/mnt/truffle/corpora/fisher_english_transcripts/fe_03_p2_tran/data/bbn_orig/058/rejected/fe_03_05863.trn',\n",
       "  'auto-segmented_ana_location': '/mnt/truffle/corpora/fisher_english_transcripts/fe_03_p2_tran/data/bbn_orig/058/auto-segmented/fe_03_05863.ana',\n",
       "  'rejected_ana_location': '/mnt/truffle/corpora/fisher_english_transcripts/fe_03_p2_tran/data/bbn_orig/058/rejected/fe_03_05863.ana'},\n",
       " {'call_id': '05876',\n",
       "  'trn_fn': 'fe_03_05876.trn',\n",
       "  'ana_fn': 'fe_03_05876.ana',\n",
       "  'auto-segmented_trn_location': '/mnt/truffle/corpora/fisher_english_transcripts/fe_03_p2_tran/data/bbn_orig/058/auto-segmented/fe_03_05876.trn',\n",
       "  'rejected_trn_location': '/mnt/truffle/corpora/fisher_english_transcripts/fe_03_p2_tran/data/bbn_orig/058/rejected/fe_03_05876.trn',\n",
       "  'auto-segmented_ana_location': '/mnt/truffle/corpora/fisher_english_transcripts/fe_03_p2_tran/data/bbn_orig/058/auto-segmented/fe_03_05876.ana',\n",
       "  'rejected_ana_location': '/mnt/truffle/corpora/fisher_english_transcripts/fe_03_p2_tran/data/bbn_orig/058/rejected/fe_03_05876.ana'},\n",
       " {'call_id': '05887',\n",
       "  'trn_fn': 'fe_03_05887.trn',\n",
       "  'ana_fn': 'fe_03_05887.ana',\n",
       "  'auto-segmented_trn_location': '/mnt/truffle/corpora/fisher_english_transcripts/fe_03_p2_tran/data/bbn_orig/058/auto-segmented/fe_03_05887.trn',\n",
       "  'rejected_trn_location': '/mnt/truffle/corpora/fisher_english_transcripts/fe_03_p2_tran/data/bbn_orig/058/rejected/fe_03_05887.trn',\n",
       "  'auto-segmented_ana_location': '/mnt/truffle/corpora/fisher_english_transcripts/fe_03_p2_tran/data/bbn_orig/058/auto-segmented/fe_03_05887.ana',\n",
       "  'rejected_ana_location': '/mnt/truffle/corpora/fisher_english_transcripts/fe_03_p2_tran/data/bbn_orig/058/rejected/fe_03_05887.ana'}]"
      ]
     },
     "execution_count": 148,
     "metadata": {},
     "output_type": "execute_result"
    }
   ],
   "source": [
    "bbn_call_relation[:3]"
   ]
  },
  {
   "cell_type": "code",
   "execution_count": 149,
   "metadata": {
    "ExecuteTime": {
     "end_time": "2019-04-15T23:23:17.297651Z",
     "start_time": "2019-04-15T23:23:17.292856Z"
    }
   },
   "outputs": [
    {
     "data": {
      "text/plain": [
       "['05863', '05876', '05887']"
      ]
     },
     "execution_count": 149,
     "metadata": {},
     "output_type": "execute_result"
    }
   ],
   "source": [
    "call_ids_bbn[:3]"
   ]
  },
  {
   "cell_type": "code",
   "execution_count": 150,
   "metadata": {
    "ExecuteTime": {
     "end_time": "2019-04-15T23:23:17.317650Z",
     "start_time": "2019-04-15T23:23:17.299006Z"
    }
   },
   "outputs": [
    {
     "data": {
      "text/plain": [
       "[{'utterance_id': 'fe_03_05863-A-0001',\n",
       "  'speech_raw': 'HI [LAUGHTER]',\n",
       "  'speech': 'HI',\n",
       "  'channel': 1,\n",
       "  'start': 1360,\n",
       "  'type': 'NIST_1A',\n",
       "  'end': 12320,\n",
       "  'audio_fn': 'fe_03_05863.sph',\n",
       "  'duration': 10960},\n",
       " {'utterance_id': 'fe_03_05863-A-0002',\n",
       "  'speech_raw': 'HI MY NAME IS ZELDA',\n",
       "  'speech': 'HI MY NAME IS ZELDA',\n",
       "  'channel': 1,\n",
       "  'start': 32560,\n",
       "  'type': 'NIST_1A',\n",
       "  'end': 46640,\n",
       "  'audio_fn': 'fe_03_05863.sph',\n",
       "  'duration': 14080},\n",
       " {'utterance_id': 'fe_03_05863-A-0003',\n",
       "  'speech_raw': 'HI MONIQUE',\n",
       "  'speech': 'HI MONIQUE',\n",
       "  'channel': 1,\n",
       "  'start': 59760,\n",
       "  'type': 'NIST_1A',\n",
       "  'end': 69760,\n",
       "  'audio_fn': 'fe_03_05863.sph',\n",
       "  'duration': 10000}]"
      ]
     },
     "execution_count": 150,
     "metadata": {},
     "output_type": "execute_result"
    }
   ],
   "source": [
    "get_transcriptions_bbn('05863')[:3]"
   ]
  },
  {
   "cell_type": "code",
   "execution_count": 151,
   "metadata": {
    "ExecuteTime": {
     "end_time": "2019-04-15T23:23:17.321012Z",
     "start_time": "2019-04-15T23:23:17.318548Z"
    }
   },
   "outputs": [
    {
     "data": {
      "text/plain": [
       "{'call_id': '05863',\n",
       " 'trn_fn': 'fe_03_05863.trn',\n",
       " 'ana_fn': 'fe_03_05863.ana',\n",
       " 'auto-segmented_trn_location': '/mnt/truffle/corpora/fisher_english_transcripts/fe_03_p2_tran/data/bbn_orig/058/auto-segmented/fe_03_05863.trn',\n",
       " 'rejected_trn_location': '/mnt/truffle/corpora/fisher_english_transcripts/fe_03_p2_tran/data/bbn_orig/058/rejected/fe_03_05863.trn',\n",
       " 'auto-segmented_ana_location': '/mnt/truffle/corpora/fisher_english_transcripts/fe_03_p2_tran/data/bbn_orig/058/auto-segmented/fe_03_05863.ana',\n",
       " 'rejected_ana_location': '/mnt/truffle/corpora/fisher_english_transcripts/fe_03_p2_tran/data/bbn_orig/058/rejected/fe_03_05863.ana'}"
      ]
     },
     "execution_count": 151,
     "metadata": {},
     "output_type": "execute_result"
    }
   ],
   "source": [
    "bbn_call_relation[0]"
   ]
  },
  {
   "cell_type": "code",
   "execution_count": 152,
   "metadata": {
    "ExecuteTime": {
     "end_time": "2019-04-15T23:23:55.293135Z",
     "start_time": "2019-04-15T23:23:17.321945Z"
    }
   },
   "outputs": [],
   "source": [
    "#39.0s on wittgenstein\n",
    "\n",
    "bbn_transcription_relation = []\n",
    "\n",
    "for call_relation in bbn_call_relation:\n",
    "    for transcription_relation in get_transcriptions_bbn(call_relation['call_id']):\n",
    "        new_transcription_rel = dictionary_product(transcription_relation, call_relation)\n",
    "        bbn_transcription_relation.append(new_transcription_rel)"
   ]
  },
  {
   "cell_type": "code",
   "execution_count": 153,
   "metadata": {
    "ExecuteTime": {
     "end_time": "2019-04-15T23:23:55.297781Z",
     "start_time": "2019-04-15T23:23:55.294542Z"
    }
   },
   "outputs": [
    {
     "data": {
      "text/plain": [
       "954017"
      ]
     },
     "execution_count": 153,
     "metadata": {},
     "output_type": "execute_result"
    }
   ],
   "source": [
    "len(bbn_transcription_relation)"
   ]
  },
  {
   "cell_type": "code",
   "execution_count": 154,
   "metadata": {
    "ExecuteTime": {
     "end_time": "2019-04-15T23:23:55.310479Z",
     "start_time": "2019-04-15T23:23:55.298965Z"
    }
   },
   "outputs": [
    {
     "data": {
      "text/plain": [
       "[{'utterance_id': 'fe_03_05863-A-0001',\n",
       "  'channel': 1,\n",
       "  'end': 12320,\n",
       "  'start': 1360,\n",
       "  'type': 'NIST_1A',\n",
       "  'speech': 'HI',\n",
       "  'audio_fn': 'fe_03_05863.sph',\n",
       "  'duration': 10960,\n",
       "  'speech_raw': 'HI [LAUGHTER]',\n",
       "  'call_id': '05863',\n",
       "  'auto-segmented_ana_location': '/mnt/truffle/corpora/fisher_english_transcripts/fe_03_p2_tran/data/bbn_orig/058/auto-segmented/fe_03_05863.ana',\n",
       "  'trn_fn': 'fe_03_05863.trn',\n",
       "  'auto-segmented_trn_location': '/mnt/truffle/corpora/fisher_english_transcripts/fe_03_p2_tran/data/bbn_orig/058/auto-segmented/fe_03_05863.trn',\n",
       "  'ana_fn': 'fe_03_05863.ana',\n",
       "  'rejected_trn_location': '/mnt/truffle/corpora/fisher_english_transcripts/fe_03_p2_tran/data/bbn_orig/058/rejected/fe_03_05863.trn',\n",
       "  'rejected_ana_location': '/mnt/truffle/corpora/fisher_english_transcripts/fe_03_p2_tran/data/bbn_orig/058/rejected/fe_03_05863.ana'},\n",
       " {'utterance_id': 'fe_03_05863-A-0002',\n",
       "  'channel': 1,\n",
       "  'end': 46640,\n",
       "  'start': 32560,\n",
       "  'type': 'NIST_1A',\n",
       "  'speech': 'HI MY NAME IS ZELDA',\n",
       "  'audio_fn': 'fe_03_05863.sph',\n",
       "  'duration': 14080,\n",
       "  'speech_raw': 'HI MY NAME IS ZELDA',\n",
       "  'call_id': '05863',\n",
       "  'auto-segmented_ana_location': '/mnt/truffle/corpora/fisher_english_transcripts/fe_03_p2_tran/data/bbn_orig/058/auto-segmented/fe_03_05863.ana',\n",
       "  'trn_fn': 'fe_03_05863.trn',\n",
       "  'auto-segmented_trn_location': '/mnt/truffle/corpora/fisher_english_transcripts/fe_03_p2_tran/data/bbn_orig/058/auto-segmented/fe_03_05863.trn',\n",
       "  'ana_fn': 'fe_03_05863.ana',\n",
       "  'rejected_trn_location': '/mnt/truffle/corpora/fisher_english_transcripts/fe_03_p2_tran/data/bbn_orig/058/rejected/fe_03_05863.trn',\n",
       "  'rejected_ana_location': '/mnt/truffle/corpora/fisher_english_transcripts/fe_03_p2_tran/data/bbn_orig/058/rejected/fe_03_05863.ana'},\n",
       " {'utterance_id': 'fe_03_05863-A-0003',\n",
       "  'channel': 1,\n",
       "  'end': 69760,\n",
       "  'start': 59760,\n",
       "  'type': 'NIST_1A',\n",
       "  'speech': 'HI MONIQUE',\n",
       "  'audio_fn': 'fe_03_05863.sph',\n",
       "  'duration': 10000,\n",
       "  'speech_raw': 'HI MONIQUE',\n",
       "  'call_id': '05863',\n",
       "  'auto-segmented_ana_location': '/mnt/truffle/corpora/fisher_english_transcripts/fe_03_p2_tran/data/bbn_orig/058/auto-segmented/fe_03_05863.ana',\n",
       "  'trn_fn': 'fe_03_05863.trn',\n",
       "  'auto-segmented_trn_location': '/mnt/truffle/corpora/fisher_english_transcripts/fe_03_p2_tran/data/bbn_orig/058/auto-segmented/fe_03_05863.trn',\n",
       "  'ana_fn': 'fe_03_05863.ana',\n",
       "  'rejected_trn_location': '/mnt/truffle/corpora/fisher_english_transcripts/fe_03_p2_tran/data/bbn_orig/058/rejected/fe_03_05863.trn',\n",
       "  'rejected_ana_location': '/mnt/truffle/corpora/fisher_english_transcripts/fe_03_p2_tran/data/bbn_orig/058/rejected/fe_03_05863.ana'},\n",
       " {'utterance_id': 'fe_03_05863-A-0004',\n",
       "  'channel': 1,\n",
       "  'end': 88320,\n",
       "  'start': 77280,\n",
       "  'type': 'NIST_1A',\n",
       "  'speech': \"I'M FINE AND YOU\",\n",
       "  'audio_fn': 'fe_03_05863.sph',\n",
       "  'duration': 11040,\n",
       "  'speech_raw': \"I'M FINE AND YOU\",\n",
       "  'call_id': '05863',\n",
       "  'auto-segmented_ana_location': '/mnt/truffle/corpora/fisher_english_transcripts/fe_03_p2_tran/data/bbn_orig/058/auto-segmented/fe_03_05863.ana',\n",
       "  'trn_fn': 'fe_03_05863.trn',\n",
       "  'auto-segmented_trn_location': '/mnt/truffle/corpora/fisher_english_transcripts/fe_03_p2_tran/data/bbn_orig/058/auto-segmented/fe_03_05863.trn',\n",
       "  'ana_fn': 'fe_03_05863.ana',\n",
       "  'rejected_trn_location': '/mnt/truffle/corpora/fisher_english_transcripts/fe_03_p2_tran/data/bbn_orig/058/rejected/fe_03_05863.trn',\n",
       "  'rejected_ana_location': '/mnt/truffle/corpora/fisher_english_transcripts/fe_03_p2_tran/data/bbn_orig/058/rejected/fe_03_05863.ana'},\n",
       " {'utterance_id': 'fe_03_05863-A-0005',\n",
       "  'channel': 1,\n",
       "  'end': 104400,\n",
       "  'start': 96800,\n",
       "  'type': 'NIST_1A',\n",
       "  'speech': 'GOOD',\n",
       "  'audio_fn': 'fe_03_05863.sph',\n",
       "  'duration': 7600,\n",
       "  'speech_raw': 'GOOD',\n",
       "  'call_id': '05863',\n",
       "  'auto-segmented_ana_location': '/mnt/truffle/corpora/fisher_english_transcripts/fe_03_p2_tran/data/bbn_orig/058/auto-segmented/fe_03_05863.ana',\n",
       "  'trn_fn': 'fe_03_05863.trn',\n",
       "  'auto-segmented_trn_location': '/mnt/truffle/corpora/fisher_english_transcripts/fe_03_p2_tran/data/bbn_orig/058/auto-segmented/fe_03_05863.trn',\n",
       "  'ana_fn': 'fe_03_05863.ana',\n",
       "  'rejected_trn_location': '/mnt/truffle/corpora/fisher_english_transcripts/fe_03_p2_tran/data/bbn_orig/058/rejected/fe_03_05863.trn',\n",
       "  'rejected_ana_location': '/mnt/truffle/corpora/fisher_english_transcripts/fe_03_p2_tran/data/bbn_orig/058/rejected/fe_03_05863.ana'}]"
      ]
     },
     "execution_count": 154,
     "metadata": {},
     "output_type": "execute_result"
    }
   ],
   "source": [
    "bbn_transcription_relation[:5]"
   ]
  },
  {
   "cell_type": "code",
   "execution_count": 155,
   "metadata": {
    "ExecuteTime": {
     "end_time": "2019-04-15T23:23:55.315198Z",
     "start_time": "2019-04-15T23:23:55.312229Z"
    }
   },
   "outputs": [],
   "source": [
    "# import json"
   ]
  },
  {
   "cell_type": "code",
   "execution_count": 156,
   "metadata": {
    "ExecuteTime": {
     "end_time": "2019-04-15T23:24:27.569299Z",
     "start_time": "2019-04-15T23:23:55.317201Z"
    }
   },
   "outputs": [],
   "source": [
    "fisher_utterances_relation_bbn_fn = 'fisher_utterances_relation_bbn.json'\n",
    "\n",
    "fisher_utterances_relation_bbn_path = os.path.join(repo_dir, fisher_utterances_relation_bbn_fn)\n",
    "\n",
    "#32.5s on wittgenstein\n",
    "with open(fisher_utterances_relation_bbn_path, 'w', encoding='utf8') as json_file:\n",
    "    json.dump(bbn_transcription_relation, json_file, indent=1, ensure_ascii=False)"
   ]
  },
  {
   "cell_type": "code",
   "execution_count": 157,
   "metadata": {
    "ExecuteTime": {
     "end_time": "2019-04-15T23:24:27.763535Z",
     "start_time": "2019-04-15T23:24:27.571477Z"
    }
   },
   "outputs": [
    {
     "name": "stdout",
     "output_type": "stream",
     "text": [
      "     1\t[\r\n",
      "     2\t {\r\n",
      "     3\t  \"utterance_id\": \"fe_03_05863-A-0001\",\r\n",
      "     4\t  \"channel\": 1,\r\n",
      "     5\t  \"end\": 12320,\r\n",
      "     6\t  \"start\": 1360,\r\n",
      "     7\t  \"type\": \"NIST_1A\",\r\n",
      "     8\t  \"speech\": \"HI\",\r\n",
      "     9\t  \"audio_fn\": \"fe_03_05863.sph\",\r\n",
      "    10\t  \"duration\": 10960,\r\n",
      "    11\t  \"speech_raw\": \"HI [LAUGHTER]\",\r\n",
      "    12\t  \"call_id\": \"05863\",\r\n",
      "    13\t  \"auto-segmented_ana_location\": \"/mnt/truffle/corpora/fisher_english_transcripts/fe_03_p2_tran/data/bbn_orig/058/auto-segmented/fe_03_05863.ana\",\r\n",
      "    14\t  \"trn_fn\": \"fe_03_05863.trn\",\r\n",
      "    15\t  \"auto-segmented_trn_location\": \"/mnt/truffle/corpora/fisher_english_transcripts/fe_03_p2_tran/data/bbn_orig/058/auto-segmented/fe_03_05863.trn\",\r\n",
      "    16\t  \"ana_fn\": \"fe_03_05863.ana\",\r\n",
      "    17\t  \"rejected_trn_location\": \"/mnt/truffle/corpora/fisher_english_transcripts/fe_03_p2_tran/data/bbn_orig/058/rejected/fe_03_05863.trn\",\r\n",
      "    18\t  \"rejected_ana_location\": \"/mnt/truffle/corpora/fisher_english_transcripts/fe_03_p2_tran/data/bbn_orig/058/rejected/fe_03_05863.ana\"\r\n",
      "    19\t },\r\n",
      "    20\t {\r\n",
      "cat: write error: Broken pipe\r\n"
     ]
    }
   ],
   "source": [
    "%cat -n /mnt/cube/home/AD/emeinhar/fisher-lm/fisher_utterances_relation_bbn.json | head -20"
   ]
  },
  {
   "cell_type": "code",
   "execution_count": 158,
   "metadata": {
    "ExecuteTime": {
     "end_time": "2019-04-15T23:24:27.770065Z",
     "start_time": "2019-04-15T23:24:27.765867Z"
    }
   },
   "outputs": [
    {
     "data": {
      "text/plain": [
       "'/mnt/truffle/corpora/fisher_english_transcripts/fe_03_p2_tran/data/bbn_orig/058'"
      ]
     },
     "execution_count": 158,
     "metadata": {},
     "output_type": "execute_result"
    }
   ],
   "source": [
    "os.getcwd()"
   ]
  },
  {
   "cell_type": "markdown",
   "metadata": {},
   "source": [
    "# Using `kenlm`"
   ]
  },
  {
   "cell_type": "code",
   "execution_count": 159,
   "metadata": {
    "ExecuteTime": {
     "end_time": "2019-04-15T23:24:27.834163Z",
     "start_time": "2019-04-15T23:24:27.771782Z"
    }
   },
   "outputs": [
    {
     "data": {
      "text/plain": [
       "'/mnt/cube/home/AD/emeinhar/fisher-lm'"
      ]
     },
     "execution_count": 159,
     "metadata": {},
     "output_type": "execute_result"
    }
   ],
   "source": [
    "os.chdir(repo_dir)\n",
    "os.getcwd()"
   ]
  },
  {
   "cell_type": "code",
   "execution_count": 160,
   "metadata": {
    "ExecuteTime": {
     "end_time": "2019-04-15T23:24:28.051318Z",
     "start_time": "2019-04-15T23:24:27.835592Z"
    }
   },
   "outputs": [
    {
     "name": "stdout",
     "output_type": "stream",
     "text": [
      "'Creating an n-gram model from the Fisher Corpus.ipynb'\r\n",
      " fisher_utterances_bbn.txt\r\n",
      " fisher_utterances_main.txt\r\n",
      " fisher_utterances_relation_bbn.json\r\n",
      " fisher_utterances_relation_main.json\r\n",
      " fisher_vocabulary_bbn.txt\r\n",
      " fisher_vocabulary_main.txt\r\n"
     ]
    }
   ],
   "source": [
    "%ls"
   ]
  },
  {
   "cell_type": "markdown",
   "metadata": {},
   "source": [
    "## Check for format complaints"
   ]
  },
  {
   "cell_type": "markdown",
   "metadata": {},
   "source": [
    "Below is a dummy run, where we create a unigram model from \n",
    " - fisher_utterances_main.txt\n",
    " - fisher_utterances_bbn.txt\n",
    "to see if kenlm complains about the format of the files."
   ]
  },
  {
   "cell_type": "code",
   "execution_count": 161,
   "metadata": {
    "ExecuteTime": {
     "end_time": "2019-04-15T23:24:37.200291Z",
     "start_time": "2019-04-15T23:24:28.053812Z"
    }
   },
   "outputs": [
    {
     "name": "stdout",
     "output_type": "stream",
     "text": [
      "=== 1/5 Counting and sorting n-grams ===\n",
      "Reading /mnt/cube/home/AD/emeinhar/fisher-lm/fisher_utterances_main.txt\n",
      "----5---10---15---20---25---30---35---40---45---50---55---60---65---70---75---80---85---90---95--100\n",
      "****************************************************************************************************\n",
      "Unigram tokens 11032648 types 48799\n",
      "=== 2/5 Calculating and sorting adjusted counts ===\n",
      "Chain sizes: 1:585588\n",
      "Statistics:\n",
      "1 48799 D1=0.580525 D2=0.987631 D3+=1.43469\n",
      "Memory estimate for binary LM:\n",
      "type      kB\n",
      "probing 2096 assuming -p 1.5\n",
      "probing 2287 assuming -r models -p 1.5\n",
      "trie    1423 without quantization\n",
      "trie    1285 assuming -q 8 -b 8 quantization \n",
      "trie    1423 assuming -a 22 array pointer compression\n",
      "trie    1285 assuming -a 22 -q 8 -b 8 array pointer compression and quantization\n",
      "=== 3/5 Calculating and sorting initial probabilities ===\n",
      "Chain sizes: 1:585588\n",
      "=== 4/5 Calculating and writing order-interpolated probabilities ===\n",
      "Chain sizes: 1:585588\n",
      "=== 5/5 Writing ARPA model ===\n",
      "----5---10---15---20---25---30---35---40---45---50---55---60---65---70---75---80---85---90---95--100\n",
      "****************************************************************************************************\n",
      "Name:lmplz\tVmPeak:105752384 kB\tVmRSS:7684 kB\tRSSMax:35211644 kB\tuser:2.1269\tsys:6.79971\tCPU:8.92665\treal:8.96422\n"
     ]
    }
   ],
   "source": [
    "!/home/AD/emeinhar/GitHub/kenlm/build/bin/lmplz -o 1 --text fisher_utterances_main.txt --arpa fisher_utterances_main_1gram.arpa"
   ]
  },
  {
   "cell_type": "code",
   "execution_count": 162,
   "metadata": {
    "ExecuteTime": {
     "end_time": "2019-04-15T23:24:46.489353Z",
     "start_time": "2019-04-15T23:24:37.201636Z"
    }
   },
   "outputs": [
    {
     "name": "stdout",
     "output_type": "stream",
     "text": [
      "=== 1/5 Counting and sorting n-grams ===\n",
      "Reading /mnt/cube/home/AD/emeinhar/fisher-lm/fisher_utterances_bbn.txt\n",
      "----5---10---15---20---25---30---35---40---45---50---55---60---65---70---75---80---85---90---95--100\n",
      "****************************************************************************************************\n",
      "Unigram tokens 9641143 types 46162\n",
      "=== 2/5 Calculating and sorting adjusted counts ===\n",
      "Chain sizes: 1:553944\n",
      "Statistics:\n",
      "1 46162 D1=0.574371 D2=0.999083 D3+=1.40785\n",
      "Memory estimate for binary LM:\n",
      "type      kB\n",
      "probing 1983 assuming -p 1.5\n",
      "probing 2163 assuming -r models -p 1.5\n",
      "trie    1346 without quantization\n",
      "trie    1216 assuming -q 8 -b 8 quantization \n",
      "trie    1346 assuming -a 22 array pointer compression\n",
      "trie    1216 assuming -a 22 -q 8 -b 8 array pointer compression and quantization\n",
      "=== 3/5 Calculating and sorting initial probabilities ===\n",
      "Chain sizes: 1:553944\n",
      "=== 4/5 Calculating and writing order-interpolated probabilities ===\n",
      "Chain sizes: 1:553944\n",
      "=== 5/5 Writing ARPA model ===\n",
      "----5---10---15---20---25---30---35---40---45---50---55---60---65---70---75---80---85---90---95--100\n",
      "****************************************************************************************************\n",
      "Name:lmplz\tVmPeak:105760580 kB\tVmRSS:7844 kB\tRSSMax:35211656 kB\tuser:2.14595\tsys:6.91252\tCPU:9.0585\treal:9.08666\n"
     ]
    }
   ],
   "source": [
    "!/home/AD/emeinhar/GitHub/kenlm/build/bin/lmplz -o 1 --text fisher_utterances_bbn.txt --arpa fisher_utterances_bbn_1gram.arpa"
   ]
  },
  {
   "cell_type": "markdown",
   "metadata": {},
   "source": [
    "## Timing tests"
   ]
  },
  {
   "cell_type": "markdown",
   "metadata": {},
   "source": [
    "Estimating a unigram model takes about 9s. Let's see how long progressively larger models take to estimate."
   ]
  },
  {
   "cell_type": "code",
   "execution_count": 163,
   "metadata": {
    "ExecuteTime": {
     "end_time": "2019-04-15T23:24:55.999560Z",
     "start_time": "2019-04-15T23:24:46.491552Z"
    }
   },
   "outputs": [
    {
     "name": "stdout",
     "output_type": "stream",
     "text": [
      "=== 1/5 Counting and sorting n-grams ===\n",
      "Reading /mnt/cube/home/AD/emeinhar/fisher-lm/fisher_utterances_main.txt\n",
      "----5---10---15---20---25---30---35---40---45---50---55---60---65---70---75---80---85---90---95--100\n",
      "****************************************************************************************************\n",
      "Unigram tokens 11032648 types 48799\n",
      "=== 2/5 Calculating and sorting adjusted counts ===\n",
      "Chain sizes: 1:585588 2:108102098944\n",
      "Statistics:\n",
      "1 48799 D1=0.587025 D2=0.971389 D3+=1.46086\n",
      "2 984993 D1=0.692134 D2=1.06902 D3+=1.38789\n",
      "Memory estimate for binary LM:\n",
      "type       kB\n",
      "probing 18553 assuming -p 1.5\n",
      "probing 18743 assuming -r models -p 1.5\n",
      "trie     6794 without quantization\n",
      "trie     4030 assuming -q 8 -b 8 quantization \n",
      "trie     6794 assuming -a 22 array pointer compression\n",
      "trie     4030 assuming -a 22 -q 8 -b 8 array pointer compression and quantization\n",
      "=== 3/5 Calculating and sorting initial probabilities ===\n",
      "Chain sizes: 1:585588 2:15759888\n",
      "----5---10---15---20---25---30---35---40---45---50---55---60---65---70---75---80---85---90---95--100\n",
      "####################################################################################################\n",
      "=== 4/5 Calculating and writing order-interpolated probabilities ===\n",
      "Chain sizes: 1:585588 2:15759888\n",
      "----5---10---15---20---25---30---35---40---45---50---55---60---65---70---75---80---85---90---95--100\n",
      "####################################################################################################\n",
      "=== 5/5 Writing ARPA model ===\n",
      "----5---10---15---20---25---30---35---40---45---50---55---60---65---70---75---80---85---90---95--100\n",
      "****************************************************************************************************\n",
      "Name:lmplz\tVmPeak:105760576 kB\tVmRSS:23236 kB\tRSSMax:28830328 kB\tuser:3.601\tsys:5.53724\tCPU:9.13828\treal:9.32356\n"
     ]
    }
   ],
   "source": [
    "!/home/AD/emeinhar/GitHub/kenlm/build/bin/lmplz -o 2 --text fisher_utterances_main.txt --arpa fisher_utterances_main_2gram.arpa"
   ]
  },
  {
   "cell_type": "code",
   "execution_count": 164,
   "metadata": {
    "ExecuteTime": {
     "end_time": "2019-04-15T23:25:09.001300Z",
     "start_time": "2019-04-15T23:24:56.002044Z"
    }
   },
   "outputs": [
    {
     "name": "stdout",
     "output_type": "stream",
     "text": [
      "=== 1/5 Counting and sorting n-grams ===\n",
      "Reading /mnt/cube/home/AD/emeinhar/fisher-lm/fisher_utterances_main.txt\n",
      "----5---10---15---20---25---30---35---40---45---50---55---60---65---70---75---80---85---90---95--100\n",
      "****************************************************************************************************\n",
      "Unigram tokens 11032648 types 48799\n",
      "=== 2/5 Calculating and sorting adjusted counts ===\n",
      "Chain sizes: 1:585588 2:37600731136 3:70501367808\n",
      "Statistics:\n",
      "1 48799 D1=0.587025 D2=0.971389 D3+=1.46086\n",
      "2 984993 D1=0.704158 D2=1.08091 D3+=1.40055\n",
      "3 3730613 D1=0.78634 D2=1.09668 D3+=1.32213\n",
      "Memory estimate for binary LM:\n",
      "type    MB\n",
      "probing 87 assuming -p 1.5\n",
      "probing 93 assuming -r models -p 1.5\n",
      "trie    33 without quantization\n",
      "trie    18 assuming -q 8 -b 8 quantization \n",
      "trie    32 assuming -a 22 array pointer compression\n",
      "trie    16 assuming -a 22 -q 8 -b 8 array pointer compression and quantization\n",
      "=== 3/5 Calculating and sorting initial probabilities ===\n",
      "Chain sizes: 1:585588 2:15759888 3:74612260\n",
      "----5---10---15---20---25---30---35---40---45---50---55---60---65---70---75---80---85---90---95--100\n",
      "####################################################################################################\n",
      "=== 4/5 Calculating and writing order-interpolated probabilities ===\n",
      "Chain sizes: 1:585588 2:15759888 3:74612260\n",
      "----5---10---15---20---25---30---35---40---45---50---55---60---65---70---75---80---85---90---95--100\n",
      "####################################################################################################\n",
      "=== 5/5 Writing ARPA model ===\n",
      "----5---10---15---20---25---30---35---40---45---50---55---60---65---70---75---80---85---90---95--100\n",
      "****************************************************************************************************\n",
      "Name:lmplz\tVmPeak:105760580 kB\tVmRSS:23248 kB\tRSSMax:24458996 kB\tuser:6.60477\tsys:5.38402\tCPU:11.9888\treal:12.8118\n"
     ]
    }
   ],
   "source": [
    "!/home/AD/emeinhar/GitHub/kenlm/build/bin/lmplz -o 3 --text fisher_utterances_main.txt --arpa fisher_utterances_main_3gram.arpa"
   ]
  },
  {
   "cell_type": "code",
   "execution_count": 165,
   "metadata": {
    "ExecuteTime": {
     "end_time": "2019-04-15T23:25:26.349256Z",
     "start_time": "2019-04-15T23:25:09.003602Z"
    }
   },
   "outputs": [
    {
     "name": "stdout",
     "output_type": "stream",
     "text": [
      "=== 1/5 Counting and sorting n-grams ===\n",
      "Reading /mnt/cube/home/AD/emeinhar/fisher-lm/fisher_utterances_main.txt\n",
      "----5---10---15---20---25---30---35---40---45---50---55---60---65---70---75---80---85---90---95--100\n",
      "****************************************************************************************************\n",
      "Unigram tokens 11032648 types 48799\n",
      "=== 2/5 Calculating and sorting adjusted counts ===\n",
      "Chain sizes: 1:585588 2:18400356352 3:34500669440 4:55201071104\n",
      "Statistics:\n",
      "1 48799 D1=0.587025 D2=0.971389 D3+=1.46086\n",
      "2 984993 D1=0.704158 D2=1.08091 D3+=1.40055\n",
      "3 3730613 D1=0.799743 D2=1.11614 D3+=1.36756\n",
      "4 6586987 D1=0.869439 D2=1.16026 D3+=1.31928\n",
      "Memory estimate for binary LM:\n",
      "type     MB\n",
      "probing 222 assuming -p 1.5\n",
      "probing 249 assuming -r models -p 1.5\n",
      "trie     95 without quantization\n",
      "trie     50 assuming -q 8 -b 8 quantization \n",
      "trie     86 assuming -a 22 array pointer compression\n",
      "trie     42 assuming -a 22 -q 8 -b 8 array pointer compression and quantization\n",
      "=== 3/5 Calculating and sorting initial probabilities ===\n",
      "Chain sizes: 1:585588 2:15759888 3:74612260 4:158087688\n",
      "----5---10---15---20---25---30---35---40---45---50---55---60---65---70---75---80---85---90---95--100\n",
      "####################################################################################################\n",
      "=== 4/5 Calculating and writing order-interpolated probabilities ===\n",
      "Chain sizes: 1:585588 2:15759888 3:74612260 4:158087688\n",
      "----5---10---15---20---25---30---35---40---45---50---55---60---65---70---75---80---85---90---95--100\n",
      "####################################################################################################\n",
      "=== 5/5 Writing ARPA model ===\n",
      "----5---10---15---20---25---30---35---40---45---50---55---60---65---70---75---80---85---90---95--100\n",
      "****************************************************************************************************\n",
      "Name:lmplz\tVmPeak:105760572 kB\tVmRSS:23672 kB\tRSSMax:21295956 kB\tuser:10.3852\tsys:5.14235\tCPU:15.5276\treal:17.1634\n"
     ]
    }
   ],
   "source": [
    "!/home/AD/emeinhar/GitHub/kenlm/build/bin/lmplz -o 4 --text fisher_utterances_main.txt --arpa fisher_utterances_main_4gram.arpa"
   ]
  },
  {
   "cell_type": "code",
   "execution_count": 166,
   "metadata": {
    "ExecuteTime": {
     "end_time": "2019-04-15T23:25:49.729640Z",
     "start_time": "2019-04-15T23:25:26.351626Z"
    }
   },
   "outputs": [
    {
     "name": "stdout",
     "output_type": "stream",
     "text": [
      "=== 1/5 Counting and sorting n-grams ===\n",
      "Reading /mnt/cube/home/AD/emeinhar/fisher-lm/fisher_utterances_main.txt\n",
      "----5---10---15---20---25---30---35---40---45---50---55---60---65---70---75---80---85---90---95--100\n",
      "****************************************************************************************************\n",
      "Unigram tokens 11032648 types 48799\n",
      "=== 2/5 Calculating and sorting adjusted counts ===\n",
      "Chain sizes: 1:585588 2:10546545664 3:19774775296 4:31639638016 5:46141140992\n",
      "Statistics:\n",
      "1 48799 D1=0.587025 D2=0.971389 D3+=1.46086\n",
      "2 984993 D1=0.704158 D2=1.08091 D3+=1.40055\n",
      "3 3730613 D1=0.799743 D2=1.11614 D3+=1.36756\n",
      "4 6586987 D1=0.882026 D2=1.19504 D3+=1.37969\n",
      "5 7911211 D1=0.93335 D2=1.25853 D3+=1.36473\n",
      "Memory estimate for binary LM:\n",
      "type     MB\n",
      "probing 395 assuming -p 1.5\n",
      "probing 460 assuming -r models -p 1.5\n",
      "trie    182 without quantization\n",
      "trie     97 assuming -q 8 -b 8 quantization \n",
      "trie    162 assuming -a 22 array pointer compression\n",
      "trie     77 assuming -a 22 -q 8 -b 8 array pointer compression and quantization\n",
      "=== 3/5 Calculating and sorting initial probabilities ===\n",
      "Chain sizes: 1:585588 2:15759888 3:74612260 4:158087688 5:221513908\n",
      "----5---10---15---20---25---30---35---40---45---50---55---60---65---70---75---80---85---90---95--100\n",
      "####################################################################################################\n",
      "=== 4/5 Calculating and writing order-interpolated probabilities ===\n",
      "Chain sizes: 1:585588 2:15759888 3:74612260 4:158087688 5:221513908\n",
      "----5---10---15---20---25---30---35---40---45---50---55---60---65---70---75---80---85---90---95--100\n",
      "####################################################################################################\n",
      "=== 5/5 Writing ARPA model ===\n",
      "----5---10---15---20---25---30---35---40---45---50---55---60---65---70---75---80---85---90---95--100\n",
      "****************************************************************************************************\n",
      "Name:lmplz\tVmPeak:105767788 kB\tVmRSS:23372 kB\tRSSMax:18883412 kB\tuser:14.6092\tsys:6.31859\tCPU:20.9278\treal:23.192\n"
     ]
    }
   ],
   "source": [
    "!/home/AD/emeinhar/GitHub/kenlm/build/bin/lmplz -o 5 --text fisher_utterances_main.txt --arpa fisher_utterances_main_5gram.arpa"
   ]
  },
  {
   "cell_type": "markdown",
   "metadata": {},
   "source": [
    "## Query an n-gram model"
   ]
  },
  {
   "cell_type": "code",
   "execution_count": 167,
   "metadata": {
    "ExecuteTime": {
     "end_time": "2019-04-15T23:25:50.012170Z",
     "start_time": "2019-04-15T23:25:49.732140Z"
    }
   },
   "outputs": [
    {
     "name": "stdout",
     "output_type": "stream",
     "text": [
      "fisher_utterances_bbn_1gram.arpa   fisher_utterances_main_3gram.arpa\r\n",
      "fisher_utterances_main_1gram.arpa  fisher_utterances_main_4gram.arpa\r\n",
      "fisher_utterances_main_2gram.arpa  fisher_utterances_main_5gram.arpa\r\n"
     ]
    }
   ],
   "source": [
    "%ls *gram.arpa"
   ]
  },
  {
   "cell_type": "code",
   "execution_count": 168,
   "metadata": {
    "ExecuteTime": {
     "end_time": "2019-04-15T23:25:57.432187Z",
     "start_time": "2019-04-15T23:25:50.014782Z"
    }
   },
   "outputs": [
    {
     "name": "stdout",
     "output_type": "stream",
     "text": [
      "Loading the LM will be faster if you build a binary file.\n",
      "Reading fisher_utterances_main_5gram.arpa\n",
      "----5---10---15---20---25---30---35---40---45---50---55---60---65---70---75---80---85---90---95--100\n",
      "****************************************************************************************************\n",
      "how's=3373 2 -3.8049774\tit=82 3 -0.2931349\tgoing=158 4 -0.057476994\t</s>=2 5 -0.16472308\tTotal: -4.320312 OOV: 0\n",
      "Perplexity including OOVs:\t12.024803987034101\n",
      "Perplexity excluding OOVs:\t12.024803987034101\n",
      "OOVs:\t0\n",
      "Tokens:\t4\n",
      "Name:query\tVmPeak:435736 kB\tVmRSS:5036 kB\tRSSMax:410484 kB\tuser:7.15533\tsys:0.071953\tCPU:7.22731\treal:7.22986\n"
     ]
    }
   ],
   "source": [
    "!echo \"how's it going\" | /home/AD/emeinhar/GitHub/kenlm/build/bin/query fisher_utterances_main_5gram.arpa"
   ]
  },
  {
   "cell_type": "code",
   "execution_count": 169,
   "metadata": {
    "ExecuteTime": {
     "end_time": "2019-04-15T23:26:08.899917Z",
     "start_time": "2019-04-15T23:25:57.434596Z"
    }
   },
   "outputs": [
    {
     "name": "stdout",
     "output_type": "stream",
     "text": [
      "Reading fisher_utterances_main_5gram.arpa\n",
      "----5---10---15---20---25---30---35---40---45---50---55---60---65---70---75---80---85---90---95--100\n",
      "****************************************************************************************************\n",
      "SUCCESS\n"
     ]
    }
   ],
   "source": [
    "!/home/AD/emeinhar/GitHub/kenlm/build/bin/build_binary fisher_utterances_main_5gram.arpa fisher_utterances_main_5gram.mmap"
   ]
  },
  {
   "cell_type": "code",
   "execution_count": 170,
   "metadata": {
    "ExecuteTime": {
     "end_time": "2019-04-15T23:26:09.109744Z",
     "start_time": "2019-04-15T23:26:08.901300Z"
    }
   },
   "outputs": [
    {
     "name": "stdout",
     "output_type": "stream",
     "text": [
      "This binary file contains probing hash tables.\r\n",
      "how's=3373 2 -3.8049774\tit=82 3 -0.2931349\tgoing=158 4 -0.057476994\t</s>=2 5 -0.16472308\tTotal: -4.320312 OOV: 0\r\n",
      "Perplexity including OOVs:\t12.024803987034101\r\n",
      "Perplexity excluding OOVs:\t12.024803987034101\r\n",
      "OOVs:\t0\r\n",
      "Tokens:\t4\r\n",
      "Name:query\tVmPeak:433692 kB\tVmRSS:4840 kB\tRSSMax:410048 kB\tuser:0.003771\tsys:0.026403\tCPU:0.0302105\treal:0.0284499\r\n"
     ]
    }
   ],
   "source": [
    "!echo \"how's it going\" | /home/AD/emeinhar/GitHub/kenlm/build/bin/query fisher_utterances_main_5gram.mmap"
   ]
  }
 ],
 "metadata": {
  "kernelspec": {
   "display_name": "Python 3",
   "language": "python",
   "name": "python3"
  },
  "language_info": {
   "codemirror_mode": {
    "name": "ipython",
    "version": 3
   },
   "file_extension": ".py",
   "mimetype": "text/x-python",
   "name": "python",
   "nbconvert_exporter": "python",
   "pygments_lexer": "ipython3",
   "version": "3.6.8"
  },
  "toc": {
   "base_numbering": 1,
   "nav_menu": {},
   "number_sections": true,
   "sideBar": true,
   "skip_h1_title": false,
   "title_cell": "Table of Contents",
   "title_sidebar": "Contents",
   "toc_cell": false,
   "toc_position": {},
   "toc_section_display": true,
   "toc_window_display": false
  }
 },
 "nbformat": 4,
 "nbformat_minor": 2
}
