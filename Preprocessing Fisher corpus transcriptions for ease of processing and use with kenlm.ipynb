{
 "cells": [
  {
   "cell_type": "markdown",
   "metadata": {},
   "source": [
    "**Eric Meinhardt / emeinhardt@ucsd.edu**"
   ]
  },
  {
   "cell_type": "code",
   "execution_count": 1,
   "metadata": {
    "ExecuteTime": {
     "end_time": "2019-09-05T05:21:25.961274Z",
     "start_time": "2019-09-05T05:21:25.958091Z"
    }
   },
   "outputs": [],
   "source": [
    "#Prints **all** console output, not just last item in cell \n",
    "from IPython.core.interactiveshell import InteractiveShell\n",
    "InteractiveShell.ast_node_interactivity = \"all\""
   ]
  },
  {
   "cell_type": "code",
   "execution_count": 2,
   "metadata": {
    "ExecuteTime": {
     "end_time": "2019-09-05T05:21:26.136230Z",
     "start_time": "2019-09-05T05:21:25.965095Z"
    }
   },
   "outputs": [],
   "source": [
    "import os"
   ]
  },
  {
   "cell_type": "code",
   "execution_count": 3,
   "metadata": {
    "ExecuteTime": {
     "end_time": "2019-09-05T05:21:26.141952Z",
     "start_time": "2019-09-05T05:21:26.138161Z"
    }
   },
   "outputs": [],
   "source": [
    "from functools import reduce"
   ]
  },
  {
   "cell_type": "code",
   "execution_count": 4,
   "metadata": {
    "ExecuteTime": {
     "end_time": "2019-09-05T05:21:26.148004Z",
     "start_time": "2019-09-05T05:21:26.144291Z"
    }
   },
   "outputs": [],
   "source": [
    "from itertools import chain"
   ]
  },
  {
   "cell_type": "code",
   "execution_count": 5,
   "metadata": {
    "ExecuteTime": {
     "end_time": "2019-09-05T05:21:26.174673Z",
     "start_time": "2019-09-05T05:21:26.149996Z"
    }
   },
   "outputs": [],
   "source": [
    "import re\n",
    "from more_itertools import replace\n",
    "from funcy import compose"
   ]
  },
  {
   "cell_type": "code",
   "execution_count": 6,
   "metadata": {
    "ExecuteTime": {
     "end_time": "2019-09-05T05:21:26.347786Z",
     "start_time": "2019-09-05T05:21:26.176025Z"
    }
   },
   "outputs": [],
   "source": [
    "from joblib import Parallel, delayed\n",
    "\n",
    "J = 10\n",
    "BACKEND = 'multiprocessing'\n",
    "# BACKEND = 'loky'\n",
    "V = 10\n",
    "PREFER = 'processes'\n",
    "# PREFER = 'threads'\n",
    "\n",
    "def par(gen_expr):\n",
    "    return Parallel(n_jobs=J, backend=BACKEND, verbose=V, prefer=PREFER)(gen_expr)"
   ]
  },
  {
   "cell_type": "code",
   "execution_count": 7,
   "metadata": {
    "ExecuteTime": {
     "end_time": "2019-09-05T05:21:26.350863Z",
     "start_time": "2019-09-05T05:21:26.348951Z"
    }
   },
   "outputs": [],
   "source": [
    "import json"
   ]
  },
  {
   "cell_type": "code",
   "execution_count": 8,
   "metadata": {
    "ExecuteTime": {
     "end_time": "2019-09-05T05:21:28.165356Z",
     "start_time": "2019-09-05T05:21:26.351995Z"
    }
   },
   "outputs": [],
   "source": [
    "import pandas as pd\n",
    "from plotnine import *"
   ]
  },
  {
   "cell_type": "markdown",
   "metadata": {},
   "source": [
    "# Overview"
   ]
  },
  {
   "cell_type": "markdown",
   "metadata": {},
   "source": [
    "This notebook documents code for pre-processing the Fisher corpus transcripts into an easier-to-work-with (=relational) format, and into a format that facilitates creating an n-gram model using `kenlm` (= one utterance per line with non-speech events and disfluencies removed or altered to taste)."
   ]
  },
  {
   "cell_type": "markdown",
   "metadata": {},
   "source": [
    "## Dependencies\n",
    " - Fisher corpus transcripts.\n",
    " - **`more_itertools`**\n",
    " - **`funcy`**\n",
    " - **`joblib`**\n",
    " - **`Unix`-like OS:** The notebook uses `*nix` shell command magics (mostly `cat` and `head`) as a lightweight means of peeking at files.\n",
    " - **`pandas`+`plotnine`:** The notebook uses `pandas` and `plotnine` to plot pre-segmented utterance lengths and the distribution over times between consecutive utterance-onsets.\n",
    " - **`kenlm`:** At the end of the notebook, I use shell command magics to call `kenlm`; I also import the `kenlm` python package.\n",
    " \n",
    "The last three items aren't essential for processing/interfacing with the Fisher corpus. `funcy`, `more_itertools`, and `joblib` happen to be used, but could certainly be replaced without too much trouble."
   ]
  },
  {
   "cell_type": "markdown",
   "metadata": {},
   "source": [
    "## Outputs"
   ]
  },
  {
   "cell_type": "markdown",
   "metadata": {},
   "source": [
    "For both the 'main' transcriptions done by the LDC and the BBN ones, this notebook produces\n",
    " 1. a single .json file containing all of the information contained in the original data formats, plus a processed version of each utterance.\n",
    " 2. a single .txt file containing vocabulary from the (processed) utterances.\n",
    " 3. a single .txt file containing one (processed) utterance per line - suitable for input to kenlm.\n",
    " \n",
    "The code at the end will use kenlm to produce .arpa and .mmap files"
   ]
  },
  {
   "cell_type": "markdown",
   "metadata": {},
   "source": [
    "## Utterance processing"
   ]
  },
  {
   "cell_type": "markdown",
   "metadata": {},
   "source": [
    "Summary:\n",
    " 1. Double-parentheses removal: Sequences of word tokens where the transcriber wasn't sure what was said are delimited by double parentheses; if the transcriber was fairly confident what was said, their guess is inside the parentheses. These parentheses are removed. If there's something (besides whitespace) inside the parentheses, that's what remains; if there was nothing inside the parentheses, the parenthesis-surrounded whitespace was replaced with `<rem>`.\n",
    " 2. Non-speech noise removal: Noises that aren't speech (e.g. `[laugh]`) are delimited in square brackets. All such square-bracket delimited character sequences are removed. Note that 'utterances' with no wordforms (i.e. that in the original transcription contain only non-speech noises) are not included in post-processed data intended for use with a language model.\n",
    " 3. Broken-off wordform removal: Wordforms that a speaker doesn't produce in their entirety (e.g. they break off production somewhere in the middle of the word and/or resume somewhere in the middle of a word) end or begin with a dash. All such character sequences are removed and replaced with `<rem>`.\n",
    " 4. All characters are lowercased."
   ]
  },
  {
   "cell_type": "markdown",
   "metadata": {},
   "source": [
    "### Double parentheses\n",
    "The main (LDC) transcriptions features double parentheses around wordform (sequences) the transcriber wasn't sure of, with text in the double parentheses indicating the transcriber's best guess (if any). Here are some examples (each taken from different conversations):\n",
    "```\n",
    "512.82 515.29 A: i so much wanted to be (( ))\n",
    "```\n",
    "```\n",
    "67.12 68.65 A: yeah the last (( )) yeah\n",
    "```\n",
    "```\n",
    "81.27 83.44 B: were you close to where the (( )) tornados\n",
    "```\n",
    "```\n",
    "2.53 4.06 B: (( [noise] hello how are you doing my ))\n",
    "```\n",
    "```\n",
    "91.72 96.48 B: oh bio terror terrorism is a little (( out of prevented )) i don't know (( -bout ))\n",
    "```\n",
    "I've removed all double parentheses and kept whatever's inside the parentheses (if anything). If nothing appears, it's been replaced with a custom \"unknown\" token `<rem>`. (The `kenlm` \"unknown\" token `<unk>` cannot appear in the data you hand it.)"
   ]
  },
  {
   "cell_type": "markdown",
   "metadata": {},
   "source": [
    "### Non-speech noises"
   ]
  },
  {
   "cell_type": "markdown",
   "metadata": {},
   "source": [
    "Anything appearing in square brackets (e.g. `[noise]` above) has been removed in the processed version of each utterance."
   ]
  },
  {
   "cell_type": "markdown",
   "metadata": {},
   "source": [
    "### Broken off and resumed words"
   ]
  },
  {
   "cell_type": "markdown",
   "metadata": {},
   "source": [
    "Wordforms that are broken off in the middle or that are resumed end (or start) in the transcriptions with a dash:\n",
    "```\n",
    "281.04 283.89 A: i f- i know i found my job on line i it was\n",
    "```\n",
    "```\n",
    "175.78 178.65 B: uh huh it's r- i love it\n",
    "```\n",
    "```\n",
    "I THINK HUMAN BEINGS ARE PR- UM [LIPSMACK] FRIENDSHIP RELAT- RELATIONSHIPS WITH PEOPLE ARE A LOT MORE IMPORTANT THAN MONEY  (fe_03_05863-A-0012)\n",
    "```\n",
    "```\n",
    "91.72 96.48 B: oh bio terror terrorism is a little (( out of prevented )) i don't know (( -bout ))\n",
    "```\n",
    "```\n",
    "okay yeah s- we- -ll disney is pretty safe and pretty good\n",
    "```\n",
    "```\n",
    "they have the pales- -tin- -instinians and all that stuff going on\n",
    "```"
   ]
  },
  {
   "cell_type": "markdown",
   "metadata": {},
   "source": [
    "While occasionally a word is started, interrupted, and then resumed (as in the last example) in a way that indicates what the speaker intended, there are very few of these - few enough of these that it's not worth 'fixing' them."
   ]
  },
  {
   "cell_type": "markdown",
   "metadata": {},
   "source": [
    "Any wordform starting or ending with a dash has been replaced with `<rem>`."
   ]
  },
  {
   "cell_type": "markdown",
   "metadata": {},
   "source": [
    "### Case"
   ]
  },
  {
   "cell_type": "markdown",
   "metadata": {},
   "source": [
    "All wordforms have been converted to lowercase."
   ]
  },
  {
   "cell_type": "markdown",
   "metadata": {},
   "source": [
    "### Altogether"
   ]
  },
  {
   "cell_type": "code",
   "execution_count": 9,
   "metadata": {
    "ExecuteTime": {
     "end_time": "2019-09-05T05:21:28.169876Z",
     "start_time": "2019-09-05T05:21:28.167657Z"
    }
   },
   "outputs": [],
   "source": [
    "# unk = '<unk>'\n",
    "unk = '<rem>'"
   ]
  },
  {
   "cell_type": "code",
   "execution_count": 10,
   "metadata": {
    "ExecuteTime": {
     "end_time": "2019-09-05T05:21:28.183808Z",
     "start_time": "2019-09-05T05:21:28.171637Z"
    }
   },
   "outputs": [
    {
     "data": {
      "text/plain": [
       "'no way money can be substituted for her no way'"
      ]
     },
     "execution_count": 10,
     "metadata": {},
     "output_type": "execute_result"
    },
    {
     "data": {
      "text/plain": [
       "\"<rem> on friday and i have to work it's my last day with them i teach preschool so\""
      ]
     },
     "execution_count": 10,
     "metadata": {},
     "output_type": "execute_result"
    },
    {
     "data": {
      "text/plain": [
       "'were you close to where the <rem> tornados'"
      ]
     },
     "execution_count": 10,
     "metadata": {},
     "output_type": "execute_result"
    },
    {
     "data": {
      "text/plain": [
       "'were you close to where the tornados'"
      ]
     },
     "execution_count": 10,
     "metadata": {},
     "output_type": "execute_result"
    }
   ],
   "source": [
    "def remove_double_parens(speech, insertUnk=True):\n",
    "    if insertUnk:\n",
    "        speech = speech.replace(\"(( ))\", unk)\n",
    "    speech_wordform_seq = speech.split(' ')\n",
    "    filtered = [w for w in speech_wordform_seq if w != '((' and w != '))']\n",
    "    return ' '.join(filtered)\n",
    "\n",
    "remove_double_parens('(( no way )) money can be substituted for her no way')\n",
    "remove_double_parens(\"(( )) on friday and i have to work it's my last day with them i teach preschool so\")\n",
    "remove_double_parens(\"were you close to where the (( )) tornados\")\n",
    "remove_double_parens(\"were you close to where the (( )) tornados\", False)"
   ]
  },
  {
   "cell_type": "code",
   "execution_count": 11,
   "metadata": {
    "ExecuteTime": {
     "end_time": "2019-09-05T05:21:28.191594Z",
     "start_time": "2019-09-05T05:21:28.185259Z"
    }
   },
   "outputs": [
    {
     "data": {
      "text/plain": [
       "'I THINK HUMAN BEINGS ARE PR- UM FRIENDSHIP RELAT- RELATIONSHIPS WITH PEOPLE ARE A LOT MORE IMPORTANT THAN MONEY'"
      ]
     },
     "execution_count": 11,
     "metadata": {},
     "output_type": "execute_result"
    },
    {
     "data": {
      "text/plain": [
       "'hello how are you doing my'"
      ]
     },
     "execution_count": 11,
     "metadata": {},
     "output_type": "execute_result"
    }
   ],
   "source": [
    "def remove_non_speech(speech):\n",
    "    speech_filtered_words = [w for w in speech.split(' ') if len(w) > 0 and w[0] != '[' and w[-1] != ']']\n",
    "    speech_out = ' '.join(speech_filtered_words)\n",
    "    speech_out = speech_out.rstrip()\n",
    "    return speech_out\n",
    "\n",
    "remove_non_speech(\"I THINK HUMAN BEINGS ARE PR- UM [LIPSMACK] FRIENDSHIP RELAT- RELATIONSHIPS WITH PEOPLE ARE A LOT MORE IMPORTANT THAN MONEY\")\n",
    "remove_non_speech(remove_double_parens(\"(( [noise] hello how are you doing my ))\"))"
   ]
  },
  {
   "cell_type": "code",
   "execution_count": 12,
   "metadata": {
    "ExecuteTime": {
     "end_time": "2019-09-05T05:21:28.202680Z",
     "start_time": "2019-09-05T05:21:28.192431Z"
    }
   },
   "outputs": [
    {
     "data": {
      "text/plain": [
       "\"uh huh it's <rem> i love it\""
      ]
     },
     "execution_count": 12,
     "metadata": {},
     "output_type": "execute_result"
    },
    {
     "data": {
      "text/plain": [
       "'okay yeah <rem> <rem> <rem> disney is pretty safe and pretty good'"
      ]
     },
     "execution_count": 12,
     "metadata": {},
     "output_type": "execute_result"
    },
    {
     "data": {
      "text/plain": [
       "'they have the <rem> <rem> <rem> and all that stuff going on'"
      ]
     },
     "execution_count": 12,
     "metadata": {},
     "output_type": "execute_result"
    }
   ],
   "source": [
    "interrupted_word_pattern = \".*-$\"\n",
    "resumed_word_pattern = \"^-.*\"\n",
    "\n",
    "def isInterrupted(wordform):\n",
    "    return re.match(interrupted_word_pattern, wordform) is not None\n",
    "\n",
    "def isResumed(wordform):\n",
    "    return re.match(resumed_word_pattern, wordform) is not None\n",
    "\n",
    "def isBroken(wordform):\n",
    "    return isInterrupted(wordform) or isResumed(wordform)\n",
    "\n",
    "def hasBrokenWords(speech):\n",
    "    speech_word_seq = speech.split(' ')\n",
    "    broken_words = list(filter(isBroken, speech_word_seq))\n",
    "    return len(broken_words) > 0\n",
    "\n",
    "def remove_broken_words(speech, insertUnk=True):\n",
    "    if insertUnk:\n",
    "        replacement = unk\n",
    "    else:\n",
    "        replacement = \"\"\n",
    "        \n",
    "    speech_word_seq = speech.split(' ')\n",
    "    speech_word_seq_fixed = ' '.join(replace(speech_word_seq, isBroken, (replacement,)))\n",
    "    speech_fixed = ' '.join([w for w in speech_word_seq_fixed.split(' ') if len(w) > 0])\n",
    "    return speech_fixed\n",
    "\n",
    "remove_broken_words(\"uh huh it's r- i love it\")\n",
    "remove_broken_words('okay yeah s- we- -ll disney is pretty safe and pretty good')\n",
    "remove_broken_words('they have the pales- -tin- -instinians and all that stuff going on')"
   ]
  },
  {
   "cell_type": "code",
   "execution_count": 13,
   "metadata": {
    "ExecuteTime": {
     "end_time": "2019-09-05T05:21:28.205575Z",
     "start_time": "2019-09-05T05:21:28.203669Z"
    }
   },
   "outputs": [],
   "source": [
    "def lowercase(speech):\n",
    "    return speech.lower()"
   ]
  },
  {
   "cell_type": "code",
   "execution_count": 14,
   "metadata": {
    "ExecuteTime": {
     "end_time": "2019-09-05T05:21:28.210599Z",
     "start_time": "2019-09-05T05:21:28.206496Z"
    }
   },
   "outputs": [],
   "source": [
    "process = compose(lowercase, remove_broken_words, remove_non_speech, remove_double_parens)"
   ]
  },
  {
   "cell_type": "code",
   "execution_count": 15,
   "metadata": {
    "ExecuteTime": {
     "end_time": "2019-09-05T05:21:28.220129Z",
     "start_time": "2019-09-05T05:21:28.212035Z"
    }
   },
   "outputs": [
    {
     "data": {
      "text/plain": [
       "'no way money can be substituted for her no way'"
      ]
     },
     "execution_count": 15,
     "metadata": {},
     "output_type": "execute_result"
    },
    {
     "data": {
      "text/plain": [
       "'i think human beings are <rem> um friendship <rem> relationships with people are a lot more important than money'"
      ]
     },
     "execution_count": 15,
     "metadata": {},
     "output_type": "execute_result"
    },
    {
     "data": {
      "text/plain": [
       "'hello how are you doing my'"
      ]
     },
     "execution_count": 15,
     "metadata": {},
     "output_type": "execute_result"
    },
    {
     "data": {
      "text/plain": [
       "'they have the <rem> <rem> <rem> and all that stuff going on'"
      ]
     },
     "execution_count": 15,
     "metadata": {},
     "output_type": "execute_result"
    }
   ],
   "source": [
    "process('(( no way )) money can be substituted for her no way')\n",
    "process(\"I THINK HUMAN BEINGS ARE PR- UM [LIPSMACK] FRIENDSHIP RELAT- RELATIONSHIPS WITH PEOPLE ARE A LOT MORE IMPORTANT THAN MONEY\")\n",
    "process(\"(( [noise] hello how are you doing my ))\")\n",
    "process('they have the pales- -tin- -instinians and all that stuff going on')"
   ]
  },
  {
   "cell_type": "markdown",
   "metadata": {},
   "source": [
    "# Corpus directories"
   ]
  },
  {
   "cell_type": "code",
   "execution_count": 16,
   "metadata": {
    "ExecuteTime": {
     "end_time": "2019-09-05T05:21:28.223450Z",
     "start_time": "2019-09-05T05:21:28.221370Z"
    }
   },
   "outputs": [],
   "source": [
    "repo_dir = '/mnt/cube/home/AD/emeinhar/fisher-lm'"
   ]
  },
  {
   "cell_type": "code",
   "execution_count": 17,
   "metadata": {
    "ExecuteTime": {
     "end_time": "2019-09-05T05:21:28.228151Z",
     "start_time": "2019-09-05T05:21:28.224721Z"
    }
   },
   "outputs": [],
   "source": [
    "fisher_dir = \"/mnt/truffle/corpora/fisher_english_transcripts/fe_03_p2_tran\""
   ]
  },
  {
   "cell_type": "code",
   "execution_count": 18,
   "metadata": {
    "ExecuteTime": {
     "end_time": "2019-09-05T05:21:28.234277Z",
     "start_time": "2019-09-05T05:21:28.229439Z"
    }
   },
   "outputs": [
    {
     "data": {
      "text/plain": [
       "'/mnt/cube/home/AD/emeinhar/fisher-lm'"
      ]
     },
     "execution_count": 18,
     "metadata": {},
     "output_type": "execute_result"
    }
   ],
   "source": [
    "os.getcwd()"
   ]
  },
  {
   "cell_type": "code",
   "execution_count": 19,
   "metadata": {
    "ExecuteTime": {
     "end_time": "2019-09-05T05:21:28.241136Z",
     "start_time": "2019-09-05T05:21:28.235630Z"
    }
   },
   "outputs": [],
   "source": [
    "os.chdir(fisher_dir)"
   ]
  },
  {
   "cell_type": "code",
   "execution_count": 20,
   "metadata": {
    "ExecuteTime": {
     "end_time": "2019-09-05T05:21:28.359731Z",
     "start_time": "2019-09-05T05:21:28.242057Z"
    }
   },
   "outputs": [
    {
     "name": "stdout",
     "output_type": "stream",
     "text": [
      "\u001b[0m\u001b[01;34mdata\u001b[0m/  \u001b[01;34mdoc\u001b[0m/  \u001b[01;32mindex.html\u001b[0m*\r\n"
     ]
    }
   ],
   "source": [
    "%ls"
   ]
  },
  {
   "cell_type": "code",
   "execution_count": 21,
   "metadata": {
    "ExecuteTime": {
     "end_time": "2019-09-05T05:21:28.367825Z",
     "start_time": "2019-09-05T05:21:28.361661Z"
    }
   },
   "outputs": [
    {
     "data": {
      "text/plain": [
       "'/mnt/truffle/corpora/fisher_english_transcripts/fe_03_p2_tran/data'"
      ]
     },
     "execution_count": 21,
     "metadata": {},
     "output_type": "execute_result"
    }
   ],
   "source": [
    "os.chdir(os.path.join(fisher_dir, 'data'))\n",
    "os.getcwd()"
   ]
  },
  {
   "cell_type": "code",
   "execution_count": 22,
   "metadata": {
    "ExecuteTime": {
     "end_time": "2019-09-05T05:21:28.489192Z",
     "start_time": "2019-09-05T05:21:28.369302Z"
    }
   },
   "outputs": [
    {
     "name": "stdout",
     "output_type": "stream",
     "text": [
      "\u001b[0m\u001b[01;34mbbn_orig\u001b[0m/  \u001b[01;34mtrans\u001b[0m/\r\n"
     ]
    }
   ],
   "source": [
    "%ls"
   ]
  },
  {
   "cell_type": "markdown",
   "metadata": {},
   "source": [
    "Each of these two folders contains a different transcription of the Fisher corpus (per `.../doc/bbn_trans_readme.txt` = https://catalog.ldc.upenn.edu/docs/LDC2005T19/bbn_trans_readme.txt)."
   ]
  },
  {
   "cell_type": "markdown",
   "metadata": {},
   "source": [
    "# Main (=LDC) transcriptions"
   ]
  },
  {
   "cell_type": "code",
   "execution_count": 23,
   "metadata": {
    "ExecuteTime": {
     "end_time": "2019-09-05T05:21:28.496294Z",
     "start_time": "2019-09-05T05:21:28.491213Z"
    }
   },
   "outputs": [
    {
     "data": {
      "text/plain": [
       "'/mnt/truffle/corpora/fisher_english_transcripts/fe_03_p2_tran/data/trans'"
      ]
     },
     "execution_count": 23,
     "metadata": {},
     "output_type": "execute_result"
    }
   ],
   "source": [
    "os.chdir(os.path.join(fisher_dir, 'data' + '/' + 'trans'))\n",
    "os.getcwd()"
   ]
  },
  {
   "cell_type": "code",
   "execution_count": 24,
   "metadata": {
    "ExecuteTime": {
     "end_time": "2019-09-05T05:21:28.502966Z",
     "start_time": "2019-09-05T05:21:28.500661Z"
    }
   },
   "outputs": [],
   "source": [
    "main_data_dir = '/mnt/truffle/corpora/fisher_english_transcripts/fe_03_p2_tran/data/trans'"
   ]
  },
  {
   "cell_type": "code",
   "execution_count": 25,
   "metadata": {
    "ExecuteTime": {
     "end_time": "2019-09-05T05:21:28.627052Z",
     "start_time": "2019-09-05T05:21:28.505374Z"
    }
   },
   "outputs": [
    {
     "name": "stdout",
     "output_type": "stream",
     "text": [
      "\u001b[0m\u001b[01;34m058\u001b[0m/  \u001b[01;34m063\u001b[0m/  \u001b[01;34m068\u001b[0m/  \u001b[01;34m073\u001b[0m/  \u001b[01;34m078\u001b[0m/  \u001b[01;34m083\u001b[0m/  \u001b[01;34m088\u001b[0m/  \u001b[01;34m093\u001b[0m/  \u001b[01;34m098\u001b[0m/  \u001b[01;34m103\u001b[0m/  \u001b[01;34m108\u001b[0m/  \u001b[01;34m113\u001b[0m/\r\n",
      "\u001b[01;34m059\u001b[0m/  \u001b[01;34m064\u001b[0m/  \u001b[01;34m069\u001b[0m/  \u001b[01;34m074\u001b[0m/  \u001b[01;34m079\u001b[0m/  \u001b[01;34m084\u001b[0m/  \u001b[01;34m089\u001b[0m/  \u001b[01;34m094\u001b[0m/  \u001b[01;34m099\u001b[0m/  \u001b[01;34m104\u001b[0m/  \u001b[01;34m109\u001b[0m/  \u001b[01;34m114\u001b[0m/\r\n",
      "\u001b[01;34m060\u001b[0m/  \u001b[01;34m065\u001b[0m/  \u001b[01;34m070\u001b[0m/  \u001b[01;34m075\u001b[0m/  \u001b[01;34m080\u001b[0m/  \u001b[01;34m085\u001b[0m/  \u001b[01;34m090\u001b[0m/  \u001b[01;34m095\u001b[0m/  \u001b[01;34m100\u001b[0m/  \u001b[01;34m105\u001b[0m/  \u001b[01;34m110\u001b[0m/  \u001b[01;34m115\u001b[0m/\r\n",
      "\u001b[01;34m061\u001b[0m/  \u001b[01;34m066\u001b[0m/  \u001b[01;34m071\u001b[0m/  \u001b[01;34m076\u001b[0m/  \u001b[01;34m081\u001b[0m/  \u001b[01;34m086\u001b[0m/  \u001b[01;34m091\u001b[0m/  \u001b[01;34m096\u001b[0m/  \u001b[01;34m101\u001b[0m/  \u001b[01;34m106\u001b[0m/  \u001b[01;34m111\u001b[0m/  \u001b[01;34m116\u001b[0m/\r\n",
      "\u001b[01;34m062\u001b[0m/  \u001b[01;34m067\u001b[0m/  \u001b[01;34m072\u001b[0m/  \u001b[01;34m077\u001b[0m/  \u001b[01;34m082\u001b[0m/  \u001b[01;34m087\u001b[0m/  \u001b[01;34m092\u001b[0m/  \u001b[01;34m097\u001b[0m/  \u001b[01;34m102\u001b[0m/  \u001b[01;34m107\u001b[0m/  \u001b[01;34m112\u001b[0m/\r\n"
     ]
    }
   ],
   "source": [
    "%ls"
   ]
  },
  {
   "cell_type": "code",
   "execution_count": 26,
   "metadata": {
    "ExecuteTime": {
     "end_time": "2019-09-05T05:21:28.632546Z",
     "start_time": "2019-09-05T05:21:28.629225Z"
    }
   },
   "outputs": [],
   "source": [
    "trans_folders = os.listdir()"
   ]
  },
  {
   "cell_type": "code",
   "execution_count": 27,
   "metadata": {
    "ExecuteTime": {
     "end_time": "2019-09-05T05:21:28.639008Z",
     "start_time": "2019-09-05T05:21:28.634298Z"
    }
   },
   "outputs": [
    {
     "data": {
      "text/plain": [
       "'/mnt/truffle/corpora/fisher_english_transcripts/fe_03_p2_tran/data/trans/058'"
      ]
     },
     "execution_count": 27,
     "metadata": {},
     "output_type": "execute_result"
    }
   ],
   "source": [
    "os.chdir(os.path.join(main_data_dir, '058'))\n",
    "os.getcwd()"
   ]
  },
  {
   "cell_type": "code",
   "execution_count": 28,
   "metadata": {
    "ExecuteTime": {
     "end_time": "2019-09-05T05:21:28.772160Z",
     "start_time": "2019-09-05T05:21:28.640640Z"
    }
   },
   "outputs": [
    {
     "name": "stdout",
     "output_type": "stream",
     "text": [
      "\u001b[0m\u001b[01;32mfe_03_05851.txt\u001b[0m*  \u001b[01;32mfe_03_05864.txt\u001b[0m*  \u001b[01;32mfe_03_05877.txt\u001b[0m*  \u001b[01;32mfe_03_05890.txt\u001b[0m*\r\n",
      "\u001b[01;32mfe_03_05852.txt\u001b[0m*  \u001b[01;32mfe_03_05865.txt\u001b[0m*  \u001b[01;32mfe_03_05878.txt\u001b[0m*  \u001b[01;32mfe_03_05891.txt\u001b[0m*\r\n",
      "\u001b[01;32mfe_03_05853.txt\u001b[0m*  \u001b[01;32mfe_03_05866.txt\u001b[0m*  \u001b[01;32mfe_03_05879.txt\u001b[0m*  \u001b[01;32mfe_03_05892.txt\u001b[0m*\r\n",
      "\u001b[01;32mfe_03_05854.txt\u001b[0m*  \u001b[01;32mfe_03_05867.txt\u001b[0m*  \u001b[01;32mfe_03_05880.txt\u001b[0m*  \u001b[01;32mfe_03_05893.txt\u001b[0m*\r\n",
      "\u001b[01;32mfe_03_05855.txt\u001b[0m*  \u001b[01;32mfe_03_05868.txt\u001b[0m*  \u001b[01;32mfe_03_05881.txt\u001b[0m*  \u001b[01;32mfe_03_05894.txt\u001b[0m*\r\n",
      "\u001b[01;32mfe_03_05856.txt\u001b[0m*  \u001b[01;32mfe_03_05869.txt\u001b[0m*  \u001b[01;32mfe_03_05882.txt\u001b[0m*  \u001b[01;32mfe_03_05895.txt\u001b[0m*\r\n",
      "\u001b[01;32mfe_03_05857.txt\u001b[0m*  \u001b[01;32mfe_03_05870.txt\u001b[0m*  \u001b[01;32mfe_03_05883.txt\u001b[0m*  \u001b[01;32mfe_03_05896.txt\u001b[0m*\r\n",
      "\u001b[01;32mfe_03_05858.txt\u001b[0m*  \u001b[01;32mfe_03_05871.txt\u001b[0m*  \u001b[01;32mfe_03_05884.txt\u001b[0m*  \u001b[01;32mfe_03_05897.txt\u001b[0m*\r\n",
      "\u001b[01;32mfe_03_05859.txt\u001b[0m*  \u001b[01;32mfe_03_05872.txt\u001b[0m*  \u001b[01;32mfe_03_05885.txt\u001b[0m*  \u001b[01;32mfe_03_05898.txt\u001b[0m*\r\n",
      "\u001b[01;32mfe_03_05860.txt\u001b[0m*  \u001b[01;32mfe_03_05873.txt\u001b[0m*  \u001b[01;32mfe_03_05886.txt\u001b[0m*  \u001b[01;32mfe_03_05899.txt\u001b[0m*\r\n",
      "\u001b[01;32mfe_03_05861.txt\u001b[0m*  \u001b[01;32mfe_03_05874.txt\u001b[0m*  \u001b[01;32mfe_03_05887.txt\u001b[0m*\r\n",
      "\u001b[01;32mfe_03_05862.txt\u001b[0m*  \u001b[01;32mfe_03_05875.txt\u001b[0m*  \u001b[01;32mfe_03_05888.txt\u001b[0m*\r\n",
      "\u001b[01;32mfe_03_05863.txt\u001b[0m*  \u001b[01;32mfe_03_05876.txt\u001b[0m*  \u001b[01;32mfe_03_05889.txt\u001b[0m*\r\n"
     ]
    }
   ],
   "source": [
    "%ls"
   ]
  },
  {
   "cell_type": "code",
   "execution_count": 29,
   "metadata": {
    "ExecuteTime": {
     "end_time": "2019-09-05T05:21:28.781222Z",
     "start_time": "2019-09-05T05:21:28.774274Z"
    }
   },
   "outputs": [
    {
     "data": {
      "text/plain": [
       "'fe_03_05851.txt'"
      ]
     },
     "execution_count": 29,
     "metadata": {},
     "output_type": "execute_result"
    },
    {
     "data": {
      "text/plain": [
       "'05851'"
      ]
     },
     "execution_count": 29,
     "metadata": {},
     "output_type": "execute_result"
    }
   ],
   "source": [
    "os.listdir()[0]\n",
    "os.listdir()[0][6:11]"
   ]
  },
  {
   "cell_type": "code",
   "execution_count": 30,
   "metadata": {
    "ExecuteTime": {
     "end_time": "2019-09-05T05:21:28.902609Z",
     "start_time": "2019-09-05T05:21:28.782768Z"
    }
   },
   "outputs": [
    {
     "name": "stdout",
     "output_type": "stream",
     "text": [
      "     1\t# fe_03_05851.sph\r\n",
      "     2\t# Transcribed at the LDC\r\n",
      "     3\t\r\n",
      "     4\t56.38 61.03 A: i mean no money is very important definitely and a million dollars is a dream come true for me i mean \r\n",
      "     5\t\r\n",
      "     6\t61.19 64.71 A: i can actually imagine the kind of things i can buy \r\n",
      "     7\t\r\n",
      "     8\t64.41 65.38 B: yeah \r\n",
      "     9\t\r\n",
      "    10\t65.57 69.14 A: travel and do whatever i want to in life but then again \r\n",
      "    11\t\r\n",
      "    12\t69.61 70.13 A: i just \r\n",
      "    13\t\r\n",
      "    14\t70.25 73.34 A: can't i mean stop talking to my best friend that's like \r\n",
      "    15\t\r\n",
      "    16\t73.54 76.25 A: i can't do that i mean i've been so close to her \r\n",
      "    17\t\r\n",
      "    18\t76.52 78.31 A: she has been my friend since my school days \r\n",
      "    19\t\r\n",
      "    20\t79.01 81.04 A: so i share almost everything with her \r\n",
      "    21\t\r\n",
      "    22\t81.15 81.91 B: mhm th- \r\n",
      "    23\t\r\n",
      "    24\t81.36 85.99 A: whatever problems whatever successes that i've faced in life i mean everything i have to share with her \r\n",
      "    25\t\r\n",
      "    26\t86.36 89.54 B: and they know so much about you and \r\n",
      "    27\t\r\n",
      "    28\t87.81 89.13 A: yeah i know \r\n",
      "    29\t\r\n",
      "    30\t90.29 92.75 A: everything i mean any little problem any little \r\n",
      "    31\t\r\n",
      "    32\t92.98 95.78 A: thing that you have in your life you can always go and talk to her about it \r\n",
      "    33\t\r\n",
      "    34\t95.97 96.50 B: mhm \r\n",
      "    35\t\r\n",
      "    36\t96.55 101.84 A: really nice it really feels nice you know you can share your burdens with her your joys with her your sorrows with her \r\n",
      "    37\t\r\n",
      "    38\t103.75 107.05 A: seriously money is definitely important but th- but then \r\n",
      "    39\t\r\n",
      "    40\t106.55 108.89 B: i don't think its that important right \r\n",
      "    41\t\r\n",
      "    42\t108.17 108.87 A: mhm \r\n",
      "    43\t\r\n",
      "    44\t109.24 111.54 A: not to sacrifice a friendship for it right \r\n",
      "    45\t\r\n",
      "    46\t111.58 112.17 B: mhm \r\n",
      "    47\t\r\n",
      "    48\t112.27 113.36 A: you can't do that \r\n",
      "    49\t\r\n",
      "    50\t113.43 116.05 B: does your best friend d- does she live close by \r\n",
      "    51\t\r\n",
      "    52\t116.33 119.01 A: mhm she's actually in india and i'm from india \r\n",
      "    53\t\r\n",
      "    54\t119.47 119.83 B: uh-huh \r\n",
      "    55\t\r\n",
      "    56\t119.47 123.07 A: i just came here last year but we're still in touch through mail li- \r\n",
      "    57\t\r\n",
      "    58\t121.08 121.51 B: oh \r\n",
      "    59\t\r\n",
      "    60\t123.19 125.13 A: call her on and off once in while but \r\n"
     ]
    }
   ],
   "source": [
    "%cat -n fe_03_05851.txt | head -60"
   ]
  },
  {
   "cell_type": "markdown",
   "metadata": {},
   "source": [
    "Per the documentation, each five digit number before the file extension is a unique call id."
   ]
  },
  {
   "cell_type": "markdown",
   "metadata": {},
   "source": [
    "### Organizing call transcription files, a unique call ID, and call transcription file location"
   ]
  },
  {
   "cell_type": "markdown",
   "metadata": {},
   "source": [
    "**Let's create a relation between filename, call id, and location.**"
   ]
  },
  {
   "cell_type": "code",
   "execution_count": 31,
   "metadata": {
    "ExecuteTime": {
     "end_time": "2019-09-05T05:21:28.909599Z",
     "start_time": "2019-09-05T05:21:28.904803Z"
    }
   },
   "outputs": [
    {
     "data": {
      "text/plain": [
       "'/mnt/truffle/corpora/fisher_english_transcripts/fe_03_p2_tran/data/trans/058/fe_03_05851.txt'"
      ]
     },
     "execution_count": 31,
     "metadata": {},
     "output_type": "execute_result"
    }
   ],
   "source": [
    "os.path.join(main_data_dir, '058' + '/' + 'fe_03_05851.txt')"
   ]
  },
  {
   "cell_type": "code",
   "execution_count": 32,
   "metadata": {
    "ExecuteTime": {
     "end_time": "2019-09-05T05:21:28.914893Z",
     "start_time": "2019-09-05T05:21:28.911191Z"
    }
   },
   "outputs": [],
   "source": [
    "def filenameToRelation_orig(fn, curr_dir):\n",
    "    return {'filename':fn,\n",
    "            'call_id':fn[6:11],\n",
    "            'location':os.path.join(main_data_dir, curr_dir + '/' + fn)}"
   ]
  },
  {
   "cell_type": "code",
   "execution_count": 33,
   "metadata": {
    "ExecuteTime": {
     "end_time": "2019-09-05T05:21:28.920652Z",
     "start_time": "2019-09-05T05:21:28.916453Z"
    }
   },
   "outputs": [
    {
     "data": {
      "text/plain": [
       "'/mnt/truffle/corpora/fisher_english_transcripts/fe_03_p2_tran/data/trans'"
      ]
     },
     "execution_count": 33,
     "metadata": {},
     "output_type": "execute_result"
    }
   ],
   "source": [
    "os.chdir(main_data_dir)\n",
    "os.getcwd()"
   ]
  },
  {
   "cell_type": "code",
   "execution_count": 34,
   "metadata": {
    "ExecuteTime": {
     "end_time": "2019-09-05T05:21:30.296504Z",
     "start_time": "2019-09-05T05:21:28.922296Z"
    }
   },
   "outputs": [],
   "source": [
    "main_call_relation = []\n",
    "for folder in trans_folders:\n",
    "    os.chdir(folder)\n",
    "    for file in os.listdir():\n",
    "        main_call_relation.append(filenameToRelation_orig(file, folder))\n",
    "    os.chdir('..')"
   ]
  },
  {
   "cell_type": "code",
   "execution_count": 35,
   "metadata": {
    "ExecuteTime": {
     "end_time": "2019-09-05T05:21:30.301019Z",
     "start_time": "2019-09-05T05:21:30.297812Z"
    }
   },
   "outputs": [
    {
     "data": {
      "text/plain": [
       "[{'filename': 'fe_03_05851.txt',\n",
       "  'call_id': '05851',\n",
       "  'location': '/mnt/truffle/corpora/fisher_english_transcripts/fe_03_p2_tran/data/trans/058/fe_03_05851.txt'},\n",
       " {'filename': 'fe_03_05852.txt',\n",
       "  'call_id': '05852',\n",
       "  'location': '/mnt/truffle/corpora/fisher_english_transcripts/fe_03_p2_tran/data/trans/058/fe_03_05852.txt'},\n",
       " {'filename': 'fe_03_05853.txt',\n",
       "  'call_id': '05853',\n",
       "  'location': '/mnt/truffle/corpora/fisher_english_transcripts/fe_03_p2_tran/data/trans/058/fe_03_05853.txt'}]"
      ]
     },
     "execution_count": 35,
     "metadata": {},
     "output_type": "execute_result"
    }
   ],
   "source": [
    "main_call_relation[:3]"
   ]
  },
  {
   "cell_type": "markdown",
   "metadata": {},
   "source": [
    "## Organizing transcriptions of each call"
   ]
  },
  {
   "cell_type": "markdown",
   "metadata": {},
   "source": [
    "Each line of a transcribed call file is either\n",
    " - a comment (prefixed with `#`), only ever appearing in the top two lines of the file\n",
    " - blank\n",
    " - or a transcription line.\n",
    "\n",
    "A transcription line consists of\n",
    " - a two decimal point float indicating the time of the start of the transcribed speech in the line\n",
    " - a two decimal point float indicating the time of the end of the transcribed speech in the line\n",
    " - two characters indicating which of two speakers produced the transcribed speech in the line\n",
    " - a sequence of transcribed speech wordforms (all lowercase)\n",
    "\n",
    "Each of these elements is separated from the other by a space.\n",
    "\n",
    "Transcribed wordform sequences that transcribers were unsure of what exactly was said are surrounded by double parentheses, with the transcriber's best guess (if any) inside the parentheses e.g. \n",
    "  - `295.11 298.23 A: (( no way )) money can be substituted for her no way`\n",
    "  - `335.99 341.73 B: (( )) on friday and i have to work it's my last day with them i teach preschool so`"
   ]
  },
  {
   "cell_type": "code",
   "execution_count": 36,
   "metadata": {
    "ExecuteTime": {
     "end_time": "2019-09-05T05:21:30.421516Z",
     "start_time": "2019-09-05T05:21:30.302364Z"
    }
   },
   "outputs": [
    {
     "name": "stdout",
     "output_type": "stream",
     "text": [
      "     1\t# fe_03_05851.sph\r\n",
      "     2\t# Transcribed at the LDC\r\n",
      "     3\t\r\n",
      "     4\t56.38 61.03 A: i mean no money is very important definitely and a million dollars is a dream come true for me i mean \r\n",
      "     5\t\r\n",
      "     6\t61.19 64.71 A: i can actually imagine the kind of things i can buy \r\n",
      "     7\t\r\n",
      "     8\t64.41 65.38 B: yeah \r\n",
      "     9\t\r\n",
      "    10\t65.57 69.14 A: travel and do whatever i want to in life but then again \r\n",
      "    11\t\r\n",
      "    12\t69.61 70.13 A: i just \r\n",
      "    13\t\r\n",
      "    14\t70.25 73.34 A: can't i mean stop talking to my best friend that's like \r\n",
      "    15\t\r\n",
      "    16\t73.54 76.25 A: i can't do that i mean i've been so close to her \r\n",
      "    17\t\r\n",
      "    18\t76.52 78.31 A: she has been my friend since my school days \r\n",
      "    19\t\r\n",
      "    20\t79.01 81.04 A: so i share almost everything with her \r\n"
     ]
    }
   ],
   "source": [
    "%cat -n ./058/fe_03_05851.txt | head -20"
   ]
  },
  {
   "cell_type": "code",
   "execution_count": 37,
   "metadata": {
    "ExecuteTime": {
     "end_time": "2019-09-05T05:21:30.427101Z",
     "start_time": "2019-09-05T05:21:30.423182Z"
    }
   },
   "outputs": [],
   "source": [
    "def get_raw_transcription_lines(callfile_fn):\n",
    "    lines = []\n",
    "    with open(callfile_fn, 'r', encoding='latin-1') as the_file:\n",
    "        for line in the_file:\n",
    "            if line[0] != '#' and line.rstrip() != '':\n",
    "                lines.append(line.rstrip())\n",
    "    return lines"
   ]
  },
  {
   "cell_type": "code",
   "execution_count": 38,
   "metadata": {
    "ExecuteTime": {
     "end_time": "2019-09-05T05:21:30.433865Z",
     "start_time": "2019-09-05T05:21:30.428361Z"
    }
   },
   "outputs": [
    {
     "data": {
      "text/plain": [
       "['56.38 61.03 A: i mean no money is very important definitely and a million dollars is a dream come true for me i mean',\n",
       " '61.19 64.71 A: i can actually imagine the kind of things i can buy',\n",
       " '64.41 65.38 B: yeah',\n",
       " '65.57 69.14 A: travel and do whatever i want to in life but then again',\n",
       " '69.61 70.13 A: i just']"
      ]
     },
     "execution_count": 38,
     "metadata": {},
     "output_type": "execute_result"
    }
   ],
   "source": [
    "ls = get_raw_transcription_lines('./058/fe_03_05851.txt')\n",
    "ls[:5]"
   ]
  },
  {
   "cell_type": "code",
   "execution_count": 39,
   "metadata": {
    "ExecuteTime": {
     "end_time": "2019-09-05T05:21:30.437846Z",
     "start_time": "2019-09-05T05:21:30.434939Z"
    }
   },
   "outputs": [
    {
     "data": {
      "text/plain": [
       "4.65"
      ]
     },
     "execution_count": 39,
     "metadata": {},
     "output_type": "execute_result"
    }
   ],
   "source": [
    "round(4.649999999999999, 2)"
   ]
  },
  {
   "cell_type": "code",
   "execution_count": 40,
   "metadata": {
    "ExecuteTime": {
     "end_time": "2019-09-05T05:21:30.441917Z",
     "start_time": "2019-09-05T05:21:30.438985Z"
    }
   },
   "outputs": [],
   "source": [
    "# def remove_double_parens(speech):\n",
    "#     speech_wordform_seq = speech.split(' ')\n",
    "#     filtered = [w for w in speech_wordform_seq if w != '((' and w != '))']\n",
    "#     return ' '.join(filtered)"
   ]
  },
  {
   "cell_type": "code",
   "execution_count": 41,
   "metadata": {
    "ExecuteTime": {
     "end_time": "2019-09-05T05:21:30.448454Z",
     "start_time": "2019-09-05T05:21:30.443005Z"
    }
   },
   "outputs": [
    {
     "data": {
      "text/plain": [
       "'no way money can be substituted for her no way'"
      ]
     },
     "execution_count": 41,
     "metadata": {},
     "output_type": "execute_result"
    },
    {
     "data": {
      "text/plain": [
       "\"<rem> on friday and i have to work it's my last day with them i teach preschool so\""
      ]
     },
     "execution_count": 41,
     "metadata": {},
     "output_type": "execute_result"
    }
   ],
   "source": [
    "remove_double_parens('(( no way )) money can be substituted for her no way')\n",
    "remove_double_parens(\"(( )) on friday and i have to work it's my last day with them i teach preschool so\")"
   ]
  },
  {
   "cell_type": "code",
   "execution_count": 42,
   "metadata": {
    "ExecuteTime": {
     "end_time": "2019-09-05T05:21:30.453639Z",
     "start_time": "2019-09-05T05:21:30.449630Z"
    }
   },
   "outputs": [],
   "source": [
    "def parse_transcription_line(line):\n",
    "    parts = line.split(' ')\n",
    "    start = float(parts[0])\n",
    "    end = float(parts[1])\n",
    "    duration = round(end - start, 2)\n",
    "    speaker = parts[2][0]\n",
    "    speech_raw = ' '.join(parts[3:])\n",
    "#     speech_no_parens = remove_double_parens(speech_raw)\n",
    "    \n",
    "#     speech_filtered_words = [w for w in speech_no_parens.split(' ') if len(w) > 0 and w[0] != '[' and w[-1] != ']']\n",
    "#     speech = ' '.join(speech_filtered_words)\n",
    "#     speech = speech.rstrip()\n",
    "    speech = process(speech_raw)\n",
    "    \n",
    "    line_relation = {'start':start,\n",
    "                     'end':end,\n",
    "                     'duration':duration,\n",
    "                     'speaker':speaker,\n",
    "                     'speech_raw':speech_raw,\n",
    "#                      'speech_no_parens':speech_no_parens,\n",
    "                     'speech':speech}\n",
    "    return line_relation"
   ]
  },
  {
   "cell_type": "code",
   "execution_count": 43,
   "metadata": {
    "ExecuteTime": {
     "end_time": "2019-09-05T05:21:30.460650Z",
     "start_time": "2019-09-05T05:21:30.455066Z"
    }
   },
   "outputs": [
    {
     "data": {
      "text/plain": [
       "{'start': 56.38,\n",
       " 'end': 61.03,\n",
       " 'duration': 4.65,\n",
       " 'speaker': 'A',\n",
       " 'speech_raw': 'i mean no money is very important definitely and a million dollars is a dream come true for me i mean',\n",
       " 'speech': 'i mean no money is very important definitely and a million dollars is a dream come true for me i mean'}"
      ]
     },
     "execution_count": 43,
     "metadata": {},
     "output_type": "execute_result"
    }
   ],
   "source": [
    "parse_transcription_line(ls[0])"
   ]
  },
  {
   "cell_type": "code",
   "execution_count": 44,
   "metadata": {
    "ExecuteTime": {
     "end_time": "2019-09-05T05:21:30.524482Z",
     "start_time": "2019-09-05T05:21:30.461788Z"
    }
   },
   "outputs": [],
   "source": [
    "def get_transcriptions_main(call_id):\n",
    "    call_rel_match = [c for c in main_call_relation if c['call_id'] == call_id]\n",
    "    assert len(call_rel_match) == 1, 'No matching call with call_id = {0}'.format(call_id)\n",
    "    call_rel = call_rel_match[0]\n",
    "#     call_fn = call_rel['filename']\n",
    "    parsed_lines = [parse_transcription_line(l) \n",
    "                    for l in get_raw_transcription_lines(call_rel['location'])]\n",
    "    return parsed_lines"
   ]
  },
  {
   "cell_type": "code",
   "execution_count": 45,
   "metadata": {
    "ExecuteTime": {
     "end_time": "2019-09-05T05:21:30.539427Z",
     "start_time": "2019-09-05T05:21:30.525854Z"
    }
   },
   "outputs": [
    {
     "data": {
      "text/plain": [
       "[{'start': 56.38,\n",
       "  'end': 61.03,\n",
       "  'duration': 4.65,\n",
       "  'speaker': 'A',\n",
       "  'speech_raw': 'i mean no money is very important definitely and a million dollars is a dream come true for me i mean',\n",
       "  'speech': 'i mean no money is very important definitely and a million dollars is a dream come true for me i mean'},\n",
       " {'start': 61.19,\n",
       "  'end': 64.71,\n",
       "  'duration': 3.52,\n",
       "  'speaker': 'A',\n",
       "  'speech_raw': 'i can actually imagine the kind of things i can buy',\n",
       "  'speech': 'i can actually imagine the kind of things i can buy'},\n",
       " {'start': 64.41,\n",
       "  'end': 65.38,\n",
       "  'duration': 0.97,\n",
       "  'speaker': 'B',\n",
       "  'speech_raw': 'yeah',\n",
       "  'speech': 'yeah'}]"
      ]
     },
     "execution_count": 45,
     "metadata": {},
     "output_type": "execute_result"
    }
   ],
   "source": [
    "get_transcriptions_main('05851')[:3]"
   ]
  },
  {
   "cell_type": "markdown",
   "metadata": {},
   "source": [
    "## Some summary / sanity-checking statistics"
   ]
  },
  {
   "cell_type": "markdown",
   "metadata": {},
   "source": [
    "How many calls are in the main transcripts?"
   ]
  },
  {
   "cell_type": "code",
   "execution_count": 46,
   "metadata": {
    "ExecuteTime": {
     "end_time": "2019-09-05T05:21:30.544191Z",
     "start_time": "2019-09-05T05:21:30.540794Z"
    }
   },
   "outputs": [
    {
     "data": {
      "text/plain": [
       "5849"
      ]
     },
     "execution_count": 46,
     "metadata": {},
     "output_type": "execute_result"
    }
   ],
   "source": [
    "call_ids = [c['call_id'] for c in main_call_relation]\n",
    "len(call_ids)"
   ]
  },
  {
   "cell_type": "markdown",
   "metadata": {},
   "source": [
    "How many word tokens are in the main transcripts?"
   ]
  },
  {
   "cell_type": "code",
   "execution_count": 47,
   "metadata": {
    "ExecuteTime": {
     "end_time": "2019-09-05T05:21:30.548557Z",
     "start_time": "2019-09-05T05:21:30.545399Z"
    }
   },
   "outputs": [],
   "source": [
    "def tokenize_speech_in_line(line_rel):\n",
    "    return line_rel['speech'].split(' ')\n",
    "\n",
    "def count_word_tokens_in_line(line_rel):\n",
    "    return len(tokenize_speech_in_line(line_rel))\n",
    "\n",
    "def count_word_tokens_in_call(call_id):\n",
    "    return sum([count_word_tokens_in_line(l) for l in get_transcriptions_main(call_id)])"
   ]
  },
  {
   "cell_type": "code",
   "execution_count": 48,
   "metadata": {
    "ExecuteTime": {
     "end_time": "2019-09-05T05:21:35.211123Z",
     "start_time": "2019-09-05T05:21:30.549582Z"
    }
   },
   "outputs": [
    {
     "name": "stderr",
     "output_type": "stream",
     "text": [
      "[Parallel(n_jobs=15)]: Using backend MultiprocessingBackend with 15 concurrent workers.\n",
      "[Parallel(n_jobs=15)]: Batch computation too fast (0.0167s.) Setting batch_size=22.\n",
      "[Parallel(n_jobs=15)]: Done   2 tasks      | elapsed:    0.0s\n",
      "[Parallel(n_jobs=15)]: Done  11 tasks      | elapsed:    0.0s\n",
      "[Parallel(n_jobs=15)]: Done  20 tasks      | elapsed:    0.0s\n",
      "[Parallel(n_jobs=15)]: Done  52 tasks      | elapsed:    0.2s\n",
      "[Parallel(n_jobs=15)]: Done 294 tasks      | elapsed:    0.3s\n",
      "[Parallel(n_jobs=15)]: Done 580 tasks      | elapsed:    0.6s\n",
      "[Parallel(n_jobs=15)]: Done 866 tasks      | elapsed:    0.8s\n",
      "[Parallel(n_jobs=15)]: Done 1196 tasks      | elapsed:    1.1s\n",
      "[Parallel(n_jobs=15)]: Done 1526 tasks      | elapsed:    1.3s\n",
      "[Parallel(n_jobs=15)]: Done 1900 tasks      | elapsed:    1.6s\n",
      "[Parallel(n_jobs=15)]: Done 2274 tasks      | elapsed:    1.8s\n",
      "[Parallel(n_jobs=15)]: Done 2692 tasks      | elapsed:    2.2s\n",
      "[Parallel(n_jobs=15)]: Done 3110 tasks      | elapsed:    2.5s\n",
      "[Parallel(n_jobs=15)]: Done 3572 tasks      | elapsed:    2.8s\n",
      "[Parallel(n_jobs=15)]: Done 4034 tasks      | elapsed:    3.1s\n",
      "[Parallel(n_jobs=15)]: Done 4540 tasks      | elapsed:    3.5s\n",
      "[Parallel(n_jobs=15)]: Done 5046 tasks      | elapsed:    3.9s\n",
      "[Parallel(n_jobs=15)]: Done 5849 out of 5849 | elapsed:    4.5s finished\n"
     ]
    },
    {
     "data": {
      "text/plain": [
       "10767649"
      ]
     },
     "execution_count": 48,
     "metadata": {},
     "output_type": "execute_result"
    }
   ],
   "source": [
    "#9.9s on wittgenstein\n",
    "# sum([count_word_tokens_in_call(call_id) for call_id in call_ids])\n",
    "\n",
    "J = 15\n",
    "sum(par(delayed(count_word_tokens_in_call)(call_id) for call_id in call_ids))"
   ]
  },
  {
   "cell_type": "markdown",
   "metadata": {},
   "source": [
    "How many word types are in the main transcripts?"
   ]
  },
  {
   "cell_type": "code",
   "execution_count": 49,
   "metadata": {
    "ExecuteTime": {
     "end_time": "2019-09-05T05:21:35.216460Z",
     "start_time": "2019-09-05T05:21:35.212373Z"
    }
   },
   "outputs": [
    {
     "data": {
      "text/plain": [
       "{0, 1, 2, 3}"
      ]
     },
     "execution_count": 49,
     "metadata": {},
     "output_type": "execute_result"
    }
   ],
   "source": [
    "union = lambda sets: reduce(set.union, sets)\n",
    "\n",
    "union([{0,1},{1,2},{3}])"
   ]
  },
  {
   "cell_type": "code",
   "execution_count": 50,
   "metadata": {
    "ExecuteTime": {
     "end_time": "2019-09-05T05:21:35.221569Z",
     "start_time": "2019-09-05T05:21:35.217726Z"
    }
   },
   "outputs": [],
   "source": [
    "def word_types_in_line(line_rel):\n",
    "    return set(tokenize_speech_in_line(line_rel))\n",
    "\n",
    "def word_types_in_call(call_id):\n",
    "    return union([word_types_in_line(l) for l in get_transcriptions_main(call_id)])"
   ]
  },
  {
   "cell_type": "code",
   "execution_count": 51,
   "metadata": {
    "ExecuteTime": {
     "end_time": "2019-09-05T05:21:44.898474Z",
     "start_time": "2019-09-05T05:21:35.222734Z"
    }
   },
   "outputs": [
    {
     "name": "stderr",
     "output_type": "stream",
     "text": [
      "[Parallel(n_jobs=15)]: Using backend MultiprocessingBackend with 15 concurrent workers.\n",
      "[Parallel(n_jobs=15)]: Batch computation too fast (0.0160s.) Setting batch_size=24.\n",
      "[Parallel(n_jobs=15)]: Done   2 tasks      | elapsed:    0.0s\n",
      "[Parallel(n_jobs=15)]: Done  11 tasks      | elapsed:    0.0s\n",
      "[Parallel(n_jobs=15)]: Done  20 tasks      | elapsed:    0.0s\n",
      "[Parallel(n_jobs=15)]: Done  54 tasks      | elapsed:    0.2s\n",
      "[Parallel(n_jobs=15)]: Batch computation too fast (0.1941s.) Setting batch_size=48.\n",
      "[Parallel(n_jobs=15)]: Done 318 tasks      | elapsed:    0.3s\n",
      "[Parallel(n_jobs=15)]: Done 630 tasks      | elapsed:    0.5s\n",
      "[Parallel(n_jobs=15)]: Done 1134 tasks      | elapsed:    1.0s\n",
      "[Parallel(n_jobs=15)]: Done 1854 tasks      | elapsed:    1.5s\n",
      "[Parallel(n_jobs=15)]: Done 2574 tasks      | elapsed:    1.9s\n",
      "[Parallel(n_jobs=15)]: Done 3390 tasks      | elapsed:    2.5s\n",
      "[Parallel(n_jobs=15)]: Done 4206 tasks      | elapsed:    3.0s\n",
      "[Parallel(n_jobs=15)]: Done 5849 out of 5849 | elapsed:    4.0s finished\n"
     ]
    },
    {
     "data": {
      "text/plain": [
       "44065"
      ]
     },
     "execution_count": 51,
     "metadata": {},
     "output_type": "execute_result"
    }
   ],
   "source": [
    "#20.0s on wittgenstein\n",
    "# vocabulary_main = union([word_types_in_call(c) for c in call_ids])\n",
    "\n",
    "vocabulary_main = union(par(delayed(word_types_in_call)(c) for c in call_ids))\n",
    "len(vocabulary_main)"
   ]
  },
  {
   "cell_type": "code",
   "execution_count": 52,
   "metadata": {
    "ExecuteTime": {
     "end_time": "2019-09-05T05:21:44.906697Z",
     "start_time": "2019-09-05T05:21:44.900145Z"
    }
   },
   "outputs": [
    {
     "data": {
      "text/plain": [
       "['',\n",
       " 'south',\n",
       " 'enjoyment',\n",
       " 'rednecks',\n",
       " 'influx',\n",
       " 'sorcerer',\n",
       " 'glut',\n",
       " 'jackson',\n",
       " 'verify',\n",
       " 'ownership',\n",
       " 'andie',\n",
       " \"kroger's\",\n",
       " 'warehouse',\n",
       " 'aghast',\n",
       " 'feterson',\n",
       " 'flashbacks',\n",
       " 'sunup',\n",
       " 'oceans',\n",
       " \"jeopardy's\",\n",
       " 'guilt',\n",
       " 'heritage',\n",
       " 'whew',\n",
       " 'mocked',\n",
       " 'swooning',\n",
       " 'charitable',\n",
       " 'shortly',\n",
       " \"niece's\",\n",
       " 'seizure',\n",
       " 'quest',\n",
       " 'bundle',\n",
       " 'receptionist',\n",
       " 'enraged',\n",
       " 'tequia',\n",
       " 'nannies',\n",
       " 'unwrapped',\n",
       " 'compromising',\n",
       " 'caledokos',\n",
       " 're-injure',\n",
       " 'rossi',\n",
       " 'chit',\n",
       " 'popularizes',\n",
       " 'distant',\n",
       " 'deprecating',\n",
       " 'savor',\n",
       " 'nonverbal',\n",
       " 'needle',\n",
       " 'linger',\n",
       " 'puck',\n",
       " 'harmful',\n",
       " 'unwell',\n",
       " 'thermo',\n",
       " 'throne',\n",
       " 'lippi',\n",
       " 'alcoholics',\n",
       " 'inaction',\n",
       " 'spinach',\n",
       " 'schlock',\n",
       " 'repellents',\n",
       " 'stay',\n",
       " 'foray',\n",
       " 'locals',\n",
       " 'perfume',\n",
       " 'brunelleschi',\n",
       " 'biofeedback',\n",
       " 'subscribers',\n",
       " \"interviewer's\",\n",
       " 'bent',\n",
       " 'palmdale',\n",
       " 'quail',\n",
       " 'battlenet',\n",
       " 'runny',\n",
       " 'intakes',\n",
       " 'protestant',\n",
       " 're-taped',\n",
       " 'deepens',\n",
       " \"many's\",\n",
       " 'prosecute',\n",
       " 'u._s._s.',\n",
       " 'bams',\n",
       " 'boggled',\n",
       " 'scriptwriters',\n",
       " 'margo',\n",
       " 'commutative',\n",
       " 'vacuums',\n",
       " 'staples',\n",
       " 'humorists',\n",
       " 'whipped',\n",
       " 'counterproductive',\n",
       " 'sweatshirt',\n",
       " 'kato',\n",
       " 'industrialized',\n",
       " 'delta',\n",
       " 'gyler',\n",
       " \"mommies'\",\n",
       " 'enlightening',\n",
       " 'fabricate',\n",
       " 'okra',\n",
       " 'intercity',\n",
       " 'burleigh',\n",
       " \"elementary's\"]"
      ]
     },
     "execution_count": 52,
     "metadata": {},
     "output_type": "execute_result"
    }
   ],
   "source": [
    "list(vocabulary_main)[:100]"
   ]
  },
  {
   "cell_type": "code",
   "execution_count": 53,
   "metadata": {
    "ExecuteTime": {
     "end_time": "2019-09-05T05:21:44.932518Z",
     "start_time": "2019-09-05T05:21:44.908205Z"
    }
   },
   "outputs": [
    {
     "data": {
      "text/plain": [
       "['',\n",
       " \"'and\",\n",
       " \"'berserkly'\",\n",
       " \"'bout\",\n",
       " \"'burb\",\n",
       " \"'burban\",\n",
       " \"'burbs\",\n",
       " \"'cau\",\n",
       " \"'cause\",\n",
       " \"'cept\"]"
      ]
     },
     "execution_count": 53,
     "metadata": {},
     "output_type": "execute_result"
    }
   ],
   "source": [
    "vocabulary_main_alpha = sorted(list(vocabulary_main))\n",
    "vocabulary_main_alpha[:10]"
   ]
  },
  {
   "cell_type": "markdown",
   "metadata": {},
   "source": [
    "I'm going to remove the empty string..."
   ]
  },
  {
   "cell_type": "code",
   "execution_count": 54,
   "metadata": {
    "ExecuteTime": {
     "end_time": "2019-09-05T05:21:44.936800Z",
     "start_time": "2019-09-05T05:21:44.933692Z"
    }
   },
   "outputs": [
    {
     "data": {
      "text/plain": [
       "''"
      ]
     },
     "execution_count": 54,
     "metadata": {},
     "output_type": "execute_result"
    }
   ],
   "source": [
    "vocabulary_main_alpha.pop(0)"
   ]
  },
  {
   "cell_type": "code",
   "execution_count": 55,
   "metadata": {
    "ExecuteTime": {
     "end_time": "2019-09-05T05:21:44.942527Z",
     "start_time": "2019-09-05T05:21:44.938123Z"
    }
   },
   "outputs": [
    {
     "data": {
      "text/plain": [
       "\"'and\""
      ]
     },
     "execution_count": 55,
     "metadata": {},
     "output_type": "execute_result"
    }
   ],
   "source": [
    "vocabulary_main_alpha[0]"
   ]
  },
  {
   "cell_type": "code",
   "execution_count": 56,
   "metadata": {
    "ExecuteTime": {
     "end_time": "2019-09-05T05:21:49.463664Z",
     "start_time": "2019-09-05T05:21:44.943838Z"
    }
   },
   "outputs": [],
   "source": [
    "%%capture\n",
    "#cell magic above suppresses useless output of file.write\n",
    "\n",
    "vocabulary_main_fn = 'fisher_vocabulary_main.txt'\n",
    "\n",
    "vocabulary_main_fp = os.path.join(repo_dir, vocabulary_main_fn)\n",
    "\n",
    "#5.29s on wittgenstein\n",
    "with open(vocabulary_main_fp, 'w') as file:\n",
    "    for w in vocabulary_main_alpha:\n",
    "        file.write(\"{0}\\n\".format(w));"
   ]
  },
  {
   "cell_type": "code",
   "execution_count": 57,
   "metadata": {
    "ExecuteTime": {
     "end_time": "2019-09-05T05:21:49.594744Z",
     "start_time": "2019-09-05T05:21:49.465001Z"
    }
   },
   "outputs": [
    {
     "name": "stdout",
     "output_type": "stream",
     "text": [
      "     1\t'and\r\n",
      "     2\t'berserkly'\r\n",
      "     3\t'bout\r\n",
      "     4\t'burb\r\n",
      "     5\t'burban\r\n",
      "     6\t'burbs\r\n",
      "     7\t'cau\r\n",
      "     8\t'cause\r\n",
      "     9\t'cept\r\n",
      "    10\t'cide\r\n",
      "    11\t'cisco\r\n",
      "    12\t'cize\r\n",
      "    13\t'course\r\n",
      "    14\t'cuse\r\n",
      "    15\t'do\r\n",
      "    16\t'em\r\n",
      "    17\t'em's\r\n",
      "    18\t'ems\r\n",
      "    19\t'everybody's\r\n",
      "    20\t'fess\r\n",
      "cat: write error: Broken pipe\r\n"
     ]
    }
   ],
   "source": [
    "%cat -n /mnt/cube/home/AD/emeinhar/fisher-lm/fisher_vocabulary_main.txt | head -20"
   ]
  },
  {
   "cell_type": "code",
   "execution_count": 58,
   "metadata": {
    "ExecuteTime": {
     "end_time": "2019-09-05T05:21:49.600932Z",
     "start_time": "2019-09-05T05:21:49.596758Z"
    }
   },
   "outputs": [
    {
     "data": {
      "text/plain": [
       "'/mnt/truffle/corpora/fisher_english_transcripts/fe_03_p2_tran/data/trans'"
      ]
     },
     "execution_count": 58,
     "metadata": {},
     "output_type": "execute_result"
    }
   ],
   "source": [
    "os.getcwd()"
   ]
  },
  {
   "cell_type": "markdown",
   "metadata": {},
   "source": [
    "## Naive utterance sequence"
   ]
  },
  {
   "cell_type": "code",
   "execution_count": 59,
   "metadata": {
    "ExecuteTime": {
     "end_time": "2019-09-05T05:21:49.605479Z",
     "start_time": "2019-09-05T05:21:49.602590Z"
    }
   },
   "outputs": [],
   "source": [
    "def get_utterances_from_call(call_id):\n",
    "    return [l['speech'] for l in get_transcriptions_main(call_id)]"
   ]
  },
  {
   "cell_type": "code",
   "execution_count": 60,
   "metadata": {
    "ExecuteTime": {
     "end_time": "2019-09-05T05:21:49.611395Z",
     "start_time": "2019-09-05T05:21:49.606978Z"
    }
   },
   "outputs": [
    {
     "data": {
      "text/plain": [
       "'05851'"
      ]
     },
     "execution_count": 60,
     "metadata": {},
     "output_type": "execute_result"
    }
   ],
   "source": [
    "call_ids[0]"
   ]
  },
  {
   "cell_type": "code",
   "execution_count": 61,
   "metadata": {
    "ExecuteTime": {
     "end_time": "2019-09-05T05:21:49.629224Z",
     "start_time": "2019-09-05T05:21:49.612742Z"
    }
   },
   "outputs": [
    {
     "data": {
      "text/plain": [
       "['i mean no money is very important definitely and a million dollars is a dream come true for me i mean',\n",
       " 'i can actually imagine the kind of things i can buy',\n",
       " 'yeah',\n",
       " 'travel and do whatever i want to in life but then again',\n",
       " 'i just',\n",
       " \"can't i mean stop talking to my best friend that's like\",\n",
       " \"i can't do that i mean i've been so close to her\",\n",
       " 'she has been my friend since my school days',\n",
       " 'so i share almost everything with her',\n",
       " 'mhm <rem>']"
      ]
     },
     "execution_count": 61,
     "metadata": {},
     "output_type": "execute_result"
    }
   ],
   "source": [
    "get_utterances_from_call('05851')[:10]"
   ]
  },
  {
   "cell_type": "code",
   "execution_count": 62,
   "metadata": {
    "ExecuteTime": {
     "end_time": "2019-09-05T05:22:00.320673Z",
     "start_time": "2019-09-05T05:21:49.630699Z"
    }
   },
   "outputs": [
    {
     "name": "stderr",
     "output_type": "stream",
     "text": [
      "[Parallel(n_jobs=15)]: Using backend MultiprocessingBackend with 15 concurrent workers.\n",
      "[Parallel(n_jobs=15)]: Batch computation too fast (0.0107s.) Setting batch_size=36.\n",
      "[Parallel(n_jobs=15)]: Done   2 tasks      | elapsed:    0.0s\n",
      "[Parallel(n_jobs=15)]: Done  11 tasks      | elapsed:    0.0s\n",
      "[Parallel(n_jobs=15)]: Done  20 tasks      | elapsed:    0.0s\n",
      "[Parallel(n_jobs=15)]: Done  66 tasks      | elapsed:    0.3s\n",
      "[Parallel(n_jobs=15)]: Done 462 tasks      | elapsed:    0.3s\n",
      "[Parallel(n_jobs=15)]: Done 930 tasks      | elapsed:    0.7s\n",
      "[Parallel(n_jobs=15)]: Done 1398 tasks      | elapsed:    1.0s\n",
      "[Parallel(n_jobs=15)]: Done 1938 tasks      | elapsed:    1.3s\n",
      "[Parallel(n_jobs=15)]: Done 2478 tasks      | elapsed:    1.6s\n",
      "[Parallel(n_jobs=15)]: Done 3090 tasks      | elapsed:    1.9s\n",
      "[Parallel(n_jobs=15)]: Done 3702 tasks      | elapsed:    2.3s\n",
      "[Parallel(n_jobs=15)]: Done 4386 tasks      | elapsed:    2.7s\n",
      "[Parallel(n_jobs=15)]: Done 5849 out of 5849 | elapsed:    3.5s finished\n",
      "[Parallel(n_jobs=15)]: Using backend MultiprocessingBackend with 15 concurrent workers.\n",
      "[Parallel(n_jobs=15)]: Batch computation too fast (0.0034s.) Setting batch_size=116.\n",
      "[Parallel(n_jobs=15)]: Done   2 tasks      | elapsed:    0.0s\n",
      "[Parallel(n_jobs=15)]: Done  11 tasks      | elapsed:    0.0s\n",
      "[Parallel(n_jobs=15)]: Done  20 tasks      | elapsed:    0.0s\n",
      "[Parallel(n_jobs=15)]: Done 146 tasks      | elapsed:    0.0s\n",
      "[Parallel(n_jobs=15)]: Batch computation too fast (0.0153s.) Setting batch_size=3026.\n",
      "[Parallel(n_jobs=15)]: Done 1422 tasks      | elapsed:    0.1s\n",
      "[Parallel(n_jobs=15)]: Done 2930 tasks      | elapsed:    0.4s\n",
      "[Parallel(n_jobs=15)]: Done 27718 tasks      | elapsed:    0.6s\n",
      "[Parallel(n_jobs=15)]: Done 73108 tasks      | elapsed:    0.9s\n",
      "[Parallel(n_jobs=15)]: Done 118498 tasks      | elapsed:    1.1s\n",
      "[Parallel(n_jobs=15)]: Done 169940 tasks      | elapsed:    1.3s\n",
      "[Parallel(n_jobs=15)]: Done 221382 tasks      | elapsed:    1.7s\n",
      "[Parallel(n_jobs=15)]: Done 278876 tasks      | elapsed:    2.0s\n",
      "[Parallel(n_jobs=15)]: Done 336370 tasks      | elapsed:    2.3s\n",
      "[Parallel(n_jobs=15)]: Done 399916 tasks      | elapsed:    2.7s\n",
      "[Parallel(n_jobs=15)]: Done 463462 tasks      | elapsed:    3.1s\n",
      "[Parallel(n_jobs=15)]: Done 533060 tasks      | elapsed:    3.6s\n",
      "[Parallel(n_jobs=15)]: Done 602658 tasks      | elapsed:    4.0s\n",
      "[Parallel(n_jobs=15)]: Done 678308 tasks      | elapsed:    4.5s\n",
      "[Parallel(n_jobs=15)]: Done 753958 tasks      | elapsed:    5.1s\n",
      "[Parallel(n_jobs=15)]: Done 835660 tasks      | elapsed:    5.5s\n",
      "[Parallel(n_jobs=15)]: Done 917362 tasks      | elapsed:    5.9s\n",
      "[Parallel(n_jobs=15)]: Done 1005116 tasks      | elapsed:    6.5s\n",
      "[Parallel(n_jobs=15)]: Done 1113586 out of 1113586 | elapsed:    6.6s finished\n"
     ]
    },
    {
     "data": {
      "text/plain": [
       "1113586"
      ]
     },
     "execution_count": 62,
     "metadata": {},
     "output_type": "execute_result"
    }
   ],
   "source": [
    "#44.2s on wittgenstein\n",
    "# utterances_main = []\n",
    "# for c in call_ids:\n",
    "#     utterances_main.extend( get_utterances_from_call(c) )\n",
    "# len(utterances_main)\n",
    "\n",
    "# utterances_main = [utt for c in call_ids for utt in get_utterances_from_call(c)]\n",
    "\n",
    "#15s\n",
    "def identity(x):\n",
    "    return x\n",
    "utt_lists = par(delayed(get_utterances_from_call)(c) for c in call_ids)\n",
    "utterances_main_par = par(delayed(identity)(utt) for ul in utt_lists for utt in ul)\n",
    "utterances_main = utterances_main_par\n",
    "len(utterances_main)"
   ]
  },
  {
   "cell_type": "code",
   "execution_count": 63,
   "metadata": {
    "ExecuteTime": {
     "end_time": "2019-09-05T05:22:00.326510Z",
     "start_time": "2019-09-05T05:22:00.322648Z"
    }
   },
   "outputs": [
    {
     "data": {
      "text/plain": [
       "'i mean no money is very important definitely and a million dollars is a dream come true for me i mean'"
      ]
     },
     "execution_count": 63,
     "metadata": {},
     "output_type": "execute_result"
    }
   ],
   "source": [
    "utterances_main_par[0]"
   ]
  },
  {
   "cell_type": "code",
   "execution_count": 64,
   "metadata": {
    "ExecuteTime": {
     "end_time": "2019-09-05T05:22:00.391970Z",
     "start_time": "2019-09-05T05:22:00.327925Z"
    }
   },
   "outputs": [
    {
     "data": {
      "text/plain": [
       "True"
      ]
     },
     "execution_count": 64,
     "metadata": {},
     "output_type": "execute_result"
    },
    {
     "data": {
      "text/plain": [
       "35773"
      ]
     },
     "execution_count": 64,
     "metadata": {},
     "output_type": "execute_result"
    }
   ],
   "source": [
    "'' in utterances_main_par\n",
    "len([u for u in utterances_main_par if u == ''])"
   ]
  },
  {
   "cell_type": "markdown",
   "metadata": {},
   "source": [
    "Utterances whose `speech` field is an empty line represent utterances that are only non-speech sounds (e.g. `[LAUGHTER]`) or words that the transcriber could not guess. Because this is the input to kenlm, we don't want these blank lines in the file."
   ]
  },
  {
   "cell_type": "code",
   "execution_count": 65,
   "metadata": {
    "ExecuteTime": {
     "end_time": "2019-09-05T05:22:00.497793Z",
     "start_time": "2019-09-05T05:22:00.393668Z"
    }
   },
   "outputs": [
    {
     "data": {
      "text/plain": [
       "35773"
      ]
     },
     "execution_count": 65,
     "metadata": {},
     "output_type": "execute_result"
    }
   ],
   "source": [
    "utterances_main = list(filter(lambda u: u != '',\n",
    "                              utterances_main))\n",
    "len(utterances_main_par) - len(utterances_main)"
   ]
  },
  {
   "cell_type": "code",
   "execution_count": 66,
   "metadata": {
    "ExecuteTime": {
     "end_time": "2019-09-05T05:22:00.504109Z",
     "start_time": "2019-09-05T05:22:00.499733Z"
    }
   },
   "outputs": [
    {
     "data": {
      "text/plain": [
       "'/mnt/truffle/corpora/fisher_english_transcripts/fe_03_p2_tran/data/trans'"
      ]
     },
     "execution_count": 66,
     "metadata": {},
     "output_type": "execute_result"
    }
   ],
   "source": [
    "%pwd"
   ]
  },
  {
   "cell_type": "code",
   "execution_count": 67,
   "metadata": {
    "ExecuteTime": {
     "end_time": "2019-09-05T05:22:00.509206Z",
     "start_time": "2019-09-05T05:22:00.505703Z"
    }
   },
   "outputs": [
    {
     "data": {
      "text/plain": [
       "'/mnt/cube/home/AD/emeinhar/fisher-lm'"
      ]
     },
     "execution_count": 67,
     "metadata": {},
     "output_type": "execute_result"
    }
   ],
   "source": [
    "repo_dir"
   ]
  },
  {
   "cell_type": "code",
   "execution_count": 68,
   "metadata": {
    "ExecuteTime": {
     "end_time": "2019-09-05T05:22:01.314641Z",
     "start_time": "2019-09-05T05:22:00.510694Z"
    }
   },
   "outputs": [],
   "source": [
    "%%capture\n",
    "#cell magic above suppresses useless output of file.write\n",
    "\n",
    "fisher_utterances_main_fn = 'fisher_utterances_main.txt'\n",
    "\n",
    "fisher_utterances_main_path = os.path.join(repo_dir, fisher_utterances_main_fn)\n",
    "\n",
    "\n",
    "with open(fisher_utterances_main_path, 'w') as file:\n",
    "    #write all lines at once using writelines and this takes <1s\n",
    "    utterances_w_linebreaks = list(map(lambda l: l + \"\\n\", utterances_main))\n",
    "    file.writelines(utterances_w_linebreaks)\n",
    "\n",
    "    #if someone else is using the machine heavily doing other things, this can take upwards of 2ms\n",
    "#     for utterance in utterances_main:\n",
    "#         file.write(\"{0}\\n\".format(utterance));"
   ]
  },
  {
   "cell_type": "code",
   "execution_count": 69,
   "metadata": {
    "ExecuteTime": {
     "end_time": "2019-09-05T05:22:01.518012Z",
     "start_time": "2019-09-05T05:22:01.378745Z"
    }
   },
   "outputs": [
    {
     "name": "stdout",
     "output_type": "stream",
     "text": [
      "     1\ti mean no money is very important definitely and a million dollars is a dream come true for me i mean\r\n",
      "     2\ti can actually imagine the kind of things i can buy\r\n",
      "     3\tyeah\r\n",
      "     4\ttravel and do whatever i want to in life but then again\r\n",
      "     5\ti just\r\n",
      "     6\tcan't i mean stop talking to my best friend that's like\r\n",
      "     7\ti can't do that i mean i've been so close to her\r\n",
      "     8\tshe has been my friend since my school days\r\n",
      "     9\tso i share almost everything with her\r\n",
      "    10\tmhm <rem>\r\n",
      "    11\twhatever problems whatever successes that i've faced in life i mean everything i have to share with her\r\n",
      "    12\tand they know so much about you and\r\n",
      "    13\tyeah i know\r\n",
      "    14\teverything i mean any little problem any little\r\n",
      "    15\tthing that you have in your life you can always go and talk to her about it\r\n",
      "    16\tmhm\r\n",
      "    17\treally nice it really feels nice you know you can share your burdens with her your joys with her your sorrows with her\r\n",
      "    18\tseriously money is definitely important but <rem> but then\r\n",
      "    19\ti don't think its that important right\r\n",
      "    20\tmhm\r\n",
      "cat: write error: Broken pipe\r\n"
     ]
    }
   ],
   "source": [
    "%cat -n /mnt/cube/home/AD/emeinhar/fisher-lm/fisher_utterances_main.txt | head -20"
   ]
  },
  {
   "cell_type": "markdown",
   "metadata": {},
   "source": [
    "## All transcriptions"
   ]
  },
  {
   "cell_type": "code",
   "execution_count": 70,
   "metadata": {
    "ExecuteTime": {
     "end_time": "2019-09-05T05:22:01.528158Z",
     "start_time": "2019-09-05T05:22:01.523726Z"
    }
   },
   "outputs": [
    {
     "data": {
      "text/plain": [
       "[{'filename': 'fe_03_05851.txt',\n",
       "  'call_id': '05851',\n",
       "  'location': '/mnt/truffle/corpora/fisher_english_transcripts/fe_03_p2_tran/data/trans/058/fe_03_05851.txt'},\n",
       " {'filename': 'fe_03_05852.txt',\n",
       "  'call_id': '05852',\n",
       "  'location': '/mnt/truffle/corpora/fisher_english_transcripts/fe_03_p2_tran/data/trans/058/fe_03_05852.txt'},\n",
       " {'filename': 'fe_03_05853.txt',\n",
       "  'call_id': '05853',\n",
       "  'location': '/mnt/truffle/corpora/fisher_english_transcripts/fe_03_p2_tran/data/trans/058/fe_03_05853.txt'}]"
      ]
     },
     "execution_count": 70,
     "metadata": {},
     "output_type": "execute_result"
    }
   ],
   "source": [
    "main_call_relation[:3]"
   ]
  },
  {
   "cell_type": "code",
   "execution_count": 71,
   "metadata": {
    "ExecuteTime": {
     "end_time": "2019-09-05T05:22:01.533239Z",
     "start_time": "2019-09-05T05:22:01.529283Z"
    }
   },
   "outputs": [
    {
     "data": {
      "text/plain": [
       "'05851'"
      ]
     },
     "execution_count": 71,
     "metadata": {},
     "output_type": "execute_result"
    }
   ],
   "source": [
    "call_ids[0]"
   ]
  },
  {
   "cell_type": "code",
   "execution_count": 72,
   "metadata": {
    "ExecuteTime": {
     "end_time": "2019-09-05T05:22:01.551636Z",
     "start_time": "2019-09-05T05:22:01.534408Z"
    }
   },
   "outputs": [
    {
     "data": {
      "text/plain": [
       "[{'start': 56.38,\n",
       "  'end': 61.03,\n",
       "  'duration': 4.65,\n",
       "  'speaker': 'A',\n",
       "  'speech_raw': 'i mean no money is very important definitely and a million dollars is a dream come true for me i mean',\n",
       "  'speech': 'i mean no money is very important definitely and a million dollars is a dream come true for me i mean'},\n",
       " {'start': 61.19,\n",
       "  'end': 64.71,\n",
       "  'duration': 3.52,\n",
       "  'speaker': 'A',\n",
       "  'speech_raw': 'i can actually imagine the kind of things i can buy',\n",
       "  'speech': 'i can actually imagine the kind of things i can buy'},\n",
       " {'start': 64.41,\n",
       "  'end': 65.38,\n",
       "  'duration': 0.97,\n",
       "  'speaker': 'B',\n",
       "  'speech_raw': 'yeah',\n",
       "  'speech': 'yeah'}]"
      ]
     },
     "execution_count": 72,
     "metadata": {},
     "output_type": "execute_result"
    }
   ],
   "source": [
    "get_transcriptions_main('05851')[:3]"
   ]
  },
  {
   "cell_type": "code",
   "execution_count": 73,
   "metadata": {
    "ExecuteTime": {
     "end_time": "2019-09-05T05:22:01.557231Z",
     "start_time": "2019-09-05T05:22:01.552767Z"
    }
   },
   "outputs": [],
   "source": [
    "def dictionary_product(dictA, dictB):\n",
    "    '''\n",
    "    Given two dictionaries dictA and dictB, this non-statefully \n",
    "    creates a 'merged' dictionary.\n",
    "    \n",
    "    Note that dictA and dictB must either have disjoint keys,\n",
    "    or every key they share must map to the same value.\n",
    "    '''\n",
    "    keys_A = set(dictA.keys())\n",
    "    keys_B = set(dictB.keys())\n",
    "    common_keys = set(keys_A) & set(keys_B)\n",
    "    conflicting_common_keys = {k for k in common_keys if dictA[k] != dictB[k]}\n",
    "    assert conflicting_common_keys == set(), 'The dictionaries must have either zero common keys, or all common keys must map to the same value. Conflicting common keys: {0}'.format(conflicting_common_keys)\n",
    "#     assert common_keys == set(), 'The dictionaries must have no common keys. They share {0}'.format(common_keys)\n",
    "    \n",
    "    dictC = dict()\n",
    "    dictC.update({k:dictA[k] for k in keys_A})\n",
    "    dictC.update({k:dictB[k] for k in keys_B})\n",
    "    return dictC"
   ]
  },
  {
   "cell_type": "code",
   "execution_count": 74,
   "metadata": {
    "ExecuteTime": {
     "end_time": "2019-09-05T05:22:01.563434Z",
     "start_time": "2019-09-05T05:22:01.558421Z"
    }
   },
   "outputs": [
    {
     "data": {
      "text/plain": [
       "{'filename': 'fe_03_05851.txt',\n",
       " 'call_id': '05851',\n",
       " 'location': '/mnt/truffle/corpora/fisher_english_transcripts/fe_03_p2_tran/data/trans/058/fe_03_05851.txt'}"
      ]
     },
     "execution_count": 74,
     "metadata": {},
     "output_type": "execute_result"
    }
   ],
   "source": [
    "main_call_relation[0]"
   ]
  },
  {
   "cell_type": "code",
   "execution_count": 75,
   "metadata": {
    "ExecuteTime": {
     "end_time": "2019-09-05T05:22:06.168709Z",
     "start_time": "2019-09-05T05:22:01.564661Z"
    }
   },
   "outputs": [
    {
     "name": "stderr",
     "output_type": "stream",
     "text": [
      "[Parallel(n_jobs=15)]: Using backend MultiprocessingBackend with 15 concurrent workers.\n",
      "[Parallel(n_jobs=15)]: Batch computation too fast (0.0127s.) Setting batch_size=30.\n",
      "[Parallel(n_jobs=15)]: Done   2 tasks      | elapsed:    0.0s\n",
      "[Parallel(n_jobs=15)]: Done  11 tasks      | elapsed:    0.0s\n",
      "[Parallel(n_jobs=15)]: Done  20 tasks      | elapsed:    0.0s\n",
      "[Parallel(n_jobs=15)]: Done  60 tasks      | elapsed:    0.3s\n",
      "[Parallel(n_jobs=15)]: Done 390 tasks      | elapsed:    0.4s\n",
      "[Parallel(n_jobs=15)]: Done 780 tasks      | elapsed:    0.7s\n",
      "[Parallel(n_jobs=15)]: Done 1170 tasks      | elapsed:    1.0s\n",
      "[Parallel(n_jobs=15)]: Done 1620 tasks      | elapsed:    1.3s\n",
      "[Parallel(n_jobs=15)]: Done 2070 tasks      | elapsed:    1.6s\n",
      "[Parallel(n_jobs=15)]: Done 2580 tasks      | elapsed:    2.0s\n",
      "[Parallel(n_jobs=15)]: Done 3090 tasks      | elapsed:    2.3s\n",
      "[Parallel(n_jobs=15)]: Done 3660 tasks      | elapsed:    2.7s\n",
      "[Parallel(n_jobs=15)]: Done 4230 tasks      | elapsed:    3.1s\n",
      "[Parallel(n_jobs=15)]: Done 4860 tasks      | elapsed:    3.5s\n",
      "[Parallel(n_jobs=15)]: Done 5849 out of 5849 | elapsed:    4.1s finished\n"
     ]
    }
   ],
   "source": [
    "#46s on wittgenstein\n",
    "# main_transcription_relation = [dictionary_product(transcription_relation, call_relation)\n",
    "#                                for call_relation in main_call_relation\n",
    "#                                  for transcription_relation in get_transcriptions_main(call_relation['call_id'])]\n",
    "\n",
    "# from itertools import chain\n",
    "\n",
    "def get_transcription_relation_for(call_rel):\n",
    "#     return par(delayed(dictionary_product)(transcription_relation, call_rel)\n",
    "#                for transcription_relation in get_transcriptions_main(call_rel['call_id']))\n",
    "    return [dictionary_product(transcription_relation, call_rel)\n",
    "           for transcription_relation in get_transcriptions_main(call_rel['call_id'])]\n",
    "\n",
    "#4.5s\n",
    "main_transcription_relation_par = list(chain.from_iterable(par(delayed(get_transcription_relation_for)(call_relation)\n",
    "                                                               for call_relation in main_call_relation)))\n",
    "main_transcription_relation = main_transcription_relation_par"
   ]
  },
  {
   "cell_type": "code",
   "execution_count": 76,
   "metadata": {
    "ExecuteTime": {
     "end_time": "2019-09-05T05:22:06.173155Z",
     "start_time": "2019-09-05T05:22:06.169960Z"
    }
   },
   "outputs": [
    {
     "data": {
      "text/plain": [
       "1113586"
      ]
     },
     "execution_count": 76,
     "metadata": {},
     "output_type": "execute_result"
    }
   ],
   "source": [
    "len(main_transcription_relation)"
   ]
  },
  {
   "cell_type": "code",
   "execution_count": 77,
   "metadata": {
    "ExecuteTime": {
     "end_time": "2019-09-05T05:22:06.179521Z",
     "start_time": "2019-09-05T05:22:06.174322Z"
    }
   },
   "outputs": [
    {
     "data": {
      "text/plain": [
       "[{'speech_raw': 'i mean no money is very important definitely and a million dollars is a dream come true for me i mean',\n",
       "  'duration': 4.65,\n",
       "  'speech': 'i mean no money is very important definitely and a million dollars is a dream come true for me i mean',\n",
       "  'speaker': 'A',\n",
       "  'start': 56.38,\n",
       "  'end': 61.03,\n",
       "  'call_id': '05851',\n",
       "  'filename': 'fe_03_05851.txt',\n",
       "  'location': '/mnt/truffle/corpora/fisher_english_transcripts/fe_03_p2_tran/data/trans/058/fe_03_05851.txt'},\n",
       " {'speech_raw': 'i can actually imagine the kind of things i can buy',\n",
       "  'duration': 3.52,\n",
       "  'speech': 'i can actually imagine the kind of things i can buy',\n",
       "  'speaker': 'A',\n",
       "  'start': 61.19,\n",
       "  'end': 64.71,\n",
       "  'call_id': '05851',\n",
       "  'filename': 'fe_03_05851.txt',\n",
       "  'location': '/mnt/truffle/corpora/fisher_english_transcripts/fe_03_p2_tran/data/trans/058/fe_03_05851.txt'},\n",
       " {'speech_raw': 'yeah',\n",
       "  'duration': 0.97,\n",
       "  'speech': 'yeah',\n",
       "  'speaker': 'B',\n",
       "  'start': 64.41,\n",
       "  'end': 65.38,\n",
       "  'call_id': '05851',\n",
       "  'filename': 'fe_03_05851.txt',\n",
       "  'location': '/mnt/truffle/corpora/fisher_english_transcripts/fe_03_p2_tran/data/trans/058/fe_03_05851.txt'},\n",
       " {'speech_raw': 'travel and do whatever i want to in life but then again',\n",
       "  'duration': 3.57,\n",
       "  'speech': 'travel and do whatever i want to in life but then again',\n",
       "  'speaker': 'A',\n",
       "  'start': 65.57,\n",
       "  'end': 69.14,\n",
       "  'call_id': '05851',\n",
       "  'filename': 'fe_03_05851.txt',\n",
       "  'location': '/mnt/truffle/corpora/fisher_english_transcripts/fe_03_p2_tran/data/trans/058/fe_03_05851.txt'},\n",
       " {'speech_raw': 'i just',\n",
       "  'duration': 0.52,\n",
       "  'speech': 'i just',\n",
       "  'speaker': 'A',\n",
       "  'start': 69.61,\n",
       "  'end': 70.13,\n",
       "  'call_id': '05851',\n",
       "  'filename': 'fe_03_05851.txt',\n",
       "  'location': '/mnt/truffle/corpora/fisher_english_transcripts/fe_03_p2_tran/data/trans/058/fe_03_05851.txt'}]"
      ]
     },
     "execution_count": 77,
     "metadata": {},
     "output_type": "execute_result"
    }
   ],
   "source": [
    "main_transcription_relation[:5]"
   ]
  },
  {
   "cell_type": "code",
   "execution_count": 78,
   "metadata": {
    "ExecuteTime": {
     "end_time": "2019-09-05T05:22:06.336413Z",
     "start_time": "2019-09-05T05:22:06.181086Z"
    }
   },
   "outputs": [
    {
     "data": {
      "text/plain": [
       "1113586"
      ]
     },
     "execution_count": 78,
     "metadata": {},
     "output_type": "execute_result"
    },
    {
     "data": {
      "text/plain": [
       "35773"
      ]
     },
     "execution_count": 78,
     "metadata": {},
     "output_type": "execute_result"
    },
    {
     "data": {
      "text/plain": [
       "0"
      ]
     },
     "execution_count": 78,
     "metadata": {},
     "output_type": "execute_result"
    }
   ],
   "source": [
    "len(main_transcription_relation)\n",
    "empty_speech = [r for r in main_transcription_relation if r['speech'] == '']\n",
    "len(empty_speech)\n",
    "also_empty_raw_speech = [r for r in empty_speech if r['speech_raw'] == '']\n",
    "len(also_empty_raw_speech)"
   ]
  },
  {
   "cell_type": "code",
   "execution_count": 79,
   "metadata": {
    "ExecuteTime": {
     "end_time": "2019-09-05T05:22:26.013008Z",
     "start_time": "2019-09-05T05:22:06.338187Z"
    }
   },
   "outputs": [],
   "source": [
    "# import json\n",
    "\n",
    "fisher_utterances_relation_main_fn = 'fisher_utterances_relation_main.json'\n",
    "\n",
    "fisher_utterances_relation_main_path = os.path.join(repo_dir, fisher_utterances_relation_main_fn)\n",
    "\n",
    "#22.2s on wittgenstein\n",
    "with open(fisher_utterances_relation_main_path, 'w', encoding='utf8') as json_file:\n",
    "    json.dump(main_transcription_relation, json_file, indent=1, ensure_ascii=False)"
   ]
  },
  {
   "cell_type": "code",
   "execution_count": 80,
   "metadata": {
    "ExecuteTime": {
     "end_time": "2019-09-05T05:22:26.190853Z",
     "start_time": "2019-09-05T05:22:26.014720Z"
    }
   },
   "outputs": [
    {
     "name": "stdout",
     "output_type": "stream",
     "text": [
      "     1\t[\r\n",
      "     2\t {\r\n",
      "     3\t  \"speech_raw\": \"i mean no money is very important definitely and a million dollars is a dream come true for me i mean\",\r\n",
      "     4\t  \"duration\": 4.65,\r\n",
      "     5\t  \"speech\": \"i mean no money is very important definitely and a million dollars is a dream come true for me i mean\",\r\n",
      "     6\t  \"speaker\": \"A\",\r\n",
      "     7\t  \"start\": 56.38,\r\n",
      "     8\t  \"end\": 61.03,\r\n",
      "     9\t  \"call_id\": \"05851\",\r\n",
      "    10\t  \"filename\": \"fe_03_05851.txt\",\r\n",
      "    11\t  \"location\": \"/mnt/truffle/corpora/fisher_english_transcripts/fe_03_p2_tran/data/trans/058/fe_03_05851.txt\"\r\n",
      "    12\t },\r\n",
      "    13\t {\r\n",
      "    14\t  \"speech_raw\": \"i can actually imagine the kind of things i can buy\",\r\n",
      "    15\t  \"duration\": 3.52,\r\n",
      "    16\t  \"speech\": \"i can actually imagine the kind of things i can buy\",\r\n",
      "    17\t  \"speaker\": \"A\",\r\n",
      "    18\t  \"start\": 61.19,\r\n",
      "    19\t  \"end\": 64.71,\r\n",
      "    20\t  \"call_id\": \"05851\",\r\n",
      "cat: write error: Broken pipe\r\n"
     ]
    }
   ],
   "source": [
    "%cat -n /mnt/cube/home/AD/emeinhar/fisher-lm/fisher_utterances_relation_main.json | head -20"
   ]
  },
  {
   "cell_type": "markdown",
   "metadata": {},
   "source": [
    "## Utterance statistics"
   ]
  },
  {
   "cell_type": "markdown",
   "metadata": {},
   "source": [
    "What is the distribution over\n",
    " - time til onset of the next utterance (if available)\n",
    " - utterance duration in s\n",
    " - utterance duration in orthographic wordforms?"
   ]
  },
  {
   "cell_type": "markdown",
   "metadata": {},
   "source": [
    "Note that we don't want 'utterances' with a blank `speech` field to contribute to these statistics."
   ]
  },
  {
   "cell_type": "code",
   "execution_count": 81,
   "metadata": {
    "ExecuteTime": {
     "end_time": "2019-09-05T05:22:26.421792Z",
     "start_time": "2019-09-05T05:22:26.193053Z"
    }
   },
   "outputs": [
    {
     "data": {
      "text/plain": [
       "1077813"
      ]
     },
     "execution_count": 81,
     "metadata": {},
     "output_type": "execute_result"
    }
   ],
   "source": [
    "utterance_durations = [utt['duration'] for utt in main_transcription_relation if utt['speech'] != '']\n",
    "len(utterance_durations)"
   ]
  },
  {
   "cell_type": "code",
   "execution_count": 82,
   "metadata": {
    "ExecuteTime": {
     "end_time": "2019-09-05T05:22:26.980461Z",
     "start_time": "2019-09-05T05:22:26.423018Z"
    }
   },
   "outputs": [
    {
     "data": {
      "text/plain": [
       "1077813"
      ]
     },
     "execution_count": 82,
     "metadata": {},
     "output_type": "execute_result"
    }
   ],
   "source": [
    "utterance_lengths = [len(utt['speech'].split(' ')) for utt in main_transcription_relation if utt['speech'] != '']\n",
    "len(utterance_lengths)"
   ]
  },
  {
   "cell_type": "code",
   "execution_count": 83,
   "metadata": {
    "ExecuteTime": {
     "end_time": "2019-09-05T05:23:25.512927Z",
     "start_time": "2019-09-05T05:22:26.981750Z"
    }
   },
   "outputs": [
    {
     "name": "stderr",
     "output_type": "stream",
     "text": [
      "[Parallel(n_jobs=15)]: Using backend MultiprocessingBackend with 15 concurrent workers.\n",
      "[Parallel(n_jobs=15)]: Done   2 tasks      | elapsed:    0.2s\n",
      "[Parallel(n_jobs=15)]: Done  11 tasks      | elapsed:    0.3s\n",
      "[Parallel(n_jobs=15)]: Done  20 tasks      | elapsed:    0.4s\n",
      "[Parallel(n_jobs=15)]: Done  31 tasks      | elapsed:    0.5s\n",
      "[Parallel(n_jobs=15)]: Done  42 tasks      | elapsed:    0.6s\n",
      "[Parallel(n_jobs=15)]: Done  55 tasks      | elapsed:    0.7s\n",
      "[Parallel(n_jobs=15)]: Done  68 tasks      | elapsed:    0.8s\n",
      "[Parallel(n_jobs=15)]: Done  83 tasks      | elapsed:    1.0s\n",
      "[Parallel(n_jobs=15)]: Done  98 tasks      | elapsed:    1.1s\n",
      "[Parallel(n_jobs=15)]: Done 115 tasks      | elapsed:    1.3s\n",
      "[Parallel(n_jobs=15)]: Done 132 tasks      | elapsed:    1.4s\n",
      "[Parallel(n_jobs=15)]: Done 151 tasks      | elapsed:    1.6s\n",
      "[Parallel(n_jobs=15)]: Done 170 tasks      | elapsed:    1.8s\n",
      "[Parallel(n_jobs=15)]: Done 191 tasks      | elapsed:    2.0s\n",
      "[Parallel(n_jobs=15)]: Done 212 tasks      | elapsed:    2.2s\n",
      "[Parallel(n_jobs=15)]: Done 235 tasks      | elapsed:    2.4s\n",
      "[Parallel(n_jobs=15)]: Done 258 tasks      | elapsed:    2.7s\n",
      "[Parallel(n_jobs=15)]: Done 283 tasks      | elapsed:    2.9s\n",
      "[Parallel(n_jobs=15)]: Done 308 tasks      | elapsed:    3.2s\n",
      "[Parallel(n_jobs=15)]: Done 335 tasks      | elapsed:    3.4s\n",
      "[Parallel(n_jobs=15)]: Done 362 tasks      | elapsed:    3.7s\n",
      "[Parallel(n_jobs=15)]: Done 391 tasks      | elapsed:    4.0s\n",
      "[Parallel(n_jobs=15)]: Done 420 tasks      | elapsed:    4.3s\n",
      "[Parallel(n_jobs=15)]: Done 451 tasks      | elapsed:    4.6s\n",
      "[Parallel(n_jobs=15)]: Done 482 tasks      | elapsed:    4.9s\n",
      "[Parallel(n_jobs=15)]: Done 515 tasks      | elapsed:    5.2s\n",
      "[Parallel(n_jobs=15)]: Done 548 tasks      | elapsed:    5.5s\n",
      "[Parallel(n_jobs=15)]: Done 583 tasks      | elapsed:    5.9s\n",
      "[Parallel(n_jobs=15)]: Done 618 tasks      | elapsed:    6.2s\n",
      "[Parallel(n_jobs=15)]: Done 655 tasks      | elapsed:    6.5s\n",
      "[Parallel(n_jobs=15)]: Done 692 tasks      | elapsed:    6.9s\n",
      "[Parallel(n_jobs=15)]: Done 731 tasks      | elapsed:    7.3s\n",
      "[Parallel(n_jobs=15)]: Done 770 tasks      | elapsed:    7.7s\n",
      "[Parallel(n_jobs=15)]: Done 811 tasks      | elapsed:    8.0s\n",
      "[Parallel(n_jobs=15)]: Done 852 tasks      | elapsed:    8.4s\n",
      "[Parallel(n_jobs=15)]: Done 895 tasks      | elapsed:    8.8s\n",
      "[Parallel(n_jobs=15)]: Done 938 tasks      | elapsed:    9.2s\n",
      "[Parallel(n_jobs=15)]: Done 983 tasks      | elapsed:    9.7s\n",
      "[Parallel(n_jobs=15)]: Done 1028 tasks      | elapsed:   10.1s\n",
      "[Parallel(n_jobs=15)]: Done 1075 tasks      | elapsed:   10.5s\n",
      "[Parallel(n_jobs=15)]: Done 1122 tasks      | elapsed:   11.0s\n",
      "[Parallel(n_jobs=15)]: Done 1171 tasks      | elapsed:   11.5s\n",
      "[Parallel(n_jobs=15)]: Done 1220 tasks      | elapsed:   12.0s\n",
      "[Parallel(n_jobs=15)]: Done 1271 tasks      | elapsed:   12.5s\n",
      "[Parallel(n_jobs=15)]: Done 1322 tasks      | elapsed:   13.0s\n",
      "[Parallel(n_jobs=15)]: Done 1375 tasks      | elapsed:   13.5s\n",
      "[Parallel(n_jobs=15)]: Done 1428 tasks      | elapsed:   14.1s\n",
      "[Parallel(n_jobs=15)]: Done 1483 tasks      | elapsed:   14.6s\n",
      "[Parallel(n_jobs=15)]: Done 1538 tasks      | elapsed:   15.2s\n",
      "[Parallel(n_jobs=15)]: Done 1595 tasks      | elapsed:   15.8s\n",
      "[Parallel(n_jobs=15)]: Done 1652 tasks      | elapsed:   16.3s\n",
      "[Parallel(n_jobs=15)]: Done 1711 tasks      | elapsed:   16.9s\n",
      "[Parallel(n_jobs=15)]: Done 1770 tasks      | elapsed:   17.4s\n",
      "[Parallel(n_jobs=15)]: Done 1831 tasks      | elapsed:   18.0s\n",
      "[Parallel(n_jobs=15)]: Done 1892 tasks      | elapsed:   18.6s\n",
      "[Parallel(n_jobs=15)]: Done 1955 tasks      | elapsed:   19.2s\n",
      "[Parallel(n_jobs=15)]: Done 2018 tasks      | elapsed:   19.8s\n",
      "[Parallel(n_jobs=15)]: Done 2083 tasks      | elapsed:   20.4s\n",
      "[Parallel(n_jobs=15)]: Done 2148 tasks      | elapsed:   21.0s\n",
      "[Parallel(n_jobs=15)]: Done 2215 tasks      | elapsed:   21.7s\n",
      "[Parallel(n_jobs=15)]: Done 2282 tasks      | elapsed:   22.4s\n",
      "[Parallel(n_jobs=15)]: Done 2351 tasks      | elapsed:   23.1s\n",
      "[Parallel(n_jobs=15)]: Done 2420 tasks      | elapsed:   23.8s\n",
      "[Parallel(n_jobs=15)]: Done 2491 tasks      | elapsed:   24.6s\n",
      "[Parallel(n_jobs=15)]: Done 2562 tasks      | elapsed:   25.3s\n",
      "[Parallel(n_jobs=15)]: Done 2635 tasks      | elapsed:   26.1s\n",
      "[Parallel(n_jobs=15)]: Done 2708 tasks      | elapsed:   26.8s\n",
      "[Parallel(n_jobs=15)]: Done 2783 tasks      | elapsed:   27.6s\n",
      "[Parallel(n_jobs=15)]: Done 2858 tasks      | elapsed:   28.4s\n",
      "[Parallel(n_jobs=15)]: Done 2935 tasks      | elapsed:   29.2s\n",
      "[Parallel(n_jobs=15)]: Done 3012 tasks      | elapsed:   30.0s\n",
      "[Parallel(n_jobs=15)]: Done 3091 tasks      | elapsed:   30.8s\n",
      "[Parallel(n_jobs=15)]: Done 3170 tasks      | elapsed:   31.6s\n",
      "[Parallel(n_jobs=15)]: Done 3251 tasks      | elapsed:   32.4s\n",
      "[Parallel(n_jobs=15)]: Done 3332 tasks      | elapsed:   33.2s\n",
      "[Parallel(n_jobs=15)]: Done 3415 tasks      | elapsed:   34.0s\n",
      "[Parallel(n_jobs=15)]: Done 3498 tasks      | elapsed:   34.8s\n",
      "[Parallel(n_jobs=15)]: Done 3583 tasks      | elapsed:   35.6s\n",
      "[Parallel(n_jobs=15)]: Done 3668 tasks      | elapsed:   36.3s\n",
      "[Parallel(n_jobs=15)]: Done 3755 tasks      | elapsed:   37.1s\n",
      "[Parallel(n_jobs=15)]: Done 3842 tasks      | elapsed:   37.9s\n",
      "[Parallel(n_jobs=15)]: Done 3931 tasks      | elapsed:   38.8s\n",
      "[Parallel(n_jobs=15)]: Done 4020 tasks      | elapsed:   39.6s\n",
      "[Parallel(n_jobs=15)]: Done 4111 tasks      | elapsed:   40.4s\n",
      "[Parallel(n_jobs=15)]: Done 4202 tasks      | elapsed:   41.3s\n",
      "[Parallel(n_jobs=15)]: Done 4295 tasks      | elapsed:   42.2s\n",
      "[Parallel(n_jobs=15)]: Done 4388 tasks      | elapsed:   43.1s\n",
      "[Parallel(n_jobs=15)]: Done 4483 tasks      | elapsed:   44.1s\n",
      "[Parallel(n_jobs=15)]: Done 4578 tasks      | elapsed:   45.0s\n",
      "[Parallel(n_jobs=15)]: Done 4675 tasks      | elapsed:   45.9s\n",
      "[Parallel(n_jobs=15)]: Done 4772 tasks      | elapsed:   46.9s\n",
      "[Parallel(n_jobs=15)]: Done 4871 tasks      | elapsed:   47.8s\n",
      "[Parallel(n_jobs=15)]: Done 4970 tasks      | elapsed:   48.7s\n",
      "[Parallel(n_jobs=15)]: Done 5071 tasks      | elapsed:   49.7s\n",
      "[Parallel(n_jobs=15)]: Done 5172 tasks      | elapsed:   50.7s\n",
      "[Parallel(n_jobs=15)]: Done 5275 tasks      | elapsed:   51.7s\n",
      "[Parallel(n_jobs=15)]: Done 5378 tasks      | elapsed:   52.8s\n",
      "[Parallel(n_jobs=15)]: Done 5483 tasks      | elapsed:   53.9s\n",
      "[Parallel(n_jobs=15)]: Done 5588 tasks      | elapsed:   54.9s\n",
      "[Parallel(n_jobs=15)]: Done 5695 tasks      | elapsed:   56.0s\n",
      "[Parallel(n_jobs=15)]: Done 5802 tasks      | elapsed:   57.1s\n",
      "[Parallel(n_jobs=15)]: Done 5849 out of 5849 | elapsed:   57.5s finished\n"
     ]
    }
   ],
   "source": [
    "#7m 46s on wittgenstein under moderate load from other users/processes\n",
    "# times_between_onsets = []\n",
    "# for call_id in call_ids:\n",
    "#     my_utts = sorted([u for u in main_transcription_relation if u['call_id'] == call_id], key=lambda u:u['start'])\n",
    "#     starts = my_utts[:-1]\n",
    "#     ends = my_utts[1:]\n",
    "#     adjacent_pairs = zip(starts, ends)\n",
    "#     time_between_onsets = lambda pair: pair[1]['start'] - pair[0]['start']\n",
    "#     times_to_next_utt = list(map(time_between_onsets,\n",
    "#                                  adjacent_pairs))\n",
    "#     times_between_onsets.extend(times_to_next_utt)\n",
    "\n",
    "\n",
    "# ...vs. 1.1m \n",
    "def calc_onset_deltas_for(call_id):\n",
    "    my_utts = sorted([u for u in main_transcription_relation if u['call_id'] == call_id and u['speech'] != ''], key=lambda u:u['start'])\n",
    "    starts = my_utts[:-1]\n",
    "    ends = my_utts[1:]\n",
    "    adjacent_pairs = zip(starts, ends)\n",
    "    time_between_onsets = lambda pair: pair[1]['start'] - pair[0]['start']\n",
    "    times_to_next_utt = list(map(time_between_onsets,\n",
    "                                 adjacent_pairs))\n",
    "    return times_to_next_utt\n",
    "\n",
    "times_between_onsets = list(chain.from_iterable(par(delayed(calc_onset_deltas_for)(call_id)\n",
    "                                                    for call_id in call_ids)))"
   ]
  },
  {
   "cell_type": "code",
   "execution_count": 84,
   "metadata": {
    "ExecuteTime": {
     "end_time": "2019-09-05T05:23:25.515641Z",
     "start_time": "2019-09-05T05:23:25.514041Z"
    }
   },
   "outputs": [],
   "source": [
    "# import pandas as pd\n",
    "# from plotnine import *"
   ]
  },
  {
   "cell_type": "code",
   "execution_count": 85,
   "metadata": {
    "ExecuteTime": {
     "end_time": "2019-09-05T05:23:27.966552Z",
     "start_time": "2019-09-05T05:23:25.516435Z"
    }
   },
   "outputs": [],
   "source": [
    "durations_df = pd.DataFrame(list(map(lambda d: {\"Duration\":d},\n",
    "                                     utterance_durations)))\n",
    "lengths_df = pd.DataFrame(list(map(lambda d: {\"Length\":d},\n",
    "                                   utterance_lengths)))\n",
    "onset_deltas_df = pd.DataFrame(list(map(lambda d: {\"Onset_Delta\":d},\n",
    "                                        times_between_onsets)))"
   ]
  },
  {
   "cell_type": "code",
   "execution_count": 86,
   "metadata": {
    "ExecuteTime": {
     "end_time": "2019-09-05T05:23:38.473028Z",
     "start_time": "2019-09-05T05:23:27.967748Z"
    }
   },
   "outputs": [
    {
     "name": "stderr",
     "output_type": "stream",
     "text": [
      "/home/AD/emeinhar/anaconda3/envs/jax-gpu2/lib/python3.7/site-packages/plotnine/scales/scale.py:93: MatplotlibDeprecationWarning: \n",
      "The iterable function was deprecated in Matplotlib 3.1 and will be removed in 3.3. Use np.iterable instead.\n",
      "  if cbook.iterable(self.breaks) and cbook.iterable(self.labels):\n",
      "/home/AD/emeinhar/anaconda3/envs/jax-gpu2/lib/python3.7/site-packages/plotnine/stats/stat_bin.py:93: UserWarning: 'stat_bin()' using 'bins = 3143'. Pick better value with 'binwidth'.\n",
      "  warn(msg.format(params['bins']))\n",
      "/home/AD/emeinhar/anaconda3/envs/jax-gpu2/lib/python3.7/site-packages/plotnine/utils.py:553: MatplotlibDeprecationWarning: \n",
      "The iterable function was deprecated in Matplotlib 3.1 and will be removed in 3.3. Use np.iterable instead.\n",
      "  return cbook.iterable(var) and not is_string(var)\n"
     ]
    },
    {
     "data": {
      "image/png": "[encoded data removed]",
      "text/plain": [
       "<Figure size 640x480 with 1 Axes>"
      ]
     },
     "metadata": {},
     "output_type": "display_data"
    },
    {
     "data": {
      "text/plain": [
       "<ggplot: (8731398399381)>"
      ]
     },
     "execution_count": 86,
     "metadata": {},
     "output_type": "execute_result"
    },
    {
     "name": "stderr",
     "output_type": "stream",
     "text": [
      "/home/AD/emeinhar/anaconda3/envs/jax-gpu2/lib/python3.7/site-packages/plotnine/scales/scale.py:93: MatplotlibDeprecationWarning: \n",
      "The iterable function was deprecated in Matplotlib 3.1 and will be removed in 3.3. Use np.iterable instead.\n",
      "  if cbook.iterable(self.breaks) and cbook.iterable(self.labels):\n",
      "/home/AD/emeinhar/anaconda3/envs/jax-gpu2/lib/python3.7/site-packages/plotnine/stats/stat_bin.py:93: UserWarning: 'stat_bin()' using 'bins = 307'. Pick better value with 'binwidth'.\n",
      "  warn(msg.format(params['bins']))\n",
      "/home/AD/emeinhar/anaconda3/envs/jax-gpu2/lib/python3.7/site-packages/plotnine/layer.py:360: UserWarning: stat_bin : Removed 24 rows containing non-finite values.\n",
      "  data = self.stat.compute_layer(data, params, layout)\n",
      "/home/AD/emeinhar/anaconda3/envs/jax-gpu2/lib/python3.7/site-packages/plotnine/layer.py:449: UserWarning: geom_histogram : Removed 2 rows containing missing values.\n",
      "  self.data = self.geom.handle_na(self.data)\n",
      "/home/AD/emeinhar/anaconda3/envs/jax-gpu2/lib/python3.7/site-packages/plotnine/utils.py:553: MatplotlibDeprecationWarning: \n",
      "The iterable function was deprecated in Matplotlib 3.1 and will be removed in 3.3. Use np.iterable instead.\n",
      "  return cbook.iterable(var) and not is_string(var)\n"
     ]
    },
    {
     "data": {
      "image/png": "[encoded data removed]",
      "text/plain": [
       "<Figure size 640x480 with 1 Axes>"
      ]
     },
     "metadata": {},
     "output_type": "display_data"
    },
    {
     "data": {
      "text/plain": [
       "<ggplot: (8731488498065)>"
      ]
     },
     "execution_count": 86,
     "metadata": {},
     "output_type": "execute_result"
    }
   ],
   "source": [
    "ggplot(durations_df, aes(x=\"Duration\")) + geom_histogram()\n",
    "# ggplot(durations_df, aes(x=\"Duration\")) + geom_histogram() + xlim(0.0, 20.0)\n",
    "main_durations_plot = ggplot(durations_df, aes(x=\"Duration\")) + geom_histogram() + xlim(0.0, 20.0)\n",
    "main_durations_plot"
   ]
  },
  {
   "cell_type": "code",
   "execution_count": 87,
   "metadata": {
    "ExecuteTime": {
     "end_time": "2019-09-05T05:23:43.027852Z",
     "start_time": "2019-09-05T05:23:38.474205Z"
    }
   },
   "outputs": [
    {
     "name": "stderr",
     "output_type": "stream",
     "text": [
      "/home/AD/emeinhar/anaconda3/envs/jax-gpu2/lib/python3.7/site-packages/plotnine/scales/scale.py:93: MatplotlibDeprecationWarning: \n",
      "The iterable function was deprecated in Matplotlib 3.1 and will be removed in 3.3. Use np.iterable instead.\n",
      "  if cbook.iterable(self.breaks) and cbook.iterable(self.labels):\n",
      "/home/AD/emeinhar/anaconda3/envs/jax-gpu2/lib/python3.7/site-packages/plotnine/stats/stat_bin.py:93: UserWarning: 'stat_bin()' using 'bins = 449'. Pick better value with 'binwidth'.\n",
      "  warn(msg.format(params['bins']))\n",
      "/home/AD/emeinhar/anaconda3/envs/jax-gpu2/lib/python3.7/site-packages/plotnine/utils.py:553: MatplotlibDeprecationWarning: \n",
      "The iterable function was deprecated in Matplotlib 3.1 and will be removed in 3.3. Use np.iterable instead.\n",
      "  return cbook.iterable(var) and not is_string(var)\n"
     ]
    },
    {
     "data": {
      "image/png": "[encoded data removed]",
      "text/plain": [
       "<Figure size 640x480 with 1 Axes>"
      ]
     },
     "metadata": {},
     "output_type": "display_data"
    },
    {
     "data": {
      "text/plain": [
       "<ggplot: (8731393069557)>"
      ]
     },
     "execution_count": 87,
     "metadata": {},
     "output_type": "execute_result"
    },
    {
     "name": "stderr",
     "output_type": "stream",
     "text": [
      "/home/AD/emeinhar/anaconda3/envs/jax-gpu2/lib/python3.7/site-packages/plotnine/scales/scale.py:93: MatplotlibDeprecationWarning: \n",
      "The iterable function was deprecated in Matplotlib 3.1 and will be removed in 3.3. Use np.iterable instead.\n",
      "  if cbook.iterable(self.breaks) and cbook.iterable(self.labels):\n",
      "/home/AD/emeinhar/anaconda3/envs/jax-gpu2/lib/python3.7/site-packages/plotnine/stats/stat_bin.py:93: UserWarning: 'stat_bin()' using 'bins = 253'. Pick better value with 'binwidth'.\n",
      "  warn(msg.format(params['bins']))\n",
      "/home/AD/emeinhar/anaconda3/envs/jax-gpu2/lib/python3.7/site-packages/plotnine/layer.py:360: UserWarning: stat_bin : Removed 1271 rows containing non-finite values.\n",
      "  data = self.stat.compute_layer(data, params, layout)\n",
      "/home/AD/emeinhar/anaconda3/envs/jax-gpu2/lib/python3.7/site-packages/plotnine/layer.py:449: UserWarning: geom_histogram : Removed 2 rows containing missing values.\n",
      "  self.data = self.geom.handle_na(self.data)\n",
      "/home/AD/emeinhar/anaconda3/envs/jax-gpu2/lib/python3.7/site-packages/plotnine/utils.py:553: MatplotlibDeprecationWarning: \n",
      "The iterable function was deprecated in Matplotlib 3.1 and will be removed in 3.3. Use np.iterable instead.\n",
      "  return cbook.iterable(var) and not is_string(var)\n"
     ]
    },
    {
     "data": {
      "image/png": "[encoded data removed]",
      "text/plain": [
       "<Figure size 640x480 with 1 Axes>"
      ]
     },
     "metadata": {},
     "output_type": "display_data"
    },
    {
     "data": {
      "text/plain": [
       "<ggplot: (8731394512825)>"
      ]
     },
     "execution_count": 87,
     "metadata": {},
     "output_type": "execute_result"
    }
   ],
   "source": [
    "ggplot(lengths_df, aes(x=\"Length\")) + geom_histogram()\n",
    "# ggplot(lengths_df, aes(x=\"Length\")) + geom_histogram() + xlim(0.0, 60.0)\n",
    "main_length_plot = ggplot(lengths_df, aes(x=\"Length\")) + geom_histogram() + xlim(0.0, 60.0)\n",
    "main_length_plot"
   ]
  },
  {
   "cell_type": "code",
   "execution_count": 88,
   "metadata": {
    "ExecuteTime": {
     "end_time": "2019-09-05T05:23:55.694598Z",
     "start_time": "2019-09-05T05:23:43.029063Z"
    }
   },
   "outputs": [
    {
     "name": "stderr",
     "output_type": "stream",
     "text": [
      "/home/AD/emeinhar/anaconda3/envs/jax-gpu2/lib/python3.7/site-packages/plotnine/scales/scale.py:93: MatplotlibDeprecationWarning: \n",
      "The iterable function was deprecated in Matplotlib 3.1 and will be removed in 3.3. Use np.iterable instead.\n",
      "  if cbook.iterable(self.breaks) and cbook.iterable(self.labels):\n",
      "/home/AD/emeinhar/anaconda3/envs/jax-gpu2/lib/python3.7/site-packages/plotnine/stats/stat_bin.py:93: UserWarning: 'stat_bin()' using 'bins = 3880'. Pick better value with 'binwidth'.\n",
      "  warn(msg.format(params['bins']))\n",
      "/home/AD/emeinhar/anaconda3/envs/jax-gpu2/lib/python3.7/site-packages/plotnine/utils.py:553: MatplotlibDeprecationWarning: \n",
      "The iterable function was deprecated in Matplotlib 3.1 and will be removed in 3.3. Use np.iterable instead.\n",
      "  return cbook.iterable(var) and not is_string(var)\n"
     ]
    },
    {
     "data": {
      "image/png": "[encoded data removed]",
      "text/plain": [
       "<Figure size 640x480 with 1 Axes>"
      ]
     },
     "metadata": {},
     "output_type": "display_data"
    },
    {
     "data": {
      "text/plain": [
       "<ggplot: (8731394435185)>"
      ]
     },
     "execution_count": 88,
     "metadata": {},
     "output_type": "execute_result"
    },
    {
     "name": "stderr",
     "output_type": "stream",
     "text": [
      "/home/AD/emeinhar/anaconda3/envs/jax-gpu2/lib/python3.7/site-packages/plotnine/scales/scale.py:93: MatplotlibDeprecationWarning: \n",
      "The iterable function was deprecated in Matplotlib 3.1 and will be removed in 3.3. Use np.iterable instead.\n",
      "  if cbook.iterable(self.breaks) and cbook.iterable(self.labels):\n",
      "/home/AD/emeinhar/anaconda3/envs/jax-gpu2/lib/python3.7/site-packages/plotnine/stats/stat_bin.py:93: UserWarning: 'stat_bin()' using 'bins = 338'. Pick better value with 'binwidth'.\n",
      "  warn(msg.format(params['bins']))\n",
      "/home/AD/emeinhar/anaconda3/envs/jax-gpu2/lib/python3.7/site-packages/plotnine/layer.py:360: UserWarning: stat_bin : Removed 221 rows containing non-finite values.\n",
      "  data = self.stat.compute_layer(data, params, layout)\n",
      "/home/AD/emeinhar/anaconda3/envs/jax-gpu2/lib/python3.7/site-packages/plotnine/layer.py:449: UserWarning: geom_histogram : Removed 2 rows containing missing values.\n",
      "  self.data = self.geom.handle_na(self.data)\n",
      "/home/AD/emeinhar/anaconda3/envs/jax-gpu2/lib/python3.7/site-packages/plotnine/utils.py:553: MatplotlibDeprecationWarning: \n",
      "The iterable function was deprecated in Matplotlib 3.1 and will be removed in 3.3. Use np.iterable instead.\n",
      "  return cbook.iterable(var) and not is_string(var)\n"
     ]
    },
    {
     "data": {
      "image/png": "[encoded data removed]",
      "text/plain": [
       "<Figure size 640x480 with 1 Axes>"
      ]
     },
     "metadata": {},
     "output_type": "display_data"
    },
    {
     "data": {
      "text/plain": [
       "<ggplot: (8731393073929)>"
      ]
     },
     "execution_count": 88,
     "metadata": {},
     "output_type": "execute_result"
    }
   ],
   "source": [
    "ggplot(onset_deltas_df, aes(x=\"Onset_Delta\")) + geom_histogram()\n",
    "# ggplot(onset_deltas_df, aes(x=\"Onset_Delta\")) + geom_histogram() + xlim(0.0, 20.0)\n",
    "main_onset_deltas_plot = ggplot(onset_deltas_df, aes(x=\"Onset_Delta\")) + geom_histogram() + xlim(0.0, 20.0)\n",
    "main_onset_deltas_plot"
   ]
  },
  {
   "cell_type": "markdown",
   "metadata": {},
   "source": [
    "## Useful examples"
   ]
  },
  {
   "cell_type": "code",
   "execution_count": 89,
   "metadata": {
    "ExecuteTime": {
     "end_time": "2019-09-05T05:23:55.702649Z",
     "start_time": "2019-09-05T05:23:55.696835Z"
    }
   },
   "outputs": [
    {
     "data": {
      "text/plain": [
       "{'speech_raw': 'i mean no money is very important definitely and a million dollars is a dream come true for me i mean',\n",
       " 'duration': 4.65,\n",
       " 'speech': 'i mean no money is very important definitely and a million dollars is a dream come true for me i mean',\n",
       " 'speaker': 'A',\n",
       " 'start': 56.38,\n",
       " 'end': 61.03,\n",
       " 'call_id': '05851',\n",
       " 'filename': 'fe_03_05851.txt',\n",
       " 'location': '/mnt/truffle/corpora/fisher_english_transcripts/fe_03_p2_tran/data/trans/058/fe_03_05851.txt'}"
      ]
     },
     "execution_count": 89,
     "metadata": {},
     "output_type": "execute_result"
    }
   ],
   "source": [
    "main_transcription_relation[0]"
   ]
  },
  {
   "cell_type": "code",
   "execution_count": 90,
   "metadata": {
    "ExecuteTime": {
     "end_time": "2019-09-05T05:23:55.943974Z",
     "start_time": "2019-09-05T05:23:55.704569Z"
    }
   },
   "outputs": [
    {
     "data": {
      "text/plain": [
       "1113586"
      ]
     },
     "execution_count": 90,
     "metadata": {},
     "output_type": "execute_result"
    },
    {
     "data": {
      "text/plain": [
       "24011"
      ]
     },
     "execution_count": 90,
     "metadata": {},
     "output_type": "execute_result"
    },
    {
     "data": {
      "text/plain": [
       "0.021561873083892936"
      ]
     },
     "execution_count": 90,
     "metadata": {},
     "output_type": "execute_result"
    }
   ],
   "source": [
    "hasDash = lambda s: '-' in s\n",
    "tHasDash = lambda t: hasDash(t['speech'])\n",
    "\n",
    "withDash = list(filter(tHasDash, main_transcription_relation))\n",
    "len(main_transcription_relation)\n",
    "len(withDash)\n",
    "len(withDash) / len(main_transcription_relation)"
   ]
  },
  {
   "cell_type": "code",
   "execution_count": 91,
   "metadata": {
    "ExecuteTime": {
     "end_time": "2019-09-05T05:23:56.193307Z",
     "start_time": "2019-09-05T05:23:55.945191Z"
    }
   },
   "outputs": [
    {
     "data": {
      "text/plain": [
       "1113586"
      ]
     },
     "execution_count": 91,
     "metadata": {},
     "output_type": "execute_result"
    },
    {
     "data": {
      "text/plain": [
       "24011"
      ]
     },
     "execution_count": 91,
     "metadata": {},
     "output_type": "execute_result"
    },
    {
     "data": {
      "text/plain": [
       "864"
      ]
     },
     "execution_count": 91,
     "metadata": {},
     "output_type": "execute_result"
    },
    {
     "data": {
      "text/plain": [
       "0.03598350755903544"
      ]
     },
     "execution_count": 91,
     "metadata": {},
     "output_type": "execute_result"
    },
    {
     "data": {
      "text/plain": [
       "0.0007758718231012244"
      ]
     },
     "execution_count": 91,
     "metadata": {},
     "output_type": "execute_result"
    }
   ],
   "source": [
    "hasStartDash = lambda s: ' -' in s\n",
    "tHasStartDash = lambda t: hasStartDash(t['speech_raw'])\n",
    "\n",
    "withStartDash = list(filter(tHasStartDash, main_transcription_relation))\n",
    "len(main_transcription_relation)\n",
    "len(withDash)\n",
    "len(withStartDash)\n",
    "len(withStartDash) / len(withDash)\n",
    "len(withStartDash) / len(main_transcription_relation)"
   ]
  },
  {
   "cell_type": "code",
   "execution_count": 92,
   "metadata": {
    "ExecuteTime": {
     "end_time": "2019-09-05T05:23:56.205207Z",
     "start_time": "2019-09-05T05:23:56.194461Z"
    }
   },
   "outputs": [
    {
     "data": {
      "text/plain": [
       "211"
      ]
     },
     "execution_count": 92,
     "metadata": {},
     "output_type": "execute_result"
    },
    {
     "data": {
      "text/plain": [
       "{'-',\n",
       " \"-'s\",\n",
       " '-a',\n",
       " '-actly',\n",
       " '-adies',\n",
       " '-aduated',\n",
       " '-ah',\n",
       " '-ait',\n",
       " '-an',\n",
       " '-ana',\n",
       " '-ange',\n",
       " '-aq',\n",
       " '-are',\n",
       " '-ass',\n",
       " '-at',\n",
       " \"-at's\",\n",
       " '-ats',\n",
       " '-ave',\n",
       " '-ay',\n",
       " '-bie',\n",
       " '-bio',\n",
       " '-body',\n",
       " \"-body's\",\n",
       " '-bout',\n",
       " '-brate',\n",
       " '-burse',\n",
       " '-case',\n",
       " '-cational',\n",
       " '-cause',\n",
       " '-cept',\n",
       " '-ch',\n",
       " '-cher',\n",
       " '-chigan',\n",
       " '-chusetts',\n",
       " '-cially',\n",
       " '-construe',\n",
       " '-creased',\n",
       " '-cross',\n",
       " '-culing',\n",
       " '-d',\n",
       " '-da',\n",
       " '-deed',\n",
       " '-distribute',\n",
       " '-doing',\n",
       " '-don',\n",
       " '-duced',\n",
       " '-e',\n",
       " '-e-',\n",
       " '-eah',\n",
       " '-ean',\n",
       " '-eckognize',\n",
       " '-ed',\n",
       " '-either',\n",
       " '-ell',\n",
       " '-em',\n",
       " '-en',\n",
       " '-end',\n",
       " '-ends',\n",
       " '-er',\n",
       " \"-ere's\",\n",
       " '-esh',\n",
       " '-est',\n",
       " '-ex',\n",
       " '-ey',\n",
       " '-f',\n",
       " '-fenive',\n",
       " '-fession',\n",
       " '-ff',\n",
       " '-fide',\n",
       " '-fluenced',\n",
       " '-fornia',\n",
       " '-freshing',\n",
       " '-fused',\n",
       " '-gin',\n",
       " '-go',\n",
       " '-grading',\n",
       " '-gratulations',\n",
       " '-gree',\n",
       " '-greeing',\n",
       " '-grees',\n",
       " '-gusting',\n",
       " '-h',\n",
       " '-hand',\n",
       " '-hattan',\n",
       " '-he',\n",
       " '-huh',\n",
       " '-i',\n",
       " '-ide',\n",
       " '-ie',\n",
       " '-ight',\n",
       " '-ike',\n",
       " '-ill',\n",
       " '-ing',\n",
       " '-instinians',\n",
       " '-intentional',\n",
       " '-isneyland',\n",
       " '-isneyworld',\n",
       " '-ist',\n",
       " \"-it's\",\n",
       " '-izzariono',\n",
       " '-jackly',\n",
       " '-joy',\n",
       " '-k',\n",
       " '-kay',\n",
       " '-l',\n",
       " '-lica-',\n",
       " '-ll',\n",
       " '-lo',\n",
       " '-long',\n",
       " '-lowed',\n",
       " '-ly',\n",
       " '-m',\n",
       " '-m-',\n",
       " '-ma-hi',\n",
       " '-mat',\n",
       " '-member',\n",
       " '-ment',\n",
       " '-mercial',\n",
       " '-morphosis',\n",
       " '-most',\n",
       " '-n',\n",
       " '-n-',\n",
       " '-nam',\n",
       " '-nd',\n",
       " '-neering',\n",
       " '-net',\n",
       " '-ng',\n",
       " '-nk',\n",
       " '-nother',\n",
       " '-nough',\n",
       " '-nounce',\n",
       " '-o',\n",
       " '-o-',\n",
       " '-obituates',\n",
       " '-ocial',\n",
       " '-ogic-',\n",
       " '-oming',\n",
       " '-opay',\n",
       " '-opays',\n",
       " '-opoly',\n",
       " '-or',\n",
       " '-ose',\n",
       " '-ough',\n",
       " '-ow',\n",
       " '-oy',\n",
       " '-paper',\n",
       " '-papers',\n",
       " '-partment',\n",
       " '-pez',\n",
       " '-posed',\n",
       " '-pring',\n",
       " '-quest',\n",
       " '-quired',\n",
       " '-quires',\n",
       " '-r',\n",
       " '-r-',\n",
       " '-ray',\n",
       " '-s',\n",
       " '-s-',\n",
       " '-scribes',\n",
       " '-self',\n",
       " '-sential',\n",
       " '-sh',\n",
       " '-ship',\n",
       " '-sitter',\n",
       " '-sive',\n",
       " '-sorship',\n",
       " '-specially',\n",
       " '-st',\n",
       " '-stances',\n",
       " '-stand',\n",
       " '-t',\n",
       " \"-t's\",\n",
       " '-t-',\n",
       " '-talian',\n",
       " '-talked',\n",
       " '-tary',\n",
       " '-teen',\n",
       " '-teering',\n",
       " '-terrorism',\n",
       " '-the',\n",
       " '-thing',\n",
       " \"-thing's\",\n",
       " '-til',\n",
       " '-till',\n",
       " '-times',\n",
       " '-tin-',\n",
       " '-tino',\n",
       " '-tion',\n",
       " '-tivity',\n",
       " '-together',\n",
       " '-tox',\n",
       " '-treiver',\n",
       " '-tum',\n",
       " '-tuni-',\n",
       " '-tv',\n",
       " '-ucks',\n",
       " '-uilt',\n",
       " '-um',\n",
       " '-unding',\n",
       " '-url',\n",
       " '-ust',\n",
       " '-ut',\n",
       " '-utiful',\n",
       " '-versities',\n",
       " '-w',\n",
       " '-ways',\n",
       " '-where',\n",
       " '-xpect',\n",
       " '-y',\n",
       " '-yeah'}"
      ]
     },
     "execution_count": 92,
     "metadata": {},
     "output_type": "execute_result"
    }
   ],
   "source": [
    "getWordsWithStartDash = lambda s: list(filter(lambda s: s[0] == '-', s.split(' ')))\n",
    "tGetWordsWithStartDash = lambda t: getWordsWithStartDash(t['speech_raw'])\n",
    "\n",
    "wordsWithStartDash = union(map(lambda t: set(tGetWordsWithStartDash(t)), withStartDash))\n",
    "len(wordsWithStartDash)\n",
    "# len(set(wordsWithStartDash))\n",
    "wordsWithStartDash"
   ]
  },
  {
   "cell_type": "code",
   "execution_count": 93,
   "metadata": {
    "ExecuteTime": {
     "end_time": "2019-09-05T05:23:56.208228Z",
     "start_time": "2019-09-05T05:23:56.206515Z"
    }
   },
   "outputs": [],
   "source": [
    "from random import choice"
   ]
  },
  {
   "cell_type": "code",
   "execution_count": 94,
   "metadata": {
    "ExecuteTime": {
     "end_time": "2019-09-05T05:23:56.213411Z",
     "start_time": "2019-09-05T05:23:56.209080Z"
    }
   },
   "outputs": [
    {
     "data": {
      "text/plain": [
       "{'speech_raw': 'well what did he -n i mean why why did he not do that',\n",
       " 'duration': 3.2,\n",
       " 'speech': 'well what did he <rem> i mean why why did he not do that',\n",
       " 'speaker': 'A',\n",
       " 'start': 326.96,\n",
       " 'end': 330.16,\n",
       " 'call_id': '06823',\n",
       " 'filename': 'fe_03_06823.txt',\n",
       " 'location': '/mnt/truffle/corpora/fisher_english_transcripts/fe_03_p2_tran/data/trans/068/fe_03_06823.txt'}"
      ]
     },
     "execution_count": 94,
     "metadata": {},
     "output_type": "execute_result"
    }
   ],
   "source": [
    "choice(withStartDash)"
   ]
  },
  {
   "cell_type": "code",
   "execution_count": 95,
   "metadata": {
    "ExecuteTime": {
     "end_time": "2019-09-05T05:23:56.219731Z",
     "start_time": "2019-09-05T05:23:56.214360Z"
    }
   },
   "outputs": [
    {
     "data": {
      "text/plain": [
       "{'speech_raw': 'you re- -distribute and you get more muscle and muscle weighs more than flab',\n",
       " 'duration': 5.31,\n",
       " 'speech': 'you <rem> <rem> and you get more muscle and muscle weighs more than flab',\n",
       " 'speaker': 'B',\n",
       " 'start': 171.38,\n",
       " 'end': 176.69,\n",
       " 'call_id': '08366',\n",
       " 'filename': 'fe_03_08366.txt',\n",
       " 'location': '/mnt/truffle/corpora/fisher_english_transcripts/fe_03_p2_tran/data/trans/083/fe_03_08366.txt'}"
      ]
     },
     "execution_count": 95,
     "metadata": {},
     "output_type": "execute_result"
    },
    {
     "data": {
      "text/plain": [
       "{'speech_raw': 'i mean you have to go back and reassure -em and i mean',\n",
       " 'duration': 3.43,\n",
       " 'speech': 'i mean you have to go back and reassure <rem> and i mean',\n",
       " 'speaker': 'B',\n",
       " 'start': 156.2,\n",
       " 'end': 159.63,\n",
       " 'call_id': '05971',\n",
       " 'filename': 'fe_03_05971.txt',\n",
       " 'location': '/mnt/truffle/corpora/fisher_english_transcripts/fe_03_p2_tran/data/trans/059/fe_03_05971.txt'}"
      ]
     },
     "execution_count": 95,
     "metadata": {},
     "output_type": "execute_result"
    }
   ],
   "source": [
    "withStartDash[239]\n",
    "withStartDash[23]"
   ]
  },
  {
   "cell_type": "markdown",
   "metadata": {},
   "source": [
    "**Initialisms**"
   ]
  },
  {
   "cell_type": "markdown",
   "metadata": {},
   "source": [
    "Initialisms were indicated in the LDC transcripts using periods and underscores:"
   ]
  },
  {
   "cell_type": "code",
   "execution_count": 96,
   "metadata": {
    "ExecuteTime": {
     "end_time": "2019-09-05T05:23:56.346175Z",
     "start_time": "2019-09-05T05:23:56.221160Z"
    }
   },
   "outputs": [
    {
     "data": {
      "text/plain": [
       "13099"
      ]
     },
     "execution_count": 96,
     "metadata": {},
     "output_type": "execute_result"
    },
    {
     "data": {
      "text/plain": [
       "[{'speech_raw': \"she's out near l._a. she lives in newport beach\",\n",
       "  'duration': 2.67,\n",
       "  'speech': \"she's out near l._a. she lives in newport beach\",\n",
       "  'speaker': 'B',\n",
       "  'start': 87.11,\n",
       "  'end': 89.78,\n",
       "  'call_id': '05853',\n",
       "  'filename': 'fe_03_05853.txt',\n",
       "  'location': '/mnt/truffle/corpora/fisher_english_transcripts/fe_03_p2_tran/data/trans/058/fe_03_05853.txt'},\n",
       " {'speech_raw': \"um i'm a college student at u._c._l._a.\",\n",
       "  'duration': 2.41,\n",
       "  'speech': \"um i'm a college student at u._c._l._a.\",\n",
       "  'speaker': 'A',\n",
       "  'start': 132.13,\n",
       "  'end': 134.54,\n",
       "  'call_id': '05853',\n",
       "  'filename': 'fe_03_05853.txt',\n",
       "  'location': '/mnt/truffle/corpora/fisher_english_transcripts/fe_03_p2_tran/data/trans/058/fe_03_05853.txt'},\n",
       " {'speech_raw': 'he um works for an r._v. association',\n",
       "  'duration': 3.26,\n",
       "  'speech': 'he um works for an r._v. association',\n",
       "  'speaker': 'B',\n",
       "  'start': 457.5,\n",
       "  'end': 460.76,\n",
       "  'call_id': '05853',\n",
       "  'filename': 'fe_03_05853.txt',\n",
       "  'location': '/mnt/truffle/corpora/fisher_english_transcripts/fe_03_p2_tran/data/trans/058/fe_03_05853.txt'},\n",
       " {'speech_raw': \"it's a it's a small state association of like manufacturers and stuff of r._v.\",\n",
       "  'duration': 4.61,\n",
       "  'speech': \"it's a it's a small state association of like manufacturers and stuff of r._v.\",\n",
       "  'speaker': 'B',\n",
       "  'start': 466.61,\n",
       "  'end': 471.22,\n",
       "  'call_id': '05853',\n",
       "  'filename': 'fe_03_05853.txt',\n",
       "  'location': '/mnt/truffle/corpora/fisher_english_transcripts/fe_03_p2_tran/data/trans/058/fe_03_05853.txt'},\n",
       " {'speech_raw': \"that's the only p- you're in washington state not washington d._c. right\",\n",
       "  'duration': 3.66,\n",
       "  'speech': \"that's the only <rem> you're in washington state not washington d._c. right\",\n",
       "  'speaker': 'B',\n",
       "  'start': 316.6,\n",
       "  'end': 320.26,\n",
       "  'call_id': '05854',\n",
       "  'filename': 'fe_03_05854.txt',\n",
       "  'location': '/mnt/truffle/corpora/fisher_english_transcripts/fe_03_p2_tran/data/trans/058/fe_03_05854.txt'}]"
      ]
     },
     "execution_count": 96,
     "metadata": {},
     "output_type": "execute_result"
    }
   ],
   "source": [
    "utts_with_initialisms_main = [t for t in main_transcription_relation if '_' in t['speech']]\n",
    "len(utts_with_initialisms_main)\n",
    "utts_with_initialisms_main[:5]"
   ]
  },
  {
   "cell_type": "markdown",
   "metadata": {},
   "source": [
    "# The `bbn` transcriptions"
   ]
  },
  {
   "cell_type": "markdown",
   "metadata": {},
   "source": [
    "For context, read\n",
    " - the last page of Cieri et al. 2004 (\"The Fisher Corpus: a Resource for the Next Generations of Speech-to-Text\", https://www.ldc.upenn.edu/sites/www.ldc.upenn.edu/files/lrec2004-fisher-corpus.pdf)\n",
    " - https://catalog.ldc.upenn.edu/docs/LDC2005T19/bbn_trans_readme.txt"
   ]
  },
  {
   "cell_type": "code",
   "execution_count": 97,
   "metadata": {
    "ExecuteTime": {
     "end_time": "2019-09-05T05:23:56.350396Z",
     "start_time": "2019-09-05T05:23:56.347371Z"
    }
   },
   "outputs": [
    {
     "data": {
      "text/plain": [
       "'/mnt/truffle/corpora/fisher_english_transcripts/fe_03_p2_tran/data'"
      ]
     },
     "execution_count": 97,
     "metadata": {},
     "output_type": "execute_result"
    }
   ],
   "source": [
    "os.chdir(os.path.join(fisher_dir, 'data'))\n",
    "os.getcwd()"
   ]
  },
  {
   "cell_type": "code",
   "execution_count": 98,
   "metadata": {
    "ExecuteTime": {
     "end_time": "2019-09-05T05:23:56.531137Z",
     "start_time": "2019-09-05T05:23:56.351271Z"
    }
   },
   "outputs": [
    {
     "name": "stdout",
     "output_type": "stream",
     "text": [
      "\u001b[0m\u001b[01;34mbbn_orig\u001b[0m/  \u001b[01;34mtrans\u001b[0m/\r\n"
     ]
    }
   ],
   "source": [
    "%ls"
   ]
  },
  {
   "cell_type": "code",
   "execution_count": 99,
   "metadata": {
    "ExecuteTime": {
     "end_time": "2019-09-05T05:23:56.547279Z",
     "start_time": "2019-09-05T05:23:56.533345Z"
    }
   },
   "outputs": [
    {
     "name": "stdout",
     "output_type": "stream",
     "text": [
      "/mnt/truffle/corpora/fisher_english_transcripts/fe_03_p2_tran/data/bbn_orig\n"
     ]
    }
   ],
   "source": [
    "%cd bbn_orig/"
   ]
  },
  {
   "cell_type": "code",
   "execution_count": 100,
   "metadata": {
    "ExecuteTime": {
     "end_time": "2019-09-05T05:23:56.551748Z",
     "start_time": "2019-09-05T05:23:56.549155Z"
    }
   },
   "outputs": [],
   "source": [
    "bbn_data_dir = '/mnt/truffle/corpora/fisher_english_transcripts/fe_03_p2_tran/data/bbn_orig'"
   ]
  },
  {
   "cell_type": "code",
   "execution_count": 101,
   "metadata": {
    "ExecuteTime": {
     "end_time": "2019-09-05T05:23:56.737219Z",
     "start_time": "2019-09-05T05:23:56.553557Z"
    }
   },
   "outputs": [
    {
     "name": "stdout",
     "output_type": "stream",
     "text": [
      "\u001b[0m\u001b[01;34m058\u001b[0m/  \u001b[01;34m063\u001b[0m/  \u001b[01;34m068\u001b[0m/  \u001b[01;34m073\u001b[0m/  \u001b[01;34m078\u001b[0m/  \u001b[01;34m083\u001b[0m/  \u001b[01;34m088\u001b[0m/  \u001b[01;34m093\u001b[0m/  \u001b[01;34m098\u001b[0m/  \u001b[01;34m103\u001b[0m/  \u001b[01;34m108\u001b[0m/  \u001b[01;34m113\u001b[0m/\r\n",
      "\u001b[01;34m059\u001b[0m/  \u001b[01;34m064\u001b[0m/  \u001b[01;34m069\u001b[0m/  \u001b[01;34m074\u001b[0m/  \u001b[01;34m079\u001b[0m/  \u001b[01;34m084\u001b[0m/  \u001b[01;34m089\u001b[0m/  \u001b[01;34m094\u001b[0m/  \u001b[01;34m099\u001b[0m/  \u001b[01;34m104\u001b[0m/  \u001b[01;34m109\u001b[0m/\r\n",
      "\u001b[01;34m060\u001b[0m/  \u001b[01;34m065\u001b[0m/  \u001b[01;34m070\u001b[0m/  \u001b[01;34m075\u001b[0m/  \u001b[01;34m080\u001b[0m/  \u001b[01;34m085\u001b[0m/  \u001b[01;34m090\u001b[0m/  \u001b[01;34m095\u001b[0m/  \u001b[01;34m100\u001b[0m/  \u001b[01;34m105\u001b[0m/  \u001b[01;34m110\u001b[0m/\r\n",
      "\u001b[01;34m061\u001b[0m/  \u001b[01;34m066\u001b[0m/  \u001b[01;34m071\u001b[0m/  \u001b[01;34m076\u001b[0m/  \u001b[01;34m081\u001b[0m/  \u001b[01;34m086\u001b[0m/  \u001b[01;34m091\u001b[0m/  \u001b[01;34m096\u001b[0m/  \u001b[01;34m101\u001b[0m/  \u001b[01;34m106\u001b[0m/  \u001b[01;34m111\u001b[0m/\r\n",
      "\u001b[01;34m062\u001b[0m/  \u001b[01;34m067\u001b[0m/  \u001b[01;34m072\u001b[0m/  \u001b[01;34m077\u001b[0m/  \u001b[01;34m082\u001b[0m/  \u001b[01;34m087\u001b[0m/  \u001b[01;34m092\u001b[0m/  \u001b[01;34m097\u001b[0m/  \u001b[01;34m102\u001b[0m/  \u001b[01;34m107\u001b[0m/  \u001b[01;34m112\u001b[0m/\r\n"
     ]
    }
   ],
   "source": [
    "%ls"
   ]
  },
  {
   "cell_type": "code",
   "execution_count": 102,
   "metadata": {
    "ExecuteTime": {
     "end_time": "2019-09-05T05:23:56.742457Z",
     "start_time": "2019-09-05T05:23:56.739280Z"
    }
   },
   "outputs": [],
   "source": [
    "bbn_folders = os.listdir()"
   ]
  },
  {
   "cell_type": "code",
   "execution_count": 103,
   "metadata": {
    "ExecuteTime": {
     "end_time": "2019-09-05T05:23:57.005707Z",
     "start_time": "2019-09-05T05:23:57.002009Z"
    }
   },
   "outputs": [
    {
     "data": {
      "text/plain": [
       "'/mnt/truffle/corpora/fisher_english_transcripts/fe_03_p2_tran/data/bbn_orig/058'"
      ]
     },
     "execution_count": 103,
     "metadata": {},
     "output_type": "execute_result"
    }
   ],
   "source": [
    "os.chdir(os.path.join(bbn_data_dir, '058'))\n",
    "os.getcwd()"
   ]
  },
  {
   "cell_type": "code",
   "execution_count": 104,
   "metadata": {
    "ExecuteTime": {
     "end_time": "2019-09-05T05:23:57.186610Z",
     "start_time": "2019-09-05T05:23:57.006686Z"
    }
   },
   "outputs": [
    {
     "name": "stdout",
     "output_type": "stream",
     "text": [
      "\u001b[0m\u001b[01;34mauto-segmented\u001b[0m/  \u001b[01;34moriginals\u001b[0m/  \u001b[01;34mrejected\u001b[0m/\r\n"
     ]
    }
   ],
   "source": [
    "%ls"
   ]
  },
  {
   "cell_type": "markdown",
   "metadata": {},
   "source": [
    "Note that, per `https://catalog.ldc.upenn.edu/docs/LDC2005T19/bbn_trans_readme.txt`, \n",
    " - each folder contains a group of (up to?) 100 calls with a shared 3 digit prefix in their call id.\n",
    " - subsets 114, 115, and 116 are not here, because those 300 transcripts were done by the LDC.\n",
    " \n",
    "Within each folder, `/originals/` contains `.txo` transcriptions produced by annotators at WordWave; these files were the input to an automatic segmentation process that created the `.ana` and `.trn` files in `/auto-segmented/` folders. `/rejected/` folders contain `.ana` and `.trn` data for utterances that the automatic segmentation process could not handle.\n",
    "\n",
    "That means the transcription data of interest for this project are in `.trn` files in both `/auto-segmented/` and `/rejected/` folders and will need to be combined."
   ]
  },
  {
   "cell_type": "code",
   "execution_count": 105,
   "metadata": {
    "ExecuteTime": {
     "end_time": "2019-09-05T05:23:57.194649Z",
     "start_time": "2019-09-05T05:23:57.188594Z"
    }
   },
   "outputs": [
    {
     "name": "stdout",
     "output_type": "stream",
     "text": [
      "/mnt/truffle/corpora/fisher_english_transcripts/fe_03_p2_tran/data/bbn_orig/058/auto-segmented\n"
     ]
    }
   ],
   "source": [
    "%cd auto-segmented/"
   ]
  },
  {
   "cell_type": "code",
   "execution_count": 106,
   "metadata": {
    "ExecuteTime": {
     "end_time": "2019-09-05T05:23:57.402821Z",
     "start_time": "2019-09-05T05:23:57.196344Z"
    }
   },
   "outputs": [
    {
     "name": "stdout",
     "output_type": "stream",
     "text": [
      "\u001b[0m\u001b[01;32mfe_03_05863.ana\u001b[0m*  \u001b[01;32mfe_03_05876.trn\u001b[0m*  \u001b[01;32mfe_03_05888.ana\u001b[0m*  \u001b[01;32mfe_03_05889.trn\u001b[0m*\r\n",
      "\u001b[01;32mfe_03_05863.trn\u001b[0m*  \u001b[01;32mfe_03_05887.ana\u001b[0m*  \u001b[01;32mfe_03_05888.trn\u001b[0m*  \u001b[01;32mfe_03_05898.ana\u001b[0m*\r\n",
      "\u001b[01;32mfe_03_05876.ana\u001b[0m*  \u001b[01;32mfe_03_05887.trn\u001b[0m*  \u001b[01;32mfe_03_05889.ana\u001b[0m*  \u001b[01;32mfe_03_05898.trn\u001b[0m*\r\n"
     ]
    }
   ],
   "source": [
    "%ls"
   ]
  },
  {
   "cell_type": "code",
   "execution_count": 107,
   "metadata": {
    "ExecuteTime": {
     "end_time": "2019-09-05T05:23:57.600773Z",
     "start_time": "2019-09-05T05:23:57.404905Z"
    }
   },
   "outputs": [
    {
     "name": "stdout",
     "output_type": "stream",
     "text": [
      "     1\tH- HI THIS IS DEBBIE  (fe_03_05876-A-0001)\r\n",
      "     2\tHI SYLVIA  (fe_03_05876-A-0002)\r\n",
      "     3\t[LAUGHTER] I'M JUST TRYING TO GET OVER THIS QUESTION  (fe_03_05876-A-0003)\r\n",
      "     4\tUH NO IT'S MY SECOND CALL BUT THEY JUST SEEM TO GET MO- [LAUGHTER] MORE AND MORE RIDICULOUS  (fe_03_05876-A-0005)\r\n",
      "     5\tOH REALLY [LAUGHTER] UM  (fe_03_05876-A-0006)\r\n",
      "     6\tWELL NO MY BEST FRIEND UM  (fe_03_05876-A-0007)\r\n",
      "     7\tI DON'T KNOW MY INSTINCT MY INITIAL INSTINCT IS TO SAY NO UH YOU KNOW  (fe_03_05876-A-0008)\r\n",
      "     8\tHOWEVER I GUESS [LAUGHTER] IF I HAD TO THINK ABOUT IT A WHILE  (fe_03_05876-A-0009)\r\n",
      "     9\tSEE I COULD DO SO MUCH WITH A MILLION DOLLARS HELP SO MANY PEOPLE BUT [LIPSMACK]  (fe_03_05876-A-0010)\r\n",
      "    10\tI DON'T KNOW IT JUST DOESN'T IT DOESN'T FEEL RIGHT TO TO TAKE TO HAVE THIS STRING ATTACHED YOU KNOW FIRST OF ALL  (fe_03_05876-A-0011)\r\n",
      "    11\t[LAUGHTER] SO DO I. THAT'S RIGHT  (fe_03_05876-A-0012)\r\n",
      "    12\tYOU'RE RIGHT  (fe_03_05876-A-0013)\r\n",
      "    13\tTHAT'S TRUE [NOISE]  (fe_03_05876-A-0014)\r\n",
      "    14\tMHM  (fe_03_05876-A-0015)\r\n",
      "    15\tRIGHT  (fe_03_05876-A-0016)\r\n",
      "    16\tNO YOU'RE RIGHT THERE'S LIKE A REAL RIPPLING EFFECT AND THEN IF YOUR IF YOUR HUSBAND OR BOYFRIEND KNOWS HER TOO IT WOULD BE IT W- YOU KNOW WHAT IF THEY WANTED TO MAINTAIN A FRIENDSHIP AND YOU COULDN'T BECAUSE OF THIS AGREEMENT  (fe_03_05876-A-0017)\r\n",
      "    17\tRIGHT EXACTLY NO NO I THINK I THINK IT'S A REALLY IT'S [NOISE]  (fe_03_05876-A-0018)\r\n",
      "    18\tI I DON'T KNOW I GUESS THERE COULD BE AN ARGUMENT MADE FOR TAKING IT  (fe_03_05876-A-0019)\r\n",
      "    19\tAND I THINK BASED ON JUST THE AMOUNT [LIPSMACK]  (fe_03_05876-A-0020)\r\n",
      "    20\tAND LIKE I SAID THE FACT THAT YOU COULD DO A LOT WITH IT  (fe_03_05876-A-0021)\r\n"
     ]
    }
   ],
   "source": [
    "%cat -n fe_03_05876.trn | head -20"
   ]
  },
  {
   "cell_type": "markdown",
   "metadata": {},
   "source": [
    "## Organizing call transcription files, a unique call ID, and call transcription file location"
   ]
  },
  {
   "cell_type": "markdown",
   "metadata": {
    "ExecuteTime": {
     "end_time": "2019-04-15T19:50:48.294410Z",
     "start_time": "2019-04-15T19:50:48.290003Z"
    }
   },
   "source": [
    "**Let's create a relation between call id, associated filenames, and locations.**"
   ]
  },
  {
   "cell_type": "code",
   "execution_count": 108,
   "metadata": {
    "ExecuteTime": {
     "end_time": "2019-09-05T05:23:57.607072Z",
     "start_time": "2019-09-05T05:23:57.602313Z"
    }
   },
   "outputs": [
    {
     "name": "stdout",
     "output_type": "stream",
     "text": [
      "/mnt/truffle/corpora/fisher_english_transcripts/fe_03_p2_tran/data/bbn_orig/058\n"
     ]
    }
   ],
   "source": [
    "%cd .."
   ]
  },
  {
   "cell_type": "code",
   "execution_count": 109,
   "metadata": {
    "ExecuteTime": {
     "end_time": "2019-09-05T05:23:57.612369Z",
     "start_time": "2019-09-05T05:23:57.608372Z"
    }
   },
   "outputs": [
    {
     "data": {
      "text/plain": [
       "'/mnt/truffle/corpora/fisher_english_transcripts/fe_03_p2_tran/data/bbn_orig/058'"
      ]
     },
     "execution_count": 109,
     "metadata": {},
     "output_type": "execute_result"
    }
   ],
   "source": [
    "%pwd"
   ]
  },
  {
   "cell_type": "code",
   "execution_count": 110,
   "metadata": {
    "ExecuteTime": {
     "end_time": "2019-09-05T05:23:57.793054Z",
     "start_time": "2019-09-05T05:23:57.613527Z"
    }
   },
   "outputs": [
    {
     "name": "stdout",
     "output_type": "stream",
     "text": [
      "\u001b[0m\u001b[01;34mauto-segmented\u001b[0m/  \u001b[01;34moriginals\u001b[0m/  \u001b[01;34mrejected\u001b[0m/\r\n"
     ]
    }
   ],
   "source": [
    "%ls"
   ]
  },
  {
   "cell_type": "code",
   "execution_count": 111,
   "metadata": {
    "ExecuteTime": {
     "end_time": "2019-09-05T05:23:57.812518Z",
     "start_time": "2019-09-05T05:23:57.795079Z"
    }
   },
   "outputs": [
    {
     "data": {
      "text/plain": [
       "True"
      ]
     },
     "execution_count": 111,
     "metadata": {},
     "output_type": "execute_result"
    }
   ],
   "source": [
    "set(os.listdir('./auto-segmented/')) == set(os.listdir('./rejected/'))"
   ]
  },
  {
   "cell_type": "code",
   "execution_count": 112,
   "metadata": {
    "ExecuteTime": {
     "end_time": "2019-09-05T05:23:57.818092Z",
     "start_time": "2019-09-05T05:23:57.814038Z"
    }
   },
   "outputs": [
    {
     "data": {
      "text/plain": [
       "['fe_03_05863.ana',\n",
       " 'fe_03_05863.trn',\n",
       " 'fe_03_05876.ana',\n",
       " 'fe_03_05876.trn',\n",
       " 'fe_03_05887.ana',\n",
       " 'fe_03_05887.trn',\n",
       " 'fe_03_05888.ana',\n",
       " 'fe_03_05888.trn',\n",
       " 'fe_03_05889.ana',\n",
       " 'fe_03_05889.trn',\n",
       " 'fe_03_05898.ana',\n",
       " 'fe_03_05898.trn']"
      ]
     },
     "execution_count": 112,
     "metadata": {},
     "output_type": "execute_result"
    }
   ],
   "source": [
    "os.listdir('./auto-segmented/')"
   ]
  },
  {
   "cell_type": "code",
   "execution_count": 113,
   "metadata": {
    "ExecuteTime": {
     "end_time": "2019-09-05T05:23:57.822240Z",
     "start_time": "2019-09-05T05:23:57.819306Z"
    }
   },
   "outputs": [
    {
     "data": {
      "text/plain": [
       "'05898'"
      ]
     },
     "execution_count": 113,
     "metadata": {},
     "output_type": "execute_result"
    }
   ],
   "source": [
    "'fe_03_05898.trn'[6:11]"
   ]
  },
  {
   "cell_type": "code",
   "execution_count": 114,
   "metadata": {
    "ExecuteTime": {
     "end_time": "2019-09-05T05:23:57.826435Z",
     "start_time": "2019-09-05T05:23:57.823487Z"
    }
   },
   "outputs": [],
   "source": [
    "def fn_to_call_id_bbn(bbn_fn):\n",
    "    return bbn_fn[6:11]"
   ]
  },
  {
   "cell_type": "code",
   "execution_count": 115,
   "metadata": {
    "ExecuteTime": {
     "end_time": "2019-09-05T05:23:57.831520Z",
     "start_time": "2019-09-05T05:23:57.827729Z"
    }
   },
   "outputs": [],
   "source": [
    "def get_call_ids_in_group_dir(group_dir):\n",
    "    autosegmented_files = set(os.listdir('./auto-segmented/'))\n",
    "    rejected_files = set(os.listdir('./rejected'))\n",
    "    autosegmented_call_ids = set(map(fn_to_call_id_bbn,\n",
    "                                     autosegmented_files))\n",
    "    rejected_call_ids = set(map(fn_to_call_id_bbn,\n",
    "                                rejected_files))\n",
    "    return sorted(list(autosegmented_call_ids | rejected_call_ids))"
   ]
  },
  {
   "cell_type": "code",
   "execution_count": 116,
   "metadata": {
    "ExecuteTime": {
     "end_time": "2019-09-05T05:23:57.838187Z",
     "start_time": "2019-09-05T05:23:57.832690Z"
    }
   },
   "outputs": [
    {
     "data": {
      "text/plain": [
       "['05863', '05876', '05887', '05888', '05889', '05898']"
      ]
     },
     "execution_count": 116,
     "metadata": {},
     "output_type": "execute_result"
    }
   ],
   "source": [
    "get_call_ids_in_group_dir('.')"
   ]
  },
  {
   "cell_type": "code",
   "execution_count": 117,
   "metadata": {
    "ExecuteTime": {
     "end_time": "2019-09-05T05:23:57.845716Z",
     "start_time": "2019-09-05T05:23:57.839404Z"
    }
   },
   "outputs": [],
   "source": [
    "def call_id_to_relation_bbn(call_id, group_dir):\n",
    "    fn_prefix = 'fe_03_'\n",
    "    suffix_a = '.ana'\n",
    "    suffix_b = '.trn'\n",
    "    ana_fn = fn_prefix + call_id + suffix_a\n",
    "    trn_fn = fn_prefix + call_id + suffix_b\n",
    "    loc_prefix = os.path.join(bbn_data_dir, group_dir)\n",
    "    return {'call_id':call_id,\n",
    "            'trn_fn':trn_fn,\n",
    "            'ana_fn':ana_fn,\n",
    "            'auto-segmented_trn_location':os.path.join(loc_prefix, 'auto-segmented/' + trn_fn),\n",
    "            'rejected_trn_location':os.path.join(loc_prefix, 'rejected/' + trn_fn) if os.path.isfile(os.path.join(loc_prefix, 'rejected/' + trn_fn)) else '',\n",
    "            'auto-segmented_ana_location':os.path.join(loc_prefix, 'auto-segmented/' + ana_fn),\n",
    "            'rejected_ana_location':os.path.join(loc_prefix, 'rejected/' + ana_fn) if os.path.isfile(os.path.join(loc_prefix, 'rejected/' + ana_fn)) else '',}"
   ]
  },
  {
   "cell_type": "code",
   "execution_count": 118,
   "metadata": {
    "ExecuteTime": {
     "end_time": "2019-09-05T05:23:57.851623Z",
     "start_time": "2019-09-05T05:23:57.846648Z"
    }
   },
   "outputs": [
    {
     "data": {
      "text/plain": [
       "'/mnt/truffle/corpora/fisher_english_transcripts/fe_03_p2_tran/data/bbn_orig/058'"
      ]
     },
     "execution_count": 118,
     "metadata": {},
     "output_type": "execute_result"
    }
   ],
   "source": [
    "%pwd"
   ]
  },
  {
   "cell_type": "code",
   "execution_count": 119,
   "metadata": {
    "ExecuteTime": {
     "end_time": "2019-09-05T05:23:57.859356Z",
     "start_time": "2019-09-05T05:23:57.852553Z"
    }
   },
   "outputs": [
    {
     "data": {
      "text/plain": [
       "['fe_03_05863.ana',\n",
       " 'fe_03_05863.trn',\n",
       " 'fe_03_05876.ana',\n",
       " 'fe_03_05876.trn',\n",
       " 'fe_03_05887.ana',\n",
       " 'fe_03_05887.trn',\n",
       " 'fe_03_05888.ana',\n",
       " 'fe_03_05888.trn',\n",
       " 'fe_03_05889.ana',\n",
       " 'fe_03_05889.trn',\n",
       " 'fe_03_05898.ana',\n",
       " 'fe_03_05898.trn']"
      ]
     },
     "execution_count": 119,
     "metadata": {},
     "output_type": "execute_result"
    },
    {
     "data": {
      "text/plain": [
       "['fe_03_05863.ana',\n",
       " 'fe_03_05863.trn',\n",
       " 'fe_03_05876.ana',\n",
       " 'fe_03_05876.trn',\n",
       " 'fe_03_05887.ana',\n",
       " 'fe_03_05887.trn',\n",
       " 'fe_03_05888.ana',\n",
       " 'fe_03_05888.trn',\n",
       " 'fe_03_05889.ana',\n",
       " 'fe_03_05889.trn',\n",
       " 'fe_03_05898.ana',\n",
       " 'fe_03_05898.trn']"
      ]
     },
     "execution_count": 119,
     "metadata": {},
     "output_type": "execute_result"
    }
   ],
   "source": [
    "os.listdir('./auto-segmented/')\n",
    "os.listdir('./rejected/')"
   ]
  },
  {
   "cell_type": "code",
   "execution_count": 120,
   "metadata": {
    "ExecuteTime": {
     "end_time": "2019-09-05T05:23:57.865117Z",
     "start_time": "2019-09-05T05:23:57.860686Z"
    }
   },
   "outputs": [
    {
     "data": {
      "text/plain": [
       "{'call_id': '05863',\n",
       " 'trn_fn': 'fe_03_05863.trn',\n",
       " 'ana_fn': 'fe_03_05863.ana',\n",
       " 'auto-segmented_trn_location': '/mnt/truffle/corpora/fisher_english_transcripts/fe_03_p2_tran/data/bbn_orig/058/auto-segmented/fe_03_05863.trn',\n",
       " 'rejected_trn_location': '/mnt/truffle/corpora/fisher_english_transcripts/fe_03_p2_tran/data/bbn_orig/058/rejected/fe_03_05863.trn',\n",
       " 'auto-segmented_ana_location': '/mnt/truffle/corpora/fisher_english_transcripts/fe_03_p2_tran/data/bbn_orig/058/auto-segmented/fe_03_05863.ana',\n",
       " 'rejected_ana_location': '/mnt/truffle/corpora/fisher_english_transcripts/fe_03_p2_tran/data/bbn_orig/058/rejected/fe_03_05863.ana'}"
      ]
     },
     "execution_count": 120,
     "metadata": {},
     "output_type": "execute_result"
    },
    {
     "data": {
      "text/plain": [
       "'/mnt/truffle/corpora/fisher_english_transcripts/fe_03_p2_tran/data/bbn_orig/058/auto-segmented/fe_03_05863.trn'"
      ]
     },
     "execution_count": 120,
     "metadata": {},
     "output_type": "execute_result"
    }
   ],
   "source": [
    "call_id_to_relation_bbn('05863', '058')\n",
    "\n",
    "loc = call_id_to_relation_bbn('05863', '058')['auto-segmented_trn_location']\n",
    "loc"
   ]
  },
  {
   "cell_type": "code",
   "execution_count": 121,
   "metadata": {
    "ExecuteTime": {
     "end_time": "2019-09-05T05:23:57.869369Z",
     "start_time": "2019-09-05T05:23:57.866315Z"
    }
   },
   "outputs": [
    {
     "data": {
      "text/plain": [
       "'/mnt/truffle/corpora/fisher_english_transcripts/fe_03_p2_tran/data/bbn_orig'"
      ]
     },
     "execution_count": 121,
     "metadata": {},
     "output_type": "execute_result"
    }
   ],
   "source": [
    "os.chdir(bbn_data_dir)\n",
    "os.getcwd()"
   ]
  },
  {
   "cell_type": "code",
   "execution_count": 122,
   "metadata": {
    "ExecuteTime": {
     "end_time": "2019-09-05T05:24:00.710486Z",
     "start_time": "2019-09-05T05:23:57.870311Z"
    }
   },
   "outputs": [],
   "source": [
    "bbn_call_relation = []\n",
    "for folder in bbn_folders:\n",
    "    os.chdir(folder)\n",
    "    for call_id in get_call_ids_in_group_dir('.'):\n",
    "        bbn_call_relation.append(call_id_to_relation_bbn(call_id, folder))\n",
    "    os.chdir('..')"
   ]
  },
  {
   "cell_type": "code",
   "execution_count": 123,
   "metadata": {
    "ExecuteTime": {
     "end_time": "2019-09-05T05:24:00.716527Z",
     "start_time": "2019-09-05T05:24:00.712155Z"
    }
   },
   "outputs": [
    {
     "data": {
      "text/plain": [
       "[{'call_id': '05863',\n",
       "  'trn_fn': 'fe_03_05863.trn',\n",
       "  'ana_fn': 'fe_03_05863.ana',\n",
       "  'auto-segmented_trn_location': '/mnt/truffle/corpora/fisher_english_transcripts/fe_03_p2_tran/data/bbn_orig/058/auto-segmented/fe_03_05863.trn',\n",
       "  'rejected_trn_location': '/mnt/truffle/corpora/fisher_english_transcripts/fe_03_p2_tran/data/bbn_orig/058/rejected/fe_03_05863.trn',\n",
       "  'auto-segmented_ana_location': '/mnt/truffle/corpora/fisher_english_transcripts/fe_03_p2_tran/data/bbn_orig/058/auto-segmented/fe_03_05863.ana',\n",
       "  'rejected_ana_location': '/mnt/truffle/corpora/fisher_english_transcripts/fe_03_p2_tran/data/bbn_orig/058/rejected/fe_03_05863.ana'},\n",
       " {'call_id': '05876',\n",
       "  'trn_fn': 'fe_03_05876.trn',\n",
       "  'ana_fn': 'fe_03_05876.ana',\n",
       "  'auto-segmented_trn_location': '/mnt/truffle/corpora/fisher_english_transcripts/fe_03_p2_tran/data/bbn_orig/058/auto-segmented/fe_03_05876.trn',\n",
       "  'rejected_trn_location': '/mnt/truffle/corpora/fisher_english_transcripts/fe_03_p2_tran/data/bbn_orig/058/rejected/fe_03_05876.trn',\n",
       "  'auto-segmented_ana_location': '/mnt/truffle/corpora/fisher_english_transcripts/fe_03_p2_tran/data/bbn_orig/058/auto-segmented/fe_03_05876.ana',\n",
       "  'rejected_ana_location': '/mnt/truffle/corpora/fisher_english_transcripts/fe_03_p2_tran/data/bbn_orig/058/rejected/fe_03_05876.ana'},\n",
       " {'call_id': '05887',\n",
       "  'trn_fn': 'fe_03_05887.trn',\n",
       "  'ana_fn': 'fe_03_05887.ana',\n",
       "  'auto-segmented_trn_location': '/mnt/truffle/corpora/fisher_english_transcripts/fe_03_p2_tran/data/bbn_orig/058/auto-segmented/fe_03_05887.trn',\n",
       "  'rejected_trn_location': '/mnt/truffle/corpora/fisher_english_transcripts/fe_03_p2_tran/data/bbn_orig/058/rejected/fe_03_05887.trn',\n",
       "  'auto-segmented_ana_location': '/mnt/truffle/corpora/fisher_english_transcripts/fe_03_p2_tran/data/bbn_orig/058/auto-segmented/fe_03_05887.ana',\n",
       "  'rejected_ana_location': '/mnt/truffle/corpora/fisher_english_transcripts/fe_03_p2_tran/data/bbn_orig/058/rejected/fe_03_05887.ana'}]"
      ]
     },
     "execution_count": 123,
     "metadata": {},
     "output_type": "execute_result"
    }
   ],
   "source": [
    "bbn_call_relation[:3]"
   ]
  },
  {
   "cell_type": "markdown",
   "metadata": {},
   "source": [
    "## Organizing transcriptions of each call"
   ]
  },
  {
   "cell_type": "code",
   "execution_count": 124,
   "metadata": {
    "ExecuteTime": {
     "end_time": "2019-09-05T05:24:00.722770Z",
     "start_time": "2019-09-05T05:24:00.718215Z"
    }
   },
   "outputs": [
    {
     "data": {
      "text/plain": [
       "'/mnt/truffle/corpora/fisher_english_transcripts/fe_03_p2_tran/data/bbn_orig/058'"
      ]
     },
     "execution_count": 124,
     "metadata": {},
     "output_type": "execute_result"
    }
   ],
   "source": [
    "os.chdir(os.path.join(bbn_data_dir, '058'))\n",
    "os.getcwd()"
   ]
  },
  {
   "cell_type": "code",
   "execution_count": 125,
   "metadata": {
    "ExecuteTime": {
     "end_time": "2019-09-05T05:24:00.906746Z",
     "start_time": "2019-09-05T05:24:00.724059Z"
    }
   },
   "outputs": [
    {
     "name": "stdout",
     "output_type": "stream",
     "text": [
      "\u001b[0m\u001b[01;32mfe_03_05863.ana\u001b[0m*  \u001b[01;32mfe_03_05876.trn\u001b[0m*  \u001b[01;32mfe_03_05888.ana\u001b[0m*  \u001b[01;32mfe_03_05889.trn\u001b[0m*\r\n",
      "\u001b[01;32mfe_03_05863.trn\u001b[0m*  \u001b[01;32mfe_03_05887.ana\u001b[0m*  \u001b[01;32mfe_03_05888.trn\u001b[0m*  \u001b[01;32mfe_03_05898.ana\u001b[0m*\r\n",
      "\u001b[01;32mfe_03_05876.ana\u001b[0m*  \u001b[01;32mfe_03_05887.trn\u001b[0m*  \u001b[01;32mfe_03_05889.ana\u001b[0m*  \u001b[01;32mfe_03_05898.trn\u001b[0m*\r\n"
     ]
    }
   ],
   "source": [
    "%ls auto-segmented/"
   ]
  },
  {
   "cell_type": "markdown",
   "metadata": {},
   "source": [
    "#### Parsing transcription lines"
   ]
  },
  {
   "cell_type": "code",
   "execution_count": 126,
   "metadata": {
    "ExecuteTime": {
     "end_time": "2019-09-05T05:24:01.094340Z",
     "start_time": "2019-09-05T05:24:00.908806Z"
    }
   },
   "outputs": [
    {
     "name": "stdout",
     "output_type": "stream",
     "text": [
      "     1\tHI [LAUGHTER]  (fe_03_05863-A-0001)\r\n",
      "     2\tHI MY NAME IS ZELDA  (fe_03_05863-A-0002)\r\n",
      "     3\tHI MONIQUE  (fe_03_05863-A-0003)\r\n",
      "     4\tI'M FINE AND YOU  (fe_03_05863-A-0004)\r\n",
      "     5\tGOOD  (fe_03_05863-A-0005)\r\n",
      "     6\tOKAY UM  (fe_03_05863-A-0006)\r\n",
      "     7\tI WOULD NOT DO IT  (fe_03_05863-A-0007)\r\n",
      "     8\t[NOISE] RIGHT I WOULDN'T UM DO YOU KID- ESP- UH TODAY I MEAN  (fe_03_05863-A-0008)\r\n",
      "     9\tPEOPLE LOOK AT MONEY MONEY IS EVERYTHING IT'S LIKE THEY THINK THAT MONEY'S GOING TO RESOLVE ALL THEIR PROBLEMS AND A MILLION DOLLARS TODAY IS NOT A LOT OF MONEY AND I WOULD AND THAT'S A BETRAYAL TO ME [NOISE]  (fe_03_05863-A-0009)\r\n",
      "    10\tRIGHT RIGHT  (fe_03_05863-A-0010)\r\n",
      "    11\tNO  (fe_03_05863-A-0011)\r\n",
      "    12\tI THINK HUMAN BEINGS ARE PR- UM [LIPSMACK] FRIENDSHIP RELAT- RELATIONSHIPS WITH PEOPLE ARE A LOT MORE IMPORTANT THAN MONEY  (fe_03_05863-A-0012)\r\n",
      "    13\tTHEN YOU WEREN'T REALLY THEIR BEST FRIEND EITHER  (fe_03_05863-A-0013)\r\n",
      "    14\tRIGHT RIGHT  (fe_03_05863-A-0014)\r\n",
      "    15\tNO  (fe_03_05863-A-0015)\r\n",
      "    16\tMM  (fe_03_05863-A-0016)\r\n",
      "    17\tI DON'T THINK ANY MONEY IS WORTH ANYONE'S LIFE UH A HUMAN A PERSON'S LIFE IS WORTH EVERYTHING  (fe_03_05863-A-0017)\r\n",
      "    18\tAMEN [LAUGHTER] IS RIGHT [LAUGHTER]  (fe_03_05863-A-0018)\r\n",
      "    19\tI MEAN I- THERE'S NOT REALLY MUCH THAT WE CAN DEBATE ON THIS BECAUSE WE REALLY AGREED ON IT YOU KNOW [LAUGHTER]  (fe_03_05863-A-0019)\r\n",
      "    20\tRIGHT  (fe_03_05863-A-0020)\r\n",
      "    21\tYEAH  (fe_03_05863-A-0022)\r\n",
      "    22\tACTUALLY MY RIGHT RIGHT  (fe_03_05863-A-0023)\r\n",
      "    23\tI WAS ACTUALLY TALKING TO MY BEST FRIEND ON THE PHONE WHEN I GOT THIS CALL [LAUGHTER] SO I SAID I GOT TO CALL YOU BACK  (fe_03_05863-A-0024)\r\n",
      "    24\tAND MY AND MY BEST FRIEND IS ACTUALLY A RELATIVE  (fe_03_05863-A-0025)\r\n",
      "    25\tSO  (fe_03_05863-A-0026)\r\n"
     ]
    }
   ],
   "source": [
    "%cat -n ./auto-segmented/fe_03_05863.trn | head -25"
   ]
  },
  {
   "cell_type": "code",
   "execution_count": 127,
   "metadata": {
    "ExecuteTime": {
     "end_time": "2019-09-05T05:24:01.279266Z",
     "start_time": "2019-09-05T05:24:01.096545Z"
    }
   },
   "outputs": [
    {
     "name": "stdout",
     "output_type": "stream",
     "text": [
      "     1\tBUT UM (fe_03_05863-A-0021)\r\n",
      "     2\tNO NO (fe_03_05863-A-0045)\r\n",
      "     3\tUM (fe_03_05863-A-0065)\r\n",
      "     4\t[LIPSMACK] OH (fe_03_05863-A-0066)\r\n",
      "     5\tREALLY (fe_03_05863-A-0105)\r\n",
      "     6\tYEAH MHM (fe_03_05863-A-0109)\r\n",
      "     7\tTHAT'S WHAT I SAY MHM (fe_03_05863-A-0113)\r\n",
      "     8\tYOU KNOW (fe_03_05863-A-0121)\r\n",
      "     9\tYEAH (fe_03_05863-A-0122)\r\n",
      "    10\tON ME THERE OOH THAT'S WHY UM I'M I'M LOSING YA (fe_03_05863-A-0125)\r\n",
      "    11\t[NOISE] HELLO HOW ARE YOU DOING MY (fe_03_05863-B-0002)\r\n",
      "    12\tHOW'RE YOU DOING (fe_03_05863-B-0004)\r\n",
      "    13\tMM MM (fe_03_05863-B-0019)\r\n",
      "    14\t[LAUGHTER] OH BOY [SIGH] (fe_03_05863-B-0021)\r\n",
      "    15\tLET'S SEE LET'S SEE (fe_03_05863-B-0022)\r\n",
      "    16\tYOU KNOW (fe_03_05863-B-0027)\r\n",
      "    17\t[NOISE] (fe_03_05863-B-0029)\r\n",
      "    18\tUH-HUH (fe_03_05863-B-0034)\r\n",
      "    19\tYOU LIVE IN CALIFORNIA (fe_03_05863-B-0039)\r\n",
      "    20\tMAN (fe_03_05863-B-0045)\r\n"
     ]
    }
   ],
   "source": [
    "%cat -n ./rejected/fe_03_05863.trn | head -20"
   ]
  },
  {
   "cell_type": "markdown",
   "metadata": {},
   "source": [
    "As indicated in `https://catalog.ldc.upenn.edu/docs/LDC2005T19/bbn_trans_readme.txt`, `.trn` files are in .SNOR format:\n",
    " - mono-case with no syntactic punctuation\n",
    " - each line is one \"utterance\"\n",
    " - each line ends with a unique utterance ID in parentheses\n",
    "\n",
    "Non-speech noises seem to be indicated by square brackets (e.g. `[LAUGHTER]`)."
   ]
  },
  {
   "cell_type": "code",
   "execution_count": 128,
   "metadata": {
    "ExecuteTime": {
     "end_time": "2019-09-05T05:24:01.296706Z",
     "start_time": "2019-09-05T05:24:01.281390Z"
    }
   },
   "outputs": [
    {
     "data": {
      "text/plain": [
       "{'speech_raw': '[LAUGHTER] OH BOY [SIGH]',\n",
       " 'speech': 'oh boy',\n",
       " 'n_words': 2,\n",
       " 'has_words': True,\n",
       " 'utterance_id': 'fe_03_05863-B-0021',\n",
       " 'call_id': '05863',\n",
       " 'speaker': 'B'}"
      ]
     },
     "execution_count": 128,
     "metadata": {},
     "output_type": "execute_result"
    },
    {
     "data": {
      "text/plain": [
       "{'speech_raw': '[LAUGHTER] THE DEAD S',\n",
       " 'speech': 'the dead s',\n",
       " 'n_words': 3,\n",
       " 'has_words': True,\n",
       " 'utterance_id': 'fe_03_10453-A-0023',\n",
       " 'call_id': '10453',\n",
       " 'speaker': 'A'}"
      ]
     },
     "execution_count": 128,
     "metadata": {},
     "output_type": "execute_result"
    }
   ],
   "source": [
    "def parse_trn_line_bbn(bbn_line):\n",
    "    parts = bbn_line.split(' ')\n",
    "    \n",
    "#     utterance_id = parts[-1]\n",
    "    utterance_id = parts[-1][1:-1] #strip parentheses off\n",
    "    \n",
    "    speech_raw_words = parts[:-1]\n",
    "    speech_raw = ' '.join(speech_raw_words)\n",
    "    speech_raw = speech_raw.rstrip()\n",
    "    \n",
    "    if utterance_id == \"(fe_03_07397-A-0028\":\n",
    "        utterance_id = \"fe_03_07397-A-0028\"\n",
    "        speech_raw_words += ['S']\n",
    "        speech_raw += ' S'\n",
    "    elif utterance_id == \"(fe_03_10453-A-0023\":\n",
    "        utterance_id = \"fe_03_10453-A-0023\"\n",
    "        speech_raw_words += ['S']\n",
    "        speech_raw += ' S'\n",
    "    \n",
    "#     speech_filtered_words = [w for w in speech_raw_words if len(w) > 0 and w[0] != '[' and w[-1] != ']']\n",
    "#     speech = ' '.join(speech_filtered_words)\n",
    "#     speech = speech.rstrip()\n",
    "    speech = process(speech_raw)\n",
    "        \n",
    "    line_rel = {'speech_raw':speech_raw,\n",
    "                'speech':speech,\n",
    "                'n_words':len(speech.split(' ')),\n",
    "                'has_words': False if speech == '' else True,\n",
    "                'utterance_id':utterance_id,\n",
    "                'call_id':utterance_id[6:11],\n",
    "                'speaker':utterance_id[12:13]}\n",
    "    \n",
    "    return line_rel\n",
    "\n",
    "parse_trn_line_bbn('[LAUGHTER] OH BOY [SIGH] (fe_03_05863-B-0021)')\n",
    "parse_trn_line_bbn(\"[LAUGHTER] THE DEAD S(fe_03_10453-A-0023)\")"
   ]
  },
  {
   "cell_type": "code",
   "execution_count": 129,
   "metadata": {
    "ExecuteTime": {
     "end_time": "2019-09-05T05:24:01.301403Z",
     "start_time": "2019-09-05T05:24:01.297752Z"
    }
   },
   "outputs": [
    {
     "data": {
      "text/plain": [
       "'10453'"
      ]
     },
     "execution_count": 129,
     "metadata": {},
     "output_type": "execute_result"
    },
    {
     "data": {
      "text/plain": [
       "'A'"
      ]
     },
     "execution_count": 129,
     "metadata": {},
     "output_type": "execute_result"
    }
   ],
   "source": [
    "\"fe_03_10453-A-0023\"[6:11]\n",
    "\"fe_03_10453-A-0023\"[12:13]"
   ]
  },
  {
   "cell_type": "markdown",
   "metadata": {},
   "source": [
    "As indicated in `https://catalog.ldc.upenn.edu/docs/LDC2005T19/bbn_trans_readme.txt`, each line of an `.ana` file indicates the start and end times (in samples) of each utterance:\n",
    " - the last column is an utterance id\n",
    " - the second or third from last column indicates the sample range of the utterance"
   ]
  },
  {
   "cell_type": "code",
   "execution_count": 130,
   "metadata": {
    "ExecuteTime": {
     "end_time": "2019-09-05T05:24:01.483936Z",
     "start_time": "2019-09-05T05:24:01.302514Z"
    }
   },
   "outputs": [
    {
     "name": "stdout",
     "output_type": "stream",
     "text": [
      "     1\tfe_03_05863 -c 1 -t NIST_1A -f 966480-974640 -o fe_03_05863-A-0021\r\n",
      "     2\tfe_03_05863 -c 1 -t NIST_1A -f 1821360-1826880 -o fe_03_05863-A-0045\r\n",
      "     3\tfe_03_05863 -c 1 -t NIST_1A -f 2573120-2579840 -o fe_03_05863-A-0065\r\n",
      "     4\tfe_03_05863 -c 1 -t NIST_1A -f 2592080-2598160 -o fe_03_05863-A-0066\r\n",
      "     5\tfe_03_05863 -c 1 -t NIST_1A -f 4225360-4233200 -o fe_03_05863-A-0105\r\n",
      "     6\tfe_03_05863 -c 1 -t NIST_1A -f 4392240-4404720 -o fe_03_05863-A-0109\r\n",
      "     7\tfe_03_05863 -c 1 -t NIST_1A -f 4482880-4492720 -o fe_03_05863-A-0113\r\n",
      "     8\tfe_03_05863 -c 1 -t NIST_1A -f 4687600-4694240 -o fe_03_05863-A-0121\r\n",
      "     9\tfe_03_05863 -c 1 -t NIST_1A -f 4702240-4710880 -o fe_03_05863-A-0122\r\n",
      "    10\tfe_03_05863 -c 1 -t NIST_1A -f 4772000-4799200 -o fe_03_05863-A-0125\r\n",
      "    11\tfe_03_05863 -c 2 -t NIST_1A -f 20240-32480 -o fe_03_05863-B-0002\r\n",
      "    12\tfe_03_05863 -c 2 -t NIST_1A -f 71360-80240 -o fe_03_05863-B-0004\r\n",
      "    13\tfe_03_05863 -c 2 -t NIST_1A -f 755440-762000 -o fe_03_05863-B-0019\r\n",
      "    14\tfe_03_05863 -c 2 -t NIST_1A -f 806960-840560 -o fe_03_05863-B-0021\r\n",
      "    15\tfe_03_05863 -c 2 -t NIST_1A -f 843120-860480 -o fe_03_05863-B-0022\r\n",
      "    16\tfe_03_05863 -c 2 -t NIST_1A -f 1083360-1090720 -o fe_03_05863-B-0027\r\n",
      "    17\tfe_03_05863 -c 2 -t NIST_1A -f 1208480-1213200 -o fe_03_05863-B-0029\r\n",
      "    18\tfe_03_05863 -c 2 -t NIST_1A -f 1456400-1462880 -o fe_03_05863-B-0034\r\n",
      "    19\tfe_03_05863 -c 2 -t NIST_1A -f 1609280-1620960 -o fe_03_05863-B-0039\r\n",
      "    20\tfe_03_05863 -c 2 -t NIST_1A -f 1829200-1836720 -o fe_03_05863-B-0045\r\n"
     ]
    }
   ],
   "source": [
    "%cat -n ./rejected/fe_03_05863.ana | head -20"
   ]
  },
  {
   "cell_type": "code",
   "execution_count": 131,
   "metadata": {
    "ExecuteTime": {
     "end_time": "2019-09-05T05:24:01.494486Z",
     "start_time": "2019-09-05T05:24:01.486002Z"
    }
   },
   "outputs": [
    {
     "data": {
      "text/plain": [
       "['fe_03_05863',\n",
       " '-c',\n",
       " '2',\n",
       " '-t',\n",
       " 'NIST_1A',\n",
       " '-f',\n",
       " '1829200-1836720',\n",
       " '-o',\n",
       " 'fe_03_05863-B-0045']"
      ]
     },
     "execution_count": 131,
     "metadata": {},
     "output_type": "execute_result"
    },
    {
     "data": {
      "text/plain": [
       "'1829200-1836720'"
      ]
     },
     "execution_count": 131,
     "metadata": {},
     "output_type": "execute_result"
    },
    {
     "data": {
      "text/plain": [
       "['1829200', '1836720']"
      ]
     },
     "execution_count": 131,
     "metadata": {},
     "output_type": "execute_result"
    }
   ],
   "source": [
    "\"fe_03_05863 -c 2 -t NIST_1A -f 1829200-1836720 -o fe_03_05863-B-0045\".split(' ')\n",
    "\"fe_03_05863 -c 2 -t NIST_1A -f 1829200-1836720 -o fe_03_05863-B-0045\".split(' ')[-3]\n",
    "\"fe_03_05863 -c 2 -t NIST_1A -f 1829200-1836720 -o fe_03_05863-B-0045\".split(' ')[-3].split('-')"
   ]
  },
  {
   "cell_type": "code",
   "execution_count": 132,
   "metadata": {
    "ExecuteTime": {
     "end_time": "2019-09-05T05:24:01.502480Z",
     "start_time": "2019-09-05T05:24:01.495990Z"
    }
   },
   "outputs": [
    {
     "data": {
      "text/plain": [
       "{'utterance_id': 'fe_03_05863-B-0045',\n",
       " 'start': 1829200,\n",
       " 'end': 1836720,\n",
       " 'duration': 7520,\n",
       " 'audio_fn': 'fe_03_05863.sph',\n",
       " 'channel': 2,\n",
       " 'type': 'NIST_1A'}"
      ]
     },
     "execution_count": 132,
     "metadata": {},
     "output_type": "execute_result"
    }
   ],
   "source": [
    "def parse_ana_line_bbn(bbn_line):\n",
    "    parts = bbn_line.split(' ')\n",
    "    \n",
    "#     utterance_id = parts[-1]\n",
    "    utterance_id = parts[-1]\n",
    "    \n",
    "    audio_ext = '.sph'\n",
    "    audio_fn = parts[0] + audio_ext\n",
    "    \n",
    "    channel = int(parts[2])\n",
    "    \n",
    "    ch_type = parts[4]\n",
    "    \n",
    "    utterance_sample_range = parts[-3]\n",
    "    \n",
    "    start_sample = int(utterance_sample_range.split('-')[0])\n",
    "    end_sample = int(utterance_sample_range.split('-')[1])\n",
    "    duration = end_sample - start_sample\n",
    "    \n",
    "    line_rel = {'utterance_id':utterance_id,\n",
    "                'start':start_sample,\n",
    "                'end':end_sample,\n",
    "                'duration':duration,\n",
    "                'audio_fn':audio_fn,\n",
    "                'channel':channel,\n",
    "                'type':ch_type}\n",
    "    \n",
    "    return line_rel\n",
    "\n",
    "parse_ana_line_bbn(\"fe_03_05863 -c 2 -t NIST_1A -f 1829200-1836720 -o fe_03_05863-B-0045\")"
   ]
  },
  {
   "cell_type": "markdown",
   "metadata": {},
   "source": [
    "### Parsing files"
   ]
  },
  {
   "cell_type": "code",
   "execution_count": 133,
   "metadata": {
    "ExecuteTime": {
     "end_time": "2019-09-05T05:24:01.507785Z",
     "start_time": "2019-09-05T05:24:01.504036Z"
    }
   },
   "outputs": [],
   "source": [
    "def parse_trn_file_bbn(bbn_fp):\n",
    "    bbn_lines = []\n",
    "    with open(bbn_fp, 'r') as file:\n",
    "        for line in file:\n",
    "            bbn_lines.append(line.rstrip())\n",
    "    parsed_lines = [parse_trn_line_bbn(l) for l in bbn_lines]\n",
    "    return parsed_lines"
   ]
  },
  {
   "cell_type": "code",
   "execution_count": 134,
   "metadata": {
    "ExecuteTime": {
     "end_time": "2019-09-05T05:24:01.514158Z",
     "start_time": "2019-09-05T05:24:01.509074Z"
    }
   },
   "outputs": [
    {
     "data": {
      "text/plain": [
       "'/mnt/truffle/corpora/fisher_english_transcripts/fe_03_p2_tran/data/bbn_orig/058'"
      ]
     },
     "execution_count": 134,
     "metadata": {},
     "output_type": "execute_result"
    }
   ],
   "source": [
    "%pwd"
   ]
  },
  {
   "cell_type": "code",
   "execution_count": 135,
   "metadata": {
    "ExecuteTime": {
     "end_time": "2019-09-05T05:24:01.693136Z",
     "start_time": "2019-09-05T05:24:01.515467Z"
    }
   },
   "outputs": [
    {
     "name": "stdout",
     "output_type": "stream",
     "text": [
      "\u001b[0m\u001b[01;32mfe_03_05863.ana\u001b[0m*  \u001b[01;32mfe_03_05876.trn\u001b[0m*  \u001b[01;32mfe_03_05888.ana\u001b[0m*  \u001b[01;32mfe_03_05889.trn\u001b[0m*\r\n",
      "\u001b[01;32mfe_03_05863.trn\u001b[0m*  \u001b[01;32mfe_03_05887.ana\u001b[0m*  \u001b[01;32mfe_03_05888.trn\u001b[0m*  \u001b[01;32mfe_03_05898.ana\u001b[0m*\r\n",
      "\u001b[01;32mfe_03_05876.ana\u001b[0m*  \u001b[01;32mfe_03_05887.trn\u001b[0m*  \u001b[01;32mfe_03_05889.ana\u001b[0m*  \u001b[01;32mfe_03_05898.trn\u001b[0m*\r\n"
     ]
    }
   ],
   "source": [
    "%ls ./auto-segmented"
   ]
  },
  {
   "cell_type": "code",
   "execution_count": 136,
   "metadata": {
    "ExecuteTime": {
     "end_time": "2019-09-05T05:24:01.725965Z",
     "start_time": "2019-09-05T05:24:01.695271Z"
    }
   },
   "outputs": [
    {
     "data": {
      "text/plain": [
       "[{'speech_raw': 'H- HI THIS IS DEBBIE',\n",
       "  'speech': '<rem> hi this is debbie',\n",
       "  'n_words': 5,\n",
       "  'has_words': True,\n",
       "  'utterance_id': 'fe_03_05876-A-0001',\n",
       "  'call_id': '05876',\n",
       "  'speaker': 'A'},\n",
       " {'speech_raw': 'HI SYLVIA',\n",
       "  'speech': 'hi sylvia',\n",
       "  'n_words': 2,\n",
       "  'has_words': True,\n",
       "  'utterance_id': 'fe_03_05876-A-0002',\n",
       "  'call_id': '05876',\n",
       "  'speaker': 'A'},\n",
       " {'speech_raw': \"[LAUGHTER] I'M JUST TRYING TO GET OVER THIS QUESTION\",\n",
       "  'speech': \"i'm just trying to get over this question\",\n",
       "  'n_words': 8,\n",
       "  'has_words': True,\n",
       "  'utterance_id': 'fe_03_05876-A-0003',\n",
       "  'call_id': '05876',\n",
       "  'speaker': 'A'},\n",
       " {'speech_raw': \"UH NO IT'S MY SECOND CALL BUT THEY JUST SEEM TO GET MO- [LAUGHTER] MORE AND MORE RIDICULOUS\",\n",
       "  'speech': \"uh no it's my second call but they just seem to get <rem> more and more ridiculous\",\n",
       "  'n_words': 17,\n",
       "  'has_words': True,\n",
       "  'utterance_id': 'fe_03_05876-A-0005',\n",
       "  'call_id': '05876',\n",
       "  'speaker': 'A'},\n",
       " {'speech_raw': 'OH REALLY [LAUGHTER] UM',\n",
       "  'speech': 'oh really um',\n",
       "  'n_words': 3,\n",
       "  'has_words': True,\n",
       "  'utterance_id': 'fe_03_05876-A-0006',\n",
       "  'call_id': '05876',\n",
       "  'speaker': 'A'},\n",
       " {'speech_raw': 'WELL NO MY BEST FRIEND UM',\n",
       "  'speech': 'well no my best friend um',\n",
       "  'n_words': 6,\n",
       "  'has_words': True,\n",
       "  'utterance_id': 'fe_03_05876-A-0007',\n",
       "  'call_id': '05876',\n",
       "  'speaker': 'A'},\n",
       " {'speech_raw': \"I DON'T KNOW MY INSTINCT MY INITIAL INSTINCT IS TO SAY NO UH YOU KNOW\",\n",
       "  'speech': \"i don't know my instinct my initial instinct is to say no uh you know\",\n",
       "  'n_words': 15,\n",
       "  'has_words': True,\n",
       "  'utterance_id': 'fe_03_05876-A-0008',\n",
       "  'call_id': '05876',\n",
       "  'speaker': 'A'},\n",
       " {'speech_raw': 'HOWEVER I GUESS [LAUGHTER] IF I HAD TO THINK ABOUT IT A WHILE',\n",
       "  'speech': 'however i guess if i had to think about it a while',\n",
       "  'n_words': 12,\n",
       "  'has_words': True,\n",
       "  'utterance_id': 'fe_03_05876-A-0009',\n",
       "  'call_id': '05876',\n",
       "  'speaker': 'A'},\n",
       " {'speech_raw': 'SEE I COULD DO SO MUCH WITH A MILLION DOLLARS HELP SO MANY PEOPLE BUT [LIPSMACK]',\n",
       "  'speech': 'see i could do so much with a million dollars help so many people but',\n",
       "  'n_words': 15,\n",
       "  'has_words': True,\n",
       "  'utterance_id': 'fe_03_05876-A-0010',\n",
       "  'call_id': '05876',\n",
       "  'speaker': 'A'},\n",
       " {'speech_raw': \"I DON'T KNOW IT JUST DOESN'T IT DOESN'T FEEL RIGHT TO TO TAKE TO HAVE THIS STRING ATTACHED YOU KNOW FIRST OF ALL\",\n",
       "  'speech': \"i don't know it just doesn't it doesn't feel right to to take to have this string attached you know first of all\",\n",
       "  'n_words': 23,\n",
       "  'has_words': True,\n",
       "  'utterance_id': 'fe_03_05876-A-0011',\n",
       "  'call_id': '05876',\n",
       "  'speaker': 'A'},\n",
       " {'speech_raw': \"[LAUGHTER] SO DO I. THAT'S RIGHT\",\n",
       "  'speech': \"so do i. that's right\",\n",
       "  'n_words': 5,\n",
       "  'has_words': True,\n",
       "  'utterance_id': 'fe_03_05876-A-0012',\n",
       "  'call_id': '05876',\n",
       "  'speaker': 'A'},\n",
       " {'speech_raw': \"YOU'RE RIGHT\",\n",
       "  'speech': \"you're right\",\n",
       "  'n_words': 2,\n",
       "  'has_words': True,\n",
       "  'utterance_id': 'fe_03_05876-A-0013',\n",
       "  'call_id': '05876',\n",
       "  'speaker': 'A'},\n",
       " {'speech_raw': \"THAT'S TRUE [NOISE]\",\n",
       "  'speech': \"that's true\",\n",
       "  'n_words': 2,\n",
       "  'has_words': True,\n",
       "  'utterance_id': 'fe_03_05876-A-0014',\n",
       "  'call_id': '05876',\n",
       "  'speaker': 'A'},\n",
       " {'speech_raw': 'MHM',\n",
       "  'speech': 'mhm',\n",
       "  'n_words': 1,\n",
       "  'has_words': True,\n",
       "  'utterance_id': 'fe_03_05876-A-0015',\n",
       "  'call_id': '05876',\n",
       "  'speaker': 'A'},\n",
       " {'speech_raw': 'RIGHT',\n",
       "  'speech': 'right',\n",
       "  'n_words': 1,\n",
       "  'has_words': True,\n",
       "  'utterance_id': 'fe_03_05876-A-0016',\n",
       "  'call_id': '05876',\n",
       "  'speaker': 'A'},\n",
       " {'speech_raw': \"NO YOU'RE RIGHT THERE'S LIKE A REAL RIPPLING EFFECT AND THEN IF YOUR IF YOUR HUSBAND OR BOYFRIEND KNOWS HER TOO IT WOULD BE IT W- YOU KNOW WHAT IF THEY WANTED TO MAINTAIN A FRIENDSHIP AND YOU COULDN'T BECAUSE OF THIS AGREEMENT\",\n",
       "  'speech': \"no you're right there's like a real rippling effect and then if your if your husband or boyfriend knows her too it would be it <rem> you know what if they wanted to maintain a friendship and you couldn't because of this agreement\",\n",
       "  'n_words': 43,\n",
       "  'has_words': True,\n",
       "  'utterance_id': 'fe_03_05876-A-0017',\n",
       "  'call_id': '05876',\n",
       "  'speaker': 'A'},\n",
       " {'speech_raw': \"RIGHT EXACTLY NO NO I THINK I THINK IT'S A REALLY IT'S [NOISE]\",\n",
       "  'speech': \"right exactly no no i think i think it's a really it's\",\n",
       "  'n_words': 12,\n",
       "  'has_words': True,\n",
       "  'utterance_id': 'fe_03_05876-A-0018',\n",
       "  'call_id': '05876',\n",
       "  'speaker': 'A'},\n",
       " {'speech_raw': \"I I DON'T KNOW I GUESS THERE COULD BE AN ARGUMENT MADE FOR TAKING IT\",\n",
       "  'speech': \"i i don't know i guess there could be an argument made for taking it\",\n",
       "  'n_words': 15,\n",
       "  'has_words': True,\n",
       "  'utterance_id': 'fe_03_05876-A-0019',\n",
       "  'call_id': '05876',\n",
       "  'speaker': 'A'},\n",
       " {'speech_raw': 'AND I THINK BASED ON JUST THE AMOUNT [LIPSMACK]',\n",
       "  'speech': 'and i think based on just the amount',\n",
       "  'n_words': 8,\n",
       "  'has_words': True,\n",
       "  'utterance_id': 'fe_03_05876-A-0020',\n",
       "  'call_id': '05876',\n",
       "  'speaker': 'A'},\n",
       " {'speech_raw': 'AND LIKE I SAID THE FACT THAT YOU COULD DO A LOT WITH IT',\n",
       "  'speech': 'and like i said the fact that you could do a lot with it',\n",
       "  'n_words': 14,\n",
       "  'has_words': True,\n",
       "  'utterance_id': 'fe_03_05876-A-0021',\n",
       "  'call_id': '05876',\n",
       "  'speaker': 'A'},\n",
       " {'speech_raw': \"UH DEPENDING ON YOUR YOU KNOW SITUATION AND IT'S INTERESTING QUESTION THOUGH IT IT SAYS YOU DON'T HAVE YOU'RE NOT ALLOWED TO SPEAK TO THEM ANYMORE BUT COULD YOU POSSIBLY GIVE THEM MONEY [LAUGHTER] WELL IF YOU MADE AN AGREEMENT WITH THAT PERSON\",\n",
       "  'speech': \"uh depending on your you know situation and it's interesting question though it it says you don't have you're not allowed to speak to them anymore but could you possibly give them money well if you made an agreement with that person\",\n",
       "  'n_words': 42,\n",
       "  'has_words': True,\n",
       "  'utterance_id': 'fe_03_05876-A-0022',\n",
       "  'call_id': '05876',\n",
       "  'speaker': 'A'},\n",
       " {'speech_raw': \"I COULD NEVER I'LL NEVER SPEAK TO YOU AGAIN BUT\",\n",
       "  'speech': \"i could never i'll never speak to you again but\",\n",
       "  'n_words': 10,\n",
       "  'has_words': True,\n",
       "  'utterance_id': 'fe_03_05876-A-0023',\n",
       "  'call_id': '05876',\n",
       "  'speaker': 'A'},\n",
       " {'speech_raw': \"I'LL GIVE YOU HALF A MILLION DOLLARS\",\n",
       "  'speech': \"i'll give you half a million dollars\",\n",
       "  'n_words': 7,\n",
       "  'has_words': True,\n",
       "  'utterance_id': 'fe_03_05876-A-0024',\n",
       "  'call_id': '05876',\n",
       "  'speaker': 'A'},\n",
       " {'speech_raw': 'WHAT KIND OF A BENEFACTOR IS THAT ANY WAY',\n",
       "  'speech': 'what kind of a benefactor is that any way',\n",
       "  'n_words': 9,\n",
       "  'has_words': True,\n",
       "  'utterance_id': 'fe_03_05876-A-0025',\n",
       "  'call_id': '05876',\n",
       "  'speaker': 'A'},\n",
       " {'speech_raw': \"I DON'T THINK IT'S A VERY GOOD DEFINITION OF A BENEFA- IN FACT I GET REALLY TICKED OFF UM\",\n",
       "  'speech': \"i don't think it's a very good definition of a <rem> in fact i get really ticked off um\",\n",
       "  'n_words': 19,\n",
       "  'has_words': True,\n",
       "  'utterance_id': 'fe_03_05876-A-0026',\n",
       "  'call_id': '05876',\n",
       "  'speaker': 'A'},\n",
       " {'speech_raw': '[LIPSMACK] ESPECIALLY IN NEW YORK YOU SEE THIS ALL THE TIME WHERE THESE BENEFACTORS ARE CONSTANTLY HAVING THEIR NAMES PLASTERED ALL OVER MUSEUMS GALLERIES AND',\n",
       "  'speech': 'especially in new york you see this all the time where these benefactors are constantly having their names plastered all over museums galleries and',\n",
       "  'n_words': 24,\n",
       "  'has_words': True,\n",
       "  'utterance_id': 'fe_03_05876-A-0027',\n",
       "  'call_id': '05876',\n",
       "  'speaker': 'A'},\n",
       " {'speech_raw': \"PLASTERED EVERYWHERE JUST 'CAUSE THEY'VE GIVEN THEIR MONEY TO CERTAIN PLACES LIKE WHATEVER HAPPENED TO LIKE YOU KNOW SORT OF ANONYMITY AND JUST A HUMBLE SORT OF OKAY HERE\",\n",
       "  'speech': \"plastered everywhere just 'cause they've given their money to certain places like whatever happened to like you know sort of anonymity and just a humble sort of okay here\",\n",
       "  'n_words': 29,\n",
       "  'has_words': True,\n",
       "  'utterance_id': 'fe_03_05876-A-0028',\n",
       "  'call_id': '05876',\n",
       "  'speaker': 'A'},\n",
       " {'speech_raw': \"YOU KNOW HERE'S TEN MILLION DOLLARS TO REBUILD THIS MUSEUM WING BUT YOU DON'T HAVE TO NAME IT AFTER ME\",\n",
       "  'speech': \"you know here's ten million dollars to rebuild this museum wing but you don't have to name it after me\",\n",
       "  'n_words': 20,\n",
       "  'has_words': True,\n",
       "  'utterance_id': 'fe_03_05876-A-0029',\n",
       "  'call_id': '05876',\n",
       "  'speaker': 'A'},\n",
       " {'speech_raw': 'JUST FOR MONEY',\n",
       "  'speech': 'just for money',\n",
       "  'n_words': 3,\n",
       "  'has_words': True,\n",
       "  'utterance_id': 'fe_03_05876-A-0031',\n",
       "  'call_id': '05876',\n",
       "  'speaker': 'A'},\n",
       " {'speech_raw': 'WELL ON HEAT',\n",
       "  'speech': 'well on heat',\n",
       "  'n_words': 3,\n",
       "  'has_words': True,\n",
       "  'utterance_id': 'fe_03_05876-A-0032',\n",
       "  'call_id': '05876',\n",
       "  'speaker': 'A'},\n",
       " {'speech_raw': \"NO YOU'RE RIGHT BUT I THINK ON T._V. THE FACTOR IS THE SAME RIGHT\",\n",
       "  'speech': \"no you're right but i think on t._v. the factor is the same right\",\n",
       "  'n_words': 14,\n",
       "  'has_words': True,\n",
       "  'utterance_id': 'fe_03_05876-A-0033',\n",
       "  'call_id': '05876',\n",
       "  'speaker': 'A'},\n",
       " {'speech_raw': 'EVERYBODY WANTS TO BE ON T._V.',\n",
       "  'speech': 'everybody wants to be on t._v.',\n",
       "  'n_words': 6,\n",
       "  'has_words': True,\n",
       "  'utterance_id': 'fe_03_05876-A-0034',\n",
       "  'call_id': '05876',\n",
       "  'speaker': 'A'},\n",
       " {'speech_raw': \"IT'S PATHETIC\",\n",
       "  'speech': \"it's pathetic\",\n",
       "  'n_words': 2,\n",
       "  'has_words': True,\n",
       "  'utterance_id': 'fe_03_05876-A-0035',\n",
       "  'call_id': '05876',\n",
       "  'speaker': 'A'},\n",
       " {'speech_raw': 'RIGHT RIGHT',\n",
       "  'speech': 'right right',\n",
       "  'n_words': 2,\n",
       "  'has_words': True,\n",
       "  'utterance_id': 'fe_03_05876-A-0036',\n",
       "  'call_id': '05876',\n",
       "  'speaker': 'A'},\n",
       " {'speech_raw': \"WHERE WHERE'S THE LIMIT\",\n",
       "  'speech': \"where where's the limit\",\n",
       "  'n_words': 4,\n",
       "  'has_words': True,\n",
       "  'utterance_id': 'fe_03_05876-A-0038',\n",
       "  'call_id': '05876',\n",
       "  'speaker': 'A'},\n",
       " {'speech_raw': \"NO YOU'RE RIGHT\",\n",
       "  'speech': \"no you're right\",\n",
       "  'n_words': 3,\n",
       "  'has_words': True,\n",
       "  'utterance_id': 'fe_03_05876-A-0039',\n",
       "  'call_id': '05876',\n",
       "  'speaker': 'A'},\n",
       " {'speech_raw': \"NO YOU'RE RIGHT I LIKE THE USE OF THE WORD PROSTITUTION YOU'RE ABSOLUTELY RIGHT\",\n",
       "  'speech': \"no you're right i like the use of the word prostitution you're absolutely right\",\n",
       "  'n_words': 14,\n",
       "  'has_words': True,\n",
       "  'utterance_id': 'fe_03_05876-A-0040',\n",
       "  'call_id': '05876',\n",
       "  'speaker': 'A'},\n",
       " {'speech_raw': '[MN]',\n",
       "  'speech': '',\n",
       "  'n_words': 1,\n",
       "  'has_words': False,\n",
       "  'utterance_id': 'fe_03_05876-A-0041',\n",
       "  'call_id': '05876',\n",
       "  'speaker': 'A'},\n",
       " {'speech_raw': 'DON-',\n",
       "  'speech': '<rem>',\n",
       "  'n_words': 1,\n",
       "  'has_words': True,\n",
       "  'utterance_id': 'fe_03_05876-A-0042',\n",
       "  'call_id': '05876',\n",
       "  'speaker': 'A'},\n",
       " {'speech_raw': \"DON'T YOU THINK THOUGH THAT\",\n",
       "  'speech': \"don't you think though that\",\n",
       "  'n_words': 5,\n",
       "  'has_words': True,\n",
       "  'utterance_id': 'fe_03_05876-A-0043',\n",
       "  'call_id': '05876',\n",
       "  'speaker': 'A'},\n",
       " {'speech_raw': \"UM THAT THEY IT'S GOTTEN A LOT WORSE IT'S BECO- THAT THIS PHENOMENON HAS BECOME MORE ACUTE OVER THE LAST FIVE YEARS OR SO I MEAN I THINK AMERICAN SOCIETY IS GENERALLY VERY MONEY ORIENTED UM\",\n",
       "  'speech': \"um that they it's gotten a lot worse it's <rem> that this phenomenon has become more acute over the last five years or so i mean i think american society is generally very money oriented um\",\n",
       "  'n_words': 36,\n",
       "  'has_words': True,\n",
       "  'utterance_id': 'fe_03_05876-A-0044',\n",
       "  'call_id': '05876',\n",
       "  'speaker': 'A'},\n",
       " {'speech_raw': \"BUT IT'S\",\n",
       "  'speech': \"but it's\",\n",
       "  'n_words': 2,\n",
       "  'has_words': True,\n",
       "  'utterance_id': 'fe_03_05876-A-0045',\n",
       "  'call_id': '05876',\n",
       "  'speaker': 'A'},\n",
       " {'speech_raw': \"I THINK IT'S IT'S REACHING SOME KIND OF PEAK YOU KNOW WITH ALL THESE REALITY SHOWS AS YOU SAID AND\",\n",
       "  'speech': \"i think it's it's reaching some kind of peak you know with all these reality shows as you said and\",\n",
       "  'n_words': 20,\n",
       "  'has_words': True,\n",
       "  'utterance_id': 'fe_03_05876-A-0046',\n",
       "  'call_id': '05876',\n",
       "  'speaker': 'A'},\n",
       " {'speech_raw': \"I DON'T KNOW\",\n",
       "  'speech': \"i don't know\",\n",
       "  'n_words': 3,\n",
       "  'has_words': True,\n",
       "  'utterance_id': 'fe_03_05876-A-0047',\n",
       "  'call_id': '05876',\n",
       "  'speaker': 'A'},\n",
       " {'speech_raw': \"IT'S KIND OF JUVENILE ISN'T IT ISN'T IT KIND OF LIKE BEING BACK IN HIGH SCHOOL OOH IS SHE GOING TO DO THAT AND WOULD SHE SWALLOW THAT SNAIL\",\n",
       "  'speech': \"it's kind of juvenile isn't it isn't it kind of like being back in high school ooh is she going to do that and would she swallow that snail\",\n",
       "  'n_words': 29,\n",
       "  'has_words': True,\n",
       "  'utterance_id': 'fe_03_05876-A-0049',\n",
       "  'call_id': '05876',\n",
       "  'speaker': 'A'},\n",
       " {'speech_raw': \"THAT'S TRUE\",\n",
       "  'speech': \"that's true\",\n",
       "  'n_words': 2,\n",
       "  'has_words': True,\n",
       "  'utterance_id': 'fe_03_05876-A-0050',\n",
       "  'call_id': '05876',\n",
       "  'speaker': 'A'},\n",
       " {'speech_raw': \"YOU'RE RIGHT IN FACT I THINK I HEARD THERE'S A BIG BACKLASH IN HOLLYWOOD ISN'T THERE\",\n",
       "  'speech': \"you're right in fact i think i heard there's a big backlash in hollywood isn't there\",\n",
       "  'n_words': 16,\n",
       "  'has_words': True,\n",
       "  'utterance_id': 'fe_03_05876-A-0051',\n",
       "  'call_id': '05876',\n",
       "  'speaker': 'A'},\n",
       " {'speech_raw': 'QUITE A LOT OF ACTORS LIKE A LITTLE UPSET BECAUSE THEY',\n",
       "  'speech': 'quite a lot of actors like a little upset because they',\n",
       "  'n_words': 11,\n",
       "  'has_words': True,\n",
       "  'utterance_id': 'fe_03_05876-A-0052',\n",
       "  'call_id': '05876',\n",
       "  'speaker': 'A'},\n",
       " {'speech_raw': 'ARE THERE NO WRITERS EITHER THERE MUST BE WRITERS NO',\n",
       "  'speech': 'are there no writers either there must be writers no',\n",
       "  'n_words': 10,\n",
       "  'has_words': True,\n",
       "  'utterance_id': 'fe_03_05876-A-0053',\n",
       "  'call_id': '05876',\n",
       "  'speaker': 'A'},\n",
       " {'speech_raw': \"NO RIGHT NO DIALOG BUT THE IDEAS YEAH THERE'S AN IDEA PERSON\",\n",
       "  'speech': \"no right no dialog but the ideas yeah there's an idea person\",\n",
       "  'n_words': 12,\n",
       "  'has_words': True,\n",
       "  'utterance_id': 'fe_03_05876-A-0054',\n",
       "  'call_id': '05876',\n",
       "  'speaker': 'A'},\n",
       " {'speech_raw': \"YEAH I'M TOTALLY WITH YOU I TOTALLY AGREE AND UM [LIPSMACK] I THINK IT'S DISGUSTING\",\n",
       "  'speech': \"yeah i'm totally with you i totally agree and um i think it's disgusting\",\n",
       "  'n_words': 14,\n",
       "  'has_words': True,\n",
       "  'utterance_id': 'fe_03_05876-A-0055',\n",
       "  'call_id': '05876',\n",
       "  'speaker': 'A'},\n",
       " {'speech_raw': \"BUT I THINK IT'S LIKE I SAID I THINK IT'S A REFLECTION OF JUST HOW SHALLOW AND PETTY AMERICAN SOCIETY HAS BECOME OR IS BECOMING OR WHATEVER\",\n",
       "  'speech': \"but i think it's like i said i think it's a reflection of just how shallow and petty american society has become or is becoming or whatever\",\n",
       "  'n_words': 27,\n",
       "  'has_words': True,\n",
       "  'utterance_id': 'fe_03_05876-A-0056',\n",
       "  'call_id': '05876',\n",
       "  'speaker': 'A'},\n",
       " {'speech_raw': 'UM',\n",
       "  'speech': 'um',\n",
       "  'n_words': 1,\n",
       "  'has_words': True,\n",
       "  'utterance_id': 'fe_03_05876-A-0057',\n",
       "  'call_id': '05876',\n",
       "  'speaker': 'A'},\n",
       " {'speech_raw': 'SO',\n",
       "  'speech': 'so',\n",
       "  'n_words': 1,\n",
       "  'has_words': True,\n",
       "  'utterance_id': 'fe_03_05876-A-0058',\n",
       "  'call_id': '05876',\n",
       "  'speaker': 'A'},\n",
       " {'speech_raw': 'YES SORRY',\n",
       "  'speech': 'yes sorry',\n",
       "  'n_words': 2,\n",
       "  'has_words': True,\n",
       "  'utterance_id': 'fe_03_05876-A-0059',\n",
       "  'call_id': '05876',\n",
       "  'speaker': 'A'},\n",
       " {'speech_raw': 'YEAH',\n",
       "  'speech': 'yeah',\n",
       "  'n_words': 1,\n",
       "  'has_words': True,\n",
       "  'utterance_id': 'fe_03_05876-A-0060',\n",
       "  'call_id': '05876',\n",
       "  'speaker': 'A'},\n",
       " {'speech_raw': 'CREATING YOUR OWN DESTINY',\n",
       "  'speech': 'creating your own destiny',\n",
       "  'n_words': 4,\n",
       "  'has_words': True,\n",
       "  'utterance_id': 'fe_03_05876-A-0061',\n",
       "  'call_id': '05876',\n",
       "  'speaker': 'A'},\n",
       " {'speech_raw': \"OF COURSE WHO'S TO SAY THAT YOU NEVER I MEAN [MN]\",\n",
       "  'speech': \"of course who's to say that you never i mean\",\n",
       "  'n_words': 10,\n",
       "  'has_words': True,\n",
       "  'utterance_id': 'fe_03_05876-A-0062',\n",
       "  'call_id': '05876',\n",
       "  'speaker': 'A'},\n",
       " {'speech_raw': \"IF IT'S\",\n",
       "  'speech': \"if it's\",\n",
       "  'n_words': 2,\n",
       "  'has_words': True,\n",
       "  'utterance_id': 'fe_03_05876-A-0063',\n",
       "  'call_id': '05876',\n",
       "  'speaker': 'A'},\n",
       " {'speech_raw': \"[MN] IT'S LIKE A GENTLEMAN'S AGREEMENT ISN'T IT\",\n",
       "  'speech': \"it's like a gentleman's agreement isn't it\",\n",
       "  'n_words': 7,\n",
       "  'has_words': True,\n",
       "  'utterance_id': 'fe_03_05876-A-0064',\n",
       "  'call_id': '05876',\n",
       "  'speaker': 'A'},\n",
       " {'speech_raw': \"I MEAN WHO'S TO SAY THAT YOU COULDN'T TAKE THE MONEY AGREE TO IT AND THEN GO TALK TO YOUR FRIEND I MEAN\",\n",
       "  'speech': \"i mean who's to say that you couldn't take the money agree to it and then go talk to your friend i mean\",\n",
       "  'n_words': 23,\n",
       "  'has_words': True,\n",
       "  'utterance_id': 'fe_03_05876-A-0065',\n",
       "  'call_id': '05876',\n",
       "  'speaker': 'A'},\n",
       " {'speech_raw': \"THERE'S THAT BUT UM [LIPSMACK]\",\n",
       "  'speech': \"there's that but um\",\n",
       "  'n_words': 4,\n",
       "  'has_words': True,\n",
       "  'utterance_id': 'fe_03_05876-A-0067',\n",
       "  'call_id': '05876',\n",
       "  'speaker': 'A'},\n",
       " {'speech_raw': \"I DON'T KNOW I THINK IT'S UH YEAH IT'S LIKE YOU SAID IT'S KINDA LIKE A SHOCK MAYBE IT'S A SHOCK QUESTION [LAUGHTER]\",\n",
       "  'speech': \"i don't know i think it's uh yeah it's like you said it's kinda like a shock maybe it's a shock question\",\n",
       "  'n_words': 22,\n",
       "  'has_words': True,\n",
       "  'utterance_id': 'fe_03_05876-A-0068',\n",
       "  'call_id': '05876',\n",
       "  'speaker': 'A'},\n",
       " {'speech_raw': 'THIS IS ALSO MY SECOND CALL THE FIRST ONE WAS ABOUT UM LIKE RELATIONSHIPS',\n",
       "  'speech': 'this is also my second call the first one was about um like relationships',\n",
       "  'n_words': 14,\n",
       "  'has_words': True,\n",
       "  'utterance_id': 'fe_03_05876-A-0069',\n",
       "  'call_id': '05876',\n",
       "  'speaker': 'A'},\n",
       " {'speech_raw': 'AND WHAT YOU THINK IS THE BEST TRAIT IN SOMEONE THAT',\n",
       "  'speech': 'and what you think is the best trait in someone that',\n",
       "  'n_words': 11,\n",
       "  'has_words': True,\n",
       "  'utterance_id': 'fe_03_05876-A-0070',\n",
       "  'call_id': '05876',\n",
       "  'speaker': 'A'},\n",
       " {'speech_raw': 'OH REALLY',\n",
       "  'speech': 'oh really',\n",
       "  'n_words': 2,\n",
       "  'has_words': True,\n",
       "  'utterance_id': 'fe_03_05876-A-0071',\n",
       "  'call_id': '05876',\n",
       "  'speaker': 'A'},\n",
       " {'speech_raw': \"IT WASN'T ABOUT THE SARS VIRUS WAS IT [LAUGHTER] [MN] HUH\",\n",
       "  'speech': \"it wasn't about the sars virus was it huh\",\n",
       "  'n_words': 9,\n",
       "  'has_words': True,\n",
       "  'utterance_id': 'fe_03_05876-A-0072',\n",
       "  'call_id': '05876',\n",
       "  'speaker': 'A'},\n",
       " {'speech_raw': 'YEAH IT WAS JUST UH',\n",
       "  'speech': 'yeah it was just uh',\n",
       "  'n_words': 5,\n",
       "  'has_words': True,\n",
       "  'utterance_id': 'fe_03_05876-A-0073',\n",
       "  'call_id': '05876',\n",
       "  'speaker': 'A'},\n",
       " {'speech_raw': \"WELL I DON'T KNOW THIS\",\n",
       "  'speech': \"well i don't know this\",\n",
       "  'n_words': 5,\n",
       "  'has_words': True,\n",
       "  'utterance_id': 'fe_03_05876-A-0074',\n",
       "  'call_id': '05876',\n",
       "  'speaker': 'A'},\n",
       " {'speech_raw': \"BUT THEY DID MENTION WHEN DIDN'T THEY SAY IT WAS A BENEFACTOR THOUGH OR SOME SOME SORT OF SPECIFIC\",\n",
       "  'speech': \"but they did mention when didn't they say it was a benefactor though or some some sort of specific\",\n",
       "  'n_words': 19,\n",
       "  'has_words': True,\n",
       "  'utterance_id': 'fe_03_05876-A-0075',\n",
       "  'call_id': '05876',\n",
       "  'speaker': 'A'},\n",
       " {'speech_raw': \"OR PERHAPS YOU KNOW THEM AND THEY DON'T WANT TO BE KNOWN\",\n",
       "  'speech': \"or perhaps you know them and they don't want to be known\",\n",
       "  'n_words': 12,\n",
       "  'has_words': True,\n",
       "  'utterance_id': 'fe_03_05876-A-0076',\n",
       "  'call_id': '05876',\n",
       "  'speaker': 'A'},\n",
       " {'speech_raw': 'THEIR ANONYMITY IS PART OF THE WHOLE',\n",
       "  'speech': 'their anonymity is part of the whole',\n",
       "  'n_words': 7,\n",
       "  'has_words': True,\n",
       "  'utterance_id': 'fe_03_05876-A-0077',\n",
       "  'call_id': '05876',\n",
       "  'speaker': 'A'},\n",
       " {'speech_raw': \"PROCESS PERHAPS THEY DO KNOW YOU I MEAN I DON'T KNOW\",\n",
       "  'speech': \"process perhaps they do know you i mean i don't know\",\n",
       "  'n_words': 11,\n",
       "  'has_words': True,\n",
       "  'utterance_id': 'fe_03_05876-A-0078',\n",
       "  'call_id': '05876',\n",
       "  'speaker': 'A'},\n",
       " {'speech_raw': 'UH-HUH',\n",
       "  'speech': 'uh-huh',\n",
       "  'n_words': 1,\n",
       "  'has_words': True,\n",
       "  'utterance_id': 'fe_03_05876-A-0079',\n",
       "  'call_id': '05876',\n",
       "  'speaker': 'A'},\n",
       " {'speech_raw': 'RIGHT',\n",
       "  'speech': 'right',\n",
       "  'n_words': 1,\n",
       "  'has_words': True,\n",
       "  'utterance_id': 'fe_03_05876-A-0080',\n",
       "  'call_id': '05876',\n",
       "  'speaker': 'A'},\n",
       " {'speech_raw': \"[NOISE] YEAH I MEAN HONESTLY I HAVE TO REALLY THINK ABOUT WHO MY BEST FRIEND IS THOUGH IN A SENSE I MEAN I'M I'M MARRIED SO REALLY MY HUSBAND'S MY BEST FRIEND SO IT WOULD BE\",\n",
       "  'speech': \"yeah i mean honestly i have to really think about who my best friend is though in a sense i mean i'm i'm married so really my husband's my best friend so it would be\",\n",
       "  'n_words': 35,\n",
       "  'has_words': True,\n",
       "  'utterance_id': 'fe_03_05876-A-0081',\n",
       "  'call_id': '05876',\n",
       "  'speaker': 'A'},\n",
       " {'speech_raw': \"I NOT I'M NOT\",\n",
       "  'speech': \"i not i'm not\",\n",
       "  'n_words': 4,\n",
       "  'has_words': True,\n",
       "  'utterance_id': 'fe_03_05876-A-0082',\n",
       "  'call_id': '05876',\n",
       "  'speaker': 'A'},\n",
       " {'speech_raw': \"CLOSE ANYMORE WITH LIKE MY BEST FRIEND LIKE IN HIGH SCHOOL OR SOMETHING LIKE THAT AND I DON'T\",\n",
       "  'speech': \"close anymore with like my best friend like in high school or something like that and i don't\",\n",
       "  'n_words': 18,\n",
       "  'has_words': True,\n",
       "  'utterance_id': 'fe_03_05876-A-0083',\n",
       "  'call_id': '05876',\n",
       "  'speaker': 'A'},\n",
       " {'speech_raw': \"I MEAN I HAVE GOOD FRIENDS THAT I COULD RELY ON IF SOMETHING HAPPENS TO ME I'D CALL THEM BUT\",\n",
       "  'speech': \"i mean i have good friends that i could rely on if something happens to me i'd call them but\",\n",
       "  'n_words': 20,\n",
       "  'has_words': True,\n",
       "  'utterance_id': 'fe_03_05876-A-0084',\n",
       "  'call_id': '05876',\n",
       "  'speaker': 'A'},\n",
       " {'speech_raw': \"[LIPSMACK] I DON'T HAVE YOU KNOW LIKE A GIRLFRIEND THAT I CALL EVERY DAY OR SOMETHING LIKE THAT\",\n",
       "  'speech': \"i don't have you know like a girlfriend that i call every day or something like that\",\n",
       "  'n_words': 17,\n",
       "  'has_words': True,\n",
       "  'utterance_id': 'fe_03_05876-A-0085',\n",
       "  'call_id': '05876',\n",
       "  'speaker': 'A'},\n",
       " {'speech_raw': \"SO I'D REALLY HAVE TO KINDA\",\n",
       "  'speech': \"so i'd really have to kinda\",\n",
       "  'n_words': 6,\n",
       "  'has_words': True,\n",
       "  'utterance_id': 'fe_03_05876-A-0086',\n",
       "  'call_id': '05876',\n",
       "  'speaker': 'A'},\n",
       " {'speech_raw': 'WRACK MY BRAIN YEAH TO THINK OF SOMEBODY WHO I [SIGH] [LAUGHTER] WHO I WOULD NOT HAVE TO TALK TO I MEAN',\n",
       "  'speech': 'wrack my brain yeah to think of somebody who i who i would not have to talk to i mean',\n",
       "  'n_words': 20,\n",
       "  'has_words': True,\n",
       "  'utterance_id': 'fe_03_05876-A-0087',\n",
       "  'call_id': '05876',\n",
       "  'speaker': 'A'},\n",
       " {'speech_raw': 'MHM',\n",
       "  'speech': 'mhm',\n",
       "  'n_words': 1,\n",
       "  'has_words': True,\n",
       "  'utterance_id': 'fe_03_05876-A-0089',\n",
       "  'call_id': '05876',\n",
       "  'speaker': 'A'},\n",
       " {'speech_raw': 'YEAH',\n",
       "  'speech': 'yeah',\n",
       "  'n_words': 1,\n",
       "  'has_words': True,\n",
       "  'utterance_id': 'fe_03_05876-A-0091',\n",
       "  'call_id': '05876',\n",
       "  'speaker': 'A'},\n",
       " {'speech_raw': \"OH THAT'S NEAT\",\n",
       "  'speech': \"oh that's neat\",\n",
       "  'n_words': 3,\n",
       "  'has_words': True,\n",
       "  'utterance_id': 'fe_03_05876-A-0092',\n",
       "  'call_id': '05876',\n",
       "  'speaker': 'A'},\n",
       " {'speech_raw': \"NOW SEE THAT'S COOL I HAD THAT IN HIGH SCHOOL AND LIKE THROUGH COLLEGE AND THEN\",\n",
       "  'speech': \"now see that's cool i had that in high school and like through college and then\",\n",
       "  'n_words': 16,\n",
       "  'has_words': True,\n",
       "  'utterance_id': 'fe_03_05876-A-0093',\n",
       "  'call_id': '05876',\n",
       "  'speaker': 'A'},\n",
       " {'speech_raw': 'NO I I MOVED AWAY AND LIVED FOR MANY YEARS OUTSIDE OF THE COUNTY MOVED IN OTHER S- LIVED IN OTHER STATES SO',\n",
       "  'speech': 'no i i moved away and lived for many years outside of the county moved in other <rem> lived in other states so',\n",
       "  'n_words': 23,\n",
       "  'has_words': True,\n",
       "  'utterance_id': 'fe_03_05876-A-0094',\n",
       "  'call_id': '05876',\n",
       "  'speaker': 'A'},\n",
       " {'speech_raw': \"UM YOU KNOW IT THERE ARE PEOPLE I CAN JUST PICK UP THE PHONE AND AND YOU KNOW WE'RE RIGHT BACK TO WHERE WE WERE AND THAT'S VERY COOL THAT'S A GREAT KIND OF FRIENDSHIP BUT [LIPSMACK] UH YEAH I KNOW I KNOW EXACTLY WHAT YOU'RE DESCRIBING I DON'T REALLY HAVE THAT WITH LIKE A GIRLFRIEND\",\n",
       "  'speech': \"um you know it there are people i can just pick up the phone and and you know we're right back to where we were and that's very cool that's a great kind of friendship but uh yeah i know i know exactly what you're describing i don't really have that with like a girlfriend\",\n",
       "  'n_words': 55,\n",
       "  'has_words': True,\n",
       "  'utterance_id': 'fe_03_05876-A-0095',\n",
       "  'call_id': '05876',\n",
       "  'speaker': 'A'},\n",
       " {'speech_raw': 'SO UM',\n",
       "  'speech': 'so um',\n",
       "  'n_words': 2,\n",
       "  'has_words': True,\n",
       "  'utterance_id': 'fe_03_05876-A-0096',\n",
       "  'call_id': '05876',\n",
       "  'speaker': 'A'},\n",
       " {'speech_raw': 'IT WOULD BE DIFFICULT',\n",
       "  'speech': 'it would be difficult',\n",
       "  'n_words': 4,\n",
       "  'has_words': True,\n",
       "  'utterance_id': 'fe_03_05876-A-0097',\n",
       "  'call_id': '05876',\n",
       "  'speaker': 'A'},\n",
       " {'speech_raw': 'BUT STILL I I I HAVE TO GO WITH MY INITIAL INSTINCTS WHICH IS TO SAY NO',\n",
       "  'speech': 'but still i i i have to go with my initial instincts which is to say no',\n",
       "  'n_words': 17,\n",
       "  'has_words': True,\n",
       "  'utterance_id': 'fe_03_05876-A-0098',\n",
       "  'call_id': '05876',\n",
       "  'speaker': 'A'},\n",
       " {'speech_raw': \"BECAUSE SIMPLY BECAUSE IT'S JUST TOO SH- IT'S\",\n",
       "  'speech': \"because simply because it's just too <rem> it's\",\n",
       "  'n_words': 8,\n",
       "  'has_words': True,\n",
       "  'utterance_id': 'fe_03_05876-A-0099',\n",
       "  'call_id': '05876',\n",
       "  'speaker': 'A'},\n",
       " {'speech_raw': \"IT'S THAT WHOLE CONCEPT'S TOO SHALLOW IT'S IT'S IT'S TOO YEAH BUT IT'S THAT WHOLE CONCEPT OF ANYTHING FOR MONEY LIKE MONEY IS THE ANSWER TO EVERYTHING YOU KNOW AND\",\n",
       "  'speech': \"it's that whole concept's too shallow it's it's it's too yeah but it's that whole concept of anything for money like money is the answer to everything you know and\",\n",
       "  'n_words': 30,\n",
       "  'has_words': True,\n",
       "  'utterance_id': 'fe_03_05876-A-0100',\n",
       "  'call_id': '05876',\n",
       "  'speaker': 'A'},\n",
       " {'speech_raw': \"YEAH I MEAN A MILLION DOLLARS WOULD BE BRILLIANT I MEAN WHATE- EVEN IF AFTER TAXES BUT [NOISE] I DON'T THINK IT'S WORTH PUTTING THAT KINDA PRICE ON IT\",\n",
       "  'speech': \"yeah i mean a million dollars would be brilliant i mean <rem> even if after taxes but i don't think it's worth putting that kinda price on it\",\n",
       "  'n_words': 28,\n",
       "  'has_words': True,\n",
       "  'utterance_id': 'fe_03_05876-A-0101',\n",
       "  'call_id': '05876',\n",
       "  'speaker': 'A'},\n",
       " {'speech_raw': '[NOISE] RIGHT [NOISE]',\n",
       "  'speech': 'right',\n",
       "  'n_words': 1,\n",
       "  'has_words': True,\n",
       "  'utterance_id': 'fe_03_05876-A-0102',\n",
       "  'call_id': '05876',\n",
       "  'speaker': 'A'},\n",
       " {'speech_raw': 'WELL TED TURNER MAYBE [LAUGHTER]',\n",
       "  'speech': 'well ted turner maybe',\n",
       "  'n_words': 4,\n",
       "  'has_words': True,\n",
       "  'utterance_id': 'fe_03_05876-A-0103',\n",
       "  'call_id': '05876',\n",
       "  'speaker': 'A'},\n",
       " {'speech_raw': 'RIGHT',\n",
       "  'speech': 'right',\n",
       "  'n_words': 1,\n",
       "  'has_words': True,\n",
       "  'utterance_id': 'fe_03_05876-A-0104',\n",
       "  'call_id': '05876',\n",
       "  'speaker': 'A'},\n",
       " {'speech_raw': 'NOT AT THAT COST IF YOU WERE TO WIN IT OUTRIGHT LIKE A LOTTERY',\n",
       "  'speech': 'not at that cost if you were to win it outright like a lottery',\n",
       "  'n_words': 14,\n",
       "  'has_words': True,\n",
       "  'utterance_id': 'fe_03_05876-A-0105',\n",
       "  'call_id': '05876',\n",
       "  'speaker': 'A'},\n",
       " {'speech_raw': 'HELLO',\n",
       "  'speech': 'hello',\n",
       "  'n_words': 1,\n",
       "  'has_words': True,\n",
       "  'utterance_id': 'fe_03_05876-B-0001',\n",
       "  'call_id': '05876',\n",
       "  'speaker': 'B'},\n",
       " {'speech_raw': 'HI THIS IS SYLVIA',\n",
       "  'speech': 'hi this is sylvia',\n",
       "  'n_words': 4,\n",
       "  'has_words': True,\n",
       "  'utterance_id': 'fe_03_05876-B-0002',\n",
       "  'call_id': '05876',\n",
       "  'speaker': 'B'},\n",
       " {'speech_raw': '[LAUGHTER] HOW ARE YOU',\n",
       "  'speech': 'how are you',\n",
       "  'n_words': 3,\n",
       "  'has_words': True,\n",
       "  'utterance_id': 'fe_03_05876-B-0003',\n",
       "  'call_id': '05876',\n",
       "  'speaker': 'B'},\n",
       " {'speech_raw': 'OH YEAH IS THIS YOUR FIRST CALL',\n",
       "  'speech': 'oh yeah is this your first call',\n",
       "  'n_words': 7,\n",
       "  'has_words': True,\n",
       "  'utterance_id': 'fe_03_05876-B-0004',\n",
       "  'call_id': '05876',\n",
       "  'speaker': 'B'},\n",
       " {'speech_raw': 'M- MY FIRST CALL WAS KINDA NORMAL UM YEAH BUT WOULD WOULD SO WOULD YOU TAKE THE MILLION DOLLARS',\n",
       "  'speech': '<rem> my first call was kinda normal um yeah but would would so would you take the million dollars',\n",
       "  'n_words': 19,\n",
       "  'has_words': True,\n",
       "  'utterance_id': 'fe_03_05876-B-0005',\n",
       "  'call_id': '05876',\n",
       "  'speaker': 'B'},\n",
       " {'speech_raw': 'RIGHT',\n",
       "  'speech': 'right',\n",
       "  'n_words': 1,\n",
       "  'has_words': True,\n",
       "  'utterance_id': 'fe_03_05876-B-0006',\n",
       "  'call_id': '05876',\n",
       "  'speaker': 'B'},\n",
       " {'speech_raw': \"YEAH RIGHT YOU'RE YEAH I I'M RIGHT THERE WITH YOU UM I WOULDN'T TAKE IT BECAUSE FIRST OF ALL I LIVE IN NEW YORK AND A MILLION DOLLARS IS NOT THAT MUCH MONEY [LAUGHTER] IT REALLY ISN'T [LAUGHTER] I MEAN AFTER TAXES I MEAN WHAT CAN YOU GET [LAUGHTER] REALLY BUT UM\",\n",
       "  'speech': \"yeah right you're yeah i i'm right there with you um i wouldn't take it because first of all i live in new york and a million dollars is not that much money it really isn't i mean after taxes i mean what can you get really but um\",\n",
       "  'n_words': 49,\n",
       "  'has_words': True,\n",
       "  'utterance_id': 'fe_03_05876-B-0007',\n",
       "  'call_id': '05876',\n",
       "  'speaker': 'B'},\n",
       " {'speech_raw': \"IT'S IT'S NOT EVEN LIKE IT'S NOT EVEN LIKE OH I DON'T I UM THE ONLY THING I CAN DO IS NOT SPEAK TO MY BEST FRIEND BUT IF YOU THINK ABOUT IT THERE'S A LOT OF CONTINUANCES WITH THAT I MEAN I'M CLOSE WITH MY BEST FRIEND'S FAMILY\",\n",
       "  'speech': \"it's it's not even like it's not even like oh i don't i um the only thing i can do is not speak to my best friend but if you think about it there's a lot of continuances with that i mean i'm close with my best friend's family\",\n",
       "  'n_words': 49,\n",
       "  'has_words': True,\n",
       "  'utterance_id': 'fe_03_05876-B-0008',\n",
       "  'call_id': '05876',\n",
       "  'speaker': 'B'},\n",
       " {'speech_raw': \"YOU KNOW AND MY BEST FRIEND'S LIKE A BIG PART OF MY LIFE AND SHE'S ALSO A BIG PART OF OUR CIRCLE OF FRIENDS SO IT WOULD MEAN BEING JUST PRETTY MUCH ISOLATING MYSELF FROM THAT WHOLE LIKE GROUP IT'S NOT EVEN JUST ONE PERSON\",\n",
       "  'speech': \"you know and my best friend's like a big part of my life and she's also a big part of our circle of friends so it would mean being just pretty much isolating myself from that whole like group it's not even just one person\",\n",
       "  'n_words': 45,\n",
       "  'has_words': True,\n",
       "  'utterance_id': 'fe_03_05876-B-0009',\n",
       "  'call_id': '05876',\n",
       "  'speaker': 'B'},\n",
       " {'speech_raw': 'RIGHT IF IF',\n",
       "  'speech': 'right if if',\n",
       "  'n_words': 3,\n",
       "  'has_words': True,\n",
       "  'utterance_id': 'fe_03_05876-B-0010',\n",
       "  'call_id': '05876',\n",
       "  'speaker': 'B'},\n",
       " {'speech_raw': 'RIGHT',\n",
       "  'speech': 'right',\n",
       "  'n_words': 1,\n",
       "  'has_words': True,\n",
       "  'utterance_id': 'fe_03_05876-B-0011',\n",
       "  'call_id': '05876',\n",
       "  'speaker': 'B'},\n",
       " {'speech_raw': \"EXACTLY AND WHAT WOULD PEOPLE THINK OF YOU THEY'RE GOING TO SAY OH SO YOU CAN'T COME TO THIS PARTY WITH US BECAUSE YOU WENT AND TOOK THE STUPID MILLION DOLLARS [LAUGHTER]\",\n",
       "  'speech': \"exactly and what would people think of you they're going to say oh so you can't come to this party with us because you went and took the stupid million dollars\",\n",
       "  'n_words': 31,\n",
       "  'has_words': True,\n",
       "  'utterance_id': 'fe_03_05876-B-0012',\n",
       "  'call_id': '05876',\n",
       "  'speaker': 'B'},\n",
       " {'speech_raw': 'RIGHT',\n",
       "  'speech': 'right',\n",
       "  'n_words': 1,\n",
       "  'has_words': True,\n",
       "  'utterance_id': 'fe_03_05876-B-0013',\n",
       "  'call_id': '05876',\n",
       "  'speaker': 'B'},\n",
       " {'speech_raw': 'RIGHT',\n",
       "  'speech': 'right',\n",
       "  'n_words': 1,\n",
       "  'has_words': True,\n",
       "  'utterance_id': 'fe_03_05876-B-0014',\n",
       "  'call_id': '05876',\n",
       "  'speaker': 'B'},\n",
       " {'speech_raw': '[LAUGHTER] BUY [LAUGHTER]',\n",
       "  'speech': 'buy',\n",
       "  'n_words': 1,\n",
       "  'has_words': True,\n",
       "  'utterance_id': 'fe_03_05876-B-0015',\n",
       "  'call_id': '05876',\n",
       "  'speaker': 'B'},\n",
       " {'speech_raw': \"RIGHT YEAH THAT'S FUNNY I I DON'T KNOW I MEAN FOR TH-\",\n",
       "  'speech': \"right yeah that's funny i i don't know i mean for <rem>\",\n",
       "  'n_words': 12,\n",
       "  'has_words': True,\n",
       "  'utterance_id': 'fe_03_05876-B-0016',\n",
       "  'call_id': '05876',\n",
       "  'speaker': 'B'},\n",
       " {'speech_raw': 'IT IT SEEMS',\n",
       "  'speech': 'it it seems',\n",
       "  'n_words': 3,\n",
       "  'has_words': True,\n",
       "  'utterance_id': 'fe_03_05876-B-0017',\n",
       "  'call_id': '05876',\n",
       "  'speaker': 'B'},\n",
       " {'speech_raw': 'RIGHT',\n",
       "  'speech': 'right',\n",
       "  'n_words': 1,\n",
       "  'has_words': True,\n",
       "  'utterance_id': 'fe_03_05876-B-0019',\n",
       "  'call_id': '05876',\n",
       "  'speaker': 'B'},\n",
       " {'speech_raw': 'RIGHT RIGHT YEAH UM AND THE OTHER THING THAT CAME TO MIND WAS UM [LIPSMACK] YOU KNOW WITH THE NEW POPULARITY OF REALITY SHOWS AND LIKE PRETTY MUCH PEOPLE COMPETING AND JUST DOING REALLY STUPID THINGS OR EVEN MEAN AND NASTY THINGS TO EACH OTHER JUST FOR LIKE',\n",
       "  'speech': 'right right yeah um and the other thing that came to mind was um you know with the new popularity of reality shows and like pretty much people competing and just doing really stupid things or even mean and nasty things to each other just for like',\n",
       "  'n_words': 47,\n",
       "  'has_words': True,\n",
       "  'utterance_id': 'fe_03_05876-B-0020',\n",
       "  'call_id': '05876',\n",
       "  'speaker': 'B'},\n",
       " {'speech_raw': \"AND IT'S NOT EVEN THAT MUCH MONEY SOMETIMES SOMETIMES IT'S LIKE FORTY THOUSAND DOLLARS I MEAN IT'S MONEY BUT IT'S NOT THAT MUCH MONEY\",\n",
       "  'speech': \"and it's not even that much money sometimes sometimes it's like forty thousand dollars i mean it's money but it's not that much money\",\n",
       "  'n_words': 24,\n",
       "  'has_words': True,\n",
       "  'utterance_id': 'fe_03_05876-B-0021',\n",
       "  'call_id': '05876',\n",
       "  'speaker': 'B'},\n",
       " {'speech_raw': \"IT'S THE FAME BUT ALSO IT'S ALMOST LIKE TRYING TO SEE THE LIMITS YOU CAN PUSH LIKE HOW LIKE CAN YOU GET PEOPLE TO TAKE OFF THEIR CLOTHES OR Y- C- CAN YOU GET PEOPLE TO EAT DISGUSTING FOOD UM TO D- IT'S LIKE LIKE WHAT'S SOMEONE'S PRICE PRETTY MUCH\",\n",
       "  'speech': \"it's the fame but also it's almost like trying to see the limits you can push like how like can you get people to take off their clothes or <rem> <rem> can you get people to eat disgusting food um to <rem> it's like like what's someone's price pretty much\",\n",
       "  'n_words': 50,\n",
       "  'has_words': True,\n",
       "  'utterance_id': 'fe_03_05876-B-0023',\n",
       "  'call_id': '05876',\n",
       "  'speaker': 'B'},\n",
       " {'speech_raw': \"AND I THINK IT'S ALMOST LIKE PEOPLE PROSTITUTING THEMSELVES IT'S REALLY LIKE JUST GROTESQUE I DON'T LIKE IT AT ALL\",\n",
       "  'speech': \"and i think it's almost like people prostituting themselves it's really like just grotesque i don't like it at all\",\n",
       "  'n_words': 20,\n",
       "  'has_words': True,\n",
       "  'utterance_id': 'fe_03_05876-B-0024',\n",
       "  'call_id': '05876',\n",
       "  'speaker': 'B'},\n",
       " {'speech_raw': \"AND FOR ME TO UM TAKE A MILLION DOLLARS TO NOT TALK TO MY BEST FRIEND IT'S THE SAME AS ME LIKE JUMPING OUT OF AN AIRPLANE FOR LIKE [MN] A REALITY SHOW IT'S JUST AS STUPID\",\n",
       "  'speech': \"and for me to um take a million dollars to not talk to my best friend it's the same as me like jumping out of an airplane for like a reality show it's just as stupid\",\n",
       "  'n_words': 36,\n",
       "  'has_words': True,\n",
       "  'utterance_id': 'fe_03_05876-B-0025',\n",
       "  'call_id': '05876',\n",
       "  'speaker': 'B'},\n",
       " {'speech_raw': \"IT'S TRYING TO SEE WHAT PEOPLE'S PRICES ARE AND WHAT THEY'RE WILLING TO DO FOR MONEY\",\n",
       "  'speech': \"it's trying to see what people's prices are and what they're willing to do for money\",\n",
       "  'n_words': 16,\n",
       "  'has_words': True,\n",
       "  'utterance_id': 'fe_03_05876-B-0027',\n",
       "  'call_id': '05876',\n",
       "  'speaker': 'B'},\n",
       " {'speech_raw': 'RIGHT',\n",
       "  'speech': 'right',\n",
       "  'n_words': 1,\n",
       "  'has_words': True,\n",
       "  'utterance_id': 'fe_03_05876-B-0028',\n",
       "  'call_id': '05876',\n",
       "  'speaker': 'B'},\n",
       " {'speech_raw': \"YEAH IT'S NOT EVEN JUST THE MONEY I THINK IT'S THE SHOCK FACTOR LIKE LIKE PEOPLE I MEAN PEOPLE GO ON IT I MEAN THAT'S ONE THING BUT THEN THE PEOPLE THAT WATCH IT IT'S BECAUSE THEY WANT TO SEE IF THE PEOPLE ARE GOING TO DO THESE THINGS ARE THEY REALLY GOING TO DO THESE THINGS\",\n",
       "  'speech': \"yeah it's not even just the money i think it's the shock factor like like people i mean people go on it i mean that's one thing but then the people that watch it it's because they want to see if the people are going to do these things are they really going to do these things\",\n",
       "  'n_words': 57,\n",
       "  'has_words': True,\n",
       "  'utterance_id': 'fe_03_05876-B-0029',\n",
       "  'call_id': '05876',\n",
       "  'speaker': 'B'},\n",
       " {'speech_raw': 'IT IS',\n",
       "  'speech': 'it is',\n",
       "  'n_words': 2,\n",
       "  'has_words': True,\n",
       "  'utterance_id': 'fe_03_05876-B-0030',\n",
       "  'call_id': '05876',\n",
       "  'speaker': 'B'},\n",
       " {'speech_raw': 'YEAH',\n",
       "  'speech': 'yeah',\n",
       "  'n_words': 1,\n",
       "  'has_words': True,\n",
       "  'utterance_id': 'fe_03_05876-B-0031',\n",
       "  'call_id': '05876',\n",
       "  'speaker': 'B'},\n",
       " {'speech_raw': \"IT IS AND THE NETWORKS LOVE IT BECAUSE IT'S EASY FOR THEM THEY DON'T HAVE TO HIRE ACTORS NO ONE HAS TO WRITE A SCRIPT I MEAN PRETTY MUCH THEY JUST TURN ON A CAMERA AND THEN THEY JUST THINK OF A PREMISE AND THEN THEY JUST WATCH LIKE THE MONEY ROLL IN\",\n",
       "  'speech': \"it is and the networks love it because it's easy for them they don't have to hire actors no one has to write a script i mean pretty much they just turn on a camera and then they just think of a premise and then they just watch like the money roll in\",\n",
       "  'n_words': 53,\n",
       "  'has_words': True,\n",
       "  'utterance_id': 'fe_03_05876-B-0032',\n",
       "  'call_id': '05876',\n",
       "  'speaker': 'B'},\n",
       " {'speech_raw': \"IT'S LIKE THE CHEAPEST THING FOR THEM\",\n",
       "  'speech': \"it's like the cheapest thing for them\",\n",
       "  'n_words': 7,\n",
       "  'has_words': True,\n",
       "  'utterance_id': 'fe_03_05876-B-0033',\n",
       "  'call_id': '05876',\n",
       "  'speaker': 'B'},\n",
       " {'speech_raw': 'YEAH',\n",
       "  'speech': 'yeah',\n",
       "  'n_words': 1,\n",
       "  'has_words': True,\n",
       "  'utterance_id': 'fe_03_05876-B-0034',\n",
       "  'call_id': '05876',\n",
       "  'speaker': 'B'},\n",
       " {'speech_raw': \"THERE'S NO ACTORS NO WRITERS NO SCRIPT IT'S IT'S LIKE\",\n",
       "  'speech': \"there's no actors no writers no script it's it's like\",\n",
       "  'n_words': 10,\n",
       "  'has_words': True,\n",
       "  'utterance_id': 'fe_03_05876-B-0035',\n",
       "  'call_id': '05876',\n",
       "  'speaker': 'B'},\n",
       " {'speech_raw': 'UM WELL NOT TO WRITE YOUR ACTUAL LINES JUST TO KIND OF WRITE LIKE THE PREMISE',\n",
       "  'speech': 'um well not to write your actual lines just to kind of write like the premise',\n",
       "  'n_words': 16,\n",
       "  'has_words': True,\n",
       "  'utterance_id': 'fe_03_05876-B-0036',\n",
       "  'call_id': '05876',\n",
       "  'speaker': 'B'},\n",
       " {'speech_raw': 'YEAH THAT',\n",
       "  'speech': 'yeah that',\n",
       "  'n_words': 2,\n",
       "  'has_words': True,\n",
       "  'utterance_id': 'fe_03_05876-B-0037',\n",
       "  'call_id': '05876',\n",
       "  'speaker': 'B'},\n",
       " {'speech_raw': 'AND JU-',\n",
       "  'speech': 'and <rem>',\n",
       "  'n_words': 2,\n",
       "  'has_words': True,\n",
       "  'utterance_id': 'fe_03_05876-B-0040',\n",
       "  'call_id': '05876',\n",
       "  'speaker': 'B'},\n",
       " {'speech_raw': 'JUST TO GET BACK TO THE TOPIC UM OH',\n",
       "  'speech': 'just to get back to the topic um oh',\n",
       "  'n_words': 9,\n",
       "  'has_words': True,\n",
       "  'utterance_id': 'fe_03_05876-B-0041',\n",
       "  'call_id': '05876',\n",
       "  'speaker': 'B'},\n",
       " {'speech_raw': \"ANOTHER REASON WHY I WOULDN'T TAKE A MILLION DOLLARS IS IT'S ALMOST LIKE\",\n",
       "  'speech': \"another reason why i wouldn't take a million dollars is it's almost like\",\n",
       "  'n_words': 13,\n",
       "  'has_words': True,\n",
       "  'utterance_id': 'fe_03_05876-B-0042',\n",
       "  'call_id': '05876',\n",
       "  'speaker': 'B'},\n",
       " {'speech_raw': \"UM SOMEONE'S CONTROLLING YOU AND I DON'T LIKE THAT FEELING OF LIKE NOT\",\n",
       "  'speech': \"um someone's controlling you and i don't like that feeling of like not\",\n",
       "  'n_words': 13,\n",
       "  'has_words': True,\n",
       "  'utterance_id': 'fe_03_05876-B-0043',\n",
       "  'call_id': '05876',\n",
       "  'speaker': 'B'},\n",
       " {'speech_raw': 'LIKE NOT BE ABLE TO DO WHAT I WANT TO DO OR TALK TO WHO I WANT TO TALK OR BE WITH WHO I WANT TO BE WITH BECAUSE OF THESE CONTINGENCIES',\n",
       "  'speech': 'like not be able to do what i want to do or talk to who i want to talk or be with who i want to be with because of these contingencies',\n",
       "  'n_words': 32,\n",
       "  'has_words': True,\n",
       "  'utterance_id': 'fe_03_05876-B-0044',\n",
       "  'call_id': '05876',\n",
       "  'speaker': 'B'},\n",
       " {'speech_raw': 'RIGHT RIGHT I GUESS',\n",
       "  'speech': 'right right i guess',\n",
       "  'n_words': 4,\n",
       "  'has_words': True,\n",
       "  'utterance_id': 'fe_03_05876-B-0046',\n",
       "  'call_id': '05876',\n",
       "  'speaker': 'B'},\n",
       " {'speech_raw': 'I GUESS [LAUGHTER] YEAH THIS IS THIS IS LIKE THIS IS TOTALLY DIFFERENT FROM THE FIRST QUESTION BUT LIKE THIS IS ONLY MY SECOND CALL SO',\n",
       "  'speech': 'i guess yeah this is this is like this is totally different from the first question but like this is only my second call so',\n",
       "  'n_words': 25,\n",
       "  'has_words': True,\n",
       "  'utterance_id': 'fe_03_05876-B-0047',\n",
       "  'call_id': '05876',\n",
       "  'speaker': 'B'},\n",
       " {'speech_raw': \"OH THAT'S KIND OF NORMAL MY MY FIRST CALL WAS ABOUT GETTING\",\n",
       "  'speech': \"oh that's kind of normal my my first call was about getting\",\n",
       "  'n_words': 12,\n",
       "  'has_words': True,\n",
       "  'utterance_id': 'fe_03_05876-B-0048',\n",
       "  'call_id': '05876',\n",
       "  'speaker': 'B'},\n",
       " {'speech_raw': 'LIKE GETTING LIKE CATCHING COLDS FROM PEOPLE LIKE A COMMON COLD',\n",
       "  'speech': 'like getting like catching colds from people like a common cold',\n",
       "  'n_words': 11,\n",
       "  'has_words': True,\n",
       "  'utterance_id': 'fe_03_05876-B-0049',\n",
       "  'call_id': '05876',\n",
       "  'speaker': 'B'},\n",
       " {'speech_raw': 'YEAH IT WAS JUST LIKE A REGULAR QUESTION',\n",
       "  'speech': 'yeah it was just like a regular question',\n",
       "  'n_words': 8,\n",
       "  'has_words': True,\n",
       "  'utterance_id': 'fe_03_05876-B-0050',\n",
       "  'call_id': '05876',\n",
       "  'speaker': 'B'},\n",
       " {'speech_raw': '[LAUGHTER] NO NO [LAUGHTER] NOT THAT AT ALL',\n",
       "  'speech': 'no no not that at all',\n",
       "  'n_words': 6,\n",
       "  'has_words': True,\n",
       "  'utterance_id': 'fe_03_05876-B-0051',\n",
       "  'call_id': '05876',\n",
       "  'speaker': 'B'},\n",
       " {'speech_raw': \"YEAH THEY SAID UH A- BUT DIDN'T THEY SAY IT WAS AN ANONYMOUS BENEFACTOR SO LIKE WHY WOULD I EVEN GO INTO AN AGREEMENT WITH SOME PERSON I DIDN'T EVEN KNOW\",\n",
       "  'speech': \"yeah they said uh <rem> but didn't they say it was an anonymous benefactor so like why would i even go into an agreement with some person i didn't even know\",\n",
       "  'n_words': 31,\n",
       "  'has_words': True,\n",
       "  'utterance_id': 'fe_03_05876-B-0052',\n",
       "  'call_id': '05876',\n",
       "  'speaker': 'B'},\n",
       " {'speech_raw': 'WELL',\n",
       "  'speech': 'well',\n",
       "  'n_words': 1,\n",
       "  'has_words': True,\n",
       "  'utterance_id': 'fe_03_05876-B-0053',\n",
       "  'call_id': '05876',\n",
       "  'speaker': 'B'},\n",
       " {'speech_raw': \"RIGHT BUT THE THING IS IT'S LIKE I WOULD THINK THAT NOBOD- I WOULD I WOULDN'T WANT ANYBODY TO KNOW LIKE IF I WENT AND DID THIS I WOULDN'T WANT ANYBODY TO KNOW I TOOK MONEY\",\n",
       "  'speech': \"right but the thing is it's like i would think that <rem> i would i wouldn't want anybody to know like if i went and did this i wouldn't want anybody to know i took money\",\n",
       "  'n_words': 36,\n",
       "  'has_words': True,\n",
       "  'utterance_id': 'fe_03_05876-B-0054',\n",
       "  'call_id': '05876',\n",
       "  'speaker': 'B'},\n",
       " {'speech_raw': \"AND I CERTAINLY WOULDN'T BE FLASHING IT AROUND LIKE I WOULD I MEAN IF I WENT AND DID THIS I WOULD HAVE TO LIKE SOMEHOW MANUFACTURE LIKE A REASON AS TO WHY I'M NOT TALKING TO THIS PERSON AGAIN JUST SO THAT LIKE\",\n",
       "  'speech': \"and i certainly wouldn't be flashing it around like i would i mean if i went and did this i would have to like somehow manufacture like a reason as to why i'm not talking to this person again just so that like\",\n",
       "  'n_words': 43,\n",
       "  'has_words': True,\n",
       "  'utterance_id': 'fe_03_05876-B-0055',\n",
       "  'call_id': '05876',\n",
       "  'speaker': 'B'},\n",
       " {'speech_raw': \"IT WOULDN'T BE MAKE A LOGICAL SENSE TO OTHER PEOPLE\",\n",
       "  'speech': \"it wouldn't be make a logical sense to other people\",\n",
       "  'n_words': 10,\n",
       "  'has_words': True,\n",
       "  'utterance_id': 'fe_03_05876-B-0056',\n",
       "  'call_id': '05876',\n",
       "  'speaker': 'B'},\n",
       " {'speech_raw': 'RIGHT',\n",
       "  'speech': 'right',\n",
       "  'n_words': 1,\n",
       "  'has_words': True,\n",
       "  'utterance_id': 'fe_03_05876-B-0057',\n",
       "  'call_id': '05876',\n",
       "  'speaker': 'B'},\n",
       " {'speech_raw': 'MHM',\n",
       "  'speech': 'mhm',\n",
       "  'n_words': 1,\n",
       "  'has_words': True,\n",
       "  'utterance_id': 'fe_03_05876-B-0058',\n",
       "  'call_id': '05876',\n",
       "  'speaker': 'B'},\n",
       " {'speech_raw': 'RIGHT',\n",
       "  'speech': 'right',\n",
       "  'n_words': 1,\n",
       "  'has_words': True,\n",
       "  'utterance_id': 'fe_03_05876-B-0059',\n",
       "  'call_id': '05876',\n",
       "  'speaker': 'B'},\n",
       " {'speech_raw': \"RIGHT SO IT'S A LITTLE DIFFERENT FOR YOU\",\n",
       "  'speech': \"right so it's a little different for you\",\n",
       "  'n_words': 8,\n",
       "  'has_words': True,\n",
       "  'utterance_id': 'fe_03_05876-B-0060',\n",
       "  'call_id': '05876',\n",
       "  'speaker': 'B'},\n",
       " {'speech_raw': \"YEAH YEAH SEE I I'M SINGLE AND MY BEST FRIEND IS LIKE WE GREW UP TOGETHER AND I'VE KNOWN HER HER WHOLE LIFE AND WE'VE KNOWN EACH OTHER OUR WHOLE LIVES AND UM AND WE CAN NEVER LIKE NOT BE FRIENDS 'CAUSE WE KNOW TOO MUCH BAD STUFF ABOUT EACH OTHER\",\n",
       "  'speech': \"yeah yeah see i i'm single and my best friend is like we grew up together and i've known her her whole life and we've known each other our whole lives and um and we can never like not be friends 'cause we know too much bad stuff about each other\",\n",
       "  'n_words': 51,\n",
       "  'has_words': True,\n",
       "  'utterance_id': 'fe_03_05876-B-0061',\n",
       "  'call_id': '05876',\n",
       "  'speaker': 'B'},\n",
       " {'speech_raw': \"[LAUGHTER] AND SHE'S SI- AND SHE'S SINGLE TOO SO SO WE DO LIKE A LOT OF STUFF TOGETHER LIKE WE'RE EACH OTHER'S DATES FOR LIKE WEDDINGS AND STUFF AND WE GO ON VACATION TOGETHER SO SHE'S A BIG PART OF MY LIFE AND WE SPEAK EVERY DAY\",\n",
       "  'speech': \"and she's <rem> and she's single too so so we do like a lot of stuff together like we're each other's dates for like weddings and stuff and we go on vacation together so she's a big part of my life and we speak every day\",\n",
       "  'n_words': 46,\n",
       "  'has_words': True,\n",
       "  'utterance_id': 'fe_03_05876-B-0062',\n",
       "  'call_id': '05876',\n",
       "  'speaker': 'B'},\n",
       " {'speech_raw': 'YEAH',\n",
       "  'speech': 'yeah',\n",
       "  'n_words': 1,\n",
       "  'has_words': True,\n",
       "  'utterance_id': 'fe_03_05876-B-0063',\n",
       "  'call_id': '05876',\n",
       "  'speaker': 'B'},\n",
       " {'speech_raw': \"R- YEAH WHEN YOU GET MARRIED IT'S DIFFERENT YEAH\",\n",
       "  'speech': \"<rem> yeah when you get married it's different yeah\",\n",
       "  'n_words': 9,\n",
       "  'has_words': True,\n",
       "  'utterance_id': 'fe_03_05876-B-0064',\n",
       "  'call_id': '05876',\n",
       "  'speaker': 'B'},\n",
       " {'speech_raw': 'RIGHT',\n",
       "  'speech': 'right',\n",
       "  'n_words': 1,\n",
       "  'has_words': True,\n",
       "  'utterance_id': 'fe_03_05876-B-0066',\n",
       "  'call_id': '05876',\n",
       "  'speaker': 'B'},\n",
       " {'speech_raw': 'YEAH',\n",
       "  'speech': 'yeah',\n",
       "  'n_words': 1,\n",
       "  'has_words': True,\n",
       "  'utterance_id': 'fe_03_05876-B-0067',\n",
       "  'call_id': '05876',\n",
       "  'speaker': 'B'},\n",
       " {'speech_raw': \"IT'S TOO SKETCHY\",\n",
       "  'speech': \"it's too sketchy\",\n",
       "  'n_words': 3,\n",
       "  'has_words': True,\n",
       "  'utterance_id': 'fe_03_05876-B-0068',\n",
       "  'call_id': '05876',\n",
       "  'speaker': 'B'},\n",
       " {'speech_raw': 'RIGHT',\n",
       "  'speech': 'right',\n",
       "  'n_words': 1,\n",
       "  'has_words': True,\n",
       "  'utterance_id': 'fe_03_05876-B-0070',\n",
       "  'call_id': '05876',\n",
       "  'speaker': 'B'},\n",
       " {'speech_raw': 'YEAH YEAH EXACTLY I MEAN LIKE',\n",
       "  'speech': 'yeah yeah exactly i mean like',\n",
       "  'n_words': 6,\n",
       "  'has_words': True,\n",
       "  'utterance_id': 'fe_03_05876-B-0071',\n",
       "  'call_id': '05876',\n",
       "  'speaker': 'B'},\n",
       " {'speech_raw': \"I'VE I'VE ALWAYS I MEAN YOU KNOW WHO DOESN'T WHO COULDN'T USE MORE MONEY BUT I MEAN WHO DOESN'T HAVE BILLS BUT\",\n",
       "  'speech': \"i've i've always i mean you know who doesn't who couldn't use more money but i mean who doesn't have bills but\",\n",
       "  'n_words': 22,\n",
       "  'has_words': True,\n",
       "  'utterance_id': 'fe_03_05876-B-0072',\n",
       "  'call_id': '05876',\n",
       "  'speaker': 'B'},\n",
       " {'speech_raw': \"RIGHT BUT I'VE I'VE ALWAYS FELT LIKE YOU KNOW WHAT IF I CAN'T AFFORD IT OR IT'S OUT OF MY LEAGUE AND I'VE LIVED THIS FAR WITHOUT IT I DON'T NEED IT\",\n",
       "  'speech': \"right but i've i've always felt like you know what if i can't afford it or it's out of my league and i've lived this far without it i don't need it\",\n",
       "  'n_words': 32,\n",
       "  'has_words': True,\n",
       "  'utterance_id': 'fe_03_05876-B-0073',\n",
       "  'call_id': '05876',\n",
       "  'speaker': 'B'},\n",
       " {'speech_raw': \"LIKE I DON'T NEED LIKE THE M-\",\n",
       "  'speech': \"like i don't need like the <rem>\",\n",
       "  'n_words': 7,\n",
       "  'has_words': True,\n",
       "  'utterance_id': 'fe_03_05876-B-0074',\n",
       "  'call_id': '05876',\n",
       "  'speaker': 'B'},\n",
       " {'speech_raw': 'YEAH',\n",
       "  'speech': 'yeah',\n",
       "  'n_words': 1,\n",
       "  'has_words': True,\n",
       "  'utterance_id': 'fe_03_05876-B-0075',\n",
       "  'call_id': '05876',\n",
       "  'speaker': 'B'}]"
      ]
     },
     "execution_count": 136,
     "metadata": {},
     "output_type": "execute_result"
    }
   ],
   "source": [
    "parse_trn_file_bbn('./auto-segmented/fe_03_05876.trn')"
   ]
  },
  {
   "cell_type": "code",
   "execution_count": 137,
   "metadata": {
    "ExecuteTime": {
     "end_time": "2019-09-05T05:24:01.730044Z",
     "start_time": "2019-09-05T05:24:01.727050Z"
    }
   },
   "outputs": [],
   "source": [
    "def parse_ana_file_bbn(bbn_fp):\n",
    "    bbn_lines = []\n",
    "    with open(bbn_fp, 'r') as file:\n",
    "        for line in file:\n",
    "            bbn_lines.append(line.rstrip())\n",
    "    parsed_lines = [parse_ana_line_bbn(l) for l in bbn_lines]\n",
    "    return parsed_lines"
   ]
  },
  {
   "cell_type": "code",
   "execution_count": 138,
   "metadata": {
    "ExecuteTime": {
     "end_time": "2019-09-05T05:24:01.762895Z",
     "start_time": "2019-09-05T05:24:01.731234Z"
    }
   },
   "outputs": [
    {
     "data": {
      "text/plain": [
       "[{'utterance_id': 'fe_03_05876-A-0001',\n",
       "  'start': 19360,\n",
       "  'end': 33280,\n",
       "  'duration': 13920,\n",
       "  'audio_fn': 'fe_03_05876.sph',\n",
       "  'channel': 1,\n",
       "  'type': 'NIST_1A'},\n",
       " {'utterance_id': 'fe_03_05876-A-0002',\n",
       "  'start': 39280,\n",
       "  'end': 50880,\n",
       "  'duration': 11600,\n",
       "  'audio_fn': 'fe_03_05876.sph',\n",
       "  'channel': 1,\n",
       "  'type': 'NIST_1A'},\n",
       " {'utterance_id': 'fe_03_05876-A-0003',\n",
       "  'start': 54720,\n",
       "  'end': 80080,\n",
       "  'duration': 25360,\n",
       "  'audio_fn': 'fe_03_05876.sph',\n",
       "  'channel': 1,\n",
       "  'type': 'NIST_1A'},\n",
       " {'utterance_id': 'fe_03_05876-A-0005',\n",
       "  'start': 94160,\n",
       "  'end': 131360,\n",
       "  'duration': 37200,\n",
       "  'audio_fn': 'fe_03_05876.sph',\n",
       "  'channel': 1,\n",
       "  'type': 'NIST_1A'},\n",
       " {'utterance_id': 'fe_03_05876-A-0006',\n",
       "  'start': 140400,\n",
       "  'end': 161200,\n",
       "  'duration': 20800,\n",
       "  'audio_fn': 'fe_03_05876.sph',\n",
       "  'channel': 1,\n",
       "  'type': 'NIST_1A'},\n",
       " {'utterance_id': 'fe_03_05876-A-0007',\n",
       "  'start': 180480,\n",
       "  'end': 215200,\n",
       "  'duration': 34720,\n",
       "  'audio_fn': 'fe_03_05876.sph',\n",
       "  'channel': 1,\n",
       "  'type': 'NIST_1A'},\n",
       " {'utterance_id': 'fe_03_05876-A-0008',\n",
       "  'start': 215520,\n",
       "  'end': 250400,\n",
       "  'duration': 34880,\n",
       "  'audio_fn': 'fe_03_05876.sph',\n",
       "  'channel': 1,\n",
       "  'type': 'NIST_1A'},\n",
       " {'utterance_id': 'fe_03_05876-A-0009',\n",
       "  'start': 252960,\n",
       "  'end': 281120,\n",
       "  'duration': 28160,\n",
       "  'audio_fn': 'fe_03_05876.sph',\n",
       "  'channel': 1,\n",
       "  'type': 'NIST_1A'},\n",
       " {'utterance_id': 'fe_03_05876-A-0010',\n",
       "  'start': 286800,\n",
       "  'end': 327440,\n",
       "  'duration': 40640,\n",
       "  'audio_fn': 'fe_03_05876.sph',\n",
       "  'channel': 1,\n",
       "  'type': 'NIST_1A'},\n",
       " {'utterance_id': 'fe_03_05876-A-0011',\n",
       "  'start': 340480,\n",
       "  'end': 395760,\n",
       "  'duration': 55280,\n",
       "  'audio_fn': 'fe_03_05876.sph',\n",
       "  'channel': 1,\n",
       "  'type': 'NIST_1A'},\n",
       " {'utterance_id': 'fe_03_05876-A-0012',\n",
       "  'start': 448880,\n",
       "  'end': 471040,\n",
       "  'duration': 22160,\n",
       "  'audio_fn': 'fe_03_05876.sph',\n",
       "  'channel': 1,\n",
       "  'type': 'NIST_1A'},\n",
       " {'utterance_id': 'fe_03_05876-A-0013',\n",
       "  'start': 472800,\n",
       "  'end': 482000,\n",
       "  'duration': 9200,\n",
       "  'audio_fn': 'fe_03_05876.sph',\n",
       "  'channel': 1,\n",
       "  'type': 'NIST_1A'},\n",
       " {'utterance_id': 'fe_03_05876-A-0014',\n",
       "  'start': 493280,\n",
       "  'end': 505840,\n",
       "  'duration': 12560,\n",
       "  'audio_fn': 'fe_03_05876.sph',\n",
       "  'channel': 1,\n",
       "  'type': 'NIST_1A'},\n",
       " {'utterance_id': 'fe_03_05876-A-0015',\n",
       "  'start': 595200,\n",
       "  'end': 602400,\n",
       "  'duration': 7200,\n",
       "  'audio_fn': 'fe_03_05876.sph',\n",
       "  'channel': 1,\n",
       "  'type': 'NIST_1A'},\n",
       " {'utterance_id': 'fe_03_05876-A-0016',\n",
       "  'start': 637520,\n",
       "  'end': 646560,\n",
       "  'duration': 9040,\n",
       "  'audio_fn': 'fe_03_05876.sph',\n",
       "  'channel': 1,\n",
       "  'type': 'NIST_1A'},\n",
       " {'utterance_id': 'fe_03_05876-A-0017',\n",
       "  'start': 681600,\n",
       "  'end': 781120,\n",
       "  'duration': 99520,\n",
       "  'audio_fn': 'fe_03_05876.sph',\n",
       "  'channel': 1,\n",
       "  'type': 'NIST_1A'},\n",
       " {'utterance_id': 'fe_03_05876-A-0018',\n",
       "  'start': 829760,\n",
       "  'end': 857360,\n",
       "  'duration': 27600,\n",
       "  'audio_fn': 'fe_03_05876.sph',\n",
       "  'channel': 1,\n",
       "  'type': 'NIST_1A'},\n",
       " {'utterance_id': 'fe_03_05876-A-0019',\n",
       "  'start': 865920,\n",
       "  'end': 896000,\n",
       "  'duration': 30080,\n",
       "  'audio_fn': 'fe_03_05876.sph',\n",
       "  'channel': 1,\n",
       "  'type': 'NIST_1A'},\n",
       " {'utterance_id': 'fe_03_05876-A-0020',\n",
       "  'start': 900160,\n",
       "  'end': 921200,\n",
       "  'duration': 21040,\n",
       "  'audio_fn': 'fe_03_05876.sph',\n",
       "  'channel': 1,\n",
       "  'type': 'NIST_1A'},\n",
       " {'utterance_id': 'fe_03_05876-A-0021',\n",
       "  'start': 924720,\n",
       "  'end': 947120,\n",
       "  'duration': 22400,\n",
       "  'audio_fn': 'fe_03_05876.sph',\n",
       "  'channel': 1,\n",
       "  'type': 'NIST_1A'},\n",
       " {'utterance_id': 'fe_03_05876-A-0022',\n",
       "  'start': 947440,\n",
       "  'end': 1056640,\n",
       "  'duration': 109200,\n",
       "  'audio_fn': 'fe_03_05876.sph',\n",
       "  'channel': 1,\n",
       "  'type': 'NIST_1A'},\n",
       " {'utterance_id': 'fe_03_05876-A-0023',\n",
       "  'start': 1056000,\n",
       "  'end': 1078880,\n",
       "  'duration': 22880,\n",
       "  'audio_fn': 'fe_03_05876.sph',\n",
       "  'channel': 1,\n",
       "  'type': 'NIST_1A'},\n",
       " {'utterance_id': 'fe_03_05876-A-0024',\n",
       "  'start': 1078960,\n",
       "  'end': 1096480,\n",
       "  'duration': 17520,\n",
       "  'audio_fn': 'fe_03_05876.sph',\n",
       "  'channel': 1,\n",
       "  'type': 'NIST_1A'},\n",
       " {'utterance_id': 'fe_03_05876-A-0025',\n",
       "  'start': 1131200,\n",
       "  'end': 1151440,\n",
       "  'duration': 20240,\n",
       "  'audio_fn': 'fe_03_05876.sph',\n",
       "  'channel': 1,\n",
       "  'type': 'NIST_1A'},\n",
       " {'utterance_id': 'fe_03_05876-A-0026',\n",
       "  'start': 1151760,\n",
       "  'end': 1194160,\n",
       "  'duration': 42400,\n",
       "  'audio_fn': 'fe_03_05876.sph',\n",
       "  'channel': 1,\n",
       "  'type': 'NIST_1A'},\n",
       " {'utterance_id': 'fe_03_05876-A-0027',\n",
       "  'start': 1196160,\n",
       "  'end': 1261520,\n",
       "  'duration': 65360,\n",
       "  'audio_fn': 'fe_03_05876.sph',\n",
       "  'channel': 1,\n",
       "  'type': 'NIST_1A'},\n",
       " {'utterance_id': 'fe_03_05876-A-0028',\n",
       "  'start': 1261280,\n",
       "  'end': 1336480,\n",
       "  'duration': 75200,\n",
       "  'audio_fn': 'fe_03_05876.sph',\n",
       "  'channel': 1,\n",
       "  'type': 'NIST_1A'},\n",
       " {'utterance_id': 'fe_03_05876-A-0029',\n",
       "  'start': 1337760,\n",
       "  'end': 1377680,\n",
       "  'duration': 39920,\n",
       "  'audio_fn': 'fe_03_05876.sph',\n",
       "  'channel': 1,\n",
       "  'type': 'NIST_1A'},\n",
       " {'utterance_id': 'fe_03_05876-A-0031',\n",
       "  'start': 1479120,\n",
       "  'end': 1488480,\n",
       "  'duration': 9360,\n",
       "  'audio_fn': 'fe_03_05876.sph',\n",
       "  'channel': 1,\n",
       "  'type': 'NIST_1A'},\n",
       " {'utterance_id': 'fe_03_05876-A-0032',\n",
       "  'start': 1514160,\n",
       "  'end': 1526320,\n",
       "  'duration': 12160,\n",
       "  'audio_fn': 'fe_03_05876.sph',\n",
       "  'channel': 1,\n",
       "  'type': 'NIST_1A'},\n",
       " {'utterance_id': 'fe_03_05876-A-0033',\n",
       "  'start': 1532240,\n",
       "  'end': 1557760,\n",
       "  'duration': 25520,\n",
       "  'audio_fn': 'fe_03_05876.sph',\n",
       "  'channel': 1,\n",
       "  'type': 'NIST_1A'},\n",
       " {'utterance_id': 'fe_03_05876-A-0034',\n",
       "  'start': 1558240,\n",
       "  'end': 1574240,\n",
       "  'duration': 16000,\n",
       "  'audio_fn': 'fe_03_05876.sph',\n",
       "  'channel': 1,\n",
       "  'type': 'NIST_1A'},\n",
       " {'utterance_id': 'fe_03_05876-A-0035',\n",
       "  'start': 1581840,\n",
       "  'end': 1593360,\n",
       "  'duration': 11520,\n",
       "  'audio_fn': 'fe_03_05876.sph',\n",
       "  'channel': 1,\n",
       "  'type': 'NIST_1A'},\n",
       " {'utterance_id': 'fe_03_05876-A-0036',\n",
       "  'start': 1654400,\n",
       "  'end': 1662960,\n",
       "  'duration': 8560,\n",
       "  'audio_fn': 'fe_03_05876.sph',\n",
       "  'channel': 1,\n",
       "  'type': 'NIST_1A'},\n",
       " {'utterance_id': 'fe_03_05876-A-0038',\n",
       "  'start': 1699840,\n",
       "  'end': 1712720,\n",
       "  'duration': 12880,\n",
       "  'audio_fn': 'fe_03_05876.sph',\n",
       "  'channel': 1,\n",
       "  'type': 'NIST_1A'},\n",
       " {'utterance_id': 'fe_03_05876-A-0039',\n",
       "  'start': 1733360,\n",
       "  'end': 1743280,\n",
       "  'duration': 9920,\n",
       "  'audio_fn': 'fe_03_05876.sph',\n",
       "  'channel': 1,\n",
       "  'type': 'NIST_1A'},\n",
       " {'utterance_id': 'fe_03_05876-A-0040',\n",
       "  'start': 1811760,\n",
       "  'end': 1845200,\n",
       "  'duration': 33440,\n",
       "  'audio_fn': 'fe_03_05876.sph',\n",
       "  'channel': 1,\n",
       "  'type': 'NIST_1A'},\n",
       " {'utterance_id': 'fe_03_05876-A-0041',\n",
       "  'start': 1848640,\n",
       "  'end': 1854960,\n",
       "  'duration': 6320,\n",
       "  'audio_fn': 'fe_03_05876.sph',\n",
       "  'channel': 1,\n",
       "  'type': 'NIST_1A'},\n",
       " {'utterance_id': 'fe_03_05876-A-0042',\n",
       "  'start': 1873120,\n",
       "  'end': 1879040,\n",
       "  'duration': 5920,\n",
       "  'audio_fn': 'fe_03_05876.sph',\n",
       "  'channel': 1,\n",
       "  'type': 'NIST_1A'},\n",
       " {'utterance_id': 'fe_03_05876-A-0043',\n",
       "  'start': 1884240,\n",
       "  'end': 1898880,\n",
       "  'duration': 14640,\n",
       "  'audio_fn': 'fe_03_05876.sph',\n",
       "  'channel': 1,\n",
       "  'type': 'NIST_1A'},\n",
       " {'utterance_id': 'fe_03_05876-A-0044',\n",
       "  'start': 1910160,\n",
       "  'end': 2022160,\n",
       "  'duration': 112000,\n",
       "  'audio_fn': 'fe_03_05876.sph',\n",
       "  'channel': 1,\n",
       "  'type': 'NIST_1A'},\n",
       " {'utterance_id': 'fe_03_05876-A-0045',\n",
       "  'start': 2028320,\n",
       "  'end': 2037200,\n",
       "  'duration': 8880,\n",
       "  'audio_fn': 'fe_03_05876.sph',\n",
       "  'channel': 1,\n",
       "  'type': 'NIST_1A'},\n",
       " {'utterance_id': 'fe_03_05876-A-0046',\n",
       "  'start': 2037440,\n",
       "  'end': 2093200,\n",
       "  'duration': 55760,\n",
       "  'audio_fn': 'fe_03_05876.sph',\n",
       "  'channel': 1,\n",
       "  'type': 'NIST_1A'},\n",
       " {'utterance_id': 'fe_03_05876-A-0047',\n",
       "  'start': 2095280,\n",
       "  'end': 2102720,\n",
       "  'duration': 7440,\n",
       "  'audio_fn': 'fe_03_05876.sph',\n",
       "  'channel': 1,\n",
       "  'type': 'NIST_1A'},\n",
       " {'utterance_id': 'fe_03_05876-A-0049',\n",
       "  'start': 2210160,\n",
       "  'end': 2269360,\n",
       "  'duration': 59200,\n",
       "  'audio_fn': 'fe_03_05876.sph',\n",
       "  'channel': 1,\n",
       "  'type': 'NIST_1A'},\n",
       " {'utterance_id': 'fe_03_05876-A-0050',\n",
       "  'start': 2313280,\n",
       "  'end': 2321280,\n",
       "  'duration': 8000,\n",
       "  'audio_fn': 'fe_03_05876.sph',\n",
       "  'channel': 1,\n",
       "  'type': 'NIST_1A'},\n",
       " {'utterance_id': 'fe_03_05876-A-0051',\n",
       "  'start': 2357280,\n",
       "  'end': 2388160,\n",
       "  'duration': 30880,\n",
       "  'audio_fn': 'fe_03_05876.sph',\n",
       "  'channel': 1,\n",
       "  'type': 'NIST_1A'},\n",
       " {'utterance_id': 'fe_03_05876-A-0052',\n",
       "  'start': 2392560,\n",
       "  'end': 2412800,\n",
       "  'duration': 20240,\n",
       "  'audio_fn': 'fe_03_05876.sph',\n",
       "  'channel': 1,\n",
       "  'type': 'NIST_1A'},\n",
       " {'utterance_id': 'fe_03_05876-A-0053',\n",
       "  'start': 2426240,\n",
       "  'end': 2449920,\n",
       "  'duration': 23680,\n",
       "  'audio_fn': 'fe_03_05876.sph',\n",
       "  'channel': 1,\n",
       "  'type': 'NIST_1A'},\n",
       " {'utterance_id': 'fe_03_05876-A-0054',\n",
       "  'start': 2459760,\n",
       "  'end': 2495200,\n",
       "  'duration': 35440,\n",
       "  'audio_fn': 'fe_03_05876.sph',\n",
       "  'channel': 1,\n",
       "  'type': 'NIST_1A'},\n",
       " {'utterance_id': 'fe_03_05876-A-0055',\n",
       "  'start': 2506720,\n",
       "  'end': 2542560,\n",
       "  'duration': 35840,\n",
       "  'audio_fn': 'fe_03_05876.sph',\n",
       "  'channel': 1,\n",
       "  'type': 'NIST_1A'},\n",
       " {'utterance_id': 'fe_03_05876-A-0056',\n",
       "  'start': 2542800,\n",
       "  'end': 2606560,\n",
       "  'duration': 63760,\n",
       "  'audio_fn': 'fe_03_05876.sph',\n",
       "  'channel': 1,\n",
       "  'type': 'NIST_1A'},\n",
       " {'utterance_id': 'fe_03_05876-A-0057',\n",
       "  'start': 2607680,\n",
       "  'end': 2615600,\n",
       "  'duration': 7920,\n",
       "  'audio_fn': 'fe_03_05876.sph',\n",
       "  'channel': 1,\n",
       "  'type': 'NIST_1A'},\n",
       " {'utterance_id': 'fe_03_05876-A-0058',\n",
       "  'start': 2617920,\n",
       "  'end': 2624400,\n",
       "  'duration': 6480,\n",
       "  'audio_fn': 'fe_03_05876.sph',\n",
       "  'channel': 1,\n",
       "  'type': 'NIST_1A'},\n",
       " {'utterance_id': 'fe_03_05876-A-0059',\n",
       "  'start': 2635840,\n",
       "  'end': 2648480,\n",
       "  'duration': 12640,\n",
       "  'audio_fn': 'fe_03_05876.sph',\n",
       "  'channel': 1,\n",
       "  'type': 'NIST_1A'},\n",
       " {'utterance_id': 'fe_03_05876-A-0060',\n",
       "  'start': 2754720,\n",
       "  'end': 2765920,\n",
       "  'duration': 11200,\n",
       "  'audio_fn': 'fe_03_05876.sph',\n",
       "  'channel': 1,\n",
       "  'type': 'NIST_1A'},\n",
       " {'utterance_id': 'fe_03_05876-A-0061',\n",
       "  'start': 2767200,\n",
       "  'end': 2782400,\n",
       "  'duration': 15200,\n",
       "  'audio_fn': 'fe_03_05876.sph',\n",
       "  'channel': 1,\n",
       "  'type': 'NIST_1A'},\n",
       " {'utterance_id': 'fe_03_05876-A-0062',\n",
       "  'start': 2790960,\n",
       "  'end': 2811280,\n",
       "  'duration': 20320,\n",
       "  'audio_fn': 'fe_03_05876.sph',\n",
       "  'channel': 1,\n",
       "  'type': 'NIST_1A'},\n",
       " {'utterance_id': 'fe_03_05876-A-0063',\n",
       "  'start': 2814640,\n",
       "  'end': 2822160,\n",
       "  'duration': 7520,\n",
       "  'audio_fn': 'fe_03_05876.sph',\n",
       "  'channel': 1,\n",
       "  'type': 'NIST_1A'},\n",
       " {'utterance_id': 'fe_03_05876-A-0064',\n",
       "  'start': 2825360,\n",
       "  'end': 2848560,\n",
       "  'duration': 23200,\n",
       "  'audio_fn': 'fe_03_05876.sph',\n",
       "  'channel': 1,\n",
       "  'type': 'NIST_1A'},\n",
       " {'utterance_id': 'fe_03_05876-A-0065',\n",
       "  'start': 2850880,\n",
       "  'end': 2884800,\n",
       "  'duration': 33920,\n",
       "  'audio_fn': 'fe_03_05876.sph',\n",
       "  'channel': 1,\n",
       "  'type': 'NIST_1A'},\n",
       " {'utterance_id': 'fe_03_05876-A-0067',\n",
       "  'start': 2921920,\n",
       "  'end': 2938080,\n",
       "  'duration': 16160,\n",
       "  'audio_fn': 'fe_03_05876.sph',\n",
       "  'channel': 1,\n",
       "  'type': 'NIST_1A'},\n",
       " {'utterance_id': 'fe_03_05876-A-0068',\n",
       "  'start': 2960800,\n",
       "  'end': 3007920,\n",
       "  'duration': 47120,\n",
       "  'audio_fn': 'fe_03_05876.sph',\n",
       "  'channel': 1,\n",
       "  'type': 'NIST_1A'},\n",
       " {'utterance_id': 'fe_03_05876-A-0069',\n",
       "  'start': 3050480,\n",
       "  'end': 3087200,\n",
       "  'duration': 36720,\n",
       "  'audio_fn': 'fe_03_05876.sph',\n",
       "  'channel': 1,\n",
       "  'type': 'NIST_1A'},\n",
       " {'utterance_id': 'fe_03_05876-A-0070',\n",
       "  'start': 3088880,\n",
       "  'end': 3118560,\n",
       "  'duration': 29680,\n",
       "  'audio_fn': 'fe_03_05876.sph',\n",
       "  'channel': 1,\n",
       "  'type': 'NIST_1A'},\n",
       " {'utterance_id': 'fe_03_05876-A-0071',\n",
       "  'start': 3169600,\n",
       "  'end': 3178880,\n",
       "  'duration': 9280,\n",
       "  'audio_fn': 'fe_03_05876.sph',\n",
       "  'channel': 1,\n",
       "  'type': 'NIST_1A'},\n",
       " {'utterance_id': 'fe_03_05876-A-0072',\n",
       "  'start': 3179920,\n",
       "  'end': 3229840,\n",
       "  'duration': 49920,\n",
       "  'audio_fn': 'fe_03_05876.sph',\n",
       "  'channel': 1,\n",
       "  'type': 'NIST_1A'},\n",
       " {'utterance_id': 'fe_03_05876-A-0073',\n",
       "  'start': 3232560,\n",
       "  'end': 3250480,\n",
       "  'duration': 17920,\n",
       "  'audio_fn': 'fe_03_05876.sph',\n",
       "  'channel': 1,\n",
       "  'type': 'NIST_1A'},\n",
       " {'utterance_id': 'fe_03_05876-A-0074',\n",
       "  'start': 3250560,\n",
       "  'end': 3262400,\n",
       "  'duration': 11840,\n",
       "  'audio_fn': 'fe_03_05876.sph',\n",
       "  'channel': 1,\n",
       "  'type': 'NIST_1A'},\n",
       " {'utterance_id': 'fe_03_05876-A-0075',\n",
       "  'start': 3267840,\n",
       "  'end': 3307120,\n",
       "  'duration': 39280,\n",
       "  'audio_fn': 'fe_03_05876.sph',\n",
       "  'channel': 1,\n",
       "  'type': 'NIST_1A'},\n",
       " {'utterance_id': 'fe_03_05876-A-0076',\n",
       "  'start': 3354640,\n",
       "  'end': 3376160,\n",
       "  'duration': 21520,\n",
       "  'audio_fn': 'fe_03_05876.sph',\n",
       "  'channel': 1,\n",
       "  'type': 'NIST_1A'},\n",
       " {'utterance_id': 'fe_03_05876-A-0077',\n",
       "  'start': 3379280,\n",
       "  'end': 3397520,\n",
       "  'duration': 18240,\n",
       "  'audio_fn': 'fe_03_05876.sph',\n",
       "  'channel': 1,\n",
       "  'type': 'NIST_1A'},\n",
       " {'utterance_id': 'fe_03_05876-A-0078',\n",
       "  'start': 3397680,\n",
       "  'end': 3418320,\n",
       "  'duration': 20640,\n",
       "  'audio_fn': 'fe_03_05876.sph',\n",
       "  'channel': 1,\n",
       "  'type': 'NIST_1A'},\n",
       " {'utterance_id': 'fe_03_05876-A-0079',\n",
       "  'start': 3463200,\n",
       "  'end': 3470160,\n",
       "  'duration': 6960,\n",
       "  'audio_fn': 'fe_03_05876.sph',\n",
       "  'channel': 1,\n",
       "  'type': 'NIST_1A'},\n",
       " {'utterance_id': 'fe_03_05876-A-0080',\n",
       "  'start': 3490400,\n",
       "  'end': 3502080,\n",
       "  'duration': 11680,\n",
       "  'audio_fn': 'fe_03_05876.sph',\n",
       "  'channel': 1,\n",
       "  'type': 'NIST_1A'},\n",
       " {'utterance_id': 'fe_03_05876-A-0081',\n",
       "  'start': 3597680,\n",
       "  'end': 3679440,\n",
       "  'duration': 81760,\n",
       "  'audio_fn': 'fe_03_05876.sph',\n",
       "  'channel': 1,\n",
       "  'type': 'NIST_1A'},\n",
       " {'utterance_id': 'fe_03_05876-A-0082',\n",
       "  'start': 3687360,\n",
       "  'end': 3698000,\n",
       "  'duration': 10640,\n",
       "  'audio_fn': 'fe_03_05876.sph',\n",
       "  'channel': 1,\n",
       "  'type': 'NIST_1A'},\n",
       " {'utterance_id': 'fe_03_05876-A-0083',\n",
       "  'start': 3699520,\n",
       "  'end': 3744880,\n",
       "  'duration': 45360,\n",
       "  'audio_fn': 'fe_03_05876.sph',\n",
       "  'channel': 1,\n",
       "  'type': 'NIST_1A'},\n",
       " {'utterance_id': 'fe_03_05876-A-0084',\n",
       "  'start': 3746400,\n",
       "  'end': 3789760,\n",
       "  'duration': 43360,\n",
       "  'audio_fn': 'fe_03_05876.sph',\n",
       "  'channel': 1,\n",
       "  'type': 'NIST_1A'},\n",
       " {'utterance_id': 'fe_03_05876-A-0085',\n",
       "  'start': 3790880,\n",
       "  'end': 3831200,\n",
       "  'duration': 40320,\n",
       "  'audio_fn': 'fe_03_05876.sph',\n",
       "  'channel': 1,\n",
       "  'type': 'NIST_1A'},\n",
       " {'utterance_id': 'fe_03_05876-A-0086',\n",
       "  'start': 3832480,\n",
       "  'end': 3848080,\n",
       "  'duration': 15600,\n",
       "  'audio_fn': 'fe_03_05876.sph',\n",
       "  'channel': 1,\n",
       "  'type': 'NIST_1A'},\n",
       " {'utterance_id': 'fe_03_05876-A-0087',\n",
       "  'start': 3854960,\n",
       "  'end': 3909280,\n",
       "  'duration': 54320,\n",
       "  'audio_fn': 'fe_03_05876.sph',\n",
       "  'channel': 1,\n",
       "  'type': 'NIST_1A'},\n",
       " {'utterance_id': 'fe_03_05876-A-0089',\n",
       "  'start': 3957200,\n",
       "  'end': 3965280,\n",
       "  'duration': 8080,\n",
       "  'audio_fn': 'fe_03_05876.sph',\n",
       "  'channel': 1,\n",
       "  'type': 'NIST_1A'},\n",
       " {'utterance_id': 'fe_03_05876-A-0091',\n",
       "  'start': 4065440,\n",
       "  'end': 4073360,\n",
       "  'duration': 7920,\n",
       "  'audio_fn': 'fe_03_05876.sph',\n",
       "  'channel': 1,\n",
       "  'type': 'NIST_1A'},\n",
       " {'utterance_id': 'fe_03_05876-A-0092',\n",
       "  'start': 4090960,\n",
       "  'end': 4100720,\n",
       "  'duration': 9760,\n",
       "  'audio_fn': 'fe_03_05876.sph',\n",
       "  'channel': 1,\n",
       "  'type': 'NIST_1A'},\n",
       " {'utterance_id': 'fe_03_05876-A-0093',\n",
       "  'start': 4125520,\n",
       "  'end': 4166960,\n",
       "  'duration': 41440,\n",
       "  'audio_fn': 'fe_03_05876.sph',\n",
       "  'channel': 1,\n",
       "  'type': 'NIST_1A'},\n",
       " {'utterance_id': 'fe_03_05876-A-0094',\n",
       "  'start': 4171360,\n",
       "  'end': 4225520,\n",
       "  'duration': 54160,\n",
       "  'audio_fn': 'fe_03_05876.sph',\n",
       "  'channel': 1,\n",
       "  'type': 'NIST_1A'},\n",
       " {'utterance_id': 'fe_03_05876-A-0095',\n",
       "  'start': 4227360,\n",
       "  'end': 4346880,\n",
       "  'duration': 119520,\n",
       "  'audio_fn': 'fe_03_05876.sph',\n",
       "  'channel': 1,\n",
       "  'type': 'NIST_1A'},\n",
       " {'utterance_id': 'fe_03_05876-A-0096',\n",
       "  'start': 4349440,\n",
       "  'end': 4361040,\n",
       "  'duration': 11600,\n",
       "  'audio_fn': 'fe_03_05876.sph',\n",
       "  'channel': 1,\n",
       "  'type': 'NIST_1A'},\n",
       " {'utterance_id': 'fe_03_05876-A-0097',\n",
       "  'start': 4365040,\n",
       "  'end': 4375600,\n",
       "  'duration': 10560,\n",
       "  'audio_fn': 'fe_03_05876.sph',\n",
       "  'channel': 1,\n",
       "  'type': 'NIST_1A'},\n",
       " {'utterance_id': 'fe_03_05876-A-0098',\n",
       "  'start': 4387040,\n",
       "  'end': 4426320,\n",
       "  'duration': 39280,\n",
       "  'audio_fn': 'fe_03_05876.sph',\n",
       "  'channel': 1,\n",
       "  'type': 'NIST_1A'},\n",
       " {'utterance_id': 'fe_03_05876-A-0099',\n",
       "  'start': 4431840,\n",
       "  'end': 4456800,\n",
       "  'duration': 24960,\n",
       "  'audio_fn': 'fe_03_05876.sph',\n",
       "  'channel': 1,\n",
       "  'type': 'NIST_1A'},\n",
       " {'utterance_id': 'fe_03_05876-A-0100',\n",
       "  'start': 4461600,\n",
       "  'end': 4532800,\n",
       "  'duration': 71200,\n",
       "  'audio_fn': 'fe_03_05876.sph',\n",
       "  'channel': 1,\n",
       "  'type': 'NIST_1A'},\n",
       " {'utterance_id': 'fe_03_05876-A-0101',\n",
       "  'start': 4533120,\n",
       "  'end': 4608160,\n",
       "  'duration': 75040,\n",
       "  'audio_fn': 'fe_03_05876.sph',\n",
       "  'channel': 1,\n",
       "  'type': 'NIST_1A'},\n",
       " {'utterance_id': 'fe_03_05876-A-0102',\n",
       "  'start': 4664720,\n",
       "  'end': 4672160,\n",
       "  'duration': 7440,\n",
       "  'audio_fn': 'fe_03_05876.sph',\n",
       "  'channel': 1,\n",
       "  'type': 'NIST_1A'},\n",
       " {'utterance_id': 'fe_03_05876-A-0103',\n",
       "  'start': 4677200,\n",
       "  'end': 4700240,\n",
       "  'duration': 23040,\n",
       "  'audio_fn': 'fe_03_05876.sph',\n",
       "  'channel': 1,\n",
       "  'type': 'NIST_1A'},\n",
       " {'utterance_id': 'fe_03_05876-A-0104',\n",
       "  'start': 4752560,\n",
       "  'end': 4759840,\n",
       "  'duration': 7280,\n",
       "  'audio_fn': 'fe_03_05876.sph',\n",
       "  'channel': 1,\n",
       "  'type': 'NIST_1A'},\n",
       " {'utterance_id': 'fe_03_05876-A-0105',\n",
       "  'start': 4767040,\n",
       "  'end': 4799120,\n",
       "  'duration': 32080,\n",
       "  'audio_fn': 'fe_03_05876.sph',\n",
       "  'channel': 1,\n",
       "  'type': 'NIST_1A'},\n",
       " {'utterance_id': 'fe_03_05876-B-0001',\n",
       "  'start': 560,\n",
       "  'end': 10240,\n",
       "  'duration': 9680,\n",
       "  'audio_fn': 'fe_03_05876.sph',\n",
       "  'channel': 2,\n",
       "  'type': 'NIST_1A'},\n",
       " {'utterance_id': 'fe_03_05876-B-0002',\n",
       "  'start': 30080,\n",
       "  'end': 42240,\n",
       "  'duration': 12160,\n",
       "  'audio_fn': 'fe_03_05876.sph',\n",
       "  'channel': 2,\n",
       "  'type': 'NIST_1A'},\n",
       " {'utterance_id': 'fe_03_05876-B-0003',\n",
       "  'start': 45520,\n",
       "  'end': 56800,\n",
       "  'duration': 11280,\n",
       "  'audio_fn': 'fe_03_05876.sph',\n",
       "  'channel': 2,\n",
       "  'type': 'NIST_1A'},\n",
       " {'utterance_id': 'fe_03_05876-B-0004',\n",
       "  'start': 77920,\n",
       "  'end': 95360,\n",
       "  'duration': 17440,\n",
       "  'audio_fn': 'fe_03_05876.sph',\n",
       "  'channel': 2,\n",
       "  'type': 'NIST_1A'},\n",
       " {'utterance_id': 'fe_03_05876-B-0005',\n",
       "  'start': 125440,\n",
       "  'end': 180880,\n",
       "  'duration': 55440,\n",
       "  'audio_fn': 'fe_03_05876.sph',\n",
       "  'channel': 2,\n",
       "  'type': 'NIST_1A'},\n",
       " {'utterance_id': 'fe_03_05876-B-0006',\n",
       "  'start': 359360,\n",
       "  'end': 366480,\n",
       "  'duration': 7120,\n",
       "  'audio_fn': 'fe_03_05876.sph',\n",
       "  'channel': 2,\n",
       "  'type': 'NIST_1A'},\n",
       " {'utterance_id': 'fe_03_05876-B-0007',\n",
       "  'start': 389760,\n",
       "  'end': 508880,\n",
       "  'duration': 119120,\n",
       "  'audio_fn': 'fe_03_05876.sph',\n",
       "  'channel': 2,\n",
       "  'type': 'NIST_1A'},\n",
       " {'utterance_id': 'fe_03_05876-B-0008',\n",
       "  'start': 509600,\n",
       "  'end': 598080,\n",
       "  'duration': 88480,\n",
       "  'audio_fn': 'fe_03_05876.sph',\n",
       "  'channel': 2,\n",
       "  'type': 'NIST_1A'},\n",
       " {'utterance_id': 'fe_03_05876-B-0009',\n",
       "  'start': 599600,\n",
       "  'end': 686960,\n",
       "  'duration': 87360,\n",
       "  'audio_fn': 'fe_03_05876.sph',\n",
       "  'channel': 2,\n",
       "  'type': 'NIST_1A'},\n",
       " {'utterance_id': 'fe_03_05876-B-0010',\n",
       "  'start': 702000,\n",
       "  'end': 712000,\n",
       "  'duration': 10000,\n",
       "  'audio_fn': 'fe_03_05876.sph',\n",
       "  'channel': 2,\n",
       "  'type': 'NIST_1A'},\n",
       " {'utterance_id': 'fe_03_05876-B-0011',\n",
       "  'start': 765280,\n",
       "  'end': 772800,\n",
       "  'duration': 7520,\n",
       "  'audio_fn': 'fe_03_05876.sph',\n",
       "  'channel': 2,\n",
       "  'type': 'NIST_1A'},\n",
       " {'utterance_id': 'fe_03_05876-B-0012',\n",
       "  'start': 773040,\n",
       "  'end': 837040,\n",
       "  'duration': 64000,\n",
       "  'audio_fn': 'fe_03_05876.sph',\n",
       "  'channel': 2,\n",
       "  'type': 'NIST_1A'},\n",
       " {'utterance_id': 'fe_03_05876-B-0013',\n",
       "  'start': 892480,\n",
       "  'end': 899600,\n",
       "  'duration': 7120,\n",
       "  'audio_fn': 'fe_03_05876.sph',\n",
       "  'channel': 2,\n",
       "  'type': 'NIST_1A'},\n",
       " {'utterance_id': 'fe_03_05876-B-0014',\n",
       "  'start': 943280,\n",
       "  'end': 950720,\n",
       "  'duration': 7440,\n",
       "  'audio_fn': 'fe_03_05876.sph',\n",
       "  'channel': 2,\n",
       "  'type': 'NIST_1A'},\n",
       " {'utterance_id': 'fe_03_05876-B-0015',\n",
       "  'start': 1026640,\n",
       "  'end': 1042160,\n",
       "  'duration': 15520,\n",
       "  'audio_fn': 'fe_03_05876.sph',\n",
       "  'channel': 2,\n",
       "  'type': 'NIST_1A'},\n",
       " {'utterance_id': 'fe_03_05876-B-0016',\n",
       "  'start': 1091440,\n",
       "  'end': 1126400,\n",
       "  'duration': 34960,\n",
       "  'audio_fn': 'fe_03_05876.sph',\n",
       "  'channel': 2,\n",
       "  'type': 'NIST_1A'},\n",
       " {'utterance_id': 'fe_03_05876-B-0017',\n",
       "  'start': 1130160,\n",
       "  'end': 1139360,\n",
       "  'duration': 9200,\n",
       "  'audio_fn': 'fe_03_05876.sph',\n",
       "  'channel': 2,\n",
       "  'type': 'NIST_1A'},\n",
       " {'utterance_id': 'fe_03_05876-B-0019',\n",
       "  'start': 1285440,\n",
       "  'end': 1293120,\n",
       "  'duration': 7680,\n",
       "  'audio_fn': 'fe_03_05876.sph',\n",
       "  'channel': 2,\n",
       "  'type': 'NIST_1A'},\n",
       " {'utterance_id': 'fe_03_05876-B-0020',\n",
       "  'start': 1374480,\n",
       "  'end': 1483280,\n",
       "  'duration': 108800,\n",
       "  'audio_fn': 'fe_03_05876.sph',\n",
       "  'channel': 2,\n",
       "  'type': 'NIST_1A'},\n",
       " {'utterance_id': 'fe_03_05876-B-0021',\n",
       "  'start': 1485680,\n",
       "  'end': 1534560,\n",
       "  'duration': 48880,\n",
       "  'audio_fn': 'fe_03_05876.sph',\n",
       "  'channel': 2,\n",
       "  'type': 'NIST_1A'},\n",
       " {'utterance_id': 'fe_03_05876-B-0023',\n",
       "  'start': 1571520,\n",
       "  'end': 1687760,\n",
       "  'duration': 116240,\n",
       "  'audio_fn': 'fe_03_05876.sph',\n",
       "  'channel': 2,\n",
       "  'type': 'NIST_1A'},\n",
       " {'utterance_id': 'fe_03_05876-B-0024',\n",
       "  'start': 1691120,\n",
       "  'end': 1736400,\n",
       "  'duration': 45280,\n",
       "  'audio_fn': 'fe_03_05876.sph',\n",
       "  'channel': 2,\n",
       "  'type': 'NIST_1A'},\n",
       " {'utterance_id': 'fe_03_05876-B-0025',\n",
       "  'start': 1743440,\n",
       "  'end': 1812160,\n",
       "  'duration': 68720,\n",
       "  'audio_fn': 'fe_03_05876.sph',\n",
       "  'channel': 2,\n",
       "  'type': 'NIST_1A'},\n",
       " {'utterance_id': 'fe_03_05876-B-0027',\n",
       "  'start': 1858640,\n",
       "  'end': 1885760,\n",
       "  'duration': 27120,\n",
       "  'audio_fn': 'fe_03_05876.sph',\n",
       "  'channel': 2,\n",
       "  'type': 'NIST_1A'},\n",
       " {'utterance_id': 'fe_03_05876-B-0028',\n",
       "  'start': 2008720,\n",
       "  'end': 2015920,\n",
       "  'duration': 7200,\n",
       "  'audio_fn': 'fe_03_05876.sph',\n",
       "  'channel': 2,\n",
       "  'type': 'NIST_1A'},\n",
       " {'utterance_id': 'fe_03_05876-B-0029',\n",
       "  'start': 2108800,\n",
       "  'end': 2216000,\n",
       "  'duration': 107200,\n",
       "  'audio_fn': 'fe_03_05876.sph',\n",
       "  'channel': 2,\n",
       "  'type': 'NIST_1A'},\n",
       " {'utterance_id': 'fe_03_05876-B-0030',\n",
       "  'start': 2222000,\n",
       "  'end': 2230720,\n",
       "  'duration': 8720,\n",
       "  'audio_fn': 'fe_03_05876.sph',\n",
       "  'channel': 2,\n",
       "  'type': 'NIST_1A'},\n",
       " {'utterance_id': 'fe_03_05876-B-0031',\n",
       "  'start': 2250080,\n",
       "  'end': 2259440,\n",
       "  'duration': 9360,\n",
       "  'audio_fn': 'fe_03_05876.sph',\n",
       "  'channel': 2,\n",
       "  'type': 'NIST_1A'},\n",
       " {'utterance_id': 'fe_03_05876-B-0032',\n",
       "  'start': 2267040,\n",
       "  'end': 2360160,\n",
       "  'duration': 93120,\n",
       "  'audio_fn': 'fe_03_05876.sph',\n",
       "  'channel': 2,\n",
       "  'type': 'NIST_1A'},\n",
       " {'utterance_id': 'fe_03_05876-B-0033',\n",
       "  'start': 2369840,\n",
       "  'end': 2385680,\n",
       "  'duration': 15840,\n",
       "  'audio_fn': 'fe_03_05876.sph',\n",
       "  'channel': 2,\n",
       "  'type': 'NIST_1A'},\n",
       " {'utterance_id': 'fe_03_05876-B-0034',\n",
       "  'start': 2388480,\n",
       "  'end': 2398320,\n",
       "  'duration': 9840,\n",
       "  'audio_fn': 'fe_03_05876.sph',\n",
       "  'channel': 2,\n",
       "  'type': 'NIST_1A'},\n",
       " {'utterance_id': 'fe_03_05876-B-0035',\n",
       "  'start': 2406560,\n",
       "  'end': 2431600,\n",
       "  'duration': 25040,\n",
       "  'audio_fn': 'fe_03_05876.sph',\n",
       "  'channel': 2,\n",
       "  'type': 'NIST_1A'},\n",
       " {'utterance_id': 'fe_03_05876-B-0036',\n",
       "  'start': 2443360,\n",
       "  'end': 2476480,\n",
       "  'duration': 33120,\n",
       "  'audio_fn': 'fe_03_05876.sph',\n",
       "  'channel': 2,\n",
       "  'type': 'NIST_1A'},\n",
       " {'utterance_id': 'fe_03_05876-B-0037',\n",
       "  'start': 2480960,\n",
       "  'end': 2491200,\n",
       "  'duration': 10240,\n",
       "  'audio_fn': 'fe_03_05876.sph',\n",
       "  'channel': 2,\n",
       "  'type': 'NIST_1A'},\n",
       " {'utterance_id': 'fe_03_05876-B-0040',\n",
       "  'start': 2616640,\n",
       "  'end': 2622800,\n",
       "  'duration': 6160,\n",
       "  'audio_fn': 'fe_03_05876.sph',\n",
       "  'channel': 2,\n",
       "  'type': 'NIST_1A'},\n",
       " {'utterance_id': 'fe_03_05876-B-0041',\n",
       "  'start': 2623920,\n",
       "  'end': 2648160,\n",
       "  'duration': 24240,\n",
       "  'audio_fn': 'fe_03_05876.sph',\n",
       "  'channel': 2,\n",
       "  'type': 'NIST_1A'},\n",
       " {'utterance_id': 'fe_03_05876-B-0042',\n",
       "  'start': 2649040,\n",
       "  'end': 2679520,\n",
       "  'duration': 30480,\n",
       "  'audio_fn': 'fe_03_05876.sph',\n",
       "  'channel': 2,\n",
       "  'type': 'NIST_1A'},\n",
       " {'utterance_id': 'fe_03_05876-B-0043',\n",
       "  'start': 2680960,\n",
       "  'end': 2717040,\n",
       "  'duration': 36080,\n",
       "  'audio_fn': 'fe_03_05876.sph',\n",
       "  'channel': 2,\n",
       "  'type': 'NIST_1A'},\n",
       " {'utterance_id': 'fe_03_05876-B-0044',\n",
       "  'start': 2719200,\n",
       "  'end': 2767520,\n",
       "  'duration': 48320,\n",
       "  'audio_fn': 'fe_03_05876.sph',\n",
       "  'channel': 2,\n",
       "  'type': 'NIST_1A'},\n",
       " {'utterance_id': 'fe_03_05876-B-0046',\n",
       "  'start': 2896560,\n",
       "  'end': 2918320,\n",
       "  'duration': 21760,\n",
       "  'audio_fn': 'fe_03_05876.sph',\n",
       "  'channel': 2,\n",
       "  'type': 'NIST_1A'},\n",
       " {'utterance_id': 'fe_03_05876-B-0047',\n",
       "  'start': 3009920,\n",
       "  'end': 3056720,\n",
       "  'duration': 46800,\n",
       "  'audio_fn': 'fe_03_05876.sph',\n",
       "  'channel': 2,\n",
       "  'type': 'NIST_1A'},\n",
       " {'utterance_id': 'fe_03_05876-B-0048',\n",
       "  'start': 3111360,\n",
       "  'end': 3139840,\n",
       "  'duration': 28480,\n",
       "  'audio_fn': 'fe_03_05876.sph',\n",
       "  'channel': 2,\n",
       "  'type': 'NIST_1A'},\n",
       " {'utterance_id': 'fe_03_05876-B-0049',\n",
       "  'start': 3139920,\n",
       "  'end': 3172320,\n",
       "  'duration': 32400,\n",
       "  'audio_fn': 'fe_03_05876.sph',\n",
       "  'channel': 2,\n",
       "  'type': 'NIST_1A'},\n",
       " {'utterance_id': 'fe_03_05876-B-0050',\n",
       "  'start': 3173920,\n",
       "  'end': 3189920,\n",
       "  'duration': 16000,\n",
       "  'audio_fn': 'fe_03_05876.sph',\n",
       "  'channel': 2,\n",
       "  'type': 'NIST_1A'},\n",
       " {'utterance_id': 'fe_03_05876-B-0051',\n",
       "  'start': 3191520,\n",
       "  'end': 3217840,\n",
       "  'duration': 26320,\n",
       "  'audio_fn': 'fe_03_05876.sph',\n",
       "  'channel': 2,\n",
       "  'type': 'NIST_1A'},\n",
       " {'utterance_id': 'fe_03_05876-B-0052',\n",
       "  'start': 3293440,\n",
       "  'end': 3353280,\n",
       "  'duration': 59840,\n",
       "  'audio_fn': 'fe_03_05876.sph',\n",
       "  'channel': 2,\n",
       "  'type': 'NIST_1A'},\n",
       " {'utterance_id': 'fe_03_05876-B-0053',\n",
       "  'start': 3380560,\n",
       "  'end': 3387040,\n",
       "  'duration': 6480,\n",
       "  'audio_fn': 'fe_03_05876.sph',\n",
       "  'channel': 2,\n",
       "  'type': 'NIST_1A'},\n",
       " {'utterance_id': 'fe_03_05876-B-0054',\n",
       "  'start': 3416160,\n",
       "  'end': 3481920,\n",
       "  'duration': 65760,\n",
       "  'audio_fn': 'fe_03_05876.sph',\n",
       "  'channel': 2,\n",
       "  'type': 'NIST_1A'},\n",
       " {'utterance_id': 'fe_03_05876-B-0055',\n",
       "  'start': 3489200,\n",
       "  'end': 3574400,\n",
       "  'duration': 85200,\n",
       "  'audio_fn': 'fe_03_05876.sph',\n",
       "  'channel': 2,\n",
       "  'type': 'NIST_1A'},\n",
       " {'utterance_id': 'fe_03_05876-B-0056',\n",
       "  'start': 3574800,\n",
       "  'end': 3596080,\n",
       "  'duration': 21280,\n",
       "  'audio_fn': 'fe_03_05876.sph',\n",
       "  'channel': 2,\n",
       "  'type': 'NIST_1A'},\n",
       " {'utterance_id': 'fe_03_05876-B-0057',\n",
       "  'start': 3666640,\n",
       "  'end': 3674640,\n",
       "  'duration': 8000,\n",
       "  'audio_fn': 'fe_03_05876.sph',\n",
       "  'channel': 2,\n",
       "  'type': 'NIST_1A'},\n",
       " {'utterance_id': 'fe_03_05876-B-0058',\n",
       "  'start': 3727680,\n",
       "  'end': 3734240,\n",
       "  'duration': 6560,\n",
       "  'audio_fn': 'fe_03_05876.sph',\n",
       "  'channel': 2,\n",
       "  'type': 'NIST_1A'},\n",
       " {'utterance_id': 'fe_03_05876-B-0059',\n",
       "  'start': 3825840,\n",
       "  'end': 3833440,\n",
       "  'duration': 7600,\n",
       "  'audio_fn': 'fe_03_05876.sph',\n",
       "  'channel': 2,\n",
       "  'type': 'NIST_1A'},\n",
       " {'utterance_id': 'fe_03_05876-B-0060',\n",
       "  'start': 3850480,\n",
       "  'end': 3866560,\n",
       "  'duration': 16080,\n",
       "  'audio_fn': 'fe_03_05876.sph',\n",
       "  'channel': 2,\n",
       "  'type': 'NIST_1A'},\n",
       " {'utterance_id': 'fe_03_05876-B-0061',\n",
       "  'start': 3914880,\n",
       "  'end': 4015840,\n",
       "  'duration': 100960,\n",
       "  'audio_fn': 'fe_03_05876.sph',\n",
       "  'channel': 2,\n",
       "  'type': 'NIST_1A'},\n",
       " {'utterance_id': 'fe_03_05876-B-0062',\n",
       "  'start': 4017520,\n",
       "  'end': 4125840,\n",
       "  'duration': 108320,\n",
       "  'audio_fn': 'fe_03_05876.sph',\n",
       "  'channel': 2,\n",
       "  'type': 'NIST_1A'},\n",
       " {'utterance_id': 'fe_03_05876-B-0063',\n",
       "  'start': 4135440,\n",
       "  'end': 4143600,\n",
       "  'duration': 8160,\n",
       "  'audio_fn': 'fe_03_05876.sph',\n",
       "  'channel': 2,\n",
       "  'type': 'NIST_1A'},\n",
       " {'utterance_id': 'fe_03_05876-B-0064',\n",
       "  'start': 4152880,\n",
       "  'end': 4176080,\n",
       "  'duration': 23200,\n",
       "  'audio_fn': 'fe_03_05876.sph',\n",
       "  'channel': 2,\n",
       "  'type': 'NIST_1A'},\n",
       " {'utterance_id': 'fe_03_05876-B-0066',\n",
       "  'start': 4374000,\n",
       "  'end': 4381120,\n",
       "  'duration': 7120,\n",
       "  'audio_fn': 'fe_03_05876.sph',\n",
       "  'channel': 2,\n",
       "  'type': 'NIST_1A'},\n",
       " {'utterance_id': 'fe_03_05876-B-0067',\n",
       "  'start': 4426320,\n",
       "  'end': 4439520,\n",
       "  'duration': 13200,\n",
       "  'audio_fn': 'fe_03_05876.sph',\n",
       "  'channel': 2,\n",
       "  'type': 'NIST_1A'},\n",
       " {'utterance_id': 'fe_03_05876-B-0068',\n",
       "  'start': 4460080,\n",
       "  'end': 4468880,\n",
       "  'duration': 8800,\n",
       "  'audio_fn': 'fe_03_05876.sph',\n",
       "  'channel': 2,\n",
       "  'type': 'NIST_1A'},\n",
       " {'utterance_id': 'fe_03_05876-B-0070',\n",
       "  'start': 4518240,\n",
       "  'end': 4527680,\n",
       "  'duration': 9440,\n",
       "  'audio_fn': 'fe_03_05876.sph',\n",
       "  'channel': 2,\n",
       "  'type': 'NIST_1A'},\n",
       " {'utterance_id': 'fe_03_05876-B-0071',\n",
       "  'start': 4605440,\n",
       "  'end': 4627920,\n",
       "  'duration': 22480,\n",
       "  'audio_fn': 'fe_03_05876.sph',\n",
       "  'channel': 2,\n",
       "  'type': 'NIST_1A'},\n",
       " {'utterance_id': 'fe_03_05876-B-0072',\n",
       "  'start': 4629280,\n",
       "  'end': 4685680,\n",
       "  'duration': 56400,\n",
       "  'audio_fn': 'fe_03_05876.sph',\n",
       "  'channel': 2,\n",
       "  'type': 'NIST_1A'},\n",
       " {'utterance_id': 'fe_03_05876-B-0073',\n",
       "  'start': 4685680,\n",
       "  'end': 4755040,\n",
       "  'duration': 69360,\n",
       "  'audio_fn': 'fe_03_05876.sph',\n",
       "  'channel': 2,\n",
       "  'type': 'NIST_1A'},\n",
       " {'utterance_id': 'fe_03_05876-B-0074',\n",
       "  'start': 4757440,\n",
       "  'end': 4771920,\n",
       "  'duration': 14480,\n",
       "  'audio_fn': 'fe_03_05876.sph',\n",
       "  'channel': 2,\n",
       "  'type': 'NIST_1A'},\n",
       " {'utterance_id': 'fe_03_05876-B-0075',\n",
       "  'start': 4775840,\n",
       "  'end': 4785840,\n",
       "  'duration': 10000,\n",
       "  'audio_fn': 'fe_03_05876.sph',\n",
       "  'channel': 2,\n",
       "  'type': 'NIST_1A'}]"
      ]
     },
     "execution_count": 138,
     "metadata": {},
     "output_type": "execute_result"
    }
   ],
   "source": [
    "parse_ana_file_bbn('./auto-segmented/fe_03_05876.ana')"
   ]
  },
  {
   "cell_type": "markdown",
   "metadata": {},
   "source": [
    "### Creating merged representations of each call"
   ]
  },
  {
   "cell_type": "code",
   "execution_count": 139,
   "metadata": {
    "ExecuteTime": {
     "end_time": "2019-09-05T05:24:01.766399Z",
     "start_time": "2019-09-05T05:24:01.764117Z"
    }
   },
   "outputs": [],
   "source": [
    "#create merged representation of conversation from auto-segmented and rejected .trn and .ana files, sort utterances by utterance ID"
   ]
  },
  {
   "cell_type": "code",
   "execution_count": 140,
   "metadata": {
    "ExecuteTime": {
     "end_time": "2019-09-05T05:24:01.772087Z",
     "start_time": "2019-09-05T05:24:01.767651Z"
    }
   },
   "outputs": [
    {
     "data": {
      "text/plain": [
       "{'call_id': '05863',\n",
       " 'trn_fn': 'fe_03_05863.trn',\n",
       " 'ana_fn': 'fe_03_05863.ana',\n",
       " 'auto-segmented_trn_location': '/mnt/truffle/corpora/fisher_english_transcripts/fe_03_p2_tran/data/bbn_orig/058/auto-segmented/fe_03_05863.trn',\n",
       " 'rejected_trn_location': '/mnt/truffle/corpora/fisher_english_transcripts/fe_03_p2_tran/data/bbn_orig/058/rejected/fe_03_05863.trn',\n",
       " 'auto-segmented_ana_location': '/mnt/truffle/corpora/fisher_english_transcripts/fe_03_p2_tran/data/bbn_orig/058/auto-segmented/fe_03_05863.ana',\n",
       " 'rejected_ana_location': '/mnt/truffle/corpora/fisher_english_transcripts/fe_03_p2_tran/data/bbn_orig/058/rejected/fe_03_05863.ana'}"
      ]
     },
     "execution_count": 140,
     "metadata": {},
     "output_type": "execute_result"
    }
   ],
   "source": [
    "bbn_call_relation[0]"
   ]
  },
  {
   "cell_type": "code",
   "execution_count": 141,
   "metadata": {
    "ExecuteTime": {
     "end_time": "2019-09-05T05:24:01.785854Z",
     "start_time": "2019-09-05T05:24:01.773585Z"
    }
   },
   "outputs": [],
   "source": [
    "def get_transcriptions_bbn(call_id):\n",
    "    call_relation_matches = [c for c in bbn_call_relation if c['call_id'] == call_id]\n",
    "    assert len(call_relation_matches) == 1, 'call id {0} does not have exactly 1 match, but rather {1}'.format(call_id, call_relation_matches)\n",
    "    call_rel = call_relation_matches[0]\n",
    "    \n",
    "    as_trn = parse_trn_file_bbn(call_rel['auto-segmented_trn_location'])\n",
    "    r_trn = parse_trn_file_bbn(call_rel['rejected_trn_location'])\n",
    "    merged_trn = sorted(as_trn + r_trn, key=lambda t_rel: t_rel['utterance_id'])\n",
    "    \n",
    "    as_ana = parse_ana_file_bbn(call_rel['auto-segmented_ana_location'])\n",
    "    r_ana = parse_ana_file_bbn(call_rel['rejected_ana_location'])\n",
    "    merged_ana = sorted(as_ana + r_ana, key=lambda ana_rel: ana_rel['utterance_id'])\n",
    "    \n",
    "    assert len(merged_trn) == len(merged_ana), 'merged trn and merged ana utterance sequences differ in length: {0} vs. {1}'.format(len(merged_trn), len(merged_ana))\n",
    "    \n",
    "    utterance_ids = [t_rel['utterance_id'] for t_rel in merged_trn]\n",
    "    merged_rels = []\n",
    "    for u_id in utterance_ids:\n",
    "        matching_trns = [trn_rel for trn_rel in merged_trn if trn_rel['utterance_id'] == u_id]\n",
    "        assert len(matching_trns) == 1, 'Utterance id {0} does not have exactly one matching trn relation, instead has {1}'.format(u_id, matching_trns)\n",
    "        trn_rel = matching_trns[0]\n",
    "        \n",
    "        matching_anas = [ana_rel for ana_rel in merged_ana if ana_rel['utterance_id'] == u_id]\n",
    "        assert len(matching_anas) == 1, 'Utterance id {0} does not have exactly one matching ana relation, instead has {1}'.format(u_id, matching_anas)\n",
    "        ana_rel = matching_anas[0]\n",
    "        \n",
    "        merged_rel = dictionary_product(trn_rel, ana_rel)\n",
    "        merged_rels.append(merged_rel)\n",
    "    \n",
    "    return merged_rels"
   ]
  },
  {
   "cell_type": "code",
   "execution_count": 142,
   "metadata": {
    "ExecuteTime": {
     "end_time": "2019-09-05T05:24:01.853713Z",
     "start_time": "2019-09-05T05:24:01.787630Z"
    }
   },
   "outputs": [
    {
     "data": {
      "text/plain": [
       "[{'speech_raw': 'HI [LAUGHTER]',\n",
       "  'n_words': 1,\n",
       "  'call_id': '05863',\n",
       "  'utterance_id': 'fe_03_05863-A-0001',\n",
       "  'speech': 'hi',\n",
       "  'has_words': True,\n",
       "  'speaker': 'A',\n",
       "  'audio_fn': 'fe_03_05863.sph',\n",
       "  'duration': 10960,\n",
       "  'type': 'NIST_1A',\n",
       "  'start': 1360,\n",
       "  'end': 12320,\n",
       "  'channel': 1},\n",
       " {'speech_raw': 'HI MY NAME IS ZELDA',\n",
       "  'n_words': 5,\n",
       "  'call_id': '05863',\n",
       "  'utterance_id': 'fe_03_05863-A-0002',\n",
       "  'speech': 'hi my name is zelda',\n",
       "  'has_words': True,\n",
       "  'speaker': 'A',\n",
       "  'audio_fn': 'fe_03_05863.sph',\n",
       "  'duration': 14080,\n",
       "  'type': 'NIST_1A',\n",
       "  'start': 32560,\n",
       "  'end': 46640,\n",
       "  'channel': 1},\n",
       " {'speech_raw': 'HI MONIQUE',\n",
       "  'n_words': 2,\n",
       "  'call_id': '05863',\n",
       "  'utterance_id': 'fe_03_05863-A-0003',\n",
       "  'speech': 'hi monique',\n",
       "  'has_words': True,\n",
       "  'speaker': 'A',\n",
       "  'audio_fn': 'fe_03_05863.sph',\n",
       "  'duration': 10000,\n",
       "  'type': 'NIST_1A',\n",
       "  'start': 59760,\n",
       "  'end': 69760,\n",
       "  'channel': 1},\n",
       " {'speech_raw': \"I'M FINE AND YOU\",\n",
       "  'n_words': 4,\n",
       "  'call_id': '05863',\n",
       "  'utterance_id': 'fe_03_05863-A-0004',\n",
       "  'speech': \"i'm fine and you\",\n",
       "  'has_words': True,\n",
       "  'speaker': 'A',\n",
       "  'audio_fn': 'fe_03_05863.sph',\n",
       "  'duration': 11040,\n",
       "  'type': 'NIST_1A',\n",
       "  'start': 77280,\n",
       "  'end': 88320,\n",
       "  'channel': 1},\n",
       " {'speech_raw': 'GOOD',\n",
       "  'n_words': 1,\n",
       "  'call_id': '05863',\n",
       "  'utterance_id': 'fe_03_05863-A-0005',\n",
       "  'speech': 'good',\n",
       "  'has_words': True,\n",
       "  'speaker': 'A',\n",
       "  'audio_fn': 'fe_03_05863.sph',\n",
       "  'duration': 7600,\n",
       "  'type': 'NIST_1A',\n",
       "  'start': 96800,\n",
       "  'end': 104400,\n",
       "  'channel': 1},\n",
       " {'speech_raw': 'OKAY UM',\n",
       "  'n_words': 2,\n",
       "  'call_id': '05863',\n",
       "  'utterance_id': 'fe_03_05863-A-0006',\n",
       "  'speech': 'okay um',\n",
       "  'has_words': True,\n",
       "  'speaker': 'A',\n",
       "  'audio_fn': 'fe_03_05863.sph',\n",
       "  'duration': 14720,\n",
       "  'type': 'NIST_1A',\n",
       "  'start': 128560,\n",
       "  'end': 143280,\n",
       "  'channel': 1},\n",
       " {'speech_raw': 'I WOULD NOT DO IT',\n",
       "  'n_words': 5,\n",
       "  'call_id': '05863',\n",
       "  'utterance_id': 'fe_03_05863-A-0007',\n",
       "  'speech': 'i would not do it',\n",
       "  'has_words': True,\n",
       "  'speaker': 'A',\n",
       "  'audio_fn': 'fe_03_05863.sph',\n",
       "  'duration': 12560,\n",
       "  'type': 'NIST_1A',\n",
       "  'start': 146880,\n",
       "  'end': 159440,\n",
       "  'channel': 1},\n",
       " {'speech_raw': \"[NOISE] RIGHT I WOULDN'T UM DO YOU KID- ESP- UH TODAY I MEAN\",\n",
       "  'n_words': 12,\n",
       "  'call_id': '05863',\n",
       "  'utterance_id': 'fe_03_05863-A-0008',\n",
       "  'speech': \"right i wouldn't um do you <rem> <rem> uh today i mean\",\n",
       "  'has_words': True,\n",
       "  'speaker': 'A',\n",
       "  'audio_fn': 'fe_03_05863.sph',\n",
       "  'duration': 46880,\n",
       "  'type': 'NIST_1A',\n",
       "  'start': 209840,\n",
       "  'end': 256720,\n",
       "  'channel': 1},\n",
       " {'speech_raw': \"PEOPLE LOOK AT MONEY MONEY IS EVERYTHING IT'S LIKE THEY THINK THAT MONEY'S GOING TO RESOLVE ALL THEIR PROBLEMS AND A MILLION DOLLARS TODAY IS NOT A LOT OF MONEY AND I WOULD AND THAT'S A BETRAYAL TO ME [NOISE]\",\n",
       "  'n_words': 39,\n",
       "  'call_id': '05863',\n",
       "  'utterance_id': 'fe_03_05863-A-0009',\n",
       "  'speech': \"people look at money money is everything it's like they think that money's going to resolve all their problems and a million dollars today is not a lot of money and i would and that's a betrayal to me\",\n",
       "  'has_words': True,\n",
       "  'speaker': 'A',\n",
       "  'audio_fn': 'fe_03_05863.sph',\n",
       "  'duration': 90240,\n",
       "  'type': 'NIST_1A',\n",
       "  'start': 258320,\n",
       "  'end': 348560,\n",
       "  'channel': 1},\n",
       " {'speech_raw': 'RIGHT RIGHT',\n",
       "  'n_words': 2,\n",
       "  'call_id': '05863',\n",
       "  'utterance_id': 'fe_03_05863-A-0010',\n",
       "  'speech': 'right right',\n",
       "  'has_words': True,\n",
       "  'speaker': 'A',\n",
       "  'audio_fn': 'fe_03_05863.sph',\n",
       "  'duration': 14480,\n",
       "  'type': 'NIST_1A',\n",
       "  'start': 409840,\n",
       "  'end': 424320,\n",
       "  'channel': 1},\n",
       " {'speech_raw': 'NO',\n",
       "  'n_words': 1,\n",
       "  'call_id': '05863',\n",
       "  'utterance_id': 'fe_03_05863-A-0011',\n",
       "  'speech': 'no',\n",
       "  'has_words': True,\n",
       "  'speaker': 'A',\n",
       "  'audio_fn': 'fe_03_05863.sph',\n",
       "  'duration': 6560,\n",
       "  'type': 'NIST_1A',\n",
       "  'start': 443680,\n",
       "  'end': 450240,\n",
       "  'channel': 1},\n",
       " {'speech_raw': 'I THINK HUMAN BEINGS ARE PR- UM [LIPSMACK] FRIENDSHIP RELAT- RELATIONSHIPS WITH PEOPLE ARE A LOT MORE IMPORTANT THAN MONEY',\n",
       "  'n_words': 19,\n",
       "  'call_id': '05863',\n",
       "  'utterance_id': 'fe_03_05863-A-0012',\n",
       "  'speech': 'i think human beings are <rem> um friendship <rem> relationships with people are a lot more important than money',\n",
       "  'has_words': True,\n",
       "  'speaker': 'A',\n",
       "  'audio_fn': 'fe_03_05863.sph',\n",
       "  'duration': 63040,\n",
       "  'type': 'NIST_1A',\n",
       "  'start': 454240,\n",
       "  'end': 517280,\n",
       "  'channel': 1},\n",
       " {'speech_raw': \"THEN YOU WEREN'T REALLY THEIR BEST FRIEND EITHER\",\n",
       "  'n_words': 8,\n",
       "  'call_id': '05863',\n",
       "  'utterance_id': 'fe_03_05863-A-0013',\n",
       "  'speech': \"then you weren't really their best friend either\",\n",
       "  'has_words': True,\n",
       "  'speaker': 'A',\n",
       "  'audio_fn': 'fe_03_05863.sph',\n",
       "  'duration': 19200,\n",
       "  'type': 'NIST_1A',\n",
       "  'start': 599680,\n",
       "  'end': 618880,\n",
       "  'channel': 1},\n",
       " {'speech_raw': 'RIGHT RIGHT',\n",
       "  'n_words': 2,\n",
       "  'call_id': '05863',\n",
       "  'utterance_id': 'fe_03_05863-A-0014',\n",
       "  'speech': 'right right',\n",
       "  'has_words': True,\n",
       "  'speaker': 'A',\n",
       "  'audio_fn': 'fe_03_05863.sph',\n",
       "  'duration': 13360,\n",
       "  'type': 'NIST_1A',\n",
       "  'start': 673680,\n",
       "  'end': 687040,\n",
       "  'channel': 1},\n",
       " {'speech_raw': 'NO',\n",
       "  'n_words': 1,\n",
       "  'call_id': '05863',\n",
       "  'utterance_id': 'fe_03_05863-A-0015',\n",
       "  'speech': 'no',\n",
       "  'has_words': True,\n",
       "  'speaker': 'A',\n",
       "  'audio_fn': 'fe_03_05863.sph',\n",
       "  'duration': 7040,\n",
       "  'type': 'NIST_1A',\n",
       "  'start': 708640,\n",
       "  'end': 715680,\n",
       "  'channel': 1},\n",
       " {'speech_raw': 'MM',\n",
       "  'n_words': 1,\n",
       "  'call_id': '05863',\n",
       "  'utterance_id': 'fe_03_05863-A-0016',\n",
       "  'speech': 'mm',\n",
       "  'has_words': True,\n",
       "  'speaker': 'A',\n",
       "  'audio_fn': 'fe_03_05863.sph',\n",
       "  'duration': 6720,\n",
       "  'type': 'NIST_1A',\n",
       "  'start': 718320,\n",
       "  'end': 725040,\n",
       "  'channel': 1},\n",
       " {'speech_raw': \"I DON'T THINK ANY MONEY IS WORTH ANYONE'S LIFE UH A HUMAN A PERSON'S LIFE IS WORTH EVERYTHING\",\n",
       "  'n_words': 18,\n",
       "  'call_id': '05863',\n",
       "  'utterance_id': 'fe_03_05863-A-0017',\n",
       "  'speech': \"i don't think any money is worth anyone's life uh a human a person's life is worth everything\",\n",
       "  'has_words': True,\n",
       "  'speaker': 'A',\n",
       "  'audio_fn': 'fe_03_05863.sph',\n",
       "  'duration': 55680,\n",
       "  'type': 'NIST_1A',\n",
       "  'start': 727120,\n",
       "  'end': 782800,\n",
       "  'channel': 1},\n",
       " {'speech_raw': 'AMEN [LAUGHTER] IS RIGHT [LAUGHTER]',\n",
       "  'n_words': 3,\n",
       "  'call_id': '05863',\n",
       "  'utterance_id': 'fe_03_05863-A-0018',\n",
       "  'speech': 'amen is right',\n",
       "  'has_words': True,\n",
       "  'speaker': 'A',\n",
       "  'audio_fn': 'fe_03_05863.sph',\n",
       "  'duration': 17840,\n",
       "  'type': 'NIST_1A',\n",
       "  'start': 796320,\n",
       "  'end': 814160,\n",
       "  'channel': 1},\n",
       " {'speech_raw': \"I MEAN I- THERE'S NOT REALLY MUCH THAT WE CAN DEBATE ON THIS BECAUSE WE REALLY AGREED ON IT YOU KNOW [LAUGHTER]\",\n",
       "  'n_words': 21,\n",
       "  'call_id': '05863',\n",
       "  'utterance_id': 'fe_03_05863-A-0019',\n",
       "  'speech': \"i mean <rem> there's not really much that we can debate on this because we really agreed on it you know\",\n",
       "  'has_words': True,\n",
       "  'speaker': 'A',\n",
       "  'audio_fn': 'fe_03_05863.sph',\n",
       "  'duration': 57520,\n",
       "  'type': 'NIST_1A',\n",
       "  'start': 855600,\n",
       "  'end': 913120,\n",
       "  'channel': 1},\n",
       " {'speech_raw': 'RIGHT',\n",
       "  'n_words': 1,\n",
       "  'call_id': '05863',\n",
       "  'utterance_id': 'fe_03_05863-A-0020',\n",
       "  'speech': 'right',\n",
       "  'has_words': True,\n",
       "  'speaker': 'A',\n",
       "  'audio_fn': 'fe_03_05863.sph',\n",
       "  'duration': 9280,\n",
       "  'type': 'NIST_1A',\n",
       "  'start': 955680,\n",
       "  'end': 964960,\n",
       "  'channel': 1},\n",
       " {'speech_raw': 'BUT UM',\n",
       "  'n_words': 2,\n",
       "  'call_id': '05863',\n",
       "  'utterance_id': 'fe_03_05863-A-0021',\n",
       "  'speech': 'but um',\n",
       "  'has_words': True,\n",
       "  'speaker': 'A',\n",
       "  'audio_fn': 'fe_03_05863.sph',\n",
       "  'duration': 8160,\n",
       "  'type': 'NIST_1A',\n",
       "  'start': 966480,\n",
       "  'end': 974640,\n",
       "  'channel': 1},\n",
       " {'speech_raw': 'YEAH',\n",
       "  'n_words': 1,\n",
       "  'call_id': '05863',\n",
       "  'utterance_id': 'fe_03_05863-A-0022',\n",
       "  'speech': 'yeah',\n",
       "  'has_words': True,\n",
       "  'speaker': 'A',\n",
       "  'audio_fn': 'fe_03_05863.sph',\n",
       "  'duration': 6400,\n",
       "  'type': 'NIST_1A',\n",
       "  'start': 982640,\n",
       "  'end': 989040,\n",
       "  'channel': 1},\n",
       " {'speech_raw': 'ACTUALLY MY RIGHT RIGHT',\n",
       "  'n_words': 4,\n",
       "  'call_id': '05863',\n",
       "  'utterance_id': 'fe_03_05863-A-0023',\n",
       "  'speech': 'actually my right right',\n",
       "  'has_words': True,\n",
       "  'speaker': 'A',\n",
       "  'audio_fn': 'fe_03_05863.sph',\n",
       "  'duration': 20240,\n",
       "  'type': 'NIST_1A',\n",
       "  'start': 1081520,\n",
       "  'end': 1101760,\n",
       "  'channel': 1},\n",
       " {'speech_raw': 'I WAS ACTUALLY TALKING TO MY BEST FRIEND ON THE PHONE WHEN I GOT THIS CALL [LAUGHTER] SO I SAID I GOT TO CALL YOU BACK',\n",
       "  'n_words': 25,\n",
       "  'call_id': '05863',\n",
       "  'utterance_id': 'fe_03_05863-A-0024',\n",
       "  'speech': 'i was actually talking to my best friend on the phone when i got this call so i said i got to call you back',\n",
       "  'has_words': True,\n",
       "  'speaker': 'A',\n",
       "  'audio_fn': 'fe_03_05863.sph',\n",
       "  'duration': 72480,\n",
       "  'type': 'NIST_1A',\n",
       "  'start': 1108240,\n",
       "  'end': 1180720,\n",
       "  'channel': 1},\n",
       " {'speech_raw': 'AND MY AND MY BEST FRIEND IS ACTUALLY A RELATIVE',\n",
       "  'n_words': 10,\n",
       "  'call_id': '05863',\n",
       "  'utterance_id': 'fe_03_05863-A-0025',\n",
       "  'speech': 'and my and my best friend is actually a relative',\n",
       "  'has_words': True,\n",
       "  'speaker': 'A',\n",
       "  'audio_fn': 'fe_03_05863.sph',\n",
       "  'duration': 26320,\n",
       "  'type': 'NIST_1A',\n",
       "  'start': 1181680,\n",
       "  'end': 1208000,\n",
       "  'channel': 1},\n",
       " {'speech_raw': 'SO',\n",
       "  'n_words': 1,\n",
       "  'call_id': '05863',\n",
       "  'utterance_id': 'fe_03_05863-A-0026',\n",
       "  'speech': 'so',\n",
       "  'has_words': True,\n",
       "  'speaker': 'A',\n",
       "  'audio_fn': 'fe_03_05863.sph',\n",
       "  'duration': 4960,\n",
       "  'type': 'NIST_1A',\n",
       "  'start': 1214160,\n",
       "  'end': 1219120,\n",
       "  'channel': 1},\n",
       " {'speech_raw': 'YEAH BECAUSE WE GREW UP AS KIDS TOGETHER AND WE WERE ALWAYS BEST FRIENDS',\n",
       "  'n_words': 14,\n",
       "  'call_id': '05863',\n",
       "  'utterance_id': 'fe_03_05863-A-0027',\n",
       "  'speech': 'yeah because we grew up as kids together and we were always best friends',\n",
       "  'has_words': True,\n",
       "  'speaker': 'A',\n",
       "  'audio_fn': 'fe_03_05863.sph',\n",
       "  'duration': 39760,\n",
       "  'type': 'NIST_1A',\n",
       "  'start': 1220640,\n",
       "  'end': 1260400,\n",
       "  'channel': 1},\n",
       " {'speech_raw': 'SO',\n",
       "  'n_words': 1,\n",
       "  'call_id': '05863',\n",
       "  'utterance_id': 'fe_03_05863-A-0028',\n",
       "  'speech': 'so',\n",
       "  'has_words': True,\n",
       "  'speaker': 'A',\n",
       "  'audio_fn': 'fe_03_05863.sph',\n",
       "  'duration': 6080,\n",
       "  'type': 'NIST_1A',\n",
       "  'start': 1264880,\n",
       "  'end': 1270960,\n",
       "  'channel': 1},\n",
       " {'speech_raw': 'MHM',\n",
       "  'n_words': 1,\n",
       "  'call_id': '05863',\n",
       "  'utterance_id': 'fe_03_05863-A-0029',\n",
       "  'speech': 'mhm',\n",
       "  'has_words': True,\n",
       "  'speaker': 'A',\n",
       "  'audio_fn': 'fe_03_05863.sph',\n",
       "  'duration': 7440,\n",
       "  'type': 'NIST_1A',\n",
       "  'start': 1275520,\n",
       "  'end': 1282960,\n",
       "  'channel': 1},\n",
       " {'speech_raw': 'MHM',\n",
       "  'n_words': 1,\n",
       "  'call_id': '05863',\n",
       "  'utterance_id': 'fe_03_05863-A-0030',\n",
       "  'speech': 'mhm',\n",
       "  'has_words': True,\n",
       "  'speaker': 'A',\n",
       "  'audio_fn': 'fe_03_05863.sph',\n",
       "  'duration': 6800,\n",
       "  'type': 'NIST_1A',\n",
       "  'start': 1370400,\n",
       "  'end': 1377200,\n",
       "  'channel': 1},\n",
       " {'speech_raw': 'AND WITH THIS BEST FRIEND I CAN CONFIDE IN ANYTHING AND I I AND UM',\n",
       "  'n_words': 15,\n",
       "  'call_id': '05863',\n",
       "  'utterance_id': 'fe_03_05863-A-0031',\n",
       "  'speech': 'and with this best friend i can confide in anything and i i and um',\n",
       "  'has_words': True,\n",
       "  'speaker': 'A',\n",
       "  'audio_fn': 'fe_03_05863.sph',\n",
       "  'duration': 49440,\n",
       "  'type': 'NIST_1A',\n",
       "  'start': 1385760,\n",
       "  'end': 1435200,\n",
       "  'channel': 1},\n",
       " {'speech_raw': 'I TRUST HER',\n",
       "  'n_words': 3,\n",
       "  'call_id': '05863',\n",
       "  'utterance_id': 'fe_03_05863-A-0032',\n",
       "  'speech': 'i trust her',\n",
       "  'has_words': True,\n",
       "  'speaker': 'A',\n",
       "  'audio_fn': 'fe_03_05863.sph',\n",
       "  'duration': 12560,\n",
       "  'type': 'NIST_1A',\n",
       "  'start': 1435840,\n",
       "  'end': 1448400,\n",
       "  'channel': 1},\n",
       " {'speech_raw': 'IN EVERYTHING RIGHT',\n",
       "  'n_words': 3,\n",
       "  'call_id': '05863',\n",
       "  'utterance_id': 'fe_03_05863-A-0033',\n",
       "  'speech': 'in everything right',\n",
       "  'has_words': True,\n",
       "  'speaker': 'A',\n",
       "  'audio_fn': 'fe_03_05863.sph',\n",
       "  'duration': 17760,\n",
       "  'type': 'NIST_1A',\n",
       "  'start': 1452480,\n",
       "  'end': 1470240,\n",
       "  'channel': 1},\n",
       " {'speech_raw': \"AND THERE'S NOTHING THAT I CAN'T SAY TO HER\",\n",
       "  'n_words': 9,\n",
       "  'call_id': '05863',\n",
       "  'utterance_id': 'fe_03_05863-A-0034',\n",
       "  'speech': \"and there's nothing that i can't say to her\",\n",
       "  'has_words': True,\n",
       "  'speaker': 'A',\n",
       "  'audio_fn': 'fe_03_05863.sph',\n",
       "  'duration': 22880,\n",
       "  'type': 'NIST_1A',\n",
       "  'start': 1472720,\n",
       "  'end': 1495600,\n",
       "  'channel': 1},\n",
       " {'speech_raw': 'AND UH AND THEN WHAT WOULD HAPPEN I MEAN',\n",
       "  'n_words': 9,\n",
       "  'call_id': '05863',\n",
       "  'utterance_id': 'fe_03_05863-A-0035',\n",
       "  'speech': 'and uh and then what would happen i mean',\n",
       "  'has_words': True,\n",
       "  'speaker': 'A',\n",
       "  'audio_fn': 'fe_03_05863.sph',\n",
       "  'duration': 32560,\n",
       "  'type': 'NIST_1A',\n",
       "  'start': 1500800,\n",
       "  'end': 1533360,\n",
       "  'channel': 1},\n",
       " {'speech_raw': 'I WOULD LOSE THAT FOR A MILLION DOLLARS',\n",
       "  'n_words': 8,\n",
       "  'call_id': '05863',\n",
       "  'utterance_id': 'fe_03_05863-A-0036',\n",
       "  'speech': 'i would lose that for a million dollars',\n",
       "  'has_words': True,\n",
       "  'speaker': 'A',\n",
       "  'audio_fn': 'fe_03_05863.sph',\n",
       "  'duration': 18080,\n",
       "  'type': 'NIST_1A',\n",
       "  'start': 1534640,\n",
       "  'end': 1552720,\n",
       "  'channel': 1},\n",
       " {'speech_raw': \"YOU KNOW CERTAIN PARTS OF THE COUNTRY YOU CAN'T EVEN GET A HOUSE IN CALIFORNIA FOR A MILLION DOLLARS YOU KNOW\",\n",
       "  'n_words': 21,\n",
       "  'call_id': '05863',\n",
       "  'utterance_id': 'fe_03_05863-A-0037',\n",
       "  'speech': \"you know certain parts of the country you can't even get a house in california for a million dollars you know\",\n",
       "  'has_words': True,\n",
       "  'speaker': 'A',\n",
       "  'audio_fn': 'fe_03_05863.sph',\n",
       "  'duration': 56080,\n",
       "  'type': 'NIST_1A',\n",
       "  'start': 1554160,\n",
       "  'end': 1610240,\n",
       "  'channel': 1},\n",
       " {'speech_raw': 'NO I LIVE IN MASSACHUSETTS',\n",
       "  'n_words': 5,\n",
       "  'call_id': '05863',\n",
       "  'utterance_id': 'fe_03_05863-A-0038',\n",
       "  'speech': 'no i live in massachusetts',\n",
       "  'has_words': True,\n",
       "  'speaker': 'A',\n",
       "  'audio_fn': 'fe_03_05863.sph',\n",
       "  'duration': 15840,\n",
       "  'type': 'NIST_1A',\n",
       "  'start': 1620400,\n",
       "  'end': 1636240,\n",
       "  'channel': 1},\n",
       " {'speech_raw': 'OH YOU ARE',\n",
       "  'n_words': 3,\n",
       "  'call_id': '05863',\n",
       "  'utterance_id': 'fe_03_05863-A-0039',\n",
       "  'speech': 'oh you are',\n",
       "  'has_words': True,\n",
       "  'speaker': 'A',\n",
       "  'audio_fn': 'fe_03_05863.sph',\n",
       "  'duration': 8720,\n",
       "  'type': 'NIST_1A',\n",
       "  'start': 1645120,\n",
       "  'end': 1653840,\n",
       "  'channel': 1},\n",
       " {'speech_raw': 'WHERE SAN FRANCISCO',\n",
       "  'n_words': 3,\n",
       "  'call_id': '05863',\n",
       "  'utterance_id': 'fe_03_05863-A-0040',\n",
       "  'speech': 'where san francisco',\n",
       "  'has_words': True,\n",
       "  'speaker': 'A',\n",
       "  'audio_fn': 'fe_03_05863.sph',\n",
       "  'duration': 12720,\n",
       "  'type': 'NIST_1A',\n",
       "  'start': 1661120,\n",
       "  'end': 1673840,\n",
       "  'channel': 1},\n",
       " {'speech_raw': 'RIGHT RIGHT BECAUSE I HAVE BEEN TO SAN FRANCISCO TWICE BECAUSE MY SON LIVES IN SAN HOSE',\n",
       "  'n_words': 17,\n",
       "  'call_id': '05863',\n",
       "  'utterance_id': 'fe_03_05863-A-0041',\n",
       "  'speech': 'right right because i have been to san francisco twice because my son lives in san hose',\n",
       "  'has_words': True,\n",
       "  'speaker': 'A',\n",
       "  'audio_fn': 'fe_03_05863.sph',\n",
       "  'duration': 35760,\n",
       "  'type': 'NIST_1A',\n",
       "  'start': 1699920,\n",
       "  'end': 1735680,\n",
       "  'channel': 1},\n",
       " {'speech_raw': \"SO I KNOW THAT REAL ESTATE OUT THERE'S REALLY EXPENSIVE SO\",\n",
       "  'n_words': 11,\n",
       "  'call_id': '05863',\n",
       "  'utterance_id': 'fe_03_05863-A-0042',\n",
       "  'speech': \"so i know that real estate out there's really expensive so\",\n",
       "  'has_words': True,\n",
       "  'speaker': 'A',\n",
       "  'audio_fn': 'fe_03_05863.sph',\n",
       "  'duration': 39520,\n",
       "  'type': 'NIST_1A',\n",
       "  'start': 1736000,\n",
       "  'end': 1775520,\n",
       "  'channel': 1},\n",
       " {'speech_raw': \"IT IT'S NOT EVEN THOUGH\",\n",
       "  'n_words': 5,\n",
       "  'call_id': '05863',\n",
       "  'utterance_id': 'fe_03_05863-A-0043',\n",
       "  'speech': \"it it's not even though\",\n",
       "  'has_words': True,\n",
       "  'speaker': 'A',\n",
       "  'audio_fn': 'fe_03_05863.sph',\n",
       "  'duration': 12320,\n",
       "  'type': 'NIST_1A',\n",
       "  'start': 1780240,\n",
       "  'end': 1792560,\n",
       "  'channel': 1},\n",
       " {'speech_raw': \"I WOULDN'T DO IT FOR ANYTHING NOTHING\",\n",
       "  'n_words': 7,\n",
       "  'call_id': '05863',\n",
       "  'utterance_id': 'fe_03_05863-A-0044',\n",
       "  'speech': \"i wouldn't do it for anything nothing\",\n",
       "  'has_words': True,\n",
       "  'speaker': 'A',\n",
       "  'audio_fn': 'fe_03_05863.sph',\n",
       "  'duration': 22160,\n",
       "  'type': 'NIST_1A',\n",
       "  'start': 1794400,\n",
       "  'end': 1816560,\n",
       "  'channel': 1},\n",
       " {'speech_raw': 'NO NO',\n",
       "  'n_words': 2,\n",
       "  'call_id': '05863',\n",
       "  'utterance_id': 'fe_03_05863-A-0045',\n",
       "  'speech': 'no no',\n",
       "  'has_words': True,\n",
       "  'speaker': 'A',\n",
       "  'audio_fn': 'fe_03_05863.sph',\n",
       "  'duration': 5520,\n",
       "  'type': 'NIST_1A',\n",
       "  'start': 1821360,\n",
       "  'end': 1826880,\n",
       "  'channel': 1},\n",
       " {'speech_raw': \"RIGHT RIGHT THEY ARE HARD TO DISCUSS BECAUSE IF WE AGREE WITH THEM RIGHT AWAY UH THERE'S NOT MUCH AND WE HAVE TO TALK ABOUT THIS TOPIC THE WHOLE TIME OF THE STUDY\",\n",
       "  'n_words': 33,\n",
       "  'call_id': '05863',\n",
       "  'utterance_id': 'fe_03_05863-A-0046',\n",
       "  'speech': \"right right they are hard to discuss because if we agree with them right away uh there's not much and we have to talk about this topic the whole time of the study\",\n",
       "  'has_words': True,\n",
       "  'speaker': 'A',\n",
       "  'audio_fn': 'fe_03_05863.sph',\n",
       "  'duration': 87840,\n",
       "  'type': 'NIST_1A',\n",
       "  'start': 1860640,\n",
       "  'end': 1948480,\n",
       "  'channel': 1},\n",
       " {'speech_raw': 'SO UM',\n",
       "  'n_words': 2,\n",
       "  'call_id': '05863',\n",
       "  'utterance_id': 'fe_03_05863-A-0047',\n",
       "  'speech': 'so um',\n",
       "  'has_words': True,\n",
       "  'speaker': 'A',\n",
       "  'audio_fn': 'fe_03_05863.sph',\n",
       "  'duration': 10960,\n",
       "  'type': 'NIST_1A',\n",
       "  'start': 1950640,\n",
       "  'end': 1961600,\n",
       "  'channel': 1},\n",
       " {'speech_raw': \"[LAUGHTER] IT IS LONG WHEN YOU WHEN YOU GET TO THE AGREEMENT IF WE WERE DEBATING ON IT IT WOULDN'T BE LONG BUT\",\n",
       "  'n_words': 22,\n",
       "  'call_id': '05863',\n",
       "  'utterance_id': 'fe_03_05863-A-0048',\n",
       "  'speech': \"it is long when you when you get to the agreement if we were debating on it it wouldn't be long but\",\n",
       "  'has_words': True,\n",
       "  'speaker': 'A',\n",
       "  'audio_fn': 'fe_03_05863.sph',\n",
       "  'duration': 54400,\n",
       "  'type': 'NIST_1A',\n",
       "  'start': 1974720,\n",
       "  'end': 2029120,\n",
       "  'channel': 1},\n",
       " {'speech_raw': \"[LAUGHTER] WE'D BE LIKE THE POLITICIANS\",\n",
       "  'n_words': 5,\n",
       "  'call_id': '05863',\n",
       "  'utterance_id': 'fe_03_05863-A-0049',\n",
       "  'speech': \"we'd be like the politicians\",\n",
       "  'has_words': True,\n",
       "  'speaker': 'A',\n",
       "  'audio_fn': 'fe_03_05863.sph',\n",
       "  'duration': 25280,\n",
       "  'type': 'NIST_1A',\n",
       "  'start': 2069360,\n",
       "  'end': 2094640,\n",
       "  'channel': 1},\n",
       " {'speech_raw': '[LAUGHTER] SO UM',\n",
       "  'n_words': 2,\n",
       "  'call_id': '05863',\n",
       "  'utterance_id': 'fe_03_05863-A-0050',\n",
       "  'speech': 'so um',\n",
       "  'has_words': True,\n",
       "  'speaker': 'A',\n",
       "  'audio_fn': 'fe_03_05863.sph',\n",
       "  'duration': 14960,\n",
       "  'type': 'NIST_1A',\n",
       "  'start': 2122640,\n",
       "  'end': 2137600,\n",
       "  'channel': 1},\n",
       " {'speech_raw': \"THERE'S REALLY NOT MUCH UM\",\n",
       "  'n_words': 5,\n",
       "  'call_id': '05863',\n",
       "  'utterance_id': 'fe_03_05863-A-0051',\n",
       "  'speech': \"there's really not much um\",\n",
       "  'has_words': True,\n",
       "  'speaker': 'A',\n",
       "  'audio_fn': 'fe_03_05863.sph',\n",
       "  'duration': 17600,\n",
       "  'type': 'NIST_1A',\n",
       "  'start': 2144560,\n",
       "  'end': 2162160,\n",
       "  'channel': 1},\n",
       " {'speech_raw': 'I CAN SAY',\n",
       "  'n_words': 3,\n",
       "  'call_id': '05863',\n",
       "  'utterance_id': 'fe_03_05863-A-0052',\n",
       "  'speech': 'i can say',\n",
       "  'has_words': True,\n",
       "  'speaker': 'A',\n",
       "  'audio_fn': 'fe_03_05863.sph',\n",
       "  'duration': 13280,\n",
       "  'type': 'NIST_1A',\n",
       "  'start': 2164800,\n",
       "  'end': 2178080,\n",
       "  'channel': 1},\n",
       " {'speech_raw': \"BUT I WOULDN'T DO IT\",\n",
       "  'n_words': 5,\n",
       "  'call_id': '05863',\n",
       "  'utterance_id': 'fe_03_05863-A-0053',\n",
       "  'speech': \"but i wouldn't do it\",\n",
       "  'has_words': True,\n",
       "  'speaker': 'A',\n",
       "  'audio_fn': 'fe_03_05863.sph',\n",
       "  'duration': 12000,\n",
       "  'type': 'NIST_1A',\n",
       "  'start': 2182640,\n",
       "  'end': 2194640,\n",
       "  'channel': 1},\n",
       " {'speech_raw': '[LAUGHTER]',\n",
       "  'n_words': 1,\n",
       "  'call_id': '05863',\n",
       "  'utterance_id': 'fe_03_05863-A-0054',\n",
       "  'speech': '',\n",
       "  'has_words': False,\n",
       "  'speaker': 'A',\n",
       "  'audio_fn': 'fe_03_05863.sph',\n",
       "  'duration': 11360,\n",
       "  'type': 'NIST_1A',\n",
       "  'start': 2209680,\n",
       "  'end': 2221040,\n",
       "  'channel': 1},\n",
       " {'speech_raw': 'OH',\n",
       "  'n_words': 1,\n",
       "  'call_id': '05863',\n",
       "  'utterance_id': 'fe_03_05863-A-0055',\n",
       "  'speech': 'oh',\n",
       "  'has_words': True,\n",
       "  'speaker': 'A',\n",
       "  'audio_fn': 'fe_03_05863.sph',\n",
       "  'duration': 8560,\n",
       "  'type': 'NIST_1A',\n",
       "  'start': 2235040,\n",
       "  'end': 2243600,\n",
       "  'channel': 1},\n",
       " {'speech_raw': 'SO',\n",
       "  'n_words': 1,\n",
       "  'call_id': '05863',\n",
       "  'utterance_id': 'fe_03_05863-A-0056',\n",
       "  'speech': 'so',\n",
       "  'has_words': True,\n",
       "  'speaker': 'A',\n",
       "  'audio_fn': 'fe_03_05863.sph',\n",
       "  'duration': 6720,\n",
       "  'type': 'NIST_1A',\n",
       "  'start': 2261040,\n",
       "  'end': 2267760,\n",
       "  'channel': 1},\n",
       " {'speech_raw': 'UH',\n",
       "  'n_words': 1,\n",
       "  'call_id': '05863',\n",
       "  'utterance_id': 'fe_03_05863-A-0057',\n",
       "  'speech': 'uh',\n",
       "  'has_words': True,\n",
       "  'speaker': 'A',\n",
       "  'audio_fn': 'fe_03_05863.sph',\n",
       "  'duration': 12480,\n",
       "  'type': 'NIST_1A',\n",
       "  'start': 2269280,\n",
       "  'end': 2281760,\n",
       "  'channel': 1},\n",
       " {'speech_raw': 'I WONDER',\n",
       "  'n_words': 2,\n",
       "  'call_id': '05863',\n",
       "  'utterance_id': 'fe_03_05863-A-0058',\n",
       "  'speech': 'i wonder',\n",
       "  'has_words': True,\n",
       "  'speaker': 'A',\n",
       "  'audio_fn': 'fe_03_05863.sph',\n",
       "  'duration': 11120,\n",
       "  'type': 'NIST_1A',\n",
       "  'start': 2290960,\n",
       "  'end': 2302080,\n",
       "  'channel': 1},\n",
       " {'speech_raw': 'YEAH [LAUGHTER]',\n",
       "  'n_words': 1,\n",
       "  'call_id': '05863',\n",
       "  'utterance_id': 'fe_03_05863-A-0059',\n",
       "  'speech': 'yeah',\n",
       "  'has_words': True,\n",
       "  'speaker': 'A',\n",
       "  'audio_fn': 'fe_03_05863.sph',\n",
       "  'duration': 14160,\n",
       "  'type': 'NIST_1A',\n",
       "  'start': 2329680,\n",
       "  'end': 2343840,\n",
       "  'channel': 1},\n",
       " {'speech_raw': \"I THOUGHT I LOST YOU FOR A MINUTE TOO 'CAUSE THEY WERE I HEARD SOMETHING DIFFERENT UM\",\n",
       "  'n_words': 17,\n",
       "  'call_id': '05863',\n",
       "  'utterance_id': 'fe_03_05863-A-0060',\n",
       "  'speech': \"i thought i lost you for a minute too 'cause they were i heard something different um\",\n",
       "  'has_words': True,\n",
       "  'speaker': 'A',\n",
       "  'audio_fn': 'fe_03_05863.sph',\n",
       "  'duration': 40880,\n",
       "  'type': 'NIST_1A',\n",
       "  'start': 2350720,\n",
       "  'end': 2391600,\n",
       "  'channel': 1},\n",
       " {'speech_raw': \"I DON'T KNOW I DON'T KNOW WHAT ELSE TO SAY BECAUSE\",\n",
       "  'n_words': 11,\n",
       "  'call_id': '05863',\n",
       "  'utterance_id': 'fe_03_05863-A-0061',\n",
       "  'speech': \"i don't know i don't know what else to say because\",\n",
       "  'has_words': True,\n",
       "  'speaker': 'A',\n",
       "  'audio_fn': 'fe_03_05863.sph',\n",
       "  'duration': 25200,\n",
       "  'type': 'NIST_1A',\n",
       "  'start': 2413200,\n",
       "  'end': 2438400,\n",
       "  'channel': 1},\n",
       " {'speech_raw': 'SO AM I. [LAUGHTER] WE GOT TO BE',\n",
       "  'n_words': 7,\n",
       "  'call_id': '05863',\n",
       "  'utterance_id': 'fe_03_05863-A-0062',\n",
       "  'speech': 'so am i. we got to be',\n",
       "  'has_words': True,\n",
       "  'speaker': 'A',\n",
       "  'audio_fn': 'fe_03_05863.sph',\n",
       "  'duration': 21440,\n",
       "  'type': 'NIST_1A',\n",
       "  'start': 2450880,\n",
       "  'end': 2472320,\n",
       "  'channel': 1},\n",
       " {'speech_raw': \"OH NO THE FIRST ONE THAT I GOT WAS ACTUALLY LAST WEEK 'CAUSE I JUST STARTED AND WE TALKED THROUGH THE WHOLE THING\",\n",
       "  'n_words': 23,\n",
       "  'call_id': '05863',\n",
       "  'utterance_id': 'fe_03_05863-A-0063',\n",
       "  'speech': \"oh no the first one that i got was actually last week 'cause i just started and we talked through the whole thing\",\n",
       "  'has_words': True,\n",
       "  'speaker': 'A',\n",
       "  'audio_fn': 'fe_03_05863.sph',\n",
       "  'duration': 55440,\n",
       "  'type': 'NIST_1A',\n",
       "  'start': 2484880,\n",
       "  'end': 2540320,\n",
       "  'channel': 1},\n",
       " {'speech_raw': 'WHICH WAS GOOD BUT WE AGREED SO',\n",
       "  'n_words': 7,\n",
       "  'call_id': '05863',\n",
       "  'utterance_id': 'fe_03_05863-A-0064',\n",
       "  'speech': 'which was good but we agreed so',\n",
       "  'has_words': True,\n",
       "  'speaker': 'A',\n",
       "  'audio_fn': 'fe_03_05863.sph',\n",
       "  'duration': 24560,\n",
       "  'type': 'NIST_1A',\n",
       "  'start': 2546480,\n",
       "  'end': 2571040,\n",
       "  'channel': 1},\n",
       " {'speech_raw': 'UM',\n",
       "  'n_words': 1,\n",
       "  'call_id': '05863',\n",
       "  'utterance_id': 'fe_03_05863-A-0065',\n",
       "  'speech': 'um',\n",
       "  'has_words': True,\n",
       "  'speaker': 'A',\n",
       "  'audio_fn': 'fe_03_05863.sph',\n",
       "  'duration': 6720,\n",
       "  'type': 'NIST_1A',\n",
       "  'start': 2573120,\n",
       "  'end': 2579840,\n",
       "  'channel': 1},\n",
       " {'speech_raw': '[LIPSMACK] OH',\n",
       "  'n_words': 1,\n",
       "  'call_id': '05863',\n",
       "  'utterance_id': 'fe_03_05863-A-0066',\n",
       "  'speech': 'oh',\n",
       "  'has_words': True,\n",
       "  'speaker': 'A',\n",
       "  'audio_fn': 'fe_03_05863.sph',\n",
       "  'duration': 6080,\n",
       "  'type': 'NIST_1A',\n",
       "  'start': 2592080,\n",
       "  'end': 2598160,\n",
       "  'channel': 1},\n",
       " {'speech_raw': \"THIS IS HARD IT'S HARD TO TALK LIKE THIS\",\n",
       "  'n_words': 9,\n",
       "  'call_id': '05863',\n",
       "  'utterance_id': 'fe_03_05863-A-0067',\n",
       "  'speech': \"this is hard it's hard to talk like this\",\n",
       "  'has_words': True,\n",
       "  'speaker': 'A',\n",
       "  'audio_fn': 'fe_03_05863.sph',\n",
       "  'duration': 25200,\n",
       "  'type': 'NIST_1A',\n",
       "  'start': 2605360,\n",
       "  'end': 2630560,\n",
       "  'channel': 1},\n",
       " {'speech_raw': 'HEY',\n",
       "  'n_words': 1,\n",
       "  'call_id': '05863',\n",
       "  'utterance_id': 'fe_03_05863-A-0068',\n",
       "  'speech': 'hey',\n",
       "  'has_words': True,\n",
       "  'speaker': 'A',\n",
       "  'audio_fn': 'fe_03_05863.sph',\n",
       "  'duration': 7040,\n",
       "  'type': 'NIST_1A',\n",
       "  'start': 2654240,\n",
       "  'end': 2661280,\n",
       "  'channel': 1},\n",
       " {'speech_raw': \"I- I DON'T KNOW UM SOME TIME WE WE CAN ALWAYS GET DIFFERENT PEOPLE BUT IT'D BE FUNNY IF WE GOT\",\n",
       "  'n_words': 21,\n",
       "  'call_id': '05863',\n",
       "  'utterance_id': 'fe_03_05863-A-0069',\n",
       "  'speech': \"<rem> i don't know um some time we we can always get different people but it'd be funny if we got\",\n",
       "  'has_words': True,\n",
       "  'speaker': 'A',\n",
       "  'audio_fn': 'fe_03_05863.sph',\n",
       "  'duration': 43440,\n",
       "  'type': 'NIST_1A',\n",
       "  'start': 2666960,\n",
       "  'end': 2710400,\n",
       "  'channel': 1},\n",
       " {'speech_raw': 'THE SAME IF WE GOT TO TALK MORE THAN ONCE AND WE BECAME FRIENDS [LAUGHTER]',\n",
       "  'n_words': 14,\n",
       "  'call_id': '05863',\n",
       "  'utterance_id': 'fe_03_05863-A-0070',\n",
       "  'speech': 'the same if we got to talk more than once and we became friends',\n",
       "  'has_words': True,\n",
       "  'speaker': 'A',\n",
       "  'audio_fn': 'fe_03_05863.sph',\n",
       "  'duration': 45040,\n",
       "  'type': 'NIST_1A',\n",
       "  'start': 2711360,\n",
       "  'end': 2756400,\n",
       "  'channel': 1},\n",
       " {'speech_raw': \"AND WE'RE TALKING ABOUT BEST FRIENDS WE BECOME FRIENDS YOU KNOW BUT UM FRIENDS ARE ACTUALLY SEE THERE'S ANOTHER THING THAT WE CAN SAY YOU CAN CHOOSE YOUR FRIENDS AND YOU CAN'T CHOOSE YOUR FAMILY\",\n",
       "  'n_words': 35,\n",
       "  'call_id': '05863',\n",
       "  'utterance_id': 'fe_03_05863-A-0071',\n",
       "  'speech': \"and we're talking about best friends we become friends you know but um friends are actually see there's another thing that we can say you can choose your friends and you can't choose your family\",\n",
       "  'has_words': True,\n",
       "  'speaker': 'A',\n",
       "  'audio_fn': 'fe_03_05863.sph',\n",
       "  'duration': 88480,\n",
       "  'type': 'NIST_1A',\n",
       "  'start': 2757920,\n",
       "  'end': 2846400,\n",
       "  'channel': 1},\n",
       " {'speech_raw': 'OKAY',\n",
       "  'n_words': 1,\n",
       "  'call_id': '05863',\n",
       "  'utterance_id': 'fe_03_05863-A-0072',\n",
       "  'speech': 'okay',\n",
       "  'has_words': True,\n",
       "  'speaker': 'A',\n",
       "  'audio_fn': 'fe_03_05863.sph',\n",
       "  'duration': 7600,\n",
       "  'type': 'NIST_1A',\n",
       "  'start': 2846480,\n",
       "  'end': 2854080,\n",
       "  'channel': 1},\n",
       " {'speech_raw': 'RIGHT AND THEN',\n",
       "  'n_words': 3,\n",
       "  'call_id': '05863',\n",
       "  'utterance_id': 'fe_03_05863-A-0073',\n",
       "  'speech': 'right and then',\n",
       "  'has_words': True,\n",
       "  'speaker': 'A',\n",
       "  'audio_fn': 'fe_03_05863.sph',\n",
       "  'duration': 11440,\n",
       "  'type': 'NIST_1A',\n",
       "  'start': 2854480,\n",
       "  'end': 2865920,\n",
       "  'channel': 1},\n",
       " {'speech_raw': \"UM YOU HAVE NO CONTROL OVER YOUR FAMILY BUT YOUR FRIENDS YOU DO SO THERE'S A LOT ABOUT YOU KNOW WHEN PEOPLE SAY OH IT'S THEIR FRIENDS\",\n",
       "  'n_words': 27,\n",
       "  'call_id': '05863',\n",
       "  'utterance_id': 'fe_03_05863-A-0074',\n",
       "  'speech': \"um you have no control over your family but your friends you do so there's a lot about you know when people say oh it's their friends\",\n",
       "  'has_words': True,\n",
       "  'speaker': 'A',\n",
       "  'audio_fn': 'fe_03_05863.sph',\n",
       "  'duration': 70320,\n",
       "  'type': 'NIST_1A',\n",
       "  'start': 2866400,\n",
       "  'end': 2936720,\n",
       "  'channel': 1},\n",
       " {'speech_raw': 'LIKE WHEN THE KIDS GET INVOLVED IN THINGS AND LOT OF TIMES THEY BLAME IT PARENTS WILL BLAME IT ON THE OTHER KID',\n",
       "  'n_words': 23,\n",
       "  'call_id': '05863',\n",
       "  'utterance_id': 'fe_03_05863-A-0075',\n",
       "  'speech': 'like when the kids get involved in things and lot of times they blame it parents will blame it on the other kid',\n",
       "  'has_words': True,\n",
       "  'speaker': 'A',\n",
       "  'audio_fn': 'fe_03_05863.sph',\n",
       "  'duration': 46880,\n",
       "  'type': 'NIST_1A',\n",
       "  'start': 2940160,\n",
       "  'end': 2987040,\n",
       "  'channel': 1},\n",
       " {'speech_raw': \"SO IT'S LIKE YOU KNOW YOU CHOSE THAT FRIEND YOU CHOSE TO DO THAT NO ONE YOU KNOW TWISTED YOUR ARM LIKE WE WOULD SAY BACK THEN OR UM\",\n",
       "  'n_words': 29,\n",
       "  'call_id': '05863',\n",
       "  'utterance_id': 'fe_03_05863-A-0076',\n",
       "  'speech': \"so it's like you know you chose that friend you chose to do that no one you know twisted your arm like we would say back then or um\",\n",
       "  'has_words': True,\n",
       "  'speaker': 'A',\n",
       "  'audio_fn': 'fe_03_05863.sph',\n",
       "  'duration': 74960,\n",
       "  'type': 'NIST_1A',\n",
       "  'start': 2988080,\n",
       "  'end': 3063040,\n",
       "  'channel': 1},\n",
       " {'speech_raw': 'NOBODY WAS PULLING YOUR LEG NOBODY WAS FORCING YOU COERCING YOU',\n",
       "  'n_words': 11,\n",
       "  'call_id': '05863',\n",
       "  'utterance_id': 'fe_03_05863-A-0077',\n",
       "  'speech': 'nobody was pulling your leg nobody was forcing you coercing you',\n",
       "  'has_words': True,\n",
       "  'speaker': 'A',\n",
       "  'audio_fn': 'fe_03_05863.sph',\n",
       "  'duration': 29440,\n",
       "  'type': 'NIST_1A',\n",
       "  'start': 3065280,\n",
       "  'end': 3094720,\n",
       "  'channel': 1},\n",
       " {'speech_raw': 'SO YOU CHOOSE BECAUSE AND FRIENDS ARE SOMETHING CHOSEN AND YOU WHEN YOU GET TO KNOW THAT PERSON [LIPSMACK]',\n",
       "  'n_words': 18,\n",
       "  'call_id': '05863',\n",
       "  'utterance_id': 'fe_03_05863-A-0078',\n",
       "  'speech': 'so you choose because and friends are something chosen and you when you get to know that person',\n",
       "  'has_words': True,\n",
       "  'speaker': 'A',\n",
       "  'audio_fn': 'fe_03_05863.sph',\n",
       "  'duration': 48640,\n",
       "  'type': 'NIST_1A',\n",
       "  'start': 3095120,\n",
       "  'end': 3143760,\n",
       "  'channel': 1},\n",
       " {'speech_raw': \"REALLY WELL YOU CAN EITHER CHOOSE THAT PERSON AS A BEST BEST FRIEND BY THE WAY THEY ARE OR YOU KNOW IT'S NOT SO THEN YOU DON'T STAY WITH THAT PERSON YOU CAN SAY OKAY I'LL BE JUST A FRIEND TO CALL IN OR\",\n",
       "  'n_words': 44,\n",
       "  'call_id': '05863',\n",
       "  'utterance_id': 'fe_03_05863-A-0079',\n",
       "  'speech': \"really well you can either choose that person as a best best friend by the way they are or you know it's not so then you don't stay with that person you can say okay i'll be just a friend to call in or\",\n",
       "  'has_words': True,\n",
       "  'speaker': 'A',\n",
       "  'audio_fn': 'fe_03_05863.sph',\n",
       "  'duration': 88240,\n",
       "  'type': 'NIST_1A',\n",
       "  'start': 3144800,\n",
       "  'end': 3233040,\n",
       "  'channel': 1},\n",
       " {'speech_raw': \"OR UM WHAT'S THE WORD I WANTED TO USE UM\",\n",
       "  'n_words': 10,\n",
       "  'call_id': '05863',\n",
       "  'utterance_id': 'fe_03_05863-A-0080',\n",
       "  'speech': \"or um what's the word i wanted to use um\",\n",
       "  'has_words': True,\n",
       "  'speaker': 'A',\n",
       "  'audio_fn': 'fe_03_05863.sph',\n",
       "  'duration': 35040,\n",
       "  'type': 'NIST_1A',\n",
       "  'start': 3231440,\n",
       "  'end': 3266480,\n",
       "  'channel': 1},\n",
       " {'speech_raw': 'I GO AHEAD',\n",
       "  'n_words': 3,\n",
       "  'call_id': '05863',\n",
       "  'utterance_id': 'fe_03_05863-A-0081',\n",
       "  'speech': 'i go ahead',\n",
       "  'has_words': True,\n",
       "  'speaker': 'A',\n",
       "  'audio_fn': 'fe_03_05863.sph',\n",
       "  'duration': 13200,\n",
       "  'type': 'NIST_1A',\n",
       "  'start': 3269600,\n",
       "  'end': 3282800,\n",
       "  'channel': 1},\n",
       " {'speech_raw': \"RIGHT THAT'S IT BECAUSE IF THEN YOU WEREN'T REALLY MY BEST FRIEND BECAUSE YOU WANTED THE MONEY\",\n",
       "  'n_words': 17,\n",
       "  'call_id': '05863',\n",
       "  'utterance_id': 'fe_03_05863-A-0082',\n",
       "  'speech': \"right that's it because if then you weren't really my best friend because you wanted the money\",\n",
       "  'has_words': True,\n",
       "  'speaker': 'A',\n",
       "  'audio_fn': 'fe_03_05863.sph',\n",
       "  'duration': 47200,\n",
       "  'type': 'NIST_1A',\n",
       "  'start': 3337200,\n",
       "  'end': 3384400,\n",
       "  'channel': 1},\n",
       " {'speech_raw': \"AND YOU DON'T WANT ANYTHING TO DO WITH ME WHAT KIND OF A BEST FRIEND IS THAT THAT'S NOT A BEST FRIEND THAT'S SOMEBODY THAT LOVES MONEY AND THE LOVE OF MONEY IS THE IS THE ROOT OF ALL EVIL\",\n",
       "  'n_words': 40,\n",
       "  'call_id': '05863',\n",
       "  'utterance_id': 'fe_03_05863-A-0083',\n",
       "  'speech': \"and you don't want anything to do with me what kind of a best friend is that that's not a best friend that's somebody that loves money and the love of money is the is the root of all evil\",\n",
       "  'has_words': True,\n",
       "  'speaker': 'A',\n",
       "  'audio_fn': 'fe_03_05863.sph',\n",
       "  'duration': 90320,\n",
       "  'type': 'NIST_1A',\n",
       "  'start': 3385440,\n",
       "  'end': 3475760,\n",
       "  'channel': 1},\n",
       " {'speech_raw': 'SO',\n",
       "  'n_words': 1,\n",
       "  'call_id': '05863',\n",
       "  'utterance_id': 'fe_03_05863-A-0084',\n",
       "  'speech': 'so',\n",
       "  'has_words': True,\n",
       "  'speaker': 'A',\n",
       "  'audio_fn': 'fe_03_05863.sph',\n",
       "  'duration': 6800,\n",
       "  'type': 'NIST_1A',\n",
       "  'start': 3480000,\n",
       "  'end': 3486800,\n",
       "  'channel': 1},\n",
       " {'speech_raw': 'UM',\n",
       "  'n_words': 1,\n",
       "  'call_id': '05863',\n",
       "  'utterance_id': 'fe_03_05863-A-0085',\n",
       "  'speech': 'um',\n",
       "  'has_words': True,\n",
       "  'speaker': 'A',\n",
       "  'audio_fn': 'fe_03_05863.sph',\n",
       "  'duration': 8400,\n",
       "  'type': 'NIST_1A',\n",
       "  'start': 3491920,\n",
       "  'end': 3500320,\n",
       "  'channel': 1},\n",
       " {'speech_raw': 'SO MUCH EVIL HAPPENS BECAUSE PEOPLE LOVE MONEY',\n",
       "  'n_words': 8,\n",
       "  'call_id': '05863',\n",
       "  'utterance_id': 'fe_03_05863-A-0086',\n",
       "  'speech': 'so much evil happens because people love money',\n",
       "  'has_words': True,\n",
       "  'speaker': 'A',\n",
       "  'audio_fn': 'fe_03_05863.sph',\n",
       "  'duration': 25200,\n",
       "  'type': 'NIST_1A',\n",
       "  'start': 3505120,\n",
       "  'end': 3530320,\n",
       "  'channel': 1},\n",
       " {'speech_raw': \"THAT'S UM THEY THINK THAT MONEY IS GOING TO SOLVE ALL THEIR PROBLEMS HOW MANY RICH PEOPLE ARE UNHAPPY PEOPLE\",\n",
       "  'n_words': 20,\n",
       "  'call_id': '05863',\n",
       "  'utterance_id': 'fe_03_05863-A-0087',\n",
       "  'speech': \"that's um they think that money is going to solve all their problems how many rich people are unhappy people\",\n",
       "  'has_words': True,\n",
       "  'speaker': 'A',\n",
       "  'audio_fn': 'fe_03_05863.sph',\n",
       "  'duration': 68000,\n",
       "  'type': 'NIST_1A',\n",
       "  'start': 3537920,\n",
       "  'end': 3605920,\n",
       "  'channel': 1},\n",
       " {'speech_raw': \"YOU KNOW JUST JUST LIKE THOSE TWO TWIN BROTHERS IN CALIFORNIA THAT HAD THE RICH PARENTS THEY HAD EVERYTHING AND THEY KILLED THEIR PARENTS THEY WEREN'T HAPPY\",\n",
       "  'n_words': 27,\n",
       "  'call_id': '05863',\n",
       "  'utterance_id': 'fe_03_05863-A-0088',\n",
       "  'speech': \"you know just just like those two twin brothers in california that had the rich parents they had everything and they killed their parents they weren't happy\",\n",
       "  'has_words': True,\n",
       "  'speaker': 'A',\n",
       "  'audio_fn': 'fe_03_05863.sph',\n",
       "  'duration': 69760,\n",
       "  'type': 'NIST_1A',\n",
       "  'start': 3613600,\n",
       "  'end': 3683360,\n",
       "  'channel': 1},\n",
       " {'speech_raw': \"OH THAT'S BEEN YEARS ALREADY UM\",\n",
       "  'n_words': 6,\n",
       "  'call_id': '05863',\n",
       "  'utterance_id': 'fe_03_05863-A-0089',\n",
       "  'speech': \"oh that's been years already um\",\n",
       "  'has_words': True,\n",
       "  'speaker': 'A',\n",
       "  'audio_fn': 'fe_03_05863.sph',\n",
       "  'duration': 20800,\n",
       "  'type': 'NIST_1A',\n",
       "  'start': 3701360,\n",
       "  'end': 3722160,\n",
       "  'channel': 1},\n",
       " {'speech_raw': \"I CAN'T REMEMBER THE LAST THEIR LAST NAME BUT IT WAS A UM A SPANISH LIKE THE MINEN MINEZ\",\n",
       "  'n_words': 19,\n",
       "  'call_id': '05863',\n",
       "  'utterance_id': 'fe_03_05863-A-0090',\n",
       "  'speech': \"i can't remember the last their last name but it was a um a spanish like the minen minez\",\n",
       "  'has_words': True,\n",
       "  'speaker': 'A',\n",
       "  'audio_fn': 'fe_03_05863.sph',\n",
       "  'duration': 42880,\n",
       "  'type': 'NIST_1A',\n",
       "  'start': 3723200,\n",
       "  'end': 3766080,\n",
       "  'channel': 1},\n",
       " {'speech_raw': 'MINNEZESS BROTHERS WELL YOU SOUND YOUNG',\n",
       "  'n_words': 6,\n",
       "  'call_id': '05863',\n",
       "  'utterance_id': 'fe_03_05863-A-0091',\n",
       "  'speech': 'minnezess brothers well you sound young',\n",
       "  'has_words': True,\n",
       "  'speaker': 'A',\n",
       "  'audio_fn': 'fe_03_05863.sph',\n",
       "  'duration': 22160,\n",
       "  'type': 'NIST_1A',\n",
       "  'start': 3766800,\n",
       "  'end': 3788960,\n",
       "  'channel': 1},\n",
       " {'speech_raw': 'YEAH I MIGHT BE OLD ENOUGH TO BE YOUR MOTHER SO UM',\n",
       "  'n_words': 12,\n",
       "  'call_id': '05863',\n",
       "  'utterance_id': 'fe_03_05863-A-0092',\n",
       "  'speech': 'yeah i might be old enough to be your mother so um',\n",
       "  'has_words': True,\n",
       "  'speaker': 'A',\n",
       "  'audio_fn': 'fe_03_05863.sph',\n",
       "  'duration': 35440,\n",
       "  'type': 'NIST_1A',\n",
       "  'start': 3803440,\n",
       "  'end': 3838880,\n",
       "  'channel': 1},\n",
       " {'speech_raw': \"SO THAT HAPPENED A WHILE SO IT'S IT'S MONEY DOESN'T BRING YOU HAPPINESS\",\n",
       "  'n_words': 13,\n",
       "  'call_id': '05863',\n",
       "  'utterance_id': 'fe_03_05863-A-0093',\n",
       "  'speech': \"so that happened a while so it's it's money doesn't bring you happiness\",\n",
       "  'has_words': True,\n",
       "  'speaker': 'A',\n",
       "  'audio_fn': 'fe_03_05863.sph',\n",
       "  'duration': 35920,\n",
       "  'type': 'NIST_1A',\n",
       "  'start': 3845760,\n",
       "  'end': 3881680,\n",
       "  'channel': 1},\n",
       " {'speech_raw': 'AH FRIENDS FAMILY IS EVERYTHING RIGHT RIGHT',\n",
       "  'n_words': 7,\n",
       "  'call_id': '05863',\n",
       "  'utterance_id': 'fe_03_05863-A-0094',\n",
       "  'speech': 'ah friends family is everything right right',\n",
       "  'has_words': True,\n",
       "  'speaker': 'A',\n",
       "  'audio_fn': 'fe_03_05863.sph',\n",
       "  'duration': 32240,\n",
       "  'type': 'NIST_1A',\n",
       "  'start': 3881760,\n",
       "  'end': 3914000,\n",
       "  'channel': 1},\n",
       " {'speech_raw': \"THAT'S HOW I LOOK AT IT\",\n",
       "  'n_words': 6,\n",
       "  'call_id': '05863',\n",
       "  'utterance_id': 'fe_03_05863-A-0095',\n",
       "  'speech': \"that's how i look at it\",\n",
       "  'has_words': True,\n",
       "  'speaker': 'A',\n",
       "  'audio_fn': 'fe_03_05863.sph',\n",
       "  'duration': 12720,\n",
       "  'type': 'NIST_1A',\n",
       "  'start': 3916560,\n",
       "  'end': 3929280,\n",
       "  'channel': 1},\n",
       " {'speech_raw': '[LAUGHTER]',\n",
       "  'n_words': 1,\n",
       "  'call_id': '05863',\n",
       "  'utterance_id': 'fe_03_05863-A-0096',\n",
       "  'speech': '',\n",
       "  'has_words': False,\n",
       "  'speaker': 'A',\n",
       "  'audio_fn': 'fe_03_05863.sph',\n",
       "  'duration': 15680,\n",
       "  'type': 'NIST_1A',\n",
       "  'start': 3934720,\n",
       "  'end': 3950400,\n",
       "  'channel': 1},\n",
       " {'speech_raw': '[LAUGHTER]',\n",
       "  'n_words': 1,\n",
       "  'call_id': '05863',\n",
       "  'utterance_id': 'fe_03_05863-A-0097',\n",
       "  'speech': '',\n",
       "  'has_words': False,\n",
       "  'speaker': 'A',\n",
       "  'audio_fn': 'fe_03_05863.sph',\n",
       "  'duration': 8160,\n",
       "  'type': 'NIST_1A',\n",
       "  'start': 3993360,\n",
       "  'end': 4001520,\n",
       "  'channel': 1},\n",
       " {'speech_raw': 'OH',\n",
       "  'n_words': 1,\n",
       "  'call_id': '05863',\n",
       "  'utterance_id': 'fe_03_05863-A-0098',\n",
       "  'speech': 'oh',\n",
       "  'has_words': True,\n",
       "  'speaker': 'A',\n",
       "  'audio_fn': 'fe_03_05863.sph',\n",
       "  'duration': 7360,\n",
       "  'type': 'NIST_1A',\n",
       "  'start': 4044320,\n",
       "  'end': 4051680,\n",
       "  'channel': 1},\n",
       " {'speech_raw': \"YEAH BUT WE CAN'T TALK [LAUGHTER] ABOUT THAT\",\n",
       "  'n_words': 7,\n",
       "  'call_id': '05863',\n",
       "  'utterance_id': 'fe_03_05863-A-0099',\n",
       "  'speech': \"yeah but we can't talk about that\",\n",
       "  'has_words': True,\n",
       "  'speaker': 'A',\n",
       "  'audio_fn': 'fe_03_05863.sph',\n",
       "  'duration': 22960,\n",
       "  'type': 'NIST_1A',\n",
       "  'start': 4059680,\n",
       "  'end': 4082640,\n",
       "  'channel': 1},\n",
       " {'speech_raw': 'WE HAVE TO TALK ABOUT WHAT THEY',\n",
       "  'n_words': 7,\n",
       "  'call_id': '05863',\n",
       "  'utterance_id': 'fe_03_05863-A-0100',\n",
       "  'speech': 'we have to talk about what they',\n",
       "  'has_words': True,\n",
       "  'speaker': 'A',\n",
       "  'audio_fn': 'fe_03_05863.sph',\n",
       "  'duration': 17600,\n",
       "  'type': 'NIST_1A',\n",
       "  'start': 4094960,\n",
       "  'end': 4112560,\n",
       "  'channel': 1},\n",
       " {'speech_raw': 'WANT US TO DO TODAY [SIGH]',\n",
       "  'n_words': 5,\n",
       "  'call_id': '05863',\n",
       "  'utterance_id': 'fe_03_05863-A-0101',\n",
       "  'speech': 'want us to do today',\n",
       "  'has_words': True,\n",
       "  'speaker': 'A',\n",
       "  'audio_fn': 'fe_03_05863.sph',\n",
       "  'duration': 18000,\n",
       "  'type': 'NIST_1A',\n",
       "  'start': 4118000,\n",
       "  'end': 4136000,\n",
       "  'channel': 1},\n",
       " {'speech_raw': 'SO',\n",
       "  'n_words': 1,\n",
       "  'call_id': '05863',\n",
       "  'utterance_id': 'fe_03_05863-A-0102',\n",
       "  'speech': 'so',\n",
       "  'has_words': True,\n",
       "  'speaker': 'A',\n",
       "  'audio_fn': 'fe_03_05863.sph',\n",
       "  'duration': 7760,\n",
       "  'type': 'NIST_1A',\n",
       "  'start': 4136480,\n",
       "  'end': 4144240,\n",
       "  'channel': 1},\n",
       " {'speech_raw': 'AND UH',\n",
       "  'n_words': 2,\n",
       "  'call_id': '05863',\n",
       "  'utterance_id': 'fe_03_05863-A-0103',\n",
       "  'speech': 'and uh',\n",
       "  'has_words': True,\n",
       "  'speaker': 'A',\n",
       "  'audio_fn': 'fe_03_05863.sph',\n",
       "  'duration': 9600,\n",
       "  'type': 'NIST_1A',\n",
       "  'start': 4153920,\n",
       "  'end': 4163520,\n",
       "  'channel': 1},\n",
       " {'speech_raw': \"WELL THEY'RE GOING TO KNOW WHEN THEY HEAR THIS UM RECORDING THAT WE BOTH AGREED AND THERE NOT MUCH MORE THAT WE CAN SAY\",\n",
       "  'n_words': 24,\n",
       "  'call_id': '05863',\n",
       "  'utterance_id': 'fe_03_05863-A-0104',\n",
       "  'speech': \"well they're going to know when they hear this um recording that we both agreed and there not much more that we can say\",\n",
       "  'has_words': True,\n",
       "  'speaker': 'A',\n",
       "  'audio_fn': 'fe_03_05863.sph',\n",
       "  'duration': 53680,\n",
       "  'type': 'NIST_1A',\n",
       "  'start': 4170640,\n",
       "  'end': 4224320,\n",
       "  'channel': 1},\n",
       " {'speech_raw': 'REALLY',\n",
       "  'n_words': 1,\n",
       "  'call_id': '05863',\n",
       "  'utterance_id': 'fe_03_05863-A-0105',\n",
       "  'speech': 'really',\n",
       "  'has_words': True,\n",
       "  'speaker': 'A',\n",
       "  'audio_fn': 'fe_03_05863.sph',\n",
       "  'duration': 7840,\n",
       "  'type': 'NIST_1A',\n",
       "  'start': 4225360,\n",
       "  'end': 4233200,\n",
       "  'channel': 1},\n",
       " {'speech_raw': 'RIGHT SO',\n",
       "  'n_words': 2,\n",
       "  'call_id': '05863',\n",
       "  'utterance_id': 'fe_03_05863-A-0106',\n",
       "  'speech': 'right so',\n",
       "  'has_words': True,\n",
       "  'speaker': 'A',\n",
       "  'audio_fn': 'fe_03_05863.sph',\n",
       "  'duration': 11600,\n",
       "  'type': 'NIST_1A',\n",
       "  'start': 4244960,\n",
       "  'end': 4256560,\n",
       "  'channel': 1},\n",
       " {'speech_raw': \"WE'RE JUST GOING TO HAVE TO WAIT FOR THE TEN MINUTES TO BE UP\",\n",
       "  'n_words': 14,\n",
       "  'call_id': '05863',\n",
       "  'utterance_id': 'fe_03_05863-A-0107',\n",
       "  'speech': \"we're just going to have to wait for the ten minutes to be up\",\n",
       "  'has_words': True,\n",
       "  'speaker': 'A',\n",
       "  'audio_fn': 'fe_03_05863.sph',\n",
       "  'duration': 26880,\n",
       "  'type': 'NIST_1A',\n",
       "  'start': 4257760,\n",
       "  'end': 4284640,\n",
       "  'channel': 1},\n",
       " {'speech_raw': \"[LAUGHTER] THAT'S RIGHT IT'S EARLY OVER THERE IT'S ALREADY EIGHT O'CLOCK HERE THAT'S RIGHT\",\n",
       "  'n_words': 13,\n",
       "  'call_id': '05863',\n",
       "  'utterance_id': 'fe_03_05863-A-0108',\n",
       "  'speech': \"that's right it's early over there it's already eight o'clock here that's right\",\n",
       "  'has_words': True,\n",
       "  'speaker': 'A',\n",
       "  'audio_fn': 'fe_03_05863.sph',\n",
       "  'duration': 39440,\n",
       "  'type': 'NIST_1A',\n",
       "  'start': 4325040,\n",
       "  'end': 4364480,\n",
       "  'channel': 1},\n",
       " {'speech_raw': 'YEAH MHM',\n",
       "  'n_words': 2,\n",
       "  'call_id': '05863',\n",
       "  'utterance_id': 'fe_03_05863-A-0109',\n",
       "  'speech': 'yeah mhm',\n",
       "  'has_words': True,\n",
       "  'speaker': 'A',\n",
       "  'audio_fn': 'fe_03_05863.sph',\n",
       "  'duration': 12480,\n",
       "  'type': 'NIST_1A',\n",
       "  'start': 4392240,\n",
       "  'end': 4404720,\n",
       "  'channel': 1},\n",
       " {'speech_raw': 'SO',\n",
       "  'n_words': 1,\n",
       "  'call_id': '05863',\n",
       "  'utterance_id': 'fe_03_05863-A-0110',\n",
       "  'speech': 'so',\n",
       "  'has_words': True,\n",
       "  'speaker': 'A',\n",
       "  'audio_fn': 'fe_03_05863.sph',\n",
       "  'duration': 6160,\n",
       "  'type': 'NIST_1A',\n",
       "  'start': 4408880,\n",
       "  'end': 4415040,\n",
       "  'channel': 1},\n",
       " {'speech_raw': 'GIVE ME MY BEST FRIEND',\n",
       "  'n_words': 5,\n",
       "  'call_id': '05863',\n",
       "  'utterance_id': 'fe_03_05863-A-0111',\n",
       "  'speech': 'give me my best friend',\n",
       "  'has_words': True,\n",
       "  'speaker': 'A',\n",
       "  'audio_fn': 'fe_03_05863.sph',\n",
       "  'duration': 15040,\n",
       "  'type': 'NIST_1A',\n",
       "  'start': 4435040,\n",
       "  'end': 4450080,\n",
       "  'channel': 1},\n",
       " {'speech_raw': \"THAT'S WHAT I SAY\",\n",
       "  'n_words': 4,\n",
       "  'call_id': '05863',\n",
       "  'utterance_id': 'fe_03_05863-A-0112',\n",
       "  'speech': \"that's what i say\",\n",
       "  'has_words': True,\n",
       "  'speaker': 'A',\n",
       "  'audio_fn': 'fe_03_05863.sph',\n",
       "  'duration': 11200,\n",
       "  'type': 'NIST_1A',\n",
       "  'start': 4458160,\n",
       "  'end': 4469360,\n",
       "  'channel': 1},\n",
       " {'speech_raw': \"THAT'S WHAT I SAY MHM\",\n",
       "  'n_words': 5,\n",
       "  'call_id': '05863',\n",
       "  'utterance_id': 'fe_03_05863-A-0113',\n",
       "  'speech': \"that's what i say mhm\",\n",
       "  'has_words': True,\n",
       "  'speaker': 'A',\n",
       "  'audio_fn': 'fe_03_05863.sph',\n",
       "  'duration': 9840,\n",
       "  'type': 'NIST_1A',\n",
       "  'start': 4482880,\n",
       "  'end': 4492720,\n",
       "  'channel': 1},\n",
       " {'speech_raw': 'YEP',\n",
       "  'n_words': 1,\n",
       "  'call_id': '05863',\n",
       "  'utterance_id': 'fe_03_05863-A-0114',\n",
       "  'speech': 'yep',\n",
       "  'has_words': True,\n",
       "  'speaker': 'A',\n",
       "  'audio_fn': 'fe_03_05863.sph',\n",
       "  'duration': 6960,\n",
       "  'type': 'NIST_1A',\n",
       "  'start': 4502800,\n",
       "  'end': 4509760,\n",
       "  'channel': 1},\n",
       " {'speech_raw': 'ALWAYS',\n",
       "  'n_words': 1,\n",
       "  'call_id': '05863',\n",
       "  'utterance_id': 'fe_03_05863-A-0115',\n",
       "  'speech': 'always',\n",
       "  'has_words': True,\n",
       "  'speaker': 'A',\n",
       "  'audio_fn': 'fe_03_05863.sph',\n",
       "  'duration': 9920,\n",
       "  'type': 'NIST_1A',\n",
       "  'start': 4511760,\n",
       "  'end': 4521680,\n",
       "  'channel': 1},\n",
       " {'speech_raw': 'ALWAYS THERE WHEN YOU NEED THEM IN HARD TIMES EVERYTHING AND GOOD TIMES RIGHT',\n",
       "  'n_words': 14,\n",
       "  'call_id': '05863',\n",
       "  'utterance_id': 'fe_03_05863-A-0116',\n",
       "  'speech': 'always there when you need them in hard times everything and good times right',\n",
       "  'has_words': True,\n",
       "  'speaker': 'A',\n",
       "  'audio_fn': 'fe_03_05863.sph',\n",
       "  'duration': 53760,\n",
       "  'type': 'NIST_1A',\n",
       "  'start': 4528800,\n",
       "  'end': 4582560,\n",
       "  'channel': 1},\n",
       " {'speech_raw': 'ALWAYS',\n",
       "  'n_words': 1,\n",
       "  'call_id': '05863',\n",
       "  'utterance_id': 'fe_03_05863-A-0117',\n",
       "  'speech': 'always',\n",
       "  'has_words': True,\n",
       "  'speaker': 'A',\n",
       "  'audio_fn': 'fe_03_05863.sph',\n",
       "  'duration': 10000,\n",
       "  'type': 'NIST_1A',\n",
       "  'start': 4586880,\n",
       "  'end': 4596880,\n",
       "  'channel': 1},\n",
       " {'speech_raw': 'ALWAYS THERE TO COMFORT YOU WHEN YOU NEED THEM',\n",
       "  'n_words': 9,\n",
       "  'call_id': '05863',\n",
       "  'utterance_id': 'fe_03_05863-A-0118',\n",
       "  'speech': 'always there to comfort you when you need them',\n",
       "  'has_words': True,\n",
       "  'speaker': 'A',\n",
       "  'audio_fn': 'fe_03_05863.sph',\n",
       "  'duration': 25520,\n",
       "  'type': 'NIST_1A',\n",
       "  'start': 4598240,\n",
       "  'end': 4623760,\n",
       "  'channel': 1},\n",
       " {'speech_raw': 'AND THAT AS YOU GET OLDER THE',\n",
       "  'n_words': 7,\n",
       "  'call_id': '05863',\n",
       "  'utterance_id': 'fe_03_05863-A-0119',\n",
       "  'speech': 'and that as you get older the',\n",
       "  'has_words': True,\n",
       "  'speaker': 'A',\n",
       "  'audio_fn': 'fe_03_05863.sph',\n",
       "  'duration': 16240,\n",
       "  'type': 'NIST_1A',\n",
       "  'start': 4638320,\n",
       "  'end': 4654560,\n",
       "  'channel': 1},\n",
       " {'speech_raw': \"LONGER YOU'RE TOGETHER THE LONGER YOU KNOW ONE ANOTHER\",\n",
       "  'n_words': 9,\n",
       "  'call_id': '05863',\n",
       "  'utterance_id': 'fe_03_05863-A-0120',\n",
       "  'speech': \"longer you're together the longer you know one another\",\n",
       "  'has_words': True,\n",
       "  'speaker': 'A',\n",
       "  'audio_fn': 'fe_03_05863.sph',\n",
       "  'duration': 25120,\n",
       "  'type': 'NIST_1A',\n",
       "  'start': 4656000,\n",
       "  'end': 4681120,\n",
       "  'channel': 1},\n",
       " {'speech_raw': 'YOU KNOW',\n",
       "  'n_words': 2,\n",
       "  'call_id': '05863',\n",
       "  'utterance_id': 'fe_03_05863-A-0121',\n",
       "  'speech': 'you know',\n",
       "  'has_words': True,\n",
       "  'speaker': 'A',\n",
       "  'audio_fn': 'fe_03_05863.sph',\n",
       "  'duration': 6640,\n",
       "  'type': 'NIST_1A',\n",
       "  'start': 4687600,\n",
       "  'end': 4694240,\n",
       "  'channel': 1},\n",
       " {'speech_raw': 'YEAH',\n",
       "  'n_words': 1,\n",
       "  'call_id': '05863',\n",
       "  'utterance_id': 'fe_03_05863-A-0122',\n",
       "  'speech': 'yeah',\n",
       "  'has_words': True,\n",
       "  'speaker': 'A',\n",
       "  'audio_fn': 'fe_03_05863.sph',\n",
       "  'duration': 8640,\n",
       "  'type': 'NIST_1A',\n",
       "  'start': 4702240,\n",
       "  'end': 4710880,\n",
       "  'channel': 1},\n",
       " {'speech_raw': 'YEP',\n",
       "  'n_words': 1,\n",
       "  'call_id': '05863',\n",
       "  'utterance_id': 'fe_03_05863-A-0123',\n",
       "  'speech': 'yep',\n",
       "  'has_words': True,\n",
       "  'speaker': 'A',\n",
       "  'audio_fn': 'fe_03_05863.sph',\n",
       "  'duration': 7120,\n",
       "  'type': 'NIST_1A',\n",
       "  'start': 4712240,\n",
       "  'end': 4719360,\n",
       "  'channel': 1},\n",
       " {'speech_raw': \"UH YOU'RE BREAKING UP\",\n",
       "  'n_words': 4,\n",
       "  'call_id': '05863',\n",
       "  'utterance_id': 'fe_03_05863-A-0124',\n",
       "  'speech': \"uh you're breaking up\",\n",
       "  'has_words': True,\n",
       "  'speaker': 'A',\n",
       "  'audio_fn': 'fe_03_05863.sph',\n",
       "  'duration': 13120,\n",
       "  'type': 'NIST_1A',\n",
       "  'start': 4725680,\n",
       "  'end': 4738800,\n",
       "  'channel': 1},\n",
       " {'speech_raw': \"ON ME THERE OOH THAT'S WHY UM I'M I'M LOSING YA\",\n",
       "  'n_words': 11,\n",
       "  'call_id': '05863',\n",
       "  'utterance_id': 'fe_03_05863-A-0125',\n",
       "  'speech': \"on me there ooh that's why um i'm i'm losing ya\",\n",
       "  'has_words': True,\n",
       "  'speaker': 'A',\n",
       "  'audio_fn': 'fe_03_05863.sph',\n",
       "  'duration': 27200,\n",
       "  'type': 'NIST_1A',\n",
       "  'start': 4772000,\n",
       "  'end': 4799200,\n",
       "  'channel': 1},\n",
       " {'speech_raw': 'HELLO MY NAME',\n",
       "  'n_words': 3,\n",
       "  'call_id': '05863',\n",
       "  'utterance_id': 'fe_03_05863-B-0001',\n",
       "  'speech': 'hello my name',\n",
       "  'has_words': True,\n",
       "  'speaker': 'B',\n",
       "  'audio_fn': 'fe_03_05863.sph',\n",
       "  'duration': 11760,\n",
       "  'type': 'NIST_1A',\n",
       "  'start': 2000,\n",
       "  'end': 13760,\n",
       "  'channel': 2},\n",
       " {'speech_raw': '[NOISE] HELLO HOW ARE YOU DOING MY',\n",
       "  'n_words': 6,\n",
       "  'call_id': '05863',\n",
       "  'utterance_id': 'fe_03_05863-B-0002',\n",
       "  'speech': 'hello how are you doing my',\n",
       "  'has_words': True,\n",
       "  'speaker': 'B',\n",
       "  'audio_fn': 'fe_03_05863.sph',\n",
       "  'duration': 12240,\n",
       "  'type': 'NIST_1A',\n",
       "  'start': 20240,\n",
       "  'end': 32480,\n",
       "  'channel': 2},\n",
       " {'speech_raw': \"NAME'S MONIQUE\",\n",
       "  'n_words': 2,\n",
       "  'call_id': '05863',\n",
       "  'utterance_id': 'fe_03_05863-B-0003',\n",
       "  'speech': \"name's monique\",\n",
       "  'has_words': True,\n",
       "  'speaker': 'B',\n",
       "  'audio_fn': 'fe_03_05863.sph',\n",
       "  'duration': 10400,\n",
       "  'type': 'NIST_1A',\n",
       "  'start': 50160,\n",
       "  'end': 60560,\n",
       "  'channel': 2},\n",
       " {'speech_raw': \"HOW'RE YOU DOING\",\n",
       "  'n_words': 3,\n",
       "  'call_id': '05863',\n",
       "  'utterance_id': 'fe_03_05863-B-0004',\n",
       "  'speech': \"how're you doing\",\n",
       "  'has_words': True,\n",
       "  'speaker': 'B',\n",
       "  'audio_fn': 'fe_03_05863.sph',\n",
       "  'duration': 8880,\n",
       "  'type': 'NIST_1A',\n",
       "  'start': 71360,\n",
       "  'end': 80240,\n",
       "  'channel': 2},\n",
       " {'speech_raw': 'PRETTY GOOD',\n",
       "  'n_words': 2,\n",
       "  'call_id': '05863',\n",
       "  'utterance_id': 'fe_03_05863-B-0005',\n",
       "  'speech': 'pretty good',\n",
       "  'has_words': True,\n",
       "  'speaker': 'B',\n",
       "  'audio_fn': 'fe_03_05863.sph',\n",
       "  'duration': 17360,\n",
       "  'type': 'NIST_1A',\n",
       "  'start': 89760,\n",
       "  'end': 107120,\n",
       "  'channel': 2},\n",
       " {'speech_raw': \"OKAY LET'S START THE CONVERSATION [LAUGHTER] I GUESS\",\n",
       "  'n_words': 7,\n",
       "  'call_id': '05863',\n",
       "  'utterance_id': 'fe_03_05863-B-0006',\n",
       "  'speech': \"okay let's start the conversation i guess\",\n",
       "  'has_words': True,\n",
       "  'speaker': 'B',\n",
       "  'audio_fn': 'fe_03_05863.sph',\n",
       "  'duration': 27920,\n",
       "  'type': 'NIST_1A',\n",
       "  'start': 107920,\n",
       "  'end': 135840,\n",
       "  'channel': 2},\n",
       " {'speech_raw': \"ME NEITHER MY BEST FRIEND'S NOT WORTH A MILL- MY BEST FRIEND'S WORTH THAN A BILLION DOLLARS WOULD NOT TRADE HER FOR THE WHOLE WORLD\",\n",
       "  'n_words': 25,\n",
       "  'call_id': '05863',\n",
       "  'utterance_id': 'fe_03_05863-B-0007',\n",
       "  'speech': \"me neither my best friend's not worth a <rem> my best friend's worth than a billion dollars would not trade her for the whole world\",\n",
       "  'has_words': True,\n",
       "  'speaker': 'B',\n",
       "  'audio_fn': 'fe_03_05863.sph',\n",
       "  'duration': 55360,\n",
       "  'type': 'NIST_1A',\n",
       "  'start': 161600,\n",
       "  'end': 216960,\n",
       "  'channel': 2},\n",
       " {'speech_raw': \"[NOISE] OH YEAH DEFINITELY AND IT'S LIKE TURNING ON LIKE OKAY\",\n",
       "  'n_words': 10,\n",
       "  'call_id': '05863',\n",
       "  'utterance_id': 'fe_03_05863-B-0008',\n",
       "  'speech': \"oh yeah definitely and it's like turning on like okay\",\n",
       "  'has_words': True,\n",
       "  'speaker': 'B',\n",
       "  'audio_fn': 'fe_03_05863.sph',\n",
       "  'duration': 23760,\n",
       "  'type': 'NIST_1A',\n",
       "  'start': 347920,\n",
       "  'end': 371680,\n",
       "  'channel': 2},\n",
       " {'speech_raw': 'LIKE',\n",
       "  'n_words': 1,\n",
       "  'call_id': '05863',\n",
       "  'utterance_id': 'fe_03_05863-B-0009',\n",
       "  'speech': 'like',\n",
       "  'has_words': True,\n",
       "  'speaker': 'B',\n",
       "  'audio_fn': 'fe_03_05863.sph',\n",
       "  'duration': 7360,\n",
       "  'type': 'NIST_1A',\n",
       "  'start': 373680,\n",
       "  'end': 381040,\n",
       "  'channel': 2},\n",
       " {'speech_raw': 'SAY THAT YOU WOULD RATHER YOUR FRIEND DIE RATHER THAN YOU KNOW',\n",
       "  'n_words': 12,\n",
       "  'call_id': '05863',\n",
       "  'utterance_id': 'fe_03_05863-B-0010',\n",
       "  'speech': 'say that you would rather your friend die rather than you know',\n",
       "  'has_words': True,\n",
       "  'speaker': 'B',\n",
       "  'audio_fn': 'fe_03_05863.sph',\n",
       "  'duration': 27280,\n",
       "  'type': 'NIST_1A',\n",
       "  'start': 382080,\n",
       "  'end': 409360,\n",
       "  'channel': 2},\n",
       " {'speech_raw': '[LAUGHTER]',\n",
       "  'n_words': 1,\n",
       "  'call_id': '05863',\n",
       "  'utterance_id': 'fe_03_05863-B-0011',\n",
       "  'speech': '',\n",
       "  'has_words': False,\n",
       "  'speaker': 'B',\n",
       "  'audio_fn': 'fe_03_05863.sph',\n",
       "  'duration': 6960,\n",
       "  'type': 'NIST_1A',\n",
       "  'start': 411920,\n",
       "  'end': 418880,\n",
       "  'channel': 2},\n",
       " {'speech_raw': \"[MN] THAT'S LIKE MM I DON'T BELIEVE IN THAT IF YOU\",\n",
       "  'n_words': 10,\n",
       "  'call_id': '05863',\n",
       "  'utterance_id': 'fe_03_05863-B-0012',\n",
       "  'speech': \"that's like mm i don't believe in that if you\",\n",
       "  'has_words': True,\n",
       "  'speaker': 'B',\n",
       "  'audio_fn': 'fe_03_05863.sph',\n",
       "  'duration': 33920,\n",
       "  'type': 'NIST_1A',\n",
       "  'start': 424400,\n",
       "  'end': 458320,\n",
       "  'channel': 2},\n",
       " {'speech_raw': 'AMEN I THINK THAT YOU KNOW A FEW IF YOU ARE FRIENDS WITH THAT PERSON YOU WANT TO TURN THEIR BACKS',\n",
       "  'n_words': 21,\n",
       "  'call_id': '05863',\n",
       "  'utterance_id': 'fe_03_05863-B-0013',\n",
       "  'speech': 'amen i think that you know a few if you are friends with that person you want to turn their backs',\n",
       "  'has_words': True,\n",
       "  'speaker': 'B',\n",
       "  'audio_fn': 'fe_03_05863.sph',\n",
       "  'duration': 44720,\n",
       "  'type': 'NIST_1A',\n",
       "  'start': 519760,\n",
       "  'end': 564480,\n",
       "  'channel': 2},\n",
       " {'speech_raw': \"THEY THEY WON'T TURN THEIR BACK ON YOU SAME AS YOU WOULDN'T TURN THEIR BACK ON THEM YOU BET\",\n",
       "  'n_words': 19,\n",
       "  'call_id': '05863',\n",
       "  'utterance_id': 'fe_03_05863-B-0014',\n",
       "  'speech': \"they they won't turn their back on you same as you wouldn't turn their back on them you bet\",\n",
       "  'has_words': True,\n",
       "  'speaker': 'B',\n",
       "  'audio_fn': 'fe_03_05863.sph',\n",
       "  'duration': 49680,\n",
       "  'type': 'NIST_1A',\n",
       "  'start': 564640,\n",
       "  'end': 614320,\n",
       "  'channel': 2},\n",
       " {'speech_raw': 'YEAH IF IF IF YOU DO TURN YOUR BACK ON YOUR BEST FRIEND THEN',\n",
       "  'n_words': 14,\n",
       "  'call_id': '05863',\n",
       "  'utterance_id': 'fe_03_05863-B-0015',\n",
       "  'speech': 'yeah if if if you do turn your back on your best friend then',\n",
       "  'has_words': True,\n",
       "  'speaker': 'B',\n",
       "  'audio_fn': 'fe_03_05863.sph',\n",
       "  'duration': 29280,\n",
       "  'type': 'NIST_1A',\n",
       "  'start': 621680,\n",
       "  'end': 650960,\n",
       "  'channel': 2},\n",
       " {'speech_raw': \"Y- YOU DON'T DESERVE THAT PERSON YOU KNOW\",\n",
       "  'n_words': 8,\n",
       "  'call_id': '05863',\n",
       "  'utterance_id': 'fe_03_05863-B-0016',\n",
       "  'speech': \"<rem> you don't deserve that person you know\",\n",
       "  'has_words': True,\n",
       "  'speaker': 'B',\n",
       "  'audio_fn': 'fe_03_05863.sph',\n",
       "  'duration': 22480,\n",
       "  'type': 'NIST_1A',\n",
       "  'start': 652560,\n",
       "  'end': 675040,\n",
       "  'channel': 2},\n",
       " {'speech_raw': \"IS NOT WORTH AS MUCH AS THE PERSON'S LIFE OR YOUR BEST FRIEND FOR EXAMPLE\",\n",
       "  'n_words': 15,\n",
       "  'call_id': '05863',\n",
       "  'utterance_id': 'fe_03_05863-B-0017',\n",
       "  'speech': \"is not worth as much as the person's life or your best friend for example\",\n",
       "  'has_words': True,\n",
       "  'speaker': 'B',\n",
       "  'audio_fn': 'fe_03_05863.sph',\n",
       "  'duration': 44640,\n",
       "  'type': 'NIST_1A',\n",
       "  'start': 684480,\n",
       "  'end': 729120,\n",
       "  'channel': 2},\n",
       " {'speech_raw': '[NOISE]',\n",
       "  'n_words': 1,\n",
       "  'call_id': '05863',\n",
       "  'utterance_id': 'fe_03_05863-B-0018',\n",
       "  'speech': '',\n",
       "  'has_words': False,\n",
       "  'speaker': 'B',\n",
       "  'audio_fn': 'fe_03_05863.sph',\n",
       "  'duration': 6720,\n",
       "  'type': 'NIST_1A',\n",
       "  'start': 732720,\n",
       "  'end': 739440,\n",
       "  'channel': 2},\n",
       " {'speech_raw': 'MM MM',\n",
       "  'n_words': 2,\n",
       "  'call_id': '05863',\n",
       "  'utterance_id': 'fe_03_05863-B-0019',\n",
       "  'speech': 'mm mm',\n",
       "  'has_words': True,\n",
       "  'speaker': 'B',\n",
       "  'audio_fn': 'fe_03_05863.sph',\n",
       "  'duration': 6560,\n",
       "  'type': 'NIST_1A',\n",
       "  'start': 755440,\n",
       "  'end': 762000,\n",
       "  'channel': 2},\n",
       " {'speech_raw': 'AMEN',\n",
       "  'n_words': 1,\n",
       "  'call_id': '05863',\n",
       "  'utterance_id': 'fe_03_05863-B-0020',\n",
       "  'speech': 'amen',\n",
       "  'has_words': True,\n",
       "  'speaker': 'B',\n",
       "  'audio_fn': 'fe_03_05863.sph',\n",
       "  'duration': 8880,\n",
       "  'type': 'NIST_1A',\n",
       "  'start': 785440,\n",
       "  'end': 794320,\n",
       "  'channel': 2},\n",
       " {'speech_raw': '[LAUGHTER] OH BOY [SIGH]',\n",
       "  'n_words': 2,\n",
       "  'call_id': '05863',\n",
       "  'utterance_id': 'fe_03_05863-B-0021',\n",
       "  'speech': 'oh boy',\n",
       "  'has_words': True,\n",
       "  'speaker': 'B',\n",
       "  'audio_fn': 'fe_03_05863.sph',\n",
       "  'duration': 33600,\n",
       "  'type': 'NIST_1A',\n",
       "  'start': 806960,\n",
       "  'end': 840560,\n",
       "  'channel': 2},\n",
       " {'speech_raw': \"LET'S SEE LET'S SEE\",\n",
       "  'n_words': 4,\n",
       "  'call_id': '05863',\n",
       "  'utterance_id': 'fe_03_05863-B-0022',\n",
       "  'speech': \"let's see let's see\",\n",
       "  'has_words': True,\n",
       "  'speaker': 'B',\n",
       "  'audio_fn': 'fe_03_05863.sph',\n",
       "  'duration': 17360,\n",
       "  'type': 'NIST_1A',\n",
       "  'start': 843120,\n",
       "  'end': 860480,\n",
       "  'channel': 2},\n",
       " {'speech_raw': \"OH YEAH I MEAN IF WE DIDN'T AGREE THEN IT'S LIKE OH MAN I COULD FOR HOURS BUT\",\n",
       "  'n_words': 18,\n",
       "  'call_id': '05863',\n",
       "  'utterance_id': 'fe_03_05863-B-0023',\n",
       "  'speech': \"oh yeah i mean if we didn't agree then it's like oh man i could for hours but\",\n",
       "  'has_words': True,\n",
       "  'speaker': 'B',\n",
       "  'audio_fn': 'fe_03_05863.sph',\n",
       "  'duration': 40240,\n",
       "  'type': 'NIST_1A',\n",
       "  'start': 918480,\n",
       "  'end': 958720,\n",
       "  'channel': 2},\n",
       " {'speech_raw': \"BUT IT NO WE AGREE THAT'S I\",\n",
       "  'n_words': 7,\n",
       "  'call_id': '05863',\n",
       "  'utterance_id': 'fe_03_05863-B-0024',\n",
       "  'speech': \"but it no we agree that's i\",\n",
       "  'has_words': True,\n",
       "  'speaker': 'B',\n",
       "  'audio_fn': 'fe_03_05863.sph',\n",
       "  'duration': 21200,\n",
       "  'type': 'NIST_1A',\n",
       "  'start': 969040,\n",
       "  'end': 990240,\n",
       "  'channel': 2},\n",
       " {'speech_raw': \"WOULDN'T PUT IT THIS WAY IF I [NOISE] COULDN'T MY BEST FRIEND FOR THE WHOLE WORLD IF I HAD A CHOICE\",\n",
       "  'n_words': 20,\n",
       "  'call_id': '05863',\n",
       "  'utterance_id': 'fe_03_05863-B-0025',\n",
       "  'speech': \"wouldn't put it this way if i couldn't my best friend for the whole world if i had a choice\",\n",
       "  'has_words': True,\n",
       "  'speaker': 'B',\n",
       "  'audio_fn': 'fe_03_05863.sph',\n",
       "  'duration': 39600,\n",
       "  'type': 'NIST_1A',\n",
       "  'start': 991680,\n",
       "  'end': 1031280,\n",
       "  'channel': 2},\n",
       " {'speech_raw': 'ESPECIALLY THE FRIEND AND TO ME MY BEST FRIEND IS LIKE A PART OF MY FAMILY YOU KNOW',\n",
       "  'n_words': 18,\n",
       "  'call_id': '05863',\n",
       "  'utterance_id': 'fe_03_05863-B-0026',\n",
       "  'speech': 'especially the friend and to me my best friend is like a part of my family you know',\n",
       "  'has_words': True,\n",
       "  'speaker': 'B',\n",
       "  'audio_fn': 'fe_03_05863.sph',\n",
       "  'duration': 46640,\n",
       "  'type': 'NIST_1A',\n",
       "  'start': 1036160,\n",
       "  'end': 1082800,\n",
       "  'channel': 2},\n",
       " {'speech_raw': 'YOU KNOW',\n",
       "  'n_words': 2,\n",
       "  'call_id': '05863',\n",
       "  'utterance_id': 'fe_03_05863-B-0027',\n",
       "  'speech': 'you know',\n",
       "  'has_words': True,\n",
       "  'speaker': 'B',\n",
       "  'audio_fn': 'fe_03_05863.sph',\n",
       "  'duration': 7360,\n",
       "  'type': 'NIST_1A',\n",
       "  'start': 1083360,\n",
       "  'end': 1090720,\n",
       "  'channel': 2},\n",
       " {'speech_raw': 'OOPS',\n",
       "  'n_words': 1,\n",
       "  'call_id': '05863',\n",
       "  'utterance_id': 'fe_03_05863-B-0028',\n",
       "  'speech': 'oops',\n",
       "  'has_words': True,\n",
       "  'speaker': 'B',\n",
       "  'audio_fn': 'fe_03_05863.sph',\n",
       "  'duration': 7840,\n",
       "  'type': 'NIST_1A',\n",
       "  'start': 1162560,\n",
       "  'end': 1170400,\n",
       "  'channel': 2},\n",
       " {'speech_raw': '[NOISE]',\n",
       "  'n_words': 1,\n",
       "  'call_id': '05863',\n",
       "  'utterance_id': 'fe_03_05863-B-0029',\n",
       "  'speech': '',\n",
       "  'has_words': False,\n",
       "  'speaker': 'B',\n",
       "  'audio_fn': 'fe_03_05863.sph',\n",
       "  'duration': 4720,\n",
       "  'type': 'NIST_1A',\n",
       "  'start': 1208480,\n",
       "  'end': 1213200,\n",
       "  'channel': 2},\n",
       " {'speech_raw': 'OH',\n",
       "  'n_words': 1,\n",
       "  'call_id': '05863',\n",
       "  'utterance_id': 'fe_03_05863-B-0030',\n",
       "  'speech': 'oh',\n",
       "  'has_words': True,\n",
       "  'speaker': 'B',\n",
       "  'audio_fn': 'fe_03_05863.sph',\n",
       "  'duration': 8720,\n",
       "  'type': 'NIST_1A',\n",
       "  'start': 1214960,\n",
       "  'end': 1223680,\n",
       "  'channel': 2},\n",
       " {'speech_raw': \"MAN THAT'S REALLY COOL\",\n",
       "  'n_words': 4,\n",
       "  'call_id': '05863',\n",
       "  'utterance_id': 'fe_03_05863-B-0031',\n",
       "  'speech': \"man that's really cool\",\n",
       "  'has_words': True,\n",
       "  'speaker': 'B',\n",
       "  'audio_fn': 'fe_03_05863.sph',\n",
       "  'duration': 14000,\n",
       "  'type': 'NIST_1A',\n",
       "  'start': 1264720,\n",
       "  'end': 1278720,\n",
       "  'channel': 2},\n",
       " {'speech_raw': \"YEAH MY MY BEST FRIEND WE MET LIKE AT LEAST SIX YEARS AGO AND WE'VE BEEN WE'VE BEEN BEST FRIENDS SINCE THEN I MEAN WE'RE LIKE WE COULD FINISH EACH OTHER'S SENTENCES YOU KNOW LIKE\",\n",
       "  'n_words': 35,\n",
       "  'call_id': '05863',\n",
       "  'utterance_id': 'fe_03_05863-B-0032',\n",
       "  'speech': \"yeah my my best friend we met like at least six years ago and we've been we've been best friends since then i mean we're like we could finish each other's sentences you know like\",\n",
       "  'has_words': True,\n",
       "  'speaker': 'B',\n",
       "  'audio_fn': 'fe_03_05863.sph',\n",
       "  'duration': 89360,\n",
       "  'type': 'NIST_1A',\n",
       "  'start': 1281920,\n",
       "  'end': 1371280,\n",
       "  'channel': 2},\n",
       " {'speech_raw': \"OH IT'S CRAZY\",\n",
       "  'n_words': 3,\n",
       "  'call_id': '05863',\n",
       "  'utterance_id': 'fe_03_05863-B-0033',\n",
       "  'speech': \"oh it's crazy\",\n",
       "  'has_words': True,\n",
       "  'speaker': 'B',\n",
       "  'audio_fn': 'fe_03_05863.sph',\n",
       "  'duration': 12240,\n",
       "  'type': 'NIST_1A',\n",
       "  'start': 1372160,\n",
       "  'end': 1384400,\n",
       "  'channel': 2},\n",
       " {'speech_raw': 'UH-HUH',\n",
       "  'n_words': 1,\n",
       "  'call_id': '05863',\n",
       "  'utterance_id': 'fe_03_05863-B-0034',\n",
       "  'speech': 'uh-huh',\n",
       "  'has_words': True,\n",
       "  'speaker': 'B',\n",
       "  'audio_fn': 'fe_03_05863.sph',\n",
       "  'duration': 6480,\n",
       "  'type': 'NIST_1A',\n",
       "  'start': 1456400,\n",
       "  'end': 1462880,\n",
       "  'channel': 2},\n",
       " {'speech_raw': 'UH-HUH',\n",
       "  'n_words': 1,\n",
       "  'call_id': '05863',\n",
       "  'utterance_id': 'fe_03_05863-B-0035',\n",
       "  'speech': 'uh-huh',\n",
       "  'has_words': True,\n",
       "  'speaker': 'B',\n",
       "  'audio_fn': 'fe_03_05863.sph',\n",
       "  'duration': 8320,\n",
       "  'type': 'NIST_1A',\n",
       "  'start': 1468640,\n",
       "  'end': 1476960,\n",
       "  'channel': 2},\n",
       " {'speech_raw': 'AMEN',\n",
       "  'n_words': 1,\n",
       "  'call_id': '05863',\n",
       "  'utterance_id': 'fe_03_05863-B-0036',\n",
       "  'speech': 'amen',\n",
       "  'has_words': True,\n",
       "  'speaker': 'B',\n",
       "  'audio_fn': 'fe_03_05863.sph',\n",
       "  'duration': 9200,\n",
       "  'type': 'NIST_1A',\n",
       "  'start': 1502160,\n",
       "  'end': 1511360,\n",
       "  'channel': 2},\n",
       " {'speech_raw': \"NO IT'S NOT WORTH IT\",\n",
       "  'n_words': 5,\n",
       "  'call_id': '05863',\n",
       "  'utterance_id': 'fe_03_05863-B-0037',\n",
       "  'speech': \"no it's not worth it\",\n",
       "  'has_words': True,\n",
       "  'speaker': 'B',\n",
       "  'audio_fn': 'fe_03_05863.sph',\n",
       "  'duration': 19360,\n",
       "  'type': 'NIST_1A',\n",
       "  'start': 1554800,\n",
       "  'end': 1574160,\n",
       "  'channel': 2},\n",
       " {'speech_raw': 'NOT IN YEAH',\n",
       "  'n_words': 3,\n",
       "  'call_id': '05863',\n",
       "  'utterance_id': 'fe_03_05863-B-0038',\n",
       "  'speech': 'not in yeah',\n",
       "  'has_words': True,\n",
       "  'speaker': 'B',\n",
       "  'audio_fn': 'fe_03_05863.sph',\n",
       "  'duration': 15760,\n",
       "  'type': 'NIST_1A',\n",
       "  'start': 1585760,\n",
       "  'end': 1601520,\n",
       "  'channel': 2},\n",
       " {'speech_raw': 'YOU LIVE IN CALIFORNIA',\n",
       "  'n_words': 4,\n",
       "  'call_id': '05863',\n",
       "  'utterance_id': 'fe_03_05863-B-0039',\n",
       "  'speech': 'you live in california',\n",
       "  'has_words': True,\n",
       "  'speaker': 'B',\n",
       "  'audio_fn': 'fe_03_05863.sph',\n",
       "  'duration': 11680,\n",
       "  'type': 'NIST_1A',\n",
       "  'start': 1609280,\n",
       "  'end': 1620960,\n",
       "  'channel': 2},\n",
       " {'speech_raw': \"I'M IN CALIFORNIA SO I KNOW I'M IN 'CISCO\",\n",
       "  'n_words': 9,\n",
       "  'call_id': '05863',\n",
       "  'utterance_id': 'fe_03_05863-B-0040',\n",
       "  'speech': \"i'm in california so i know i'm in 'cisco\",\n",
       "  'has_words': True,\n",
       "  'speaker': 'B',\n",
       "  'audio_fn': 'fe_03_05863.sph',\n",
       "  'duration': 27920,\n",
       "  'type': 'NIST_1A',\n",
       "  'start': 1634880,\n",
       "  'end': 1662800,\n",
       "  'channel': 2},\n",
       " {'speech_raw': 'SAN FRANCISCO IS LIKE WHERE THE HOUSES ARE OVER TWO MILLION DOLLARS',\n",
       "  'n_words': 12,\n",
       "  'call_id': '05863',\n",
       "  'utterance_id': 'fe_03_05863-B-0041',\n",
       "  'speech': 'san francisco is like where the houses are over two million dollars',\n",
       "  'has_words': True,\n",
       "  'speaker': 'B',\n",
       "  'audio_fn': 'fe_03_05863.sph',\n",
       "  'duration': 28720,\n",
       "  'type': 'NIST_1A',\n",
       "  'start': 1675440,\n",
       "  'end': 1704160,\n",
       "  'channel': 2},\n",
       " {'speech_raw': '[LAUGHTER]',\n",
       "  'n_words': 1,\n",
       "  'call_id': '05863',\n",
       "  'utterance_id': 'fe_03_05863-B-0042',\n",
       "  'speech': '',\n",
       "  'has_words': False,\n",
       "  'speaker': 'B',\n",
       "  'audio_fn': 'fe_03_05863.sph',\n",
       "  'duration': 9280,\n",
       "  'type': 'NIST_1A',\n",
       "  'start': 1706560,\n",
       "  'end': 1715840,\n",
       "  'channel': 2},\n",
       " {'speech_raw': '[NOISE] MHM',\n",
       "  'n_words': 1,\n",
       "  'call_id': '05863',\n",
       "  'utterance_id': 'fe_03_05863-B-0043',\n",
       "  'speech': 'mhm',\n",
       "  'has_words': True,\n",
       "  'speaker': 'B',\n",
       "  'audio_fn': 'fe_03_05863.sph',\n",
       "  'duration': 14800,\n",
       "  'type': 'NIST_1A',\n",
       "  'start': 1779600,\n",
       "  'end': 1794400,\n",
       "  'channel': 2},\n",
       " {'speech_raw': 'NEITHER',\n",
       "  'n_words': 1,\n",
       "  'call_id': '05863',\n",
       "  'utterance_id': 'fe_03_05863-B-0044',\n",
       "  'speech': 'neither',\n",
       "  'has_words': True,\n",
       "  'speaker': 'B',\n",
       "  'audio_fn': 'fe_03_05863.sph',\n",
       "  'duration': 7120,\n",
       "  'type': 'NIST_1A',\n",
       "  'start': 1812960,\n",
       "  'end': 1820080,\n",
       "  'channel': 2},\n",
       " {'speech_raw': 'MAN',\n",
       "  'n_words': 1,\n",
       "  'call_id': '05863',\n",
       "  'utterance_id': 'fe_03_05863-B-0045',\n",
       "  'speech': 'man',\n",
       "  'has_words': True,\n",
       "  'speaker': 'B',\n",
       "  'audio_fn': 'fe_03_05863.sph',\n",
       "  'duration': 7520,\n",
       "  'type': 'NIST_1A',\n",
       "  'start': 1829200,\n",
       "  'end': 1836720,\n",
       "  'channel': 2},\n",
       " {'speech_raw': 'THESE SOME OF THESE TOPICS ARE HARD TO DISCUSS YOU KNOW',\n",
       "  'n_words': 11,\n",
       "  'call_id': '05863',\n",
       "  'utterance_id': 'fe_03_05863-B-0046',\n",
       "  'speech': 'these some of these topics are hard to discuss you know',\n",
       "  'has_words': True,\n",
       "  'speaker': 'B',\n",
       "  'audio_fn': 'fe_03_05863.sph',\n",
       "  'duration': 25120,\n",
       "  'type': 'NIST_1A',\n",
       "  'start': 1840880,\n",
       "  'end': 1866000,\n",
       "  'channel': 2},\n",
       " {'speech_raw': 'YEAH TEN MINUTES IS A BIT LONG',\n",
       "  'n_words': 7,\n",
       "  'call_id': '05863',\n",
       "  'utterance_id': 'fe_03_05863-B-0047',\n",
       "  'speech': 'yeah ten minutes is a bit long',\n",
       "  'has_words': True,\n",
       "  'speaker': 'B',\n",
       "  'audio_fn': 'fe_03_05863.sph',\n",
       "  'duration': 25360,\n",
       "  'type': 'NIST_1A',\n",
       "  'start': 1951200,\n",
       "  'end': 1976560,\n",
       "  'channel': 2},\n",
       " {'speech_raw': '[LAUGHTER]',\n",
       "  'n_words': 1,\n",
       "  'call_id': '05863',\n",
       "  'utterance_id': 'fe_03_05863-B-0048',\n",
       "  'speech': '',\n",
       "  'has_words': False,\n",
       "  'speaker': 'B',\n",
       "  'audio_fn': 'fe_03_05863.sph',\n",
       "  'duration': 13040,\n",
       "  'type': 'NIST_1A',\n",
       "  'start': 1979760,\n",
       "  'end': 1992800,\n",
       "  'channel': 2},\n",
       " {'speech_raw': \"[NOISE] OOH I'D BE LIKE OKAY TURN IT OKAY LET 'EM GIVE ME 'NOTHER TWO HOURS OF\",\n",
       "  'n_words': 16,\n",
       "  'call_id': '05863',\n",
       "  'utterance_id': 'fe_03_05863-B-0049',\n",
       "  'speech': \"ooh i'd be like okay turn it okay let 'em give me 'nother two hours of\",\n",
       "  'has_words': True,\n",
       "  'speaker': 'B',\n",
       "  'audio_fn': 'fe_03_05863.sph',\n",
       "  'duration': 36880,\n",
       "  'type': 'NIST_1A',\n",
       "  'start': 2024880,\n",
       "  'end': 2061760,\n",
       "  'channel': 2},\n",
       " {'speech_raw': '[LAUGHTER]',\n",
       "  'n_words': 1,\n",
       "  'call_id': '05863',\n",
       "  'utterance_id': 'fe_03_05863-B-0050',\n",
       "  'speech': '',\n",
       "  'has_words': False,\n",
       "  'speaker': 'B',\n",
       "  'audio_fn': 'fe_03_05863.sph',\n",
       "  'duration': 24960,\n",
       "  'type': 'NIST_1A',\n",
       "  'start': 2062640,\n",
       "  'end': 2087600,\n",
       "  'channel': 2},\n",
       " {'speech_raw': \"OH NO LET'S NOT GET STARTED WITH POLITICIANS [LAUGHTER] [MN] [NOISE] [MN]\",\n",
       "  'n_words': 8,\n",
       "  'call_id': '05863',\n",
       "  'utterance_id': 'fe_03_05863-B-0051',\n",
       "  'speech': \"oh no let's not get started with politicians\",\n",
       "  'has_words': True,\n",
       "  'speaker': 'B',\n",
       "  'audio_fn': 'fe_03_05863.sph',\n",
       "  'duration': 39760,\n",
       "  'type': 'NIST_1A',\n",
       "  'start': 2094880,\n",
       "  'end': 2134640,\n",
       "  'channel': 2},\n",
       " {'speech_raw': 'DEE DEE DEE',\n",
       "  'n_words': 3,\n",
       "  'call_id': '05863',\n",
       "  'utterance_id': 'fe_03_05863-B-0052',\n",
       "  'speech': 'dee dee dee',\n",
       "  'has_words': True,\n",
       "  'speaker': 'B',\n",
       "  'audio_fn': 'fe_03_05863.sph',\n",
       "  'duration': 15360,\n",
       "  'type': 'NIST_1A',\n",
       "  'start': 2196800,\n",
       "  'end': 2212160,\n",
       "  'channel': 2},\n",
       " {'speech_raw': 'MHM [LAUGHTER] BLAH',\n",
       "  'n_words': 2,\n",
       "  'call_id': '05863',\n",
       "  'utterance_id': 'fe_03_05863-B-0053',\n",
       "  'speech': 'mhm blah',\n",
       "  'has_words': True,\n",
       "  'speaker': 'B',\n",
       "  'audio_fn': 'fe_03_05863.sph',\n",
       "  'duration': 36240,\n",
       "  'type': 'NIST_1A',\n",
       "  'start': 2212240,\n",
       "  'end': 2248480,\n",
       "  'channel': 2},\n",
       " {'speech_raw': 'DE',\n",
       "  'n_words': 1,\n",
       "  'call_id': '05863',\n",
       "  'utterance_id': 'fe_03_05863-B-0054',\n",
       "  'speech': 'de',\n",
       "  'has_words': True,\n",
       "  'speaker': 'B',\n",
       "  'audio_fn': 'fe_03_05863.sph',\n",
       "  'duration': 4720,\n",
       "  'type': 'NIST_1A',\n",
       "  'start': 2268240,\n",
       "  'end': 2272960,\n",
       "  'channel': 2},\n",
       " {'speech_raw': 'BLAH',\n",
       "  'n_words': 1,\n",
       "  'call_id': '05863',\n",
       "  'utterance_id': 'fe_03_05863-B-0055',\n",
       "  'speech': 'blah',\n",
       "  'has_words': True,\n",
       "  'speaker': 'B',\n",
       "  'audio_fn': 'fe_03_05863.sph',\n",
       "  'duration': 6640,\n",
       "  'type': 'NIST_1A',\n",
       "  'start': 2292320,\n",
       "  'end': 2298960,\n",
       "  'channel': 2},\n",
       " {'speech_raw': 'HM',\n",
       "  'n_words': 1,\n",
       "  'call_id': '05863',\n",
       "  'utterance_id': 'fe_03_05863-B-0056',\n",
       "  'speech': 'hm',\n",
       "  'has_words': True,\n",
       "  'speaker': 'B',\n",
       "  'audio_fn': 'fe_03_05863.sph',\n",
       "  'duration': 7520,\n",
       "  'type': 'NIST_1A',\n",
       "  'start': 2310800,\n",
       "  'end': 2318320,\n",
       "  'channel': 2},\n",
       " {'speech_raw': 'HELLO',\n",
       "  'n_words': 1,\n",
       "  'call_id': '05863',\n",
       "  'utterance_id': 'fe_03_05863-B-0057',\n",
       "  'speech': 'hello',\n",
       "  'has_words': True,\n",
       "  'speaker': 'B',\n",
       "  'audio_fn': 'fe_03_05863.sph',\n",
       "  'duration': 7120,\n",
       "  'type': 'NIST_1A',\n",
       "  'start': 2325520,\n",
       "  'end': 2332640,\n",
       "  'channel': 2},\n",
       " {'speech_raw': 'OKAY I THOUGHT I LOST YOU',\n",
       "  'n_words': 6,\n",
       "  'call_id': '05863',\n",
       "  'utterance_id': 'fe_03_05863-B-0058',\n",
       "  'speech': 'okay i thought i lost you',\n",
       "  'has_words': True,\n",
       "  'speaker': 'B',\n",
       "  'audio_fn': 'fe_03_05863.sph',\n",
       "  'duration': 14240,\n",
       "  'type': 'NIST_1A',\n",
       "  'start': 2337440,\n",
       "  'end': 2351680,\n",
       "  'channel': 2},\n",
       " {'speech_raw': 'HM',\n",
       "  'n_words': 1,\n",
       "  'call_id': '05863',\n",
       "  'utterance_id': 'fe_03_05863-B-0059',\n",
       "  'speech': 'hm',\n",
       "  'has_words': True,\n",
       "  'speaker': 'B',\n",
       "  'audio_fn': 'fe_03_05863.sph',\n",
       "  'duration': 6640,\n",
       "  'type': 'NIST_1A',\n",
       "  'start': 2399040,\n",
       "  'end': 2405680,\n",
       "  'channel': 2},\n",
       " {'speech_raw': \"ME NEITHER I'M STUMPED [LAUGHTER]\",\n",
       "  'n_words': 4,\n",
       "  'call_id': '05863',\n",
       "  'utterance_id': 'fe_03_05863-B-0060',\n",
       "  'speech': \"me neither i'm stumped\",\n",
       "  'has_words': True,\n",
       "  'speaker': 'B',\n",
       "  'audio_fn': 'fe_03_05863.sph',\n",
       "  'duration': 22640,\n",
       "  'type': 'NIST_1A',\n",
       "  'start': 2433600,\n",
       "  'end': 2456240,\n",
       "  'channel': 2},\n",
       " {'speech_raw': 'THIS IS THE SECOND TIME THAT I GOT THIS CALL THAT I GOT STUMPED [NOISE]',\n",
       "  'n_words': 14,\n",
       "  'call_id': '05863',\n",
       "  'utterance_id': 'fe_03_05863-B-0061',\n",
       "  'speech': 'this is the second time that i got this call that i got stumped',\n",
       "  'has_words': True,\n",
       "  'speaker': 'B',\n",
       "  'audio_fn': 'fe_03_05863.sph',\n",
       "  'duration': 33200,\n",
       "  'type': 'NIST_1A',\n",
       "  'start': 2461520,\n",
       "  'end': 2494720,\n",
       "  'channel': 2},\n",
       " {'speech_raw': '[NOISE]',\n",
       "  'n_words': 1,\n",
       "  'call_id': '05863',\n",
       "  'utterance_id': 'fe_03_05863-B-0062',\n",
       "  'speech': '',\n",
       "  'has_words': False,\n",
       "  'speaker': 'B',\n",
       "  'audio_fn': 'fe_03_05863.sph',\n",
       "  'duration': 6080,\n",
       "  'type': 'NIST_1A',\n",
       "  'start': 2605760,\n",
       "  'end': 2611840,\n",
       "  'channel': 2},\n",
       " {'speech_raw': \"OH YEAH THAT'D\",\n",
       "  'n_words': 3,\n",
       "  'call_id': '05863',\n",
       "  'utterance_id': 'fe_03_05863-B-0063',\n",
       "  'speech': \"oh yeah that'd\",\n",
       "  'has_words': True,\n",
       "  'speaker': 'B',\n",
       "  'audio_fn': 'fe_03_05863.sph',\n",
       "  'duration': 23200,\n",
       "  'type': 'NIST_1A',\n",
       "  'start': 2617520,\n",
       "  'end': 2640720,\n",
       "  'channel': 2},\n",
       " {'speech_raw': 'BE COOL AMEN [NOISE]',\n",
       "  'n_words': 3,\n",
       "  'call_id': '05863',\n",
       "  'utterance_id': 'fe_03_05863-B-0064',\n",
       "  'speech': 'be cool amen',\n",
       "  'has_words': True,\n",
       "  'speaker': 'B',\n",
       "  'audio_fn': 'fe_03_05863.sph',\n",
       "  'duration': 24000,\n",
       "  'type': 'NIST_1A',\n",
       "  'start': 2747920,\n",
       "  'end': 2771920,\n",
       "  'channel': 2},\n",
       " {'speech_raw': '[NOISE] [NOISE]',\n",
       "  'n_words': 1,\n",
       "  'call_id': '05863',\n",
       "  'utterance_id': 'fe_03_05863-B-0065',\n",
       "  'speech': '',\n",
       "  'has_words': False,\n",
       "  'speaker': 'B',\n",
       "  'audio_fn': 'fe_03_05863.sph',\n",
       "  'duration': 14160,\n",
       "  'type': 'NIST_1A',\n",
       "  'start': 2845280,\n",
       "  'end': 2859440,\n",
       "  'channel': 2},\n",
       " {'speech_raw': 'OH YEAH',\n",
       "  'n_words': 2,\n",
       "  'call_id': '05863',\n",
       "  'utterance_id': 'fe_03_05863-B-0066',\n",
       "  'speech': 'oh yeah',\n",
       "  'has_words': True,\n",
       "  'speaker': 'B',\n",
       "  'audio_fn': 'fe_03_05863.sph',\n",
       "  'duration': 10640,\n",
       "  'type': 'NIST_1A',\n",
       "  'start': 2985040,\n",
       "  'end': 2995680,\n",
       "  'channel': 2},\n",
       " {'speech_raw': '[NOISE]',\n",
       "  'n_words': 1,\n",
       "  'call_id': '05863',\n",
       "  'utterance_id': 'fe_03_05863-B-0067',\n",
       "  'speech': '',\n",
       "  'has_words': False,\n",
       "  'speaker': 'B',\n",
       "  'audio_fn': 'fe_03_05863.sph',\n",
       "  'duration': 5600,\n",
       "  'type': 'NIST_1A',\n",
       "  'start': 3054960,\n",
       "  'end': 3060560,\n",
       "  'channel': 2},\n",
       " {'speech_raw': 'UH-HUH',\n",
       "  'n_words': 1,\n",
       "  'call_id': '05863',\n",
       "  'utterance_id': 'fe_03_05863-B-0068',\n",
       "  'speech': 'uh-huh',\n",
       "  'has_words': True,\n",
       "  'speaker': 'B',\n",
       "  'audio_fn': 'fe_03_05863.sph',\n",
       "  'duration': 7280,\n",
       "  'type': 'NIST_1A',\n",
       "  'start': 3092800,\n",
       "  'end': 3100080,\n",
       "  'channel': 2},\n",
       " {'speech_raw': 'YOU KNOW WHAT',\n",
       "  'n_words': 3,\n",
       "  'call_id': '05863',\n",
       "  'utterance_id': 'fe_03_05863-B-0069',\n",
       "  'speech': 'you know what',\n",
       "  'has_words': True,\n",
       "  'speaker': 'B',\n",
       "  'audio_fn': 'fe_03_05863.sph',\n",
       "  'duration': 8000,\n",
       "  'type': 'NIST_1A',\n",
       "  'start': 3211200,\n",
       "  'end': 3219200,\n",
       "  'channel': 2},\n",
       " {'speech_raw': 'I CAN HAVE AN I- I HAVE AN IDEA ABOUT THIS THING I THINK YOU KNOW WHAT WHAT WE COULD DO AFTER THE MILLION DOLLARS',\n",
       "  'n_words': 25,\n",
       "  'call_id': '05863',\n",
       "  'utterance_id': 'fe_03_05863-B-0070',\n",
       "  'speech': 'i can have an <rem> i have an idea about this thing i think you know what what we could do after the million dollars',\n",
       "  'has_words': True,\n",
       "  'speaker': 'B',\n",
       "  'audio_fn': 'fe_03_05863.sph',\n",
       "  'duration': 47120,\n",
       "  'type': 'NIST_1A',\n",
       "  'start': 3275360,\n",
       "  'end': 3322480,\n",
       "  'channel': 2},\n",
       " {'speech_raw': 'WITH YOUR BEST FRIEND YEAH RIGHT',\n",
       "  'n_words': 6,\n",
       "  'call_id': '05863',\n",
       "  'utterance_id': 'fe_03_05863-B-0071',\n",
       "  'speech': 'with your best friend yeah right',\n",
       "  'has_words': True,\n",
       "  'speaker': 'B',\n",
       "  'audio_fn': 'fe_03_05863.sph',\n",
       "  'duration': 25120,\n",
       "  'type': 'NIST_1A',\n",
       "  'start': 3322880,\n",
       "  'end': 3348000,\n",
       "  'channel': 2},\n",
       " {'speech_raw': '[NOISE] [NOISE]',\n",
       "  'n_words': 1,\n",
       "  'call_id': '05863',\n",
       "  'utterance_id': 'fe_03_05863-B-0072',\n",
       "  'speech': '',\n",
       "  'has_words': False,\n",
       "  'speaker': 'B',\n",
       "  'audio_fn': 'fe_03_05863.sph',\n",
       "  'duration': 5040,\n",
       "  'type': 'NIST_1A',\n",
       "  'start': 3474880,\n",
       "  'end': 3479920,\n",
       "  'channel': 2},\n",
       " {'speech_raw': '[NOISE] UH-HUH',\n",
       "  'n_words': 1,\n",
       "  'call_id': '05863',\n",
       "  'utterance_id': 'fe_03_05863-B-0073',\n",
       "  'speech': 'uh-huh',\n",
       "  'has_words': True,\n",
       "  'speaker': 'B',\n",
       "  'audio_fn': 'fe_03_05863.sph',\n",
       "  'duration': 7680,\n",
       "  'type': 'NIST_1A',\n",
       "  'start': 3484080,\n",
       "  'end': 3491760,\n",
       "  'channel': 2},\n",
       " {'speech_raw': '[NOISE]',\n",
       "  'n_words': 1,\n",
       "  'call_id': '05863',\n",
       "  'utterance_id': 'fe_03_05863-B-0074',\n",
       "  'speech': '',\n",
       "  'has_words': False,\n",
       "  'speaker': 'B',\n",
       "  'audio_fn': 'fe_03_05863.sph',\n",
       "  'duration': 10400,\n",
       "  'type': 'NIST_1A',\n",
       "  'start': 3526640,\n",
       "  'end': 3537040,\n",
       "  'channel': 2},\n",
       " {'speech_raw': 'UH-HUH',\n",
       "  'n_words': 1,\n",
       "  'call_id': '05863',\n",
       "  'utterance_id': 'fe_03_05863-B-0075',\n",
       "  'speech': 'uh-huh',\n",
       "  'has_words': True,\n",
       "  'speaker': 'B',\n",
       "  'audio_fn': 'fe_03_05863.sph',\n",
       "  'duration': 8080,\n",
       "  'type': 'NIST_1A',\n",
       "  'start': 3565440,\n",
       "  'end': 3573520,\n",
       "  'channel': 2},\n",
       " {'speech_raw': '[NOISE]',\n",
       "  'n_words': 1,\n",
       "  'call_id': '05863',\n",
       "  'utterance_id': 'fe_03_05863-B-0076',\n",
       "  'speech': '',\n",
       "  'has_words': False,\n",
       "  'speaker': 'B',\n",
       "  'audio_fn': 'fe_03_05863.sph',\n",
       "  'duration': 7360,\n",
       "  'type': 'NIST_1A',\n",
       "  'start': 3617040,\n",
       "  'end': 3624400,\n",
       "  'channel': 2},\n",
       " {'speech_raw': \"WHOA THAT'S NUTS I DIDN'T HEAR ABOUT THAT\",\n",
       "  'n_words': 8,\n",
       "  'call_id': '05863',\n",
       "  'utterance_id': 'fe_03_05863-B-0077',\n",
       "  'speech': \"whoa that's nuts i didn't hear about that\",\n",
       "  'has_words': True,\n",
       "  'speaker': 'B',\n",
       "  'audio_fn': 'fe_03_05863.sph',\n",
       "  'duration': 23440,\n",
       "  'type': 'NIST_1A',\n",
       "  'start': 3682560,\n",
       "  'end': 3706000,\n",
       "  'channel': 2},\n",
       " {'speech_raw': 'OH YEAH I AM',\n",
       "  'n_words': 4,\n",
       "  'call_id': '05863',\n",
       "  'utterance_id': 'fe_03_05863-B-0078',\n",
       "  'speech': 'oh yeah i am',\n",
       "  'has_words': True,\n",
       "  'speaker': 'B',\n",
       "  'audio_fn': 'fe_03_05863.sph',\n",
       "  'duration': 9520,\n",
       "  'type': 'NIST_1A',\n",
       "  'start': 3796720,\n",
       "  'end': 3806240,\n",
       "  'channel': 2},\n",
       " {'speech_raw': '[LAUGHTER]',\n",
       "  'n_words': 1,\n",
       "  'call_id': '05863',\n",
       "  'utterance_id': 'fe_03_05863-B-0079',\n",
       "  'speech': '',\n",
       "  'has_words': False,\n",
       "  'speaker': 'B',\n",
       "  'audio_fn': 'fe_03_05863.sph',\n",
       "  'duration': 7440,\n",
       "  'type': 'NIST_1A',\n",
       "  'start': 3810000,\n",
       "  'end': 3817440,\n",
       "  'channel': 2},\n",
       " {'speech_raw': \"[NOISE] [NOISE] IT'S FRIENDSHIP THAT BRINGS YOU\",\n",
       "  'n_words': 5,\n",
       "  'call_id': '05863',\n",
       "  'utterance_id': 'fe_03_05863-B-0080',\n",
       "  'speech': \"it's friendship that brings you\",\n",
       "  'has_words': True,\n",
       "  'speaker': 'B',\n",
       "  'audio_fn': 'fe_03_05863.sph',\n",
       "  'duration': 17360,\n",
       "  'type': 'NIST_1A',\n",
       "  'start': 3884640,\n",
       "  'end': 3902000,\n",
       "  'channel': 2},\n",
       " {'speech_raw': 'OKAY WE AGREE ON THAT TOO [LAUGHTER] [LAUGHTER]',\n",
       "  'n_words': 6,\n",
       "  'call_id': '05863',\n",
       "  'utterance_id': 'fe_03_05863-B-0081',\n",
       "  'speech': 'okay we agree on that too',\n",
       "  'has_words': True,\n",
       "  'speaker': 'B',\n",
       "  'audio_fn': 'fe_03_05863.sph',\n",
       "  'duration': 36000,\n",
       "  'type': 'NIST_1A',\n",
       "  'start': 3919920,\n",
       "  'end': 3955920,\n",
       "  'channel': 2},\n",
       " {'speech_raw': 'OKAY',\n",
       "  'n_words': 1,\n",
       "  'call_id': '05863',\n",
       "  'utterance_id': 'fe_03_05863-B-0082',\n",
       "  'speech': 'okay',\n",
       "  'has_words': True,\n",
       "  'speaker': 'B',\n",
       "  'audio_fn': 'fe_03_05863.sph',\n",
       "  'duration': 10640,\n",
       "  'type': 'NIST_1A',\n",
       "  'start': 3957600,\n",
       "  'end': 3968240,\n",
       "  'channel': 2},\n",
       " {'speech_raw': \"LET'S GET A DEBATABLE TOPIC WITH GEORGE BUSH YEAH\",\n",
       "  'n_words': 9,\n",
       "  'call_id': '05863',\n",
       "  'utterance_id': 'fe_03_05863-B-0083',\n",
       "  'speech': \"let's get a debatable topic with george bush yeah\",\n",
       "  'has_words': True,\n",
       "  'speaker': 'B',\n",
       "  'audio_fn': 'fe_03_05863.sph',\n",
       "  'duration': 35120,\n",
       "  'type': 'NIST_1A',\n",
       "  'start': 3969600,\n",
       "  'end': 4004720,\n",
       "  'channel': 2},\n",
       " {'speech_raw': 'AND THAT WAR THING I COULD BE TALKING FOREVER',\n",
       "  'n_words': 9,\n",
       "  'call_id': '05863',\n",
       "  'utterance_id': 'fe_03_05863-B-0084',\n",
       "  'speech': 'and that war thing i could be talking forever',\n",
       "  'has_words': True,\n",
       "  'speaker': 'B',\n",
       "  'audio_fn': 'fe_03_05863.sph',\n",
       "  'duration': 25200,\n",
       "  'type': 'NIST_1A',\n",
       "  'start': 4015360,\n",
       "  'end': 4040560,\n",
       "  'channel': 2},\n",
       " {'speech_raw': '[LAUGHTER]',\n",
       "  'n_words': 1,\n",
       "  'call_id': '05863',\n",
       "  'utterance_id': 'fe_03_05863-B-0085',\n",
       "  'speech': '',\n",
       "  'has_words': False,\n",
       "  'speaker': 'B',\n",
       "  'audio_fn': 'fe_03_05863.sph',\n",
       "  'duration': 14880,\n",
       "  'type': 'NIST_1A',\n",
       "  'start': 4043760,\n",
       "  'end': 4058640,\n",
       "  'channel': 2},\n",
       " {'speech_raw': 'I KNOW [LAUGHTER]',\n",
       "  'n_words': 2,\n",
       "  'call_id': '05863',\n",
       "  'utterance_id': 'fe_03_05863-B-0086',\n",
       "  'speech': 'i know',\n",
       "  'has_words': True,\n",
       "  'speaker': 'B',\n",
       "  'audio_fn': 'fe_03_05863.sph',\n",
       "  'duration': 20720,\n",
       "  'type': 'NIST_1A',\n",
       "  'start': 4081200,\n",
       "  'end': 4101920,\n",
       "  'channel': 2},\n",
       " {'speech_raw': 'WHAT THEY SAY YEAH',\n",
       "  'n_words': 4,\n",
       "  'call_id': '05863',\n",
       "  'utterance_id': 'fe_03_05863-B-0087',\n",
       "  'speech': 'what they say yeah',\n",
       "  'has_words': True,\n",
       "  'speaker': 'B',\n",
       "  'audio_fn': 'fe_03_05863.sph',\n",
       "  'duration': 16400,\n",
       "  'type': 'NIST_1A',\n",
       "  'start': 4113840,\n",
       "  'end': 4130240,\n",
       "  'channel': 2},\n",
       " {'speech_raw': 'YEAH',\n",
       "  'n_words': 1,\n",
       "  'call_id': '05863',\n",
       "  'utterance_id': 'fe_03_05863-B-0088',\n",
       "  'speech': 'yeah',\n",
       "  'has_words': True,\n",
       "  'speaker': 'B',\n",
       "  'audio_fn': 'fe_03_05863.sph',\n",
       "  'duration': 7760,\n",
       "  'type': 'NIST_1A',\n",
       "  'start': 4137600,\n",
       "  'end': 4145360,\n",
       "  'channel': 2},\n",
       " {'speech_raw': '[NOISE] HM',\n",
       "  'n_words': 1,\n",
       "  'call_id': '05863',\n",
       "  'utterance_id': 'fe_03_05863-B-0089',\n",
       "  'speech': 'hm',\n",
       "  'has_words': True,\n",
       "  'speaker': 'B',\n",
       "  'audio_fn': 'fe_03_05863.sph',\n",
       "  'duration': 9680,\n",
       "  'type': 'NIST_1A',\n",
       "  'start': 4149120,\n",
       "  'end': 4158800,\n",
       "  'channel': 2},\n",
       " {'speech_raw': 'WELL EXACTLY',\n",
       "  'n_words': 2,\n",
       "  'call_id': '05863',\n",
       "  'utterance_id': 'fe_03_05863-B-0090',\n",
       "  'speech': 'well exactly',\n",
       "  'has_words': True,\n",
       "  'speaker': 'B',\n",
       "  'audio_fn': 'fe_03_05863.sph',\n",
       "  'duration': 12080,\n",
       "  'type': 'NIST_1A',\n",
       "  'start': 4235280,\n",
       "  'end': 4247360,\n",
       "  'channel': 2},\n",
       " {'speech_raw': 'YEAH THE LITTLE TONE',\n",
       "  'n_words': 4,\n",
       "  'call_id': '05863',\n",
       "  'utterance_id': 'fe_03_05863-B-0091',\n",
       "  'speech': 'yeah the little tone',\n",
       "  'has_words': True,\n",
       "  'speaker': 'B',\n",
       "  'audio_fn': 'fe_03_05863.sph',\n",
       "  'duration': 12080,\n",
       "  'type': 'NIST_1A',\n",
       "  'start': 4279680,\n",
       "  'end': 4291760,\n",
       "  'channel': 2},\n",
       " {'speech_raw': '[MN] YOU HAVE THIRTY SECONDS TO SAY GOODBYE',\n",
       "  'n_words': 7,\n",
       "  'call_id': '05863',\n",
       "  'utterance_id': 'fe_03_05863-B-0092',\n",
       "  'speech': 'you have thirty seconds to say goodbye',\n",
       "  'has_words': True,\n",
       "  'speaker': 'B',\n",
       "  'audio_fn': 'fe_03_05863.sph',\n",
       "  'duration': 20720,\n",
       "  'type': 'NIST_1A',\n",
       "  'start': 4292080,\n",
       "  'end': 4312800,\n",
       "  'channel': 2},\n",
       " {'speech_raw': '[LAUGHTER]',\n",
       "  'n_words': 1,\n",
       "  'call_id': '05863',\n",
       "  'utterance_id': 'fe_03_05863-B-0093',\n",
       "  'speech': '',\n",
       "  'has_words': False,\n",
       "  'speaker': 'B',\n",
       "  'audio_fn': 'fe_03_05863.sph',\n",
       "  'duration': 18400,\n",
       "  'type': 'NIST_1A',\n",
       "  'start': 4322240,\n",
       "  'end': 4340640,\n",
       "  'channel': 2},\n",
       " {'speech_raw': 'OH YEAH HUH I FORGOT ABOUT THE LITTLE TIME THINGY HERE',\n",
       "  'n_words': 11,\n",
       "  'call_id': '05863',\n",
       "  'utterance_id': 'fe_03_05863-B-0094',\n",
       "  'speech': 'oh yeah huh i forgot about the little time thingy here',\n",
       "  'has_words': True,\n",
       "  'speaker': 'B',\n",
       "  'audio_fn': 'fe_03_05863.sph',\n",
       "  'duration': 26880,\n",
       "  'type': 'NIST_1A',\n",
       "  'start': 4368880,\n",
       "  'end': 4395760,\n",
       "  'channel': 2},\n",
       " {'speech_raw': '[NOISE]',\n",
       "  'n_words': 1,\n",
       "  'call_id': '05863',\n",
       "  'utterance_id': 'fe_03_05863-B-0095',\n",
       "  'speech': '',\n",
       "  'has_words': False,\n",
       "  'speaker': 'B',\n",
       "  'audio_fn': 'fe_03_05863.sph',\n",
       "  'duration': 14080,\n",
       "  'type': 'NIST_1A',\n",
       "  'start': 4416720,\n",
       "  'end': 4430800,\n",
       "  'channel': 2},\n",
       " {'speech_raw': '[NOISE] HUH',\n",
       "  'n_words': 1,\n",
       "  'call_id': '05863',\n",
       "  'utterance_id': 'fe_03_05863-B-0096',\n",
       "  'speech': 'huh',\n",
       "  'has_words': True,\n",
       "  'speaker': 'B',\n",
       "  'audio_fn': 'fe_03_05863.sph',\n",
       "  'duration': 16320,\n",
       "  'type': 'NIST_1A',\n",
       "  'start': 4447760,\n",
       "  'end': 4464080,\n",
       "  'channel': 2},\n",
       " {'speech_raw': \"HEY THAT'S COOL\",\n",
       "  'n_words': 3,\n",
       "  'call_id': '05863',\n",
       "  'utterance_id': 'fe_03_05863-B-0097',\n",
       "  'speech': \"hey that's cool\",\n",
       "  'has_words': True,\n",
       "  'speaker': 'B',\n",
       "  'audio_fn': 'fe_03_05863.sph',\n",
       "  'duration': 10960,\n",
       "  'type': 'NIST_1A',\n",
       "  'start': 4481600,\n",
       "  'end': 4492560,\n",
       "  'channel': 2},\n",
       " {'speech_raw': '[NOISE]',\n",
       "  'n_words': 1,\n",
       "  'call_id': '05863',\n",
       "  'utterance_id': 'fe_03_05863-B-0098',\n",
       "  'speech': '',\n",
       "  'has_words': False,\n",
       "  'speaker': 'B',\n",
       "  'audio_fn': 'fe_03_05863.sph',\n",
       "  'duration': 4480,\n",
       "  'type': 'NIST_1A',\n",
       "  'start': 4517840,\n",
       "  'end': 4522320,\n",
       "  'channel': 2},\n",
       " {'speech_raw': 'OH AND GOOD TIMES',\n",
       "  'n_words': 4,\n",
       "  'call_id': '05863',\n",
       "  'utterance_id': 'fe_03_05863-B-0099',\n",
       "  'speech': 'oh and good times',\n",
       "  'has_words': True,\n",
       "  'speaker': 'B',\n",
       "  'audio_fn': 'fe_03_05863.sph',\n",
       "  'duration': 13520,\n",
       "  'type': 'NIST_1A',\n",
       "  'start': 4559040,\n",
       "  'end': 4572560,\n",
       "  'channel': 2},\n",
       " {'speech_raw': 'TELL ME ABOUT IT',\n",
       "  'n_words': 4,\n",
       "  'call_id': '05863',\n",
       "  'utterance_id': 'fe_03_05863-B-0100',\n",
       "  'speech': 'tell me about it',\n",
       "  'has_words': True,\n",
       "  'speaker': 'B',\n",
       "  'audio_fn': 'fe_03_05863.sph',\n",
       "  'duration': 14240,\n",
       "  'type': 'NIST_1A',\n",
       "  'start': 4630720,\n",
       "  'end': 4644960,\n",
       "  'channel': 2},\n",
       " {'speech_raw': '[NOISE]',\n",
       "  'n_words': 1,\n",
       "  'call_id': '05863',\n",
       "  'utterance_id': 'fe_03_05863-B-0101',\n",
       "  'speech': '',\n",
       "  'has_words': False,\n",
       "  'speaker': 'B',\n",
       "  'audio_fn': 'fe_03_05863.sph',\n",
       "  'duration': 10480,\n",
       "  'type': 'NIST_1A',\n",
       "  'start': 4717680,\n",
       "  'end': 4728160,\n",
       "  'channel': 2},\n",
       " {'speech_raw': \"I KNOW I'M INSIDE OF A BUILDING THAT DOESN'T LIKE CELL PHONES\",\n",
       "  'n_words': 12,\n",
       "  'call_id': '05863',\n",
       "  'utterance_id': 'fe_03_05863-B-0102',\n",
       "  'speech': \"i know i'm inside of a building that doesn't like cell phones\",\n",
       "  'has_words': True,\n",
       "  'speaker': 'B',\n",
       "  'audio_fn': 'fe_03_05863.sph',\n",
       "  'duration': 29440,\n",
       "  'type': 'NIST_1A',\n",
       "  'start': 4745040,\n",
       "  'end': 4774480,\n",
       "  'channel': 2}]"
      ]
     },
     "execution_count": 142,
     "metadata": {},
     "output_type": "execute_result"
    }
   ],
   "source": [
    "get_transcriptions_bbn('05863')"
   ]
  },
  {
   "cell_type": "markdown",
   "metadata": {},
   "source": [
    "## Some summary / sanity-checking statistics"
   ]
  },
  {
   "cell_type": "markdown",
   "metadata": {},
   "source": [
    "How many calls are in the bbn transcripts?"
   ]
  },
  {
   "cell_type": "code",
   "execution_count": 143,
   "metadata": {
    "ExecuteTime": {
     "end_time": "2019-09-05T05:24:01.862467Z",
     "start_time": "2019-09-05T05:24:01.854906Z"
    }
   },
   "outputs": [
    {
     "data": {
      "text/plain": [
       "5120"
      ]
     },
     "execution_count": 143,
     "metadata": {},
     "output_type": "execute_result"
    },
    {
     "data": {
      "text/plain": [
       "5849"
      ]
     },
     "execution_count": 143,
     "metadata": {},
     "output_type": "execute_result"
    },
    {
     "data": {
      "text/plain": [
       "729"
      ]
     },
     "execution_count": 143,
     "metadata": {},
     "output_type": "execute_result"
    }
   ],
   "source": [
    "call_ids_bbn = [c['call_id'] for c in bbn_call_relation]\n",
    "len(call_ids_bbn)\n",
    "len(call_ids)\n",
    "len(call_ids) - len(call_ids_bbn)"
   ]
  },
  {
   "cell_type": "code",
   "execution_count": 144,
   "metadata": {
    "ExecuteTime": {
     "end_time": "2019-09-05T05:24:01.877907Z",
     "start_time": "2019-09-05T05:24:01.864284Z"
    }
   },
   "outputs": [
    {
     "data": {
      "text/plain": [
       "{'05851',\n",
       " '05852',\n",
       " '05853',\n",
       " '05854',\n",
       " '05855',\n",
       " '05856',\n",
       " '05857',\n",
       " '05858',\n",
       " '05859',\n",
       " '05860',\n",
       " '05861',\n",
       " '05862',\n",
       " '05864',\n",
       " '05865',\n",
       " '05866',\n",
       " '05867',\n",
       " '05868',\n",
       " '05869',\n",
       " '05870',\n",
       " '05871',\n",
       " '05872',\n",
       " '05873',\n",
       " '05874',\n",
       " '05875',\n",
       " '05877',\n",
       " '05878',\n",
       " '05879',\n",
       " '05880',\n",
       " '05881',\n",
       " '05882',\n",
       " '05883',\n",
       " '05884',\n",
       " '05885',\n",
       " '05886',\n",
       " '05890',\n",
       " '05891',\n",
       " '05892',\n",
       " '05893',\n",
       " '05894',\n",
       " '05895',\n",
       " '05896',\n",
       " '05897',\n",
       " '05899',\n",
       " '05900',\n",
       " '05901',\n",
       " '05902',\n",
       " '05903',\n",
       " '05904',\n",
       " '05905',\n",
       " '05906',\n",
       " '05907',\n",
       " '05908',\n",
       " '05909',\n",
       " '05910',\n",
       " '05911',\n",
       " '05912',\n",
       " '05913',\n",
       " '05914',\n",
       " '05915',\n",
       " '05916',\n",
       " '05917',\n",
       " '05918',\n",
       " '05919',\n",
       " '05920',\n",
       " '05921',\n",
       " '05922',\n",
       " '05923',\n",
       " '05924',\n",
       " '05925',\n",
       " '05926',\n",
       " '05927',\n",
       " '05928',\n",
       " '05929',\n",
       " '05930',\n",
       " '05931',\n",
       " '05932',\n",
       " '05933',\n",
       " '05934',\n",
       " '05935',\n",
       " '05936',\n",
       " '05937',\n",
       " '05938',\n",
       " '05939',\n",
       " '05940',\n",
       " '05941',\n",
       " '05942',\n",
       " '05943',\n",
       " '05944',\n",
       " '05945',\n",
       " '05946',\n",
       " '05947',\n",
       " '05948',\n",
       " '05949',\n",
       " '05950',\n",
       " '05951',\n",
       " '05952',\n",
       " '05953',\n",
       " '05954',\n",
       " '05955',\n",
       " '05956',\n",
       " '05957',\n",
       " '05958',\n",
       " '05959',\n",
       " '05960',\n",
       " '05961',\n",
       " '05962',\n",
       " '05963',\n",
       " '05964',\n",
       " '05965',\n",
       " '05966',\n",
       " '05967',\n",
       " '05968',\n",
       " '05969',\n",
       " '05970',\n",
       " '05971',\n",
       " '05972',\n",
       " '05973',\n",
       " '05974',\n",
       " '05975',\n",
       " '05976',\n",
       " '05977',\n",
       " '05978',\n",
       " '05979',\n",
       " '05980',\n",
       " '05981',\n",
       " '05982',\n",
       " '05983',\n",
       " '05984',\n",
       " '05985',\n",
       " '05986',\n",
       " '05987',\n",
       " '05988',\n",
       " '05989',\n",
       " '05990',\n",
       " '05991',\n",
       " '05992',\n",
       " '05993',\n",
       " '05994',\n",
       " '05995',\n",
       " '05997',\n",
       " '05998',\n",
       " '05999',\n",
       " '06001',\n",
       " '06002',\n",
       " '06003',\n",
       " '06004',\n",
       " '06005',\n",
       " '06006',\n",
       " '06007',\n",
       " '06008',\n",
       " '06009',\n",
       " '06010',\n",
       " '06011',\n",
       " '06012',\n",
       " '06013',\n",
       " '06014',\n",
       " '06015',\n",
       " '06016',\n",
       " '06017',\n",
       " '06018',\n",
       " '06019',\n",
       " '06020',\n",
       " '06021',\n",
       " '06022',\n",
       " '06023',\n",
       " '06024',\n",
       " '06026',\n",
       " '06029',\n",
       " '06030',\n",
       " '06031',\n",
       " '06032',\n",
       " '06033',\n",
       " '06034',\n",
       " '06036',\n",
       " '06038',\n",
       " '06039',\n",
       " '06040',\n",
       " '07993',\n",
       " '08099',\n",
       " '08124',\n",
       " '08160',\n",
       " '08161',\n",
       " '08186',\n",
       " '08210',\n",
       " '08499',\n",
       " '08658',\n",
       " '08799',\n",
       " '08810',\n",
       " '08847',\n",
       " '08956',\n",
       " '08993',\n",
       " '08999',\n",
       " '09000',\n",
       " '09001',\n",
       " '09005',\n",
       " '09006',\n",
       " '09007',\n",
       " '09008',\n",
       " '09010',\n",
       " '09011',\n",
       " '09015',\n",
       " '09016',\n",
       " '09017',\n",
       " '09018',\n",
       " '09020',\n",
       " '09021',\n",
       " '09024',\n",
       " '09026',\n",
       " '09030',\n",
       " '09031',\n",
       " '09032',\n",
       " '09035',\n",
       " '09038',\n",
       " '09039',\n",
       " '09049',\n",
       " '09055',\n",
       " '09056',\n",
       " '09057',\n",
       " '09058',\n",
       " '09059',\n",
       " '09064',\n",
       " '09065',\n",
       " '09066',\n",
       " '09068',\n",
       " '09070',\n",
       " '09076',\n",
       " '09081',\n",
       " '09082',\n",
       " '09083',\n",
       " '09087',\n",
       " '09088',\n",
       " '09089',\n",
       " '09092',\n",
       " '09097',\n",
       " '09100',\n",
       " '09103',\n",
       " '09126',\n",
       " '09130',\n",
       " '09131',\n",
       " '09945',\n",
       " '09952',\n",
       " '09953',\n",
       " '09958',\n",
       " '09961',\n",
       " '09982',\n",
       " '10013',\n",
       " '10015',\n",
       " '10016',\n",
       " '10129',\n",
       " '10130',\n",
       " '10131',\n",
       " '10144',\n",
       " '10153',\n",
       " '10154',\n",
       " '10161',\n",
       " '10162',\n",
       " '10165',\n",
       " '10191',\n",
       " '10197',\n",
       " '10201',\n",
       " '10202',\n",
       " '10203',\n",
       " '10231',\n",
       " '10232',\n",
       " '10233',\n",
       " '10257',\n",
       " '10258',\n",
       " '10265',\n",
       " '10266',\n",
       " '10267',\n",
       " '10268',\n",
       " '10269',\n",
       " '10270',\n",
       " '10271',\n",
       " '10272',\n",
       " '10273',\n",
       " '10274',\n",
       " '10275',\n",
       " '10276',\n",
       " '10277',\n",
       " '10278',\n",
       " '10279',\n",
       " '10280',\n",
       " '10281',\n",
       " '10282',\n",
       " '10283',\n",
       " '10284',\n",
       " '10285',\n",
       " '10286',\n",
       " '10287',\n",
       " '10288',\n",
       " '10289',\n",
       " '10290',\n",
       " '10297',\n",
       " '10299',\n",
       " '10315',\n",
       " '10324',\n",
       " '10332',\n",
       " '10349',\n",
       " '10352',\n",
       " '10354',\n",
       " '10355',\n",
       " '10400',\n",
       " '10419',\n",
       " '10445',\n",
       " '10450',\n",
       " '10506',\n",
       " '10522',\n",
       " '10529',\n",
       " '10532',\n",
       " '10550',\n",
       " '10551',\n",
       " '10552',\n",
       " '10553',\n",
       " '10555',\n",
       " '10586',\n",
       " '10622',\n",
       " '10630',\n",
       " '10634',\n",
       " '10636',\n",
       " '10642',\n",
       " '10717',\n",
       " '10750',\n",
       " '10776',\n",
       " '10785',\n",
       " '10808',\n",
       " '10812',\n",
       " '10833',\n",
       " '10834',\n",
       " '10836',\n",
       " '10839',\n",
       " '10841',\n",
       " '10872',\n",
       " '10881',\n",
       " '10883',\n",
       " '10912',\n",
       " '10921',\n",
       " '10928',\n",
       " '10933',\n",
       " '10999',\n",
       " '11038',\n",
       " '11039',\n",
       " '11040',\n",
       " '11041',\n",
       " '11042',\n",
       " '11043',\n",
       " '11044',\n",
       " '11045',\n",
       " '11046',\n",
       " '11047',\n",
       " '11048',\n",
       " '11049',\n",
       " '11050',\n",
       " '11051',\n",
       " '11052',\n",
       " '11053',\n",
       " '11054',\n",
       " '11085',\n",
       " '11086',\n",
       " '11087',\n",
       " '11088',\n",
       " '11089',\n",
       " '11090',\n",
       " '11091',\n",
       " '11092',\n",
       " '11093',\n",
       " '11094',\n",
       " '11095',\n",
       " '11096',\n",
       " '11097',\n",
       " '11098',\n",
       " '11099',\n",
       " '11100',\n",
       " '11101',\n",
       " '11102',\n",
       " '11103',\n",
       " '11104',\n",
       " '11105',\n",
       " '11106',\n",
       " '11107',\n",
       " '11125',\n",
       " '11170',\n",
       " '11175',\n",
       " '11202',\n",
       " '11261',\n",
       " '11262',\n",
       " '11263',\n",
       " '11264',\n",
       " '11265',\n",
       " '11266',\n",
       " '11267',\n",
       " '11268',\n",
       " '11269',\n",
       " '11270',\n",
       " '11271',\n",
       " '11272',\n",
       " '11273',\n",
       " '11274',\n",
       " '11275',\n",
       " '11276',\n",
       " '11277',\n",
       " '11278',\n",
       " '11279',\n",
       " '11280',\n",
       " '11281',\n",
       " '11282',\n",
       " '11283',\n",
       " '11284',\n",
       " '11285',\n",
       " '11286',\n",
       " '11287',\n",
       " '11288',\n",
       " '11289',\n",
       " '11290',\n",
       " '11291',\n",
       " '11292',\n",
       " '11294',\n",
       " '11333',\n",
       " '11356',\n",
       " '11368',\n",
       " '11369',\n",
       " '11370',\n",
       " '11381',\n",
       " '11382',\n",
       " '11395',\n",
       " '11396',\n",
       " '11397',\n",
       " '11398',\n",
       " '11399',\n",
       " '11400',\n",
       " '11401',\n",
       " '11402',\n",
       " '11403',\n",
       " '11404',\n",
       " '11405',\n",
       " '11406',\n",
       " '11407',\n",
       " '11408',\n",
       " '11409',\n",
       " '11410',\n",
       " '11411',\n",
       " '11412',\n",
       " '11413',\n",
       " '11414',\n",
       " '11415',\n",
       " '11416',\n",
       " '11417',\n",
       " '11418',\n",
       " '11419',\n",
       " '11420',\n",
       " '11421',\n",
       " '11422',\n",
       " '11423',\n",
       " '11424',\n",
       " '11425',\n",
       " '11426',\n",
       " '11427',\n",
       " '11428',\n",
       " '11429',\n",
       " '11430',\n",
       " '11431',\n",
       " '11432',\n",
       " '11433',\n",
       " '11434',\n",
       " '11435',\n",
       " '11436',\n",
       " '11437',\n",
       " '11438',\n",
       " '11439',\n",
       " '11440',\n",
       " '11441',\n",
       " '11442',\n",
       " '11443',\n",
       " '11444',\n",
       " '11445',\n",
       " '11446',\n",
       " '11447',\n",
       " '11448',\n",
       " '11449',\n",
       " '11450',\n",
       " '11451',\n",
       " '11452',\n",
       " '11453',\n",
       " '11454',\n",
       " '11455',\n",
       " '11456',\n",
       " '11457',\n",
       " '11458',\n",
       " '11459',\n",
       " '11460',\n",
       " '11461',\n",
       " '11462',\n",
       " '11463',\n",
       " '11464',\n",
       " '11465',\n",
       " '11466',\n",
       " '11467',\n",
       " '11468',\n",
       " '11469',\n",
       " '11470',\n",
       " '11471',\n",
       " '11472',\n",
       " '11473',\n",
       " '11474',\n",
       " '11475',\n",
       " '11476',\n",
       " '11477',\n",
       " '11478',\n",
       " '11479',\n",
       " '11480',\n",
       " '11481',\n",
       " '11482',\n",
       " '11483',\n",
       " '11484',\n",
       " '11485',\n",
       " '11486',\n",
       " '11487',\n",
       " '11488',\n",
       " '11489',\n",
       " '11490',\n",
       " '11491',\n",
       " '11492',\n",
       " '11493',\n",
       " '11494',\n",
       " '11495',\n",
       " '11496',\n",
       " '11497',\n",
       " '11498',\n",
       " '11499',\n",
       " '11500',\n",
       " '11501',\n",
       " '11502',\n",
       " '11503',\n",
       " '11504',\n",
       " '11505',\n",
       " '11506',\n",
       " '11507',\n",
       " '11508',\n",
       " '11509',\n",
       " '11510',\n",
       " '11511',\n",
       " '11512',\n",
       " '11513',\n",
       " '11514',\n",
       " '11515',\n",
       " '11516',\n",
       " '11517',\n",
       " '11518',\n",
       " '11519',\n",
       " '11520',\n",
       " '11521',\n",
       " '11522',\n",
       " '11523',\n",
       " '11524',\n",
       " '11525',\n",
       " '11526',\n",
       " '11527',\n",
       " '11528',\n",
       " '11529',\n",
       " '11530',\n",
       " '11531',\n",
       " '11532',\n",
       " '11533',\n",
       " '11534',\n",
       " '11535',\n",
       " '11536',\n",
       " '11537',\n",
       " '11538',\n",
       " '11539',\n",
       " '11540',\n",
       " '11541',\n",
       " '11542',\n",
       " '11543',\n",
       " '11544',\n",
       " '11545',\n",
       " '11546',\n",
       " '11547',\n",
       " '11548',\n",
       " '11549',\n",
       " '11550',\n",
       " '11551',\n",
       " '11552',\n",
       " '11553',\n",
       " '11554',\n",
       " '11555',\n",
       " '11556',\n",
       " '11557',\n",
       " '11558',\n",
       " '11559',\n",
       " '11560',\n",
       " '11561',\n",
       " '11562',\n",
       " '11563',\n",
       " '11564',\n",
       " '11565',\n",
       " '11566',\n",
       " '11567',\n",
       " '11568',\n",
       " '11569',\n",
       " '11570',\n",
       " '11571',\n",
       " '11572',\n",
       " '11573',\n",
       " '11574',\n",
       " '11575',\n",
       " '11576',\n",
       " '11577',\n",
       " '11578',\n",
       " '11579',\n",
       " '11580',\n",
       " '11581',\n",
       " '11582',\n",
       " '11583',\n",
       " '11584',\n",
       " '11585',\n",
       " '11586',\n",
       " '11587',\n",
       " '11588',\n",
       " '11589',\n",
       " '11590',\n",
       " '11591',\n",
       " '11592',\n",
       " '11593',\n",
       " '11594',\n",
       " '11595',\n",
       " '11596',\n",
       " '11597',\n",
       " '11598',\n",
       " '11599',\n",
       " '11600',\n",
       " '11601',\n",
       " '11602',\n",
       " '11603',\n",
       " '11604',\n",
       " '11605',\n",
       " '11606',\n",
       " '11607',\n",
       " '11608',\n",
       " '11609',\n",
       " '11610',\n",
       " '11611',\n",
       " '11612',\n",
       " '11613',\n",
       " '11614',\n",
       " '11615',\n",
       " '11616',\n",
       " '11617',\n",
       " '11618',\n",
       " '11619',\n",
       " '11620',\n",
       " '11621',\n",
       " '11622',\n",
       " '11623',\n",
       " '11624',\n",
       " '11625',\n",
       " '11626',\n",
       " '11627',\n",
       " '11628',\n",
       " '11629',\n",
       " '11630',\n",
       " '11631',\n",
       " '11632',\n",
       " '11633',\n",
       " '11634',\n",
       " '11635',\n",
       " '11636',\n",
       " '11637',\n",
       " '11638',\n",
       " '11639',\n",
       " '11640',\n",
       " '11641',\n",
       " '11642',\n",
       " '11643',\n",
       " '11644',\n",
       " '11645',\n",
       " '11646',\n",
       " '11647',\n",
       " '11648',\n",
       " '11649',\n",
       " '11650',\n",
       " '11651',\n",
       " '11652',\n",
       " '11653',\n",
       " '11654',\n",
       " '11655',\n",
       " '11656',\n",
       " '11657',\n",
       " '11658',\n",
       " '11659',\n",
       " '11660',\n",
       " '11661',\n",
       " '11662',\n",
       " '11663',\n",
       " '11664',\n",
       " '11665',\n",
       " '11666',\n",
       " '11667',\n",
       " '11668',\n",
       " '11669',\n",
       " '11670',\n",
       " '11671',\n",
       " '11672',\n",
       " '11673',\n",
       " '11674',\n",
       " '11675',\n",
       " '11676',\n",
       " '11677',\n",
       " '11678',\n",
       " '11679',\n",
       " '11680',\n",
       " '11681',\n",
       " '11682',\n",
       " '11683',\n",
       " '11684',\n",
       " '11685',\n",
       " '11686',\n",
       " '11687',\n",
       " '11688',\n",
       " '11689',\n",
       " '11690',\n",
       " '11691',\n",
       " '11692',\n",
       " '11693',\n",
       " '11694',\n",
       " '11695',\n",
       " '11696',\n",
       " '11697',\n",
       " '11698',\n",
       " '11699'}"
      ]
     },
     "execution_count": 144,
     "metadata": {},
     "output_type": "execute_result"
    }
   ],
   "source": [
    "set(call_ids) - set(call_ids_bbn)"
   ]
  },
  {
   "cell_type": "markdown",
   "metadata": {},
   "source": [
    "According to the documentation, only 300 conversations should be missing from the `bbn` transcriptions - those prefixed with `114`, `115`, and `116`. What's the story on the other 429????"
   ]
  },
  {
   "cell_type": "markdown",
   "metadata": {},
   "source": [
    "How many word tokens are in the `bbn` transcripts?"
   ]
  },
  {
   "cell_type": "code",
   "execution_count": 145,
   "metadata": {
    "ExecuteTime": {
     "end_time": "2019-09-05T05:24:11.570001Z",
     "start_time": "2019-09-05T05:24:01.879264Z"
    }
   },
   "outputs": [
    {
     "name": "stderr",
     "output_type": "stream",
     "text": [
      "[Parallel(n_jobs=15)]: Using backend MultiprocessingBackend with 15 concurrent workers.\n",
      "[Parallel(n_jobs=15)]: Batch computation too fast (0.0296s.) Setting batch_size=12.\n",
      "[Parallel(n_jobs=15)]: Done   2 tasks      | elapsed:    0.0s\n",
      "[Parallel(n_jobs=15)]: Done  11 tasks      | elapsed:    0.1s\n",
      "[Parallel(n_jobs=15)]: Done  20 tasks      | elapsed:    0.1s\n",
      "[Parallel(n_jobs=15)]: Done  42 tasks      | elapsed:    0.4s\n",
      "[Parallel(n_jobs=15)]: Done 174 tasks      | elapsed:    0.4s\n",
      "[Parallel(n_jobs=15)]: Done 330 tasks      | elapsed:    0.7s\n",
      "[Parallel(n_jobs=15)]: Done 486 tasks      | elapsed:    1.0s\n",
      "[Parallel(n_jobs=15)]: Done 666 tasks      | elapsed:    1.3s\n",
      "[Parallel(n_jobs=15)]: Done 846 tasks      | elapsed:    1.6s\n",
      "[Parallel(n_jobs=15)]: Done 1050 tasks      | elapsed:    2.0s\n",
      "[Parallel(n_jobs=15)]: Done 1254 tasks      | elapsed:    2.3s\n",
      "[Parallel(n_jobs=15)]: Done 1482 tasks      | elapsed:    2.7s\n",
      "[Parallel(n_jobs=15)]: Done 1710 tasks      | elapsed:    3.1s\n",
      "[Parallel(n_jobs=15)]: Done 1962 tasks      | elapsed:    3.5s\n",
      "[Parallel(n_jobs=15)]: Done 2214 tasks      | elapsed:    4.0s\n",
      "[Parallel(n_jobs=15)]: Done 2490 tasks      | elapsed:    4.4s\n",
      "[Parallel(n_jobs=15)]: Done 2766 tasks      | elapsed:    4.8s\n",
      "[Parallel(n_jobs=15)]: Done 3066 tasks      | elapsed:    5.4s\n",
      "[Parallel(n_jobs=15)]: Done 3366 tasks      | elapsed:    5.8s\n",
      "[Parallel(n_jobs=15)]: Done 3690 tasks      | elapsed:    6.4s\n",
      "[Parallel(n_jobs=15)]: Done 4014 tasks      | elapsed:    6.9s\n",
      "[Parallel(n_jobs=15)]: Done 4362 tasks      | elapsed:    7.6s\n",
      "[Parallel(n_jobs=15)]: Done 4710 tasks      | elapsed:    8.1s\n",
      "[Parallel(n_jobs=15)]: Done 5120 out of 5120 | elapsed:    8.8s finished\n"
     ]
    },
    {
     "data": {
      "text/plain": [
       "9676792"
      ]
     },
     "execution_count": 145,
     "metadata": {},
     "output_type": "execute_result"
    }
   ],
   "source": [
    "def count_word_tokens_in_call_bbn(call_id):\n",
    "    return sum([count_word_tokens_in_line(l) for l in get_transcriptions_bbn(call_id)])\n",
    "\n",
    "#31.0s on wittgenstein\n",
    "# sum([count_word_tokens_in_call_bbn(call_id) for call_id in call_ids_bbn])\n",
    "\n",
    "#vs. 5.5s on wittgenstein\n",
    "sum(par(delayed(count_word_tokens_in_call_bbn)(call_id)\n",
    "        for call_id in call_ids_bbn))"
   ]
  },
  {
   "cell_type": "markdown",
   "metadata": {},
   "source": [
    "How many word types are in the `bbn` transcripts?"
   ]
  },
  {
   "cell_type": "code",
   "execution_count": 146,
   "metadata": {
    "ExecuteTime": {
     "end_time": "2019-09-05T05:24:22.759667Z",
     "start_time": "2019-09-05T05:24:11.572891Z"
    }
   },
   "outputs": [
    {
     "name": "stderr",
     "output_type": "stream",
     "text": [
      "[Parallel(n_jobs=15)]: Using backend MultiprocessingBackend with 15 concurrent workers.\n",
      "[Parallel(n_jobs=15)]: Batch computation too fast (0.0302s.) Setting batch_size=12.\n",
      "[Parallel(n_jobs=15)]: Done   2 tasks      | elapsed:    0.0s\n",
      "[Parallel(n_jobs=15)]: Done  11 tasks      | elapsed:    0.0s\n",
      "[Parallel(n_jobs=15)]: Done  20 tasks      | elapsed:    0.0s\n",
      "[Parallel(n_jobs=15)]: Done  42 tasks      | elapsed:    0.2s\n",
      "[Parallel(n_jobs=15)]: Done 174 tasks      | elapsed:    0.3s\n",
      "[Parallel(n_jobs=15)]: Done 330 tasks      | elapsed:    0.5s\n",
      "[Parallel(n_jobs=15)]: Done 486 tasks      | elapsed:    0.7s\n",
      "[Parallel(n_jobs=15)]: Done 666 tasks      | elapsed:    0.9s\n",
      "[Parallel(n_jobs=15)]: Done 846 tasks      | elapsed:    1.1s\n",
      "[Parallel(n_jobs=15)]: Done 1050 tasks      | elapsed:    1.3s\n",
      "[Parallel(n_jobs=15)]: Done 1254 tasks      | elapsed:    1.5s\n",
      "[Parallel(n_jobs=15)]: Done 1482 tasks      | elapsed:    1.8s\n",
      "[Parallel(n_jobs=15)]: Done 1710 tasks      | elapsed:    2.1s\n",
      "[Parallel(n_jobs=15)]: Done 1962 tasks      | elapsed:    2.4s\n",
      "[Parallel(n_jobs=15)]: Done 2214 tasks      | elapsed:    2.6s\n",
      "[Parallel(n_jobs=15)]: Done 2490 tasks      | elapsed:    2.9s\n",
      "[Parallel(n_jobs=15)]: Done 2766 tasks      | elapsed:    3.2s\n",
      "[Parallel(n_jobs=15)]: Done 3066 tasks      | elapsed:    3.6s\n",
      "[Parallel(n_jobs=15)]: Done 3366 tasks      | elapsed:    3.9s\n",
      "[Parallel(n_jobs=15)]: Done 3690 tasks      | elapsed:    4.2s\n",
      "[Parallel(n_jobs=15)]: Done 4014 tasks      | elapsed:    4.6s\n",
      "[Parallel(n_jobs=15)]: Done 4362 tasks      | elapsed:    5.0s\n",
      "[Parallel(n_jobs=15)]: Done 4710 tasks      | elapsed:    5.4s\n",
      "[Parallel(n_jobs=15)]: Done 5120 out of 5120 | elapsed:    5.9s finished\n"
     ]
    },
    {
     "data": {
      "text/plain": [
       "42014"
      ]
     },
     "execution_count": 146,
     "metadata": {},
     "output_type": "execute_result"
    }
   ],
   "source": [
    "def word_types_in_call_bbn(call_id):\n",
    "    return union([word_types_in_line(l) for l in get_transcriptions_bbn(call_id)])\n",
    "\n",
    "#42.2s on wittgenstein\n",
    "# vocabulary_bbn = union([word_types_in_call_bbn(c) for c in call_ids_bbn])\n",
    "# len(vocabulary_bbn)\n",
    "\n",
    "# vs.  5.8s on wittgenstein\n",
    "vocabulary_bbn = union(par(delayed(word_types_in_call_bbn)(c) for c in call_ids_bbn))\n",
    "len(vocabulary_bbn)"
   ]
  },
  {
   "cell_type": "code",
   "execution_count": 147,
   "metadata": {
    "ExecuteTime": {
     "end_time": "2019-09-05T05:24:22.767268Z",
     "start_time": "2019-09-05T05:24:22.761055Z"
    }
   },
   "outputs": [
    {
     "data": {
      "text/plain": [
       "['',\n",
       " 'south',\n",
       " 'enjoyment',\n",
       " 'rednecks',\n",
       " 'influx',\n",
       " 'sorcerer',\n",
       " 'glut',\n",
       " 'jackson',\n",
       " 'verify',\n",
       " 'ownership',\n",
       " 'andie',\n",
       " \"kroger's\",\n",
       " 'warehouse',\n",
       " 'aghast',\n",
       " 'feterson',\n",
       " 'flashbacks',\n",
       " 'sunup',\n",
       " 'oceans',\n",
       " \"jeopardy's\",\n",
       " 'guilt',\n",
       " 'heritage',\n",
       " 'whew',\n",
       " 'mocked',\n",
       " 'swooning',\n",
       " 'charitable',\n",
       " 'shortly',\n",
       " \"niece's\",\n",
       " 'seizure',\n",
       " 'quest',\n",
       " 'bundle',\n",
       " 'receptionist',\n",
       " 'enraged',\n",
       " 'tequia',\n",
       " 'nannies',\n",
       " 'unwrapped',\n",
       " 'compromising',\n",
       " 'caledokos',\n",
       " 'rossi',\n",
       " 'chit',\n",
       " 'popularizes',\n",
       " 'distant',\n",
       " 'deprecating',\n",
       " 'savor',\n",
       " 'nonverbal',\n",
       " 'needle',\n",
       " 'linger',\n",
       " 'puck',\n",
       " 'harmful',\n",
       " 'unwell',\n",
       " 'thermo',\n",
       " 'throne',\n",
       " 'lippi',\n",
       " 'alcoholics',\n",
       " 'inaction',\n",
       " 'spinach',\n",
       " 'schlock',\n",
       " 'repellents',\n",
       " 'stay',\n",
       " 'foray',\n",
       " 'locals',\n",
       " 'perfume',\n",
       " 'brunelleschi',\n",
       " 'biofeedback',\n",
       " 'subscribers',\n",
       " \"interviewer's\",\n",
       " 'bent',\n",
       " 'palmdale',\n",
       " 'quail',\n",
       " 'battlenet',\n",
       " 'runny',\n",
       " 'intakes',\n",
       " 'protestant',\n",
       " 're-taped',\n",
       " 'deepens',\n",
       " \"many's\",\n",
       " 'prosecute',\n",
       " 'u._s._s.',\n",
       " 'bams',\n",
       " 'boggled',\n",
       " 'scriptwriters',\n",
       " 'margo',\n",
       " 'vacuums',\n",
       " 'staples',\n",
       " 'humorists',\n",
       " 'whipped',\n",
       " 'counterproductive',\n",
       " 'sweatshirt',\n",
       " 'kato',\n",
       " 'industrialized',\n",
       " 'delta',\n",
       " 'gyler',\n",
       " \"mommies'\",\n",
       " 'enlightening',\n",
       " 'fabricate',\n",
       " 'okra',\n",
       " 'intercity',\n",
       " 'burleigh',\n",
       " \"elementary's\",\n",
       " 'naval',\n",
       " 'antiga']"
      ]
     },
     "execution_count": 147,
     "metadata": {},
     "output_type": "execute_result"
    }
   ],
   "source": [
    "list(vocabulary_bbn)[:100]"
   ]
  },
  {
   "cell_type": "code",
   "execution_count": 148,
   "metadata": {
    "ExecuteTime": {
     "end_time": "2019-09-05T05:24:22.795494Z",
     "start_time": "2019-09-05T05:24:22.768498Z"
    }
   },
   "outputs": [
    {
     "data": {
      "text/plain": [
       "['',\n",
       " \"'and\",\n",
       " \"'berserkly'\",\n",
       " \"'bout\",\n",
       " \"'burb\",\n",
       " \"'burban\",\n",
       " \"'burbs\",\n",
       " \"'cau\",\n",
       " \"'cause\",\n",
       " \"'cept\"]"
      ]
     },
     "execution_count": 148,
     "metadata": {},
     "output_type": "execute_result"
    }
   ],
   "source": [
    "vocabulary_bbn_alpha = sorted(list(vocabulary_bbn))\n",
    "vocabulary_bbn_alpha[:10]"
   ]
  },
  {
   "cell_type": "markdown",
   "metadata": {},
   "source": [
    "As above, we're going to remove the empty string..."
   ]
  },
  {
   "cell_type": "code",
   "execution_count": 149,
   "metadata": {
    "ExecuteTime": {
     "end_time": "2019-09-05T05:24:22.799589Z",
     "start_time": "2019-09-05T05:24:22.796814Z"
    }
   },
   "outputs": [
    {
     "data": {
      "text/plain": [
       "''"
      ]
     },
     "execution_count": 149,
     "metadata": {},
     "output_type": "execute_result"
    }
   ],
   "source": [
    "vocabulary_bbn_alpha.pop(0)"
   ]
  },
  {
   "cell_type": "code",
   "execution_count": 150,
   "metadata": {
    "ExecuteTime": {
     "end_time": "2019-09-05T05:24:22.803813Z",
     "start_time": "2019-09-05T05:24:22.800623Z"
    }
   },
   "outputs": [
    {
     "data": {
      "text/plain": [
       "\"'and\""
      ]
     },
     "execution_count": 150,
     "metadata": {},
     "output_type": "execute_result"
    }
   ],
   "source": [
    "vocabulary_bbn_alpha[0]"
   ]
  },
  {
   "cell_type": "code",
   "execution_count": 151,
   "metadata": {
    "ExecuteTime": {
     "end_time": "2019-09-05T05:24:27.200953Z",
     "start_time": "2019-09-05T05:24:22.804920Z"
    }
   },
   "outputs": [],
   "source": [
    "%%capture\n",
    "#cell magic above suppresses useless output of file.write\n",
    "\n",
    "vocabulary_bbn_fn = 'fisher_vocabulary_bbn.txt'\n",
    "\n",
    "vocabulary_bbn_fp = os.path.join(repo_dir, vocabulary_bbn_fn)\n",
    "\n",
    "#5.02s on wittgenstein\n",
    "with open(vocabulary_bbn_fp, 'w') as file:\n",
    "    for w in vocabulary_bbn_alpha:\n",
    "        file.write(\"{0}\\n\".format(w));"
   ]
  },
  {
   "cell_type": "code",
   "execution_count": 152,
   "metadata": {
    "ExecuteTime": {
     "end_time": "2019-09-05T05:24:27.407938Z",
     "start_time": "2019-09-05T05:24:27.202073Z"
    }
   },
   "outputs": [
    {
     "name": "stdout",
     "output_type": "stream",
     "text": [
      "     1\t'and\r\n",
      "     2\t'berserkly'\r\n",
      "     3\t'bout\r\n",
      "     4\t'burb\r\n",
      "     5\t'burban\r\n",
      "     6\t'burbs\r\n",
      "     7\t'cau\r\n",
      "     8\t'cause\r\n",
      "     9\t'cept\r\n",
      "    10\t'cide\r\n",
      "    11\t'cisco\r\n",
      "    12\t'cize\r\n",
      "    13\t'course\r\n",
      "    14\t'cuse\r\n",
      "    15\t'do\r\n",
      "    16\t'em\r\n",
      "    17\t'em's\r\n",
      "    18\t'ems\r\n",
      "    19\t'everybody's\r\n",
      "    20\t'fess\r\n",
      "cat: write error: Broken pipe\r\n"
     ]
    }
   ],
   "source": [
    "%cat -n /mnt/cube/home/AD/emeinhar/fisher-lm/fisher_vocabulary_bbn.txt | head -20"
   ]
  },
  {
   "cell_type": "markdown",
   "metadata": {},
   "source": [
    "## Naive utterance sequence"
   ]
  },
  {
   "cell_type": "code",
   "execution_count": 153,
   "metadata": {
    "ExecuteTime": {
     "end_time": "2019-09-05T05:24:27.413684Z",
     "start_time": "2019-09-05T05:24:27.410076Z"
    }
   },
   "outputs": [],
   "source": [
    "def get_utterances_from_call_bbn(call_id):\n",
    "    return [l['speech'] for l in get_transcriptions_bbn(call_id) if l['has_words']]"
   ]
  },
  {
   "cell_type": "code",
   "execution_count": 154,
   "metadata": {
    "ExecuteTime": {
     "end_time": "2019-09-05T05:24:27.419398Z",
     "start_time": "2019-09-05T05:24:27.415366Z"
    }
   },
   "outputs": [
    {
     "data": {
      "text/plain": [
       "'05863'"
      ]
     },
     "execution_count": 154,
     "metadata": {},
     "output_type": "execute_result"
    }
   ],
   "source": [
    "call_ids_bbn[0]"
   ]
  },
  {
   "cell_type": "code",
   "execution_count": 155,
   "metadata": {
    "ExecuteTime": {
     "end_time": "2019-09-05T05:24:27.449814Z",
     "start_time": "2019-09-05T05:24:27.420848Z"
    }
   },
   "outputs": [
    {
     "data": {
      "text/plain": [
       "['hi',\n",
       " 'hi my name is zelda',\n",
       " 'hi monique',\n",
       " \"i'm fine and you\",\n",
       " 'good',\n",
       " 'okay um',\n",
       " 'i would not do it',\n",
       " \"right i wouldn't um do you <rem> <rem> uh today i mean\",\n",
       " \"people look at money money is everything it's like they think that money's going to resolve all their problems and a million dollars today is not a lot of money and i would and that's a betrayal to me\",\n",
       " 'right right']"
      ]
     },
     "execution_count": 155,
     "metadata": {},
     "output_type": "execute_result"
    }
   ],
   "source": [
    "get_utterances_from_call_bbn('05863')[:10]"
   ]
  },
  {
   "cell_type": "code",
   "execution_count": 156,
   "metadata": {
    "ExecuteTime": {
     "end_time": "2019-09-05T05:24:34.035627Z",
     "start_time": "2019-09-05T05:24:27.451101Z"
    }
   },
   "outputs": [
    {
     "name": "stderr",
     "output_type": "stream",
     "text": [
      "[Parallel(n_jobs=15)]: Using backend MultiprocessingBackend with 15 concurrent workers.\n",
      "[Parallel(n_jobs=15)]: Batch computation too fast (0.0314s.) Setting batch_size=12.\n",
      "[Parallel(n_jobs=15)]: Done   2 tasks      | elapsed:    0.0s\n",
      "[Parallel(n_jobs=15)]: Done  11 tasks      | elapsed:    0.0s\n",
      "[Parallel(n_jobs=15)]: Done  20 tasks      | elapsed:    0.1s\n",
      "[Parallel(n_jobs=15)]: Done  42 tasks      | elapsed:    0.2s\n",
      "[Parallel(n_jobs=15)]: Batch computation too fast (0.1838s.) Setting batch_size=26.\n",
      "[Parallel(n_jobs=15)]: Done 174 tasks      | elapsed:    0.3s\n",
      "[Parallel(n_jobs=15)]: Done 330 tasks      | elapsed:    0.5s\n",
      "[Parallel(n_jobs=15)]: Done 598 tasks      | elapsed:    0.8s\n",
      "[Parallel(n_jobs=15)]: Done 988 tasks      | elapsed:    1.2s\n",
      "[Parallel(n_jobs=15)]: Done 1378 tasks      | elapsed:    1.7s\n",
      "[Parallel(n_jobs=15)]: Done 1820 tasks      | elapsed:    2.1s\n",
      "[Parallel(n_jobs=15)]: Done 2262 tasks      | elapsed:    2.5s\n",
      "[Parallel(n_jobs=15)]: Done 2756 tasks      | elapsed:    3.2s\n",
      "[Parallel(n_jobs=15)]: Done 3250 tasks      | elapsed:    3.6s\n",
      "[Parallel(n_jobs=15)]: Done 3796 tasks      | elapsed:    4.1s\n",
      "[Parallel(n_jobs=15)]: Done 4342 tasks      | elapsed:    4.8s\n",
      "[Parallel(n_jobs=15)]: Done 5120 out of 5120 | elapsed:    5.5s finished\n"
     ]
    },
    {
     "data": {
      "text/plain": [
       "918368"
      ]
     },
     "execution_count": 156,
     "metadata": {},
     "output_type": "execute_result"
    }
   ],
   "source": [
    "#35.3s on wittgenstein\n",
    "# utterances_bbn = []\n",
    "# for c in call_ids_bbn:\n",
    "#     utterances_bbn.extend( get_utterances_from_call_bbn(c) )\n",
    "# len(utterances_bbn)\n",
    "\n",
    "# 5.5s on wittgenstein\n",
    "utterances_bbn = list(chain.from_iterable(par(delayed(get_utterances_from_call_bbn)(c)\n",
    "                                              for c in call_ids_bbn)))\n",
    "len(utterances_bbn)"
   ]
  },
  {
   "cell_type": "code",
   "execution_count": 157,
   "metadata": {
    "ExecuteTime": {
     "end_time": "2019-09-05T05:24:34.057709Z",
     "start_time": "2019-09-05T05:24:34.036929Z"
    }
   },
   "outputs": [
    {
     "data": {
      "text/plain": [
       "False"
      ]
     },
     "execution_count": 157,
     "metadata": {},
     "output_type": "execute_result"
    }
   ],
   "source": [
    "'' in utterances_bbn #should be false"
   ]
  },
  {
   "cell_type": "code",
   "execution_count": 158,
   "metadata": {
    "ExecuteTime": {
     "end_time": "2019-09-05T05:24:34.064054Z",
     "start_time": "2019-09-05T05:24:34.059038Z"
    }
   },
   "outputs": [
    {
     "data": {
      "text/plain": [
       "'hi'"
      ]
     },
     "execution_count": 158,
     "metadata": {},
     "output_type": "execute_result"
    }
   ],
   "source": [
    "utterances_bbn[0]"
   ]
  },
  {
   "cell_type": "code",
   "execution_count": 159,
   "metadata": {
    "ExecuteTime": {
     "end_time": "2019-09-05T05:24:34.833917Z",
     "start_time": "2019-09-05T05:24:34.065269Z"
    }
   },
   "outputs": [],
   "source": [
    "%%capture\n",
    "#cell magic above suppresses useless output of file.write\n",
    "\n",
    "fisher_utterances_bbn_fn = 'fisher_utterances_bbn.txt'\n",
    "\n",
    "fisher_utterances_bbn_path = os.path.join(repo_dir, fisher_utterances_bbn_fn)\n",
    "\n",
    "\n",
    "with open(fisher_utterances_bbn_path, 'w') as file:\n",
    "\n",
    "    #write all lines at once using writelines and this takes <1s\n",
    "    utterances_w_linebreaks = list(map(lambda l: l + \"\\n\", utterances_bbn))\n",
    "    file.writelines(utterances_w_linebreaks)\n",
    "    \n",
    "    #if someone else is using the machine heavily doing other things, this can take upwards of 2ms\n",
    "#     for utterance in utterances_bbn:\n",
    "#         file.write(\"{0}\\n\".format(utterance));"
   ]
  },
  {
   "cell_type": "code",
   "execution_count": 160,
   "metadata": {
    "ExecuteTime": {
     "end_time": "2019-09-05T05:24:35.028363Z",
     "start_time": "2019-09-05T05:24:34.835808Z"
    }
   },
   "outputs": [
    {
     "name": "stdout",
     "output_type": "stream",
     "text": [
      "     1\thi\r\n",
      "     2\thi my name is zelda\r\n",
      "     3\thi monique\r\n",
      "     4\ti'm fine and you\r\n",
      "     5\tgood\r\n",
      "     6\tokay um\r\n",
      "     7\ti would not do it\r\n",
      "     8\tright i wouldn't um do you <rem> <rem> uh today i mean\r\n",
      "     9\tpeople look at money money is everything it's like they think that money's going to resolve all their problems and a million dollars today is not a lot of money and i would and that's a betrayal to me\r\n",
      "    10\tright right\r\n",
      "    11\tno\r\n",
      "    12\ti think human beings are <rem> um friendship <rem> relationships with people are a lot more important than money\r\n",
      "    13\tthen you weren't really their best friend either\r\n",
      "    14\tright right\r\n",
      "    15\tno\r\n",
      "    16\tmm\r\n",
      "    17\ti don't think any money is worth anyone's life uh a human a person's life is worth everything\r\n",
      "    18\tamen is right\r\n",
      "    19\ti mean <rem> there's not really much that we can debate on this because we really agreed on it you know\r\n",
      "    20\tright\r\n",
      "cat: write error: Broken pipe\r\n"
     ]
    }
   ],
   "source": [
    "%cat -n /mnt/cube/home/AD/emeinhar/fisher-lm/fisher_utterances_bbn.txt | head -20"
   ]
  },
  {
   "cell_type": "markdown",
   "metadata": {},
   "source": [
    "## All transcriptions"
   ]
  },
  {
   "cell_type": "code",
   "execution_count": 161,
   "metadata": {
    "ExecuteTime": {
     "end_time": "2019-09-05T05:24:35.035868Z",
     "start_time": "2019-09-05T05:24:35.030556Z"
    }
   },
   "outputs": [
    {
     "data": {
      "text/plain": [
       "[{'call_id': '05863',\n",
       "  'trn_fn': 'fe_03_05863.trn',\n",
       "  'ana_fn': 'fe_03_05863.ana',\n",
       "  'auto-segmented_trn_location': '/mnt/truffle/corpora/fisher_english_transcripts/fe_03_p2_tran/data/bbn_orig/058/auto-segmented/fe_03_05863.trn',\n",
       "  'rejected_trn_location': '/mnt/truffle/corpora/fisher_english_transcripts/fe_03_p2_tran/data/bbn_orig/058/rejected/fe_03_05863.trn',\n",
       "  'auto-segmented_ana_location': '/mnt/truffle/corpora/fisher_english_transcripts/fe_03_p2_tran/data/bbn_orig/058/auto-segmented/fe_03_05863.ana',\n",
       "  'rejected_ana_location': '/mnt/truffle/corpora/fisher_english_transcripts/fe_03_p2_tran/data/bbn_orig/058/rejected/fe_03_05863.ana'},\n",
       " {'call_id': '05876',\n",
       "  'trn_fn': 'fe_03_05876.trn',\n",
       "  'ana_fn': 'fe_03_05876.ana',\n",
       "  'auto-segmented_trn_location': '/mnt/truffle/corpora/fisher_english_transcripts/fe_03_p2_tran/data/bbn_orig/058/auto-segmented/fe_03_05876.trn',\n",
       "  'rejected_trn_location': '/mnt/truffle/corpora/fisher_english_transcripts/fe_03_p2_tran/data/bbn_orig/058/rejected/fe_03_05876.trn',\n",
       "  'auto-segmented_ana_location': '/mnt/truffle/corpora/fisher_english_transcripts/fe_03_p2_tran/data/bbn_orig/058/auto-segmented/fe_03_05876.ana',\n",
       "  'rejected_ana_location': '/mnt/truffle/corpora/fisher_english_transcripts/fe_03_p2_tran/data/bbn_orig/058/rejected/fe_03_05876.ana'},\n",
       " {'call_id': '05887',\n",
       "  'trn_fn': 'fe_03_05887.trn',\n",
       "  'ana_fn': 'fe_03_05887.ana',\n",
       "  'auto-segmented_trn_location': '/mnt/truffle/corpora/fisher_english_transcripts/fe_03_p2_tran/data/bbn_orig/058/auto-segmented/fe_03_05887.trn',\n",
       "  'rejected_trn_location': '/mnt/truffle/corpora/fisher_english_transcripts/fe_03_p2_tran/data/bbn_orig/058/rejected/fe_03_05887.trn',\n",
       "  'auto-segmented_ana_location': '/mnt/truffle/corpora/fisher_english_transcripts/fe_03_p2_tran/data/bbn_orig/058/auto-segmented/fe_03_05887.ana',\n",
       "  'rejected_ana_location': '/mnt/truffle/corpora/fisher_english_transcripts/fe_03_p2_tran/data/bbn_orig/058/rejected/fe_03_05887.ana'}]"
      ]
     },
     "execution_count": 161,
     "metadata": {},
     "output_type": "execute_result"
    }
   ],
   "source": [
    "bbn_call_relation[:3]"
   ]
  },
  {
   "cell_type": "code",
   "execution_count": 162,
   "metadata": {
    "ExecuteTime": {
     "end_time": "2019-09-05T05:24:35.041663Z",
     "start_time": "2019-09-05T05:24:35.037488Z"
    }
   },
   "outputs": [
    {
     "data": {
      "text/plain": [
       "['05863', '05876', '05887']"
      ]
     },
     "execution_count": 162,
     "metadata": {},
     "output_type": "execute_result"
    }
   ],
   "source": [
    "call_ids_bbn[:3]"
   ]
  },
  {
   "cell_type": "code",
   "execution_count": 163,
   "metadata": {
    "ExecuteTime": {
     "end_time": "2019-09-05T05:24:35.110584Z",
     "start_time": "2019-09-05T05:24:35.043214Z"
    }
   },
   "outputs": [
    {
     "data": {
      "text/plain": [
       "[{'speech_raw': 'HI [LAUGHTER]',\n",
       "  'n_words': 1,\n",
       "  'call_id': '05863',\n",
       "  'utterance_id': 'fe_03_05863-A-0001',\n",
       "  'speech': 'hi',\n",
       "  'has_words': True,\n",
       "  'speaker': 'A',\n",
       "  'audio_fn': 'fe_03_05863.sph',\n",
       "  'duration': 10960,\n",
       "  'type': 'NIST_1A',\n",
       "  'start': 1360,\n",
       "  'end': 12320,\n",
       "  'channel': 1},\n",
       " {'speech_raw': 'HI MY NAME IS ZELDA',\n",
       "  'n_words': 5,\n",
       "  'call_id': '05863',\n",
       "  'utterance_id': 'fe_03_05863-A-0002',\n",
       "  'speech': 'hi my name is zelda',\n",
       "  'has_words': True,\n",
       "  'speaker': 'A',\n",
       "  'audio_fn': 'fe_03_05863.sph',\n",
       "  'duration': 14080,\n",
       "  'type': 'NIST_1A',\n",
       "  'start': 32560,\n",
       "  'end': 46640,\n",
       "  'channel': 1},\n",
       " {'speech_raw': 'HI MONIQUE',\n",
       "  'n_words': 2,\n",
       "  'call_id': '05863',\n",
       "  'utterance_id': 'fe_03_05863-A-0003',\n",
       "  'speech': 'hi monique',\n",
       "  'has_words': True,\n",
       "  'speaker': 'A',\n",
       "  'audio_fn': 'fe_03_05863.sph',\n",
       "  'duration': 10000,\n",
       "  'type': 'NIST_1A',\n",
       "  'start': 59760,\n",
       "  'end': 69760,\n",
       "  'channel': 1}]"
      ]
     },
     "execution_count": 163,
     "metadata": {},
     "output_type": "execute_result"
    }
   ],
   "source": [
    "get_transcriptions_bbn('05863')[:3]"
   ]
  },
  {
   "cell_type": "code",
   "execution_count": 164,
   "metadata": {
    "ExecuteTime": {
     "end_time": "2019-09-05T05:24:35.114748Z",
     "start_time": "2019-09-05T05:24:35.111869Z"
    }
   },
   "outputs": [
    {
     "data": {
      "text/plain": [
       "{'call_id': '05863',\n",
       " 'trn_fn': 'fe_03_05863.trn',\n",
       " 'ana_fn': 'fe_03_05863.ana',\n",
       " 'auto-segmented_trn_location': '/mnt/truffle/corpora/fisher_english_transcripts/fe_03_p2_tran/data/bbn_orig/058/auto-segmented/fe_03_05863.trn',\n",
       " 'rejected_trn_location': '/mnt/truffle/corpora/fisher_english_transcripts/fe_03_p2_tran/data/bbn_orig/058/rejected/fe_03_05863.trn',\n",
       " 'auto-segmented_ana_location': '/mnt/truffle/corpora/fisher_english_transcripts/fe_03_p2_tran/data/bbn_orig/058/auto-segmented/fe_03_05863.ana',\n",
       " 'rejected_ana_location': '/mnt/truffle/corpora/fisher_english_transcripts/fe_03_p2_tran/data/bbn_orig/058/rejected/fe_03_05863.ana'}"
      ]
     },
     "execution_count": 164,
     "metadata": {},
     "output_type": "execute_result"
    }
   ],
   "source": [
    "bbn_call_relation[0]"
   ]
  },
  {
   "cell_type": "code",
   "execution_count": 165,
   "metadata": {
    "ExecuteTime": {
     "end_time": "2019-09-05T05:24:42.509129Z",
     "start_time": "2019-09-05T05:24:35.115939Z"
    }
   },
   "outputs": [
    {
     "name": "stderr",
     "output_type": "stream",
     "text": [
      "[Parallel(n_jobs=15)]: Using backend MultiprocessingBackend with 15 concurrent workers.\n",
      "[Parallel(n_jobs=15)]: Batch computation too fast (0.0279s.) Setting batch_size=14.\n",
      "[Parallel(n_jobs=15)]: Done   2 tasks      | elapsed:    0.0s\n",
      "[Parallel(n_jobs=15)]: Done  11 tasks      | elapsed:    0.0s\n",
      "[Parallel(n_jobs=15)]: Done  20 tasks      | elapsed:    0.1s\n",
      "[Parallel(n_jobs=15)]: Done  44 tasks      | elapsed:    0.3s\n",
      "[Parallel(n_jobs=15)]: Done 198 tasks      | elapsed:    0.4s\n",
      "[Parallel(n_jobs=15)]: Done 380 tasks      | elapsed:    0.7s\n",
      "[Parallel(n_jobs=15)]: Done 562 tasks      | elapsed:    0.9s\n",
      "[Parallel(n_jobs=15)]: Done 772 tasks      | elapsed:    1.2s\n",
      "[Parallel(n_jobs=15)]: Done 982 tasks      | elapsed:    1.4s\n",
      "[Parallel(n_jobs=15)]: Done 1220 tasks      | elapsed:    1.7s\n",
      "[Parallel(n_jobs=15)]: Done 1458 tasks      | elapsed:    2.0s\n",
      "[Parallel(n_jobs=15)]: Done 1724 tasks      | elapsed:    2.3s\n",
      "[Parallel(n_jobs=15)]: Done 1990 tasks      | elapsed:    2.6s\n",
      "[Parallel(n_jobs=15)]: Done 2284 tasks      | elapsed:    3.0s\n",
      "[Parallel(n_jobs=15)]: Done 2578 tasks      | elapsed:    3.4s\n",
      "[Parallel(n_jobs=15)]: Done 2900 tasks      | elapsed:    3.7s\n",
      "[Parallel(n_jobs=15)]: Done 3222 tasks      | elapsed:    4.2s\n",
      "[Parallel(n_jobs=15)]: Done 3572 tasks      | elapsed:    4.6s\n",
      "[Parallel(n_jobs=15)]: Done 3922 tasks      | elapsed:    5.0s\n",
      "[Parallel(n_jobs=15)]: Done 4300 tasks      | elapsed:    5.5s\n",
      "[Parallel(n_jobs=15)]: Done 4678 tasks      | elapsed:    5.9s\n",
      "[Parallel(n_jobs=15)]: Done 5120 out of 5120 | elapsed:    6.4s finished\n"
     ]
    }
   ],
   "source": [
    "#39.0s on wittgenstein\n",
    "# bbn_transcription_relation = []\n",
    "# for call_relation in bbn_call_relation:\n",
    "#     for transcription_relation in get_transcriptions_bbn(call_relation['call_id']):\n",
    "#         new_transcription_rel = dictionary_product(transcription_relation, call_relation)\n",
    "#         bbn_transcription_relation.append(new_transcription_rel)\n",
    "\n",
    "# 6.9s on wittgenstein\n",
    "def get_bbn_transcription_relation_for(call_rel):\n",
    "#     return par(delayed(dictionary_product)(transcription_relation, call_rel)\n",
    "#                for transcription_relation in get_transcriptions_bbn(call_rel['call_id']))\n",
    "    return [dictionary_product(transcription_relation, call_rel)\n",
    "           for transcription_relation in get_transcriptions_bbn(call_rel['call_id'])]\n",
    "\n",
    "bbn_transcription_relation = list(chain.from_iterable(par(delayed(get_bbn_transcription_relation_for)(call_relation)\n",
    "                                                          for call_relation in bbn_call_relation)))"
   ]
  },
  {
   "cell_type": "code",
   "execution_count": 166,
   "metadata": {
    "ExecuteTime": {
     "end_time": "2019-09-05T05:24:42.514850Z",
     "start_time": "2019-09-05T05:24:42.511009Z"
    }
   },
   "outputs": [
    {
     "data": {
      "text/plain": [
       "954017"
      ]
     },
     "execution_count": 166,
     "metadata": {},
     "output_type": "execute_result"
    }
   ],
   "source": [
    "len(bbn_transcription_relation)"
   ]
  },
  {
   "cell_type": "code",
   "execution_count": 167,
   "metadata": {
    "ExecuteTime": {
     "end_time": "2019-09-05T05:24:42.523076Z",
     "start_time": "2019-09-05T05:24:42.516508Z"
    }
   },
   "outputs": [
    {
     "data": {
      "text/plain": [
       "[{'speech_raw': 'HI [LAUGHTER]',\n",
       "  'audio_fn': 'fe_03_05863.sph',\n",
       "  'n_words': 1,\n",
       "  'call_id': '05863',\n",
       "  'duration': 10960,\n",
       "  'utterance_id': 'fe_03_05863-A-0001',\n",
       "  'speech': 'hi',\n",
       "  'has_words': True,\n",
       "  'speaker': 'A',\n",
       "  'start': 1360,\n",
       "  'end': 12320,\n",
       "  'type': 'NIST_1A',\n",
       "  'channel': 1,\n",
       "  'auto-segmented_ana_location': '/mnt/truffle/corpora/fisher_english_transcripts/fe_03_p2_tran/data/bbn_orig/058/auto-segmented/fe_03_05863.ana',\n",
       "  'auto-segmented_trn_location': '/mnt/truffle/corpora/fisher_english_transcripts/fe_03_p2_tran/data/bbn_orig/058/auto-segmented/fe_03_05863.trn',\n",
       "  'trn_fn': 'fe_03_05863.trn',\n",
       "  'ana_fn': 'fe_03_05863.ana',\n",
       "  'rejected_ana_location': '/mnt/truffle/corpora/fisher_english_transcripts/fe_03_p2_tran/data/bbn_orig/058/rejected/fe_03_05863.ana',\n",
       "  'rejected_trn_location': '/mnt/truffle/corpora/fisher_english_transcripts/fe_03_p2_tran/data/bbn_orig/058/rejected/fe_03_05863.trn'},\n",
       " {'speech_raw': 'HI MY NAME IS ZELDA',\n",
       "  'audio_fn': 'fe_03_05863.sph',\n",
       "  'n_words': 5,\n",
       "  'call_id': '05863',\n",
       "  'duration': 14080,\n",
       "  'utterance_id': 'fe_03_05863-A-0002',\n",
       "  'speech': 'hi my name is zelda',\n",
       "  'has_words': True,\n",
       "  'speaker': 'A',\n",
       "  'start': 32560,\n",
       "  'end': 46640,\n",
       "  'type': 'NIST_1A',\n",
       "  'channel': 1,\n",
       "  'auto-segmented_ana_location': '/mnt/truffle/corpora/fisher_english_transcripts/fe_03_p2_tran/data/bbn_orig/058/auto-segmented/fe_03_05863.ana',\n",
       "  'auto-segmented_trn_location': '/mnt/truffle/corpora/fisher_english_transcripts/fe_03_p2_tran/data/bbn_orig/058/auto-segmented/fe_03_05863.trn',\n",
       "  'trn_fn': 'fe_03_05863.trn',\n",
       "  'ana_fn': 'fe_03_05863.ana',\n",
       "  'rejected_ana_location': '/mnt/truffle/corpora/fisher_english_transcripts/fe_03_p2_tran/data/bbn_orig/058/rejected/fe_03_05863.ana',\n",
       "  'rejected_trn_location': '/mnt/truffle/corpora/fisher_english_transcripts/fe_03_p2_tran/data/bbn_orig/058/rejected/fe_03_05863.trn'},\n",
       " {'speech_raw': 'HI MONIQUE',\n",
       "  'audio_fn': 'fe_03_05863.sph',\n",
       "  'n_words': 2,\n",
       "  'call_id': '05863',\n",
       "  'duration': 10000,\n",
       "  'utterance_id': 'fe_03_05863-A-0003',\n",
       "  'speech': 'hi monique',\n",
       "  'has_words': True,\n",
       "  'speaker': 'A',\n",
       "  'start': 59760,\n",
       "  'end': 69760,\n",
       "  'type': 'NIST_1A',\n",
       "  'channel': 1,\n",
       "  'auto-segmented_ana_location': '/mnt/truffle/corpora/fisher_english_transcripts/fe_03_p2_tran/data/bbn_orig/058/auto-segmented/fe_03_05863.ana',\n",
       "  'auto-segmented_trn_location': '/mnt/truffle/corpora/fisher_english_transcripts/fe_03_p2_tran/data/bbn_orig/058/auto-segmented/fe_03_05863.trn',\n",
       "  'trn_fn': 'fe_03_05863.trn',\n",
       "  'ana_fn': 'fe_03_05863.ana',\n",
       "  'rejected_ana_location': '/mnt/truffle/corpora/fisher_english_transcripts/fe_03_p2_tran/data/bbn_orig/058/rejected/fe_03_05863.ana',\n",
       "  'rejected_trn_location': '/mnt/truffle/corpora/fisher_english_transcripts/fe_03_p2_tran/data/bbn_orig/058/rejected/fe_03_05863.trn'},\n",
       " {'speech_raw': \"I'M FINE AND YOU\",\n",
       "  'audio_fn': 'fe_03_05863.sph',\n",
       "  'n_words': 4,\n",
       "  'call_id': '05863',\n",
       "  'duration': 11040,\n",
       "  'utterance_id': 'fe_03_05863-A-0004',\n",
       "  'speech': \"i'm fine and you\",\n",
       "  'has_words': True,\n",
       "  'speaker': 'A',\n",
       "  'start': 77280,\n",
       "  'end': 88320,\n",
       "  'type': 'NIST_1A',\n",
       "  'channel': 1,\n",
       "  'auto-segmented_ana_location': '/mnt/truffle/corpora/fisher_english_transcripts/fe_03_p2_tran/data/bbn_orig/058/auto-segmented/fe_03_05863.ana',\n",
       "  'auto-segmented_trn_location': '/mnt/truffle/corpora/fisher_english_transcripts/fe_03_p2_tran/data/bbn_orig/058/auto-segmented/fe_03_05863.trn',\n",
       "  'trn_fn': 'fe_03_05863.trn',\n",
       "  'ana_fn': 'fe_03_05863.ana',\n",
       "  'rejected_ana_location': '/mnt/truffle/corpora/fisher_english_transcripts/fe_03_p2_tran/data/bbn_orig/058/rejected/fe_03_05863.ana',\n",
       "  'rejected_trn_location': '/mnt/truffle/corpora/fisher_english_transcripts/fe_03_p2_tran/data/bbn_orig/058/rejected/fe_03_05863.trn'},\n",
       " {'speech_raw': 'GOOD',\n",
       "  'audio_fn': 'fe_03_05863.sph',\n",
       "  'n_words': 1,\n",
       "  'call_id': '05863',\n",
       "  'duration': 7600,\n",
       "  'utterance_id': 'fe_03_05863-A-0005',\n",
       "  'speech': 'good',\n",
       "  'has_words': True,\n",
       "  'speaker': 'A',\n",
       "  'start': 96800,\n",
       "  'end': 104400,\n",
       "  'type': 'NIST_1A',\n",
       "  'channel': 1,\n",
       "  'auto-segmented_ana_location': '/mnt/truffle/corpora/fisher_english_transcripts/fe_03_p2_tran/data/bbn_orig/058/auto-segmented/fe_03_05863.ana',\n",
       "  'auto-segmented_trn_location': '/mnt/truffle/corpora/fisher_english_transcripts/fe_03_p2_tran/data/bbn_orig/058/auto-segmented/fe_03_05863.trn',\n",
       "  'trn_fn': 'fe_03_05863.trn',\n",
       "  'ana_fn': 'fe_03_05863.ana',\n",
       "  'rejected_ana_location': '/mnt/truffle/corpora/fisher_english_transcripts/fe_03_p2_tran/data/bbn_orig/058/rejected/fe_03_05863.ana',\n",
       "  'rejected_trn_location': '/mnt/truffle/corpora/fisher_english_transcripts/fe_03_p2_tran/data/bbn_orig/058/rejected/fe_03_05863.trn'}]"
      ]
     },
     "execution_count": 167,
     "metadata": {},
     "output_type": "execute_result"
    }
   ],
   "source": [
    "bbn_transcription_relation[:5]"
   ]
  },
  {
   "cell_type": "code",
   "execution_count": 168,
   "metadata": {
    "ExecuteTime": {
     "end_time": "2019-09-05T05:24:42.526831Z",
     "start_time": "2019-09-05T05:24:42.524770Z"
    }
   },
   "outputs": [],
   "source": [
    "# import json"
   ]
  },
  {
   "cell_type": "code",
   "execution_count": 169,
   "metadata": {
    "ExecuteTime": {
     "end_time": "2019-09-05T05:25:15.322234Z",
     "start_time": "2019-09-05T05:24:42.528467Z"
    }
   },
   "outputs": [],
   "source": [
    "fisher_utterances_relation_bbn_fn = 'fisher_utterances_relation_bbn.json'\n",
    "\n",
    "fisher_utterances_relation_bbn_path = os.path.join(repo_dir, fisher_utterances_relation_bbn_fn)\n",
    "\n",
    "#32.5s on wittgenstein\n",
    "with open(fisher_utterances_relation_bbn_path, 'w', encoding='utf8') as json_file:\n",
    "    json.dump(bbn_transcription_relation, json_file, indent=1, ensure_ascii=False)"
   ]
  },
  {
   "cell_type": "code",
   "execution_count": 170,
   "metadata": {
    "ExecuteTime": {
     "end_time": "2019-09-05T05:25:15.552617Z",
     "start_time": "2019-09-05T05:25:15.324149Z"
    }
   },
   "outputs": [
    {
     "name": "stdout",
     "output_type": "stream",
     "text": [
      "     1\t[\r\n",
      "     2\t {\r\n",
      "     3\t  \"speech_raw\": \"HI [LAUGHTER]\",\r\n",
      "     4\t  \"audio_fn\": \"fe_03_05863.sph\",\r\n",
      "     5\t  \"n_words\": 1,\r\n",
      "     6\t  \"call_id\": \"05863\",\r\n",
      "     7\t  \"duration\": 10960,\r\n",
      "     8\t  \"utterance_id\": \"fe_03_05863-A-0001\",\r\n",
      "     9\t  \"speech\": \"hi\",\r\n",
      "    10\t  \"has_words\": true,\r\n",
      "    11\t  \"speaker\": \"A\",\r\n",
      "    12\t  \"start\": 1360,\r\n",
      "    13\t  \"end\": 12320,\r\n",
      "    14\t  \"type\": \"NIST_1A\",\r\n",
      "    15\t  \"channel\": 1,\r\n",
      "    16\t  \"auto-segmented_ana_location\": \"/mnt/truffle/corpora/fisher_english_transcripts/fe_03_p2_tran/data/bbn_orig/058/auto-segmented/fe_03_05863.ana\",\r\n",
      "    17\t  \"auto-segmented_trn_location\": \"/mnt/truffle/corpora/fisher_english_transcripts/fe_03_p2_tran/data/bbn_orig/058/auto-segmented/fe_03_05863.trn\",\r\n",
      "    18\t  \"trn_fn\": \"fe_03_05863.trn\",\r\n",
      "    19\t  \"ana_fn\": \"fe_03_05863.ana\",\r\n",
      "    20\t  \"rejected_ana_location\": \"/mnt/truffle/corpora/fisher_english_transcripts/fe_03_p2_tran/data/bbn_orig/058/rejected/fe_03_05863.ana\",\r\n",
      "cat: write error: Broken pipe\r\n"
     ]
    }
   ],
   "source": [
    "%cat -n /mnt/cube/home/AD/emeinhar/fisher-lm/fisher_utterances_relation_bbn.json | head -20"
   ]
  },
  {
   "cell_type": "code",
   "execution_count": 171,
   "metadata": {
    "ExecuteTime": {
     "end_time": "2019-09-05T05:25:15.559195Z",
     "start_time": "2019-09-05T05:25:15.554696Z"
    }
   },
   "outputs": [
    {
     "data": {
      "text/plain": [
       "'/mnt/truffle/corpora/fisher_english_transcripts/fe_03_p2_tran/data/bbn_orig/058'"
      ]
     },
     "execution_count": 171,
     "metadata": {},
     "output_type": "execute_result"
    }
   ],
   "source": [
    "os.getcwd()"
   ]
  },
  {
   "cell_type": "markdown",
   "metadata": {},
   "source": [
    "## Utterance statistics"
   ]
  },
  {
   "cell_type": "markdown",
   "metadata": {},
   "source": [
    "What is the distribution over\n",
    " - time til onset of the next utterance (if available)\n",
    " - utterance duration in s\n",
    " - utterance duration in orthographic wordforms?\n",
    " \n",
    "As above, we only want to use utterances where the `speech` field isn't the empty string."
   ]
  },
  {
   "cell_type": "code",
   "execution_count": 172,
   "metadata": {
    "ExecuteTime": {
     "end_time": "2019-09-05T05:25:15.565053Z",
     "start_time": "2019-09-05T05:25:15.560974Z"
    }
   },
   "outputs": [
    {
     "data": {
      "text/plain": [
       "{'speech_raw': 'HI [LAUGHTER]',\n",
       " 'audio_fn': 'fe_03_05863.sph',\n",
       " 'n_words': 1,\n",
       " 'call_id': '05863',\n",
       " 'duration': 10960,\n",
       " 'utterance_id': 'fe_03_05863-A-0001',\n",
       " 'speech': 'hi',\n",
       " 'has_words': True,\n",
       " 'speaker': 'A',\n",
       " 'start': 1360,\n",
       " 'end': 12320,\n",
       " 'type': 'NIST_1A',\n",
       " 'channel': 1,\n",
       " 'auto-segmented_ana_location': '/mnt/truffle/corpora/fisher_english_transcripts/fe_03_p2_tran/data/bbn_orig/058/auto-segmented/fe_03_05863.ana',\n",
       " 'auto-segmented_trn_location': '/mnt/truffle/corpora/fisher_english_transcripts/fe_03_p2_tran/data/bbn_orig/058/auto-segmented/fe_03_05863.trn',\n",
       " 'trn_fn': 'fe_03_05863.trn',\n",
       " 'ana_fn': 'fe_03_05863.ana',\n",
       " 'rejected_ana_location': '/mnt/truffle/corpora/fisher_english_transcripts/fe_03_p2_tran/data/bbn_orig/058/rejected/fe_03_05863.ana',\n",
       " 'rejected_trn_location': '/mnt/truffle/corpora/fisher_english_transcripts/fe_03_p2_tran/data/bbn_orig/058/rejected/fe_03_05863.trn'}"
      ]
     },
     "execution_count": 172,
     "metadata": {},
     "output_type": "execute_result"
    }
   ],
   "source": [
    "bbn_transcription_relation[0]"
   ]
  },
  {
   "cell_type": "code",
   "execution_count": 173,
   "metadata": {
    "ExecuteTime": {
     "end_time": "2019-09-05T05:25:15.775898Z",
     "start_time": "2019-09-05T05:25:15.566557Z"
    }
   },
   "outputs": [
    {
     "data": {
      "text/plain": [
       "918368"
      ]
     },
     "execution_count": 173,
     "metadata": {},
     "output_type": "execute_result"
    }
   ],
   "source": [
    "utterance_durations_bbn = [utt['duration'] for utt in bbn_transcription_relation if utt['has_words']]\n",
    "len(utterance_durations_bbn)"
   ]
  },
  {
   "cell_type": "code",
   "execution_count": 174,
   "metadata": {
    "ExecuteTime": {
     "end_time": "2019-09-05T05:25:16.409244Z",
     "start_time": "2019-09-05T05:25:15.777198Z"
    }
   },
   "outputs": [
    {
     "data": {
      "text/plain": [
       "918368"
      ]
     },
     "execution_count": 174,
     "metadata": {},
     "output_type": "execute_result"
    }
   ],
   "source": [
    "utterance_lengths_bbn = [len(utt['speech'].split(' ')) for utt in bbn_transcription_relation if utt['has_words']]\n",
    "len(utterance_lengths_bbn)"
   ]
  },
  {
   "cell_type": "code",
   "execution_count": 175,
   "metadata": {
    "ExecuteTime": {
     "end_time": "2019-09-05T05:26:19.952806Z",
     "start_time": "2019-09-05T05:25:16.410695Z"
    }
   },
   "outputs": [
    {
     "name": "stderr",
     "output_type": "stream",
     "text": [
      "[Parallel(n_jobs=15)]: Using backend MultiprocessingBackend with 15 concurrent workers.\n",
      "[Parallel(n_jobs=15)]: Done   2 tasks      | elapsed:    0.3s\n",
      "[Parallel(n_jobs=15)]: Done  11 tasks      | elapsed:    0.4s\n",
      "[Parallel(n_jobs=15)]: Done  20 tasks      | elapsed:    0.5s\n",
      "[Parallel(n_jobs=15)]: Done  31 tasks      | elapsed:    0.7s\n",
      "[Parallel(n_jobs=15)]: Done  42 tasks      | elapsed:    0.8s\n",
      "[Parallel(n_jobs=15)]: Done  55 tasks      | elapsed:    1.0s\n",
      "[Parallel(n_jobs=15)]: Done  68 tasks      | elapsed:    1.1s\n",
      "[Parallel(n_jobs=15)]: Done  83 tasks      | elapsed:    1.3s\n",
      "[Parallel(n_jobs=15)]: Done  98 tasks      | elapsed:    1.5s\n",
      "[Parallel(n_jobs=15)]: Done 115 tasks      | elapsed:    1.8s\n",
      "[Parallel(n_jobs=15)]: Done 132 tasks      | elapsed:    2.1s\n",
      "[Parallel(n_jobs=15)]: Done 151 tasks      | elapsed:    2.2s\n",
      "[Parallel(n_jobs=15)]: Done 170 tasks      | elapsed:    2.4s\n",
      "[Parallel(n_jobs=15)]: Done 191 tasks      | elapsed:    2.8s\n",
      "[Parallel(n_jobs=15)]: Done 212 tasks      | elapsed:    3.0s\n",
      "[Parallel(n_jobs=15)]: Done 235 tasks      | elapsed:    3.3s\n",
      "[Parallel(n_jobs=15)]: Done 258 tasks      | elapsed:    3.6s\n",
      "[Parallel(n_jobs=15)]: Done 283 tasks      | elapsed:    3.9s\n",
      "[Parallel(n_jobs=15)]: Done 308 tasks      | elapsed:    4.2s\n",
      "[Parallel(n_jobs=15)]: Done 335 tasks      | elapsed:    4.6s\n",
      "[Parallel(n_jobs=15)]: Done 362 tasks      | elapsed:    5.0s\n",
      "[Parallel(n_jobs=15)]: Done 391 tasks      | elapsed:    5.3s\n",
      "[Parallel(n_jobs=15)]: Done 420 tasks      | elapsed:    5.7s\n",
      "[Parallel(n_jobs=15)]: Done 451 tasks      | elapsed:    6.0s\n",
      "[Parallel(n_jobs=15)]: Done 482 tasks      | elapsed:    6.4s\n",
      "[Parallel(n_jobs=15)]: Done 515 tasks      | elapsed:    6.8s\n",
      "[Parallel(n_jobs=15)]: Done 548 tasks      | elapsed:    7.3s\n",
      "[Parallel(n_jobs=15)]: Done 583 tasks      | elapsed:    7.7s\n",
      "[Parallel(n_jobs=15)]: Done 618 tasks      | elapsed:    8.2s\n",
      "[Parallel(n_jobs=15)]: Done 655 tasks      | elapsed:    8.6s\n",
      "[Parallel(n_jobs=15)]: Done 692 tasks      | elapsed:    9.1s\n",
      "[Parallel(n_jobs=15)]: Done 731 tasks      | elapsed:    9.6s\n",
      "[Parallel(n_jobs=15)]: Done 770 tasks      | elapsed:   10.0s\n",
      "[Parallel(n_jobs=15)]: Done 811 tasks      | elapsed:   10.6s\n",
      "[Parallel(n_jobs=15)]: Done 852 tasks      | elapsed:   11.1s\n",
      "[Parallel(n_jobs=15)]: Done 895 tasks      | elapsed:   11.6s\n",
      "[Parallel(n_jobs=15)]: Done 938 tasks      | elapsed:   12.2s\n",
      "[Parallel(n_jobs=15)]: Done 983 tasks      | elapsed:   12.7s\n",
      "[Parallel(n_jobs=15)]: Done 1028 tasks      | elapsed:   13.2s\n",
      "[Parallel(n_jobs=15)]: Done 1075 tasks      | elapsed:   13.8s\n",
      "[Parallel(n_jobs=15)]: Done 1122 tasks      | elapsed:   14.3s\n",
      "[Parallel(n_jobs=15)]: Done 1171 tasks      | elapsed:   15.0s\n",
      "[Parallel(n_jobs=15)]: Done 1220 tasks      | elapsed:   15.5s\n",
      "[Parallel(n_jobs=15)]: Done 1271 tasks      | elapsed:   16.1s\n",
      "[Parallel(n_jobs=15)]: Done 1322 tasks      | elapsed:   16.8s\n",
      "[Parallel(n_jobs=15)]: Done 1375 tasks      | elapsed:   17.3s\n",
      "[Parallel(n_jobs=15)]: Done 1428 tasks      | elapsed:   18.0s\n",
      "[Parallel(n_jobs=15)]: Done 1483 tasks      | elapsed:   18.7s\n",
      "[Parallel(n_jobs=15)]: Done 1538 tasks      | elapsed:   19.3s\n",
      "[Parallel(n_jobs=15)]: Done 1595 tasks      | elapsed:   20.0s\n",
      "[Parallel(n_jobs=15)]: Done 1652 tasks      | elapsed:   20.7s\n",
      "[Parallel(n_jobs=15)]: Done 1711 tasks      | elapsed:   21.4s\n",
      "[Parallel(n_jobs=15)]: Done 1770 tasks      | elapsed:   22.1s\n",
      "[Parallel(n_jobs=15)]: Done 1831 tasks      | elapsed:   22.8s\n",
      "[Parallel(n_jobs=15)]: Done 1892 tasks      | elapsed:   23.5s\n",
      "[Parallel(n_jobs=15)]: Done 1955 tasks      | elapsed:   24.3s\n",
      "[Parallel(n_jobs=15)]: Done 2018 tasks      | elapsed:   25.0s\n",
      "[Parallel(n_jobs=15)]: Done 2083 tasks      | elapsed:   25.8s\n",
      "[Parallel(n_jobs=15)]: Done 2148 tasks      | elapsed:   26.6s\n",
      "[Parallel(n_jobs=15)]: Done 2215 tasks      | elapsed:   27.3s\n",
      "[Parallel(n_jobs=15)]: Done 2282 tasks      | elapsed:   28.1s\n",
      "[Parallel(n_jobs=15)]: Done 2351 tasks      | elapsed:   28.9s\n",
      "[Parallel(n_jobs=15)]: Done 2420 tasks      | elapsed:   29.7s\n",
      "[Parallel(n_jobs=15)]: Done 2491 tasks      | elapsed:   30.6s\n",
      "[Parallel(n_jobs=15)]: Done 2562 tasks      | elapsed:   31.5s\n",
      "[Parallel(n_jobs=15)]: Done 2635 tasks      | elapsed:   32.4s\n",
      "[Parallel(n_jobs=15)]: Done 2708 tasks      | elapsed:   33.1s\n",
      "[Parallel(n_jobs=15)]: Done 2783 tasks      | elapsed:   34.0s\n",
      "[Parallel(n_jobs=15)]: Done 2858 tasks      | elapsed:   34.9s\n",
      "[Parallel(n_jobs=15)]: Done 2935 tasks      | elapsed:   35.9s\n",
      "[Parallel(n_jobs=15)]: Done 3012 tasks      | elapsed:   36.8s\n",
      "[Parallel(n_jobs=15)]: Done 3091 tasks      | elapsed:   37.7s\n",
      "[Parallel(n_jobs=15)]: Done 3170 tasks      | elapsed:   38.7s\n",
      "[Parallel(n_jobs=15)]: Done 3251 tasks      | elapsed:   39.6s\n",
      "[Parallel(n_jobs=15)]: Done 3332 tasks      | elapsed:   40.7s\n",
      "[Parallel(n_jobs=15)]: Done 3415 tasks      | elapsed:   41.6s\n",
      "[Parallel(n_jobs=15)]: Done 3498 tasks      | elapsed:   42.7s\n",
      "[Parallel(n_jobs=15)]: Done 3583 tasks      | elapsed:   43.6s\n",
      "[Parallel(n_jobs=15)]: Done 3668 tasks      | elapsed:   44.6s\n",
      "[Parallel(n_jobs=15)]: Done 3755 tasks      | elapsed:   45.7s\n",
      "[Parallel(n_jobs=15)]: Done 3842 tasks      | elapsed:   46.7s\n",
      "[Parallel(n_jobs=15)]: Done 3931 tasks      | elapsed:   47.8s\n",
      "[Parallel(n_jobs=15)]: Done 4020 tasks      | elapsed:   48.8s\n",
      "[Parallel(n_jobs=15)]: Done 4111 tasks      | elapsed:   49.9s\n",
      "[Parallel(n_jobs=15)]: Done 4202 tasks      | elapsed:   51.1s\n",
      "[Parallel(n_jobs=15)]: Done 4295 tasks      | elapsed:   52.2s\n",
      "[Parallel(n_jobs=15)]: Done 4388 tasks      | elapsed:   53.3s\n",
      "[Parallel(n_jobs=15)]: Done 4483 tasks      | elapsed:   54.4s\n",
      "[Parallel(n_jobs=15)]: Done 4578 tasks      | elapsed:   55.5s\n",
      "[Parallel(n_jobs=15)]: Done 4675 tasks      | elapsed:   56.7s\n",
      "[Parallel(n_jobs=15)]: Done 4772 tasks      | elapsed:   57.8s\n",
      "[Parallel(n_jobs=15)]: Done 4871 tasks      | elapsed:   59.0s\n",
      "[Parallel(n_jobs=15)]: Done 4970 tasks      | elapsed:  1.0min\n",
      "[Parallel(n_jobs=15)]: Done 5071 tasks      | elapsed:  1.0min\n",
      "[Parallel(n_jobs=15)]: Done 5120 out of 5120 | elapsed:  1.0min finished\n"
     ]
    }
   ],
   "source": [
    "#runtimes range from 9m 32s to 18m 7s on wittgenstein\n",
    "# times_between_onsets_bbn = []\n",
    "# for call_id in call_ids:\n",
    "#     my_utts = sorted([u for u in bbn_transcription_relation if u['call_id'] == call_id], key=lambda u:u['start'])\n",
    "#     starts = my_utts[:-1]\n",
    "#     ends = my_utts[1:]\n",
    "#     adjacent_pairs = zip(starts, ends)\n",
    "#     time_between_onsets = lambda pair: pair[1]['start'] - pair[0]['start']\n",
    "#     times_to_next_utt = list(map(time_between_onsets,\n",
    "#                                  adjacent_pairs))\n",
    "#     times_between_onsets_bbn.extend(times_to_next_utt)\n",
    "\n",
    "#runtime is ≈45s on wittgenstein\n",
    "def calc_onset_deltas_for_bbn(call_id):\n",
    "    my_utts = sorted([u for u in bbn_transcription_relation if u['call_id'] == call_id and u['has_words']], key=lambda u:u['start'])\n",
    "    starts = my_utts[:-1]\n",
    "    ends = my_utts[1:]\n",
    "    adjacent_pairs = zip(starts, ends)\n",
    "    time_between_onsets = lambda pair: pair[1]['start'] - pair[0]['start']\n",
    "    times_to_next_utt = list(map(time_between_onsets,\n",
    "                                 adjacent_pairs))\n",
    "    return times_to_next_utt\n",
    "\n",
    "times_between_onsets_bbn = list(chain.from_iterable(par(delayed(calc_onset_deltas_for_bbn)(call_id)\n",
    "                                                        for call_id in call_ids_bbn)))"
   ]
  },
  {
   "cell_type": "code",
   "execution_count": 176,
   "metadata": {
    "ExecuteTime": {
     "end_time": "2019-09-05T05:26:22.098720Z",
     "start_time": "2019-09-05T05:26:19.954317Z"
    }
   },
   "outputs": [],
   "source": [
    "durations_df_bbn = pd.DataFrame(list(map(lambda d: {\"Duration\":d},\n",
    "                                     utterance_durations_bbn)))\n",
    "lengths_df_bbn = pd.DataFrame(list(map(lambda d: {\"Length\":d},\n",
    "                                   utterance_lengths_bbn)))\n",
    "onset_deltas_df_bbn = pd.DataFrame(list(map(lambda d: {\"Onset_Delta\":d},\n",
    "                                        times_between_onsets_bbn)))"
   ]
  },
  {
   "cell_type": "code",
   "execution_count": 177,
   "metadata": {
    "ExecuteTime": {
     "end_time": "2019-09-05T05:26:30.004868Z",
     "start_time": "2019-09-05T05:26:22.099999Z"
    }
   },
   "outputs": [
    {
     "name": "stderr",
     "output_type": "stream",
     "text": [
      "/home/AD/emeinhar/anaconda3/envs/jax-gpu2/lib/python3.7/site-packages/plotnine/scales/scale.py:93: MatplotlibDeprecationWarning: \n",
      "The iterable function was deprecated in Matplotlib 3.1 and will be removed in 3.3. Use np.iterable instead.\n",
      "  if cbook.iterable(self.breaks) and cbook.iterable(self.labels):\n",
      "/home/AD/emeinhar/anaconda3/envs/jax-gpu2/lib/python3.7/site-packages/plotnine/stats/stat_bin.py:93: UserWarning: 'stat_bin()' using 'bins = 2127'. Pick better value with 'binwidth'.\n",
      "  warn(msg.format(params['bins']))\n",
      "/home/AD/emeinhar/anaconda3/envs/jax-gpu2/lib/python3.7/site-packages/plotnine/utils.py:553: MatplotlibDeprecationWarning: \n",
      "The iterable function was deprecated in Matplotlib 3.1 and will be removed in 3.3. Use np.iterable instead.\n",
      "  return cbook.iterable(var) and not is_string(var)\n"
     ]
    },
    {
     "data": {
      "image/png": "[encoded data removed]",
      "text/plain": [
       "<Figure size 640x480 with 1 Axes>"
      ]
     },
     "metadata": {},
     "output_type": "display_data"
    },
    {
     "data": {
      "text/plain": [
       "<ggplot: (8731245702537)>"
      ]
     },
     "execution_count": 177,
     "metadata": {},
     "output_type": "execute_result"
    },
    {
     "name": "stderr",
     "output_type": "stream",
     "text": [
      "/home/AD/emeinhar/anaconda3/envs/jax-gpu2/lib/python3.7/site-packages/plotnine/scales/scale.py:93: MatplotlibDeprecationWarning: \n",
      "The iterable function was deprecated in Matplotlib 3.1 and will be removed in 3.3. Use np.iterable instead.\n",
      "  if cbook.iterable(self.breaks) and cbook.iterable(self.labels):\n",
      "/home/AD/emeinhar/anaconda3/envs/jax-gpu2/lib/python3.7/site-packages/plotnine/stats/stat_bin.py:93: UserWarning: 'stat_bin()' using 'bins = 167'. Pick better value with 'binwidth'.\n",
      "  warn(msg.format(params['bins']))\n",
      "/home/AD/emeinhar/anaconda3/envs/jax-gpu2/lib/python3.7/site-packages/plotnine/layer.py:360: UserWarning: stat_bin : Removed 25051 rows containing non-finite values.\n",
      "  data = self.stat.compute_layer(data, params, layout)\n",
      "/home/AD/emeinhar/anaconda3/envs/jax-gpu2/lib/python3.7/site-packages/plotnine/layer.py:449: UserWarning: geom_histogram : Removed 2 rows containing missing values.\n",
      "  self.data = self.geom.handle_na(self.data)\n",
      "/home/AD/emeinhar/anaconda3/envs/jax-gpu2/lib/python3.7/site-packages/plotnine/utils.py:553: MatplotlibDeprecationWarning: \n",
      "The iterable function was deprecated in Matplotlib 3.1 and will be removed in 3.3. Use np.iterable instead.\n",
      "  return cbook.iterable(var) and not is_string(var)\n"
     ]
    },
    {
     "data": {
      "image/png": "[encoded data removed]",
      "text/plain": [
       "<Figure size 640x480 with 1 Axes>"
      ]
     },
     "metadata": {},
     "output_type": "display_data"
    },
    {
     "data": {
      "text/plain": [
       "<ggplot: (8731393064257)>"
      ]
     },
     "execution_count": 177,
     "metadata": {},
     "output_type": "execute_result"
    }
   ],
   "source": [
    "ggplot(durations_df_bbn, aes(x=\"Duration\")) + geom_histogram()\n",
    "# ggplot(durations_df_bbn, aes(x=\"Duration\")) + geom_histogram() + xlim(0.0,100000)\n",
    "bbn_durations_plot = ggplot(durations_df_bbn, aes(x=\"Duration\")) + geom_histogram() + xlim(0.0,100000)\n",
    "bbn_durations_plot"
   ]
  },
  {
   "cell_type": "code",
   "execution_count": 178,
   "metadata": {
    "ExecuteTime": {
     "end_time": "2019-09-05T05:26:34.214226Z",
     "start_time": "2019-09-05T05:26:30.006152Z"
    }
   },
   "outputs": [
    {
     "name": "stderr",
     "output_type": "stream",
     "text": [
      "/home/AD/emeinhar/anaconda3/envs/jax-gpu2/lib/python3.7/site-packages/plotnine/scales/scale.py:93: MatplotlibDeprecationWarning: \n",
      "The iterable function was deprecated in Matplotlib 3.1 and will be removed in 3.3. Use np.iterable instead.\n",
      "  if cbook.iterable(self.breaks) and cbook.iterable(self.labels):\n",
      "/home/AD/emeinhar/anaconda3/envs/jax-gpu2/lib/python3.7/site-packages/plotnine/stats/stat_bin.py:93: UserWarning: 'stat_bin()' using 'bins = 393'. Pick better value with 'binwidth'.\n",
      "  warn(msg.format(params['bins']))\n",
      "/home/AD/emeinhar/anaconda3/envs/jax-gpu2/lib/python3.7/site-packages/plotnine/utils.py:553: MatplotlibDeprecationWarning: \n",
      "The iterable function was deprecated in Matplotlib 3.1 and will be removed in 3.3. Use np.iterable instead.\n",
      "  return cbook.iterable(var) and not is_string(var)\n"
     ]
    },
    {
     "data": {
      "image/png": "[encoded data removed]",
      "text/plain": [
       "<Figure size 640x480 with 1 Axes>"
      ]
     },
     "metadata": {},
     "output_type": "display_data"
    },
    {
     "data": {
      "text/plain": [
       "<ggplot: (8731239055789)>"
      ]
     },
     "execution_count": 178,
     "metadata": {},
     "output_type": "execute_result"
    },
    {
     "name": "stderr",
     "output_type": "stream",
     "text": [
      "/home/AD/emeinhar/anaconda3/envs/jax-gpu2/lib/python3.7/site-packages/plotnine/scales/scale.py:93: MatplotlibDeprecationWarning: \n",
      "The iterable function was deprecated in Matplotlib 3.1 and will be removed in 3.3. Use np.iterable instead.\n",
      "  if cbook.iterable(self.breaks) and cbook.iterable(self.labels):\n",
      "/home/AD/emeinhar/anaconda3/envs/jax-gpu2/lib/python3.7/site-packages/plotnine/stats/stat_bin.py:93: UserWarning: 'stat_bin()' using 'bins = 221'. Pick better value with 'binwidth'.\n",
      "  warn(msg.format(params['bins']))\n",
      "/home/AD/emeinhar/anaconda3/envs/jax-gpu2/lib/python3.7/site-packages/plotnine/layer.py:360: UserWarning: stat_bin : Removed 1266 rows containing non-finite values.\n",
      "  data = self.stat.compute_layer(data, params, layout)\n",
      "/home/AD/emeinhar/anaconda3/envs/jax-gpu2/lib/python3.7/site-packages/plotnine/layer.py:449: UserWarning: geom_histogram : Removed 2 rows containing missing values.\n",
      "  self.data = self.geom.handle_na(self.data)\n",
      "/home/AD/emeinhar/anaconda3/envs/jax-gpu2/lib/python3.7/site-packages/plotnine/utils.py:553: MatplotlibDeprecationWarning: \n",
      "The iterable function was deprecated in Matplotlib 3.1 and will be removed in 3.3. Use np.iterable instead.\n",
      "  return cbook.iterable(var) and not is_string(var)\n"
     ]
    },
    {
     "data": {
      "image/png": "[encoded data removed]",
      "text/plain": [
       "<Figure size 640x480 with 1 Axes>"
      ]
     },
     "metadata": {},
     "output_type": "display_data"
    },
    {
     "data": {
      "text/plain": [
       "<ggplot: (8731394435101)>"
      ]
     },
     "execution_count": 178,
     "metadata": {},
     "output_type": "execute_result"
    }
   ],
   "source": [
    "ggplot(lengths_df_bbn, aes(x=\"Length\")) + geom_histogram()\n",
    "# ggplot(lengths_df_bbn, aes(x=\"Length\")) + geom_histogram() + xlim(0.0, 60.0)\n",
    "bbn_lengths_plot = ggplot(lengths_df_bbn, aes(x=\"Length\")) + geom_histogram() + xlim(0.0, 60.0)\n",
    "bbn_lengths_plot"
   ]
  },
  {
   "cell_type": "code",
   "execution_count": 179,
   "metadata": {
    "ExecuteTime": {
     "end_time": "2019-09-05T05:26:44.314499Z",
     "start_time": "2019-09-05T05:26:34.215182Z"
    }
   },
   "outputs": [
    {
     "name": "stderr",
     "output_type": "stream",
     "text": [
      "/home/AD/emeinhar/anaconda3/envs/jax-gpu2/lib/python3.7/site-packages/plotnine/scales/scale.py:93: MatplotlibDeprecationWarning: \n",
      "The iterable function was deprecated in Matplotlib 3.1 and will be removed in 3.3. Use np.iterable instead.\n",
      "  if cbook.iterable(self.breaks) and cbook.iterable(self.labels):\n",
      "/home/AD/emeinhar/anaconda3/envs/jax-gpu2/lib/python3.7/site-packages/plotnine/stats/stat_bin.py:93: UserWarning: 'stat_bin()' using 'bins = 2842'. Pick better value with 'binwidth'.\n",
      "  warn(msg.format(params['bins']))\n",
      "/home/AD/emeinhar/anaconda3/envs/jax-gpu2/lib/python3.7/site-packages/plotnine/utils.py:553: MatplotlibDeprecationWarning: \n",
      "The iterable function was deprecated in Matplotlib 3.1 and will be removed in 3.3. Use np.iterable instead.\n",
      "  return cbook.iterable(var) and not is_string(var)\n"
     ]
    },
    {
     "data": {
      "image/png": "[encoded data removed]",
      "text/plain": [
       "<Figure size 640x480 with 1 Axes>"
      ]
     },
     "metadata": {},
     "output_type": "display_data"
    },
    {
     "data": {
      "text/plain": [
       "<ggplot: (8731238912621)>"
      ]
     },
     "execution_count": 179,
     "metadata": {},
     "output_type": "execute_result"
    },
    {
     "name": "stderr",
     "output_type": "stream",
     "text": [
      "/home/AD/emeinhar/anaconda3/envs/jax-gpu2/lib/python3.7/site-packages/plotnine/scales/scale.py:93: MatplotlibDeprecationWarning: \n",
      "The iterable function was deprecated in Matplotlib 3.1 and will be removed in 3.3. Use np.iterable instead.\n",
      "  if cbook.iterable(self.breaks) and cbook.iterable(self.labels):\n",
      "/home/AD/emeinhar/anaconda3/envs/jax-gpu2/lib/python3.7/site-packages/plotnine/stats/stat_bin.py:93: UserWarning: 'stat_bin()' using 'bins = 191'. Pick better value with 'binwidth'.\n",
      "  warn(msg.format(params['bins']))\n",
      "/home/AD/emeinhar/anaconda3/envs/jax-gpu2/lib/python3.7/site-packages/plotnine/layer.py:360: UserWarning: stat_bin : Removed 10560 rows containing non-finite values.\n",
      "  data = self.stat.compute_layer(data, params, layout)\n",
      "/home/AD/emeinhar/anaconda3/envs/jax-gpu2/lib/python3.7/site-packages/plotnine/layer.py:449: UserWarning: geom_histogram : Removed 2 rows containing missing values.\n",
      "  self.data = self.geom.handle_na(self.data)\n",
      "/home/AD/emeinhar/anaconda3/envs/jax-gpu2/lib/python3.7/site-packages/plotnine/utils.py:553: MatplotlibDeprecationWarning: \n",
      "The iterable function was deprecated in Matplotlib 3.1 and will be removed in 3.3. Use np.iterable instead.\n",
      "  return cbook.iterable(var) and not is_string(var)\n"
     ]
    },
    {
     "data": {
      "image/png": "[encoded data removed]",
      "text/plain": [
       "<Figure size 640x480 with 1 Axes>"
      ]
     },
     "metadata": {},
     "output_type": "display_data"
    },
    {
     "data": {
      "text/plain": [
       "<ggplot: (8731239097917)>"
      ]
     },
     "execution_count": 179,
     "metadata": {},
     "output_type": "execute_result"
    }
   ],
   "source": [
    "ggplot(onset_deltas_df_bbn, aes(x=\"Onset_Delta\")) + geom_histogram()\n",
    "# ggplot(onset_deltas_df_bbn, aes(x=\"Onset_Delta\")) + geom_histogram() + xlim(0.0, 100000)\n",
    "bbn_onset_deltas_plot = ggplot(onset_deltas_df_bbn, aes(x=\"Onset_Delta\")) + geom_histogram() + xlim(0.0, 100000)\n",
    "bbn_onset_deltas_plot"
   ]
  },
  {
   "cell_type": "markdown",
   "metadata": {},
   "source": [
    "### Side-by-side plot comparisons"
   ]
  },
  {
   "cell_type": "code",
   "execution_count": 180,
   "metadata": {
    "ExecuteTime": {
     "end_time": "2019-09-05T05:26:47.588152Z",
     "start_time": "2019-09-05T05:26:44.315608Z"
    }
   },
   "outputs": [
    {
     "name": "stderr",
     "output_type": "stream",
     "text": [
      "/home/AD/emeinhar/anaconda3/envs/jax-gpu2/lib/python3.7/site-packages/plotnine/stats/stat_bin.py:93: UserWarning: 'stat_bin()' using 'bins = 307'. Pick better value with 'binwidth'.\n",
      "  warn(msg.format(params['bins']))\n",
      "/home/AD/emeinhar/anaconda3/envs/jax-gpu2/lib/python3.7/site-packages/plotnine/layer.py:360: UserWarning: stat_bin : Removed 24 rows containing non-finite values.\n",
      "  data = self.stat.compute_layer(data, params, layout)\n",
      "/home/AD/emeinhar/anaconda3/envs/jax-gpu2/lib/python3.7/site-packages/plotnine/scales/scale.py:93: MatplotlibDeprecationWarning: \n",
      "The iterable function was deprecated in Matplotlib 3.1 and will be removed in 3.3. Use np.iterable instead.\n",
      "  if cbook.iterable(self.breaks) and cbook.iterable(self.labels):\n",
      "/home/AD/emeinhar/anaconda3/envs/jax-gpu2/lib/python3.7/site-packages/plotnine/layer.py:449: UserWarning: geom_histogram : Removed 2 rows containing missing values.\n",
      "  self.data = self.geom.handle_na(self.data)\n",
      "/home/AD/emeinhar/anaconda3/envs/jax-gpu2/lib/python3.7/site-packages/plotnine/utils.py:553: MatplotlibDeprecationWarning: \n",
      "The iterable function was deprecated in Matplotlib 3.1 and will be removed in 3.3. Use np.iterable instead.\n",
      "  return cbook.iterable(var) and not is_string(var)\n"
     ]
    },
    {
     "data": {
      "image/png": "[encoded data removed]",
      "text/plain": [
       "<Figure size 640x480 with 1 Axes>"
      ]
     },
     "metadata": {},
     "output_type": "display_data"
    },
    {
     "data": {
      "text/plain": [
       "<ggplot: (8731488498065)>"
      ]
     },
     "execution_count": 180,
     "metadata": {},
     "output_type": "execute_result"
    },
    {
     "name": "stderr",
     "output_type": "stream",
     "text": [
      "/home/AD/emeinhar/anaconda3/envs/jax-gpu2/lib/python3.7/site-packages/plotnine/stats/stat_bin.py:93: UserWarning: 'stat_bin()' using 'bins = 167'. Pick better value with 'binwidth'.\n",
      "  warn(msg.format(params['bins']))\n",
      "/home/AD/emeinhar/anaconda3/envs/jax-gpu2/lib/python3.7/site-packages/plotnine/layer.py:360: UserWarning: stat_bin : Removed 25051 rows containing non-finite values.\n",
      "  data = self.stat.compute_layer(data, params, layout)\n",
      "/home/AD/emeinhar/anaconda3/envs/jax-gpu2/lib/python3.7/site-packages/plotnine/scales/scale.py:93: MatplotlibDeprecationWarning: \n",
      "The iterable function was deprecated in Matplotlib 3.1 and will be removed in 3.3. Use np.iterable instead.\n",
      "  if cbook.iterable(self.breaks) and cbook.iterable(self.labels):\n",
      "/home/AD/emeinhar/anaconda3/envs/jax-gpu2/lib/python3.7/site-packages/plotnine/layer.py:449: UserWarning: geom_histogram : Removed 2 rows containing missing values.\n",
      "  self.data = self.geom.handle_na(self.data)\n",
      "/home/AD/emeinhar/anaconda3/envs/jax-gpu2/lib/python3.7/site-packages/plotnine/utils.py:553: MatplotlibDeprecationWarning: \n",
      "The iterable function was deprecated in Matplotlib 3.1 and will be removed in 3.3. Use np.iterable instead.\n",
      "  return cbook.iterable(var) and not is_string(var)\n"
     ]
    },
    {
     "data": {
      "image/png": "[encoded data removed]",
      "text/plain": [
       "<Figure size 640x480 with 1 Axes>"
      ]
     },
     "metadata": {},
     "output_type": "display_data"
    },
    {
     "data": {
      "text/plain": [
       "<ggplot: (8731393064257)>"
      ]
     },
     "execution_count": 180,
     "metadata": {},
     "output_type": "execute_result"
    }
   ],
   "source": [
    "main_durations_plot\n",
    "bbn_durations_plot"
   ]
  },
  {
   "cell_type": "code",
   "execution_count": 181,
   "metadata": {
    "ExecuteTime": {
     "end_time": "2019-09-05T05:26:50.885233Z",
     "start_time": "2019-09-05T05:26:47.589254Z"
    }
   },
   "outputs": [
    {
     "name": "stderr",
     "output_type": "stream",
     "text": [
      "/home/AD/emeinhar/anaconda3/envs/jax-gpu2/lib/python3.7/site-packages/plotnine/stats/stat_bin.py:93: UserWarning: 'stat_bin()' using 'bins = 253'. Pick better value with 'binwidth'.\n",
      "  warn(msg.format(params['bins']))\n",
      "/home/AD/emeinhar/anaconda3/envs/jax-gpu2/lib/python3.7/site-packages/plotnine/layer.py:360: UserWarning: stat_bin : Removed 1271 rows containing non-finite values.\n",
      "  data = self.stat.compute_layer(data, params, layout)\n",
      "/home/AD/emeinhar/anaconda3/envs/jax-gpu2/lib/python3.7/site-packages/plotnine/scales/scale.py:93: MatplotlibDeprecationWarning: \n",
      "The iterable function was deprecated in Matplotlib 3.1 and will be removed in 3.3. Use np.iterable instead.\n",
      "  if cbook.iterable(self.breaks) and cbook.iterable(self.labels):\n",
      "/home/AD/emeinhar/anaconda3/envs/jax-gpu2/lib/python3.7/site-packages/plotnine/layer.py:449: UserWarning: geom_histogram : Removed 2 rows containing missing values.\n",
      "  self.data = self.geom.handle_na(self.data)\n",
      "/home/AD/emeinhar/anaconda3/envs/jax-gpu2/lib/python3.7/site-packages/plotnine/utils.py:553: MatplotlibDeprecationWarning: \n",
      "The iterable function was deprecated in Matplotlib 3.1 and will be removed in 3.3. Use np.iterable instead.\n",
      "  return cbook.iterable(var) and not is_string(var)\n"
     ]
    },
    {
     "data": {
      "image/png": "[encoded data removed]",
      "text/plain": [
       "<Figure size 640x480 with 1 Axes>"
      ]
     },
     "metadata": {},
     "output_type": "display_data"
    },
    {
     "data": {
      "text/plain": [
       "<ggplot: (8731394512825)>"
      ]
     },
     "execution_count": 181,
     "metadata": {},
     "output_type": "execute_result"
    },
    {
     "name": "stderr",
     "output_type": "stream",
     "text": [
      "/home/AD/emeinhar/anaconda3/envs/jax-gpu2/lib/python3.7/site-packages/plotnine/stats/stat_bin.py:93: UserWarning: 'stat_bin()' using 'bins = 221'. Pick better value with 'binwidth'.\n",
      "  warn(msg.format(params['bins']))\n",
      "/home/AD/emeinhar/anaconda3/envs/jax-gpu2/lib/python3.7/site-packages/plotnine/layer.py:360: UserWarning: stat_bin : Removed 1266 rows containing non-finite values.\n",
      "  data = self.stat.compute_layer(data, params, layout)\n",
      "/home/AD/emeinhar/anaconda3/envs/jax-gpu2/lib/python3.7/site-packages/plotnine/scales/scale.py:93: MatplotlibDeprecationWarning: \n",
      "The iterable function was deprecated in Matplotlib 3.1 and will be removed in 3.3. Use np.iterable instead.\n",
      "  if cbook.iterable(self.breaks) and cbook.iterable(self.labels):\n",
      "/home/AD/emeinhar/anaconda3/envs/jax-gpu2/lib/python3.7/site-packages/plotnine/layer.py:449: UserWarning: geom_histogram : Removed 2 rows containing missing values.\n",
      "  self.data = self.geom.handle_na(self.data)\n",
      "/home/AD/emeinhar/anaconda3/envs/jax-gpu2/lib/python3.7/site-packages/plotnine/utils.py:553: MatplotlibDeprecationWarning: \n",
      "The iterable function was deprecated in Matplotlib 3.1 and will be removed in 3.3. Use np.iterable instead.\n",
      "  return cbook.iterable(var) and not is_string(var)\n"
     ]
    },
    {
     "data": {
      "image/png": "[encoded data removed]",
      "text/plain": [
       "<Figure size 640x480 with 1 Axes>"
      ]
     },
     "metadata": {},
     "output_type": "display_data"
    },
    {
     "data": {
      "text/plain": [
       "<ggplot: (8731394435101)>"
      ]
     },
     "execution_count": 181,
     "metadata": {},
     "output_type": "execute_result"
    }
   ],
   "source": [
    "main_length_plot\n",
    "bbn_lengths_plot"
   ]
  },
  {
   "cell_type": "code",
   "execution_count": 182,
   "metadata": {
    "ExecuteTime": {
     "end_time": "2019-09-05T05:26:54.498441Z",
     "start_time": "2019-09-05T05:26:50.886471Z"
    }
   },
   "outputs": [
    {
     "name": "stderr",
     "output_type": "stream",
     "text": [
      "/home/AD/emeinhar/anaconda3/envs/jax-gpu2/lib/python3.7/site-packages/plotnine/stats/stat_bin.py:93: UserWarning: 'stat_bin()' using 'bins = 338'. Pick better value with 'binwidth'.\n",
      "  warn(msg.format(params['bins']))\n",
      "/home/AD/emeinhar/anaconda3/envs/jax-gpu2/lib/python3.7/site-packages/plotnine/layer.py:360: UserWarning: stat_bin : Removed 221 rows containing non-finite values.\n",
      "  data = self.stat.compute_layer(data, params, layout)\n",
      "/home/AD/emeinhar/anaconda3/envs/jax-gpu2/lib/python3.7/site-packages/plotnine/scales/scale.py:93: MatplotlibDeprecationWarning: \n",
      "The iterable function was deprecated in Matplotlib 3.1 and will be removed in 3.3. Use np.iterable instead.\n",
      "  if cbook.iterable(self.breaks) and cbook.iterable(self.labels):\n",
      "/home/AD/emeinhar/anaconda3/envs/jax-gpu2/lib/python3.7/site-packages/plotnine/layer.py:449: UserWarning: geom_histogram : Removed 2 rows containing missing values.\n",
      "  self.data = self.geom.handle_na(self.data)\n",
      "/home/AD/emeinhar/anaconda3/envs/jax-gpu2/lib/python3.7/site-packages/plotnine/utils.py:553: MatplotlibDeprecationWarning: \n",
      "The iterable function was deprecated in Matplotlib 3.1 and will be removed in 3.3. Use np.iterable instead.\n",
      "  return cbook.iterable(var) and not is_string(var)\n"
     ]
    },
    {
     "data": {
      "image/png": "[encoded data removed]",
      "text/plain": [
       "<Figure size 640x480 with 1 Axes>"
      ]
     },
     "metadata": {},
     "output_type": "display_data"
    },
    {
     "data": {
      "text/plain": [
       "<ggplot: (8731393073929)>"
      ]
     },
     "execution_count": 182,
     "metadata": {},
     "output_type": "execute_result"
    },
    {
     "name": "stderr",
     "output_type": "stream",
     "text": [
      "/home/AD/emeinhar/anaconda3/envs/jax-gpu2/lib/python3.7/site-packages/plotnine/stats/stat_bin.py:93: UserWarning: 'stat_bin()' using 'bins = 191'. Pick better value with 'binwidth'.\n",
      "  warn(msg.format(params['bins']))\n",
      "/home/AD/emeinhar/anaconda3/envs/jax-gpu2/lib/python3.7/site-packages/plotnine/layer.py:360: UserWarning: stat_bin : Removed 10560 rows containing non-finite values.\n",
      "  data = self.stat.compute_layer(data, params, layout)\n",
      "/home/AD/emeinhar/anaconda3/envs/jax-gpu2/lib/python3.7/site-packages/plotnine/scales/scale.py:93: MatplotlibDeprecationWarning: \n",
      "The iterable function was deprecated in Matplotlib 3.1 and will be removed in 3.3. Use np.iterable instead.\n",
      "  if cbook.iterable(self.breaks) and cbook.iterable(self.labels):\n",
      "/home/AD/emeinhar/anaconda3/envs/jax-gpu2/lib/python3.7/site-packages/plotnine/layer.py:449: UserWarning: geom_histogram : Removed 2 rows containing missing values.\n",
      "  self.data = self.geom.handle_na(self.data)\n",
      "/home/AD/emeinhar/anaconda3/envs/jax-gpu2/lib/python3.7/site-packages/plotnine/utils.py:553: MatplotlibDeprecationWarning: \n",
      "The iterable function was deprecated in Matplotlib 3.1 and will be removed in 3.3. Use np.iterable instead.\n",
      "  return cbook.iterable(var) and not is_string(var)\n"
     ]
    },
    {
     "data": {
      "image/png": "[encoded data removed]",
      "text/plain": [
       "<Figure size 640x480 with 1 Axes>"
      ]
     },
     "metadata": {},
     "output_type": "display_data"
    },
    {
     "data": {
      "text/plain": [
       "<ggplot: (8731239097917)>"
      ]
     },
     "execution_count": 182,
     "metadata": {},
     "output_type": "execute_result"
    }
   ],
   "source": [
    "main_onset_deltas_plot\n",
    "bbn_onset_deltas_plot"
   ]
  },
  {
   "cell_type": "markdown",
   "metadata": {},
   "source": [
    "## Useful examples"
   ]
  },
  {
   "cell_type": "code",
   "execution_count": 183,
   "metadata": {
    "ExecuteTime": {
     "end_time": "2019-09-05T05:26:54.502408Z",
     "start_time": "2019-09-05T05:26:54.499601Z"
    }
   },
   "outputs": [
    {
     "data": {
      "text/plain": [
       "{'speech_raw': \"I'M FINE AND YOU\",\n",
       " 'audio_fn': 'fe_03_05863.sph',\n",
       " 'n_words': 4,\n",
       " 'call_id': '05863',\n",
       " 'duration': 11040,\n",
       " 'utterance_id': 'fe_03_05863-A-0004',\n",
       " 'speech': \"i'm fine and you\",\n",
       " 'has_words': True,\n",
       " 'speaker': 'A',\n",
       " 'start': 77280,\n",
       " 'end': 88320,\n",
       " 'type': 'NIST_1A',\n",
       " 'channel': 1,\n",
       " 'auto-segmented_ana_location': '/mnt/truffle/corpora/fisher_english_transcripts/fe_03_p2_tran/data/bbn_orig/058/auto-segmented/fe_03_05863.ana',\n",
       " 'auto-segmented_trn_location': '/mnt/truffle/corpora/fisher_english_transcripts/fe_03_p2_tran/data/bbn_orig/058/auto-segmented/fe_03_05863.trn',\n",
       " 'trn_fn': 'fe_03_05863.trn',\n",
       " 'ana_fn': 'fe_03_05863.ana',\n",
       " 'rejected_ana_location': '/mnt/truffle/corpora/fisher_english_transcripts/fe_03_p2_tran/data/bbn_orig/058/rejected/fe_03_05863.ana',\n",
       " 'rejected_trn_location': '/mnt/truffle/corpora/fisher_english_transcripts/fe_03_p2_tran/data/bbn_orig/058/rejected/fe_03_05863.trn'}"
      ]
     },
     "execution_count": 183,
     "metadata": {},
     "output_type": "execute_result"
    }
   ],
   "source": [
    "bbn_transcription_relation[3]"
   ]
  },
  {
   "cell_type": "code",
   "execution_count": 184,
   "metadata": {
    "ExecuteTime": {
     "end_time": "2019-09-05T05:26:54.507270Z",
     "start_time": "2019-09-05T05:26:54.503415Z"
    }
   },
   "outputs": [],
   "source": [
    "# tsFor10622 = [t for t in bbn_transcription_relation if t['call_id'] == '10622']\n",
    "# len(tsFor10622)"
   ]
  },
  {
   "cell_type": "code",
   "execution_count": 185,
   "metadata": {
    "ExecuteTime": {
     "end_time": "2019-09-05T05:26:54.512032Z",
     "start_time": "2019-09-05T05:26:54.508328Z"
    }
   },
   "outputs": [],
   "source": [
    "# [t for t in bbn_transcription_relation if 'BIO TERROR' in t['speech']]"
   ]
  },
  {
   "cell_type": "markdown",
   "metadata": {},
   "source": [
    "# Using `kenlm`"
   ]
  },
  {
   "cell_type": "code",
   "execution_count": 186,
   "metadata": {
    "ExecuteTime": {
     "end_time": "2019-09-05T05:26:54.518372Z",
     "start_time": "2019-09-05T05:26:54.513467Z"
    }
   },
   "outputs": [
    {
     "data": {
      "text/plain": [
       "'/mnt/cube/home/AD/emeinhar/fisher-lm'"
      ]
     },
     "execution_count": 186,
     "metadata": {},
     "output_type": "execute_result"
    }
   ],
   "source": [
    "os.chdir(repo_dir)\n",
    "os.getcwd()"
   ]
  },
  {
   "cell_type": "code",
   "execution_count": 187,
   "metadata": {
    "ExecuteTime": {
     "end_time": "2019-09-05T05:26:54.753125Z",
     "start_time": "2019-09-05T05:26:54.519746Z"
    }
   },
   "outputs": [
    {
     "name": "stdout",
     "output_type": "stream",
     "text": [
      " fisher_test_utterances_rev.txt\r\n",
      " fisher_test_utterances.txt\r\n",
      " fisher_training_utterances_1gram.arpa\r\n",
      " fisher_training_utterances_2gram.arpa\r\n",
      " fisher_training_utterances_2gram.mmap\r\n",
      " fisher_training_utterances_3gram.arpa\r\n",
      " fisher_training_utterances_3gram.mmap\r\n",
      " fisher_training_utterances_4gram.arpa\r\n",
      " fisher_training_utterances_4gram.mmap\r\n",
      " fisher_training_utterances_5gram.arpa\r\n",
      " fisher_training_utterances_5gram.mmap\r\n",
      " fisher_training_utterances_rev_1gram.arpa\r\n",
      " fisher_training_utterances_rev_2gram.arpa\r\n",
      " fisher_training_utterances_rev_2gram.mmap\r\n",
      " fisher_training_utterances_rev_3gram.arpa\r\n",
      " fisher_training_utterances_rev_3gram.mmap\r\n",
      " fisher_training_utterances_rev_4gram.arpa\r\n",
      " fisher_training_utterances_rev_4gram.mmap\r\n",
      " fisher_training_utterances_rev_5gram.arpa\r\n",
      " fisher_training_utterances_rev_5gram.mmap\r\n",
      " fisher_training_utterances_rev.txt\r\n",
      " fisher_training_utterances.txt\r\n",
      " fisher_utterances_bbn_1gram.arpa\r\n",
      " fisher_utterances_bbn_2gram.arpa\r\n",
      " fisher_utterances_bbn_3gram.arpa\r\n",
      " fisher_utterances_bbn_4gram.arpa\r\n",
      " fisher_utterances_bbn_5gram.arpa\r\n",
      " fisher_utterances_bbn.txt\r\n",
      " fisher_utterances_main_1gram.arpa\r\n",
      " fisher_utterances_main_2gram.arpa\r\n",
      " fisher_utterances_main_3gram.arpa\r\n",
      " fisher_utterances_main_4gram.arpa\r\n",
      " fisher_utterances_main_4gram.mmap\r\n",
      " fisher_utterances_main_5gram.arpa\r\n",
      " fisher_utterances_main_5gram.mmap\r\n",
      " fisher_utterances_main.txt\r\n",
      " fisher_utterances_relation_bbn.json\r\n",
      " fisher_utterances_relation_main.json\r\n",
      " fisher_vocabulary_bbn.txt\r\n",
      " fisher_vocabulary_main.txt\r\n",
      "'Parameter selection for a LM trained on Fisher.ipynb'\r\n",
      "'Preprocessing Fisher corpus transcriptions for ease of processing and use with kenlm.ipynb'\r\n",
      " README.md\r\n"
     ]
    }
   ],
   "source": [
    "%ls"
   ]
  },
  {
   "cell_type": "markdown",
   "metadata": {},
   "source": [
    "## Check for format complaints"
   ]
  },
  {
   "cell_type": "markdown",
   "metadata": {},
   "source": [
    "Below is a dummy run, where we create a unigram model from \n",
    " - fisher_utterances_main.txt\n",
    " - fisher_utterances_bbn.txt\n",
    "to see if kenlm complains about the format of the files."
   ]
  },
  {
   "cell_type": "code",
   "execution_count": 188,
   "metadata": {
    "ExecuteTime": {
     "end_time": "2019-09-05T05:27:05.340929Z",
     "start_time": "2019-09-05T05:26:54.754726Z"
    }
   },
   "outputs": [
    {
     "name": "stdout",
     "output_type": "stream",
     "text": [
      "=== 1/5 Counting and sorting n-grams ===\n",
      "Reading /mnt/cube/home/AD/emeinhar/fisher-lm/fisher_utterances_main.txt\n",
      "----5---10---15---20---25---30---35---40---45---50---55---60---65---70---75---80---85---90---95--100\n",
      "****************************************************************************************************\n",
      "Unigram tokens 10731876 types 44067\n",
      "=== 2/5 Calculating and sorting adjusted counts ===\n",
      "Chain sizes: 1:528804\n",
      "Statistics:\n",
      "1 44067 D1=0.566009 D2=0.988153 D3+=1.45856\n",
      "Memory estimate for binary LM:\n",
      "type      kB\n",
      "probing 1893 assuming -p 1.5\n",
      "probing 2065 assuming -r models -p 1.5\n",
      "trie    1285 without quantization\n",
      "trie    1160 assuming -q 8 -b 8 quantization \n",
      "trie    1285 assuming -a 22 array pointer compression\n",
      "trie    1160 assuming -a 22 -q 8 -b 8 array pointer compression and quantization\n",
      "=== 3/5 Calculating and sorting initial probabilities ===\n",
      "Chain sizes: 1:528804\n",
      "=== 4/5 Calculating and writing order-interpolated probabilities ===\n",
      "Chain sizes: 1:528804\n",
      "=== 5/5 Writing ARPA model ===\n",
      "----5---10---15---20---25---30---35---40---45---50---55---60---65---70---75---80---85---90---95--100\n",
      "****************************************************************************************************\n",
      "Name:lmplz\tVmPeak:105752384 kB\tVmRSS:7704 kB\tRSSMax:35211596 kB\tuser:2.71414\tsys:7.42901\tCPU:10.1432\treal:10.201\n"
     ]
    }
   ],
   "source": [
    "!/home/AD/emeinhar/GitHub/kenlm/build/bin/lmplz -o 1 --text fisher_utterances_main.txt --arpa fisher_utterances_main_1gram.arpa"
   ]
  },
  {
   "cell_type": "code",
   "execution_count": 189,
   "metadata": {
    "ExecuteTime": {
     "end_time": "2019-09-05T05:27:15.295373Z",
     "start_time": "2019-09-05T05:27:05.342950Z"
    }
   },
   "outputs": [
    {
     "name": "stdout",
     "output_type": "stream",
     "text": [
      "=== 1/5 Counting and sorting n-grams ===\n",
      "Reading /mnt/cube/home/AD/emeinhar/fisher-lm/fisher_utterances_bbn.txt\n",
      "----5---10---15---20---25---30---35---40---45---50---55---60---65---70---75---80---85---90---95--100\n",
      "****************************************************************************************************\n",
      "Unigram tokens 9641143 types 42016\n",
      "=== 2/5 Calculating and sorting adjusted counts ===\n",
      "Chain sizes: 1:504192\n",
      "Statistics:\n",
      "1 42016 D1=0.560428 D2=1.0005 D3+=1.43457\n",
      "Memory estimate for binary LM:\n",
      "type      kB\n",
      "probing 1805 assuming -p 1.5\n",
      "probing 1969 assuming -r models -p 1.5\n",
      "trie    1225 without quantization\n",
      "trie    1106 assuming -q 8 -b 8 quantization \n",
      "trie    1225 assuming -a 22 array pointer compression\n",
      "trie    1106 assuming -a 22 -q 8 -b 8 array pointer compression and quantization\n",
      "=== 3/5 Calculating and sorting initial probabilities ===\n",
      "Chain sizes: 1:504192\n",
      "=== 4/5 Calculating and writing order-interpolated probabilities ===\n",
      "Chain sizes: 1:504192\n",
      "=== 5/5 Writing ARPA model ===\n",
      "----5---10---15---20---25---30---35---40---45---50---55---60---65---70---75---80---85---90---95--100\n",
      "****************************************************************************************************\n",
      "Name:lmplz\tVmPeak:105760580 kB\tVmRSS:7416 kB\tRSSMax:35211636 kB\tuser:2.29885\tsys:7.36666\tCPU:9.66553\treal:9.71681\n"
     ]
    }
   ],
   "source": [
    "!/home/AD/emeinhar/GitHub/kenlm/build/bin/lmplz -o 1 --text fisher_utterances_bbn.txt --arpa fisher_utterances_bbn_1gram.arpa"
   ]
  },
  {
   "cell_type": "markdown",
   "metadata": {},
   "source": [
    "## Timing tests"
   ]
  },
  {
   "cell_type": "markdown",
   "metadata": {},
   "source": [
    "Estimating a unigram model takes about 9s. Let's see how long progressively larger models take to estimate."
   ]
  },
  {
   "cell_type": "code",
   "execution_count": 190,
   "metadata": {
    "ExecuteTime": {
     "end_time": "2019-09-05T05:27:25.866892Z",
     "start_time": "2019-09-05T05:27:15.297506Z"
    }
   },
   "outputs": [
    {
     "name": "stdout",
     "output_type": "stream",
     "text": [
      "=== 1/5 Counting and sorting n-grams ===\n",
      "Reading /mnt/cube/home/AD/emeinhar/fisher-lm/fisher_utterances_main.txt\n",
      "----5---10---15---20---25---30---35---40---45---50---55---60---65---70---75---80---85---90---95--100\n",
      "****************************************************************************************************\n",
      "Unigram tokens 10731876 types 44067\n",
      "=== 2/5 Calculating and sorting adjusted counts ===\n",
      "Chain sizes: 1:528804 2:108102156288\n",
      "Statistics:\n",
      "1 44067 D1=0.573987 D2=0.970821 D3+=1.48062\n",
      "2 918932 D1=0.686281 D2=1.07337 D3+=1.39033\n",
      "Memory estimate for binary LM:\n",
      "type       kB\n",
      "probing 17272 assuming -p 1.5\n",
      "probing 17444 assuming -r models -p 1.5\n",
      "trie     6305 without quantization\n",
      "trie     3726 assuming -q 8 -b 8 quantization \n",
      "trie     6305 assuming -a 22 array pointer compression\n",
      "trie     3726 assuming -a 22 -q 8 -b 8 array pointer compression and quantization\n",
      "=== 3/5 Calculating and sorting initial probabilities ===\n",
      "Chain sizes: 1:528804 2:14702912\n",
      "----5---10---15---20---25---30---35---40---45---50---55---60---65---70---75---80---85---90---95--100\n",
      "####################################################################################################\n",
      "=== 4/5 Calculating and writing order-interpolated probabilities ===\n",
      "Chain sizes: 1:528804 2:14702912\n",
      "----5---10---15---20---25---30---35---40---45---50---55---60---65---70---75---80---85---90---95--100\n",
      "####################################################################################################\n",
      "=== 5/5 Writing ARPA model ===\n",
      "----5---10---15---20---25---30---35---40---45---50---55---60---65---70---75---80---85---90---95--100\n",
      "****************************************************************************************************\n",
      "Name:lmplz\tVmPeak:105760576 kB\tVmRSS:22108 kB\tRSSMax:28828276 kB\tuser:3.85367\tsys:6.27917\tCPU:10.1329\treal:10.3216\n"
     ]
    }
   ],
   "source": [
    "!/home/AD/emeinhar/GitHub/kenlm/build/bin/lmplz -o 2 --text fisher_utterances_main.txt --arpa fisher_utterances_main_2gram.arpa"
   ]
  },
  {
   "cell_type": "code",
   "execution_count": 191,
   "metadata": {
    "ExecuteTime": {
     "end_time": "2019-09-05T05:27:35.956119Z",
     "start_time": "2019-09-05T05:27:25.869004Z"
    }
   },
   "outputs": [
    {
     "name": "stdout",
     "output_type": "stream",
     "text": [
      "=== 1/5 Counting and sorting n-grams ===\n",
      "Reading /mnt/cube/home/AD/emeinhar/fisher-lm/fisher_utterances_bbn.txt\n",
      "----5---10---15---20---25---30---35---40---45---50---55---60---65---70---75---80---85---90---95--100\n",
      "****************************************************************************************************\n",
      "Unigram tokens 9641143 types 42016\n",
      "=== 2/5 Calculating and sorting adjusted counts ===\n",
      "Chain sizes: 1:504192 2:108102180864\n",
      "Statistics:\n",
      "1 42016 D1=0.568433 D2=0.981916 D3+=1.4966\n",
      "2 861817 D1=0.687395 D2=1.07196 D3+=1.3933\n",
      "Memory estimate for binary LM:\n",
      "type       kB\n",
      "probing 16215 assuming -p 1.5\n",
      "probing 16380 assuming -r models -p 1.5\n",
      "trie     5929 without quantization\n",
      "trie     3510 assuming -q 8 -b 8 quantization \n",
      "trie     5929 assuming -a 22 array pointer compression\n",
      "trie     3510 assuming -a 22 -q 8 -b 8 array pointer compression and quantization\n",
      "=== 3/5 Calculating and sorting initial probabilities ===\n",
      "Chain sizes: 1:504192 2:13789072\n",
      "----5---10---15---20---25---30---35---40---45---50---55---60---65---70---75---80---85---90---95--100\n",
      "####################################################################################################\n",
      "=== 4/5 Calculating and writing order-interpolated probabilities ===\n",
      "Chain sizes: 1:504192 2:13789072\n",
      "----5---10---15---20---25---30---35---40---45---50---55---60---65---70---75---80---85---90---95--100\n",
      "####################################################################################################\n",
      "=== 5/5 Writing ARPA model ===\n",
      "----5---10---15---20---25---30---35---40---45---50---55---60---65---70---75---80---85---90---95--100\n",
      "****************************************************************************************************\n",
      "Name:lmplz\tVmPeak:105760576 kB\tVmRSS:21160 kB\tRSSMax:28828428 kB\tuser:3.51485\tsys:6.16099\tCPU:9.67587\treal:9.83334\n"
     ]
    }
   ],
   "source": [
    "!/home/AD/emeinhar/GitHub/kenlm/build/bin/lmplz -o 2 --text fisher_utterances_bbn.txt --arpa fisher_utterances_bbn_2gram.arpa"
   ]
  },
  {
   "cell_type": "code",
   "execution_count": 192,
   "metadata": {
    "ExecuteTime": {
     "end_time": "2019-09-05T05:27:49.135857Z",
     "start_time": "2019-09-05T05:27:35.958219Z"
    }
   },
   "outputs": [
    {
     "name": "stdout",
     "output_type": "stream",
     "text": [
      "=== 1/5 Counting and sorting n-grams ===\n",
      "Reading /mnt/cube/home/AD/emeinhar/fisher-lm/fisher_utterances_main.txt\n",
      "----5---10---15---20---25---30---35---40---45---50---55---60---65---70---75---80---85---90---95--100\n",
      "****************************************************************************************************\n",
      "Unigram tokens 10731876 types 44067\n",
      "=== 2/5 Calculating and sorting adjusted counts ===\n",
      "Chain sizes: 1:528804 2:37600751616 3:70501408768\n",
      "Statistics:\n",
      "1 44067 D1=0.573987 D2=0.970821 D3+=1.48062\n",
      "2 918932 D1=0.699343 D2=1.08262 D3+=1.4012\n",
      "3 3530719 D1=0.781713 D2=1.0944 D3+=1.33275\n",
      "Memory estimate for binary LM:\n",
      "type    MB\n",
      "probing 82 assuming -p 1.5\n",
      "probing 88 assuming -r models -p 1.5\n",
      "trie    31 without quantization\n",
      "trie    17 assuming -q 8 -b 8 quantization \n",
      "trie    30 assuming -a 22 array pointer compression\n",
      "trie    15 assuming -a 22 -q 8 -b 8 array pointer compression and quantization\n",
      "=== 3/5 Calculating and sorting initial probabilities ===\n",
      "Chain sizes: 1:528804 2:14702912 3:70614380\n",
      "----5---10---15---20---25---30---35---40---45---50---55---60---65---70---75---80---85---90---95--100\n",
      "####################################################################################################\n",
      "=== 4/5 Calculating and writing order-interpolated probabilities ===\n",
      "Chain sizes: 1:528804 2:14702912 3:70614380\n",
      "----5---10---15---20---25---30---35---40---45---50---55---60---65---70---75---80---85---90---95--100\n",
      "####################################################################################################\n",
      "=== 5/5 Writing ARPA model ===\n",
      "----5---10---15---20---25---30---35---40---45---50---55---60---65---70---75---80---85---90---95--100\n",
      "****************************************************************************************************\n",
      "Name:lmplz\tVmPeak:105760580 kB\tVmRSS:22144 kB\tRSSMax:24455424 kB\tuser:6.22037\tsys:5.93541\tCPU:12.1558\treal:12.9422\n"
     ]
    }
   ],
   "source": [
    "!/home/AD/emeinhar/GitHub/kenlm/build/bin/lmplz -o 3 --text fisher_utterances_main.txt --arpa fisher_utterances_main_3gram.arpa"
   ]
  },
  {
   "cell_type": "code",
   "execution_count": 193,
   "metadata": {
    "ExecuteTime": {
     "end_time": "2019-09-05T05:28:02.050329Z",
     "start_time": "2019-09-05T05:27:49.137612Z"
    }
   },
   "outputs": [
    {
     "name": "stdout",
     "output_type": "stream",
     "text": [
      "=== 1/5 Counting and sorting n-grams ===\n",
      "Reading /mnt/cube/home/AD/emeinhar/fisher-lm/fisher_utterances_bbn.txt\n",
      "----5---10---15---20---25---30---35---40---45---50---55---60---65---70---75---80---85---90---95--100\n",
      "****************************************************************************************************\n",
      "Unigram tokens 9641143 types 42016\n",
      "=== 2/5 Calculating and sorting adjusted counts ===\n",
      "Chain sizes: 1:504192 2:37600759808 3:70501425152\n",
      "Statistics:\n",
      "1 42016 D1=0.568433 D2=0.981916 D3+=1.4966\n",
      "2 861817 D1=0.700473 D2=1.08569 D3+=1.39281\n",
      "3 3266234 D1=0.783325 D2=1.09392 D3+=1.33518\n",
      "Memory estimate for binary LM:\n",
      "type    MB\n",
      "probing 76 assuming -p 1.5\n",
      "probing 81 assuming -r models -p 1.5\n",
      "trie    29 without quantization\n",
      "trie    15 assuming -q 8 -b 8 quantization \n",
      "trie    28 assuming -a 22 array pointer compression\n",
      "trie    14 assuming -a 22 -q 8 -b 8 array pointer compression and quantization\n",
      "=== 3/5 Calculating and sorting initial probabilities ===\n",
      "Chain sizes: 1:504192 2:13789072 3:65324680\n",
      "----5---10---15---20---25---30---35---40---45---50---55---60---65---70---75---80---85---90---95--100\n",
      "####################################################################################################\n",
      "=== 4/5 Calculating and writing order-interpolated probabilities ===\n",
      "Chain sizes: 1:504192 2:13789072 3:65324680\n",
      "----5---10---15---20---25---30---35---40---45---50---55---60---65---70---75---80---85---90---95--100\n",
      "####################################################################################################\n",
      "=== 5/5 Writing ARPA model ===\n",
      "----5---10---15---20---25---30---35---40---45---50---55---60---65---70---75---80---85---90---95--100\n",
      "****************************************************************************************************\n",
      "Name:lmplz\tVmPeak:105760580 kB\tVmRSS:21580 kB\tRSSMax:24450380 kB\tuser:6.16658\tsys:5.75441\tCPU:11.921\treal:12.6708\n"
     ]
    }
   ],
   "source": [
    "!/home/AD/emeinhar/GitHub/kenlm/build/bin/lmplz -o 3 --text fisher_utterances_bbn.txt --arpa fisher_utterances_bbn_3gram.arpa"
   ]
  },
  {
   "cell_type": "code",
   "execution_count": 194,
   "metadata": {
    "ExecuteTime": {
     "end_time": "2019-09-05T05:28:19.819845Z",
     "start_time": "2019-09-05T05:28:02.052100Z"
    }
   },
   "outputs": [
    {
     "name": "stdout",
     "output_type": "stream",
     "text": [
      "=== 1/5 Counting and sorting n-grams ===\n",
      "Reading /mnt/cube/home/AD/emeinhar/fisher-lm/fisher_utterances_main.txt\n",
      "----5---10---15---20---25---30---35---40---45---50---55---60---65---70---75---80---85---90---95--100\n",
      "****************************************************************************************************\n",
      "Unigram tokens 10731876 types 44067\n",
      "=== 2/5 Calculating and sorting adjusted counts ===\n",
      "Chain sizes: 1:528804 2:18400366592 3:34500685824 4:55201099776\n",
      "Statistics:\n",
      "1 44067 D1=0.573987 D2=0.970821 D3+=1.48062\n",
      "2 918932 D1=0.699343 D2=1.08262 D3+=1.4012\n",
      "3 3530719 D1=0.795603 D2=1.11509 D3+=1.37541\n",
      "4 6315659 D1=0.865325 D2=1.16156 D3+=1.32481\n",
      "Memory estimate for binary LM:\n",
      "type     MB\n",
      "probing 211 assuming -p 1.5\n",
      "probing 236 assuming -r models -p 1.5\n",
      "trie     90 without quantization\n",
      "trie     48 assuming -q 8 -b 8 quantization \n",
      "trie     82 assuming -a 22 array pointer compression\n",
      "trie     40 assuming -a 22 -q 8 -b 8 array pointer compression and quantization\n",
      "=== 3/5 Calculating and sorting initial probabilities ===\n",
      "Chain sizes: 1:528804 2:14702912 3:70614380 4:151575816\n",
      "----5---10---15---20---25---30---35---40---45---50---55---60---65---70---75---80---85---90---95--100\n",
      "####################################################################################################\n",
      "=== 4/5 Calculating and writing order-interpolated probabilities ===\n",
      "Chain sizes: 1:528804 2:14702912 3:70614380 4:151575816\n",
      "----5---10---15---20---25---30---35---40---45---50---55---60---65---70---75---80---85---90---95--100\n",
      "####################################################################################################\n",
      "=== 5/5 Writing ARPA model ===\n",
      "----5---10---15---20---25---30---35---40---45---50---55---60---65---70---75---80---85---90---95--100\n",
      "****************************************************************************************************\n",
      "Name:lmplz\tVmPeak:105760572 kB\tVmRSS:22240 kB\tRSSMax:21289188 kB\tuser:9.95669\tsys:5.96003\tCPU:15.9167\treal:17.5285\n"
     ]
    }
   ],
   "source": [
    "!/home/AD/emeinhar/GitHub/kenlm/build/bin/lmplz -o 4 --text fisher_utterances_main.txt --arpa fisher_utterances_main_4gram.arpa"
   ]
  },
  {
   "cell_type": "code",
   "execution_count": 195,
   "metadata": {
    "ExecuteTime": {
     "end_time": "2019-09-05T05:28:36.398161Z",
     "start_time": "2019-09-05T05:28:19.821564Z"
    }
   },
   "outputs": [
    {
     "name": "stdout",
     "output_type": "stream",
     "text": [
      "=== 1/5 Counting and sorting n-grams ===\n",
      "Reading /mnt/cube/home/AD/emeinhar/fisher-lm/fisher_utterances_bbn.txt\n",
      "----5---10---15---20---25---30---35---40---45---50---55---60---65---70---75---80---85---90---95--100\n",
      "****************************************************************************************************\n",
      "Unigram tokens 9641143 types 42016\n",
      "=== 2/5 Calculating and sorting adjusted counts ===\n",
      "Chain sizes: 1:504192 2:18400370688 3:34500694016 4:55201112064\n",
      "Statistics:\n",
      "1 42016 D1=0.568433 D2=0.981916 D3+=1.4966\n",
      "2 861817 D1=0.700473 D2=1.08569 D3+=1.39281\n",
      "3 3266234 D1=0.797302 D2=1.11612 D3+=1.37803\n",
      "4 5794592 D1=0.867362 D2=1.16376 D3+=1.32942\n",
      "Memory estimate for binary LM:\n",
      "type     MB\n",
      "probing 194 assuming -p 1.5\n",
      "probing 218 assuming -r models -p 1.5\n",
      "trie     83 without quantization\n",
      "trie     44 assuming -q 8 -b 8 quantization \n",
      "trie     76 assuming -a 22 array pointer compression\n",
      "trie     37 assuming -a 22 -q 8 -b 8 array pointer compression and quantization\n",
      "=== 3/5 Calculating and sorting initial probabilities ===\n",
      "Chain sizes: 1:504192 2:13789072 3:65324680 4:139070208\n",
      "----5---10---15---20---25---30---35---40---45---50---55---60---65---70---75---80---85---90---95--100\n",
      "####################################################################################################\n",
      "=== 4/5 Calculating and writing order-interpolated probabilities ===\n",
      "Chain sizes: 1:504192 2:13789072 3:65324680 4:139070208\n",
      "----5---10---15---20---25---30---35---40---45---50---55---60---65---70---75---80---85---90---95--100\n",
      "####################################################################################################\n",
      "=== 5/5 Writing ARPA model ===\n",
      "----5---10---15---20---25---30---35---40---45---50---55---60---65---70---75---80---85---90---95--100\n",
      "****************************************************************************************************\n",
      "Name:lmplz\tVmPeak:105760572 kB\tVmRSS:21500 kB\tRSSMax:21276596 kB\tuser:8.8767\tsys:6.01223\tCPU:14.889\treal:16.3323\n"
     ]
    }
   ],
   "source": [
    "!/home/AD/emeinhar/GitHub/kenlm/build/bin/lmplz -o 4 --text fisher_utterances_bbn.txt --arpa fisher_utterances_bbn_4gram.arpa"
   ]
  },
  {
   "cell_type": "code",
   "execution_count": 196,
   "metadata": {
    "ExecuteTime": {
     "end_time": "2019-09-05T05:28:59.585123Z",
     "start_time": "2019-09-05T05:28:36.400315Z"
    }
   },
   "outputs": [
    {
     "name": "stdout",
     "output_type": "stream",
     "text": [
      "=== 1/5 Counting and sorting n-grams ===\n",
      "Reading /mnt/cube/home/AD/emeinhar/fisher-lm/fisher_utterances_main.txt\n",
      "----5---10---15---20---25---30---35---40---45---50---55---60---65---70---75---80---85---90---95--100\n",
      "****************************************************************************************************\n",
      "Unigram tokens 10731876 types 44067\n",
      "=== 2/5 Calculating and sorting adjusted counts ===\n",
      "Chain sizes: 1:528804 2:10546551808 3:19774785536 4:31639654400 5:46141165568\n",
      "Statistics:\n",
      "1 44067 D1=0.573987 D2=0.970821 D3+=1.48062\n",
      "2 918932 D1=0.699343 D2=1.08262 D3+=1.4012\n",
      "3 3530719 D1=0.795603 D2=1.11509 D3+=1.37541\n",
      "4 6315659 D1=0.878533 D2=1.1968 D3+=1.37818\n",
      "5 7650530 D1=0.930477 D2=1.2561 D3+=1.35534\n",
      "Memory estimate for binary LM:\n",
      "type     MB\n",
      "probing 378 assuming -p 1.5\n",
      "probing 440 assuming -r models -p 1.5\n",
      "trie    174 without quantization\n",
      "trie     93 assuming -q 8 -b 8 quantization \n",
      "trie    154 assuming -a 22 array pointer compression\n",
      "trie     73 assuming -a 22 -q 8 -b 8 array pointer compression and quantization\n",
      "=== 3/5 Calculating and sorting initial probabilities ===\n",
      "Chain sizes: 1:528804 2:14702912 3:70614380 4:151575816 5:214214840\n",
      "----5---10---15---20---25---30---35---40---45---50---55---60---65---70---75---80---85---90---95--100\n",
      "####################################################################################################\n",
      "=== 4/5 Calculating and writing order-interpolated probabilities ===\n",
      "Chain sizes: 1:528804 2:14702912 3:70614380 4:151575816 5:214214840\n",
      "----5---10---15---20---25---30---35---40---45---50---55---60---65---70---75---80---85---90---95--100\n",
      "####################################################################################################\n",
      "=== 5/5 Writing ARPA model ===\n",
      "----5---10---15---20---25---30---35---40---45---50---55---60---65---70---75---80---85---90---95--100\n",
      "****************************************************************************************************\n",
      "Name:lmplz\tVmPeak:105767784 kB\tVmRSS:22152 kB\tRSSMax:18875404 kB\tuser:13.749\tsys:6.94413\tCPU:20.6932\treal:22.8518\n"
     ]
    }
   ],
   "source": [
    "!/home/AD/emeinhar/GitHub/kenlm/build/bin/lmplz -o 5 --text fisher_utterances_main.txt --arpa fisher_utterances_main_5gram.arpa"
   ]
  },
  {
   "cell_type": "code",
   "execution_count": 197,
   "metadata": {
    "ExecuteTime": {
     "end_time": "2019-09-05T05:29:21.371229Z",
     "start_time": "2019-09-05T05:28:59.587580Z"
    }
   },
   "outputs": [
    {
     "name": "stdout",
     "output_type": "stream",
     "text": [
      "=== 1/5 Counting and sorting n-grams ===\n",
      "Reading /mnt/cube/home/AD/emeinhar/fisher-lm/fisher_utterances_bbn.txt\n",
      "----5---10---15---20---25---30---35---40---45---50---55---60---65---70---75---80---85---90---95--100\n",
      "****************************************************************************************************\n",
      "Unigram tokens 9641143 types 42016\n",
      "=== 2/5 Calculating and sorting adjusted counts ===\n",
      "Chain sizes: 1:504192 2:10546553856 3:19774789632 4:31639660544 5:46141177856\n",
      "Statistics:\n",
      "1 42016 D1=0.568433 D2=0.981916 D3+=1.4966\n",
      "2 861817 D1=0.700473 D2=1.08569 D3+=1.39281\n",
      "3 3266234 D1=0.797302 D2=1.11612 D3+=1.37803\n",
      "4 5794592 D1=0.880501 D2=1.20152 D3+=1.37819\n",
      "5 6996024 D1=0.932361 D2=1.25759 D3+=1.37719\n",
      "Memory estimate for binary LM:\n",
      "type     MB\n",
      "probing 348 assuming -p 1.5\n",
      "probing 405 assuming -r models -p 1.5\n",
      "trie    160 without quantization\n",
      "trie     85 assuming -q 8 -b 8 quantization \n",
      "trie    142 assuming -a 22 array pointer compression\n",
      "trie     67 assuming -a 22 -q 8 -b 8 array pointer compression and quantization\n",
      "=== 3/5 Calculating and sorting initial probabilities ===\n",
      "Chain sizes: 1:504192 2:13789072 3:65324680 4:139070208 5:195888672\n",
      "----5---10---15---20---25---30---35---40---45---50---55---60---65---70---75---80---85---90---95--100\n",
      "####################################################################################################\n",
      "=== 4/5 Calculating and writing order-interpolated probabilities ===\n",
      "Chain sizes: 1:504192 2:13789072 3:65324680 4:139070208 5:195888672\n",
      "----5---10---15---20---25---30---35---40---45---50---55---60---65---70---75---80---85---90---95--100\n",
      "####################################################################################################\n",
      "=== 5/5 Writing ARPA model ===\n",
      "----5---10---15---20---25---30---35---40---45---50---55---60---65---70---75---80---85---90---95--100\n",
      "****************************************************************************************************\n",
      "Name:lmplz\tVmPeak:105767784 kB\tVmRSS:21508 kB\tRSSMax:18855888 kB\tuser:12.7832\tsys:6.53612\tCPU:19.3193\treal:21.511\n"
     ]
    }
   ],
   "source": [
    "!/home/AD/emeinhar/GitHub/kenlm/build/bin/lmplz -o 5 --text fisher_utterances_bbn.txt --arpa fisher_utterances_bbn_5gram.arpa"
   ]
  },
  {
   "cell_type": "markdown",
   "metadata": {},
   "source": [
    "## Query an n-gram model"
   ]
  },
  {
   "cell_type": "code",
   "execution_count": 198,
   "metadata": {
    "ExecuteTime": {
     "end_time": "2019-09-05T05:29:21.656836Z",
     "start_time": "2019-09-05T05:29:21.373321Z"
    }
   },
   "outputs": [
    {
     "name": "stdout",
     "output_type": "stream",
     "text": [
      "fisher_training_utterances_1gram.arpa      fisher_utterances_bbn_1gram.arpa\r\n",
      "fisher_training_utterances_2gram.arpa      fisher_utterances_bbn_2gram.arpa\r\n",
      "fisher_training_utterances_3gram.arpa      fisher_utterances_bbn_3gram.arpa\r\n",
      "fisher_training_utterances_4gram.arpa      fisher_utterances_bbn_4gram.arpa\r\n",
      "fisher_training_utterances_5gram.arpa      fisher_utterances_bbn_5gram.arpa\r\n",
      "fisher_training_utterances_rev_1gram.arpa  fisher_utterances_main_1gram.arpa\r\n",
      "fisher_training_utterances_rev_2gram.arpa  fisher_utterances_main_2gram.arpa\r\n",
      "fisher_training_utterances_rev_3gram.arpa  fisher_utterances_main_3gram.arpa\r\n",
      "fisher_training_utterances_rev_4gram.arpa  fisher_utterances_main_4gram.arpa\r\n",
      "fisher_training_utterances_rev_5gram.arpa  fisher_utterances_main_5gram.arpa\r\n"
     ]
    }
   ],
   "source": [
    "%ls *gram.arpa"
   ]
  },
  {
   "cell_type": "code",
   "execution_count": 199,
   "metadata": {
    "ExecuteTime": {
     "end_time": "2019-09-05T05:29:28.998723Z",
     "start_time": "2019-09-05T05:29:21.659046Z"
    }
   },
   "outputs": [
    {
     "name": "stdout",
     "output_type": "stream",
     "text": [
      "Loading the LM will be faster if you build a binary file.\n",
      "Reading fisher_utterances_main_5gram.arpa\n",
      "----5---10---15---20---25---30---35---40---45---50---55---60---65---70---75---80---85---90---95--100\n",
      "****************************************************************************************************\n",
      "how's=3183 2 -3.748262\tit=82 3 -0.3159168\tgoing=156 4 -0.05819364\t</s>=2 5 -0.12938206\tTotal: -4.2517548 OOV: 0\n",
      "Perplexity including OOVs:\t11.559490441155182\n",
      "Perplexity excluding OOVs:\t11.559490441155182\n",
      "OOVs:\t0\n",
      "Tokens:\t4\n",
      "Name:query\tVmPeak:418440 kB\tVmRSS:4916 kB\tRSSMax:393216 kB\tuser:6.90699\tsys:0.09593\tCPU:7.00297\treal:7.0068\n"
     ]
    }
   ],
   "source": [
    "!echo \"how's it going\" | /home/AD/emeinhar/GitHub/kenlm/build/bin/query fisher_utterances_main_5gram.arpa"
   ]
  },
  {
   "cell_type": "code",
   "execution_count": 200,
   "metadata": {
    "ExecuteTime": {
     "end_time": "2019-09-05T05:29:39.890351Z",
     "start_time": "2019-09-05T05:29:29.000750Z"
    }
   },
   "outputs": [
    {
     "name": "stdout",
     "output_type": "stream",
     "text": [
      "Reading fisher_utterances_main_5gram.arpa\n",
      "----5---10---15---20---25---30---35---40---45---50---55---60---65---70---75---80---85---90---95--100\n",
      "****************************************************************************************************\n",
      "SUCCESS\n"
     ]
    }
   ],
   "source": [
    "!/home/AD/emeinhar/GitHub/kenlm/build/bin/build_binary fisher_utterances_main_5gram.arpa fisher_utterances_main_5gram.mmap"
   ]
  },
  {
   "cell_type": "code",
   "execution_count": 201,
   "metadata": {
    "ExecuteTime": {
     "end_time": "2019-09-05T05:29:40.161759Z",
     "start_time": "2019-09-05T05:29:39.892664Z"
    }
   },
   "outputs": [
    {
     "name": "stdout",
     "output_type": "stream",
     "text": [
      "This binary file contains probing hash tables.\r\n",
      "how's=3183 2 -3.748262\tit=82 3 -0.3159168\tgoing=156 4 -0.05819364\t</s>=2 5 -0.12938206\tTotal: -4.2517548 OOV: 0\r\n",
      "Perplexity including OOVs:\t11.559490441155182\r\n",
      "Perplexity excluding OOVs:\t11.559490441155182\r\n",
      "OOVs:\t0\r\n",
      "Tokens:\t4\r\n",
      "Name:query\tVmPeak:416400 kB\tVmRSS:4880 kB\tRSSMax:392796 kB\tuser:0\tsys:0.037065\tCPU:0.037099\treal:0.035418\r\n"
     ]
    }
   ],
   "source": [
    "!echo \"how's it going\" | /home/AD/emeinhar/GitHub/kenlm/build/bin/query fisher_utterances_main_5gram.mmap"
   ]
  },
  {
   "cell_type": "markdown",
   "metadata": {},
   "source": [
    "Assuming `real:0.0245038` at the bottom indicates the real (≈wall clock time from start to finish) duration in s, that's 24.5ms."
   ]
  },
  {
   "cell_type": "code",
   "execution_count": 202,
   "metadata": {
    "ExecuteTime": {
     "end_time": "2019-09-05T05:29:46.673316Z",
     "start_time": "2019-09-05T05:29:40.163944Z"
    }
   },
   "outputs": [
    {
     "name": "stdout",
     "output_type": "stream",
     "text": [
      "Reading fisher_utterances_main_4gram.arpa\n",
      "----5---10---15---20---25---30---35---40---45---50---55---60---65---70---75---80---85---90---95--100\n",
      "****************************************************************************************************\n",
      "SUCCESS\n"
     ]
    }
   ],
   "source": [
    "!/home/AD/emeinhar/GitHub/kenlm/build/bin/build_binary fisher_utterances_main_4gram.arpa fisher_utterances_main_4gram.mmap"
   ]
  },
  {
   "cell_type": "code",
   "execution_count": 203,
   "metadata": {
    "ExecuteTime": {
     "end_time": "2019-09-05T05:29:46.930902Z",
     "start_time": "2019-09-05T05:29:46.675440Z"
    }
   },
   "outputs": [
    {
     "name": "stdout",
     "output_type": "stream",
     "text": [
      "This binary file contains probing hash tables.\r\n",
      "how's=3183 2 -3.748262\tit=82 3 -0.3159168\tgoing=156 4 -0.058838516\t</s>=2 4 -0.17687923\tTotal: -4.2998967 OOV: 0\r\n",
      "Perplexity including OOVs:\t11.884315678116655\r\n",
      "Perplexity excluding OOVs:\t11.884315678116655\r\n",
      "OOVs:\t0\r\n",
      "Tokens:\t4\r\n",
      "Name:query\tVmPeak:244912 kB\tVmRSS:4944 kB\tRSSMax:221372 kB\tuser:0.00346\tsys:0.0173\tCPU:0.0207892\treal:0.0192059\r\n"
     ]
    }
   ],
   "source": [
    "!echo \"how's it going\" | /home/AD/emeinhar/GitHub/kenlm/build/bin/query fisher_utterances_main_4gram.mmap"
   ]
  },
  {
   "cell_type": "markdown",
   "metadata": {},
   "source": [
    "## python module"
   ]
  },
  {
   "cell_type": "code",
   "execution_count": 204,
   "metadata": {
    "ExecuteTime": {
     "end_time": "2019-09-05T05:29:47.118890Z",
     "start_time": "2019-09-05T05:29:46.943331Z"
    }
   },
   "outputs": [],
   "source": [
    "import kenlm"
   ]
  },
  {
   "cell_type": "code",
   "execution_count": 205,
   "metadata": {
    "ExecuteTime": {
     "end_time": "2019-09-05T05:29:47.125040Z",
     "start_time": "2019-09-05T05:29:47.120929Z"
    }
   },
   "outputs": [
    {
     "data": {
      "text/plain": [
       "'/mnt/cube/home/AD/emeinhar/fisher-lm'"
      ]
     },
     "execution_count": 205,
     "metadata": {},
     "output_type": "execute_result"
    }
   ],
   "source": [
    "os.getcwd()"
   ]
  },
  {
   "cell_type": "code",
   "execution_count": 206,
   "metadata": {
    "ExecuteTime": {
     "end_time": "2019-09-05T05:29:47.131073Z",
     "start_time": "2019-09-05T05:29:47.126606Z"
    }
   },
   "outputs": [
    {
     "data": {
      "text/plain": [
       "['fisher_utterances_main_5gram.arpa',\n",
       " 'fisher_utterances_main_2gram.arpa',\n",
       " 'fisher_utterances_main_4gram.arpa',\n",
       " 'fisher_utterances_main_3gram.arpa',\n",
       " 'fisher_utterances_main_1gram.arpa']"
      ]
     },
     "execution_count": 206,
     "metadata": {},
     "output_type": "execute_result"
    }
   ],
   "source": [
    "arpa_files = [fn for fn in os.listdir()\n",
    "              if '.arpa' in fn\n",
    "              and 'main' in fn]; arpa_files"
   ]
  },
  {
   "cell_type": "code",
   "execution_count": 210,
   "metadata": {
    "ExecuteTime": {
     "end_time": "2019-09-05T05:30:21.958010Z",
     "start_time": "2019-09-05T05:30:21.955551Z"
    }
   },
   "outputs": [],
   "source": [
    "# from random import choice\n",
    "# my_arpa_filename = choice(arpa_files); my_arpa_filename\n",
    "\n",
    "my_arpa_filename = 'fisher_utterances_main_5gram.arpa'\n",
    "# my_arpa_filename = 'fisher_utterances_main_2gram.arpa'"
   ]
  },
  {
   "cell_type": "code",
   "execution_count": 211,
   "metadata": {
    "ExecuteTime": {
     "end_time": "2019-09-05T05:30:22.458580Z",
     "start_time": "2019-09-05T05:30:22.454375Z"
    }
   },
   "outputs": [
    {
     "data": {
      "text/plain": [
       "'/mnt/cube/home/AD/emeinhar/fisher-lm/fisher_utterances_main_5gram.arpa'"
      ]
     },
     "execution_count": 211,
     "metadata": {},
     "output_type": "execute_result"
    }
   ],
   "source": [
    "LM_fp = os.path.join(os.getcwd(), my_arpa_filename); LM_fp"
   ]
  },
  {
   "cell_type": "code",
   "execution_count": 212,
   "metadata": {
    "ExecuteTime": {
     "end_time": "2019-09-05T05:30:30.297883Z",
     "start_time": "2019-09-05T05:30:22.929560Z"
    }
   },
   "outputs": [
    {
     "name": "stdout",
     "output_type": "stream",
     "text": [
      "5-gram model\n"
     ]
    }
   ],
   "source": [
    "model = kenlm.LanguageModel(LM_fp)\n",
    "print('{0}-gram model'.format(model.order))"
   ]
  },
  {
   "cell_type": "code",
   "execution_count": 213,
   "metadata": {
    "ExecuteTime": {
     "end_time": "2019-09-05T05:30:30.303081Z",
     "start_time": "2019-09-05T05:30:30.299249Z"
    }
   },
   "outputs": [],
   "source": [
    "sentence = \"how's it going\""
   ]
  },
  {
   "cell_type": "code",
   "execution_count": 214,
   "metadata": {
    "ExecuteTime": {
     "end_time": "2019-09-05T05:30:30.309370Z",
     "start_time": "2019-09-05T05:30:30.304350Z"
    }
   },
   "outputs": [
    {
     "data": {
      "text/plain": [
       "-4.2517547607421875"
      ]
     },
     "execution_count": 214,
     "metadata": {},
     "output_type": "execute_result"
    }
   ],
   "source": [
    "model.score(sentence)"
   ]
  },
  {
   "cell_type": "code",
   "execution_count": 215,
   "metadata": {
    "ExecuteTime": {
     "end_time": "2019-09-05T05:30:30.314766Z",
     "start_time": "2019-09-05T05:30:30.310938Z"
    }
   },
   "outputs": [
    {
     "data": {
      "text/plain": [
       "5.6007377706295495e-05"
      ]
     },
     "execution_count": 215,
     "metadata": {},
     "output_type": "execute_result"
    }
   ],
   "source": [
    "10 ** -4.2517547607421875"
   ]
  }
 ],
 "metadata": {
  "kernelspec": {
   "display_name": "Python 3",
   "language": "python",
   "name": "python3"
  },
  "language_info": {
   "codemirror_mode": {
    "name": "ipython",
    "version": 3
   },
   "file_extension": ".py",
   "mimetype": "text/x-python",
   "name": "python",
   "nbconvert_exporter": "python",
   "pygments_lexer": "ipython3",
   "version": "3.7.4"
  },
  "notify_time": "5",
  "toc": {
   "base_numbering": 1,
   "nav_menu": {},
   "number_sections": true,
   "sideBar": true,
   "skip_h1_title": false,
   "title_cell": "Table of Contents",
   "title_sidebar": "Contents",
   "toc_cell": false,
   "toc_position": {},
   "toc_section_display": true,
   "toc_window_display": true
  }
 },
 "nbformat": 4,
 "nbformat_minor": 2
}
