{
 "cells": [
  {
   "cell_type": "markdown",
   "metadata": {},
   "source": [
    "**Eric Meinhardt / emeinhardt@ucsd.edu**"
   ]
  },
  {
   "cell_type": "code",
   "execution_count": 1,
   "metadata": {
    "ExecuteTime": {
     "end_time": "2019-04-24T01:19:08.159889Z",
     "start_time": "2019-04-24T01:19:08.155639Z"
    }
   },
   "outputs": [],
   "source": [
    "#Prints **all** console output, not just last item in cell \n",
    "from IPython.core.interactiveshell import InteractiveShell\n",
    "InteractiveShell.ast_node_interactivity = \"all\""
   ]
  },
  {
   "cell_type": "code",
   "execution_count": 2,
   "metadata": {
    "ExecuteTime": {
     "end_time": "2019-04-24T01:19:08.249180Z",
     "start_time": "2019-04-24T01:19:08.167932Z"
    }
   },
   "outputs": [],
   "source": [
    "import os"
   ]
  },
  {
   "cell_type": "code",
   "execution_count": 3,
   "metadata": {
    "ExecuteTime": {
     "end_time": "2019-04-24T01:19:08.253890Z",
     "start_time": "2019-04-24T01:19:08.250782Z"
    }
   },
   "outputs": [],
   "source": [
    "from functools import reduce"
   ]
  },
  {
   "cell_type": "code",
   "execution_count": 4,
   "metadata": {
    "ExecuteTime": {
     "end_time": "2019-04-24T01:19:08.258659Z",
     "start_time": "2019-04-24T01:19:08.254921Z"
    }
   },
   "outputs": [],
   "source": [
    "from itertools import chain"
   ]
  },
  {
   "cell_type": "code",
   "execution_count": 5,
   "metadata": {
    "ExecuteTime": {
     "end_time": "2019-04-24T01:19:08.319351Z",
     "start_time": "2019-04-24T01:19:08.259600Z"
    }
   },
   "outputs": [],
   "source": [
    "import re\n",
    "from more_itertools import replace\n",
    "from funcy import compose"
   ]
  },
  {
   "cell_type": "code",
   "execution_count": 6,
   "metadata": {
    "ExecuteTime": {
     "end_time": "2019-04-24T01:19:08.623559Z",
     "start_time": "2019-04-24T01:19:08.320486Z"
    }
   },
   "outputs": [],
   "source": [
    "from joblib import Parallel, delayed\n",
    "\n",
    "J = 10\n",
    "BACKEND = 'multiprocessing'\n",
    "# BACKEND = 'loky'\n",
    "V = 10\n",
    "PREFER = 'processes'\n",
    "# PREFER = 'threads'\n",
    "\n",
    "def par(gen_expr):\n",
    "    return Parallel(n_jobs=J, backend=BACKEND, verbose=V, prefer=PREFER)(gen_expr)"
   ]
  },
  {
   "cell_type": "code",
   "execution_count": 7,
   "metadata": {
    "ExecuteTime": {
     "end_time": "2019-04-24T01:19:08.627962Z",
     "start_time": "2019-04-24T01:19:08.626236Z"
    }
   },
   "outputs": [],
   "source": [
    "import json"
   ]
  },
  {
   "cell_type": "code",
   "execution_count": 8,
   "metadata": {
    "ExecuteTime": {
     "end_time": "2019-04-24T01:19:14.822065Z",
     "start_time": "2019-04-24T01:19:08.629460Z"
    }
   },
   "outputs": [],
   "source": [
    "import pandas as pd\n",
    "from plotnine import *"
   ]
  },
  {
   "cell_type": "markdown",
   "metadata": {},
   "source": [
    "# Overview"
   ]
  },
  {
   "cell_type": "markdown",
   "metadata": {},
   "source": [
    "This notebook documents code for pre-processing the Fisher corpus transcripts into an easier-to-work-with (=relational) format, and into a format that facilitates creating an n-gram model using `kenlm` (= one utterance per line with non-speech events and disfluencies removed or altered to taste)."
   ]
  },
  {
   "cell_type": "markdown",
   "metadata": {},
   "source": [
    "## Dependencies\n",
    " - Fisher corpus transcripts.\n",
    " - **`more_itertools`**\n",
    " - **`funcy`**\n",
    " - **`joblib`**\n",
    " - **`Unix`-like OS:** The notebook uses `*nix` shell command magics (mostly `cat` and `head`) as a lightweight means of peeking at files.\n",
    " - **`pandas`+`plotnine`:** The notebook uses `pandas` and `plotnine` to plot pre-segmented utterance lengths and the distribution over times between consecutive utterance-onsets.\n",
    " - **`kenlm`:** At the end of the notebook, I use shell command magics to call `kenlm`; I also import the `kenlm` python package.\n",
    " \n",
    "The last three items aren't essential for processing/interfacing with the Fisher corpus. `funcy`, `more_itertools`, and `joblib` happen to be used, but could certainly be replaced without too much trouble."
   ]
  },
  {
   "cell_type": "markdown",
   "metadata": {},
   "source": [
    "## Outputs"
   ]
  },
  {
   "cell_type": "markdown",
   "metadata": {},
   "source": [
    "For both the 'main' transcriptions done by the LDC and the BBN ones, this notebook produces\n",
    " 1. a single .json file containing all of the information contained in the original data formats, plus a processed version of each utterance.\n",
    " 2. a single .txt file containing vocabulary from the (processed) utterances.\n",
    " 3. a single .txt file containing one (processed) utterance per line - suitable for input to kenlm.\n",
    " \n",
    "The code at the end will use kenlm to produce .arpa and .mmap files"
   ]
  },
  {
   "cell_type": "markdown",
   "metadata": {},
   "source": [
    "## Utterance processing\n",
    "\n",
    "### Double parentheses\n",
    "The main (LDC) transcriptions features double parentheses around wordform (sequences) the transcriber wasn't sure of, with text in the double parentheses indicating the transcriber's best guess (if any). Here are some examples (each taken from different conversations):\n",
    "```\n",
    "512.82 515.29 A: i so much wanted to be (( ))\n",
    "```\n",
    "```\n",
    "67.12 68.65 A: yeah the last (( )) yeah\n",
    "```\n",
    "```\n",
    "81.27 83.44 B: were you close to where the (( )) tornados\n",
    "```\n",
    "```\n",
    "2.53 4.06 B: (( [noise] hello how are you doing my ))\n",
    "```\n",
    "```\n",
    "91.72 96.48 B: oh bio terror terrorism is a little (( out of prevented )) i don't know (( -bout ))\n",
    "```\n",
    "I've removed all double parentheses and kept whatever's inside the parentheses (if anything). If nothing appears, it's been replaced with a custom \"unknown\" token `<rem>`. (The `kenlm` \"unknown\" token `<unk>` cannot appear in the data you hand it.)"
   ]
  },
  {
   "cell_type": "markdown",
   "metadata": {},
   "source": [
    "### Non-speech noises"
   ]
  },
  {
   "cell_type": "markdown",
   "metadata": {},
   "source": [
    "Anything appearing in square brackets (e.g. `[noise]` above) has been removed in the processed version of each utterance."
   ]
  },
  {
   "cell_type": "markdown",
   "metadata": {},
   "source": [
    "### Broken off and resumed words"
   ]
  },
  {
   "cell_type": "markdown",
   "metadata": {},
   "source": [
    "Wordforms that are broken off in the middle or that are resumed end (or start) in the transcriptions with a dash:\n",
    "```\n",
    "281.04 283.89 A: i f- i know i found my job on line i it was\n",
    "```\n",
    "```\n",
    "175.78 178.65 B: uh huh it's r- i love it\n",
    "```\n",
    "```\n",
    "I THINK HUMAN BEINGS ARE PR- UM [LIPSMACK] FRIENDSHIP RELAT- RELATIONSHIPS WITH PEOPLE ARE A LOT MORE IMPORTANT THAN MONEY  (fe_03_05863-A-0012)\n",
    "```\n",
    "```\n",
    "91.72 96.48 B: oh bio terror terrorism is a little (( out of prevented )) i don't know (( -bout ))\n",
    "```\n",
    "```\n",
    "okay yeah s- we- -ll disney is pretty safe and pretty good\n",
    "```\n",
    "```\n",
    "they have the pales- -tin- -instinians and all that stuff going on\n",
    "```"
   ]
  },
  {
   "cell_type": "markdown",
   "metadata": {},
   "source": [
    "While occasionally a word is started, interrupted, and then resumed (as in the last example) in a way that indicates what the speaker intended, there are very few of these - few enough of these that it's not worth 'fixing' them."
   ]
  },
  {
   "cell_type": "markdown",
   "metadata": {},
   "source": [
    "Any wordform starting or ending with a dash has been replaced with `<rem>`."
   ]
  },
  {
   "cell_type": "markdown",
   "metadata": {},
   "source": [
    "### Case"
   ]
  },
  {
   "cell_type": "markdown",
   "metadata": {},
   "source": [
    "All wordforms have been converted to lowercase."
   ]
  },
  {
   "cell_type": "markdown",
   "metadata": {},
   "source": [
    "### Altogether"
   ]
  },
  {
   "cell_type": "code",
   "execution_count": 9,
   "metadata": {
    "ExecuteTime": {
     "end_time": "2019-04-24T01:19:14.825974Z",
     "start_time": "2019-04-24T01:19:14.823814Z"
    }
   },
   "outputs": [],
   "source": [
    "# unk = '<unk>'\n",
    "unk = '<rem>'"
   ]
  },
  {
   "cell_type": "code",
   "execution_count": 10,
   "metadata": {
    "ExecuteTime": {
     "end_time": "2019-04-24T01:19:14.891977Z",
     "start_time": "2019-04-24T01:19:14.827300Z"
    }
   },
   "outputs": [
    {
     "data": {
      "text/plain": [
       "'no way money can be substituted for her no way'"
      ]
     },
     "execution_count": 10,
     "metadata": {},
     "output_type": "execute_result"
    },
    {
     "data": {
      "text/plain": [
       "\"<rem> on friday and i have to work it's my last day with them i teach preschool so\""
      ]
     },
     "execution_count": 10,
     "metadata": {},
     "output_type": "execute_result"
    },
    {
     "data": {
      "text/plain": [
       "'were you close to where the <rem> tornados'"
      ]
     },
     "execution_count": 10,
     "metadata": {},
     "output_type": "execute_result"
    },
    {
     "data": {
      "text/plain": [
       "'were you close to where the tornados'"
      ]
     },
     "execution_count": 10,
     "metadata": {},
     "output_type": "execute_result"
    }
   ],
   "source": [
    "def remove_double_parens(speech, insertUnk=True):\n",
    "    if insertUnk:\n",
    "        speech = speech.replace(\"(( ))\", unk)\n",
    "    speech_wordform_seq = speech.split(' ')\n",
    "    filtered = [w for w in speech_wordform_seq if w != '((' and w != '))']\n",
    "    return ' '.join(filtered)\n",
    "\n",
    "remove_double_parens('(( no way )) money can be substituted for her no way')\n",
    "remove_double_parens(\"(( )) on friday and i have to work it's my last day with them i teach preschool so\")\n",
    "remove_double_parens(\"were you close to where the (( )) tornados\")\n",
    "remove_double_parens(\"were you close to where the (( )) tornados\", False)"
   ]
  },
  {
   "cell_type": "code",
   "execution_count": 11,
   "metadata": {
    "ExecuteTime": {
     "end_time": "2019-04-24T01:19:14.899298Z",
     "start_time": "2019-04-24T01:19:14.893439Z"
    }
   },
   "outputs": [
    {
     "data": {
      "text/plain": [
       "'I THINK HUMAN BEINGS ARE PR- UM FRIENDSHIP RELAT- RELATIONSHIPS WITH PEOPLE ARE A LOT MORE IMPORTANT THAN MONEY'"
      ]
     },
     "execution_count": 11,
     "metadata": {},
     "output_type": "execute_result"
    },
    {
     "data": {
      "text/plain": [
       "'hello how are you doing my'"
      ]
     },
     "execution_count": 11,
     "metadata": {},
     "output_type": "execute_result"
    }
   ],
   "source": [
    "def remove_non_speech(speech):\n",
    "    speech_filtered_words = [w for w in speech.split(' ') if len(w) > 0 and w[0] != '[' and w[-1] != ']']\n",
    "    speech_out = ' '.join(speech_filtered_words)\n",
    "    speech_out = speech_out.rstrip()\n",
    "    return speech_out\n",
    "\n",
    "remove_non_speech(\"I THINK HUMAN BEINGS ARE PR- UM [LIPSMACK] FRIENDSHIP RELAT- RELATIONSHIPS WITH PEOPLE ARE A LOT MORE IMPORTANT THAN MONEY\")\n",
    "remove_non_speech(remove_double_parens(\"(( [noise] hello how are you doing my ))\"))"
   ]
  },
  {
   "cell_type": "code",
   "execution_count": 12,
   "metadata": {
    "ExecuteTime": {
     "end_time": "2019-04-24T01:19:14.913218Z",
     "start_time": "2019-04-24T01:19:14.900965Z"
    }
   },
   "outputs": [
    {
     "data": {
      "text/plain": [
       "\"uh huh it's <rem> i love it\""
      ]
     },
     "execution_count": 12,
     "metadata": {},
     "output_type": "execute_result"
    },
    {
     "data": {
      "text/plain": [
       "'okay yeah <rem> <rem> <rem> disney is pretty safe and pretty good'"
      ]
     },
     "execution_count": 12,
     "metadata": {},
     "output_type": "execute_result"
    },
    {
     "data": {
      "text/plain": [
       "'they have the <rem> <rem> <rem> and all that stuff going on'"
      ]
     },
     "execution_count": 12,
     "metadata": {},
     "output_type": "execute_result"
    }
   ],
   "source": [
    "interrupted_word_pattern = \".*-$\"\n",
    "resumed_word_pattern = \"^-.*\"\n",
    "\n",
    "def isInterrupted(wordform):\n",
    "    return re.match(interrupted_word_pattern, wordform) is not None\n",
    "\n",
    "def isResumed(wordform):\n",
    "    return re.match(resumed_word_pattern, wordform) is not None\n",
    "\n",
    "def isBroken(wordform):\n",
    "    return isInterrupted(wordform) or isResumed(wordform)\n",
    "\n",
    "def hasBrokenWords(speech):\n",
    "    speech_word_seq = speech.split(' ')\n",
    "    broken_words = list(filter(isBroken, speech_word_seq))\n",
    "    return len(broken_words) > 0\n",
    "\n",
    "def remove_broken_words(speech, insertUnk=True):\n",
    "    if insertUnk:\n",
    "        replacement = unk\n",
    "    else:\n",
    "        replacement = \"\"\n",
    "        \n",
    "    speech_word_seq = speech.split(' ')\n",
    "    speech_word_seq_fixed = ' '.join(replace(speech_word_seq, isBroken, (replacement,)))\n",
    "    speech_fixed = ' '.join([w for w in speech_word_seq_fixed.split(' ') if len(w) > 0])\n",
    "    return speech_fixed\n",
    "\n",
    "remove_broken_words(\"uh huh it's r- i love it\")\n",
    "remove_broken_words('okay yeah s- we- -ll disney is pretty safe and pretty good')\n",
    "remove_broken_words('they have the pales- -tin- -instinians and all that stuff going on')"
   ]
  },
  {
   "cell_type": "code",
   "execution_count": 13,
   "metadata": {
    "ExecuteTime": {
     "end_time": "2019-04-24T01:19:14.916351Z",
     "start_time": "2019-04-24T01:19:14.914399Z"
    }
   },
   "outputs": [],
   "source": [
    "def lowercase(speech):\n",
    "    return speech.lower()"
   ]
  },
  {
   "cell_type": "code",
   "execution_count": 14,
   "metadata": {
    "ExecuteTime": {
     "end_time": "2019-04-24T01:19:14.921666Z",
     "start_time": "2019-04-24T01:19:14.917548Z"
    }
   },
   "outputs": [],
   "source": [
    "process = compose(lowercase, remove_broken_words, remove_non_speech, remove_double_parens)"
   ]
  },
  {
   "cell_type": "code",
   "execution_count": 15,
   "metadata": {
    "ExecuteTime": {
     "end_time": "2019-04-24T01:19:14.932114Z",
     "start_time": "2019-04-24T01:19:14.922768Z"
    }
   },
   "outputs": [
    {
     "data": {
      "text/plain": [
       "'no way money can be substituted for her no way'"
      ]
     },
     "execution_count": 15,
     "metadata": {},
     "output_type": "execute_result"
    },
    {
     "data": {
      "text/plain": [
       "'i think human beings are <rem> um friendship <rem> relationships with people are a lot more important than money'"
      ]
     },
     "execution_count": 15,
     "metadata": {},
     "output_type": "execute_result"
    },
    {
     "data": {
      "text/plain": [
       "'hello how are you doing my'"
      ]
     },
     "execution_count": 15,
     "metadata": {},
     "output_type": "execute_result"
    },
    {
     "data": {
      "text/plain": [
       "'they have the <rem> <rem> <rem> and all that stuff going on'"
      ]
     },
     "execution_count": 15,
     "metadata": {},
     "output_type": "execute_result"
    }
   ],
   "source": [
    "process('(( no way )) money can be substituted for her no way')\n",
    "process(\"I THINK HUMAN BEINGS ARE PR- UM [LIPSMACK] FRIENDSHIP RELAT- RELATIONSHIPS WITH PEOPLE ARE A LOT MORE IMPORTANT THAN MONEY\")\n",
    "process(\"(( [noise] hello how are you doing my ))\")\n",
    "process('they have the pales- -tin- -instinians and all that stuff going on')"
   ]
  },
  {
   "cell_type": "markdown",
   "metadata": {},
   "source": [
    "# Corpus directories"
   ]
  },
  {
   "cell_type": "code",
   "execution_count": 16,
   "metadata": {
    "ExecuteTime": {
     "end_time": "2019-04-24T01:19:14.935878Z",
     "start_time": "2019-04-24T01:19:14.933719Z"
    }
   },
   "outputs": [],
   "source": [
    "repo_dir = '/mnt/cube/home/AD/emeinhar/fisher-lm'"
   ]
  },
  {
   "cell_type": "code",
   "execution_count": 17,
   "metadata": {
    "ExecuteTime": {
     "end_time": "2019-04-24T01:19:14.941002Z",
     "start_time": "2019-04-24T01:19:14.937507Z"
    }
   },
   "outputs": [],
   "source": [
    "fisher_dir = \"/mnt/truffle/corpora/fisher_english_transcripts/fe_03_p2_tran\""
   ]
  },
  {
   "cell_type": "code",
   "execution_count": 18,
   "metadata": {
    "ExecuteTime": {
     "end_time": "2019-04-24T01:19:14.947322Z",
     "start_time": "2019-04-24T01:19:14.942623Z"
    }
   },
   "outputs": [
    {
     "data": {
      "text/plain": [
       "'/mnt/cube/home/AD/emeinhar/fisher-lm'"
      ]
     },
     "execution_count": 18,
     "metadata": {},
     "output_type": "execute_result"
    }
   ],
   "source": [
    "os.getcwd()"
   ]
  },
  {
   "cell_type": "code",
   "execution_count": 19,
   "metadata": {
    "ExecuteTime": {
     "end_time": "2019-04-24T01:19:14.953630Z",
     "start_time": "2019-04-24T01:19:14.948937Z"
    }
   },
   "outputs": [],
   "source": [
    "os.chdir(fisher_dir)"
   ]
  },
  {
   "cell_type": "code",
   "execution_count": 20,
   "metadata": {
    "ExecuteTime": {
     "end_time": "2019-04-24T01:19:15.078219Z",
     "start_time": "2019-04-24T01:19:14.955169Z"
    }
   },
   "outputs": [
    {
     "name": "stdout",
     "output_type": "stream",
     "text": [
      "\u001b[0m\u001b[01;34mdata\u001b[0m/  \u001b[01;34mdoc\u001b[0m/  \u001b[01;32mindex.html\u001b[0m*\r\n"
     ]
    }
   ],
   "source": [
    "%ls"
   ]
  },
  {
   "cell_type": "code",
   "execution_count": 21,
   "metadata": {
    "ExecuteTime": {
     "end_time": "2019-04-24T01:19:15.084989Z",
     "start_time": "2019-04-24T01:19:15.080696Z"
    }
   },
   "outputs": [
    {
     "data": {
      "text/plain": [
       "'/mnt/truffle/corpora/fisher_english_transcripts/fe_03_p2_tran/data'"
      ]
     },
     "execution_count": 21,
     "metadata": {},
     "output_type": "execute_result"
    }
   ],
   "source": [
    "os.chdir(os.path.join(fisher_dir, 'data'))\n",
    "os.getcwd()"
   ]
  },
  {
   "cell_type": "code",
   "execution_count": 22,
   "metadata": {
    "ExecuteTime": {
     "end_time": "2019-04-24T01:19:15.208982Z",
     "start_time": "2019-04-24T01:19:15.086802Z"
    }
   },
   "outputs": [
    {
     "name": "stdout",
     "output_type": "stream",
     "text": [
      "\u001b[0m\u001b[01;34mbbn_orig\u001b[0m/  \u001b[01;34mtrans\u001b[0m/\r\n"
     ]
    }
   ],
   "source": [
    "%ls"
   ]
  },
  {
   "cell_type": "markdown",
   "metadata": {},
   "source": [
    "Each of these two folders contains a different transcription of the Fisher corpus (per `.../doc/bbn_trans_readme.txt` = https://catalog.ldc.upenn.edu/docs/LDC2005T19/bbn_trans_readme.txt)."
   ]
  },
  {
   "cell_type": "markdown",
   "metadata": {},
   "source": [
    "# Main (=LDC) transcriptions"
   ]
  },
  {
   "cell_type": "code",
   "execution_count": 23,
   "metadata": {
    "ExecuteTime": {
     "end_time": "2019-04-24T01:19:15.214874Z",
     "start_time": "2019-04-24T01:19:15.210900Z"
    }
   },
   "outputs": [
    {
     "data": {
      "text/plain": [
       "'/mnt/truffle/corpora/fisher_english_transcripts/fe_03_p2_tran/data/trans'"
      ]
     },
     "execution_count": 23,
     "metadata": {},
     "output_type": "execute_result"
    }
   ],
   "source": [
    "os.chdir(os.path.join(fisher_dir, 'data' + '/' + 'trans'))\n",
    "os.getcwd()"
   ]
  },
  {
   "cell_type": "code",
   "execution_count": 24,
   "metadata": {
    "ExecuteTime": {
     "end_time": "2019-04-24T01:19:15.220413Z",
     "start_time": "2019-04-24T01:19:15.216130Z"
    }
   },
   "outputs": [],
   "source": [
    "main_data_dir = '/mnt/truffle/corpora/fisher_english_transcripts/fe_03_p2_tran/data/trans'"
   ]
  },
  {
   "cell_type": "code",
   "execution_count": 25,
   "metadata": {
    "ExecuteTime": {
     "end_time": "2019-04-24T01:19:15.368507Z",
     "start_time": "2019-04-24T01:19:15.221462Z"
    }
   },
   "outputs": [
    {
     "name": "stdout",
     "output_type": "stream",
     "text": [
      "\u001b[0m\u001b[01;34m058\u001b[0m/  \u001b[01;34m063\u001b[0m/  \u001b[01;34m068\u001b[0m/  \u001b[01;34m073\u001b[0m/  \u001b[01;34m078\u001b[0m/  \u001b[01;34m083\u001b[0m/  \u001b[01;34m088\u001b[0m/  \u001b[01;34m093\u001b[0m/  \u001b[01;34m098\u001b[0m/  \u001b[01;34m103\u001b[0m/  \u001b[01;34m108\u001b[0m/  \u001b[01;34m113\u001b[0m/\r\n",
      "\u001b[01;34m059\u001b[0m/  \u001b[01;34m064\u001b[0m/  \u001b[01;34m069\u001b[0m/  \u001b[01;34m074\u001b[0m/  \u001b[01;34m079\u001b[0m/  \u001b[01;34m084\u001b[0m/  \u001b[01;34m089\u001b[0m/  \u001b[01;34m094\u001b[0m/  \u001b[01;34m099\u001b[0m/  \u001b[01;34m104\u001b[0m/  \u001b[01;34m109\u001b[0m/  \u001b[01;34m114\u001b[0m/\r\n",
      "\u001b[01;34m060\u001b[0m/  \u001b[01;34m065\u001b[0m/  \u001b[01;34m070\u001b[0m/  \u001b[01;34m075\u001b[0m/  \u001b[01;34m080\u001b[0m/  \u001b[01;34m085\u001b[0m/  \u001b[01;34m090\u001b[0m/  \u001b[01;34m095\u001b[0m/  \u001b[01;34m100\u001b[0m/  \u001b[01;34m105\u001b[0m/  \u001b[01;34m110\u001b[0m/  \u001b[01;34m115\u001b[0m/\r\n",
      "\u001b[01;34m061\u001b[0m/  \u001b[01;34m066\u001b[0m/  \u001b[01;34m071\u001b[0m/  \u001b[01;34m076\u001b[0m/  \u001b[01;34m081\u001b[0m/  \u001b[01;34m086\u001b[0m/  \u001b[01;34m091\u001b[0m/  \u001b[01;34m096\u001b[0m/  \u001b[01;34m101\u001b[0m/  \u001b[01;34m106\u001b[0m/  \u001b[01;34m111\u001b[0m/  \u001b[01;34m116\u001b[0m/\r\n",
      "\u001b[01;34m062\u001b[0m/  \u001b[01;34m067\u001b[0m/  \u001b[01;34m072\u001b[0m/  \u001b[01;34m077\u001b[0m/  \u001b[01;34m082\u001b[0m/  \u001b[01;34m087\u001b[0m/  \u001b[01;34m092\u001b[0m/  \u001b[01;34m097\u001b[0m/  \u001b[01;34m102\u001b[0m/  \u001b[01;34m107\u001b[0m/  \u001b[01;34m112\u001b[0m/\r\n"
     ]
    }
   ],
   "source": [
    "%ls"
   ]
  },
  {
   "cell_type": "code",
   "execution_count": 26,
   "metadata": {
    "ExecuteTime": {
     "end_time": "2019-04-24T01:19:15.372750Z",
     "start_time": "2019-04-24T01:19:15.370344Z"
    }
   },
   "outputs": [],
   "source": [
    "trans_folders = os.listdir()"
   ]
  },
  {
   "cell_type": "code",
   "execution_count": 27,
   "metadata": {
    "ExecuteTime": {
     "end_time": "2019-04-24T01:19:15.379348Z",
     "start_time": "2019-04-24T01:19:15.374397Z"
    }
   },
   "outputs": [
    {
     "data": {
      "text/plain": [
       "'/mnt/truffle/corpora/fisher_english_transcripts/fe_03_p2_tran/data/trans/058'"
      ]
     },
     "execution_count": 27,
     "metadata": {},
     "output_type": "execute_result"
    }
   ],
   "source": [
    "os.chdir(os.path.join(main_data_dir, '058'))\n",
    "os.getcwd()"
   ]
  },
  {
   "cell_type": "code",
   "execution_count": 28,
   "metadata": {
    "ExecuteTime": {
     "end_time": "2019-04-24T01:19:15.507614Z",
     "start_time": "2019-04-24T01:19:15.380392Z"
    }
   },
   "outputs": [
    {
     "name": "stdout",
     "output_type": "stream",
     "text": [
      "\u001b[0m\u001b[01;32mfe_03_05851.txt\u001b[0m*  \u001b[01;32mfe_03_05864.txt\u001b[0m*  \u001b[01;32mfe_03_05877.txt\u001b[0m*  \u001b[01;32mfe_03_05890.txt\u001b[0m*\r\n",
      "\u001b[01;32mfe_03_05852.txt\u001b[0m*  \u001b[01;32mfe_03_05865.txt\u001b[0m*  \u001b[01;32mfe_03_05878.txt\u001b[0m*  \u001b[01;32mfe_03_05891.txt\u001b[0m*\r\n",
      "\u001b[01;32mfe_03_05853.txt\u001b[0m*  \u001b[01;32mfe_03_05866.txt\u001b[0m*  \u001b[01;32mfe_03_05879.txt\u001b[0m*  \u001b[01;32mfe_03_05892.txt\u001b[0m*\r\n",
      "\u001b[01;32mfe_03_05854.txt\u001b[0m*  \u001b[01;32mfe_03_05867.txt\u001b[0m*  \u001b[01;32mfe_03_05880.txt\u001b[0m*  \u001b[01;32mfe_03_05893.txt\u001b[0m*\r\n",
      "\u001b[01;32mfe_03_05855.txt\u001b[0m*  \u001b[01;32mfe_03_05868.txt\u001b[0m*  \u001b[01;32mfe_03_05881.txt\u001b[0m*  \u001b[01;32mfe_03_05894.txt\u001b[0m*\r\n",
      "\u001b[01;32mfe_03_05856.txt\u001b[0m*  \u001b[01;32mfe_03_05869.txt\u001b[0m*  \u001b[01;32mfe_03_05882.txt\u001b[0m*  \u001b[01;32mfe_03_05895.txt\u001b[0m*\r\n",
      "\u001b[01;32mfe_03_05857.txt\u001b[0m*  \u001b[01;32mfe_03_05870.txt\u001b[0m*  \u001b[01;32mfe_03_05883.txt\u001b[0m*  \u001b[01;32mfe_03_05896.txt\u001b[0m*\r\n",
      "\u001b[01;32mfe_03_05858.txt\u001b[0m*  \u001b[01;32mfe_03_05871.txt\u001b[0m*  \u001b[01;32mfe_03_05884.txt\u001b[0m*  \u001b[01;32mfe_03_05897.txt\u001b[0m*\r\n",
      "\u001b[01;32mfe_03_05859.txt\u001b[0m*  \u001b[01;32mfe_03_05872.txt\u001b[0m*  \u001b[01;32mfe_03_05885.txt\u001b[0m*  \u001b[01;32mfe_03_05898.txt\u001b[0m*\r\n",
      "\u001b[01;32mfe_03_05860.txt\u001b[0m*  \u001b[01;32mfe_03_05873.txt\u001b[0m*  \u001b[01;32mfe_03_05886.txt\u001b[0m*  \u001b[01;32mfe_03_05899.txt\u001b[0m*\r\n",
      "\u001b[01;32mfe_03_05861.txt\u001b[0m*  \u001b[01;32mfe_03_05874.txt\u001b[0m*  \u001b[01;32mfe_03_05887.txt\u001b[0m*\r\n",
      "\u001b[01;32mfe_03_05862.txt\u001b[0m*  \u001b[01;32mfe_03_05875.txt\u001b[0m*  \u001b[01;32mfe_03_05888.txt\u001b[0m*\r\n",
      "\u001b[01;32mfe_03_05863.txt\u001b[0m*  \u001b[01;32mfe_03_05876.txt\u001b[0m*  \u001b[01;32mfe_03_05889.txt\u001b[0m*\r\n"
     ]
    }
   ],
   "source": [
    "%ls"
   ]
  },
  {
   "cell_type": "code",
   "execution_count": 29,
   "metadata": {
    "ExecuteTime": {
     "end_time": "2019-04-24T01:19:15.513820Z",
     "start_time": "2019-04-24T01:19:15.509260Z"
    }
   },
   "outputs": [
    {
     "data": {
      "text/plain": [
       "'fe_03_05851.txt'"
      ]
     },
     "execution_count": 29,
     "metadata": {},
     "output_type": "execute_result"
    },
    {
     "data": {
      "text/plain": [
       "'05851'"
      ]
     },
     "execution_count": 29,
     "metadata": {},
     "output_type": "execute_result"
    }
   ],
   "source": [
    "os.listdir()[0]\n",
    "os.listdir()[0][6:11]"
   ]
  },
  {
   "cell_type": "code",
   "execution_count": 30,
   "metadata": {
    "ExecuteTime": {
     "end_time": "2019-04-24T01:19:15.633179Z",
     "start_time": "2019-04-24T01:19:15.515001Z"
    }
   },
   "outputs": [
    {
     "name": "stdout",
     "output_type": "stream",
     "text": [
      "     1\t# fe_03_05851.sph\r\n",
      "     2\t# Transcribed at the LDC\r\n",
      "     3\t\r\n",
      "     4\t56.38 61.03 A: i mean no money is very important definitely and a million dollars is a dream come true for me i mean \r\n",
      "     5\t\r\n",
      "     6\t61.19 64.71 A: i can actually imagine the kind of things i can buy \r\n",
      "     7\t\r\n",
      "     8\t64.41 65.38 B: yeah \r\n",
      "     9\t\r\n",
      "    10\t65.57 69.14 A: travel and do whatever i want to in life but then again \r\n",
      "    11\t\r\n",
      "    12\t69.61 70.13 A: i just \r\n",
      "    13\t\r\n",
      "    14\t70.25 73.34 A: can't i mean stop talking to my best friend that's like \r\n",
      "    15\t\r\n",
      "    16\t73.54 76.25 A: i can't do that i mean i've been so close to her \r\n",
      "    17\t\r\n",
      "    18\t76.52 78.31 A: she has been my friend since my school days \r\n",
      "    19\t\r\n",
      "    20\t79.01 81.04 A: so i share almost everything with her \r\n",
      "    21\t\r\n",
      "    22\t81.15 81.91 B: mhm th- \r\n",
      "    23\t\r\n",
      "    24\t81.36 85.99 A: whatever problems whatever successes that i've faced in life i mean everything i have to share with her \r\n",
      "    25\t\r\n",
      "    26\t86.36 89.54 B: and they know so much about you and \r\n",
      "    27\t\r\n",
      "    28\t87.81 89.13 A: yeah i know \r\n",
      "    29\t\r\n",
      "    30\t90.29 92.75 A: everything i mean any little problem any little \r\n",
      "    31\t\r\n",
      "    32\t92.98 95.78 A: thing that you have in your life you can always go and talk to her about it \r\n",
      "    33\t\r\n",
      "    34\t95.97 96.50 B: mhm \r\n",
      "    35\t\r\n",
      "    36\t96.55 101.84 A: really nice it really feels nice you know you can share your burdens with her your joys with her your sorrows with her \r\n",
      "    37\t\r\n",
      "    38\t103.75 107.05 A: seriously money is definitely important but th- but then \r\n",
      "    39\t\r\n",
      "    40\t106.55 108.89 B: i don't think its that important right \r\n",
      "    41\t\r\n",
      "    42\t108.17 108.87 A: mhm \r\n",
      "    43\t\r\n",
      "    44\t109.24 111.54 A: not to sacrifice a friendship for it right \r\n",
      "    45\t\r\n",
      "    46\t111.58 112.17 B: mhm \r\n",
      "    47\t\r\n",
      "    48\t112.27 113.36 A: you can't do that \r\n",
      "    49\t\r\n",
      "    50\t113.43 116.05 B: does your best friend d- does she live close by \r\n",
      "    51\t\r\n",
      "    52\t116.33 119.01 A: mhm she's actually in india and i'm from india \r\n",
      "    53\t\r\n",
      "    54\t119.47 119.83 B: uh-huh \r\n",
      "    55\t\r\n",
      "    56\t119.47 123.07 A: i just came here last year but we're still in touch through mail li- \r\n",
      "    57\t\r\n",
      "    58\t121.08 121.51 B: oh \r\n",
      "    59\t\r\n",
      "    60\t123.19 125.13 A: call her on and off once in while but \r\n"
     ]
    }
   ],
   "source": [
    "%cat -n fe_03_05851.txt | head -60"
   ]
  },
  {
   "cell_type": "markdown",
   "metadata": {},
   "source": [
    "Per the documentation, each five digit number before the file extension is a unique call id."
   ]
  },
  {
   "cell_type": "markdown",
   "metadata": {},
   "source": [
    "### Organizing call transcription files, a unique call ID, and call transcription file location"
   ]
  },
  {
   "cell_type": "markdown",
   "metadata": {},
   "source": [
    "**Let's create a relation between filename, call id, and location.**"
   ]
  },
  {
   "cell_type": "code",
   "execution_count": 31,
   "metadata": {
    "ExecuteTime": {
     "end_time": "2019-04-24T01:19:15.642148Z",
     "start_time": "2019-04-24T01:19:15.636413Z"
    }
   },
   "outputs": [
    {
     "data": {
      "text/plain": [
       "'/mnt/truffle/corpora/fisher_english_transcripts/fe_03_p2_tran/data/trans/058/fe_03_05851.txt'"
      ]
     },
     "execution_count": 31,
     "metadata": {},
     "output_type": "execute_result"
    }
   ],
   "source": [
    "os.path.join(main_data_dir, '058' + '/' + 'fe_03_05851.txt')"
   ]
  },
  {
   "cell_type": "code",
   "execution_count": 32,
   "metadata": {
    "ExecuteTime": {
     "end_time": "2019-04-24T01:19:15.648145Z",
     "start_time": "2019-04-24T01:19:15.644512Z"
    }
   },
   "outputs": [],
   "source": [
    "def filenameToRelation_orig(fn, curr_dir):\n",
    "    return {'filename':fn,\n",
    "            'call_id':fn[6:11],\n",
    "            'location':os.path.join(main_data_dir, curr_dir + '/' + fn)}"
   ]
  },
  {
   "cell_type": "code",
   "execution_count": 33,
   "metadata": {
    "ExecuteTime": {
     "end_time": "2019-04-24T01:19:15.661149Z",
     "start_time": "2019-04-24T01:19:15.656529Z"
    }
   },
   "outputs": [
    {
     "data": {
      "text/plain": [
       "'/mnt/truffle/corpora/fisher_english_transcripts/fe_03_p2_tran/data/trans'"
      ]
     },
     "execution_count": 33,
     "metadata": {},
     "output_type": "execute_result"
    }
   ],
   "source": [
    "os.chdir(main_data_dir)\n",
    "os.getcwd()"
   ]
  },
  {
   "cell_type": "code",
   "execution_count": 34,
   "metadata": {
    "ExecuteTime": {
     "end_time": "2019-04-24T01:19:15.713372Z",
     "start_time": "2019-04-24T01:19:15.667182Z"
    }
   },
   "outputs": [],
   "source": [
    "main_call_relation = []\n",
    "for folder in trans_folders:\n",
    "    os.chdir(folder)\n",
    "    for file in os.listdir():\n",
    "        main_call_relation.append(filenameToRelation_orig(file, folder))\n",
    "    os.chdir('..')"
   ]
  },
  {
   "cell_type": "code",
   "execution_count": 35,
   "metadata": {
    "ExecuteTime": {
     "end_time": "2019-04-24T01:19:15.720062Z",
     "start_time": "2019-04-24T01:19:15.715537Z"
    }
   },
   "outputs": [
    {
     "data": {
      "text/plain": [
       "[{'filename': 'fe_03_05851.txt',\n",
       "  'call_id': '05851',\n",
       "  'location': '/mnt/truffle/corpora/fisher_english_transcripts/fe_03_p2_tran/data/trans/058/fe_03_05851.txt'},\n",
       " {'filename': 'fe_03_05852.txt',\n",
       "  'call_id': '05852',\n",
       "  'location': '/mnt/truffle/corpora/fisher_english_transcripts/fe_03_p2_tran/data/trans/058/fe_03_05852.txt'},\n",
       " {'filename': 'fe_03_05853.txt',\n",
       "  'call_id': '05853',\n",
       "  'location': '/mnt/truffle/corpora/fisher_english_transcripts/fe_03_p2_tran/data/trans/058/fe_03_05853.txt'}]"
      ]
     },
     "execution_count": 35,
     "metadata": {},
     "output_type": "execute_result"
    }
   ],
   "source": [
    "main_call_relation[:3]"
   ]
  },
  {
   "cell_type": "markdown",
   "metadata": {},
   "source": [
    "## Organizing transcriptions of each call"
   ]
  },
  {
   "cell_type": "markdown",
   "metadata": {},
   "source": [
    "Each line of a transcribed call file is either\n",
    " - a comment (prefixed with `#`), only ever appearing in the top two lines of the file\n",
    " - blank\n",
    " - or a transcription line.\n",
    "\n",
    "A transcription line consists of\n",
    " - a two decimal point float indicating the time of the start of the transcribed speech in the line\n",
    " - a two decimal point float indicating the time of the end of the transcribed speech in the line\n",
    " - two characters indicating which of two speakers produced the transcribed speech in the line\n",
    " - a sequence of transcribed speech wordforms (all lowercase)\n",
    "\n",
    "Each of these elements is separated from the other by a space.\n",
    "\n",
    "Transcribed wordform sequences that transcribers were unsure of what exactly was said are surrounded by double parentheses, with the transcriber's best guess (if any) inside the parentheses e.g. \n",
    "  - `295.11 298.23 A: (( no way )) money can be substituted for her no way`\n",
    "  - `335.99 341.73 B: (( )) on friday and i have to work it's my last day with them i teach preschool so`"
   ]
  },
  {
   "cell_type": "code",
   "execution_count": 36,
   "metadata": {
    "ExecuteTime": {
     "end_time": "2019-04-24T01:19:15.839263Z",
     "start_time": "2019-04-24T01:19:15.722120Z"
    }
   },
   "outputs": [
    {
     "name": "stdout",
     "output_type": "stream",
     "text": [
      "     1\t# fe_03_05851.sph\r\n",
      "     2\t# Transcribed at the LDC\r\n",
      "     3\t\r\n",
      "     4\t56.38 61.03 A: i mean no money is very important definitely and a million dollars is a dream come true for me i mean \r\n",
      "     5\t\r\n",
      "     6\t61.19 64.71 A: i can actually imagine the kind of things i can buy \r\n",
      "     7\t\r\n",
      "     8\t64.41 65.38 B: yeah \r\n",
      "     9\t\r\n",
      "    10\t65.57 69.14 A: travel and do whatever i want to in life but then again \r\n",
      "    11\t\r\n",
      "    12\t69.61 70.13 A: i just \r\n",
      "    13\t\r\n",
      "    14\t70.25 73.34 A: can't i mean stop talking to my best friend that's like \r\n",
      "    15\t\r\n",
      "    16\t73.54 76.25 A: i can't do that i mean i've been so close to her \r\n",
      "    17\t\r\n",
      "    18\t76.52 78.31 A: she has been my friend since my school days \r\n",
      "    19\t\r\n",
      "    20\t79.01 81.04 A: so i share almost everything with her \r\n"
     ]
    }
   ],
   "source": [
    "%cat -n ./058/fe_03_05851.txt | head -20"
   ]
  },
  {
   "cell_type": "code",
   "execution_count": 37,
   "metadata": {
    "ExecuteTime": {
     "end_time": "2019-04-24T01:19:15.846471Z",
     "start_time": "2019-04-24T01:19:15.841708Z"
    }
   },
   "outputs": [],
   "source": [
    "def get_raw_transcription_lines(callfile_fn):\n",
    "    lines = []\n",
    "    with open(callfile_fn, 'r', encoding='latin-1') as the_file:\n",
    "        for line in the_file:\n",
    "            if line[0] != '#' and line.rstrip() != '':\n",
    "                lines.append(line.rstrip())\n",
    "    return lines"
   ]
  },
  {
   "cell_type": "code",
   "execution_count": 38,
   "metadata": {
    "ExecuteTime": {
     "end_time": "2019-04-24T01:19:15.854892Z",
     "start_time": "2019-04-24T01:19:15.847795Z"
    }
   },
   "outputs": [
    {
     "data": {
      "text/plain": [
       "['56.38 61.03 A: i mean no money is very important definitely and a million dollars is a dream come true for me i mean',\n",
       " '61.19 64.71 A: i can actually imagine the kind of things i can buy',\n",
       " '64.41 65.38 B: yeah',\n",
       " '65.57 69.14 A: travel and do whatever i want to in life but then again',\n",
       " '69.61 70.13 A: i just']"
      ]
     },
     "execution_count": 38,
     "metadata": {},
     "output_type": "execute_result"
    }
   ],
   "source": [
    "ls = get_raw_transcription_lines('./058/fe_03_05851.txt')\n",
    "ls[:5]"
   ]
  },
  {
   "cell_type": "code",
   "execution_count": 39,
   "metadata": {
    "ExecuteTime": {
     "end_time": "2019-04-24T01:19:15.860496Z",
     "start_time": "2019-04-24T01:19:15.856954Z"
    }
   },
   "outputs": [
    {
     "data": {
      "text/plain": [
       "4.65"
      ]
     },
     "execution_count": 39,
     "metadata": {},
     "output_type": "execute_result"
    }
   ],
   "source": [
    "round(4.649999999999999, 2)"
   ]
  },
  {
   "cell_type": "code",
   "execution_count": 40,
   "metadata": {
    "ExecuteTime": {
     "end_time": "2019-04-24T01:19:15.864566Z",
     "start_time": "2019-04-24T01:19:15.862169Z"
    }
   },
   "outputs": [],
   "source": [
    "# def remove_double_parens(speech):\n",
    "#     speech_wordform_seq = speech.split(' ')\n",
    "#     filtered = [w for w in speech_wordform_seq if w != '((' and w != '))']\n",
    "#     return ' '.join(filtered)"
   ]
  },
  {
   "cell_type": "code",
   "execution_count": 41,
   "metadata": {
    "ExecuteTime": {
     "end_time": "2019-04-24T01:19:15.873688Z",
     "start_time": "2019-04-24T01:19:15.866293Z"
    }
   },
   "outputs": [
    {
     "data": {
      "text/plain": [
       "'no way money can be substituted for her no way'"
      ]
     },
     "execution_count": 41,
     "metadata": {},
     "output_type": "execute_result"
    },
    {
     "data": {
      "text/plain": [
       "\"<rem> on friday and i have to work it's my last day with them i teach preschool so\""
      ]
     },
     "execution_count": 41,
     "metadata": {},
     "output_type": "execute_result"
    }
   ],
   "source": [
    "remove_double_parens('(( no way )) money can be substituted for her no way')\n",
    "remove_double_parens(\"(( )) on friday and i have to work it's my last day with them i teach preschool so\")"
   ]
  },
  {
   "cell_type": "code",
   "execution_count": 42,
   "metadata": {
    "ExecuteTime": {
     "end_time": "2019-04-24T01:19:15.881181Z",
     "start_time": "2019-04-24T01:19:15.875313Z"
    }
   },
   "outputs": [],
   "source": [
    "def parse_transcription_line(line):\n",
    "    parts = line.split(' ')\n",
    "    start = float(parts[0])\n",
    "    end = float(parts[1])\n",
    "    duration = round(end - start, 2)\n",
    "    speaker = parts[2][0]\n",
    "    speech_raw = ' '.join(parts[3:])\n",
    "#     speech_no_parens = remove_double_parens(speech_raw)\n",
    "    \n",
    "#     speech_filtered_words = [w for w in speech_no_parens.split(' ') if len(w) > 0 and w[0] != '[' and w[-1] != ']']\n",
    "#     speech = ' '.join(speech_filtered_words)\n",
    "#     speech = speech.rstrip()\n",
    "    speech = process(speech_raw)\n",
    "    \n",
    "    line_relation = {'start':start,\n",
    "                     'end':end,\n",
    "                     'duration':duration,\n",
    "                     'speaker':speaker,\n",
    "                     'speech_raw':speech_raw,\n",
    "#                      'speech_no_parens':speech_no_parens,\n",
    "                     'speech':speech}\n",
    "    return line_relation"
   ]
  },
  {
   "cell_type": "code",
   "execution_count": 43,
   "metadata": {
    "ExecuteTime": {
     "end_time": "2019-04-24T01:19:15.887998Z",
     "start_time": "2019-04-24T01:19:15.882531Z"
    }
   },
   "outputs": [
    {
     "data": {
      "text/plain": [
       "{'start': 56.38,\n",
       " 'end': 61.03,\n",
       " 'duration': 4.65,\n",
       " 'speaker': 'A',\n",
       " 'speech_raw': 'i mean no money is very important definitely and a million dollars is a dream come true for me i mean',\n",
       " 'speech': 'i mean no money is very important definitely and a million dollars is a dream come true for me i mean'}"
      ]
     },
     "execution_count": 43,
     "metadata": {},
     "output_type": "execute_result"
    }
   ],
   "source": [
    "parse_transcription_line(ls[0])"
   ]
  },
  {
   "cell_type": "code",
   "execution_count": 44,
   "metadata": {
    "ExecuteTime": {
     "end_time": "2019-04-24T01:19:15.894152Z",
     "start_time": "2019-04-24T01:19:15.889623Z"
    }
   },
   "outputs": [],
   "source": [
    "def get_transcriptions_main(call_id):\n",
    "    call_rel_match = [c for c in main_call_relation if c['call_id'] == call_id]\n",
    "    assert len(call_rel_match) == 1, 'No matching call with call_id = {0}'.format(call_id)\n",
    "    call_rel = call_rel_match[0]\n",
    "#     call_fn = call_rel['filename']\n",
    "    parsed_lines = [parse_transcription_line(l) \n",
    "                    for l in get_raw_transcription_lines(call_rel['location'])]\n",
    "    return parsed_lines"
   ]
  },
  {
   "cell_type": "code",
   "execution_count": 45,
   "metadata": {
    "ExecuteTime": {
     "end_time": "2019-04-24T01:19:15.911877Z",
     "start_time": "2019-04-24T01:19:15.896001Z"
    }
   },
   "outputs": [
    {
     "data": {
      "text/plain": [
       "[{'start': 56.38,\n",
       "  'end': 61.03,\n",
       "  'duration': 4.65,\n",
       "  'speaker': 'A',\n",
       "  'speech_raw': 'i mean no money is very important definitely and a million dollars is a dream come true for me i mean',\n",
       "  'speech': 'i mean no money is very important definitely and a million dollars is a dream come true for me i mean'},\n",
       " {'start': 61.19,\n",
       "  'end': 64.71,\n",
       "  'duration': 3.52,\n",
       "  'speaker': 'A',\n",
       "  'speech_raw': 'i can actually imagine the kind of things i can buy',\n",
       "  'speech': 'i can actually imagine the kind of things i can buy'},\n",
       " {'start': 64.41,\n",
       "  'end': 65.38,\n",
       "  'duration': 0.97,\n",
       "  'speaker': 'B',\n",
       "  'speech_raw': 'yeah',\n",
       "  'speech': 'yeah'}]"
      ]
     },
     "execution_count": 45,
     "metadata": {},
     "output_type": "execute_result"
    }
   ],
   "source": [
    "get_transcriptions_main('05851')[:3]"
   ]
  },
  {
   "cell_type": "markdown",
   "metadata": {},
   "source": [
    "## Some summary / sanity-checking statistics"
   ]
  },
  {
   "cell_type": "markdown",
   "metadata": {},
   "source": [
    "How many calls are in the main transcripts?"
   ]
  },
  {
   "cell_type": "code",
   "execution_count": 46,
   "metadata": {
    "ExecuteTime": {
     "end_time": "2019-04-24T01:19:15.916904Z",
     "start_time": "2019-04-24T01:19:15.913168Z"
    }
   },
   "outputs": [
    {
     "data": {
      "text/plain": [
       "5849"
      ]
     },
     "execution_count": 46,
     "metadata": {},
     "output_type": "execute_result"
    }
   ],
   "source": [
    "call_ids = [c['call_id'] for c in main_call_relation]\n",
    "len(call_ids)"
   ]
  },
  {
   "cell_type": "markdown",
   "metadata": {},
   "source": [
    "How many word tokens are in the main transcripts?"
   ]
  },
  {
   "cell_type": "code",
   "execution_count": 47,
   "metadata": {
    "ExecuteTime": {
     "end_time": "2019-04-24T01:19:15.921427Z",
     "start_time": "2019-04-24T01:19:15.918192Z"
    }
   },
   "outputs": [],
   "source": [
    "def tokenize_speech_in_line(line_rel):\n",
    "    return line_rel['speech'].split(' ')\n",
    "\n",
    "def count_word_tokens_in_line(line_rel):\n",
    "    return len(tokenize_speech_in_line(line_rel))\n",
    "\n",
    "def count_word_tokens_in_call(call_id):\n",
    "    return sum([count_word_tokens_in_line(l) for l in get_transcriptions_main(call_id)])"
   ]
  },
  {
   "cell_type": "code",
   "execution_count": 48,
   "metadata": {
    "ExecuteTime": {
     "end_time": "2019-04-24T01:19:19.903869Z",
     "start_time": "2019-04-24T01:19:15.922581Z"
    }
   },
   "outputs": [
    {
     "name": "stderr",
     "output_type": "stream",
     "text": [
      "[Parallel(n_jobs=15)]: Using backend MultiprocessingBackend with 15 concurrent workers.\n",
      "[Parallel(n_jobs=15)]: Batch computation too fast (0.0128s.) Setting batch_size=30.\n",
      "[Parallel(n_jobs=15)]: Done   2 tasks      | elapsed:    0.0s\n",
      "[Parallel(n_jobs=15)]: Done  11 tasks      | elapsed:    0.0s\n",
      "[Parallel(n_jobs=15)]: Done  20 tasks      | elapsed:    0.0s\n",
      "[Parallel(n_jobs=15)]: Done  60 tasks      | elapsed:    0.3s\n",
      "[Parallel(n_jobs=15)]: Done 390 tasks      | elapsed:    0.4s\n",
      "[Parallel(n_jobs=15)]: Done 780 tasks      | elapsed:    0.6s\n",
      "[Parallel(n_jobs=15)]: Done 1170 tasks      | elapsed:    0.9s\n",
      "[Parallel(n_jobs=15)]: Done 1620 tasks      | elapsed:    1.1s\n",
      "[Parallel(n_jobs=15)]: Done 2070 tasks      | elapsed:    1.4s\n",
      "[Parallel(n_jobs=15)]: Done 2580 tasks      | elapsed:    1.8s\n",
      "[Parallel(n_jobs=15)]: Done 3090 tasks      | elapsed:    2.1s\n",
      "[Parallel(n_jobs=15)]: Done 3660 tasks      | elapsed:    2.5s\n",
      "[Parallel(n_jobs=15)]: Done 4230 tasks      | elapsed:    2.8s\n",
      "[Parallel(n_jobs=15)]: Done 4860 tasks      | elapsed:    3.2s\n",
      "[Parallel(n_jobs=15)]: Done 5820 out of 5849 | elapsed:    3.7s remaining:    0.0s\n",
      "[Parallel(n_jobs=15)]: Done 5849 out of 5849 | elapsed:    3.7s finished\n"
     ]
    },
    {
     "data": {
      "text/plain": [
       "10767649"
      ]
     },
     "execution_count": 48,
     "metadata": {},
     "output_type": "execute_result"
    }
   ],
   "source": [
    "#9.9s on wittgenstein\n",
    "# sum([count_word_tokens_in_call(call_id) for call_id in call_ids])\n",
    "\n",
    "J = 15\n",
    "sum(par(delayed(count_word_tokens_in_call)(call_id) for call_id in call_ids))"
   ]
  },
  {
   "cell_type": "markdown",
   "metadata": {},
   "source": [
    "How many word types are in the main transcripts?"
   ]
  },
  {
   "cell_type": "code",
   "execution_count": 49,
   "metadata": {
    "ExecuteTime": {
     "end_time": "2019-04-24T01:19:19.910498Z",
     "start_time": "2019-04-24T01:19:19.905909Z"
    }
   },
   "outputs": [
    {
     "data": {
      "text/plain": [
       "{0, 1, 2, 3}"
      ]
     },
     "execution_count": 49,
     "metadata": {},
     "output_type": "execute_result"
    }
   ],
   "source": [
    "union = lambda sets: reduce(set.union, sets)\n",
    "\n",
    "union([{0,1},{1,2},{3}])"
   ]
  },
  {
   "cell_type": "code",
   "execution_count": 50,
   "metadata": {
    "ExecuteTime": {
     "end_time": "2019-04-24T01:19:19.917140Z",
     "start_time": "2019-04-24T01:19:19.912440Z"
    }
   },
   "outputs": [],
   "source": [
    "def word_types_in_line(line_rel):\n",
    "    return set(tokenize_speech_in_line(line_rel))\n",
    "\n",
    "def word_types_in_call(call_id):\n",
    "    return union([word_types_in_line(l) for l in get_transcriptions_main(call_id)])"
   ]
  },
  {
   "cell_type": "code",
   "execution_count": 51,
   "metadata": {
    "ExecuteTime": {
     "end_time": "2019-04-24T01:19:30.001880Z",
     "start_time": "2019-04-24T01:19:19.918817Z"
    }
   },
   "outputs": [
    {
     "name": "stderr",
     "output_type": "stream",
     "text": [
      "[Parallel(n_jobs=15)]: Using backend MultiprocessingBackend with 15 concurrent workers.\n",
      "[Parallel(n_jobs=15)]: Batch computation too fast (0.0120s.) Setting batch_size=32.\n",
      "[Parallel(n_jobs=15)]: Done   2 tasks      | elapsed:    0.0s\n",
      "[Parallel(n_jobs=15)]: Done  11 tasks      | elapsed:    0.0s\n",
      "[Parallel(n_jobs=15)]: Done  20 tasks      | elapsed:    0.0s\n",
      "[Parallel(n_jobs=15)]: Done  62 tasks      | elapsed:    0.3s\n",
      "[Parallel(n_jobs=15)]: Done 414 tasks      | elapsed:    0.4s\n",
      "[Parallel(n_jobs=15)]: Done 830 tasks      | elapsed:    0.8s\n",
      "[Parallel(n_jobs=15)]: Done 1246 tasks      | elapsed:    1.1s\n",
      "[Parallel(n_jobs=15)]: Done 1726 tasks      | elapsed:    1.4s\n",
      "[Parallel(n_jobs=15)]: Done 2206 tasks      | elapsed:    1.7s\n",
      "[Parallel(n_jobs=15)]: Done 2750 tasks      | elapsed:    2.1s\n",
      "[Parallel(n_jobs=15)]: Done 3294 tasks      | elapsed:    2.5s\n",
      "[Parallel(n_jobs=15)]: Done 3902 tasks      | elapsed:    2.9s\n",
      "[Parallel(n_jobs=15)]: Done 4510 tasks      | elapsed:    3.3s\n",
      "[Parallel(n_jobs=15)]: Done 5849 out of 5849 | elapsed:    4.1s finished\n"
     ]
    },
    {
     "data": {
      "text/plain": [
       "44065"
      ]
     },
     "execution_count": 51,
     "metadata": {},
     "output_type": "execute_result"
    }
   ],
   "source": [
    "#20.0s on wittgenstein\n",
    "# vocabulary_main = union([word_types_in_call(c) for c in call_ids])\n",
    "\n",
    "vocabulary_main = union(par(delayed(word_types_in_call)(c) for c in call_ids))\n",
    "len(vocabulary_main)"
   ]
  },
  {
   "cell_type": "code",
   "execution_count": 52,
   "metadata": {
    "ExecuteTime": {
     "end_time": "2019-04-24T01:19:30.012067Z",
     "start_time": "2019-04-24T01:19:30.003395Z"
    }
   },
   "outputs": [
    {
     "data": {
      "text/plain": [
       "['',\n",
       " 'sewing',\n",
       " 'internationally',\n",
       " 'paralegal',\n",
       " 'obstinate',\n",
       " 'bolingbrook',\n",
       " 'pussycat',\n",
       " 'spent',\n",
       " 'refreshment',\n",
       " 'pleasantries',\n",
       " 'resurfaces',\n",
       " \"waters'\",\n",
       " 'water',\n",
       " 'sideline',\n",
       " 'dabbled',\n",
       " 'malfunctions',\n",
       " 'reacher',\n",
       " \"officers'\",\n",
       " 'goodie',\n",
       " 'flecks',\n",
       " 'mammograms',\n",
       " 'centigrade',\n",
       " 'overtimes',\n",
       " 'nasime',\n",
       " 'trail',\n",
       " 'hibernation',\n",
       " 'hiya',\n",
       " 'daughter',\n",
       " 'nuc',\n",
       " 'laureates',\n",
       " 'farmer',\n",
       " 'beaming',\n",
       " 'geek',\n",
       " 'crosses',\n",
       " 'salary',\n",
       " 'proper',\n",
       " 'freezer',\n",
       " 'partaking',\n",
       " 'hunting',\n",
       " 'embodied',\n",
       " 'wailing',\n",
       " 'genocide',\n",
       " 'summertime',\n",
       " 'deleterious',\n",
       " 'roofs',\n",
       " 'pertain',\n",
       " 'gunshot',\n",
       " 'commodity',\n",
       " 'glider',\n",
       " 'bricklayer',\n",
       " 'clanton',\n",
       " 'trickled',\n",
       " 'melba',\n",
       " 'farrelly',\n",
       " 'utopian',\n",
       " 'derrick',\n",
       " 'grossness',\n",
       " 'rightly',\n",
       " 'satisfies',\n",
       " 'squeaks',\n",
       " 'climax',\n",
       " 'waseeka',\n",
       " 'handicapped',\n",
       " 'leaguers',\n",
       " 'salutations',\n",
       " 'smallest',\n",
       " 'pedophilia',\n",
       " \"patterson's\",\n",
       " 'vacancies',\n",
       " 'without',\n",
       " 'map',\n",
       " 'hoy',\n",
       " 'knoxville',\n",
       " 'battered',\n",
       " 'dimensions',\n",
       " 'dapple',\n",
       " 'freebies',\n",
       " 'betterer',\n",
       " 'introverts',\n",
       " 'volleyball',\n",
       " 'sheeting',\n",
       " 'vitamins',\n",
       " 'culturally',\n",
       " 'athletically',\n",
       " 'infos',\n",
       " 'exorcist',\n",
       " 'assing',\n",
       " 'resorted',\n",
       " 'juxtapoz',\n",
       " 'ahmed',\n",
       " 'posting',\n",
       " 'borders',\n",
       " \"camcorder's\",\n",
       " 'spurning',\n",
       " 'packet',\n",
       " 'bev',\n",
       " 'resorts',\n",
       " 'avalanche',\n",
       " 'wham',\n",
       " 'trustan']"
      ]
     },
     "execution_count": 52,
     "metadata": {},
     "output_type": "execute_result"
    }
   ],
   "source": [
    "list(vocabulary_main)[:100]"
   ]
  },
  {
   "cell_type": "code",
   "execution_count": 53,
   "metadata": {
    "ExecuteTime": {
     "end_time": "2019-04-24T01:19:30.101191Z",
     "start_time": "2019-04-24T01:19:30.013834Z"
    }
   },
   "outputs": [
    {
     "data": {
      "text/plain": [
       "['',\n",
       " \"'and\",\n",
       " \"'berserkly'\",\n",
       " \"'bout\",\n",
       " \"'burb\",\n",
       " \"'burban\",\n",
       " \"'burbs\",\n",
       " \"'cau\",\n",
       " \"'cause\",\n",
       " \"'cept\"]"
      ]
     },
     "execution_count": 53,
     "metadata": {},
     "output_type": "execute_result"
    }
   ],
   "source": [
    "vocabulary_main_alpha = sorted(list(vocabulary_main))\n",
    "vocabulary_main_alpha[:10]"
   ]
  },
  {
   "cell_type": "code",
   "execution_count": 54,
   "metadata": {
    "ExecuteTime": {
     "end_time": "2019-04-24T01:19:35.178962Z",
     "start_time": "2019-04-24T01:19:30.102787Z"
    }
   },
   "outputs": [],
   "source": [
    "%%capture\n",
    "#cell magic above suppresses useless output of file.write\n",
    "\n",
    "vocabulary_main_fn = 'fisher_vocabulary_main.txt'\n",
    "\n",
    "vocabulary_main_fp = os.path.join(repo_dir, vocabulary_main_fn)\n",
    "\n",
    "#5.29s on wittgenstein\n",
    "with open(vocabulary_main_fp, 'w') as file:\n",
    "    for w in vocabulary_main_alpha:\n",
    "        file.write(\"{0}\\n\".format(w));"
   ]
  },
  {
   "cell_type": "code",
   "execution_count": 55,
   "metadata": {
    "ExecuteTime": {
     "end_time": "2019-04-24T01:19:35.311306Z",
     "start_time": "2019-04-24T01:19:35.180426Z"
    }
   },
   "outputs": [
    {
     "name": "stdout",
     "output_type": "stream",
     "text": [
      "     1\t\r\n",
      "     2\t'and\r\n",
      "     3\t'berserkly'\r\n",
      "     4\t'bout\r\n",
      "     5\t'burb\r\n",
      "     6\t'burban\r\n",
      "     7\t'burbs\r\n",
      "     8\t'cau\r\n",
      "     9\t'cause\r\n",
      "    10\t'cept\r\n",
      "    11\t'cide\r\n",
      "    12\t'cisco\r\n",
      "    13\t'cize\r\n",
      "    14\t'course\r\n",
      "    15\t'cuse\r\n",
      "    16\t'do\r\n",
      "    17\t'em\r\n",
      "    18\t'em's\r\n",
      "    19\t'ems\r\n",
      "    20\t'everybody's\r\n",
      "cat: write error: Broken pipe\r\n"
     ]
    }
   ],
   "source": [
    "%cat -n /mnt/cube/home/AD/emeinhar/fisher-lm/fisher_vocabulary_main.txt | head -20"
   ]
  },
  {
   "cell_type": "code",
   "execution_count": 56,
   "metadata": {
    "ExecuteTime": {
     "end_time": "2019-04-24T01:19:35.321287Z",
     "start_time": "2019-04-24T01:19:35.315625Z"
    }
   },
   "outputs": [
    {
     "data": {
      "text/plain": [
       "'/mnt/truffle/corpora/fisher_english_transcripts/fe_03_p2_tran/data/trans'"
      ]
     },
     "execution_count": 56,
     "metadata": {},
     "output_type": "execute_result"
    }
   ],
   "source": [
    "os.getcwd()"
   ]
  },
  {
   "cell_type": "markdown",
   "metadata": {},
   "source": [
    "## Naive utterance sequence"
   ]
  },
  {
   "cell_type": "code",
   "execution_count": 57,
   "metadata": {
    "ExecuteTime": {
     "end_time": "2019-04-24T01:19:35.328736Z",
     "start_time": "2019-04-24T01:19:35.324688Z"
    }
   },
   "outputs": [],
   "source": [
    "def get_utterances_from_call(call_id):\n",
    "    return [l['speech'] for l in get_transcriptions_main(call_id)]"
   ]
  },
  {
   "cell_type": "code",
   "execution_count": 58,
   "metadata": {
    "ExecuteTime": {
     "end_time": "2019-04-24T01:19:35.334504Z",
     "start_time": "2019-04-24T01:19:35.330709Z"
    }
   },
   "outputs": [
    {
     "data": {
      "text/plain": [
       "'05851'"
      ]
     },
     "execution_count": 58,
     "metadata": {},
     "output_type": "execute_result"
    }
   ],
   "source": [
    "call_ids[0]"
   ]
  },
  {
   "cell_type": "code",
   "execution_count": 59,
   "metadata": {
    "ExecuteTime": {
     "end_time": "2019-04-24T01:19:35.348814Z",
     "start_time": "2019-04-24T01:19:35.335809Z"
    }
   },
   "outputs": [
    {
     "data": {
      "text/plain": [
       "['i mean no money is very important definitely and a million dollars is a dream come true for me i mean',\n",
       " 'i can actually imagine the kind of things i can buy',\n",
       " 'yeah',\n",
       " 'travel and do whatever i want to in life but then again',\n",
       " 'i just',\n",
       " \"can't i mean stop talking to my best friend that's like\",\n",
       " \"i can't do that i mean i've been so close to her\",\n",
       " 'she has been my friend since my school days',\n",
       " 'so i share almost everything with her',\n",
       " 'mhm <rem>']"
      ]
     },
     "execution_count": 59,
     "metadata": {},
     "output_type": "execute_result"
    }
   ],
   "source": [
    "get_utterances_from_call('05851')[:10]"
   ]
  },
  {
   "cell_type": "code",
   "execution_count": 60,
   "metadata": {
    "ExecuteTime": {
     "end_time": "2019-04-24T01:19:47.128786Z",
     "start_time": "2019-04-24T01:19:35.350331Z"
    }
   },
   "outputs": [
    {
     "name": "stderr",
     "output_type": "stream",
     "text": [
      "[Parallel(n_jobs=15)]: Using backend MultiprocessingBackend with 15 concurrent workers.\n",
      "[Parallel(n_jobs=15)]: Batch computation too fast (0.0115s.) Setting batch_size=34.\n",
      "[Parallel(n_jobs=15)]: Done   2 tasks      | elapsed:    0.0s\n",
      "[Parallel(n_jobs=15)]: Done  11 tasks      | elapsed:    0.0s\n",
      "[Parallel(n_jobs=15)]: Done  20 tasks      | elapsed:    0.0s\n",
      "[Parallel(n_jobs=15)]: Done  64 tasks      | elapsed:    0.3s\n",
      "[Parallel(n_jobs=15)]: Done 438 tasks      | elapsed:    0.4s\n",
      "[Parallel(n_jobs=15)]: Done 880 tasks      | elapsed:    0.7s\n",
      "[Parallel(n_jobs=15)]: Done 1322 tasks      | elapsed:    1.0s\n",
      "[Parallel(n_jobs=15)]: Done 1832 tasks      | elapsed:    1.3s\n",
      "[Parallel(n_jobs=15)]: Done 2342 tasks      | elapsed:    1.6s\n",
      "[Parallel(n_jobs=15)]: Done 2920 tasks      | elapsed:    2.0s\n",
      "[Parallel(n_jobs=15)]: Done 3498 tasks      | elapsed:    2.4s\n",
      "[Parallel(n_jobs=15)]: Done 4144 tasks      | elapsed:    2.8s\n",
      "[Parallel(n_jobs=15)]: Done 4790 tasks      | elapsed:    3.2s\n",
      "[Parallel(n_jobs=15)]: Done 5849 out of 5849 | elapsed:    3.7s finished\n",
      "[Parallel(n_jobs=15)]: Using backend MultiprocessingBackend with 15 concurrent workers.\n",
      "[Parallel(n_jobs=15)]: Batch computation too fast (0.0022s.) Setting batch_size=178.\n",
      "[Parallel(n_jobs=15)]: Done   2 tasks      | elapsed:    0.0s\n",
      "[Parallel(n_jobs=15)]: Done  11 tasks      | elapsed:    0.0s\n",
      "[Parallel(n_jobs=15)]: Done  20 tasks      | elapsed:    0.0s\n",
      "[Parallel(n_jobs=15)]: Done 208 tasks      | elapsed:    0.0s\n",
      "[Parallel(n_jobs=15)]: Batch computation too fast (0.0240s.) Setting batch_size=2970.\n",
      "[Parallel(n_jobs=15)]: Done 2166 tasks      | elapsed:    0.1s\n",
      "[Parallel(n_jobs=15)]: Done 4480 tasks      | elapsed:    0.4s\n",
      "[Parallel(n_jobs=15)]: Done 29130 tasks      | elapsed:    0.7s\n",
      "[Parallel(n_jobs=15)]: Done 73680 tasks      | elapsed:    0.9s\n",
      "[Parallel(n_jobs=15)]: Done 118230 tasks      | elapsed:    1.1s\n",
      "[Parallel(n_jobs=15)]: Done 168720 tasks      | elapsed:    1.5s\n",
      "[Parallel(n_jobs=15)]: Done 219210 tasks      | elapsed:    1.8s\n",
      "[Parallel(n_jobs=15)]: Done 275640 tasks      | elapsed:    2.1s\n",
      "[Parallel(n_jobs=15)]: Done 332070 tasks      | elapsed:    2.5s\n",
      "[Parallel(n_jobs=15)]: Done 394440 tasks      | elapsed:    2.9s\n",
      "[Parallel(n_jobs=15)]: Done 456810 tasks      | elapsed:    3.4s\n",
      "[Parallel(n_jobs=15)]: Done 525120 tasks      | elapsed:    3.8s\n",
      "[Parallel(n_jobs=15)]: Done 593430 tasks      | elapsed:    4.2s\n",
      "[Parallel(n_jobs=15)]: Done 667680 tasks      | elapsed:    4.8s\n",
      "[Parallel(n_jobs=15)]: Done 741930 tasks      | elapsed:    5.3s\n",
      "[Parallel(n_jobs=15)]: Done 822120 tasks      | elapsed:    5.9s\n",
      "[Parallel(n_jobs=15)]: Done 902310 tasks      | elapsed:    6.5s\n",
      "[Parallel(n_jobs=15)]: Done 988440 tasks      | elapsed:    7.0s\n",
      "[Parallel(n_jobs=15)]: Done 1113586 out of 1113586 | elapsed:    7.3s finished\n"
     ]
    },
    {
     "data": {
      "text/plain": [
       "1113586"
      ]
     },
     "execution_count": 60,
     "metadata": {},
     "output_type": "execute_result"
    }
   ],
   "source": [
    "#44.2s on wittgenstein\n",
    "# utterances_main = []\n",
    "# for c in call_ids:\n",
    "#     utterances_main.extend( get_utterances_from_call(c) )\n",
    "# len(utterances_main)\n",
    "\n",
    "# utterances_main = [utt for c in call_ids for utt in get_utterances_from_call(c)]\n",
    "\n",
    "#15s\n",
    "def identity(x):\n",
    "    return x\n",
    "utt_lists = par(delayed(get_utterances_from_call)(c) for c in call_ids)\n",
    "utterances_main_par = par(delayed(identity)(utt) for ul in utt_lists for utt in ul)\n",
    "utterances_main = utterances_main_par\n",
    "len(utterances_main)"
   ]
  },
  {
   "cell_type": "code",
   "execution_count": 61,
   "metadata": {
    "ExecuteTime": {
     "end_time": "2019-04-24T01:19:47.136716Z",
     "start_time": "2019-04-24T01:19:47.131812Z"
    }
   },
   "outputs": [
    {
     "data": {
      "text/plain": [
       "'i mean no money is very important definitely and a million dollars is a dream come true for me i mean'"
      ]
     },
     "execution_count": 61,
     "metadata": {},
     "output_type": "execute_result"
    }
   ],
   "source": [
    "utterances_main_par[0]"
   ]
  },
  {
   "cell_type": "code",
   "execution_count": 62,
   "metadata": {
    "ExecuteTime": {
     "end_time": "2019-04-24T01:19:47.179193Z",
     "start_time": "2019-04-24T01:19:47.138249Z"
    }
   },
   "outputs": [
    {
     "data": {
      "text/plain": [
       "'/mnt/truffle/corpora/fisher_english_transcripts/fe_03_p2_tran/data/trans'"
      ]
     },
     "execution_count": 62,
     "metadata": {},
     "output_type": "execute_result"
    }
   ],
   "source": [
    "%pwd"
   ]
  },
  {
   "cell_type": "code",
   "execution_count": 63,
   "metadata": {
    "ExecuteTime": {
     "end_time": "2019-04-24T01:19:47.185134Z",
     "start_time": "2019-04-24T01:19:47.181207Z"
    }
   },
   "outputs": [
    {
     "data": {
      "text/plain": [
       "'/mnt/cube/home/AD/emeinhar/fisher-lm'"
      ]
     },
     "execution_count": 63,
     "metadata": {},
     "output_type": "execute_result"
    }
   ],
   "source": [
    "repo_dir"
   ]
  },
  {
   "cell_type": "code",
   "execution_count": 64,
   "metadata": {
    "ExecuteTime": {
     "end_time": "2019-04-24T01:19:48.020926Z",
     "start_time": "2019-04-24T01:19:47.187074Z"
    }
   },
   "outputs": [],
   "source": [
    "%%capture\n",
    "#cell magic above suppresses useless output of file.write\n",
    "\n",
    "fisher_utterances_main_fn = 'fisher_utterances_main.txt'\n",
    "\n",
    "fisher_utterances_main_path = os.path.join(repo_dir, fisher_utterances_main_fn)\n",
    "\n",
    "\n",
    "with open(fisher_utterances_main_path, 'w') as file:\n",
    "    #write all lines at once using writelines and this takes <1s\n",
    "    utterances_w_linebreaks = list(map(lambda l: l + \"\\n\", utterances_main))\n",
    "    file.writelines(utterances_w_linebreaks)\n",
    "\n",
    "    #if someone else is using the machine heavily doing other things, this can take upwards of 2ms\n",
    "#     for utterance in utterances_main:\n",
    "#         file.write(\"{0}\\n\".format(utterance));"
   ]
  },
  {
   "cell_type": "code",
   "execution_count": 65,
   "metadata": {
    "ExecuteTime": {
     "end_time": "2019-04-24T01:19:48.156048Z",
     "start_time": "2019-04-24T01:19:48.023034Z"
    }
   },
   "outputs": [
    {
     "name": "stdout",
     "output_type": "stream",
     "text": [
      "     1\ti mean no money is very important definitely and a million dollars is a dream come true for me i mean\r\n",
      "     2\ti can actually imagine the kind of things i can buy\r\n",
      "     3\tyeah\r\n",
      "     4\ttravel and do whatever i want to in life but then again\r\n",
      "     5\ti just\r\n",
      "     6\tcan't i mean stop talking to my best friend that's like\r\n",
      "     7\ti can't do that i mean i've been so close to her\r\n",
      "     8\tshe has been my friend since my school days\r\n",
      "     9\tso i share almost everything with her\r\n",
      "    10\tmhm <rem>\r\n",
      "    11\twhatever problems whatever successes that i've faced in life i mean everything i have to share with her\r\n",
      "    12\tand they know so much about you and\r\n",
      "    13\tyeah i know\r\n",
      "    14\teverything i mean any little problem any little\r\n",
      "    15\tthing that you have in your life you can always go and talk to her about it\r\n",
      "    16\tmhm\r\n",
      "    17\treally nice it really feels nice you know you can share your burdens with her your joys with her your sorrows with her\r\n",
      "    18\tseriously money is definitely important but <rem> but then\r\n",
      "    19\ti don't think its that important right\r\n",
      "    20\tmhm\r\n",
      "cat: write error: Broken pipe\r\n"
     ]
    }
   ],
   "source": [
    "%cat -n /mnt/cube/home/AD/emeinhar/fisher-lm/fisher_utterances_main.txt | head -20"
   ]
  },
  {
   "cell_type": "markdown",
   "metadata": {},
   "source": [
    "## All transcriptions"
   ]
  },
  {
   "cell_type": "code",
   "execution_count": 66,
   "metadata": {
    "ExecuteTime": {
     "end_time": "2019-04-24T01:19:48.161125Z",
     "start_time": "2019-04-24T01:19:48.157763Z"
    }
   },
   "outputs": [
    {
     "data": {
      "text/plain": [
       "[{'filename': 'fe_03_05851.txt',\n",
       "  'call_id': '05851',\n",
       "  'location': '/mnt/truffle/corpora/fisher_english_transcripts/fe_03_p2_tran/data/trans/058/fe_03_05851.txt'},\n",
       " {'filename': 'fe_03_05852.txt',\n",
       "  'call_id': '05852',\n",
       "  'location': '/mnt/truffle/corpora/fisher_english_transcripts/fe_03_p2_tran/data/trans/058/fe_03_05852.txt'},\n",
       " {'filename': 'fe_03_05853.txt',\n",
       "  'call_id': '05853',\n",
       "  'location': '/mnt/truffle/corpora/fisher_english_transcripts/fe_03_p2_tran/data/trans/058/fe_03_05853.txt'}]"
      ]
     },
     "execution_count": 66,
     "metadata": {},
     "output_type": "execute_result"
    }
   ],
   "source": [
    "main_call_relation[:3]"
   ]
  },
  {
   "cell_type": "code",
   "execution_count": 67,
   "metadata": {
    "ExecuteTime": {
     "end_time": "2019-04-24T01:19:48.167109Z",
     "start_time": "2019-04-24T01:19:48.162172Z"
    }
   },
   "outputs": [
    {
     "data": {
      "text/plain": [
       "'05851'"
      ]
     },
     "execution_count": 67,
     "metadata": {},
     "output_type": "execute_result"
    }
   ],
   "source": [
    "call_ids[0]"
   ]
  },
  {
   "cell_type": "code",
   "execution_count": 68,
   "metadata": {
    "ExecuteTime": {
     "end_time": "2019-04-24T01:19:48.180622Z",
     "start_time": "2019-04-24T01:19:48.168008Z"
    }
   },
   "outputs": [
    {
     "data": {
      "text/plain": [
       "[{'start': 56.38,\n",
       "  'end': 61.03,\n",
       "  'duration': 4.65,\n",
       "  'speaker': 'A',\n",
       "  'speech_raw': 'i mean no money is very important definitely and a million dollars is a dream come true for me i mean',\n",
       "  'speech': 'i mean no money is very important definitely and a million dollars is a dream come true for me i mean'},\n",
       " {'start': 61.19,\n",
       "  'end': 64.71,\n",
       "  'duration': 3.52,\n",
       "  'speaker': 'A',\n",
       "  'speech_raw': 'i can actually imagine the kind of things i can buy',\n",
       "  'speech': 'i can actually imagine the kind of things i can buy'},\n",
       " {'start': 64.41,\n",
       "  'end': 65.38,\n",
       "  'duration': 0.97,\n",
       "  'speaker': 'B',\n",
       "  'speech_raw': 'yeah',\n",
       "  'speech': 'yeah'}]"
      ]
     },
     "execution_count": 68,
     "metadata": {},
     "output_type": "execute_result"
    }
   ],
   "source": [
    "get_transcriptions_main('05851')[:3]"
   ]
  },
  {
   "cell_type": "code",
   "execution_count": 69,
   "metadata": {
    "ExecuteTime": {
     "end_time": "2019-04-24T01:19:48.186054Z",
     "start_time": "2019-04-24T01:19:48.181939Z"
    }
   },
   "outputs": [],
   "source": [
    "def dictionary_product(dictA, dictB):\n",
    "    '''\n",
    "    Given two dictionaries dictA and dictB, this non-statefully \n",
    "    creates a 'merged' dictionary.\n",
    "    \n",
    "    Note that dictA and dictB must either have disjoint keys,\n",
    "    or every key they share must map to the same value.\n",
    "    '''\n",
    "    keys_A = set(dictA.keys())\n",
    "    keys_B = set(dictB.keys())\n",
    "    common_keys = set(keys_A) & set(keys_B)\n",
    "    conflicting_common_keys = {k for k in common_keys if dictA[k] != dictB[k]}\n",
    "    assert conflicting_common_keys == set(), 'The dictionaries must have either zero common keys, or all common keys must map to the same value. Conflicting common keys: {0}'.format(conflicting_common_keys)\n",
    "#     assert common_keys == set(), 'The dictionaries must have no common keys. They share {0}'.format(common_keys)\n",
    "    \n",
    "    dictC = dict()\n",
    "    dictC.update({k:dictA[k] for k in keys_A})\n",
    "    dictC.update({k:dictB[k] for k in keys_B})\n",
    "    return dictC"
   ]
  },
  {
   "cell_type": "code",
   "execution_count": 70,
   "metadata": {
    "ExecuteTime": {
     "end_time": "2019-04-24T01:19:48.191619Z",
     "start_time": "2019-04-24T01:19:48.186950Z"
    }
   },
   "outputs": [
    {
     "data": {
      "text/plain": [
       "{'filename': 'fe_03_05851.txt',\n",
       " 'call_id': '05851',\n",
       " 'location': '/mnt/truffle/corpora/fisher_english_transcripts/fe_03_p2_tran/data/trans/058/fe_03_05851.txt'}"
      ]
     },
     "execution_count": 70,
     "metadata": {},
     "output_type": "execute_result"
    }
   ],
   "source": [
    "main_call_relation[0]"
   ]
  },
  {
   "cell_type": "code",
   "execution_count": 71,
   "metadata": {
    "ExecuteTime": {
     "end_time": "2019-04-24T01:19:53.257861Z",
     "start_time": "2019-04-24T01:19:48.192853Z"
    }
   },
   "outputs": [
    {
     "name": "stderr",
     "output_type": "stream",
     "text": [
      "[Parallel(n_jobs=15)]: Using backend MultiprocessingBackend with 15 concurrent workers.\n",
      "[Parallel(n_jobs=15)]: Batch computation too fast (0.0194s.) Setting batch_size=20.\n",
      "[Parallel(n_jobs=15)]: Done   2 tasks      | elapsed:    0.0s\n",
      "[Parallel(n_jobs=15)]: Done  11 tasks      | elapsed:    0.0s\n",
      "[Parallel(n_jobs=15)]: Done  20 tasks      | elapsed:    0.0s\n",
      "[Parallel(n_jobs=15)]: Done  50 tasks      | elapsed:    0.3s\n",
      "[Parallel(n_jobs=15)]: Done 270 tasks      | elapsed:    0.3s\n",
      "[Parallel(n_jobs=15)]: Done 530 tasks      | elapsed:    0.6s\n",
      "[Parallel(n_jobs=15)]: Done 790 tasks      | elapsed:    0.8s\n",
      "[Parallel(n_jobs=15)]: Done 1090 tasks      | elapsed:    1.1s\n",
      "[Parallel(n_jobs=15)]: Done 1390 tasks      | elapsed:    1.3s\n",
      "[Parallel(n_jobs=15)]: Done 1730 tasks      | elapsed:    1.6s\n",
      "[Parallel(n_jobs=15)]: Done 2070 tasks      | elapsed:    1.8s\n",
      "[Parallel(n_jobs=15)]: Done 2450 tasks      | elapsed:    2.1s\n",
      "[Parallel(n_jobs=15)]: Done 2830 tasks      | elapsed:    2.4s\n",
      "[Parallel(n_jobs=15)]: Done 3250 tasks      | elapsed:    2.7s\n",
      "[Parallel(n_jobs=15)]: Done 3670 tasks      | elapsed:    3.1s\n",
      "[Parallel(n_jobs=15)]: Done 4130 tasks      | elapsed:    3.4s\n",
      "[Parallel(n_jobs=15)]: Done 4590 tasks      | elapsed:    3.8s\n",
      "[Parallel(n_jobs=15)]: Done 5090 tasks      | elapsed:    4.1s\n",
      "[Parallel(n_jobs=15)]: Done 5849 out of 5849 | elapsed:    4.6s finished\n"
     ]
    }
   ],
   "source": [
    "#46s on wittgenstein\n",
    "# main_transcription_relation = [dictionary_product(transcription_relation, call_relation)\n",
    "#                                for call_relation in main_call_relation\n",
    "#                                  for transcription_relation in get_transcriptions_main(call_relation['call_id'])]\n",
    "\n",
    "# from itertools import chain\n",
    "\n",
    "def get_transcription_relation_for(call_rel):\n",
    "#     return par(delayed(dictionary_product)(transcription_relation, call_rel)\n",
    "#                for transcription_relation in get_transcriptions_main(call_rel['call_id']))\n",
    "    return [dictionary_product(transcription_relation, call_rel)\n",
    "           for transcription_relation in get_transcriptions_main(call_rel['call_id'])]\n",
    "\n",
    "#4.5s\n",
    "main_transcription_relation_par = list(chain.from_iterable(par(delayed(get_transcription_relation_for)(call_relation)\n",
    "                                                               for call_relation in main_call_relation)))\n",
    "main_transcription_relation = main_transcription_relation_par"
   ]
  },
  {
   "cell_type": "code",
   "execution_count": 72,
   "metadata": {
    "ExecuteTime": {
     "end_time": "2019-04-24T01:19:53.263068Z",
     "start_time": "2019-04-24T01:19:53.259611Z"
    }
   },
   "outputs": [
    {
     "data": {
      "text/plain": [
       "1113586"
      ]
     },
     "execution_count": 72,
     "metadata": {},
     "output_type": "execute_result"
    }
   ],
   "source": [
    "len(main_transcription_relation)"
   ]
  },
  {
   "cell_type": "code",
   "execution_count": 73,
   "metadata": {
    "ExecuteTime": {
     "end_time": "2019-04-24T01:19:53.270637Z",
     "start_time": "2019-04-24T01:19:53.264281Z"
    }
   },
   "outputs": [
    {
     "data": {
      "text/plain": [
       "[{'speaker': 'A',\n",
       "  'duration': 4.65,\n",
       "  'end': 61.03,\n",
       "  'start': 56.38,\n",
       "  'speech_raw': 'i mean no money is very important definitely and a million dollars is a dream come true for me i mean',\n",
       "  'speech': 'i mean no money is very important definitely and a million dollars is a dream come true for me i mean',\n",
       "  'call_id': '05851',\n",
       "  'location': '/mnt/truffle/corpora/fisher_english_transcripts/fe_03_p2_tran/data/trans/058/fe_03_05851.txt',\n",
       "  'filename': 'fe_03_05851.txt'},\n",
       " {'speaker': 'A',\n",
       "  'duration': 3.52,\n",
       "  'end': 64.71,\n",
       "  'start': 61.19,\n",
       "  'speech_raw': 'i can actually imagine the kind of things i can buy',\n",
       "  'speech': 'i can actually imagine the kind of things i can buy',\n",
       "  'call_id': '05851',\n",
       "  'location': '/mnt/truffle/corpora/fisher_english_transcripts/fe_03_p2_tran/data/trans/058/fe_03_05851.txt',\n",
       "  'filename': 'fe_03_05851.txt'},\n",
       " {'speaker': 'B',\n",
       "  'duration': 0.97,\n",
       "  'end': 65.38,\n",
       "  'start': 64.41,\n",
       "  'speech_raw': 'yeah',\n",
       "  'speech': 'yeah',\n",
       "  'call_id': '05851',\n",
       "  'location': '/mnt/truffle/corpora/fisher_english_transcripts/fe_03_p2_tran/data/trans/058/fe_03_05851.txt',\n",
       "  'filename': 'fe_03_05851.txt'},\n",
       " {'speaker': 'A',\n",
       "  'duration': 3.57,\n",
       "  'end': 69.14,\n",
       "  'start': 65.57,\n",
       "  'speech_raw': 'travel and do whatever i want to in life but then again',\n",
       "  'speech': 'travel and do whatever i want to in life but then again',\n",
       "  'call_id': '05851',\n",
       "  'location': '/mnt/truffle/corpora/fisher_english_transcripts/fe_03_p2_tran/data/trans/058/fe_03_05851.txt',\n",
       "  'filename': 'fe_03_05851.txt'},\n",
       " {'speaker': 'A',\n",
       "  'duration': 0.52,\n",
       "  'end': 70.13,\n",
       "  'start': 69.61,\n",
       "  'speech_raw': 'i just',\n",
       "  'speech': 'i just',\n",
       "  'call_id': '05851',\n",
       "  'location': '/mnt/truffle/corpora/fisher_english_transcripts/fe_03_p2_tran/data/trans/058/fe_03_05851.txt',\n",
       "  'filename': 'fe_03_05851.txt'}]"
      ]
     },
     "execution_count": 73,
     "metadata": {},
     "output_type": "execute_result"
    }
   ],
   "source": [
    "main_transcription_relation[:5]"
   ]
  },
  {
   "cell_type": "code",
   "execution_count": 74,
   "metadata": {
    "ExecuteTime": {
     "end_time": "2019-04-24T01:20:15.395205Z",
     "start_time": "2019-04-24T01:19:53.272107Z"
    }
   },
   "outputs": [],
   "source": [
    "# import json\n",
    "\n",
    "fisher_utterances_relation_main_fn = 'fisher_utterances_relation_main.json'\n",
    "\n",
    "fisher_utterances_relation_main_path = os.path.join(repo_dir, fisher_utterances_relation_main_fn)\n",
    "\n",
    "#22.2s on wittgenstein\n",
    "with open(fisher_utterances_relation_main_path, 'w', encoding='utf8') as json_file:\n",
    "    json.dump(main_transcription_relation, json_file, indent=1, ensure_ascii=False)"
   ]
  },
  {
   "cell_type": "code",
   "execution_count": 75,
   "metadata": {
    "ExecuteTime": {
     "end_time": "2019-04-24T01:20:15.568127Z",
     "start_time": "2019-04-24T01:20:15.396914Z"
    }
   },
   "outputs": [
    {
     "name": "stdout",
     "output_type": "stream",
     "text": [
      "     1\t[\r\n",
      "     2\t {\r\n",
      "     3\t  \"speaker\": \"A\",\r\n",
      "     4\t  \"duration\": 4.65,\r\n",
      "     5\t  \"end\": 61.03,\r\n",
      "     6\t  \"start\": 56.38,\r\n",
      "     7\t  \"speech_raw\": \"i mean no money is very important definitely and a million dollars is a dream come true for me i mean\",\r\n",
      "     8\t  \"speech\": \"i mean no money is very important definitely and a million dollars is a dream come true for me i mean\",\r\n",
      "     9\t  \"call_id\": \"05851\",\r\n",
      "    10\t  \"location\": \"/mnt/truffle/corpora/fisher_english_transcripts/fe_03_p2_tran/data/trans/058/fe_03_05851.txt\",\r\n",
      "    11\t  \"filename\": \"fe_03_05851.txt\"\r\n",
      "    12\t },\r\n",
      "    13\t {\r\n",
      "    14\t  \"speaker\": \"A\",\r\n",
      "    15\t  \"duration\": 3.52,\r\n",
      "    16\t  \"end\": 64.71,\r\n",
      "    17\t  \"start\": 61.19,\r\n",
      "    18\t  \"speech_raw\": \"i can actually imagine the kind of things i can buy\",\r\n",
      "    19\t  \"speech\": \"i can actually imagine the kind of things i can buy\",\r\n",
      "    20\t  \"call_id\": \"05851\",\r\n",
      "cat: write error: Broken pipe\r\n"
     ]
    }
   ],
   "source": [
    "%cat -n /mnt/cube/home/AD/emeinhar/fisher-lm/fisher_utterances_relation_main.json | head -20"
   ]
  },
  {
   "cell_type": "markdown",
   "metadata": {},
   "source": [
    "## Utterance statistics"
   ]
  },
  {
   "cell_type": "markdown",
   "metadata": {},
   "source": [
    "What is the distribution over\n",
    " - time til onset of the next utterance (if available)\n",
    " - utterance duration in s\n",
    " - utterance duration in orthographic wordforms?"
   ]
  },
  {
   "cell_type": "code",
   "execution_count": 76,
   "metadata": {
    "ExecuteTime": {
     "end_time": "2019-04-24T01:20:15.688497Z",
     "start_time": "2019-04-24T01:20:15.570003Z"
    }
   },
   "outputs": [
    {
     "data": {
      "text/plain": [
       "1113586"
      ]
     },
     "execution_count": 76,
     "metadata": {},
     "output_type": "execute_result"
    }
   ],
   "source": [
    "utterance_durations = [utt['duration'] for utt in main_transcription_relation]\n",
    "len(utterance_durations)"
   ]
  },
  {
   "cell_type": "code",
   "execution_count": 77,
   "metadata": {
    "ExecuteTime": {
     "end_time": "2019-04-24T01:20:16.286986Z",
     "start_time": "2019-04-24T01:20:15.690034Z"
    }
   },
   "outputs": [
    {
     "data": {
      "text/plain": [
       "1113586"
      ]
     },
     "execution_count": 77,
     "metadata": {},
     "output_type": "execute_result"
    }
   ],
   "source": [
    "utterance_lengths = [len(utt['speech'].split(' ')) for utt in main_transcription_relation]\n",
    "len(utterance_lengths)"
   ]
  },
  {
   "cell_type": "code",
   "execution_count": 78,
   "metadata": {
    "ExecuteTime": {
     "end_time": "2019-04-24T01:21:22.706547Z",
     "start_time": "2019-04-24T01:20:16.288531Z"
    }
   },
   "outputs": [
    {
     "name": "stderr",
     "output_type": "stream",
     "text": [
      "[Parallel(n_jobs=15)]: Using backend MultiprocessingBackend with 15 concurrent workers.\n",
      "[Parallel(n_jobs=15)]: Done   2 tasks      | elapsed:    0.2s\n",
      "[Parallel(n_jobs=15)]: Done  11 tasks      | elapsed:    0.2s\n",
      "[Parallel(n_jobs=15)]: Done  20 tasks      | elapsed:    0.4s\n",
      "[Parallel(n_jobs=15)]: Done  31 tasks      | elapsed:    0.6s\n",
      "[Parallel(n_jobs=15)]: Done  42 tasks      | elapsed:    0.8s\n",
      "[Parallel(n_jobs=15)]: Done  55 tasks      | elapsed:    1.0s\n",
      "[Parallel(n_jobs=15)]: Done  68 tasks      | elapsed:    1.1s\n",
      "[Parallel(n_jobs=15)]: Done  83 tasks      | elapsed:    1.3s\n",
      "[Parallel(n_jobs=15)]: Done  98 tasks      | elapsed:    1.5s\n",
      "[Parallel(n_jobs=15)]: Done 115 tasks      | elapsed:    1.7s\n",
      "[Parallel(n_jobs=15)]: Done 132 tasks      | elapsed:    2.0s\n",
      "[Parallel(n_jobs=15)]: Done 151 tasks      | elapsed:    2.2s\n",
      "[Parallel(n_jobs=15)]: Done 170 tasks      | elapsed:    2.5s\n",
      "[Parallel(n_jobs=15)]: Done 191 tasks      | elapsed:    2.7s\n",
      "[Parallel(n_jobs=15)]: Done 212 tasks      | elapsed:    3.0s\n",
      "[Parallel(n_jobs=15)]: Done 235 tasks      | elapsed:    3.4s\n",
      "[Parallel(n_jobs=15)]: Done 258 tasks      | elapsed:    3.7s\n",
      "[Parallel(n_jobs=15)]: Done 283 tasks      | elapsed:    4.0s\n",
      "[Parallel(n_jobs=15)]: Done 308 tasks      | elapsed:    4.3s\n",
      "[Parallel(n_jobs=15)]: Done 335 tasks      | elapsed:    4.6s\n",
      "[Parallel(n_jobs=15)]: Done 362 tasks      | elapsed:    4.9s\n",
      "[Parallel(n_jobs=15)]: Done 391 tasks      | elapsed:    5.3s\n",
      "[Parallel(n_jobs=15)]: Done 420 tasks      | elapsed:    5.6s\n",
      "[Parallel(n_jobs=15)]: Done 451 tasks      | elapsed:    6.0s\n",
      "[Parallel(n_jobs=15)]: Done 482 tasks      | elapsed:    6.5s\n",
      "[Parallel(n_jobs=15)]: Done 515 tasks      | elapsed:    6.9s\n",
      "[Parallel(n_jobs=15)]: Done 548 tasks      | elapsed:    7.3s\n",
      "[Parallel(n_jobs=15)]: Done 583 tasks      | elapsed:    7.7s\n",
      "[Parallel(n_jobs=15)]: Done 618 tasks      | elapsed:    8.1s\n",
      "[Parallel(n_jobs=15)]: Done 655 tasks      | elapsed:    8.5s\n",
      "[Parallel(n_jobs=15)]: Done 692 tasks      | elapsed:    9.0s\n",
      "[Parallel(n_jobs=15)]: Done 731 tasks      | elapsed:    9.5s\n",
      "[Parallel(n_jobs=15)]: Done 770 tasks      | elapsed:   10.1s\n",
      "[Parallel(n_jobs=15)]: Done 811 tasks      | elapsed:   10.5s\n",
      "[Parallel(n_jobs=15)]: Done 852 tasks      | elapsed:   10.9s\n",
      "[Parallel(n_jobs=15)]: Done 895 tasks      | elapsed:   11.4s\n",
      "[Parallel(n_jobs=15)]: Done 938 tasks      | elapsed:   11.8s\n",
      "[Parallel(n_jobs=15)]: Done 983 tasks      | elapsed:   12.3s\n",
      "[Parallel(n_jobs=15)]: Done 1028 tasks      | elapsed:   12.7s\n",
      "[Parallel(n_jobs=15)]: Done 1075 tasks      | elapsed:   13.1s\n",
      "[Parallel(n_jobs=15)]: Done 1122 tasks      | elapsed:   13.7s\n",
      "[Parallel(n_jobs=15)]: Done 1171 tasks      | elapsed:   14.2s\n",
      "[Parallel(n_jobs=15)]: Done 1220 tasks      | elapsed:   14.8s\n",
      "[Parallel(n_jobs=15)]: Done 1271 tasks      | elapsed:   15.2s\n",
      "[Parallel(n_jobs=15)]: Done 1322 tasks      | elapsed:   15.7s\n",
      "[Parallel(n_jobs=15)]: Done 1375 tasks      | elapsed:   16.2s\n",
      "[Parallel(n_jobs=15)]: Done 1428 tasks      | elapsed:   16.7s\n",
      "[Parallel(n_jobs=15)]: Done 1483 tasks      | elapsed:   17.3s\n",
      "[Parallel(n_jobs=15)]: Done 1538 tasks      | elapsed:   17.9s\n",
      "[Parallel(n_jobs=15)]: Done 1595 tasks      | elapsed:   18.6s\n",
      "[Parallel(n_jobs=15)]: Done 1652 tasks      | elapsed:   19.1s\n",
      "[Parallel(n_jobs=15)]: Done 1711 tasks      | elapsed:   19.7s\n",
      "[Parallel(n_jobs=15)]: Done 1770 tasks      | elapsed:   20.2s\n",
      "[Parallel(n_jobs=15)]: Done 1831 tasks      | elapsed:   20.8s\n",
      "[Parallel(n_jobs=15)]: Done 1892 tasks      | elapsed:   21.5s\n",
      "[Parallel(n_jobs=15)]: Done 1955 tasks      | elapsed:   22.1s\n",
      "[Parallel(n_jobs=15)]: Done 2018 tasks      | elapsed:   22.7s\n",
      "[Parallel(n_jobs=15)]: Done 2083 tasks      | elapsed:   23.3s\n",
      "[Parallel(n_jobs=15)]: Done 2148 tasks      | elapsed:   23.9s\n",
      "[Parallel(n_jobs=15)]: Done 2215 tasks      | elapsed:   24.6s\n",
      "[Parallel(n_jobs=15)]: Done 2282 tasks      | elapsed:   25.3s\n",
      "[Parallel(n_jobs=15)]: Done 2351 tasks      | elapsed:   25.9s\n",
      "[Parallel(n_jobs=15)]: Done 2420 tasks      | elapsed:   26.6s\n",
      "[Parallel(n_jobs=15)]: Done 2491 tasks      | elapsed:   27.4s\n",
      "[Parallel(n_jobs=15)]: Done 2562 tasks      | elapsed:   28.3s\n",
      "[Parallel(n_jobs=15)]: Done 2635 tasks      | elapsed:   29.1s\n",
      "[Parallel(n_jobs=15)]: Done 2708 tasks      | elapsed:   29.9s\n",
      "[Parallel(n_jobs=15)]: Done 2783 tasks      | elapsed:   30.8s\n",
      "[Parallel(n_jobs=15)]: Done 2858 tasks      | elapsed:   31.6s\n",
      "[Parallel(n_jobs=15)]: Done 2935 tasks      | elapsed:   32.6s\n",
      "[Parallel(n_jobs=15)]: Done 3012 tasks      | elapsed:   33.5s\n",
      "[Parallel(n_jobs=15)]: Done 3091 tasks      | elapsed:   34.4s\n",
      "[Parallel(n_jobs=15)]: Done 3170 tasks      | elapsed:   35.5s\n",
      "[Parallel(n_jobs=15)]: Done 3251 tasks      | elapsed:   36.5s\n",
      "[Parallel(n_jobs=15)]: Done 3332 tasks      | elapsed:   37.4s\n",
      "[Parallel(n_jobs=15)]: Done 3415 tasks      | elapsed:   38.5s\n",
      "[Parallel(n_jobs=15)]: Done 3498 tasks      | elapsed:   39.6s\n",
      "[Parallel(n_jobs=15)]: Done 3583 tasks      | elapsed:   40.9s\n",
      "[Parallel(n_jobs=15)]: Done 3668 tasks      | elapsed:   41.8s\n",
      "[Parallel(n_jobs=15)]: Done 3755 tasks      | elapsed:   42.8s\n",
      "[Parallel(n_jobs=15)]: Done 3842 tasks      | elapsed:   43.9s\n",
      "[Parallel(n_jobs=15)]: Done 3931 tasks      | elapsed:   44.7s\n",
      "[Parallel(n_jobs=15)]: Done 4020 tasks      | elapsed:   45.6s\n",
      "[Parallel(n_jobs=15)]: Done 4111 tasks      | elapsed:   46.5s\n",
      "[Parallel(n_jobs=15)]: Done 4202 tasks      | elapsed:   47.5s\n",
      "[Parallel(n_jobs=15)]: Done 4295 tasks      | elapsed:   48.4s\n",
      "[Parallel(n_jobs=15)]: Done 4388 tasks      | elapsed:   49.4s\n",
      "[Parallel(n_jobs=15)]: Done 4483 tasks      | elapsed:   50.4s\n",
      "[Parallel(n_jobs=15)]: Done 4578 tasks      | elapsed:   51.4s\n",
      "[Parallel(n_jobs=15)]: Done 4675 tasks      | elapsed:   52.4s\n",
      "[Parallel(n_jobs=15)]: Done 4772 tasks      | elapsed:   53.5s\n",
      "[Parallel(n_jobs=15)]: Done 4871 tasks      | elapsed:   54.6s\n",
      "[Parallel(n_jobs=15)]: Done 4970 tasks      | elapsed:   55.6s\n",
      "[Parallel(n_jobs=15)]: Done 5071 tasks      | elapsed:   56.6s\n",
      "[Parallel(n_jobs=15)]: Done 5172 tasks      | elapsed:   57.9s\n",
      "[Parallel(n_jobs=15)]: Done 5275 tasks      | elapsed:   59.1s\n",
      "[Parallel(n_jobs=15)]: Done 5378 tasks      | elapsed:  1.0min\n",
      "[Parallel(n_jobs=15)]: Done 5483 tasks      | elapsed:  1.0min\n",
      "[Parallel(n_jobs=15)]: Done 5588 tasks      | elapsed:  1.0min\n",
      "[Parallel(n_jobs=15)]: Done 5695 tasks      | elapsed:  1.1min\n",
      "[Parallel(n_jobs=15)]: Done 5802 tasks      | elapsed:  1.1min\n",
      "[Parallel(n_jobs=15)]: Done 5849 out of 5849 | elapsed:  1.1min finished\n"
     ]
    }
   ],
   "source": [
    "#7m 46s on wittgenstein under moderate load from other users/processes\n",
    "# times_between_onsets = []\n",
    "# for call_id in call_ids:\n",
    "#     my_utts = sorted([u for u in main_transcription_relation if u['call_id'] == call_id], key=lambda u:u['start'])\n",
    "#     starts = my_utts[:-1]\n",
    "#     ends = my_utts[1:]\n",
    "#     adjacent_pairs = zip(starts, ends)\n",
    "#     time_between_onsets = lambda pair: pair[1]['start'] - pair[0]['start']\n",
    "#     times_to_next_utt = list(map(time_between_onsets,\n",
    "#                                  adjacent_pairs))\n",
    "#     times_between_onsets.extend(times_to_next_utt)\n",
    "\n",
    "\n",
    "# ...vs. 1.1m \n",
    "def calc_onset_deltas_for(call_id):\n",
    "    my_utts = sorted([u for u in main_transcription_relation if u['call_id'] == call_id], key=lambda u:u['start'])\n",
    "    starts = my_utts[:-1]\n",
    "    ends = my_utts[1:]\n",
    "    adjacent_pairs = zip(starts, ends)\n",
    "    time_between_onsets = lambda pair: pair[1]['start'] - pair[0]['start']\n",
    "    times_to_next_utt = list(map(time_between_onsets,\n",
    "                                 adjacent_pairs))\n",
    "    return times_to_next_utt\n",
    "\n",
    "times_between_onsets = list(chain.from_iterable(par(delayed(calc_onset_deltas_for)(call_id)\n",
    "                                                    for call_id in call_ids)))"
   ]
  },
  {
   "cell_type": "code",
   "execution_count": 79,
   "metadata": {
    "ExecuteTime": {
     "end_time": "2019-04-24T01:21:22.710257Z",
     "start_time": "2019-04-24T01:21:22.708189Z"
    }
   },
   "outputs": [],
   "source": [
    "# import pandas as pd\n",
    "# from plotnine import *"
   ]
  },
  {
   "cell_type": "code",
   "execution_count": 80,
   "metadata": {
    "ExecuteTime": {
     "end_time": "2019-04-24T01:21:25.525327Z",
     "start_time": "2019-04-24T01:21:22.711480Z"
    }
   },
   "outputs": [],
   "source": [
    "durations_df = pd.DataFrame(list(map(lambda d: {\"Duration\":d},\n",
    "                                     utterance_durations)))\n",
    "lengths_df = pd.DataFrame(list(map(lambda d: {\"Length\":d},\n",
    "                                   utterance_lengths)))\n",
    "onset_deltas_df = pd.DataFrame(list(map(lambda d: {\"Onset_Delta\":d},\n",
    "                                        times_between_onsets)))"
   ]
  },
  {
   "cell_type": "code",
   "execution_count": 81,
   "metadata": {
    "ExecuteTime": {
     "end_time": "2019-04-24T01:21:37.235280Z",
     "start_time": "2019-04-24T01:21:25.526952Z"
    }
   },
   "outputs": [
    {
     "name": "stderr",
     "output_type": "stream",
     "text": [
      "/home/AD/emeinhar/anaconda3/envs/anvil/lib/python3.6/site-packages/plotnine/stats/stat_bin.py:93: UserWarning: 'stat_bin()' using 'bins = 3256'. Pick better value with 'binwidth'.\n",
      "  warn(msg.format(params['bins']))\n"
     ]
    },
    {
     "data": {
      "image/png": "[encoded data removed]",
      "text/plain": [
       "<Figure size 640x480 with 1 Axes>"
      ]
     },
     "metadata": {},
     "output_type": "display_data"
    },
    {
     "data": {
      "text/plain": [
       "<ggplot: (8793455387968)>"
      ]
     },
     "execution_count": 81,
     "metadata": {},
     "output_type": "execute_result"
    },
    {
     "name": "stderr",
     "output_type": "stream",
     "text": [
      "/home/AD/emeinhar/anaconda3/envs/anvil/lib/python3.6/site-packages/plotnine/stats/stat_bin.py:93: UserWarning: 'stat_bin()' using 'bins = 318'. Pick better value with 'binwidth'.\n",
      "  warn(msg.format(params['bins']))\n",
      "/home/AD/emeinhar/anaconda3/envs/anvil/lib/python3.6/site-packages/plotnine/layer.py:360: UserWarning: stat_bin : Removed 28 rows containing non-finite values.\n",
      "  data = self.stat.compute_layer(data, params, layout)\n",
      "/home/AD/emeinhar/anaconda3/envs/anvil/lib/python3.6/site-packages/plotnine/layer.py:449: UserWarning: geom_histogram : Removed 2 rows containing missing values.\n",
      "  self.data = self.geom.handle_na(self.data)\n"
     ]
    },
    {
     "data": {
      "image/png": "[encoded data removed]",
      "text/plain": [
       "<Figure size 640x480 with 1 Axes>"
      ]
     },
     "metadata": {},
     "output_type": "display_data"
    },
    {
     "data": {
      "text/plain": [
       "<ggplot: (8793386866366)>"
      ]
     },
     "execution_count": 81,
     "metadata": {},
     "output_type": "execute_result"
    }
   ],
   "source": [
    "ggplot(durations_df, aes(x=\"Duration\")) + geom_histogram()\n",
    "# ggplot(durations_df, aes(x=\"Duration\")) + geom_histogram() + xlim(0.0, 20.0)\n",
    "main_durations_plot = ggplot(durations_df, aes(x=\"Duration\")) + geom_histogram() + xlim(0.0, 20.0)\n",
    "main_durations_plot"
   ]
  },
  {
   "cell_type": "code",
   "execution_count": 82,
   "metadata": {
    "ExecuteTime": {
     "end_time": "2019-04-24T01:21:41.727189Z",
     "start_time": "2019-04-24T01:21:37.236707Z"
    }
   },
   "outputs": [
    {
     "name": "stderr",
     "output_type": "stream",
     "text": [
      "/home/AD/emeinhar/anaconda3/envs/anvil/lib/python3.6/site-packages/plotnine/stats/stat_bin.py:93: UserWarning: 'stat_bin()' using 'bins = 419'. Pick better value with 'binwidth'.\n",
      "  warn(msg.format(params['bins']))\n"
     ]
    },
    {
     "data": {
      "image/png": "[encoded data removed]",
      "text/plain": [
       "<Figure size 640x480 with 1 Axes>"
      ]
     },
     "metadata": {},
     "output_type": "display_data"
    },
    {
     "data": {
      "text/plain": [
       "<ggplot: (-9223363243489621595)>"
      ]
     },
     "execution_count": 82,
     "metadata": {},
     "output_type": "execute_result"
    },
    {
     "name": "stderr",
     "output_type": "stream",
     "text": [
      "/home/AD/emeinhar/anaconda3/envs/anvil/lib/python3.6/site-packages/plotnine/stats/stat_bin.py:93: UserWarning: 'stat_bin()' using 'bins = 236'. Pick better value with 'binwidth'.\n",
      "  warn(msg.format(params['bins']))\n",
      "/home/AD/emeinhar/anaconda3/envs/anvil/lib/python3.6/site-packages/plotnine/layer.py:360: UserWarning: stat_bin : Removed 1271 rows containing non-finite values.\n",
      "  data = self.stat.compute_layer(data, params, layout)\n",
      "/home/AD/emeinhar/anaconda3/envs/anvil/lib/python3.6/site-packages/plotnine/layer.py:449: UserWarning: geom_histogram : Removed 2 rows containing missing values.\n",
      "  self.data = self.geom.handle_na(self.data)\n"
     ]
    },
    {
     "data": {
      "image/png": "[encoded data removed]",
      "text/plain": [
       "<Figure size 640x480 with 1 Axes>"
      ]
     },
     "metadata": {},
     "output_type": "display_data"
    },
    {
     "data": {
      "text/plain": [
       "<ggplot: (8793383144617)>"
      ]
     },
     "execution_count": 82,
     "metadata": {},
     "output_type": "execute_result"
    }
   ],
   "source": [
    "ggplot(lengths_df, aes(x=\"Length\")) + geom_histogram()\n",
    "# ggplot(lengths_df, aes(x=\"Length\")) + geom_histogram() + xlim(0.0, 60.0)\n",
    "main_length_plot = ggplot(lengths_df, aes(x=\"Length\")) + geom_histogram() + xlim(0.0, 60.0)\n",
    "main_length_plot"
   ]
  },
  {
   "cell_type": "code",
   "execution_count": 83,
   "metadata": {
    "ExecuteTime": {
     "end_time": "2019-04-24T01:21:55.957167Z",
     "start_time": "2019-04-24T01:21:41.728584Z"
    }
   },
   "outputs": [
    {
     "name": "stderr",
     "output_type": "stream",
     "text": [
      "/home/AD/emeinhar/anaconda3/envs/anvil/lib/python3.6/site-packages/plotnine/stats/stat_bin.py:93: UserWarning: 'stat_bin()' using 'bins = 4070'. Pick better value with 'binwidth'.\n",
      "  warn(msg.format(params['bins']))\n"
     ]
    },
    {
     "data": {
      "image/png": "[encoded data removed]",
      "text/plain": [
       "<Figure size 640x480 with 1 Axes>"
      ]
     },
     "metadata": {},
     "output_type": "display_data"
    },
    {
     "data": {
      "text/plain": [
       "<ggplot: (8793381676671)>"
      ]
     },
     "execution_count": 83,
     "metadata": {},
     "output_type": "execute_result"
    },
    {
     "name": "stderr",
     "output_type": "stream",
     "text": [
      "/home/AD/emeinhar/anaconda3/envs/anvil/lib/python3.6/site-packages/plotnine/stats/stat_bin.py:93: UserWarning: 'stat_bin()' using 'bins = 355'. Pick better value with 'binwidth'.\n",
      "  warn(msg.format(params['bins']))\n",
      "/home/AD/emeinhar/anaconda3/envs/anvil/lib/python3.6/site-packages/plotnine/layer.py:360: UserWarning: stat_bin : Removed 204 rows containing non-finite values.\n",
      "  data = self.stat.compute_layer(data, params, layout)\n",
      "/home/AD/emeinhar/anaconda3/envs/anvil/lib/python3.6/site-packages/plotnine/layer.py:449: UserWarning: geom_histogram : Removed 2 rows containing missing values.\n",
      "  self.data = self.geom.handle_na(self.data)\n"
     ]
    },
    {
     "data": {
      "image/png": "[encoded data removed]",
      "text/plain": [
       "<Figure size 640x480 with 1 Axes>"
      ]
     },
     "metadata": {},
     "output_type": "display_data"
    },
    {
     "data": {
      "text/plain": [
       "<ggplot: (8793455387968)>"
      ]
     },
     "execution_count": 83,
     "metadata": {},
     "output_type": "execute_result"
    }
   ],
   "source": [
    "ggplot(onset_deltas_df, aes(x=\"Onset_Delta\")) + geom_histogram()\n",
    "# ggplot(onset_deltas_df, aes(x=\"Onset_Delta\")) + geom_histogram() + xlim(0.0, 20.0)\n",
    "main_onset_deltas_plot = ggplot(onset_deltas_df, aes(x=\"Onset_Delta\")) + geom_histogram() + xlim(0.0, 20.0)\n",
    "main_onset_deltas_plot"
   ]
  },
  {
   "cell_type": "markdown",
   "metadata": {},
   "source": [
    "## Useful examples"
   ]
  },
  {
   "cell_type": "code",
   "execution_count": 84,
   "metadata": {
    "ExecuteTime": {
     "end_time": "2019-04-24T01:21:55.962148Z",
     "start_time": "2019-04-24T01:21:55.958503Z"
    }
   },
   "outputs": [
    {
     "data": {
      "text/plain": [
       "{'speaker': 'A',\n",
       " 'duration': 4.65,\n",
       " 'end': 61.03,\n",
       " 'start': 56.38,\n",
       " 'speech_raw': 'i mean no money is very important definitely and a million dollars is a dream come true for me i mean',\n",
       " 'speech': 'i mean no money is very important definitely and a million dollars is a dream come true for me i mean',\n",
       " 'call_id': '05851',\n",
       " 'location': '/mnt/truffle/corpora/fisher_english_transcripts/fe_03_p2_tran/data/trans/058/fe_03_05851.txt',\n",
       " 'filename': 'fe_03_05851.txt'}"
      ]
     },
     "execution_count": 84,
     "metadata": {},
     "output_type": "execute_result"
    }
   ],
   "source": [
    "main_transcription_relation[0]"
   ]
  },
  {
   "cell_type": "code",
   "execution_count": 85,
   "metadata": {
    "ExecuteTime": {
     "end_time": "2019-04-24T01:21:56.266378Z",
     "start_time": "2019-04-24T01:21:55.963710Z"
    }
   },
   "outputs": [
    {
     "data": {
      "text/plain": [
       "1113586"
      ]
     },
     "execution_count": 85,
     "metadata": {},
     "output_type": "execute_result"
    },
    {
     "data": {
      "text/plain": [
       "24011"
      ]
     },
     "execution_count": 85,
     "metadata": {},
     "output_type": "execute_result"
    },
    {
     "data": {
      "text/plain": [
       "0.021561873083892936"
      ]
     },
     "execution_count": 85,
     "metadata": {},
     "output_type": "execute_result"
    }
   ],
   "source": [
    "hasDash = lambda s: '-' in s\n",
    "tHasDash = lambda t: hasDash(t['speech'])\n",
    "\n",
    "withDash = list(filter(tHasDash, main_transcription_relation))\n",
    "len(main_transcription_relation)\n",
    "len(withDash)\n",
    "len(withDash) / len(main_transcription_relation)"
   ]
  },
  {
   "cell_type": "code",
   "execution_count": 86,
   "metadata": {
    "ExecuteTime": {
     "end_time": "2019-04-24T01:21:56.566764Z",
     "start_time": "2019-04-24T01:21:56.267795Z"
    }
   },
   "outputs": [
    {
     "data": {
      "text/plain": [
       "1113586"
      ]
     },
     "execution_count": 86,
     "metadata": {},
     "output_type": "execute_result"
    },
    {
     "data": {
      "text/plain": [
       "24011"
      ]
     },
     "execution_count": 86,
     "metadata": {},
     "output_type": "execute_result"
    },
    {
     "data": {
      "text/plain": [
       "864"
      ]
     },
     "execution_count": 86,
     "metadata": {},
     "output_type": "execute_result"
    },
    {
     "data": {
      "text/plain": [
       "0.03598350755903544"
      ]
     },
     "execution_count": 86,
     "metadata": {},
     "output_type": "execute_result"
    },
    {
     "data": {
      "text/plain": [
       "0.0007758718231012244"
      ]
     },
     "execution_count": 86,
     "metadata": {},
     "output_type": "execute_result"
    }
   ],
   "source": [
    "hasStartDash = lambda s: ' -' in s\n",
    "tHasStartDash = lambda t: hasStartDash(t['speech_raw'])\n",
    "\n",
    "withStartDash = list(filter(tHasStartDash, main_transcription_relation))\n",
    "len(main_transcription_relation)\n",
    "len(withDash)\n",
    "len(withStartDash)\n",
    "len(withStartDash) / len(withDash)\n",
    "len(withStartDash) / len(main_transcription_relation)"
   ]
  },
  {
   "cell_type": "code",
   "execution_count": 87,
   "metadata": {
    "ExecuteTime": {
     "end_time": "2019-04-24T01:21:56.579055Z",
     "start_time": "2019-04-24T01:21:56.568144Z"
    }
   },
   "outputs": [
    {
     "data": {
      "text/plain": [
       "211"
      ]
     },
     "execution_count": 87,
     "metadata": {},
     "output_type": "execute_result"
    },
    {
     "data": {
      "text/plain": [
       "{'-',\n",
       " \"-'s\",\n",
       " '-a',\n",
       " '-actly',\n",
       " '-adies',\n",
       " '-aduated',\n",
       " '-ah',\n",
       " '-ait',\n",
       " '-an',\n",
       " '-ana',\n",
       " '-ange',\n",
       " '-aq',\n",
       " '-are',\n",
       " '-ass',\n",
       " '-at',\n",
       " \"-at's\",\n",
       " '-ats',\n",
       " '-ave',\n",
       " '-ay',\n",
       " '-bie',\n",
       " '-bio',\n",
       " '-body',\n",
       " \"-body's\",\n",
       " '-bout',\n",
       " '-brate',\n",
       " '-burse',\n",
       " '-case',\n",
       " '-cational',\n",
       " '-cause',\n",
       " '-cept',\n",
       " '-ch',\n",
       " '-cher',\n",
       " '-chigan',\n",
       " '-chusetts',\n",
       " '-cially',\n",
       " '-construe',\n",
       " '-creased',\n",
       " '-cross',\n",
       " '-culing',\n",
       " '-d',\n",
       " '-da',\n",
       " '-deed',\n",
       " '-distribute',\n",
       " '-doing',\n",
       " '-don',\n",
       " '-duced',\n",
       " '-e',\n",
       " '-e-',\n",
       " '-eah',\n",
       " '-ean',\n",
       " '-eckognize',\n",
       " '-ed',\n",
       " '-either',\n",
       " '-ell',\n",
       " '-em',\n",
       " '-en',\n",
       " '-end',\n",
       " '-ends',\n",
       " '-er',\n",
       " \"-ere's\",\n",
       " '-esh',\n",
       " '-est',\n",
       " '-ex',\n",
       " '-ey',\n",
       " '-f',\n",
       " '-fenive',\n",
       " '-fession',\n",
       " '-ff',\n",
       " '-fide',\n",
       " '-fluenced',\n",
       " '-fornia',\n",
       " '-freshing',\n",
       " '-fused',\n",
       " '-gin',\n",
       " '-go',\n",
       " '-grading',\n",
       " '-gratulations',\n",
       " '-gree',\n",
       " '-greeing',\n",
       " '-grees',\n",
       " '-gusting',\n",
       " '-h',\n",
       " '-hand',\n",
       " '-hattan',\n",
       " '-he',\n",
       " '-huh',\n",
       " '-i',\n",
       " '-ide',\n",
       " '-ie',\n",
       " '-ight',\n",
       " '-ike',\n",
       " '-ill',\n",
       " '-ing',\n",
       " '-instinians',\n",
       " '-intentional',\n",
       " '-isneyland',\n",
       " '-isneyworld',\n",
       " '-ist',\n",
       " \"-it's\",\n",
       " '-izzariono',\n",
       " '-jackly',\n",
       " '-joy',\n",
       " '-k',\n",
       " '-kay',\n",
       " '-l',\n",
       " '-lica-',\n",
       " '-ll',\n",
       " '-lo',\n",
       " '-long',\n",
       " '-lowed',\n",
       " '-ly',\n",
       " '-m',\n",
       " '-m-',\n",
       " '-ma-hi',\n",
       " '-mat',\n",
       " '-member',\n",
       " '-ment',\n",
       " '-mercial',\n",
       " '-morphosis',\n",
       " '-most',\n",
       " '-n',\n",
       " '-n-',\n",
       " '-nam',\n",
       " '-nd',\n",
       " '-neering',\n",
       " '-net',\n",
       " '-ng',\n",
       " '-nk',\n",
       " '-nother',\n",
       " '-nough',\n",
       " '-nounce',\n",
       " '-o',\n",
       " '-o-',\n",
       " '-obituates',\n",
       " '-ocial',\n",
       " '-ogic-',\n",
       " '-oming',\n",
       " '-opay',\n",
       " '-opays',\n",
       " '-opoly',\n",
       " '-or',\n",
       " '-ose',\n",
       " '-ough',\n",
       " '-ow',\n",
       " '-oy',\n",
       " '-paper',\n",
       " '-papers',\n",
       " '-partment',\n",
       " '-pez',\n",
       " '-posed',\n",
       " '-pring',\n",
       " '-quest',\n",
       " '-quired',\n",
       " '-quires',\n",
       " '-r',\n",
       " '-r-',\n",
       " '-ray',\n",
       " '-s',\n",
       " '-s-',\n",
       " '-scribes',\n",
       " '-self',\n",
       " '-sential',\n",
       " '-sh',\n",
       " '-ship',\n",
       " '-sitter',\n",
       " '-sive',\n",
       " '-sorship',\n",
       " '-specially',\n",
       " '-st',\n",
       " '-stances',\n",
       " '-stand',\n",
       " '-t',\n",
       " \"-t's\",\n",
       " '-t-',\n",
       " '-talian',\n",
       " '-talked',\n",
       " '-tary',\n",
       " '-teen',\n",
       " '-teering',\n",
       " '-terrorism',\n",
       " '-the',\n",
       " '-thing',\n",
       " \"-thing's\",\n",
       " '-til',\n",
       " '-till',\n",
       " '-times',\n",
       " '-tin-',\n",
       " '-tino',\n",
       " '-tion',\n",
       " '-tivity',\n",
       " '-together',\n",
       " '-tox',\n",
       " '-treiver',\n",
       " '-tum',\n",
       " '-tuni-',\n",
       " '-tv',\n",
       " '-ucks',\n",
       " '-uilt',\n",
       " '-um',\n",
       " '-unding',\n",
       " '-url',\n",
       " '-ust',\n",
       " '-ut',\n",
       " '-utiful',\n",
       " '-versities',\n",
       " '-w',\n",
       " '-ways',\n",
       " '-where',\n",
       " '-xpect',\n",
       " '-y',\n",
       " '-yeah'}"
      ]
     },
     "execution_count": 87,
     "metadata": {},
     "output_type": "execute_result"
    }
   ],
   "source": [
    "getWordsWithStartDash = lambda s: list(filter(lambda s: s[0] == '-', s.split(' ')))\n",
    "tGetWordsWithStartDash = lambda t: getWordsWithStartDash(t['speech_raw'])\n",
    "\n",
    "wordsWithStartDash = union(map(lambda t: set(tGetWordsWithStartDash(t)), withStartDash))\n",
    "len(wordsWithStartDash)\n",
    "# len(set(wordsWithStartDash))\n",
    "wordsWithStartDash"
   ]
  },
  {
   "cell_type": "code",
   "execution_count": 88,
   "metadata": {
    "ExecuteTime": {
     "end_time": "2019-04-24T01:21:56.582448Z",
     "start_time": "2019-04-24T01:21:56.580409Z"
    }
   },
   "outputs": [],
   "source": [
    "from random import choice"
   ]
  },
  {
   "cell_type": "code",
   "execution_count": 89,
   "metadata": {
    "ExecuteTime": {
     "end_time": "2019-04-24T01:21:56.589008Z",
     "start_time": "2019-04-24T01:21:56.583563Z"
    }
   },
   "outputs": [
    {
     "data": {
      "text/plain": [
       "{'speaker': 'A',\n",
       " 'duration': 5.37,\n",
       " 'end': 151.91,\n",
       " 'start': 146.54,\n",
       " 'speech_raw': \"when you go to the basketball court you're going to temple -s what they say [laughter] so wha- d- you like to do\",\n",
       " 'speech': \"when you go to the basketball court you're going to temple <rem> what they say so <rem> <rem> you like to do\",\n",
       " 'call_id': '08912',\n",
       " 'location': '/mnt/truffle/corpora/fisher_english_transcripts/fe_03_p2_tran/data/trans/089/fe_03_08912.txt',\n",
       " 'filename': 'fe_03_08912.txt'}"
      ]
     },
     "execution_count": 89,
     "metadata": {},
     "output_type": "execute_result"
    }
   ],
   "source": [
    "choice(withStartDash)"
   ]
  },
  {
   "cell_type": "code",
   "execution_count": 90,
   "metadata": {
    "ExecuteTime": {
     "end_time": "2019-04-24T01:21:56.595816Z",
     "start_time": "2019-04-24T01:21:56.590545Z"
    }
   },
   "outputs": [
    {
     "data": {
      "text/plain": [
       "{'speaker': 'B',\n",
       " 'duration': 5.31,\n",
       " 'end': 176.69,\n",
       " 'start': 171.38,\n",
       " 'speech_raw': 'you re- -distribute and you get more muscle and muscle weighs more than flab',\n",
       " 'speech': 'you <rem> <rem> and you get more muscle and muscle weighs more than flab',\n",
       " 'call_id': '08366',\n",
       " 'location': '/mnt/truffle/corpora/fisher_english_transcripts/fe_03_p2_tran/data/trans/083/fe_03_08366.txt',\n",
       " 'filename': 'fe_03_08366.txt'}"
      ]
     },
     "execution_count": 90,
     "metadata": {},
     "output_type": "execute_result"
    },
    {
     "data": {
      "text/plain": [
       "{'speaker': 'B',\n",
       " 'duration': 3.43,\n",
       " 'end': 159.63,\n",
       " 'start': 156.2,\n",
       " 'speech_raw': 'i mean you have to go back and reassure -em and i mean',\n",
       " 'speech': 'i mean you have to go back and reassure <rem> and i mean',\n",
       " 'call_id': '05971',\n",
       " 'location': '/mnt/truffle/corpora/fisher_english_transcripts/fe_03_p2_tran/data/trans/059/fe_03_05971.txt',\n",
       " 'filename': 'fe_03_05971.txt'}"
      ]
     },
     "execution_count": 90,
     "metadata": {},
     "output_type": "execute_result"
    }
   ],
   "source": [
    "withStartDash[239]\n",
    "withStartDash[23]"
   ]
  },
  {
   "cell_type": "markdown",
   "metadata": {},
   "source": [
    "**Initialisms**"
   ]
  },
  {
   "cell_type": "markdown",
   "metadata": {},
   "source": [
    "Initialisms were indicated in the LDC transcripts using periods and underscores:"
   ]
  },
  {
   "cell_type": "code",
   "execution_count": 91,
   "metadata": {
    "ExecuteTime": {
     "end_time": "2019-04-24T01:21:56.722907Z",
     "start_time": "2019-04-24T01:21:56.597431Z"
    }
   },
   "outputs": [
    {
     "data": {
      "text/plain": [
       "13099"
      ]
     },
     "execution_count": 91,
     "metadata": {},
     "output_type": "execute_result"
    },
    {
     "data": {
      "text/plain": [
       "[{'speaker': 'B',\n",
       "  'duration': 2.67,\n",
       "  'end': 89.78,\n",
       "  'start': 87.11,\n",
       "  'speech_raw': \"she's out near l._a. she lives in newport beach\",\n",
       "  'speech': \"she's out near l._a. she lives in newport beach\",\n",
       "  'call_id': '05853',\n",
       "  'location': '/mnt/truffle/corpora/fisher_english_transcripts/fe_03_p2_tran/data/trans/058/fe_03_05853.txt',\n",
       "  'filename': 'fe_03_05853.txt'},\n",
       " {'speaker': 'A',\n",
       "  'duration': 2.41,\n",
       "  'end': 134.54,\n",
       "  'start': 132.13,\n",
       "  'speech_raw': \"um i'm a college student at u._c._l._a.\",\n",
       "  'speech': \"um i'm a college student at u._c._l._a.\",\n",
       "  'call_id': '05853',\n",
       "  'location': '/mnt/truffle/corpora/fisher_english_transcripts/fe_03_p2_tran/data/trans/058/fe_03_05853.txt',\n",
       "  'filename': 'fe_03_05853.txt'},\n",
       " {'speaker': 'B',\n",
       "  'duration': 3.26,\n",
       "  'end': 460.76,\n",
       "  'start': 457.5,\n",
       "  'speech_raw': 'he um works for an r._v. association',\n",
       "  'speech': 'he um works for an r._v. association',\n",
       "  'call_id': '05853',\n",
       "  'location': '/mnt/truffle/corpora/fisher_english_transcripts/fe_03_p2_tran/data/trans/058/fe_03_05853.txt',\n",
       "  'filename': 'fe_03_05853.txt'},\n",
       " {'speaker': 'B',\n",
       "  'duration': 4.61,\n",
       "  'end': 471.22,\n",
       "  'start': 466.61,\n",
       "  'speech_raw': \"it's a it's a small state association of like manufacturers and stuff of r._v.\",\n",
       "  'speech': \"it's a it's a small state association of like manufacturers and stuff of r._v.\",\n",
       "  'call_id': '05853',\n",
       "  'location': '/mnt/truffle/corpora/fisher_english_transcripts/fe_03_p2_tran/data/trans/058/fe_03_05853.txt',\n",
       "  'filename': 'fe_03_05853.txt'},\n",
       " {'speaker': 'B',\n",
       "  'duration': 3.66,\n",
       "  'end': 320.26,\n",
       "  'start': 316.6,\n",
       "  'speech_raw': \"that's the only p- you're in washington state not washington d._c. right\",\n",
       "  'speech': \"that's the only <rem> you're in washington state not washington d._c. right\",\n",
       "  'call_id': '05854',\n",
       "  'location': '/mnt/truffle/corpora/fisher_english_transcripts/fe_03_p2_tran/data/trans/058/fe_03_05854.txt',\n",
       "  'filename': 'fe_03_05854.txt'}]"
      ]
     },
     "execution_count": 91,
     "metadata": {},
     "output_type": "execute_result"
    }
   ],
   "source": [
    "utts_with_initialisms_main = [t for t in main_transcription_relation if '_' in t['speech']]\n",
    "len(utts_with_initialisms_main)\n",
    "utts_with_initialisms_main[:5]"
   ]
  },
  {
   "cell_type": "markdown",
   "metadata": {},
   "source": [
    "# The `bbn` transcriptions"
   ]
  },
  {
   "cell_type": "markdown",
   "metadata": {},
   "source": [
    "For context, read\n",
    " - the last page of Cieri et al. 2004 (\"The Fisher Corpus: a Resource for the Next Generations of Speech-to-Text\", https://www.ldc.upenn.edu/sites/www.ldc.upenn.edu/files/lrec2004-fisher-corpus.pdf)\n",
    " - https://catalog.ldc.upenn.edu/docs/LDC2005T19/bbn_trans_readme.txt"
   ]
  },
  {
   "cell_type": "code",
   "execution_count": 92,
   "metadata": {
    "ExecuteTime": {
     "end_time": "2019-04-24T01:21:56.727514Z",
     "start_time": "2019-04-24T01:21:56.724326Z"
    }
   },
   "outputs": [
    {
     "data": {
      "text/plain": [
       "'/mnt/truffle/corpora/fisher_english_transcripts/fe_03_p2_tran/data'"
      ]
     },
     "execution_count": 92,
     "metadata": {},
     "output_type": "execute_result"
    }
   ],
   "source": [
    "os.chdir(os.path.join(fisher_dir, 'data'))\n",
    "os.getcwd()"
   ]
  },
  {
   "cell_type": "code",
   "execution_count": 93,
   "metadata": {
    "ExecuteTime": {
     "end_time": "2019-04-24T01:21:56.904639Z",
     "start_time": "2019-04-24T01:21:56.728723Z"
    }
   },
   "outputs": [
    {
     "name": "stdout",
     "output_type": "stream",
     "text": [
      "\u001b[0m\u001b[01;34mbbn_orig\u001b[0m/  \u001b[01;34mtrans\u001b[0m/\r\n"
     ]
    }
   ],
   "source": [
    "%ls"
   ]
  },
  {
   "cell_type": "code",
   "execution_count": 94,
   "metadata": {
    "ExecuteTime": {
     "end_time": "2019-04-24T01:21:56.931009Z",
     "start_time": "2019-04-24T01:21:56.906942Z"
    }
   },
   "outputs": [
    {
     "name": "stdout",
     "output_type": "stream",
     "text": [
      "/mnt/truffle/corpora/fisher_english_transcripts/fe_03_p2_tran/data/bbn_orig\n"
     ]
    }
   ],
   "source": [
    "%cd bbn_orig/"
   ]
  },
  {
   "cell_type": "code",
   "execution_count": 95,
   "metadata": {
    "ExecuteTime": {
     "end_time": "2019-04-24T01:21:56.935115Z",
     "start_time": "2019-04-24T01:21:56.932708Z"
    }
   },
   "outputs": [],
   "source": [
    "bbn_data_dir = '/mnt/truffle/corpora/fisher_english_transcripts/fe_03_p2_tran/data/bbn_orig'"
   ]
  },
  {
   "cell_type": "code",
   "execution_count": 96,
   "metadata": {
    "ExecuteTime": {
     "end_time": "2019-04-24T01:21:57.132282Z",
     "start_time": "2019-04-24T01:21:56.936778Z"
    }
   },
   "outputs": [
    {
     "name": "stdout",
     "output_type": "stream",
     "text": [
      "\u001b[0m\u001b[01;34m058\u001b[0m/  \u001b[01;34m063\u001b[0m/  \u001b[01;34m068\u001b[0m/  \u001b[01;34m073\u001b[0m/  \u001b[01;34m078\u001b[0m/  \u001b[01;34m083\u001b[0m/  \u001b[01;34m088\u001b[0m/  \u001b[01;34m093\u001b[0m/  \u001b[01;34m098\u001b[0m/  \u001b[01;34m103\u001b[0m/  \u001b[01;34m108\u001b[0m/  \u001b[01;34m113\u001b[0m/\r\n",
      "\u001b[01;34m059\u001b[0m/  \u001b[01;34m064\u001b[0m/  \u001b[01;34m069\u001b[0m/  \u001b[01;34m074\u001b[0m/  \u001b[01;34m079\u001b[0m/  \u001b[01;34m084\u001b[0m/  \u001b[01;34m089\u001b[0m/  \u001b[01;34m094\u001b[0m/  \u001b[01;34m099\u001b[0m/  \u001b[01;34m104\u001b[0m/  \u001b[01;34m109\u001b[0m/\r\n",
      "\u001b[01;34m060\u001b[0m/  \u001b[01;34m065\u001b[0m/  \u001b[01;34m070\u001b[0m/  \u001b[01;34m075\u001b[0m/  \u001b[01;34m080\u001b[0m/  \u001b[01;34m085\u001b[0m/  \u001b[01;34m090\u001b[0m/  \u001b[01;34m095\u001b[0m/  \u001b[01;34m100\u001b[0m/  \u001b[01;34m105\u001b[0m/  \u001b[01;34m110\u001b[0m/\r\n",
      "\u001b[01;34m061\u001b[0m/  \u001b[01;34m066\u001b[0m/  \u001b[01;34m071\u001b[0m/  \u001b[01;34m076\u001b[0m/  \u001b[01;34m081\u001b[0m/  \u001b[01;34m086\u001b[0m/  \u001b[01;34m091\u001b[0m/  \u001b[01;34m096\u001b[0m/  \u001b[01;34m101\u001b[0m/  \u001b[01;34m106\u001b[0m/  \u001b[01;34m111\u001b[0m/\r\n",
      "\u001b[01;34m062\u001b[0m/  \u001b[01;34m067\u001b[0m/  \u001b[01;34m072\u001b[0m/  \u001b[01;34m077\u001b[0m/  \u001b[01;34m082\u001b[0m/  \u001b[01;34m087\u001b[0m/  \u001b[01;34m092\u001b[0m/  \u001b[01;34m097\u001b[0m/  \u001b[01;34m102\u001b[0m/  \u001b[01;34m107\u001b[0m/  \u001b[01;34m112\u001b[0m/\r\n"
     ]
    }
   ],
   "source": [
    "%ls"
   ]
  },
  {
   "cell_type": "code",
   "execution_count": 97,
   "metadata": {
    "ExecuteTime": {
     "end_time": "2019-04-24T01:21:57.138159Z",
     "start_time": "2019-04-24T01:21:57.134778Z"
    }
   },
   "outputs": [],
   "source": [
    "bbn_folders = os.listdir()"
   ]
  },
  {
   "cell_type": "code",
   "execution_count": 98,
   "metadata": {
    "ExecuteTime": {
     "end_time": "2019-04-24T01:21:57.145515Z",
     "start_time": "2019-04-24T01:21:57.140095Z"
    }
   },
   "outputs": [
    {
     "data": {
      "text/plain": [
       "'/mnt/truffle/corpora/fisher_english_transcripts/fe_03_p2_tran/data/bbn_orig/058'"
      ]
     },
     "execution_count": 98,
     "metadata": {},
     "output_type": "execute_result"
    }
   ],
   "source": [
    "os.chdir(os.path.join(bbn_data_dir, '058'))\n",
    "os.getcwd()"
   ]
  },
  {
   "cell_type": "code",
   "execution_count": 99,
   "metadata": {
    "ExecuteTime": {
     "end_time": "2019-04-24T01:21:57.334741Z",
     "start_time": "2019-04-24T01:21:57.147053Z"
    }
   },
   "outputs": [
    {
     "name": "stdout",
     "output_type": "stream",
     "text": [
      "\u001b[0m\u001b[01;34mauto-segmented\u001b[0m/  \u001b[01;34moriginals\u001b[0m/  \u001b[01;34mrejected\u001b[0m/\r\n"
     ]
    }
   ],
   "source": [
    "%ls"
   ]
  },
  {
   "cell_type": "markdown",
   "metadata": {},
   "source": [
    "Note that, per `https://catalog.ldc.upenn.edu/docs/LDC2005T19/bbn_trans_readme.txt`, \n",
    " - each folder contains a group of (up to?) 100 calls with a shared 3 digit prefix in their call id.\n",
    " - subsets 114, 115, and 116 are not here, because those 300 transcripts were done by the LDC.\n",
    " \n",
    "Within each folder, `/originals/` contains `.txo` transcriptions produced by annotators at WordWave; these files were the input to an automatic segmentation process that created the `.ana` and `.trn` files in `/auto-segmented/` folders. `/rejected/` folders contain `.ana` and `.trn` data for utterances that the automatic segmentation process could not handle.\n",
    "\n",
    "That means the transcription data of interest for this project are in `.trn` files in both `/auto-segmented/` and `/rejected/` folders and will need to be combined."
   ]
  },
  {
   "cell_type": "code",
   "execution_count": 100,
   "metadata": {
    "ExecuteTime": {
     "end_time": "2019-04-24T01:21:57.340900Z",
     "start_time": "2019-04-24T01:21:57.336346Z"
    }
   },
   "outputs": [
    {
     "name": "stdout",
     "output_type": "stream",
     "text": [
      "/mnt/truffle/corpora/fisher_english_transcripts/fe_03_p2_tran/data/bbn_orig/058/auto-segmented\n"
     ]
    }
   ],
   "source": [
    "%cd auto-segmented/"
   ]
  },
  {
   "cell_type": "code",
   "execution_count": 101,
   "metadata": {
    "ExecuteTime": {
     "end_time": "2019-04-24T01:21:57.519908Z",
     "start_time": "2019-04-24T01:21:57.342743Z"
    }
   },
   "outputs": [
    {
     "name": "stdout",
     "output_type": "stream",
     "text": [
      "\u001b[0m\u001b[01;32mfe_03_05863.ana\u001b[0m*  \u001b[01;32mfe_03_05876.trn\u001b[0m*  \u001b[01;32mfe_03_05888.ana\u001b[0m*  \u001b[01;32mfe_03_05889.trn\u001b[0m*\r\n",
      "\u001b[01;32mfe_03_05863.trn\u001b[0m*  \u001b[01;32mfe_03_05887.ana\u001b[0m*  \u001b[01;32mfe_03_05888.trn\u001b[0m*  \u001b[01;32mfe_03_05898.ana\u001b[0m*\r\n",
      "\u001b[01;32mfe_03_05876.ana\u001b[0m*  \u001b[01;32mfe_03_05887.trn\u001b[0m*  \u001b[01;32mfe_03_05889.ana\u001b[0m*  \u001b[01;32mfe_03_05898.trn\u001b[0m*\r\n"
     ]
    }
   ],
   "source": [
    "%ls"
   ]
  },
  {
   "cell_type": "code",
   "execution_count": 102,
   "metadata": {
    "ExecuteTime": {
     "end_time": "2019-04-24T01:21:57.692224Z",
     "start_time": "2019-04-24T01:21:57.522616Z"
    }
   },
   "outputs": [
    {
     "name": "stdout",
     "output_type": "stream",
     "text": [
      "     1\tH- HI THIS IS DEBBIE  (fe_03_05876-A-0001)\r\n",
      "     2\tHI SYLVIA  (fe_03_05876-A-0002)\r\n",
      "     3\t[LAUGHTER] I'M JUST TRYING TO GET OVER THIS QUESTION  (fe_03_05876-A-0003)\r\n",
      "     4\tUH NO IT'S MY SECOND CALL BUT THEY JUST SEEM TO GET MO- [LAUGHTER] MORE AND MORE RIDICULOUS  (fe_03_05876-A-0005)\r\n",
      "     5\tOH REALLY [LAUGHTER] UM  (fe_03_05876-A-0006)\r\n",
      "     6\tWELL NO MY BEST FRIEND UM  (fe_03_05876-A-0007)\r\n",
      "     7\tI DON'T KNOW MY INSTINCT MY INITIAL INSTINCT IS TO SAY NO UH YOU KNOW  (fe_03_05876-A-0008)\r\n",
      "     8\tHOWEVER I GUESS [LAUGHTER] IF I HAD TO THINK ABOUT IT A WHILE  (fe_03_05876-A-0009)\r\n",
      "     9\tSEE I COULD DO SO MUCH WITH A MILLION DOLLARS HELP SO MANY PEOPLE BUT [LIPSMACK]  (fe_03_05876-A-0010)\r\n",
      "    10\tI DON'T KNOW IT JUST DOESN'T IT DOESN'T FEEL RIGHT TO TO TAKE TO HAVE THIS STRING ATTACHED YOU KNOW FIRST OF ALL  (fe_03_05876-A-0011)\r\n",
      "    11\t[LAUGHTER] SO DO I. THAT'S RIGHT  (fe_03_05876-A-0012)\r\n",
      "    12\tYOU'RE RIGHT  (fe_03_05876-A-0013)\r\n",
      "    13\tTHAT'S TRUE [NOISE]  (fe_03_05876-A-0014)\r\n",
      "    14\tMHM  (fe_03_05876-A-0015)\r\n",
      "    15\tRIGHT  (fe_03_05876-A-0016)\r\n",
      "    16\tNO YOU'RE RIGHT THERE'S LIKE A REAL RIPPLING EFFECT AND THEN IF YOUR IF YOUR HUSBAND OR BOYFRIEND KNOWS HER TOO IT WOULD BE IT W- YOU KNOW WHAT IF THEY WANTED TO MAINTAIN A FRIENDSHIP AND YOU COULDN'T BECAUSE OF THIS AGREEMENT  (fe_03_05876-A-0017)\r\n",
      "    17\tRIGHT EXACTLY NO NO I THINK I THINK IT'S A REALLY IT'S [NOISE]  (fe_03_05876-A-0018)\r\n",
      "    18\tI I DON'T KNOW I GUESS THERE COULD BE AN ARGUMENT MADE FOR TAKING IT  (fe_03_05876-A-0019)\r\n",
      "    19\tAND I THINK BASED ON JUST THE AMOUNT [LIPSMACK]  (fe_03_05876-A-0020)\r\n",
      "    20\tAND LIKE I SAID THE FACT THAT YOU COULD DO A LOT WITH IT  (fe_03_05876-A-0021)\r\n"
     ]
    }
   ],
   "source": [
    "%cat -n fe_03_05876.trn | head -20"
   ]
  },
  {
   "cell_type": "markdown",
   "metadata": {},
   "source": [
    "## Organizing call transcription files, a unique call ID, and call transcription file location"
   ]
  },
  {
   "cell_type": "markdown",
   "metadata": {
    "ExecuteTime": {
     "end_time": "2019-04-15T19:50:48.294410Z",
     "start_time": "2019-04-15T19:50:48.290003Z"
    }
   },
   "source": [
    "**Let's create a relation between call id, associated filenames, and locations.**"
   ]
  },
  {
   "cell_type": "code",
   "execution_count": 103,
   "metadata": {
    "ExecuteTime": {
     "end_time": "2019-04-24T01:21:57.699507Z",
     "start_time": "2019-04-24T01:21:57.694543Z"
    }
   },
   "outputs": [
    {
     "name": "stdout",
     "output_type": "stream",
     "text": [
      "/mnt/truffle/corpora/fisher_english_transcripts/fe_03_p2_tran/data/bbn_orig/058\n"
     ]
    }
   ],
   "source": [
    "%cd .."
   ]
  },
  {
   "cell_type": "code",
   "execution_count": 104,
   "metadata": {
    "ExecuteTime": {
     "end_time": "2019-04-24T01:21:57.707276Z",
     "start_time": "2019-04-24T01:21:57.701053Z"
    }
   },
   "outputs": [
    {
     "data": {
      "text/plain": [
       "'/mnt/truffle/corpora/fisher_english_transcripts/fe_03_p2_tran/data/bbn_orig/058'"
      ]
     },
     "execution_count": 104,
     "metadata": {},
     "output_type": "execute_result"
    }
   ],
   "source": [
    "%pwd"
   ]
  },
  {
   "cell_type": "code",
   "execution_count": 105,
   "metadata": {
    "ExecuteTime": {
     "end_time": "2019-04-24T01:21:57.881039Z",
     "start_time": "2019-04-24T01:21:57.708605Z"
    }
   },
   "outputs": [
    {
     "name": "stdout",
     "output_type": "stream",
     "text": [
      "\u001b[0m\u001b[01;34mauto-segmented\u001b[0m/  \u001b[01;34moriginals\u001b[0m/  \u001b[01;34mrejected\u001b[0m/\r\n"
     ]
    }
   ],
   "source": [
    "%ls"
   ]
  },
  {
   "cell_type": "code",
   "execution_count": 106,
   "metadata": {
    "ExecuteTime": {
     "end_time": "2019-04-24T01:21:57.889316Z",
     "start_time": "2019-04-24T01:21:57.883572Z"
    }
   },
   "outputs": [
    {
     "data": {
      "text/plain": [
       "True"
      ]
     },
     "execution_count": 106,
     "metadata": {},
     "output_type": "execute_result"
    }
   ],
   "source": [
    "set(os.listdir('./auto-segmented/')) == set(os.listdir('./rejected/'))"
   ]
  },
  {
   "cell_type": "code",
   "execution_count": 107,
   "metadata": {
    "ExecuteTime": {
     "end_time": "2019-04-24T01:21:57.894974Z",
     "start_time": "2019-04-24T01:21:57.890906Z"
    }
   },
   "outputs": [
    {
     "data": {
      "text/plain": [
       "['fe_03_05863.ana',\n",
       " 'fe_03_05863.trn',\n",
       " 'fe_03_05876.ana',\n",
       " 'fe_03_05876.trn',\n",
       " 'fe_03_05887.ana',\n",
       " 'fe_03_05887.trn',\n",
       " 'fe_03_05888.ana',\n",
       " 'fe_03_05888.trn',\n",
       " 'fe_03_05889.ana',\n",
       " 'fe_03_05889.trn',\n",
       " 'fe_03_05898.ana',\n",
       " 'fe_03_05898.trn']"
      ]
     },
     "execution_count": 107,
     "metadata": {},
     "output_type": "execute_result"
    }
   ],
   "source": [
    "os.listdir('./auto-segmented/')"
   ]
  },
  {
   "cell_type": "code",
   "execution_count": 108,
   "metadata": {
    "ExecuteTime": {
     "end_time": "2019-04-24T01:21:57.900128Z",
     "start_time": "2019-04-24T01:21:57.896518Z"
    }
   },
   "outputs": [
    {
     "data": {
      "text/plain": [
       "'05898'"
      ]
     },
     "execution_count": 108,
     "metadata": {},
     "output_type": "execute_result"
    }
   ],
   "source": [
    "'fe_03_05898.trn'[6:11]"
   ]
  },
  {
   "cell_type": "code",
   "execution_count": 109,
   "metadata": {
    "ExecuteTime": {
     "end_time": "2019-04-24T01:21:57.907060Z",
     "start_time": "2019-04-24T01:21:57.901740Z"
    }
   },
   "outputs": [],
   "source": [
    "def fn_to_call_id_bbn(bbn_fn):\n",
    "    return bbn_fn[6:11]"
   ]
  },
  {
   "cell_type": "code",
   "execution_count": 110,
   "metadata": {
    "ExecuteTime": {
     "end_time": "2019-04-24T01:21:57.912910Z",
     "start_time": "2019-04-24T01:21:57.908668Z"
    }
   },
   "outputs": [],
   "source": [
    "def get_call_ids_in_group_dir(group_dir):\n",
    "    autosegmented_files = set(os.listdir('./auto-segmented/'))\n",
    "    rejected_files = set(os.listdir('./rejected'))\n",
    "    autosegmented_call_ids = set(map(fn_to_call_id_bbn,\n",
    "                                     autosegmented_files))\n",
    "    rejected_call_ids = set(map(fn_to_call_id_bbn,\n",
    "                                rejected_files))\n",
    "    return sorted(list(autosegmented_call_ids | rejected_call_ids))"
   ]
  },
  {
   "cell_type": "code",
   "execution_count": 111,
   "metadata": {
    "ExecuteTime": {
     "end_time": "2019-04-24T01:21:57.921253Z",
     "start_time": "2019-04-24T01:21:57.914604Z"
    }
   },
   "outputs": [
    {
     "data": {
      "text/plain": [
       "['05863', '05876', '05887', '05888', '05889', '05898']"
      ]
     },
     "execution_count": 111,
     "metadata": {},
     "output_type": "execute_result"
    }
   ],
   "source": [
    "get_call_ids_in_group_dir('.')"
   ]
  },
  {
   "cell_type": "code",
   "execution_count": 112,
   "metadata": {
    "ExecuteTime": {
     "end_time": "2019-04-24T01:21:57.929513Z",
     "start_time": "2019-04-24T01:21:57.922943Z"
    }
   },
   "outputs": [],
   "source": [
    "def call_id_to_relation_bbn(call_id, group_dir):\n",
    "    fn_prefix = 'fe_03_'\n",
    "    suffix_a = '.ana'\n",
    "    suffix_b = '.trn'\n",
    "    ana_fn = fn_prefix + call_id + suffix_a\n",
    "    trn_fn = fn_prefix + call_id + suffix_b\n",
    "    loc_prefix = os.path.join(bbn_data_dir, group_dir)\n",
    "    return {'call_id':call_id,\n",
    "            'trn_fn':trn_fn,\n",
    "            'ana_fn':ana_fn,\n",
    "            'auto-segmented_trn_location':os.path.join(loc_prefix, 'auto-segmented/' + trn_fn),\n",
    "            'rejected_trn_location':os.path.join(loc_prefix, 'rejected/' + trn_fn) if os.path.isfile(os.path.join(loc_prefix, 'rejected/' + trn_fn)) else '',\n",
    "            'auto-segmented_ana_location':os.path.join(loc_prefix, 'auto-segmented/' + ana_fn),\n",
    "            'rejected_ana_location':os.path.join(loc_prefix, 'rejected/' + ana_fn) if os.path.isfile(os.path.join(loc_prefix, 'rejected/' + ana_fn)) else '',}"
   ]
  },
  {
   "cell_type": "code",
   "execution_count": 113,
   "metadata": {
    "ExecuteTime": {
     "end_time": "2019-04-24T01:21:57.937458Z",
     "start_time": "2019-04-24T01:21:57.931180Z"
    }
   },
   "outputs": [
    {
     "data": {
      "text/plain": [
       "'/mnt/truffle/corpora/fisher_english_transcripts/fe_03_p2_tran/data/bbn_orig/058'"
      ]
     },
     "execution_count": 113,
     "metadata": {},
     "output_type": "execute_result"
    }
   ],
   "source": [
    "%pwd"
   ]
  },
  {
   "cell_type": "code",
   "execution_count": 114,
   "metadata": {
    "ExecuteTime": {
     "end_time": "2019-04-24T01:21:57.945281Z",
     "start_time": "2019-04-24T01:21:57.938658Z"
    }
   },
   "outputs": [
    {
     "data": {
      "text/plain": [
       "['fe_03_05863.ana',\n",
       " 'fe_03_05863.trn',\n",
       " 'fe_03_05876.ana',\n",
       " 'fe_03_05876.trn',\n",
       " 'fe_03_05887.ana',\n",
       " 'fe_03_05887.trn',\n",
       " 'fe_03_05888.ana',\n",
       " 'fe_03_05888.trn',\n",
       " 'fe_03_05889.ana',\n",
       " 'fe_03_05889.trn',\n",
       " 'fe_03_05898.ana',\n",
       " 'fe_03_05898.trn']"
      ]
     },
     "execution_count": 114,
     "metadata": {},
     "output_type": "execute_result"
    },
    {
     "data": {
      "text/plain": [
       "['fe_03_05863.ana',\n",
       " 'fe_03_05863.trn',\n",
       " 'fe_03_05876.ana',\n",
       " 'fe_03_05876.trn',\n",
       " 'fe_03_05887.ana',\n",
       " 'fe_03_05887.trn',\n",
       " 'fe_03_05888.ana',\n",
       " 'fe_03_05888.trn',\n",
       " 'fe_03_05889.ana',\n",
       " 'fe_03_05889.trn',\n",
       " 'fe_03_05898.ana',\n",
       " 'fe_03_05898.trn']"
      ]
     },
     "execution_count": 114,
     "metadata": {},
     "output_type": "execute_result"
    }
   ],
   "source": [
    "os.listdir('./auto-segmented/')\n",
    "os.listdir('./rejected/')"
   ]
  },
  {
   "cell_type": "code",
   "execution_count": 115,
   "metadata": {
    "ExecuteTime": {
     "end_time": "2019-04-24T01:21:57.952804Z",
     "start_time": "2019-04-24T01:21:57.946834Z"
    }
   },
   "outputs": [
    {
     "data": {
      "text/plain": [
       "{'call_id': '05863',\n",
       " 'trn_fn': 'fe_03_05863.trn',\n",
       " 'ana_fn': 'fe_03_05863.ana',\n",
       " 'auto-segmented_trn_location': '/mnt/truffle/corpora/fisher_english_transcripts/fe_03_p2_tran/data/bbn_orig/058/auto-segmented/fe_03_05863.trn',\n",
       " 'rejected_trn_location': '/mnt/truffle/corpora/fisher_english_transcripts/fe_03_p2_tran/data/bbn_orig/058/rejected/fe_03_05863.trn',\n",
       " 'auto-segmented_ana_location': '/mnt/truffle/corpora/fisher_english_transcripts/fe_03_p2_tran/data/bbn_orig/058/auto-segmented/fe_03_05863.ana',\n",
       " 'rejected_ana_location': '/mnt/truffle/corpora/fisher_english_transcripts/fe_03_p2_tran/data/bbn_orig/058/rejected/fe_03_05863.ana'}"
      ]
     },
     "execution_count": 115,
     "metadata": {},
     "output_type": "execute_result"
    },
    {
     "data": {
      "text/plain": [
       "'/mnt/truffle/corpora/fisher_english_transcripts/fe_03_p2_tran/data/bbn_orig/058/auto-segmented/fe_03_05863.trn'"
      ]
     },
     "execution_count": 115,
     "metadata": {},
     "output_type": "execute_result"
    }
   ],
   "source": [
    "call_id_to_relation_bbn('05863', '058')\n",
    "\n",
    "loc = call_id_to_relation_bbn('05863', '058')['auto-segmented_trn_location']\n",
    "loc"
   ]
  },
  {
   "cell_type": "code",
   "execution_count": 116,
   "metadata": {
    "ExecuteTime": {
     "end_time": "2019-04-24T01:21:57.959363Z",
     "start_time": "2019-04-24T01:21:57.954486Z"
    }
   },
   "outputs": [
    {
     "data": {
      "text/plain": [
       "'/mnt/truffle/corpora/fisher_english_transcripts/fe_03_p2_tran/data/bbn_orig'"
      ]
     },
     "execution_count": 116,
     "metadata": {},
     "output_type": "execute_result"
    }
   ],
   "source": [
    "os.chdir(bbn_data_dir)\n",
    "os.getcwd()"
   ]
  },
  {
   "cell_type": "code",
   "execution_count": 117,
   "metadata": {
    "ExecuteTime": {
     "end_time": "2019-04-24T01:21:59.617636Z",
     "start_time": "2019-04-24T01:21:57.961255Z"
    }
   },
   "outputs": [],
   "source": [
    "bbn_call_relation = []\n",
    "for folder in bbn_folders:\n",
    "    os.chdir(folder)\n",
    "    for call_id in get_call_ids_in_group_dir('.'):\n",
    "        bbn_call_relation.append(call_id_to_relation_bbn(call_id, folder))\n",
    "    os.chdir('..')"
   ]
  },
  {
   "cell_type": "code",
   "execution_count": 118,
   "metadata": {
    "ExecuteTime": {
     "end_time": "2019-04-24T01:21:59.624781Z",
     "start_time": "2019-04-24T01:21:59.619872Z"
    }
   },
   "outputs": [
    {
     "data": {
      "text/plain": [
       "[{'call_id': '05863',\n",
       "  'trn_fn': 'fe_03_05863.trn',\n",
       "  'ana_fn': 'fe_03_05863.ana',\n",
       "  'auto-segmented_trn_location': '/mnt/truffle/corpora/fisher_english_transcripts/fe_03_p2_tran/data/bbn_orig/058/auto-segmented/fe_03_05863.trn',\n",
       "  'rejected_trn_location': '/mnt/truffle/corpora/fisher_english_transcripts/fe_03_p2_tran/data/bbn_orig/058/rejected/fe_03_05863.trn',\n",
       "  'auto-segmented_ana_location': '/mnt/truffle/corpora/fisher_english_transcripts/fe_03_p2_tran/data/bbn_orig/058/auto-segmented/fe_03_05863.ana',\n",
       "  'rejected_ana_location': '/mnt/truffle/corpora/fisher_english_transcripts/fe_03_p2_tran/data/bbn_orig/058/rejected/fe_03_05863.ana'},\n",
       " {'call_id': '05876',\n",
       "  'trn_fn': 'fe_03_05876.trn',\n",
       "  'ana_fn': 'fe_03_05876.ana',\n",
       "  'auto-segmented_trn_location': '/mnt/truffle/corpora/fisher_english_transcripts/fe_03_p2_tran/data/bbn_orig/058/auto-segmented/fe_03_05876.trn',\n",
       "  'rejected_trn_location': '/mnt/truffle/corpora/fisher_english_transcripts/fe_03_p2_tran/data/bbn_orig/058/rejected/fe_03_05876.trn',\n",
       "  'auto-segmented_ana_location': '/mnt/truffle/corpora/fisher_english_transcripts/fe_03_p2_tran/data/bbn_orig/058/auto-segmented/fe_03_05876.ana',\n",
       "  'rejected_ana_location': '/mnt/truffle/corpora/fisher_english_transcripts/fe_03_p2_tran/data/bbn_orig/058/rejected/fe_03_05876.ana'},\n",
       " {'call_id': '05887',\n",
       "  'trn_fn': 'fe_03_05887.trn',\n",
       "  'ana_fn': 'fe_03_05887.ana',\n",
       "  'auto-segmented_trn_location': '/mnt/truffle/corpora/fisher_english_transcripts/fe_03_p2_tran/data/bbn_orig/058/auto-segmented/fe_03_05887.trn',\n",
       "  'rejected_trn_location': '/mnt/truffle/corpora/fisher_english_transcripts/fe_03_p2_tran/data/bbn_orig/058/rejected/fe_03_05887.trn',\n",
       "  'auto-segmented_ana_location': '/mnt/truffle/corpora/fisher_english_transcripts/fe_03_p2_tran/data/bbn_orig/058/auto-segmented/fe_03_05887.ana',\n",
       "  'rejected_ana_location': '/mnt/truffle/corpora/fisher_english_transcripts/fe_03_p2_tran/data/bbn_orig/058/rejected/fe_03_05887.ana'}]"
      ]
     },
     "execution_count": 118,
     "metadata": {},
     "output_type": "execute_result"
    }
   ],
   "source": [
    "bbn_call_relation[:3]"
   ]
  },
  {
   "cell_type": "markdown",
   "metadata": {},
   "source": [
    "## Organizing transcriptions of each call"
   ]
  },
  {
   "cell_type": "code",
   "execution_count": 119,
   "metadata": {
    "ExecuteTime": {
     "end_time": "2019-04-24T01:21:59.633248Z",
     "start_time": "2019-04-24T01:21:59.626501Z"
    }
   },
   "outputs": [
    {
     "data": {
      "text/plain": [
       "'/mnt/truffle/corpora/fisher_english_transcripts/fe_03_p2_tran/data/bbn_orig/058'"
      ]
     },
     "execution_count": 119,
     "metadata": {},
     "output_type": "execute_result"
    }
   ],
   "source": [
    "os.chdir(os.path.join(bbn_data_dir, '058'))\n",
    "os.getcwd()"
   ]
  },
  {
   "cell_type": "code",
   "execution_count": 120,
   "metadata": {
    "ExecuteTime": {
     "end_time": "2019-04-24T01:21:59.824596Z",
     "start_time": "2019-04-24T01:21:59.634644Z"
    }
   },
   "outputs": [
    {
     "name": "stdout",
     "output_type": "stream",
     "text": [
      "\u001b[0m\u001b[01;32mfe_03_05863.ana\u001b[0m*  \u001b[01;32mfe_03_05876.trn\u001b[0m*  \u001b[01;32mfe_03_05888.ana\u001b[0m*  \u001b[01;32mfe_03_05889.trn\u001b[0m*\r\n",
      "\u001b[01;32mfe_03_05863.trn\u001b[0m*  \u001b[01;32mfe_03_05887.ana\u001b[0m*  \u001b[01;32mfe_03_05888.trn\u001b[0m*  \u001b[01;32mfe_03_05898.ana\u001b[0m*\r\n",
      "\u001b[01;32mfe_03_05876.ana\u001b[0m*  \u001b[01;32mfe_03_05887.trn\u001b[0m*  \u001b[01;32mfe_03_05889.ana\u001b[0m*  \u001b[01;32mfe_03_05898.trn\u001b[0m*\r\n"
     ]
    }
   ],
   "source": [
    "%ls auto-segmented/"
   ]
  },
  {
   "cell_type": "markdown",
   "metadata": {},
   "source": [
    "#### Parsing transcription lines"
   ]
  },
  {
   "cell_type": "code",
   "execution_count": 121,
   "metadata": {
    "ExecuteTime": {
     "end_time": "2019-04-24T01:22:00.006798Z",
     "start_time": "2019-04-24T01:21:59.826643Z"
    }
   },
   "outputs": [
    {
     "name": "stdout",
     "output_type": "stream",
     "text": [
      "     1\tHI [LAUGHTER]  (fe_03_05863-A-0001)\r\n",
      "     2\tHI MY NAME IS ZELDA  (fe_03_05863-A-0002)\r\n",
      "     3\tHI MONIQUE  (fe_03_05863-A-0003)\r\n",
      "     4\tI'M FINE AND YOU  (fe_03_05863-A-0004)\r\n",
      "     5\tGOOD  (fe_03_05863-A-0005)\r\n",
      "     6\tOKAY UM  (fe_03_05863-A-0006)\r\n",
      "     7\tI WOULD NOT DO IT  (fe_03_05863-A-0007)\r\n",
      "     8\t[NOISE] RIGHT I WOULDN'T UM DO YOU KID- ESP- UH TODAY I MEAN  (fe_03_05863-A-0008)\r\n",
      "     9\tPEOPLE LOOK AT MONEY MONEY IS EVERYTHING IT'S LIKE THEY THINK THAT MONEY'S GOING TO RESOLVE ALL THEIR PROBLEMS AND A MILLION DOLLARS TODAY IS NOT A LOT OF MONEY AND I WOULD AND THAT'S A BETRAYAL TO ME [NOISE]  (fe_03_05863-A-0009)\r\n",
      "    10\tRIGHT RIGHT  (fe_03_05863-A-0010)\r\n",
      "    11\tNO  (fe_03_05863-A-0011)\r\n",
      "    12\tI THINK HUMAN BEINGS ARE PR- UM [LIPSMACK] FRIENDSHIP RELAT- RELATIONSHIPS WITH PEOPLE ARE A LOT MORE IMPORTANT THAN MONEY  (fe_03_05863-A-0012)\r\n",
      "    13\tTHEN YOU WEREN'T REALLY THEIR BEST FRIEND EITHER  (fe_03_05863-A-0013)\r\n",
      "    14\tRIGHT RIGHT  (fe_03_05863-A-0014)\r\n",
      "    15\tNO  (fe_03_05863-A-0015)\r\n",
      "    16\tMM  (fe_03_05863-A-0016)\r\n",
      "    17\tI DON'T THINK ANY MONEY IS WORTH ANYONE'S LIFE UH A HUMAN A PERSON'S LIFE IS WORTH EVERYTHING  (fe_03_05863-A-0017)\r\n",
      "    18\tAMEN [LAUGHTER] IS RIGHT [LAUGHTER]  (fe_03_05863-A-0018)\r\n",
      "    19\tI MEAN I- THERE'S NOT REALLY MUCH THAT WE CAN DEBATE ON THIS BECAUSE WE REALLY AGREED ON IT YOU KNOW [LAUGHTER]  (fe_03_05863-A-0019)\r\n",
      "    20\tRIGHT  (fe_03_05863-A-0020)\r\n",
      "    21\tYEAH  (fe_03_05863-A-0022)\r\n",
      "    22\tACTUALLY MY RIGHT RIGHT  (fe_03_05863-A-0023)\r\n",
      "    23\tI WAS ACTUALLY TALKING TO MY BEST FRIEND ON THE PHONE WHEN I GOT THIS CALL [LAUGHTER] SO I SAID I GOT TO CALL YOU BACK  (fe_03_05863-A-0024)\r\n",
      "    24\tAND MY AND MY BEST FRIEND IS ACTUALLY A RELATIVE  (fe_03_05863-A-0025)\r\n",
      "    25\tSO  (fe_03_05863-A-0026)\r\n"
     ]
    }
   ],
   "source": [
    "%cat -n ./auto-segmented/fe_03_05863.trn | head -25"
   ]
  },
  {
   "cell_type": "code",
   "execution_count": 122,
   "metadata": {
    "ExecuteTime": {
     "end_time": "2019-04-24T01:22:00.181621Z",
     "start_time": "2019-04-24T01:22:00.010403Z"
    }
   },
   "outputs": [
    {
     "name": "stdout",
     "output_type": "stream",
     "text": [
      "     1\tBUT UM (fe_03_05863-A-0021)\r\n",
      "     2\tNO NO (fe_03_05863-A-0045)\r\n",
      "     3\tUM (fe_03_05863-A-0065)\r\n",
      "     4\t[LIPSMACK] OH (fe_03_05863-A-0066)\r\n",
      "     5\tREALLY (fe_03_05863-A-0105)\r\n",
      "     6\tYEAH MHM (fe_03_05863-A-0109)\r\n",
      "     7\tTHAT'S WHAT I SAY MHM (fe_03_05863-A-0113)\r\n",
      "     8\tYOU KNOW (fe_03_05863-A-0121)\r\n",
      "     9\tYEAH (fe_03_05863-A-0122)\r\n",
      "    10\tON ME THERE OOH THAT'S WHY UM I'M I'M LOSING YA (fe_03_05863-A-0125)\r\n",
      "    11\t[NOISE] HELLO HOW ARE YOU DOING MY (fe_03_05863-B-0002)\r\n",
      "    12\tHOW'RE YOU DOING (fe_03_05863-B-0004)\r\n",
      "    13\tMM MM (fe_03_05863-B-0019)\r\n",
      "    14\t[LAUGHTER] OH BOY [SIGH] (fe_03_05863-B-0021)\r\n",
      "    15\tLET'S SEE LET'S SEE (fe_03_05863-B-0022)\r\n",
      "    16\tYOU KNOW (fe_03_05863-B-0027)\r\n",
      "    17\t[NOISE] (fe_03_05863-B-0029)\r\n",
      "    18\tUH-HUH (fe_03_05863-B-0034)\r\n",
      "    19\tYOU LIVE IN CALIFORNIA (fe_03_05863-B-0039)\r\n",
      "    20\tMAN (fe_03_05863-B-0045)\r\n"
     ]
    }
   ],
   "source": [
    "%cat -n ./rejected/fe_03_05863.trn | head -20"
   ]
  },
  {
   "cell_type": "markdown",
   "metadata": {},
   "source": [
    "As indicated in `https://catalog.ldc.upenn.edu/docs/LDC2005T19/bbn_trans_readme.txt`, `.trn` files are in .SNOR format:\n",
    " - mono-case with no syntactic punctuation\n",
    " - each line is one \"utterance\"\n",
    " - each line ends with a unique utterance ID in parentheses\n",
    "\n",
    "Non-speech noises seem to be indicated by square brackets (e.g. `[LAUGHTER]`)."
   ]
  },
  {
   "cell_type": "code",
   "execution_count": 123,
   "metadata": {
    "ExecuteTime": {
     "end_time": "2019-04-24T01:22:00.195422Z",
     "start_time": "2019-04-24T01:22:00.183430Z"
    }
   },
   "outputs": [
    {
     "data": {
      "text/plain": [
       "{'speech_raw': '[LAUGHTER] OH BOY [SIGH]',\n",
       " 'speech': 'oh boy',\n",
       " 'n_words': 2,\n",
       " 'has_words': True,\n",
       " 'utterance_id': 'fe_03_05863-B-0021',\n",
       " 'call_id': '05863',\n",
       " 'speaker': 'B'}"
      ]
     },
     "execution_count": 123,
     "metadata": {},
     "output_type": "execute_result"
    },
    {
     "data": {
      "text/plain": [
       "{'speech_raw': '[LAUGHTER] THE DEAD S',\n",
       " 'speech': 'the dead s',\n",
       " 'n_words': 3,\n",
       " 'has_words': True,\n",
       " 'utterance_id': 'fe_03_10453-A-0023',\n",
       " 'call_id': '10453',\n",
       " 'speaker': 'A'}"
      ]
     },
     "execution_count": 123,
     "metadata": {},
     "output_type": "execute_result"
    }
   ],
   "source": [
    "def parse_trn_line_bbn(bbn_line):\n",
    "    parts = bbn_line.split(' ')\n",
    "    \n",
    "#     utterance_id = parts[-1]\n",
    "    utterance_id = parts[-1][1:-1] #strip parentheses off\n",
    "    \n",
    "    speech_raw_words = parts[:-1]\n",
    "    speech_raw = ' '.join(speech_raw_words)\n",
    "    speech_raw = speech_raw.rstrip()\n",
    "    \n",
    "    if utterance_id == \"(fe_03_07397-A-0028\":\n",
    "        utterance_id = \"fe_03_07397-A-0028\"\n",
    "        speech_raw_words += ['S']\n",
    "        speech_raw += ' S'\n",
    "    elif utterance_id == \"(fe_03_10453-A-0023\":\n",
    "        utterance_id = \"fe_03_10453-A-0023\"\n",
    "        speech_raw_words += ['S']\n",
    "        speech_raw += ' S'\n",
    "    \n",
    "#     speech_filtered_words = [w for w in speech_raw_words if len(w) > 0 and w[0] != '[' and w[-1] != ']']\n",
    "#     speech = ' '.join(speech_filtered_words)\n",
    "#     speech = speech.rstrip()\n",
    "    speech = process(speech_raw)\n",
    "        \n",
    "    line_rel = {'speech_raw':speech_raw,\n",
    "                'speech':speech,\n",
    "                'n_words':len(speech.split(' ')),\n",
    "                'has_words': False if speech == '' else True,\n",
    "                'utterance_id':utterance_id,\n",
    "                'call_id':utterance_id[6:11],\n",
    "                'speaker':utterance_id[12:13]}\n",
    "    \n",
    "    return line_rel\n",
    "\n",
    "parse_trn_line_bbn('[LAUGHTER] OH BOY [SIGH] (fe_03_05863-B-0021)')\n",
    "parse_trn_line_bbn(\"[LAUGHTER] THE DEAD S(fe_03_10453-A-0023)\")"
   ]
  },
  {
   "cell_type": "code",
   "execution_count": 124,
   "metadata": {
    "ExecuteTime": {
     "end_time": "2019-04-24T01:22:00.200974Z",
     "start_time": "2019-04-24T01:22:00.197438Z"
    }
   },
   "outputs": [
    {
     "data": {
      "text/plain": [
       "'10453'"
      ]
     },
     "execution_count": 124,
     "metadata": {},
     "output_type": "execute_result"
    },
    {
     "data": {
      "text/plain": [
       "'A'"
      ]
     },
     "execution_count": 124,
     "metadata": {},
     "output_type": "execute_result"
    }
   ],
   "source": [
    "\"fe_03_10453-A-0023\"[6:11]\n",
    "\"fe_03_10453-A-0023\"[12:13]"
   ]
  },
  {
   "cell_type": "markdown",
   "metadata": {},
   "source": [
    "As indicated in `https://catalog.ldc.upenn.edu/docs/LDC2005T19/bbn_trans_readme.txt`, each line of an `.ana` file indicates the start and end times (in samples) of each utterance:\n",
    " - the last column is an utterance id\n",
    " - the second or third from last column indicates the sample range of the utterance"
   ]
  },
  {
   "cell_type": "code",
   "execution_count": 125,
   "metadata": {
    "ExecuteTime": {
     "end_time": "2019-04-24T01:22:00.377600Z",
     "start_time": "2019-04-24T01:22:00.202059Z"
    }
   },
   "outputs": [
    {
     "name": "stdout",
     "output_type": "stream",
     "text": [
      "     1\tfe_03_05863 -c 1 -t NIST_1A -f 966480-974640 -o fe_03_05863-A-0021\r\n",
      "     2\tfe_03_05863 -c 1 -t NIST_1A -f 1821360-1826880 -o fe_03_05863-A-0045\r\n",
      "     3\tfe_03_05863 -c 1 -t NIST_1A -f 2573120-2579840 -o fe_03_05863-A-0065\r\n",
      "     4\tfe_03_05863 -c 1 -t NIST_1A -f 2592080-2598160 -o fe_03_05863-A-0066\r\n",
      "     5\tfe_03_05863 -c 1 -t NIST_1A -f 4225360-4233200 -o fe_03_05863-A-0105\r\n",
      "     6\tfe_03_05863 -c 1 -t NIST_1A -f 4392240-4404720 -o fe_03_05863-A-0109\r\n",
      "     7\tfe_03_05863 -c 1 -t NIST_1A -f 4482880-4492720 -o fe_03_05863-A-0113\r\n",
      "     8\tfe_03_05863 -c 1 -t NIST_1A -f 4687600-4694240 -o fe_03_05863-A-0121\r\n",
      "     9\tfe_03_05863 -c 1 -t NIST_1A -f 4702240-4710880 -o fe_03_05863-A-0122\r\n",
      "    10\tfe_03_05863 -c 1 -t NIST_1A -f 4772000-4799200 -o fe_03_05863-A-0125\r\n",
      "    11\tfe_03_05863 -c 2 -t NIST_1A -f 20240-32480 -o fe_03_05863-B-0002\r\n",
      "    12\tfe_03_05863 -c 2 -t NIST_1A -f 71360-80240 -o fe_03_05863-B-0004\r\n",
      "    13\tfe_03_05863 -c 2 -t NIST_1A -f 755440-762000 -o fe_03_05863-B-0019\r\n",
      "    14\tfe_03_05863 -c 2 -t NIST_1A -f 806960-840560 -o fe_03_05863-B-0021\r\n",
      "    15\tfe_03_05863 -c 2 -t NIST_1A -f 843120-860480 -o fe_03_05863-B-0022\r\n",
      "    16\tfe_03_05863 -c 2 -t NIST_1A -f 1083360-1090720 -o fe_03_05863-B-0027\r\n",
      "    17\tfe_03_05863 -c 2 -t NIST_1A -f 1208480-1213200 -o fe_03_05863-B-0029\r\n",
      "    18\tfe_03_05863 -c 2 -t NIST_1A -f 1456400-1462880 -o fe_03_05863-B-0034\r\n",
      "    19\tfe_03_05863 -c 2 -t NIST_1A -f 1609280-1620960 -o fe_03_05863-B-0039\r\n",
      "    20\tfe_03_05863 -c 2 -t NIST_1A -f 1829200-1836720 -o fe_03_05863-B-0045\r\n"
     ]
    }
   ],
   "source": [
    "%cat -n ./rejected/fe_03_05863.ana | head -20"
   ]
  },
  {
   "cell_type": "code",
   "execution_count": 126,
   "metadata": {
    "ExecuteTime": {
     "end_time": "2019-04-24T01:22:00.388153Z",
     "start_time": "2019-04-24T01:22:00.380149Z"
    }
   },
   "outputs": [
    {
     "data": {
      "text/plain": [
       "['fe_03_05863',\n",
       " '-c',\n",
       " '2',\n",
       " '-t',\n",
       " 'NIST_1A',\n",
       " '-f',\n",
       " '1829200-1836720',\n",
       " '-o',\n",
       " 'fe_03_05863-B-0045']"
      ]
     },
     "execution_count": 126,
     "metadata": {},
     "output_type": "execute_result"
    },
    {
     "data": {
      "text/plain": [
       "'1829200-1836720'"
      ]
     },
     "execution_count": 126,
     "metadata": {},
     "output_type": "execute_result"
    },
    {
     "data": {
      "text/plain": [
       "['1829200', '1836720']"
      ]
     },
     "execution_count": 126,
     "metadata": {},
     "output_type": "execute_result"
    }
   ],
   "source": [
    "\"fe_03_05863 -c 2 -t NIST_1A -f 1829200-1836720 -o fe_03_05863-B-0045\".split(' ')\n",
    "\"fe_03_05863 -c 2 -t NIST_1A -f 1829200-1836720 -o fe_03_05863-B-0045\".split(' ')[-3]\n",
    "\"fe_03_05863 -c 2 -t NIST_1A -f 1829200-1836720 -o fe_03_05863-B-0045\".split(' ')[-3].split('-')"
   ]
  },
  {
   "cell_type": "code",
   "execution_count": 127,
   "metadata": {
    "ExecuteTime": {
     "end_time": "2019-04-24T01:22:00.396009Z",
     "start_time": "2019-04-24T01:22:00.389798Z"
    }
   },
   "outputs": [
    {
     "data": {
      "text/plain": [
       "{'utterance_id': 'fe_03_05863-B-0045',\n",
       " 'start': 1829200,\n",
       " 'end': 1836720,\n",
       " 'duration': 7520,\n",
       " 'audio_fn': 'fe_03_05863.sph',\n",
       " 'channel': 2,\n",
       " 'type': 'NIST_1A'}"
      ]
     },
     "execution_count": 127,
     "metadata": {},
     "output_type": "execute_result"
    }
   ],
   "source": [
    "def parse_ana_line_bbn(bbn_line):\n",
    "    parts = bbn_line.split(' ')\n",
    "    \n",
    "#     utterance_id = parts[-1]\n",
    "    utterance_id = parts[-1]\n",
    "    \n",
    "    audio_ext = '.sph'\n",
    "    audio_fn = parts[0] + audio_ext\n",
    "    \n",
    "    channel = int(parts[2])\n",
    "    \n",
    "    ch_type = parts[4]\n",
    "    \n",
    "    utterance_sample_range = parts[-3]\n",
    "    \n",
    "    start_sample = int(utterance_sample_range.split('-')[0])\n",
    "    end_sample = int(utterance_sample_range.split('-')[1])\n",
    "    duration = end_sample - start_sample\n",
    "    \n",
    "    line_rel = {'utterance_id':utterance_id,\n",
    "                'start':start_sample,\n",
    "                'end':end_sample,\n",
    "                'duration':duration,\n",
    "                'audio_fn':audio_fn,\n",
    "                'channel':channel,\n",
    "                'type':ch_type}\n",
    "    \n",
    "    return line_rel\n",
    "\n",
    "parse_ana_line_bbn(\"fe_03_05863 -c 2 -t NIST_1A -f 1829200-1836720 -o fe_03_05863-B-0045\")"
   ]
  },
  {
   "cell_type": "markdown",
   "metadata": {},
   "source": [
    "### Parsing files"
   ]
  },
  {
   "cell_type": "code",
   "execution_count": 128,
   "metadata": {
    "ExecuteTime": {
     "end_time": "2019-04-24T01:22:00.400529Z",
     "start_time": "2019-04-24T01:22:00.397126Z"
    }
   },
   "outputs": [],
   "source": [
    "def parse_trn_file_bbn(bbn_fp):\n",
    "    bbn_lines = []\n",
    "    with open(bbn_fp, 'r') as file:\n",
    "        for line in file:\n",
    "            bbn_lines.append(line.rstrip())\n",
    "    parsed_lines = [parse_trn_line_bbn(l) for l in bbn_lines]\n",
    "    return parsed_lines"
   ]
  },
  {
   "cell_type": "code",
   "execution_count": 129,
   "metadata": {
    "ExecuteTime": {
     "end_time": "2019-04-24T01:22:00.407499Z",
     "start_time": "2019-04-24T01:22:00.401675Z"
    }
   },
   "outputs": [
    {
     "data": {
      "text/plain": [
       "'/mnt/truffle/corpora/fisher_english_transcripts/fe_03_p2_tran/data/bbn_orig/058'"
      ]
     },
     "execution_count": 129,
     "metadata": {},
     "output_type": "execute_result"
    }
   ],
   "source": [
    "%pwd"
   ]
  },
  {
   "cell_type": "code",
   "execution_count": 130,
   "metadata": {
    "ExecuteTime": {
     "end_time": "2019-04-24T01:22:00.581837Z",
     "start_time": "2019-04-24T01:22:00.408924Z"
    }
   },
   "outputs": [
    {
     "name": "stdout",
     "output_type": "stream",
     "text": [
      "\u001b[0m\u001b[01;32mfe_03_05863.ana\u001b[0m*  \u001b[01;32mfe_03_05876.trn\u001b[0m*  \u001b[01;32mfe_03_05888.ana\u001b[0m*  \u001b[01;32mfe_03_05889.trn\u001b[0m*\r\n",
      "\u001b[01;32mfe_03_05863.trn\u001b[0m*  \u001b[01;32mfe_03_05887.ana\u001b[0m*  \u001b[01;32mfe_03_05888.trn\u001b[0m*  \u001b[01;32mfe_03_05898.ana\u001b[0m*\r\n",
      "\u001b[01;32mfe_03_05876.ana\u001b[0m*  \u001b[01;32mfe_03_05887.trn\u001b[0m*  \u001b[01;32mfe_03_05889.ana\u001b[0m*  \u001b[01;32mfe_03_05898.trn\u001b[0m*\r\n"
     ]
    }
   ],
   "source": [
    "%ls ./auto-segmented"
   ]
  },
  {
   "cell_type": "code",
   "execution_count": 131,
   "metadata": {
    "ExecuteTime": {
     "end_time": "2019-04-24T01:22:00.613584Z",
     "start_time": "2019-04-24T01:22:00.583896Z"
    }
   },
   "outputs": [
    {
     "data": {
      "text/plain": [
       "[{'speech_raw': 'H- HI THIS IS DEBBIE',\n",
       "  'speech': '<rem> hi this is debbie',\n",
       "  'n_words': 5,\n",
       "  'has_words': True,\n",
       "  'utterance_id': 'fe_03_05876-A-0001',\n",
       "  'call_id': '05876',\n",
       "  'speaker': 'A'},\n",
       " {'speech_raw': 'HI SYLVIA',\n",
       "  'speech': 'hi sylvia',\n",
       "  'n_words': 2,\n",
       "  'has_words': True,\n",
       "  'utterance_id': 'fe_03_05876-A-0002',\n",
       "  'call_id': '05876',\n",
       "  'speaker': 'A'},\n",
       " {'speech_raw': \"[LAUGHTER] I'M JUST TRYING TO GET OVER THIS QUESTION\",\n",
       "  'speech': \"i'm just trying to get over this question\",\n",
       "  'n_words': 8,\n",
       "  'has_words': True,\n",
       "  'utterance_id': 'fe_03_05876-A-0003',\n",
       "  'call_id': '05876',\n",
       "  'speaker': 'A'},\n",
       " {'speech_raw': \"UH NO IT'S MY SECOND CALL BUT THEY JUST SEEM TO GET MO- [LAUGHTER] MORE AND MORE RIDICULOUS\",\n",
       "  'speech': \"uh no it's my second call but they just seem to get <rem> more and more ridiculous\",\n",
       "  'n_words': 17,\n",
       "  'has_words': True,\n",
       "  'utterance_id': 'fe_03_05876-A-0005',\n",
       "  'call_id': '05876',\n",
       "  'speaker': 'A'},\n",
       " {'speech_raw': 'OH REALLY [LAUGHTER] UM',\n",
       "  'speech': 'oh really um',\n",
       "  'n_words': 3,\n",
       "  'has_words': True,\n",
       "  'utterance_id': 'fe_03_05876-A-0006',\n",
       "  'call_id': '05876',\n",
       "  'speaker': 'A'},\n",
       " {'speech_raw': 'WELL NO MY BEST FRIEND UM',\n",
       "  'speech': 'well no my best friend um',\n",
       "  'n_words': 6,\n",
       "  'has_words': True,\n",
       "  'utterance_id': 'fe_03_05876-A-0007',\n",
       "  'call_id': '05876',\n",
       "  'speaker': 'A'},\n",
       " {'speech_raw': \"I DON'T KNOW MY INSTINCT MY INITIAL INSTINCT IS TO SAY NO UH YOU KNOW\",\n",
       "  'speech': \"i don't know my instinct my initial instinct is to say no uh you know\",\n",
       "  'n_words': 15,\n",
       "  'has_words': True,\n",
       "  'utterance_id': 'fe_03_05876-A-0008',\n",
       "  'call_id': '05876',\n",
       "  'speaker': 'A'},\n",
       " {'speech_raw': 'HOWEVER I GUESS [LAUGHTER] IF I HAD TO THINK ABOUT IT A WHILE',\n",
       "  'speech': 'however i guess if i had to think about it a while',\n",
       "  'n_words': 12,\n",
       "  'has_words': True,\n",
       "  'utterance_id': 'fe_03_05876-A-0009',\n",
       "  'call_id': '05876',\n",
       "  'speaker': 'A'},\n",
       " {'speech_raw': 'SEE I COULD DO SO MUCH WITH A MILLION DOLLARS HELP SO MANY PEOPLE BUT [LIPSMACK]',\n",
       "  'speech': 'see i could do so much with a million dollars help so many people but',\n",
       "  'n_words': 15,\n",
       "  'has_words': True,\n",
       "  'utterance_id': 'fe_03_05876-A-0010',\n",
       "  'call_id': '05876',\n",
       "  'speaker': 'A'},\n",
       " {'speech_raw': \"I DON'T KNOW IT JUST DOESN'T IT DOESN'T FEEL RIGHT TO TO TAKE TO HAVE THIS STRING ATTACHED YOU KNOW FIRST OF ALL\",\n",
       "  'speech': \"i don't know it just doesn't it doesn't feel right to to take to have this string attached you know first of all\",\n",
       "  'n_words': 23,\n",
       "  'has_words': True,\n",
       "  'utterance_id': 'fe_03_05876-A-0011',\n",
       "  'call_id': '05876',\n",
       "  'speaker': 'A'},\n",
       " {'speech_raw': \"[LAUGHTER] SO DO I. THAT'S RIGHT\",\n",
       "  'speech': \"so do i. that's right\",\n",
       "  'n_words': 5,\n",
       "  'has_words': True,\n",
       "  'utterance_id': 'fe_03_05876-A-0012',\n",
       "  'call_id': '05876',\n",
       "  'speaker': 'A'},\n",
       " {'speech_raw': \"YOU'RE RIGHT\",\n",
       "  'speech': \"you're right\",\n",
       "  'n_words': 2,\n",
       "  'has_words': True,\n",
       "  'utterance_id': 'fe_03_05876-A-0013',\n",
       "  'call_id': '05876',\n",
       "  'speaker': 'A'},\n",
       " {'speech_raw': \"THAT'S TRUE [NOISE]\",\n",
       "  'speech': \"that's true\",\n",
       "  'n_words': 2,\n",
       "  'has_words': True,\n",
       "  'utterance_id': 'fe_03_05876-A-0014',\n",
       "  'call_id': '05876',\n",
       "  'speaker': 'A'},\n",
       " {'speech_raw': 'MHM',\n",
       "  'speech': 'mhm',\n",
       "  'n_words': 1,\n",
       "  'has_words': True,\n",
       "  'utterance_id': 'fe_03_05876-A-0015',\n",
       "  'call_id': '05876',\n",
       "  'speaker': 'A'},\n",
       " {'speech_raw': 'RIGHT',\n",
       "  'speech': 'right',\n",
       "  'n_words': 1,\n",
       "  'has_words': True,\n",
       "  'utterance_id': 'fe_03_05876-A-0016',\n",
       "  'call_id': '05876',\n",
       "  'speaker': 'A'},\n",
       " {'speech_raw': \"NO YOU'RE RIGHT THERE'S LIKE A REAL RIPPLING EFFECT AND THEN IF YOUR IF YOUR HUSBAND OR BOYFRIEND KNOWS HER TOO IT WOULD BE IT W- YOU KNOW WHAT IF THEY WANTED TO MAINTAIN A FRIENDSHIP AND YOU COULDN'T BECAUSE OF THIS AGREEMENT\",\n",
       "  'speech': \"no you're right there's like a real rippling effect and then if your if your husband or boyfriend knows her too it would be it <rem> you know what if they wanted to maintain a friendship and you couldn't because of this agreement\",\n",
       "  'n_words': 43,\n",
       "  'has_words': True,\n",
       "  'utterance_id': 'fe_03_05876-A-0017',\n",
       "  'call_id': '05876',\n",
       "  'speaker': 'A'},\n",
       " {'speech_raw': \"RIGHT EXACTLY NO NO I THINK I THINK IT'S A REALLY IT'S [NOISE]\",\n",
       "  'speech': \"right exactly no no i think i think it's a really it's\",\n",
       "  'n_words': 12,\n",
       "  'has_words': True,\n",
       "  'utterance_id': 'fe_03_05876-A-0018',\n",
       "  'call_id': '05876',\n",
       "  'speaker': 'A'},\n",
       " {'speech_raw': \"I I DON'T KNOW I GUESS THERE COULD BE AN ARGUMENT MADE FOR TAKING IT\",\n",
       "  'speech': \"i i don't know i guess there could be an argument made for taking it\",\n",
       "  'n_words': 15,\n",
       "  'has_words': True,\n",
       "  'utterance_id': 'fe_03_05876-A-0019',\n",
       "  'call_id': '05876',\n",
       "  'speaker': 'A'},\n",
       " {'speech_raw': 'AND I THINK BASED ON JUST THE AMOUNT [LIPSMACK]',\n",
       "  'speech': 'and i think based on just the amount',\n",
       "  'n_words': 8,\n",
       "  'has_words': True,\n",
       "  'utterance_id': 'fe_03_05876-A-0020',\n",
       "  'call_id': '05876',\n",
       "  'speaker': 'A'},\n",
       " {'speech_raw': 'AND LIKE I SAID THE FACT THAT YOU COULD DO A LOT WITH IT',\n",
       "  'speech': 'and like i said the fact that you could do a lot with it',\n",
       "  'n_words': 14,\n",
       "  'has_words': True,\n",
       "  'utterance_id': 'fe_03_05876-A-0021',\n",
       "  'call_id': '05876',\n",
       "  'speaker': 'A'},\n",
       " {'speech_raw': \"UH DEPENDING ON YOUR YOU KNOW SITUATION AND IT'S INTERESTING QUESTION THOUGH IT IT SAYS YOU DON'T HAVE YOU'RE NOT ALLOWED TO SPEAK TO THEM ANYMORE BUT COULD YOU POSSIBLY GIVE THEM MONEY [LAUGHTER] WELL IF YOU MADE AN AGREEMENT WITH THAT PERSON\",\n",
       "  'speech': \"uh depending on your you know situation and it's interesting question though it it says you don't have you're not allowed to speak to them anymore but could you possibly give them money well if you made an agreement with that person\",\n",
       "  'n_words': 42,\n",
       "  'has_words': True,\n",
       "  'utterance_id': 'fe_03_05876-A-0022',\n",
       "  'call_id': '05876',\n",
       "  'speaker': 'A'},\n",
       " {'speech_raw': \"I COULD NEVER I'LL NEVER SPEAK TO YOU AGAIN BUT\",\n",
       "  'speech': \"i could never i'll never speak to you again but\",\n",
       "  'n_words': 10,\n",
       "  'has_words': True,\n",
       "  'utterance_id': 'fe_03_05876-A-0023',\n",
       "  'call_id': '05876',\n",
       "  'speaker': 'A'},\n",
       " {'speech_raw': \"I'LL GIVE YOU HALF A MILLION DOLLARS\",\n",
       "  'speech': \"i'll give you half a million dollars\",\n",
       "  'n_words': 7,\n",
       "  'has_words': True,\n",
       "  'utterance_id': 'fe_03_05876-A-0024',\n",
       "  'call_id': '05876',\n",
       "  'speaker': 'A'},\n",
       " {'speech_raw': 'WHAT KIND OF A BENEFACTOR IS THAT ANY WAY',\n",
       "  'speech': 'what kind of a benefactor is that any way',\n",
       "  'n_words': 9,\n",
       "  'has_words': True,\n",
       "  'utterance_id': 'fe_03_05876-A-0025',\n",
       "  'call_id': '05876',\n",
       "  'speaker': 'A'},\n",
       " {'speech_raw': \"I DON'T THINK IT'S A VERY GOOD DEFINITION OF A BENEFA- IN FACT I GET REALLY TICKED OFF UM\",\n",
       "  'speech': \"i don't think it's a very good definition of a <rem> in fact i get really ticked off um\",\n",
       "  'n_words': 19,\n",
       "  'has_words': True,\n",
       "  'utterance_id': 'fe_03_05876-A-0026',\n",
       "  'call_id': '05876',\n",
       "  'speaker': 'A'},\n",
       " {'speech_raw': '[LIPSMACK] ESPECIALLY IN NEW YORK YOU SEE THIS ALL THE TIME WHERE THESE BENEFACTORS ARE CONSTANTLY HAVING THEIR NAMES PLASTERED ALL OVER MUSEUMS GALLERIES AND',\n",
       "  'speech': 'especially in new york you see this all the time where these benefactors are constantly having their names plastered all over museums galleries and',\n",
       "  'n_words': 24,\n",
       "  'has_words': True,\n",
       "  'utterance_id': 'fe_03_05876-A-0027',\n",
       "  'call_id': '05876',\n",
       "  'speaker': 'A'},\n",
       " {'speech_raw': \"PLASTERED EVERYWHERE JUST 'CAUSE THEY'VE GIVEN THEIR MONEY TO CERTAIN PLACES LIKE WHATEVER HAPPENED TO LIKE YOU KNOW SORT OF ANONYMITY AND JUST A HUMBLE SORT OF OKAY HERE\",\n",
       "  'speech': \"plastered everywhere just 'cause they've given their money to certain places like whatever happened to like you know sort of anonymity and just a humble sort of okay here\",\n",
       "  'n_words': 29,\n",
       "  'has_words': True,\n",
       "  'utterance_id': 'fe_03_05876-A-0028',\n",
       "  'call_id': '05876',\n",
       "  'speaker': 'A'},\n",
       " {'speech_raw': \"YOU KNOW HERE'S TEN MILLION DOLLARS TO REBUILD THIS MUSEUM WING BUT YOU DON'T HAVE TO NAME IT AFTER ME\",\n",
       "  'speech': \"you know here's ten million dollars to rebuild this museum wing but you don't have to name it after me\",\n",
       "  'n_words': 20,\n",
       "  'has_words': True,\n",
       "  'utterance_id': 'fe_03_05876-A-0029',\n",
       "  'call_id': '05876',\n",
       "  'speaker': 'A'},\n",
       " {'speech_raw': 'JUST FOR MONEY',\n",
       "  'speech': 'just for money',\n",
       "  'n_words': 3,\n",
       "  'has_words': True,\n",
       "  'utterance_id': 'fe_03_05876-A-0031',\n",
       "  'call_id': '05876',\n",
       "  'speaker': 'A'},\n",
       " {'speech_raw': 'WELL ON HEAT',\n",
       "  'speech': 'well on heat',\n",
       "  'n_words': 3,\n",
       "  'has_words': True,\n",
       "  'utterance_id': 'fe_03_05876-A-0032',\n",
       "  'call_id': '05876',\n",
       "  'speaker': 'A'},\n",
       " {'speech_raw': \"NO YOU'RE RIGHT BUT I THINK ON T._V. THE FACTOR IS THE SAME RIGHT\",\n",
       "  'speech': \"no you're right but i think on t._v. the factor is the same right\",\n",
       "  'n_words': 14,\n",
       "  'has_words': True,\n",
       "  'utterance_id': 'fe_03_05876-A-0033',\n",
       "  'call_id': '05876',\n",
       "  'speaker': 'A'},\n",
       " {'speech_raw': 'EVERYBODY WANTS TO BE ON T._V.',\n",
       "  'speech': 'everybody wants to be on t._v.',\n",
       "  'n_words': 6,\n",
       "  'has_words': True,\n",
       "  'utterance_id': 'fe_03_05876-A-0034',\n",
       "  'call_id': '05876',\n",
       "  'speaker': 'A'},\n",
       " {'speech_raw': \"IT'S PATHETIC\",\n",
       "  'speech': \"it's pathetic\",\n",
       "  'n_words': 2,\n",
       "  'has_words': True,\n",
       "  'utterance_id': 'fe_03_05876-A-0035',\n",
       "  'call_id': '05876',\n",
       "  'speaker': 'A'},\n",
       " {'speech_raw': 'RIGHT RIGHT',\n",
       "  'speech': 'right right',\n",
       "  'n_words': 2,\n",
       "  'has_words': True,\n",
       "  'utterance_id': 'fe_03_05876-A-0036',\n",
       "  'call_id': '05876',\n",
       "  'speaker': 'A'},\n",
       " {'speech_raw': \"WHERE WHERE'S THE LIMIT\",\n",
       "  'speech': \"where where's the limit\",\n",
       "  'n_words': 4,\n",
       "  'has_words': True,\n",
       "  'utterance_id': 'fe_03_05876-A-0038',\n",
       "  'call_id': '05876',\n",
       "  'speaker': 'A'},\n",
       " {'speech_raw': \"NO YOU'RE RIGHT\",\n",
       "  'speech': \"no you're right\",\n",
       "  'n_words': 3,\n",
       "  'has_words': True,\n",
       "  'utterance_id': 'fe_03_05876-A-0039',\n",
       "  'call_id': '05876',\n",
       "  'speaker': 'A'},\n",
       " {'speech_raw': \"NO YOU'RE RIGHT I LIKE THE USE OF THE WORD PROSTITUTION YOU'RE ABSOLUTELY RIGHT\",\n",
       "  'speech': \"no you're right i like the use of the word prostitution you're absolutely right\",\n",
       "  'n_words': 14,\n",
       "  'has_words': True,\n",
       "  'utterance_id': 'fe_03_05876-A-0040',\n",
       "  'call_id': '05876',\n",
       "  'speaker': 'A'},\n",
       " {'speech_raw': '[MN]',\n",
       "  'speech': '',\n",
       "  'n_words': 1,\n",
       "  'has_words': False,\n",
       "  'utterance_id': 'fe_03_05876-A-0041',\n",
       "  'call_id': '05876',\n",
       "  'speaker': 'A'},\n",
       " {'speech_raw': 'DON-',\n",
       "  'speech': '<rem>',\n",
       "  'n_words': 1,\n",
       "  'has_words': True,\n",
       "  'utterance_id': 'fe_03_05876-A-0042',\n",
       "  'call_id': '05876',\n",
       "  'speaker': 'A'},\n",
       " {'speech_raw': \"DON'T YOU THINK THOUGH THAT\",\n",
       "  'speech': \"don't you think though that\",\n",
       "  'n_words': 5,\n",
       "  'has_words': True,\n",
       "  'utterance_id': 'fe_03_05876-A-0043',\n",
       "  'call_id': '05876',\n",
       "  'speaker': 'A'},\n",
       " {'speech_raw': \"UM THAT THEY IT'S GOTTEN A LOT WORSE IT'S BECO- THAT THIS PHENOMENON HAS BECOME MORE ACUTE OVER THE LAST FIVE YEARS OR SO I MEAN I THINK AMERICAN SOCIETY IS GENERALLY VERY MONEY ORIENTED UM\",\n",
       "  'speech': \"um that they it's gotten a lot worse it's <rem> that this phenomenon has become more acute over the last five years or so i mean i think american society is generally very money oriented um\",\n",
       "  'n_words': 36,\n",
       "  'has_words': True,\n",
       "  'utterance_id': 'fe_03_05876-A-0044',\n",
       "  'call_id': '05876',\n",
       "  'speaker': 'A'},\n",
       " {'speech_raw': \"BUT IT'S\",\n",
       "  'speech': \"but it's\",\n",
       "  'n_words': 2,\n",
       "  'has_words': True,\n",
       "  'utterance_id': 'fe_03_05876-A-0045',\n",
       "  'call_id': '05876',\n",
       "  'speaker': 'A'},\n",
       " {'speech_raw': \"I THINK IT'S IT'S REACHING SOME KIND OF PEAK YOU KNOW WITH ALL THESE REALITY SHOWS AS YOU SAID AND\",\n",
       "  'speech': \"i think it's it's reaching some kind of peak you know with all these reality shows as you said and\",\n",
       "  'n_words': 20,\n",
       "  'has_words': True,\n",
       "  'utterance_id': 'fe_03_05876-A-0046',\n",
       "  'call_id': '05876',\n",
       "  'speaker': 'A'},\n",
       " {'speech_raw': \"I DON'T KNOW\",\n",
       "  'speech': \"i don't know\",\n",
       "  'n_words': 3,\n",
       "  'has_words': True,\n",
       "  'utterance_id': 'fe_03_05876-A-0047',\n",
       "  'call_id': '05876',\n",
       "  'speaker': 'A'},\n",
       " {'speech_raw': \"IT'S KIND OF JUVENILE ISN'T IT ISN'T IT KIND OF LIKE BEING BACK IN HIGH SCHOOL OOH IS SHE GOING TO DO THAT AND WOULD SHE SWALLOW THAT SNAIL\",\n",
       "  'speech': \"it's kind of juvenile isn't it isn't it kind of like being back in high school ooh is she going to do that and would she swallow that snail\",\n",
       "  'n_words': 29,\n",
       "  'has_words': True,\n",
       "  'utterance_id': 'fe_03_05876-A-0049',\n",
       "  'call_id': '05876',\n",
       "  'speaker': 'A'},\n",
       " {'speech_raw': \"THAT'S TRUE\",\n",
       "  'speech': \"that's true\",\n",
       "  'n_words': 2,\n",
       "  'has_words': True,\n",
       "  'utterance_id': 'fe_03_05876-A-0050',\n",
       "  'call_id': '05876',\n",
       "  'speaker': 'A'},\n",
       " {'speech_raw': \"YOU'RE RIGHT IN FACT I THINK I HEARD THERE'S A BIG BACKLASH IN HOLLYWOOD ISN'T THERE\",\n",
       "  'speech': \"you're right in fact i think i heard there's a big backlash in hollywood isn't there\",\n",
       "  'n_words': 16,\n",
       "  'has_words': True,\n",
       "  'utterance_id': 'fe_03_05876-A-0051',\n",
       "  'call_id': '05876',\n",
       "  'speaker': 'A'},\n",
       " {'speech_raw': 'QUITE A LOT OF ACTORS LIKE A LITTLE UPSET BECAUSE THEY',\n",
       "  'speech': 'quite a lot of actors like a little upset because they',\n",
       "  'n_words': 11,\n",
       "  'has_words': True,\n",
       "  'utterance_id': 'fe_03_05876-A-0052',\n",
       "  'call_id': '05876',\n",
       "  'speaker': 'A'},\n",
       " {'speech_raw': 'ARE THERE NO WRITERS EITHER THERE MUST BE WRITERS NO',\n",
       "  'speech': 'are there no writers either there must be writers no',\n",
       "  'n_words': 10,\n",
       "  'has_words': True,\n",
       "  'utterance_id': 'fe_03_05876-A-0053',\n",
       "  'call_id': '05876',\n",
       "  'speaker': 'A'},\n",
       " {'speech_raw': \"NO RIGHT NO DIALOG BUT THE IDEAS YEAH THERE'S AN IDEA PERSON\",\n",
       "  'speech': \"no right no dialog but the ideas yeah there's an idea person\",\n",
       "  'n_words': 12,\n",
       "  'has_words': True,\n",
       "  'utterance_id': 'fe_03_05876-A-0054',\n",
       "  'call_id': '05876',\n",
       "  'speaker': 'A'},\n",
       " {'speech_raw': \"YEAH I'M TOTALLY WITH YOU I TOTALLY AGREE AND UM [LIPSMACK] I THINK IT'S DISGUSTING\",\n",
       "  'speech': \"yeah i'm totally with you i totally agree and um i think it's disgusting\",\n",
       "  'n_words': 14,\n",
       "  'has_words': True,\n",
       "  'utterance_id': 'fe_03_05876-A-0055',\n",
       "  'call_id': '05876',\n",
       "  'speaker': 'A'},\n",
       " {'speech_raw': \"BUT I THINK IT'S LIKE I SAID I THINK IT'S A REFLECTION OF JUST HOW SHALLOW AND PETTY AMERICAN SOCIETY HAS BECOME OR IS BECOMING OR WHATEVER\",\n",
       "  'speech': \"but i think it's like i said i think it's a reflection of just how shallow and petty american society has become or is becoming or whatever\",\n",
       "  'n_words': 27,\n",
       "  'has_words': True,\n",
       "  'utterance_id': 'fe_03_05876-A-0056',\n",
       "  'call_id': '05876',\n",
       "  'speaker': 'A'},\n",
       " {'speech_raw': 'UM',\n",
       "  'speech': 'um',\n",
       "  'n_words': 1,\n",
       "  'has_words': True,\n",
       "  'utterance_id': 'fe_03_05876-A-0057',\n",
       "  'call_id': '05876',\n",
       "  'speaker': 'A'},\n",
       " {'speech_raw': 'SO',\n",
       "  'speech': 'so',\n",
       "  'n_words': 1,\n",
       "  'has_words': True,\n",
       "  'utterance_id': 'fe_03_05876-A-0058',\n",
       "  'call_id': '05876',\n",
       "  'speaker': 'A'},\n",
       " {'speech_raw': 'YES SORRY',\n",
       "  'speech': 'yes sorry',\n",
       "  'n_words': 2,\n",
       "  'has_words': True,\n",
       "  'utterance_id': 'fe_03_05876-A-0059',\n",
       "  'call_id': '05876',\n",
       "  'speaker': 'A'},\n",
       " {'speech_raw': 'YEAH',\n",
       "  'speech': 'yeah',\n",
       "  'n_words': 1,\n",
       "  'has_words': True,\n",
       "  'utterance_id': 'fe_03_05876-A-0060',\n",
       "  'call_id': '05876',\n",
       "  'speaker': 'A'},\n",
       " {'speech_raw': 'CREATING YOUR OWN DESTINY',\n",
       "  'speech': 'creating your own destiny',\n",
       "  'n_words': 4,\n",
       "  'has_words': True,\n",
       "  'utterance_id': 'fe_03_05876-A-0061',\n",
       "  'call_id': '05876',\n",
       "  'speaker': 'A'},\n",
       " {'speech_raw': \"OF COURSE WHO'S TO SAY THAT YOU NEVER I MEAN [MN]\",\n",
       "  'speech': \"of course who's to say that you never i mean\",\n",
       "  'n_words': 10,\n",
       "  'has_words': True,\n",
       "  'utterance_id': 'fe_03_05876-A-0062',\n",
       "  'call_id': '05876',\n",
       "  'speaker': 'A'},\n",
       " {'speech_raw': \"IF IT'S\",\n",
       "  'speech': \"if it's\",\n",
       "  'n_words': 2,\n",
       "  'has_words': True,\n",
       "  'utterance_id': 'fe_03_05876-A-0063',\n",
       "  'call_id': '05876',\n",
       "  'speaker': 'A'},\n",
       " {'speech_raw': \"[MN] IT'S LIKE A GENTLEMAN'S AGREEMENT ISN'T IT\",\n",
       "  'speech': \"it's like a gentleman's agreement isn't it\",\n",
       "  'n_words': 7,\n",
       "  'has_words': True,\n",
       "  'utterance_id': 'fe_03_05876-A-0064',\n",
       "  'call_id': '05876',\n",
       "  'speaker': 'A'},\n",
       " {'speech_raw': \"I MEAN WHO'S TO SAY THAT YOU COULDN'T TAKE THE MONEY AGREE TO IT AND THEN GO TALK TO YOUR FRIEND I MEAN\",\n",
       "  'speech': \"i mean who's to say that you couldn't take the money agree to it and then go talk to your friend i mean\",\n",
       "  'n_words': 23,\n",
       "  'has_words': True,\n",
       "  'utterance_id': 'fe_03_05876-A-0065',\n",
       "  'call_id': '05876',\n",
       "  'speaker': 'A'},\n",
       " {'speech_raw': \"THERE'S THAT BUT UM [LIPSMACK]\",\n",
       "  'speech': \"there's that but um\",\n",
       "  'n_words': 4,\n",
       "  'has_words': True,\n",
       "  'utterance_id': 'fe_03_05876-A-0067',\n",
       "  'call_id': '05876',\n",
       "  'speaker': 'A'},\n",
       " {'speech_raw': \"I DON'T KNOW I THINK IT'S UH YEAH IT'S LIKE YOU SAID IT'S KINDA LIKE A SHOCK MAYBE IT'S A SHOCK QUESTION [LAUGHTER]\",\n",
       "  'speech': \"i don't know i think it's uh yeah it's like you said it's kinda like a shock maybe it's a shock question\",\n",
       "  'n_words': 22,\n",
       "  'has_words': True,\n",
       "  'utterance_id': 'fe_03_05876-A-0068',\n",
       "  'call_id': '05876',\n",
       "  'speaker': 'A'},\n",
       " {'speech_raw': 'THIS IS ALSO MY SECOND CALL THE FIRST ONE WAS ABOUT UM LIKE RELATIONSHIPS',\n",
       "  'speech': 'this is also my second call the first one was about um like relationships',\n",
       "  'n_words': 14,\n",
       "  'has_words': True,\n",
       "  'utterance_id': 'fe_03_05876-A-0069',\n",
       "  'call_id': '05876',\n",
       "  'speaker': 'A'},\n",
       " {'speech_raw': 'AND WHAT YOU THINK IS THE BEST TRAIT IN SOMEONE THAT',\n",
       "  'speech': 'and what you think is the best trait in someone that',\n",
       "  'n_words': 11,\n",
       "  'has_words': True,\n",
       "  'utterance_id': 'fe_03_05876-A-0070',\n",
       "  'call_id': '05876',\n",
       "  'speaker': 'A'},\n",
       " {'speech_raw': 'OH REALLY',\n",
       "  'speech': 'oh really',\n",
       "  'n_words': 2,\n",
       "  'has_words': True,\n",
       "  'utterance_id': 'fe_03_05876-A-0071',\n",
       "  'call_id': '05876',\n",
       "  'speaker': 'A'},\n",
       " {'speech_raw': \"IT WASN'T ABOUT THE SARS VIRUS WAS IT [LAUGHTER] [MN] HUH\",\n",
       "  'speech': \"it wasn't about the sars virus was it huh\",\n",
       "  'n_words': 9,\n",
       "  'has_words': True,\n",
       "  'utterance_id': 'fe_03_05876-A-0072',\n",
       "  'call_id': '05876',\n",
       "  'speaker': 'A'},\n",
       " {'speech_raw': 'YEAH IT WAS JUST UH',\n",
       "  'speech': 'yeah it was just uh',\n",
       "  'n_words': 5,\n",
       "  'has_words': True,\n",
       "  'utterance_id': 'fe_03_05876-A-0073',\n",
       "  'call_id': '05876',\n",
       "  'speaker': 'A'},\n",
       " {'speech_raw': \"WELL I DON'T KNOW THIS\",\n",
       "  'speech': \"well i don't know this\",\n",
       "  'n_words': 5,\n",
       "  'has_words': True,\n",
       "  'utterance_id': 'fe_03_05876-A-0074',\n",
       "  'call_id': '05876',\n",
       "  'speaker': 'A'},\n",
       " {'speech_raw': \"BUT THEY DID MENTION WHEN DIDN'T THEY SAY IT WAS A BENEFACTOR THOUGH OR SOME SOME SORT OF SPECIFIC\",\n",
       "  'speech': \"but they did mention when didn't they say it was a benefactor though or some some sort of specific\",\n",
       "  'n_words': 19,\n",
       "  'has_words': True,\n",
       "  'utterance_id': 'fe_03_05876-A-0075',\n",
       "  'call_id': '05876',\n",
       "  'speaker': 'A'},\n",
       " {'speech_raw': \"OR PERHAPS YOU KNOW THEM AND THEY DON'T WANT TO BE KNOWN\",\n",
       "  'speech': \"or perhaps you know them and they don't want to be known\",\n",
       "  'n_words': 12,\n",
       "  'has_words': True,\n",
       "  'utterance_id': 'fe_03_05876-A-0076',\n",
       "  'call_id': '05876',\n",
       "  'speaker': 'A'},\n",
       " {'speech_raw': 'THEIR ANONYMITY IS PART OF THE WHOLE',\n",
       "  'speech': 'their anonymity is part of the whole',\n",
       "  'n_words': 7,\n",
       "  'has_words': True,\n",
       "  'utterance_id': 'fe_03_05876-A-0077',\n",
       "  'call_id': '05876',\n",
       "  'speaker': 'A'},\n",
       " {'speech_raw': \"PROCESS PERHAPS THEY DO KNOW YOU I MEAN I DON'T KNOW\",\n",
       "  'speech': \"process perhaps they do know you i mean i don't know\",\n",
       "  'n_words': 11,\n",
       "  'has_words': True,\n",
       "  'utterance_id': 'fe_03_05876-A-0078',\n",
       "  'call_id': '05876',\n",
       "  'speaker': 'A'},\n",
       " {'speech_raw': 'UH-HUH',\n",
       "  'speech': 'uh-huh',\n",
       "  'n_words': 1,\n",
       "  'has_words': True,\n",
       "  'utterance_id': 'fe_03_05876-A-0079',\n",
       "  'call_id': '05876',\n",
       "  'speaker': 'A'},\n",
       " {'speech_raw': 'RIGHT',\n",
       "  'speech': 'right',\n",
       "  'n_words': 1,\n",
       "  'has_words': True,\n",
       "  'utterance_id': 'fe_03_05876-A-0080',\n",
       "  'call_id': '05876',\n",
       "  'speaker': 'A'},\n",
       " {'speech_raw': \"[NOISE] YEAH I MEAN HONESTLY I HAVE TO REALLY THINK ABOUT WHO MY BEST FRIEND IS THOUGH IN A SENSE I MEAN I'M I'M MARRIED SO REALLY MY HUSBAND'S MY BEST FRIEND SO IT WOULD BE\",\n",
       "  'speech': \"yeah i mean honestly i have to really think about who my best friend is though in a sense i mean i'm i'm married so really my husband's my best friend so it would be\",\n",
       "  'n_words': 35,\n",
       "  'has_words': True,\n",
       "  'utterance_id': 'fe_03_05876-A-0081',\n",
       "  'call_id"
      ]
     },
     "execution_count": 131,
     "metadata": {},
     "output_type": "execute_result"
    },
    {
     "data": {
      "text/html": [
       "<b>limit_output extension: Maximum message size of 20000 exceeded with 46743 characters</b>"
      ]
     },
     "metadata": {},
     "output_type": "display_data"
    }
   ],
   "source": [
    "parse_trn_file_bbn('./auto-segmented/fe_03_05876.trn')"
   ]
  },
  {
   "cell_type": "code",
   "execution_count": 132,
   "metadata": {
    "ExecuteTime": {
     "end_time": "2019-04-24T01:22:00.617903Z",
     "start_time": "2019-04-24T01:22:00.614893Z"
    }
   },
   "outputs": [],
   "source": [
    "def parse_ana_file_bbn(bbn_fp):\n",
    "    bbn_lines = []\n",
    "    with open(bbn_fp, 'r') as file:\n",
    "        for line in file:\n",
    "            bbn_lines.append(line.rstrip())\n",
    "    parsed_lines = [parse_ana_line_bbn(l) for l in bbn_lines]\n",
    "    return parsed_lines"
   ]
  },
  {
   "cell_type": "code",
   "execution_count": 133,
   "metadata": {
    "ExecuteTime": {
     "end_time": "2019-04-24T01:22:00.656142Z",
     "start_time": "2019-04-24T01:22:00.619486Z"
    }
   },
   "outputs": [
    {
     "data": {
      "text/plain": [
       "[{'utterance_id': 'fe_03_05876-A-0001',\n",
       "  'start': 19360,\n",
       "  'end': 33280,\n",
       "  'duration': 13920,\n",
       "  'audio_fn': 'fe_03_05876.sph',\n",
       "  'channel': 1,\n",
       "  'type': 'NIST_1A'},\n",
       " {'utterance_id': 'fe_03_05876-A-0002',\n",
       "  'start': 39280,\n",
       "  'end': 50880,\n",
       "  'duration': 11600,\n",
       "  'audio_fn': 'fe_03_05876.sph',\n",
       "  'channel': 1,\n",
       "  'type': 'NIST_1A'},\n",
       " {'utterance_id': 'fe_03_05876-A-0003',\n",
       "  'start': 54720,\n",
       "  'end': 80080,\n",
       "  'duration': 25360,\n",
       "  'audio_fn': 'fe_03_05876.sph',\n",
       "  'channel': 1,\n",
       "  'type': 'NIST_1A'},\n",
       " {'utterance_id': 'fe_03_05876-A-0005',\n",
       "  'start': 94160,\n",
       "  'end': 131360,\n",
       "  'duration': 37200,\n",
       "  'audio_fn': 'fe_03_05876.sph',\n",
       "  'channel': 1,\n",
       "  'type': 'NIST_1A'},\n",
       " {'utterance_id': 'fe_03_05876-A-0006',\n",
       "  'start': 140400,\n",
       "  'end': 161200,\n",
       "  'duration': 20800,\n",
       "  'audio_fn': 'fe_03_05876.sph',\n",
       "  'channel': 1,\n",
       "  'type': 'NIST_1A'},\n",
       " {'utterance_id': 'fe_03_05876-A-0007',\n",
       "  'start': 180480,\n",
       "  'end': 215200,\n",
       "  'duration': 34720,\n",
       "  'audio_fn': 'fe_03_05876.sph',\n",
       "  'channel': 1,\n",
       "  'type': 'NIST_1A'},\n",
       " {'utterance_id': 'fe_03_05876-A-0008',\n",
       "  'start': 215520,\n",
       "  'end': 250400,\n",
       "  'duration': 34880,\n",
       "  'audio_fn': 'fe_03_05876.sph',\n",
       "  'channel': 1,\n",
       "  'type': 'NIST_1A'},\n",
       " {'utterance_id': 'fe_03_05876-A-0009',\n",
       "  'start': 252960,\n",
       "  'end': 281120,\n",
       "  'duration': 28160,\n",
       "  'audio_fn': 'fe_03_05876.sph',\n",
       "  'channel': 1,\n",
       "  'type': 'NIST_1A'},\n",
       " {'utterance_id': 'fe_03_05876-A-0010',\n",
       "  'start': 286800,\n",
       "  'end': 327440,\n",
       "  'duration': 40640,\n",
       "  'audio_fn': 'fe_03_05876.sph',\n",
       "  'channel': 1,\n",
       "  'type': 'NIST_1A'},\n",
       " {'utterance_id': 'fe_03_05876-A-0011',\n",
       "  'start': 340480,\n",
       "  'end': 395760,\n",
       "  'duration': 55280,\n",
       "  'audio_fn': 'fe_03_05876.sph',\n",
       "  'channel': 1,\n",
       "  'type': 'NIST_1A'},\n",
       " {'utterance_id': 'fe_03_05876-A-0012',\n",
       "  'start': 448880,\n",
       "  'end': 471040,\n",
       "  'duration': 22160,\n",
       "  'audio_fn': 'fe_03_05876.sph',\n",
       "  'channel': 1,\n",
       "  'type': 'NIST_1A'},\n",
       " {'utterance_id': 'fe_03_05876-A-0013',\n",
       "  'start': 472800,\n",
       "  'end': 482000,\n",
       "  'duration': 9200,\n",
       "  'audio_fn': 'fe_03_05876.sph',\n",
       "  'channel': 1,\n",
       "  'type': 'NIST_1A'},\n",
       " {'utterance_id': 'fe_03_05876-A-0014',\n",
       "  'start': 493280,\n",
       "  'end': 505840,\n",
       "  'duration': 12560,\n",
       "  'audio_fn': 'fe_03_05876.sph',\n",
       "  'channel': 1,\n",
       "  'type': 'NIST_1A'},\n",
       " {'utterance_id': 'fe_03_05876-A-0015',\n",
       "  'start': 595200,\n",
       "  'end': 602400,\n",
       "  'duration': 7200,\n",
       "  'audio_fn': 'fe_03_05876.sph',\n",
       "  'channel': 1,\n",
       "  'type': 'NIST_1A'},\n",
       " {'utterance_id': 'fe_03_05876-A-0016',\n",
       "  'start': 637520,\n",
       "  'end': 646560,\n",
       "  'duration': 9040,\n",
       "  'audio_fn': 'fe_03_05876.sph',\n",
       "  'channel': 1,\n",
       "  'type': 'NIST_1A'},\n",
       " {'utterance_id': 'fe_03_05876-A-0017',\n",
       "  'start': 681600,\n",
       "  'end': 781120,\n",
       "  'duration': 99520,\n",
       "  'audio_fn': 'fe_03_05876.sph',\n",
       "  'channel': 1,\n",
       "  'type': 'NIST_1A'},\n",
       " {'utterance_id': 'fe_03_05876-A-0018',\n",
       "  'start': 829760,\n",
       "  'end': 857360,\n",
       "  'duration': 27600,\n",
       "  'audio_fn': 'fe_03_05876.sph',\n",
       "  'channel': 1,\n",
       "  'type': 'NIST_1A'},\n",
       " {'utterance_id': 'fe_03_05876-A-0019',\n",
       "  'start': 865920,\n",
       "  'end': 896000,\n",
       "  'duration': 30080,\n",
       "  'audio_fn': 'fe_03_05876.sph',\n",
       "  'channel': 1,\n",
       "  'type': 'NIST_1A'},\n",
       " {'utterance_id': 'fe_03_05876-A-0020',\n",
       "  'start': 900160,\n",
       "  'end': 921200,\n",
       "  'duration': 21040,\n",
       "  'audio_fn': 'fe_03_05876.sph',\n",
       "  'channel': 1,\n",
       "  'type': 'NIST_1A'},\n",
       " {'utterance_id': 'fe_03_05876-A-0021',\n",
       "  'start': 924720,\n",
       "  'end': 947120,\n",
       "  'duration': 22400,\n",
       "  'audio_fn': 'fe_03_05876.sph',\n",
       "  'channel': 1,\n",
       "  'type': 'NIST_1A'},\n",
       " {'utterance_id': 'fe_03_05876-A-0022',\n",
       "  'start': 947440,\n",
       "  'end': 1056640,\n",
       "  'duration': 109200,\n",
       "  'audio_fn': 'fe_03_05876.sph',\n",
       "  'channel': 1,\n",
       "  'type': 'NIST_1A'},\n",
       " {'utterance_id': 'fe_03_05876-A-0023',\n",
       "  'start': 1056000,\n",
       "  'end': 1078880,\n",
       "  'duration': 22880,\n",
       "  'audio_fn': 'fe_03_05876.sph',\n",
       "  'channel': 1,\n",
       "  'type': 'NIST_1A'},\n",
       " {'utterance_id': 'fe_03_05876-A-0024',\n",
       "  'start': 1078960,\n",
       "  'end': 1096480,\n",
       "  'duration': 17520,\n",
       "  'audio_fn': 'fe_03_05876.sph',\n",
       "  'channel': 1,\n",
       "  'type': 'NIST_1A'},\n",
       " {'utterance_id': 'fe_03_05876-A-0025',\n",
       "  'start': 1131200,\n",
       "  'end': 1151440,\n",
       "  'duration': 20240,\n",
       "  'audio_fn': 'fe_03_05876.sph',\n",
       "  'channel': 1,\n",
       "  'type': 'NIST_1A'},\n",
       " {'utterance_id': 'fe_03_05876-A-0026',\n",
       "  'start': 1151760,\n",
       "  'end': 1194160,\n",
       "  'duration': 42400,\n",
       "  'audio_fn': 'fe_03_05876.sph',\n",
       "  'channel': 1,\n",
       "  'type': 'NIST_1A'},\n",
       " {'utterance_id': 'fe_03_05876-A-0027',\n",
       "  'start': 1196160,\n",
       "  'end': 1261520,\n",
       "  'duration': 65360,\n",
       "  'audio_fn': 'fe_03_05876.sph',\n",
       "  'channel': 1,\n",
       "  'type': 'NIST_1A'},\n",
       " {'utterance_id': 'fe_03_05876-A-0028',\n",
       "  'start': 1261280,\n",
       "  'end': 1336480,\n",
       "  'duration': 75200,\n",
       "  'audio_fn': 'fe_03_05876.sph',\n",
       "  'channel': 1,\n",
       "  'type': 'NIST_1A'},\n",
       " {'utterance_id': 'fe_03_05876-A-0029',\n",
       "  'start': 1337760,\n",
       "  'end': 1377680,\n",
       "  'duration': 39920,\n",
       "  'audio_fn': 'fe_03_05876.sph',\n",
       "  'channel': 1,\n",
       "  'type': 'NIST_1A'},\n",
       " {'utterance_id': 'fe_03_05876-A-0031',\n",
       "  'start': 1479120,\n",
       "  'end': 1488480,\n",
       "  'duration': 9360,\n",
       "  'audio_fn': 'fe_03_05876.sph',\n",
       "  'channel': 1,\n",
       "  'type': 'NIST_1A'},\n",
       " {'utterance_id': 'fe_03_05876-A-0032',\n",
       "  'start': 1514160,\n",
       "  'end': 1526320,\n",
       "  'duration': 12160,\n",
       "  'audio_fn': 'fe_03_05876.sph',\n",
       "  'channel': 1,\n",
       "  'type': 'NIST_1A'},\n",
       " {'utterance_id': 'fe_03_05876-A-0033',\n",
       "  'start': 1532240,\n",
       "  'end': 1557760,\n",
       "  'duration': 25520,\n",
       "  'audio_fn': 'fe_03_05876.sph',\n",
       "  'channel': 1,\n",
       "  'type': 'NIST_1A'},\n",
       " {'utterance_id': 'fe_03_05876-A-0034',\n",
       "  'start': 1558240,\n",
       "  'end': 1574240,\n",
       "  'duration': 16000,\n",
       "  'audio_fn': 'fe_03_05876.sph',\n",
       "  'channel': 1,\n",
       "  'type': 'NIST_1A'},\n",
       " {'utterance_id': 'fe_03_05876-A-0035',\n",
       "  'start': 1581840,\n",
       "  'end': 1593360,\n",
       "  'duration': 11520,\n",
       "  'audio_fn': 'fe_03_05876.sph',\n",
       "  'channel': 1,\n",
       "  'type': 'NIST_1A'},\n",
       " {'utterance_id': 'fe_03_05876-A-0036',\n",
       "  'start': 1654400,\n",
       "  'end': 1662960,\n",
       "  'duration': 8560,\n",
       "  'audio_fn': 'fe_03_05876.sph',\n",
       "  'channel': 1,\n",
       "  'type': 'NIST_1A'},\n",
       " {'utterance_id': 'fe_03_05876-A-0038',\n",
       "  'start': 1699840,\n",
       "  'end': 1712720,\n",
       "  'duration': 12880,\n",
       "  'audio_fn': 'fe_03_05876.sph',\n",
       "  'channel': 1,\n",
       "  'type': 'NIST_1A'},\n",
       " {'utterance_id': 'fe_03_05876-A-0039',\n",
       "  'start': 1733360,\n",
       "  'end': 1743280,\n",
       "  'duration': 9920,\n",
       "  'audio_fn': 'fe_03_05876.sph',\n",
       "  'channel': 1,\n",
       "  'type': 'NIST_1A'},\n",
       " {'utterance_id': 'fe_03_05876-A-0040',\n",
       "  'start': 1811760,\n",
       "  'end': 1845200,\n",
       "  'duration': 33440,\n",
       "  'audio_fn': 'fe_03_05876.sph',\n",
       "  'channel': 1,\n",
       "  'type': 'NIST_1A'},\n",
       " {'utterance_id': 'fe_03_05876-A-0041',\n",
       "  'start': 1848640,\n",
       "  'end': 1854960,\n",
       "  'duration': 6320,\n",
       "  'audio_fn': 'fe_03_05876.sph',\n",
       "  'channel': 1,\n",
       "  'type': 'NIST_1A'},\n",
       " {'utterance_id': 'fe_03_05876-A-0042',\n",
       "  'start': 1873120,\n",
       "  'end': 1879040,\n",
       "  'duration': 5920,\n",
       "  'audio_fn': 'fe_03_05876.sph',\n",
       "  'channel': 1,\n",
       "  'type': 'NIST_1A'},\n",
       " {'utterance_id': 'fe_03_05876-A-0043',\n",
       "  'start': 1884240,\n",
       "  'end': 1898880,\n",
       "  'duration': 14640,\n",
       "  'audio_fn': 'fe_03_05876.sph',\n",
       "  'channel': 1,\n",
       "  'type': 'NIST_1A'},\n",
       " {'utterance_id': 'fe_03_05876-A-0044',\n",
       "  'start': 1910160,\n",
       "  'end': 2022160,\n",
       "  'duration': 112000,\n",
       "  'audio_fn': 'fe_03_05876.sph',\n",
       "  'channel': 1,\n",
       "  'type': 'NIST_1A'},\n",
       " {'utterance_id': 'fe_03_05876-A-0045',\n",
       "  'start': 2028320,\n",
       "  'end': 2037200,\n",
       "  'duration': 8880,\n",
       "  'audio_fn': 'fe_03_05876.sph',\n",
       "  'channel': 1,\n",
       "  'type': 'NIST_1A'},\n",
       " {'utterance_id': 'fe_03_05876-A-0046',\n",
       "  'start': 2037440,\n",
       "  'end': 2093200,\n",
       "  'duration': 55760,\n",
       "  'audio_fn': 'fe_03_05876.sph',\n",
       "  'channel': 1,\n",
       "  'type': 'NIST_1A'},\n",
       " {'utterance_id': 'fe_03_05876-A-0047',\n",
       "  'start': 2095280,\n",
       "  'end': 2102720,\n",
       "  'duration': 7440,\n",
       "  'audio_fn': 'fe_03_05876.sph',\n",
       "  'channel': 1,\n",
       "  'type': 'NIST_1A'},\n",
       " {'utterance_id': 'fe_03_05876-A-0049',\n",
       "  'start': 2210160,\n",
       "  'end': 2269360,\n",
       "  'duration': 59200,\n",
       "  'audio_fn': 'fe_03_05876.sph',\n",
       "  'channel': 1,\n",
       "  'type': 'NIST_1A'},\n",
       " {'utterance_id': 'fe_03_05876-A-0050',\n",
       "  'start': 2313280,\n",
       "  'end': 2321280,\n",
       "  'duration': 8000,\n",
       "  'audio_fn': 'fe_03_05876.sph',\n",
       "  'channel': 1,\n",
       "  'type': 'NIST_1A'},\n",
       " {'utterance_id': 'fe_03_05876-A-0051',\n",
       "  'start': 2357280,\n",
       "  'end': 2388160,\n",
       "  'duration': 30880,\n",
       "  'audio_fn': 'fe_03_05876.sph',\n",
       "  'channel': 1,\n",
       "  'type': 'NIST_1A'},\n",
       " {'utterance_id': 'fe_03_05876-A-0052',\n",
       "  'start': 2392560,\n",
       "  'end': 2412800,\n",
       "  'duration': 20240,\n",
       "  'audio_fn': 'fe_03_05876.sph',\n",
       "  'channel': 1,\n",
       "  'type': 'NIST_1A'},\n",
       " {'utterance_id': 'fe_03_05876-A-0053',\n",
       "  'start': 2426240,\n",
       "  'end': 2449920,\n",
       "  'duration': 23680,\n",
       "  'audio_fn': 'fe_03_05876.sph',\n",
       "  'channel': 1,\n",
       "  'type': 'NIST_1A'},\n",
       " {'utterance_id': 'fe_03_05876-A-0054',\n",
       "  'start': 2459760,\n",
       "  'end': 2495200,\n",
       "  'duration': 35440,\n",
       "  'audio_fn': 'fe_03_05876.sph',\n",
       "  'channel': 1,\n",
       "  'type': 'NIST_1A'},\n",
       " {'utterance_id': 'fe_03_05876-A-0055',\n",
       "  'start': 2506720,\n",
       "  'end': 2542560,\n",
       "  'duration': 35840,\n",
       "  'audio_fn': 'fe_03_05876.sph',\n",
       "  'channel': 1,\n",
       "  'type': 'NIST_1A'},\n",
       " {'utterance_id': 'fe_03_05876-A-0056',\n",
       "  'start': 2542800,\n",
       "  'end': 2606560,\n",
       "  'duration': 63760,\n",
       "  'audio_fn': 'fe_03_05876.sph',\n",
       "  'channel': 1,\n",
       "  'type': 'NIST_1A'},\n",
       " {'utterance_id': 'fe_03_05876-A-0057',\n",
       "  'start': 2607680,\n",
       "  'end': 2615600,\n",
       "  'duration': 7920,\n",
       "  'audio_fn': 'fe_03_05876.sph',\n",
       "  'channel': 1,\n",
       "  'type': 'NIST_1A'},\n",
       " {'utterance_id': 'fe_03_05876-A-0058',\n",
       "  'start': 2617920,\n",
       "  'end': 2624400,\n",
       "  'duration': 6480,\n",
       "  'audio_fn': 'fe_03_05876.sph',\n",
       "  'channel': 1,\n",
       "  'type': 'NIST_1A'},\n",
       " {'utterance_id': 'fe_03_05876-A-0059',\n",
       "  'start': 2635840,\n",
       "  'end': 2648480,\n",
       "  'duration': 12640,\n",
       "  'audio_fn': 'fe_03_05876.sph',\n",
       "  'channel': 1,\n",
       "  'type': 'NIST_1A'},\n",
       " {'utterance_id': 'fe_03_05876-A-0060',\n",
       "  'start': 2754720,\n",
       "  'end': 2765920,\n",
       "  'duration': 11200,\n",
       "  'audio_fn': 'fe_03_05876.sph',\n",
       "  'channel': 1,\n",
       "  'type': 'NIST_1A'},\n",
       " {'utterance_id': 'fe_03_05876-A-0061',\n",
       "  'start': 2767200,\n",
       "  'end': 2782400,\n",
       "  'duration': 15200,\n",
       "  'audio_fn': 'fe_03_05876.sph',\n",
       "  'channel': 1,\n",
       "  'type': 'NIST_1A'},\n",
       " {'utterance_id': 'fe_03_05876-A-0062',\n",
       "  'start': 2790960,\n",
       "  'end': 2811280,\n",
       "  'duration': 20320,\n",
       "  'audio_fn': 'fe_03_05876.sph',\n",
       "  'channel': 1,\n",
       "  'type': 'NIST_1A'},\n",
       " {'utterance_id': 'fe_03_05876-A-0063',\n",
       "  'start': 2814640,\n",
       "  'end': 2822160,\n",
       "  'duration': 7520,\n",
       "  'audio_fn': 'fe_03_05876.sph',\n",
       "  'channel': 1,\n",
       "  'type': 'NIST_1A'},\n",
       " {'utterance_id': 'fe_03_05876-A-0064',\n",
       "  'start': 2825360,\n",
       "  'end': 2848560,\n",
       "  'duration': 23200,\n",
       "  'audio_fn': 'fe_03_05876.sph',\n",
       "  'channel': 1,\n",
       "  'type': 'NIST_1A'},\n",
       " {'utterance_id': 'fe_03_05876-A-0065',\n",
       "  'start': 2850880,\n",
       "  'end': 2884800,\n",
       "  'duration': 33920,\n",
       "  'audio_fn': 'fe_03_05876.sph',\n",
       "  'channel': 1,\n",
       "  'type': 'NIST_1A'},\n",
       " {'utterance_id': 'fe_03_05876-A-0067',\n",
       "  'start': 2921920,\n",
       "  'end': 2938080,\n",
       "  'duration': 16160,\n",
       "  'audio_fn': 'fe_03_05876.sph',\n",
       "  'channel': 1,\n",
       "  'type': 'NIST_1A'},\n",
       " {'utterance_id': 'fe_03_05876-A-0068',\n",
       "  'start': 2960800,\n",
       "  'end': 3007920,\n",
       "  'duration': 47120,\n",
       "  'audio_fn': 'fe_03_05876.sph',\n",
       "  'channel': 1,\n",
       "  'type': 'NIST_1A'},\n",
       " {'utterance_id': 'fe_03_05876-A-0069',\n",
       "  'start': 3050480,\n",
       "  'end': 3087200,\n",
       "  'duration': 36720,\n",
       "  'audio_fn': 'fe_03_05876.sph',\n",
       "  'channel': 1,\n",
       "  'type': 'NIST_1A'},\n",
       " {'utterance_id': 'fe_03_05876-A-0070',\n",
       "  'start': 3088880,\n",
       "  'end': 3118560,\n",
       "  'duration': 29680,\n",
       "  'audio_fn': 'fe_03_05876.sph',\n",
       "  'channel': 1,\n",
       "  'type': 'NIST_1A'},\n",
       " {'utterance_id': 'fe_03_05876-A-0071',\n",
       "  'start': 3169600,\n",
       "  'end': 3178880,\n",
       "  'duration': 9280,\n",
       "  'audio_fn': 'fe_03_05876.sph',\n",
       "  'channel': 1,\n",
       "  'type': 'NIST_1A'},\n",
       " {'utterance_id': 'fe_03_05876-A-0072',\n",
       "  'start': 3179920,\n",
       "  'end': 3229840,\n",
       "  'duration': 49920,\n",
       "  'audio_fn': 'fe_03_05876.sph',\n",
       "  'channel': 1,\n",
       "  'type': 'NIST_1A'},\n",
       " {'utterance_id': 'fe_03_05876-A-0073',\n",
       "  'start': 3232560,\n",
       "  'end': 3250480,\n",
       "  'duration': 17920,\n",
       "  'audio_fn': 'fe_03_05876.sph',\n",
       "  'channel': 1,\n",
       "  'type': 'NIST_1A'},\n",
       " {'utterance_id': 'fe_03_05876-A-0074',\n",
       "  'start': 3250560,\n",
       "  'end': 3262400,\n",
       "  'duration': 11840,\n",
       "  'audio_fn': 'fe_03_05876.sph',\n",
       "  'channel': 1,\n",
       "  'type': 'NIST_1A'},\n",
       " {'utterance_id': 'fe_03_05876-A-0075',\n",
       "  'start': 3267840,\n",
       "  'end': 3307120,\n",
       "  'duration': 39280,\n",
       "  'audio_fn': 'fe_03_05876.sph',\n",
       "  'channel': 1,\n",
       "  'type': 'NIST_1A'},\n",
       " {'utterance_id': 'fe_03_05876-A-0076',\n",
       "  'start': 3354640,\n",
       "  'end': 3376160,\n",
       "  'duration': 21520,\n",
       "  'audio_fn': 'fe_03_05876.sph',\n",
       "  'channel': 1,\n",
       "  'type': 'NIST_1A'},\n",
       " {'utterance_id': 'fe_03_05876-A-0077',\n",
       "  'start': 3379280,\n",
       "  'end': 3397520,\n",
       "  'duration': 18240,\n",
       "  'audio_fn': 'fe_03_05876.sph',\n",
       "  'channel': 1,\n",
       "  'type': 'NIST_1A'},\n",
       " {'utterance_id': 'fe_03_05876-A-0078',\n",
       "  'start': 3397680,\n",
       "  'end': 3418320,\n",
       "  'duration': 20640,\n",
       "  'audio_fn': 'fe_03_05876.sph',\n",
       "  'channel': 1,\n",
       "  'type': 'NIST_1A'},\n",
       " {'utterance_id': 'fe_03_05876-A-0079',\n",
       "  'start': 3463200,\n",
       "  'end': 3470160,\n",
       "  'duration': 6960,\n",
       "  'audio_fn': 'fe_03_05876.sph',\n",
       "  'channel': 1,\n",
       "  'type': 'NIST_1A'},\n",
       " {'utterance_id': 'fe_03_05876-A-0080',\n",
       "  'start': 3490400,\n",
       "  'end': 3502080,\n",
       "  'duration': 11680,\n",
       "  'audio_fn': 'fe_03_05876.sph',\n",
       "  'channel': 1,\n",
       "  'type': 'NIST_1A'},\n",
       " {'utterance_id': 'fe_03_05876-A-0081',\n",
       "  'start': 3597680,\n",
       "  'end': 3679440,\n",
       "  'duration': 81760,\n",
       "  'audio_fn': 'fe_03_05876.sph',\n",
       "  'channel': 1,\n",
       "  'type': 'NIST_1A'},\n",
       " {'utterance_id': 'fe_03_05876-A-0082',\n",
       "  'start': 3687360,\n",
       "  'end': 3698000,\n",
       "  'duration': 10640,\n",
       "  'audio_fn': 'fe_03_05876.sph',\n",
       "  'channel': 1,\n",
       "  'type': 'NIST_1A'},\n",
       " {'utterance_id': 'fe_03_05876-A-0083',\n",
       "  'start': 3699520,\n",
       "  'end': 3744880,\n",
       "  'duration': 45360,\n",
       "  'audio_fn': 'fe_03_05876.sph',\n",
       "  'channel': 1,\n",
       "  'type': 'NIST_1A'},\n",
       " {'utterance_id': 'fe_03_05876-A-0084',\n",
       "  'start': 3746400,\n",
       "  'end': 3789760,\n",
       "  'duration': 43360,\n",
       "  'audio_fn': 'fe_03_05876.sph',\n",
       "  'channel': 1,\n",
       "  'type': 'NIST_1A'},\n",
       " {'utterance_id': 'fe_03_05876-A-0085',\n",
       "  'start': 3790880,\n",
       "  'end': 3831200,\n",
       "  'duration': 40320,\n",
       "  'audio_fn': 'fe_03_05876.sph',\n",
       "  'channel': 1,\n",
       "  'type': 'NIST_1A'},\n",
       " {'utterance_id': 'fe_03_05876-A-0086',\n",
       "  'start': 3832480,\n",
       "  'end': 3848080,\n",
       "  'duration': 15600,\n",
       "  'audio_fn': 'fe_03_05876.sph',\n",
       "  'channel': 1,\n",
       "  'type': 'NIST_1A'},\n",
       " {'utterance_id': 'fe_03_05876-A-0087',\n",
       "  'start': 3854960,\n",
       "  'end': 3909280,\n",
       "  'duration': 54320,\n",
       "  'audio_fn': 'fe_03_05876.sph',\n",
       "  'channel': 1,\n",
       "  'type': 'NIST_1A'},\n",
       " {'utterance_id': 'fe_03_05876-A-0089',\n",
       "  'start': 3957200,\n",
       "  'end': 3965280,\n",
       "  'duration': 8080,\n",
       "  'audio_fn': 'fe_03_05876.sph',\n",
       "  'channel': 1,\n",
       "  'type': 'NIST_1A'},\n",
       " {'utterance_id': 'fe_03_05876-A-0091',\n",
       "  'start': 4065440,\n",
       "  'end': 4073360,\n",
       "  'duration': 7920,\n",
       "  'audio_fn': 'fe_03_05876.sph',\n",
       "  'channel': 1,\n",
       "  'type': 'NIST_1A'},\n",
       " {'utterance_id': 'fe_03_05876-A-0092',\n",
       "  'start': 4090960,\n",
       "  'end': 4100720,\n",
       "  'duration': 9760,\n",
       "  'audio_fn': 'fe_03_05876.sph',\n",
       "  'channel': 1,\n",
       "  'type': 'NIST_1A'},\n",
       " {'utterance_id': 'fe_03_05876-A-0093',\n",
       "  'start': 4125520,\n",
       "  'end': 4166960,\n",
       "  'duration': 41440,\n",
       "  'audio_fn': 'fe_03_05876.sph',\n",
       "  'channel': 1,\n",
       "  'type': 'NIST_1A'},\n",
       " {'utterance_id': 'fe_03_05876-A-0094',\n",
       "  'start': 4171360,\n",
       "  'end': 4225520,\n",
       "  'duration': 54160,\n",
       "  'audio_fn': 'fe_03_05876.sph',\n",
       "  'channel': 1,\n",
       "  'type': 'NIST_1A'},\n",
       " {'utterance_id': 'fe_03_05876-A-0095',\n",
       "  'start': 4227360,\n",
       "  'end': 4346880,\n",
       "  'duration': 119520,\n",
       "  'audio_fn': 'fe_03_05876.sph',\n",
       "  'channel': 1,\n",
       "  'type': 'NIST_1A'},\n",
       " {'utterance_id': 'fe_03_05876-A-0096',\n",
       "  'start': 4349440,\n",
       "  'end': 4361040,\n",
       "  'duration': 11600,\n",
       "  'audio_fn': 'fe_03_05876.sph',\n",
       "  'channel': 1,\n",
       "  'type': 'NIST_1A'},\n",
       " {'utterance_id': 'fe_03_05876-A-0097',\n",
       "  'start': 4365040,\n",
       "  'end': 4375600,\n",
       "  'duration': 10560,\n",
       "  'audio_fn': 'fe_03_05876.sph',\n",
       "  'channel': 1,\n",
       "  'type': 'NIST_1A'},\n",
       " {'utterance_id': 'fe_03_05876-A-0098',\n",
       "  'start': 4387040,\n",
       "  'end': 4426320,\n",
       "  'duration': 39280,\n",
       "  'audio_fn': 'fe_03_05876.sph',\n",
       "  'channel': 1,\n",
       "  'type': 'NIST_1A'},\n",
       " {'utterance_id': 'fe_03_05876-A-0099',\n",
       "  'start': 4431840,\n",
       "  'end': 4456800,\n",
       "  'duration': 24960,\n",
       "  'audio_fn': 'fe_03_05876.sph',\n",
       "  'channel': 1,\n",
       "  'type': 'NIST_1A'},\n",
       " {'utterance_id': 'fe_03_05876-A-0100',\n",
       "  'start': 4461600,\n",
       "  'end': 4532800,\n",
       "  'duration': 71200,\n",
       "  'audio_fn': 'fe_03_05876.sph',\n",
       "  'channel': 1,\n",
       "  'type': 'NIST_1A'},\n",
       " {'utterance_id': 'fe_03_05876-A-0101',\n",
       "  'start': 4533120,\n",
       "  'end': 4608160,\n",
       "  'duration': 75040,\n",
       "  'audio_fn': 'fe_03_05876.sph',\n",
       "  'channel': 1,\n",
       "  'type': 'NIST_1A'},\n",
       " {'utterance_id': 'fe_03_05876-A-0102',\n",
       "  'start': 4664720,\n",
       "  'end': 4672160,\n",
       "  'duration': 7440,\n",
       "  'audio_fn': 'fe_03_05876.sph',\n",
       "  'channel': 1,\n",
       "  'type': 'NIST_1A'},\n",
       " {'utterance_id': 'fe_03_05876-A-0103',\n",
       "  'start': 4677200,\n",
       "  'end': 4700240,\n",
       "  'duration': 23040,\n",
       "  'audio_fn': 'fe_03_05876.sph',\n",
       "  'channel': 1,\n",
       "  'type': 'NIST_1A'},\n",
       " {'utterance_id': 'fe_03_05876-A-0104',\n",
       "  'start': 4752560,\n",
       "  'end': 4759840,\n",
       "  'duration': 7280,\n",
       "  'audio_fn': 'fe_03_05876.sph',\n",
       "  'channel': 1,\n",
       "  'type': 'NIST_1A'},\n",
       " {'utterance_id': 'fe_03_05876-A-0105',\n",
       "  'start': 4767040,\n",
       "  'end': 4799120,\n",
       "  'duration': 32080,\n",
       "  'audio_fn': 'fe_03_05876.sph',\n",
       "  'channel': 1,\n",
       "  'type': 'NIST_1A'},\n",
       " {'utterance_id': 'fe_03_05876-B-0001',\n",
       "  'start': 560,\n",
       "  'end': 10240,\n",
       "  'duration': 9680,\n",
       "  'audio_fn': 'fe_03_05876.sph',\n",
       "  'channel': 2,\n",
       "  'type': 'NIST_1A'},\n",
       " {'utterance_id': 'fe_03_05876-B-0002',\n",
       "  'start': 30080,\n",
       "  'end': 42240,\n",
       "  'duration': 12160,\n",
       "  'audio_fn': 'fe_03_05876.sph',\n",
       "  'channel': 2,\n",
       "  'type': 'NIST_1A'},\n",
       " {'utterance_id': 'fe_03_05876-B-0003',\n",
       "  'start': 45520,\n",
       "  'end': 56800,\n",
       "  'duration': 11280,\n",
       "  'audio_fn': 'fe_03_05876.sph',\n",
       "  'channel': 2,\n",
       "  'type': 'NIST_1A'},\n",
       " {'utterance_id': 'fe_03_05876-B-0004',\n",
       "  'start': 77920,\n",
       "  'end': 95360,\n",
       "  'duration': 17440,\n",
       "  'audio_fn': 'fe_03_05876.sph',\n",
       "  'channel': 2,\n",
       "  'type': 'NIST_1A'},\n",
       " {'utterance_id': 'fe_03_05876-B-0005',\n",
       "  'start': 125440,\n",
       "  'end': 180880,\n",
       "  'duration': 55440,\n",
       "  'audio_fn': 'fe_03_05876.sph',\n",
       "  'channel': 2,\n",
       "  'type': 'NIST_1A'},\n",
       " {'utterance_id': 'fe_03_05876-B-0006',\n",
       "  'start': 359360,\n",
       "  'end': 366480,\n",
       "  'duration': 7120,\n",
       "  'audio_fn': 'fe_03_05876.sph',\n",
       "  'channel': 2,\n",
       "  'type': 'NIST_1A'},\n",
       " {'utterance_id': 'fe_03_05876-B-0007',\n",
       "  'start': 389760,\n",
       "  'end': 508880,\n",
       "  'duration': 119120,\n",
       "  'audio_fn': 'fe_03_05876.sph',\n",
       "  'channel': 2,\n",
       "  'type': 'NIST_1A'},\n",
       " {'utterance_id': 'fe_03_05876-B-0008',\n",
       "  'start': 509600,\n",
       "  'end': 598080,\n",
       "  'duration': 88480,\n",
       "  'audio_fn': 'fe_03_05876.sph',\n",
       "  'channel': 2,\n",
       "  'type': 'NIST_1A'},\n",
       " {'utterance_id': 'fe_03_05876-B-0009',\n",
       "  'start': 599600,\n",
       "  'end': 686960,\n",
       "  'duration': 87360,\n",
       "  'audio_fn': 'fe_03_05876.sph',\n",
       "  'channel': 2,\n",
       "  'type': 'NIST_1A'},\n",
       " {'utterance_id': 'fe_03_05876-B-0010',\n",
       "  'start': 702000,\n",
       "  'end': 712000,\n",
       "  'duration': 10000,\n",
       "  'audio_fn': 'fe_03_05876.sph',\n",
       "  'channel': 2,\n",
       "  'type': 'NIST_1A'},\n",
       " {'utterance_id': 'fe_03_05876-B-0011',\n",
       "  'start': 765280,\n",
       "  'end': 772800,\n",
       "  'duration': 7520,\n",
       "  'audio_fn': 'fe_03_05876.sph',\n",
       "  'channel': 2,\n",
       "  'type': 'NIST_1A'},\n",
       " {'utterance_id': 'fe_03_05876-B-0012',\n",
       "  'start': 773040,\n",
       "  'end': 837040,\n",
       "  'duration': 64000,\n",
       "  'audio_fn': 'fe_03_05876.sph',\n",
       "  'channel': 2,\n",
       "  'type': 'NIST_1A'},\n",
       " {'utterance_id': 'fe_03_05876-B-0013',\n",
       "  'start': 892480,\n",
       "  'end': 899600,\n",
       "  'duration': 7120,\n",
       "  'audio_fn': 'fe_03_05876.sph',\n",
       "  'channel': 2,\n",
       "  'type': 'NIST_1A'},\n",
       " {'utterance_id': 'fe_03_05876-B-0014',\n",
       "  'start': 943280,\n",
       "  'end': 950720,\n",
       "  'duration': 7440,\n",
       "  'audio_fn': 'fe_03_05876.sph',\n",
       "  'channel': 2,\n",
       "  'type': 'NIST_1A'},\n",
       " {'utterance_id': 'fe_03_05876-B-0015',\n",
       "  'start': 1026640,\n",
       "  'end': 1042160,\n",
       "  'duration': 15520,\n",
       "  'audio_fn': 'fe_03_05876.sph',\n",
       "  'channel': 2,\n",
       "  'type': 'NIST_1A'},\n",
       " {'utterance_id': 'fe_03_05876-B-0016',\n",
       "  'start': 1091440,\n",
       "  'end': 1126400,\n",
       "  'duration': 34960,\n",
       "  'audio_fn': 'fe_03_05876.sph',\n",
       "  'channel': 2,\n",
       "  'type': 'NIST_1A'},\n",
       " {'utterance_id': 'fe_03_05876-B-0017',\n",
       "  'start': 1130160,\n",
       "  'end': 1139360,\n",
       "  'duration': 9200,\n",
       "  'audio_fn': 'fe_03_05876.sph',\n",
       "  'channel': 2,\n",
       "  'type': 'NIST_1A'},\n",
       " {'utterance_id': 'fe_03_05876-B-0019',\n",
       "  'start': 1285440,\n",
       "  'end': 1293120,\n",
       "  'duration': 7680,\n",
       "  'audio_fn': 'fe_03_05876.sph',\n",
       "  'channel': 2,\n",
       "  'type': 'NIST_1A'},\n",
       " {'utterance_id': 'fe_03_05876-B-0020',\n",
       "  'start': 1374480,\n",
       "  'end': 1483280,\n",
       "  'duration': 108800,\n",
       "  'audio_fn': 'fe_03_05876.sph',\n",
       "  'channel': 2,\n",
       "  'type': 'NIST_1A'},\n",
       " {'utterance_id': 'fe_03_05876-B-0021',\n",
       "  'start': 1485680,\n",
       "  'end': 1534560,\n",
       "  'duration': 48880,\n",
       "  'audio_fn': 'fe_03_05876.sph',\n",
       "  'channel': 2,\n",
       "  'type': 'NIST_1A'},\n",
       " {'utterance_id': 'fe_03_05876-B-0023',\n",
       "  'start'"
      ]
     },
     "execution_count": 133,
     "metadata": {},
     "output_type": "execute_result"
    },
    {
     "data": {
      "text/html": [
       "<b>limit_output extension: Maximum message size of 20000 exceeded with 27931 characters</b>"
      ]
     },
     "metadata": {},
     "output_type": "display_data"
    }
   ],
   "source": [
    "parse_ana_file_bbn('./auto-segmented/fe_03_05876.ana')"
   ]
  },
  {
   "cell_type": "markdown",
   "metadata": {},
   "source": [
    "### Creating merged representations of each call"
   ]
  },
  {
   "cell_type": "code",
   "execution_count": 134,
   "metadata": {
    "ExecuteTime": {
     "end_time": "2019-04-24T01:22:00.659057Z",
     "start_time": "2019-04-24T01:22:00.657265Z"
    }
   },
   "outputs": [],
   "source": [
    "#create merged representation of conversation from auto-segmented and rejected .trn and .ana files, sort utterances by utterance ID"
   ]
  },
  {
   "cell_type": "code",
   "execution_count": 135,
   "metadata": {
    "ExecuteTime": {
     "end_time": "2019-04-24T01:22:00.665780Z",
     "start_time": "2019-04-24T01:22:00.660175Z"
    }
   },
   "outputs": [
    {
     "data": {
      "text/plain": [
       "{'call_id': '05863',\n",
       " 'trn_fn': 'fe_03_05863.trn',\n",
       " 'ana_fn': 'fe_03_05863.ana',\n",
       " 'auto-segmented_trn_location': '/mnt/truffle/corpora/fisher_english_transcripts/fe_03_p2_tran/data/bbn_orig/058/auto-segmented/fe_03_05863.trn',\n",
       " 'rejected_trn_location': '/mnt/truffle/corpora/fisher_english_transcripts/fe_03_p2_tran/data/bbn_orig/058/rejected/fe_03_05863.trn',\n",
       " 'auto-segmented_ana_location': '/mnt/truffle/corpora/fisher_english_transcripts/fe_03_p2_tran/data/bbn_orig/058/auto-segmented/fe_03_05863.ana',\n",
       " 'rejected_ana_location': '/mnt/truffle/corpora/fisher_english_transcripts/fe_03_p2_tran/data/bbn_orig/058/rejected/fe_03_05863.ana'}"
      ]
     },
     "execution_count": 135,
     "metadata": {},
     "output_type": "execute_result"
    }
   ],
   "source": [
    "bbn_call_relation[0]"
   ]
  },
  {
   "cell_type": "code",
   "execution_count": 136,
   "metadata": {
    "ExecuteTime": {
     "end_time": "2019-04-24T01:22:00.679762Z",
     "start_time": "2019-04-24T01:22:00.667665Z"
    }
   },
   "outputs": [],
   "source": [
    "def get_transcriptions_bbn(call_id):\n",
    "    call_relation_matches = [c for c in bbn_call_relation if c['call_id'] == call_id]\n",
    "    assert len(call_relation_matches) == 1, 'call id {0} does not have exactly 1 match, but rather {1}'.format(call_id, call_relation_matches)\n",
    "    call_rel = call_relation_matches[0]\n",
    "    \n",
    "    as_trn = parse_trn_file_bbn(call_rel['auto-segmented_trn_location'])\n",
    "    r_trn = parse_trn_file_bbn(call_rel['rejected_trn_location'])\n",
    "    merged_trn = sorted(as_trn + r_trn, key=lambda t_rel: t_rel['utterance_id'])\n",
    "    \n",
    "    as_ana = parse_ana_file_bbn(call_rel['auto-segmented_ana_location'])\n",
    "    r_ana = parse_ana_file_bbn(call_rel['rejected_ana_location'])\n",
    "    merged_ana = sorted(as_ana + r_ana, key=lambda ana_rel: ana_rel['utterance_id'])\n",
    "    \n",
    "    assert len(merged_trn) == len(merged_ana), 'merged trn and merged ana utterance sequences differ in length: {0} vs. {1}'.format(len(merged_trn), len(merged_ana))\n",
    "    \n",
    "    utterance_ids = [t_rel['utterance_id'] for t_rel in merged_trn]\n",
    "    merged_rels = []\n",
    "    for u_id in utterance_ids:\n",
    "        matching_trns = [trn_rel for trn_rel in merged_trn if trn_rel['utterance_id'] == u_id]\n",
    "        assert len(matching_trns) == 1, 'Utterance id {0} does not have exactly one matching trn relation, instead has {1}'.format(u_id, matching_trns)\n",
    "        trn_rel = matching_trns[0]\n",
    "        \n",
    "        matching_anas = [ana_rel for ana_rel in merged_ana if ana_rel['utterance_id'] == u_id]\n",
    "        assert len(matching_anas) == 1, 'Utterance id {0} does not have exactly one matching ana relation, instead has {1}'.format(u_id, matching_anas)\n",
    "        ana_rel = matching_anas[0]\n",
    "        \n",
    "        merged_rel = dictionary_product(trn_rel, ana_rel)\n",
    "        merged_rels.append(merged_rel)\n",
    "    \n",
    "    return merged_rels"
   ]
  },
  {
   "cell_type": "code",
   "execution_count": 137,
   "metadata": {
    "ExecuteTime": {
     "end_time": "2019-04-24T01:22:00.753183Z",
     "start_time": "2019-04-24T01:22:00.680948Z"
    }
   },
   "outputs": [
    {
     "data": {
      "text/plain": [
       "[{'speaker': 'A',\n",
       "  'n_words': 1,\n",
       "  'call_id': '05863',\n",
       "  'utterance_id': 'fe_03_05863-A-0001',\n",
       "  'speech_raw': 'HI [LAUGHTER]',\n",
       "  'has_words': True,\n",
       "  'speech': 'hi',\n",
       "  'duration': 10960,\n",
       "  'end': 12320,\n",
       "  'start': 1360,\n",
       "  'channel': 1,\n",
       "  'audio_fn': 'fe_03_05863.sph',\n",
       "  'type': 'NIST_1A'},\n",
       " {'speaker': 'A',\n",
       "  'n_words': 5,\n",
       "  'call_id': '05863',\n",
       "  'utterance_id': 'fe_03_05863-A-0002',\n",
       "  'speech_raw': 'HI MY NAME IS ZELDA',\n",
       "  'has_words': True,\n",
       "  'speech': 'hi my name is zelda',\n",
       "  'duration': 14080,\n",
       "  'end': 46640,\n",
       "  'start': 32560,\n",
       "  'channel': 1,\n",
       "  'audio_fn': 'fe_03_05863.sph',\n",
       "  'type': 'NIST_1A'},\n",
       " {'speaker': 'A',\n",
       "  'n_words': 2,\n",
       "  'call_id': '05863',\n",
       "  'utterance_id': 'fe_03_05863-A-0003',\n",
       "  'speech_raw': 'HI MONIQUE',\n",
       "  'has_words': True,\n",
       "  'speech': 'hi monique',\n",
       "  'duration': 10000,\n",
       "  'end': 69760,\n",
       "  'start': 59760,\n",
       "  'channel': 1,\n",
       "  'audio_fn': 'fe_03_05863.sph',\n",
       "  'type': 'NIST_1A'},\n",
       " {'speaker': 'A',\n",
       "  'n_words': 4,\n",
       "  'call_id': '05863',\n",
       "  'utterance_id': 'fe_03_05863-A-0004',\n",
       "  'speech_raw': \"I'M FINE AND YOU\",\n",
       "  'has_words': True,\n",
       "  'speech': \"i'm fine and you\",\n",
       "  'duration': 11040,\n",
       "  'end': 88320,\n",
       "  'start': 77280,\n",
       "  'channel': 1,\n",
       "  'audio_fn': 'fe_03_05863.sph',\n",
       "  'type': 'NIST_1A'},\n",
       " {'speaker': 'A',\n",
       "  'n_words': 1,\n",
       "  'call_id': '05863',\n",
       "  'utterance_id': 'fe_03_05863-A-0005',\n",
       "  'speech_raw': 'GOOD',\n",
       "  'has_words': True,\n",
       "  'speech': 'good',\n",
       "  'duration': 7600,\n",
       "  'end': 104400,\n",
       "  'start': 96800,\n",
       "  'channel': 1,\n",
       "  'audio_fn': 'fe_03_05863.sph',\n",
       "  'type': 'NIST_1A'},\n",
       " {'speaker': 'A',\n",
       "  'n_words': 2,\n",
       "  'call_id': '05863',\n",
       "  'utterance_id': 'fe_03_05863-A-0006',\n",
       "  'speech_raw': 'OKAY UM',\n",
       "  'has_words': True,\n",
       "  'speech': 'okay um',\n",
       "  'duration': 14720,\n",
       "  'end': 143280,\n",
       "  'start': 128560,\n",
       "  'channel': 1,\n",
       "  'audio_fn': 'fe_03_05863.sph',\n",
       "  'type': 'NIST_1A'},\n",
       " {'speaker': 'A',\n",
       "  'n_words': 5,\n",
       "  'call_id': '05863',\n",
       "  'utterance_id': 'fe_03_05863-A-0007',\n",
       "  'speech_raw': 'I WOULD NOT DO IT',\n",
       "  'has_words': True,\n",
       "  'speech': 'i would not do it',\n",
       "  'duration': 12560,\n",
       "  'end': 159440,\n",
       "  'start': 146880,\n",
       "  'channel': 1,\n",
       "  'audio_fn': 'fe_03_05863.sph',\n",
       "  'type': 'NIST_1A'},\n",
       " {'speaker': 'A',\n",
       "  'n_words': 12,\n",
       "  'call_id': '05863',\n",
       "  'utterance_id': 'fe_03_05863-A-0008',\n",
       "  'speech_raw': \"[NOISE] RIGHT I WOULDN'T UM DO YOU KID- ESP- UH TODAY I MEAN\",\n",
       "  'has_words': True,\n",
       "  'speech': \"right i wouldn't um do you <rem> <rem> uh today i mean\",\n",
       "  'duration': 46880,\n",
       "  'end': 256720,\n",
       "  'start': 209840,\n",
       "  'channel': 1,\n",
       "  'audio_fn': 'fe_03_05863.sph',\n",
       "  'type': 'NIST_1A'},\n",
       " {'speaker': 'A',\n",
       "  'n_words': 39,\n",
       "  'call_id': '05863',\n",
       "  'utterance_id': 'fe_03_05863-A-0009',\n",
       "  'speech_raw': \"PEOPLE LOOK AT MONEY MONEY IS EVERYTHING IT'S LIKE THEY THINK THAT MONEY'S GOING TO RESOLVE ALL THEIR PROBLEMS AND A MILLION DOLLARS TODAY IS NOT A LOT OF MONEY AND I WOULD AND THAT'S A BETRAYAL TO ME [NOISE]\",\n",
       "  'has_words': True,\n",
       "  'speech': \"people look at money money is everything it's like they think that money's going to resolve all their problems and a million dollars today is not a lot of money and i would and that's a betrayal to me\",\n",
       "  'duration': 90240,\n",
       "  'end': 348560,\n",
       "  'start': 258320,\n",
       "  'channel': 1,\n",
       "  'audio_fn': 'fe_03_05863.sph',\n",
       "  'type': 'NIST_1A'},\n",
       " {'speaker': 'A',\n",
       "  'n_words': 2,\n",
       "  'call_id': '05863',\n",
       "  'utterance_id': 'fe_03_05863-A-0010',\n",
       "  'speech_raw': 'RIGHT RIGHT',\n",
       "  'has_words': True,\n",
       "  'speech': 'right right',\n",
       "  'duration': 14480,\n",
       "  'end': 424320,\n",
       "  'start': 409840,\n",
       "  'channel': 1,\n",
       "  'audio_fn': 'fe_03_05863.sph',\n",
       "  'type': 'NIST_1A'},\n",
       " {'speaker': 'A',\n",
       "  'n_words': 1,\n",
       "  'call_id': '05863',\n",
       "  'utterance_id': 'fe_03_05863-A-0011',\n",
       "  'speech_raw': 'NO',\n",
       "  'has_words': True,\n",
       "  'speech': 'no',\n",
       "  'duration': 6560,\n",
       "  'end': 450240,\n",
       "  'start': 443680,\n",
       "  'channel': 1,\n",
       "  'audio_fn': 'fe_03_05863.sph',\n",
       "  'type': 'NIST_1A'},\n",
       " {'speaker': 'A',\n",
       "  'n_words': 19,\n",
       "  'call_id': '05863',\n",
       "  'utterance_id': 'fe_03_05863-A-0012',\n",
       "  'speech_raw': 'I THINK HUMAN BEINGS ARE PR- UM [LIPSMACK] FRIENDSHIP RELAT- RELATIONSHIPS WITH PEOPLE ARE A LOT MORE IMPORTANT THAN MONEY',\n",
       "  'has_words': True,\n",
       "  'speech': 'i think human beings are <rem> um friendship <rem> relationships with people are a lot more important than money',\n",
       "  'duration': 63040,\n",
       "  'end': 517280,\n",
       "  'start': 454240,\n",
       "  'channel': 1,\n",
       "  'audio_fn': 'fe_03_05863.sph',\n",
       "  'type': 'NIST_1A'},\n",
       " {'speaker': 'A',\n",
       "  'n_words': 8,\n",
       "  'call_id': '05863',\n",
       "  'utterance_id': 'fe_03_05863-A-0013',\n",
       "  'speech_raw': \"THEN YOU WEREN'T REALLY THEIR BEST FRIEND EITHER\",\n",
       "  'has_words': True,\n",
       "  'speech': \"then you weren't really their best friend either\",\n",
       "  'duration': 19200,\n",
       "  'end': 618880,\n",
       "  'start': 599680,\n",
       "  'channel': 1,\n",
       "  'audio_fn': 'fe_03_05863.sph',\n",
       "  'type': 'NIST_1A'},\n",
       " {'speaker': 'A',\n",
       "  'n_words': 2,\n",
       "  'call_id': '05863',\n",
       "  'utterance_id': 'fe_03_05863-A-0014',\n",
       "  'speech_raw': 'RIGHT RIGHT',\n",
       "  'has_words': True,\n",
       "  'speech': 'right right',\n",
       "  'duration': 13360,\n",
       "  'end': 687040,\n",
       "  'start': 673680,\n",
       "  'channel': 1,\n",
       "  'audio_fn': 'fe_03_05863.sph',\n",
       "  'type': 'NIST_1A'},\n",
       " {'speaker': 'A',\n",
       "  'n_words': 1,\n",
       "  'call_id': '05863',\n",
       "  'utterance_id': 'fe_03_05863-A-0015',\n",
       "  'speech_raw': 'NO',\n",
       "  'has_words': True,\n",
       "  'speech': 'no',\n",
       "  'duration': 7040,\n",
       "  'end': 715680,\n",
       "  'start': 708640,\n",
       "  'channel': 1,\n",
       "  'audio_fn': 'fe_03_05863.sph',\n",
       "  'type': 'NIST_1A'},\n",
       " {'speaker': 'A',\n",
       "  'n_words': 1,\n",
       "  'call_id': '05863',\n",
       "  'utterance_id': 'fe_03_05863-A-0016',\n",
       "  'speech_raw': 'MM',\n",
       "  'has_words': True,\n",
       "  'speech': 'mm',\n",
       "  'duration': 6720,\n",
       "  'end': 725040,\n",
       "  'start': 718320,\n",
       "  'channel': 1,\n",
       "  'audio_fn': 'fe_03_05863.sph',\n",
       "  'type': 'NIST_1A'},\n",
       " {'speaker': 'A',\n",
       "  'n_words': 18,\n",
       "  'call_id': '05863',\n",
       "  'utterance_id': 'fe_03_05863-A-0017',\n",
       "  'speech_raw': \"I DON'T THINK ANY MONEY IS WORTH ANYONE'S LIFE UH A HUMAN A PERSON'S LIFE IS WORTH EVERYTHING\",\n",
       "  'has_words': True,\n",
       "  'speech': \"i don't think any money is worth anyone's life uh a human a person's life is worth everything\",\n",
       "  'duration': 55680,\n",
       "  'end': 782800,\n",
       "  'start': 727120,\n",
       "  'channel': 1,\n",
       "  'audio_fn': 'fe_03_05863.sph',\n",
       "  'type': 'NIST_1A'},\n",
       " {'speaker': 'A',\n",
       "  'n_words': 3,\n",
       "  'call_id': '05863',\n",
       "  'utterance_id': 'fe_03_05863-A-0018',\n",
       "  'speech_raw': 'AMEN [LAUGHTER] IS RIGHT [LAUGHTER]',\n",
       "  'has_words': True,\n",
       "  'speech': 'amen is right',\n",
       "  'duration': 17840,\n",
       "  'end': 814160,\n",
       "  'start': 796320,\n",
       "  'channel': 1,\n",
       "  'audio_fn': 'fe_03_05863.sph',\n",
       "  'type': 'NIST_1A'},\n",
       " {'speaker': 'A',\n",
       "  'n_words': 21,\n",
       "  'call_id': '05863',\n",
       "  'utterance_id': 'fe_03_05863-A-0019',\n",
       "  'speech_raw': \"I MEAN I- THERE'S NOT REALLY MUCH THAT WE CAN DEBATE ON THIS BECAUSE WE REALLY AGREED ON IT YOU KNOW [LAUGHTER]\",\n",
       "  'has_words': True,\n",
       "  'speech': \"i mean <rem> there's not really much that we can debate on this because we really agreed on it you know\",\n",
       "  'duration': 57520,\n",
       "  'end': 913120,\n",
       "  'start': 855600,\n",
       "  'channel': 1,\n",
       "  'audio_fn': 'fe_03_05863.sph',\n",
       "  'type': 'NIST_1A'},\n",
       " {'speaker': 'A',\n",
       "  'n_words': 1,\n",
       "  'call_id': '05863',\n",
       "  'utterance_id': 'fe_03_05863-A-0020',\n",
       "  'speech_raw': 'RIGHT',\n",
       "  'has_words': True,\n",
       "  'speech': 'right',\n",
       "  'duration': 9280,\n",
       "  'end': 964960,\n",
       "  'start': 955680,\n",
       "  'channel': 1,\n",
       "  'audio_fn': 'fe_03_05863.sph',\n",
       "  'type': 'NIST_1A'},\n",
       " {'speaker': 'A',\n",
       "  'n_words': 2,\n",
       "  'call_id': '05863',\n",
       "  'utterance_id': 'fe_03_05863-A-0021',\n",
       "  'speech_raw': 'BUT UM',\n",
       "  'has_words': True,\n",
       "  'speech': 'but um',\n",
       "  'duration': 8160,\n",
       "  'end': 974640,\n",
       "  'start': 966480,\n",
       "  'channel': 1,\n",
       "  'audio_fn': 'fe_03_05863.sph',\n",
       "  'type': 'NIST_1A'},\n",
       " {'speaker': 'A',\n",
       "  'n_words': 1,\n",
       "  'call_id': '05863',\n",
       "  'utterance_id': 'fe_03_05863-A-0022',\n",
       "  'speech_raw': 'YEAH',\n",
       "  'has_words': True,\n",
       "  'speech': 'yeah',\n",
       "  'duration': 6400,\n",
       "  'end': 989040,\n",
       "  'start': 982640,\n",
       "  'channel': 1,\n",
       "  'audio_fn': 'fe_03_05863.sph',\n",
       "  'type': 'NIST_1A'},\n",
       " {'speaker': 'A',\n",
       "  'n_words': 4,\n",
       "  'call_id': '05863',\n",
       "  'utterance_id': 'fe_03_05863-A-0023',\n",
       "  'speech_raw': 'ACTUALLY MY RIGHT RIGHT',\n",
       "  'has_words': True,\n",
       "  'speech': 'actually my right right',\n",
       "  'duration': 20240,\n",
       "  'end': 1101760,\n",
       "  'start': 1081520,\n",
       "  'channel': 1,\n",
       "  'audio_fn': 'fe_03_05863.sph',\n",
       "  'type': 'NIST_1A'},\n",
       " {'speaker': 'A',\n",
       "  'n_words': 25,\n",
       "  'call_id': '05863',\n",
       "  'utterance_id': 'fe_03_05863-A-0024',\n",
       "  'speech_raw': 'I WAS ACTUALLY TALKING TO MY BEST FRIEND ON THE PHONE WHEN I GOT THIS CALL [LAUGHTER] SO I SAID I GOT TO CALL YOU BACK',\n",
       "  'has_words': True,\n",
       "  'speech': 'i was actually talking to my best friend on the phone when i got this call so i said i got to call you back',\n",
       "  'duration': 72480,\n",
       "  'end': 1180720,\n",
       "  'start': 1108240,\n",
       "  'channel': 1,\n",
       "  'audio_fn': 'fe_03_05863.sph',\n",
       "  'type': 'NIST_1A'},\n",
       " {'speaker': 'A',\n",
       "  'n_words': 10,\n",
       "  'call_id': '05863',\n",
       "  'utterance_id': 'fe_03_05863-A-0025',\n",
       "  'speech_raw': 'AND MY AND MY BEST FRIEND IS ACTUALLY A RELATIVE',\n",
       "  'has_words': True,\n",
       "  'speech': 'and my and my best friend is actually a relative',\n",
       "  'duration': 26320,\n",
       "  'end': 1208000,\n",
       "  'start': 1181680,\n",
       "  'channel': 1,\n",
       "  'audio_fn': 'fe_03_05863.sph',\n",
       "  'type': 'NIST_1A'},\n",
       " {'speaker': 'A',\n",
       "  'n_words': 1,\n",
       "  'call_id': '05863',\n",
       "  'utterance_id': 'fe_03_05863-A-0026',\n",
       "  'speech_raw': 'SO',\n",
       "  'has_words': True,\n",
       "  'speech': 'so',\n",
       "  'duration': 4960,\n",
       "  'end': 1219120,\n",
       "  'start': 1214160,\n",
       "  'channel': 1,\n",
       "  'audio_fn': 'fe_03_05863.sph',\n",
       "  'type': 'NIST_1A'},\n",
       " {'speaker': 'A',\n",
       "  'n_words': 14,\n",
       "  'call_id': '05863',\n",
       "  'utterance_id': 'fe_03_05863-A-0027',\n",
       "  'speech_raw': 'YEAH BECAUSE WE GREW UP AS KIDS TOGETHER AND WE WERE ALWAYS BEST FRIENDS',\n",
       "  'has_words': True,\n",
       "  'speech': 'yeah because we grew up as kids together and we were always best friends',\n",
       "  'duration': 39760,\n",
       "  'end': 1260400,\n",
       "  'start': 1220640,\n",
       "  'channel': 1,\n",
       "  'audio_fn': 'fe_03_05863.sph',\n",
       "  'type': 'NIST_1A'},\n",
       " {'speaker': 'A',\n",
       "  'n_words': 1,\n",
       "  'call_id': '05863',\n",
       "  'utterance_id': 'fe_03_05863-A-0028',\n",
       "  'speech_raw': 'SO',\n",
       "  'has_words': True,\n",
       "  'speech': 'so',\n",
       "  'duration': 6080,\n",
       "  'end': 1270960,\n",
       "  'start': 1264880,\n",
       "  'channel': 1,\n",
       "  'audio_fn': 'fe_03_05863.sph',\n",
       "  'type': 'NIST_1A'},\n",
       " {'speaker': 'A',\n",
       "  'n_words': 1,\n",
       "  'call_id': '05863',\n",
       "  'utterance_id': 'fe_03_05863-A-0029',\n",
       "  'speech_raw': 'MHM',\n",
       "  'has_words': True,\n",
       "  'speech': 'mhm',\n",
       "  'duration': 7440,\n",
       "  'end': 1282960,\n",
       "  'start': 1275520,\n",
       "  'channel': 1,\n",
       "  'audio_fn': 'fe_03_05863.sph',\n",
       "  'type': 'NIST_1A'},\n",
       " {'speaker': 'A',\n",
       "  'n_words': 1,\n",
       "  'call_id': '05863',\n",
       "  'utterance_id': 'fe_03_05863-A-0030',\n",
       "  'speech_raw': 'MHM',\n",
       "  'has_words': True,\n",
       "  'speech': 'mhm',\n",
       "  'duration': 6800,\n",
       "  'end': 1377200,\n",
       "  'start': 1370400,\n",
       "  'channel': 1,\n",
       "  'audio_fn': 'fe_03_05863.sph',\n",
       "  'type': 'NIST_1A'},\n",
       " {'speaker': 'A',\n",
       "  'n_words': 15,\n",
       "  'call_id': '05863',\n",
       "  'utterance_id': 'fe_03_05863-A-0031',\n",
       "  'speech_raw': 'AND WITH THIS BEST FRIEND I CAN CONFIDE IN ANYTHING AND I I AND UM',\n",
       "  'has_words': True,\n",
       "  'speech': 'and with this best friend i can confide in anything and i i and um',\n",
       "  'duration': 49440,\n",
       "  'end': 1435200,\n",
       "  'start': 1385760,\n",
       "  'channel': 1,\n",
       "  'audio_fn': 'fe_03_05863.sph',\n",
       "  'type': 'NIST_1A'},\n",
       " {'speaker': 'A',\n",
       "  'n_words': 3,\n",
       "  'call_id': '05863',\n",
       "  'utterance_id': 'fe_03_05863-A-0032',\n",
       "  'speech_raw': 'I TRUST HER',\n",
       "  'has_words': True,\n",
       "  'speech': 'i trust her',\n",
       "  'duration': 12560,\n",
       "  'end': 1448400,\n",
       "  'start': 1435840,\n",
       "  'channel': 1,\n",
       "  'audio_fn': 'fe_03_05863.sph',\n",
       "  'type': 'NIST_1A'},\n",
       " {'speaker': 'A',\n",
       "  'n_words': 3,\n",
       "  'call_id': '05863',\n",
       "  'utterance_id': 'fe_03_05863-A-0033',\n",
       "  'speech_raw': 'IN EVERYTHING RIGHT',\n",
       "  'has_words': True,\n",
       "  'speech': 'in everything right',\n",
       "  'duration': 17760,\n",
       "  'end': 1470240,\n",
       "  'start': 1452480,\n",
       "  'channel': 1,\n",
       "  'audio_fn': 'fe_03_05863.sph',\n",
       "  'type': 'NIST_1A'},\n",
       " {'speaker': 'A',\n",
       "  'n_words': 9,\n",
       "  'call_id': '05863',\n",
       "  'utterance_id': 'fe_03_05863-A-0034',\n",
       "  'speech_raw': \"AND THERE'S NOTHING THAT I CAN'T SAY TO HER\",\n",
       "  'has_words': True,\n",
       "  'speech': \"and there's nothing that i can't say to her\",\n",
       "  'duration': 22880,\n",
       "  'end': 1495600,\n",
       "  'start': 1472720,\n",
       "  'channel': 1,\n",
       "  'audio_fn': 'fe_03_05863.sph',\n",
       "  'type': 'NIST_1A'},\n",
       " {'speaker': 'A',\n",
       "  'n_words': 9,\n",
       "  'call_id': '05863',\n",
       "  'utterance_id': 'fe_03_05863-A-0035',\n",
       "  'speech_raw': 'AND UH AND THEN WHAT WOULD HAPPEN I MEAN',\n",
       "  'has_words': True,\n",
       "  'speech': 'and uh and then what would happen i mean',\n",
       "  'duration': 32560,\n",
       "  'end': 1533360,\n",
       "  'start': 1500800,\n",
       "  'channel': 1,\n",
       "  'audio_fn': 'fe_03_05863.sph',\n",
       "  'type': 'NIST_1A'},\n",
       " {'speaker': 'A',\n",
       "  'n_words': 8,\n",
       "  'call_id': '05863',\n",
       "  'utterance_id': 'fe_03_05863-A-0036',\n",
       "  'speech_raw': 'I WOULD LOSE THAT FOR A MILLION DOLLARS',\n",
       "  'has_words': True,\n",
       "  'speech': 'i would lose that for a million dollars',\n",
       "  'duration': 18080,\n",
       "  'end': 1552720,\n",
       "  'start': 1534640,\n",
       "  'channel': 1,\n",
       "  'audio_fn': 'fe_03_05863.sph',\n",
       "  'type': 'NIST_1A'},\n",
       " {'speaker': 'A',\n",
       "  'n_words': 21,\n",
       "  'call_id': '05863',\n",
       "  'utterance_id': 'fe_03_05863-A-0037',\n",
       "  'speech_raw': \"YOU KNOW CERTAIN PARTS OF THE COUNTRY YOU CAN'T EVEN GET A HOUSE IN CALIFORNIA FOR A MILLION DOLLARS YOU KNOW\",\n",
       "  'has_words': True,\n",
       "  'speech': \"you know certain parts of the country you can't even get a house in california for a million dollars you know\",\n",
       "  'duration': 56080,\n",
       "  'end': 1610240,\n",
       "  'start': 1554160,\n",
       "  'channel': 1,\n",
       "  'audio_fn': 'fe_03_05863.sph',\n",
       "  'type': 'NIST_1A'},\n",
       " {'speaker': 'A',\n",
       "  'n_words': 5,\n",
       "  'call_id': '05863',\n",
       "  'utterance_id': 'fe_03_05863-A-0038',\n",
       "  'speech_raw': 'NO I LIVE IN MASSACHUSETTS',\n",
       "  'has_words': True,\n",
       "  'speech': 'no i live in massachusetts',\n",
       "  'duration': 15840,\n",
       "  'end': 1636240,\n",
       "  'start': 1620400,\n",
       "  'channel': 1,\n",
       "  'audio_fn': 'fe_03_05863.sph',\n",
       "  'type': 'NIST_1A'},\n",
       " {'speaker': 'A',\n",
       "  'n_words': 3,\n",
       "  'call_id': '05863',\n",
       "  'utterance_id': 'fe_03_05863-A-0039',\n",
       "  'speech_raw': 'OH YOU ARE',\n",
       "  'has_words': True,\n",
       "  'speech': 'oh you are',\n",
       "  'duration': 8720,\n",
       "  'end': 1653840,\n",
       "  'start': 1645120,\n",
       "  'channel': 1,\n",
       "  'audio_fn': 'fe_03_05863.sph',\n",
       "  'type': 'NIST_1A'},\n",
       " {'speaker': 'A',\n",
       "  'n_words': 3,\n",
       "  'call_id': '05863',\n",
       "  'utterance_id': 'fe_03_05863-A-0040',\n",
       "  'speech_raw': 'WHERE SAN FRANCISCO',\n",
       "  'has_words': True,\n",
       "  'speech': 'where san francisco',\n",
       "  'duration': 12720,\n",
       "  'end': 1673840,\n",
       "  'start': 1661120,\n",
       "  'channel': 1,\n",
       "  'audio_fn': 'fe_03_05863.sph',\n",
       "  'type': 'NIST_1A'},\n",
       " {'speaker': 'A',\n",
       "  'n_words': 17,\n",
       "  'call_id': '05863',\n",
       "  'utterance_id': 'fe_03_05863-A-0041',\n",
       "  'speech_raw': 'RIGHT RIGHT BECAUSE I HAVE BEEN TO SAN FRANCISCO TWICE BECAUSE MY SON LIVES IN SAN HOSE',\n",
       "  'has_words': True,\n",
       "  'speech': 'right right because i have been to san francisco twice because my son lives in san hose',\n",
       "  'duration': 35760,\n",
       "  'end': 1735680,\n",
       "  'start': 1699920,\n",
       "  'channel': 1,\n",
       "  'audio_fn': 'fe_03_05863.sph',\n",
       "  'type': 'NIST_1A'},\n",
       " {'speaker': 'A',\n",
       "  'n_words': 11,\n",
       "  'call_id': '05863',\n",
       "  'utterance_id': 'fe_03_05863-A-0042',\n",
       "  'speech_raw': \"SO I KNOW THAT REAL ESTATE OUT THERE'S REALLY EXPENSIVE SO\",\n",
       "  'has_words': True,\n",
       "  'speech': \"so i know that real estate out there's really expensive so\",\n",
       "  'duration': 39520,\n",
       "  'end': 1775520,\n",
       "  'start': 1736000,\n",
       "  'channel': 1,\n",
       "  'audio_fn': 'fe_03_05863.sph',\n",
       "  'type': 'NIST_1A'},\n",
       " {'speaker': 'A',\n",
       "  'n_words': 5,\n",
       "  'call_id': '05863',\n",
       "  'utterance_id': 'fe_03_05863-A-0043',\n",
       "  'speech_raw': \"IT IT'S NOT EVEN THOUGH\",\n",
       "  'has_words': True,\n",
       "  'speech': \"it it's not even though\",\n",
       "  'duration': 12320,\n",
       "  'end': 1792560,\n",
       "  'start': 1780240,\n",
       "  'channel': 1,\n",
       "  'audio_fn': 'fe_03_05863.sph',\n",
       "  'type': 'NIST_1A'},\n",
       " {'speaker': 'A',\n",
       "  'n_words': 7,\n",
       "  'call_id': '05863',\n",
       "  'utterance_id': 'fe_03_05863-A-0044',\n",
       "  'speech_raw': \"I WOULDN'T DO IT FOR ANYTHING NOTHING\",\n",
       "  'has_words': True,\n",
       "  'speech': \"i wouldn't do it for anything nothing\",\n",
       "  'duration': 22160,\n",
       "  'end': 1816560,\n",
       "  'start': 1794400,\n",
       "  'channel': 1,\n",
       "  'audio_fn': 'fe_03_05863.sph',\n",
       "  'type': 'NIST_1A'},\n",
       " {'speaker': 'A',\n",
       "  'n_words': 2,\n",
       "  'call_id': '05863',\n",
       "  'utterance_id': 'fe_03_05863-A-0045',\n",
       "  'speech_raw': 'NO NO',\n",
       "  'has_words': True,\n",
       "  'speech': 'no no',\n",
       "  'duration': 5520,\n",
       "  'end': 1826880,\n",
       "  'start': 1821360,\n",
       "  'channel': 1,\n",
       "  'audio_fn': 'fe_03_05863.sph',\n",
       "  'type': 'NIST_1A'},\n",
       " {'speaker': 'A',\n",
       "  'n_words': 33,\n",
       "  'call_id': '05863',\n",
       "  'utterance_id': 'fe_03_05863-A-0046',\n",
       "  'speech_raw': \"RIGHT RIGHT THEY ARE HARD TO DISCUSS BECAUSE IF WE AGREE WITH THEM RIGHT AWAY UH THERE'S NOT MUCH AND WE HAVE TO TALK ABOUT THIS TOPIC THE WHOLE TIME OF THE STUDY\",\n",
       "  'has_words': True,\n",
       "  'speech': \"right right they are hard to discuss because if we agree with them right away uh there's not much and we have to talk about this topic the whole time of the study\",\n",
       "  'duration': 87840,\n",
       "  'end': 1948480,\n",
       "  'start': 1860640,\n",
       "  'channel': 1,\n",
       "  'audio_fn': 'fe_03_05863.sph',\n",
       "  'type': 'NIST_1A'},\n",
       " {'speaker': 'A',\n",
       "  'n_words': 2,\n",
       "  'call_id': '05863',\n",
       "  'utterance_id': 'fe_03_05863-A-0047',\n",
       "  'speech_raw': 'SO UM',\n",
       "  'has_words': True,\n",
       "  'speech': 'so um',\n",
       "  'duration': 10960,\n",
       "  'end': 1961600,\n",
       "  'start': 1950640,\n",
       "  'channel': 1,\n",
       "  'audio_fn': 'fe_03_05863.sph',\n",
       "  'type': 'NIST_1A'},\n",
       " {'speaker': 'A',\n",
       "  'n_words': 22,\n",
       "  'call_id': '05863',\n",
       "  'utterance_id': 'fe_03_05863-A-0048',\n",
       "  'speech_raw': \"[LAUGHTER] IT IS LONG WHEN YOU WHEN YOU GET TO THE AGREEMENT IF WE WERE DEBATING ON IT IT WOULDN'T BE LONG BUT\",\n",
       "  'has_words': True,\n",
       "  'speech': \"it is long when you when you get to the agreement if we were debating on it it wouldn't be long but\",\n",
       "  'duration': 54400,\n",
       "  'end': 2029120,\n",
       "  'start': 1974720,\n",
       "  'channel': 1,\n",
       "  'audio_fn': 'fe_03_05863.sph',\n",
       "  'type': 'NIST_1A'},\n",
       " {'speaker': 'A',\n",
       "  'n_words': 5,\n",
       "  'call_id': '05863',\n",
       "  'utterance_id': 'fe_03_05863-A-0049',\n",
       "  'speech_raw': \"[LAUGHTER] WE'D BE LIKE THE POLITICIANS\",\n",
       "  'has_words': True,\n",
       "  'speech': \"we'd be like the politicians\",\n",
       "  'duration': 25280,\n",
       "  'end': 2094640,\n",
       "  'start': 2069360,\n",
       "  'channel': 1,\n",
       "  'audio_fn': 'fe_03_05863.sph',\n",
       "  'type': 'NIST_1A'},\n",
       " {'speaker': 'A',\n",
       "  'n_words': 2,\n",
       "  'call_id': '05863',\n",
       "  'utterance_id': 'fe_03_05863-A-0050',\n",
       "  'speech_raw': '[LAUGHTER] SO UM',\n",
       "  'has_words': True,\n",
       "  'speech': 'so um',\n",
       "  'duration': 14960,\n",
       "  'end': 2137600,\n",
       "  'start': 2122640,\n",
       "  'channel': 1,\n",
       "  'audio_fn': 'fe_03_05863.sph',\n",
       "  'type': 'NIST_1A'},\n",
       " {'speaker': 'A',\n",
       "  'n_words': 5,\n",
       "  'call_id': '05863',\n",
       "  'utterance_id': 'fe_03_05863-A-0051',\n",
       "  'speech_raw': \"THERE'S REALLY NOT MUCH UM\",\n",
       "  'has_words': True,\n",
       "  'speech': \"there's really not much um\",\n",
       "  'duration': 17600,\n",
       "  'end': 2162160,\n",
       "  'start': 2144560,\n",
       "  'channel': 1,\n",
       "  'audio_fn': 'fe_03_05863.sph',\n",
       "  'type': 'NIST_1A'},\n",
       " {'speaker': 'A',\n",
       "  'n_words': 3,\n",
       "  'call_id': '05863',\n",
       "  'utterance_id': 'fe_03_05863-A-0052',\n",
       "  'speech_raw': 'I CAN SAY',\n",
       "  'has_words': True,\n",
       "  'speech': 'i can say',\n",
       "  'duration': 13280,\n",
       "  'end': 2178080,\n",
       "  'start': 2164800,\n",
       "  'channel': 1,\n",
       "  'audio_fn': 'fe_03_05863.sph',\n",
       "  'type': 'NIST_1A'},\n",
       " {'speaker': 'A',\n",
       "  'n_words': 5,\n",
       "  'call_id': '05863',\n",
       "  'utterance_id': 'fe_03_05863-A-0053',\n",
       "  'speech_raw': \"BUT I WOULDN'T DO IT\",\n",
       "  'has_words': True,\n",
       "  'speech': \"but i wouldn't do it\",\n",
       "  'duration': 12000,\n",
       "  'end': 2194640,\n",
       "  'start': 2182640,\n",
       "  'channel': 1,\n",
       "  'audio_fn': 'fe_03_05863.sph',\n",
       "  'type': 'NIST_1A'},\n",
       " {'speaker': 'A',\n",
       "  'n_words': 1,\n",
       "  'call_id': '05863',\n",
       "  'utterance_id': 'fe_03_05863-A-0054',\n",
       "  'speech_raw': '[LAUGHTER]',\n",
       "  'has_words': False,\n",
       "  'speech': '',\n",
       "  'duration': 11360,\n",
       "  'end': 2221040,\n",
       "  'start': 2209680,\n",
       "  'channel': 1,\n",
       "  'audio_fn': 'fe_03_05863.sph',\n",
       "  'type': 'NIST_1A'},\n",
       " {'speaker': 'A',\n",
       "  'n_words': 1,\n",
       "  'call_id': '05863',\n",
       "  'utterance_id': 'fe_03_05863-A-0055',\n",
       "  'speech_raw': 'OH',\n",
       "  'has_words': True,\n",
       "  'speech': 'oh',\n",
       "  'duration': 8560,\n",
       "  'end': 2243600,\n",
       "  'start': 2235040,\n",
       "  'channel': 1,\n",
       "  'audio_fn': 'fe_03_05863.sph',\n",
       "  'type': 'NIST_1A'},\n",
       " {'speaker': 'A',\n",
       "  'n_words': 1,\n",
       "  'call_id': '05863',\n",
       "  'utterance_id': 'fe_03_05863-A-0056',\n",
       "  'speech_raw': 'SO',\n",
       "  'has_words': True,\n",
       "  'speech': 'so',\n",
       "  'duration': 6720,\n",
       "  'end': 2267760,\n",
       "  'start': 2261040,\n",
       "  'channel': 1,\n",
       "  'audio_fn': 'fe_03_05863.sph',\n",
       "  'type': 'NIST_1A'},\n",
       " {'speaker': 'A',\n",
       "  'n_words': 1,\n",
       "  'call_id': '05863',\n",
       "  'utterance_id': 'fe_03_05863-A-0057',\n",
       "  'speech_raw': 'UH',\n",
       "  'has_words': True,\n",
       "  'speech': 'uh',\n",
       "  'duration': 12480,\n",
       "  'end'"
      ]
     },
     "execution_count": 137,
     "metadata": {},
     "output_type": "execute_result"
    },
    {
     "data": {
      "text/html": [
       "<b>limit_output extension: Maximum message size of 20000 exceeded with 80107 characters</b>"
      ]
     },
     "metadata": {},
     "output_type": "display_data"
    }
   ],
   "source": [
    "get_transcriptions_bbn('05863')"
   ]
  },
  {
   "cell_type": "markdown",
   "metadata": {},
   "source": [
    "## Some summary / sanity-checking statistics"
   ]
  },
  {
   "cell_type": "markdown",
   "metadata": {},
   "source": [
    "How many calls are in the bbn transcripts?"
   ]
  },
  {
   "cell_type": "code",
   "execution_count": 138,
   "metadata": {
    "ExecuteTime": {
     "end_time": "2019-04-24T01:22:00.762689Z",
     "start_time": "2019-04-24T01:22:00.755055Z"
    }
   },
   "outputs": [
    {
     "data": {
      "text/plain": [
       "5120"
      ]
     },
     "execution_count": 138,
     "metadata": {},
     "output_type": "execute_result"
    },
    {
     "data": {
      "text/plain": [
       "5849"
      ]
     },
     "execution_count": 138,
     "metadata": {},
     "output_type": "execute_result"
    },
    {
     "data": {
      "text/plain": [
       "729"
      ]
     },
     "execution_count": 138,
     "metadata": {},
     "output_type": "execute_result"
    }
   ],
   "source": [
    "call_ids_bbn = [c['call_id'] for c in bbn_call_relation]\n",
    "len(call_ids_bbn)\n",
    "len(call_ids)\n",
    "len(call_ids) - len(call_ids_bbn)"
   ]
  },
  {
   "cell_type": "code",
   "execution_count": 139,
   "metadata": {
    "ExecuteTime": {
     "end_time": "2019-04-24T01:22:00.773009Z",
     "start_time": "2019-04-24T01:22:00.763938Z"
    }
   },
   "outputs": [
    {
     "data": {
      "text/plain": [
       "{'05851',\n",
       " '05852',\n",
       " '05853',\n",
       " '05854',\n",
       " '05855',\n",
       " '05856',\n",
       " '05857',\n",
       " '05858',\n",
       " '05859',\n",
       " '05860',\n",
       " '05861',\n",
       " '05862',\n",
       " '05864',\n",
       " '05865',\n",
       " '05866',\n",
       " '05867',\n",
       " '05868',\n",
       " '05869',\n",
       " '05870',\n",
       " '05871',\n",
       " '05872',\n",
       " '05873',\n",
       " '05874',\n",
       " '05875',\n",
       " '05877',\n",
       " '05878',\n",
       " '05879',\n",
       " '05880',\n",
       " '05881',\n",
       " '05882',\n",
       " '05883',\n",
       " '05884',\n",
       " '05885',\n",
       " '05886',\n",
       " '05890',\n",
       " '05891',\n",
       " '05892',\n",
       " '05893',\n",
       " '05894',\n",
       " '05895',\n",
       " '05896',\n",
       " '05897',\n",
       " '05899',\n",
       " '05900',\n",
       " '05901',\n",
       " '05902',\n",
       " '05903',\n",
       " '05904',\n",
       " '05905',\n",
       " '05906',\n",
       " '05907',\n",
       " '05908',\n",
       " '05909',\n",
       " '05910',\n",
       " '05911',\n",
       " '05912',\n",
       " '05913',\n",
       " '05914',\n",
       " '05915',\n",
       " '05916',\n",
       " '05917',\n",
       " '05918',\n",
       " '05919',\n",
       " '05920',\n",
       " '05921',\n",
       " '05922',\n",
       " '05923',\n",
       " '05924',\n",
       " '05925',\n",
       " '05926',\n",
       " '05927',\n",
       " '05928',\n",
       " '05929',\n",
       " '05930',\n",
       " '05931',\n",
       " '05932',\n",
       " '05933',\n",
       " '05934',\n",
       " '05935',\n",
       " '05936',\n",
       " '05937',\n",
       " '05938',\n",
       " '05939',\n",
       " '05940',\n",
       " '05941',\n",
       " '05942',\n",
       " '05943',\n",
       " '05944',\n",
       " '05945',\n",
       " '05946',\n",
       " '05947',\n",
       " '05948',\n",
       " '05949',\n",
       " '05950',\n",
       " '05951',\n",
       " '05952',\n",
       " '05953',\n",
       " '05954',\n",
       " '05955',\n",
       " '05956',\n",
       " '05957',\n",
       " '05958',\n",
       " '05959',\n",
       " '05960',\n",
       " '05961',\n",
       " '05962',\n",
       " '05963',\n",
       " '05964',\n",
       " '05965',\n",
       " '05966',\n",
       " '05967',\n",
       " '05968',\n",
       " '05969',\n",
       " '05970',\n",
       " '05971',\n",
       " '05972',\n",
       " '05973',\n",
       " '05974',\n",
       " '05975',\n",
       " '05976',\n",
       " '05977',\n",
       " '05978',\n",
       " '05979',\n",
       " '05980',\n",
       " '05981',\n",
       " '05982',\n",
       " '05983',\n",
       " '05984',\n",
       " '05985',\n",
       " '05986',\n",
       " '05987',\n",
       " '05988',\n",
       " '05989',\n",
       " '05990',\n",
       " '05991',\n",
       " '05992',\n",
       " '05993',\n",
       " '05994',\n",
       " '05995',\n",
       " '05997',\n",
       " '05998',\n",
       " '05999',\n",
       " '06001',\n",
       " '06002',\n",
       " '06003',\n",
       " '06004',\n",
       " '06005',\n",
       " '06006',\n",
       " '06007',\n",
       " '06008',\n",
       " '06009',\n",
       " '06010',\n",
       " '06011',\n",
       " '06012',\n",
       " '06013',\n",
       " '06014',\n",
       " '06015',\n",
       " '06016',\n",
       " '06017',\n",
       " '06018',\n",
       " '06019',\n",
       " '06020',\n",
       " '06021',\n",
       " '06022',\n",
       " '06023',\n",
       " '06024',\n",
       " '06026',\n",
       " '06029',\n",
       " '06030',\n",
       " '06031',\n",
       " '06032',\n",
       " '06033',\n",
       " '06034',\n",
       " '06036',\n",
       " '06038',\n",
       " '06039',\n",
       " '06040',\n",
       " '07993',\n",
       " '08099',\n",
       " '08124',\n",
       " '08160',\n",
       " '08161',\n",
       " '08186',\n",
       " '08210',\n",
       " '08499',\n",
       " '08658',\n",
       " '08799',\n",
       " '08810',\n",
       " '08847',\n",
       " '08956',\n",
       " '08993',\n",
       " '08999',\n",
       " '09000',\n",
       " '09001',\n",
       " '09005',\n",
       " '09006',\n",
       " '09007',\n",
       " '09008',\n",
       " '09010',\n",
       " '09011',\n",
       " '09015',\n",
       " '09016',\n",
       " '09017',\n",
       " '09018',\n",
       " '09020',\n",
       " '09021',\n",
       " '09024',\n",
       " '09026',\n",
       " '09030',\n",
       " '09031',\n",
       " '09032',\n",
       " '09035',\n",
       " '09038',\n",
       " '09039',\n",
       " '09049',\n",
       " '09055',\n",
       " '09056',\n",
       " '09057',\n",
       " '09058',\n",
       " '09059',\n",
       " '09064',\n",
       " '09065',\n",
       " '09066',\n",
       " '09068',\n",
       " '09070',\n",
       " '09076',\n",
       " '09081',\n",
       " '09082',\n",
       " '09083',\n",
       " '09087',\n",
       " '09088',\n",
       " '09089',\n",
       " '09092',\n",
       " '09097',\n",
       " '09100',\n",
       " '09103',\n",
       " '09126',\n",
       " '09130',\n",
       " '09131',\n",
       " '09945',\n",
       " '09952',\n",
       " '09953',\n",
       " '09958',\n",
       " '09961',\n",
       " '09982',\n",
       " '10013',\n",
       " '10015',\n",
       " '10016',\n",
       " '10129',\n",
       " '10130',\n",
       " '10131',\n",
       " '10144',\n",
       " '10153',\n",
       " '10154',\n",
       " '10161',\n",
       " '10162',\n",
       " '10165',\n",
       " '10191',\n",
       " '10197',\n",
       " '10201',\n",
       " '10202',\n",
       " '10203',\n",
       " '10231',\n",
       " '10232',\n",
       " '10233',\n",
       " '10257',\n",
       " '10258',\n",
       " '10265',\n",
       " '10266',\n",
       " '10267',\n",
       " '10268',\n",
       " '10269',\n",
       " '10270',\n",
       " '10271',\n",
       " '10272',\n",
       " '10273',\n",
       " '10274',\n",
       " '10275',\n",
       " '10276',\n",
       " '10277',\n",
       " '10278',\n",
       " '10279',\n",
       " '10280',\n",
       " '10281',\n",
       " '10282',\n",
       " '10283',\n",
       " '10284',\n",
       " '10285',\n",
       " '10286',\n",
       " '10287',\n",
       " '10288',\n",
       " '10289',\n",
       " '10290',\n",
       " '10297',\n",
       " '10299',\n",
       " '10315',\n",
       " '10324',\n",
       " '10332',\n",
       " '10349',\n",
       " '10352',\n",
       " '10354',\n",
       " '10355',\n",
       " '10400',\n",
       " '10419',\n",
       " '10445',\n",
       " '10450',\n",
       " '10506',\n",
       " '10522',\n",
       " '10529',\n",
       " '10532',\n",
       " '10550',\n",
       " '10551',\n",
       " '10552',\n",
       " '10553',\n",
       " '10555',\n",
       " '10586',\n",
       " '10622',\n",
       " '10630',\n",
       " '10634',\n",
       " '10636',\n",
       " '10642',\n",
       " '10717',\n",
       " '10750',\n",
       " '10776',\n",
       " '10785',\n",
       " '10808',\n",
       " '10812',\n",
       " '10833',\n",
       " '10834',\n",
       " '10836',\n",
       " '10839',\n",
       " '10841',\n",
       " '10872',\n",
       " '10881',\n",
       " '10883',\n",
       " '10912',\n",
       " '10921',\n",
       " '10928',\n",
       " '10933',\n",
       " '10999',\n",
       " '11038',\n",
       " '11039',\n",
       " '11040',\n",
       " '11041',\n",
       " '11042',\n",
       " '11043',\n",
       " '11044',\n",
       " '11045',\n",
       " '11046',\n",
       " '11047',\n",
       " '11048',\n",
       " '11049',\n",
       " '11050',\n",
       " '11051',\n",
       " '11052',\n",
       " '11053',\n",
       " '11054',\n",
       " '11085',\n",
       " '11086',\n",
       " '11087',\n",
       " '11088',\n",
       " '11089',\n",
       " '11090',\n",
       " '11091',\n",
       " '11092',\n",
       " '11093',\n",
       " '11094',\n",
       " '11095',\n",
       " '11096',\n",
       " '11097',\n",
       " '11098',\n",
       " '11099',\n",
       " '11100',\n",
       " '11101',\n",
       " '11102',\n",
       " '11103',\n",
       " '11104',\n",
       " '11105',\n",
       " '11106',\n",
       " '11107',\n",
       " '11125',\n",
       " '11170',\n",
       " '11175',\n",
       " '11202',\n",
       " '11261',\n",
       " '11262',\n",
       " '11263',\n",
       " '11264',\n",
       " '11265',\n",
       " '11266',\n",
       " '11267',\n",
       " '11268',\n",
       " '11269',\n",
       " '11270',\n",
       " '11271',\n",
       " '11272',\n",
       " '11273',\n",
       " '11274',\n",
       " '11275',\n",
       " '11276',\n",
       " '11277',\n",
       " '11278',\n",
       " '11279',\n",
       " '11280',\n",
       " '11281',\n",
       " '11282',\n",
       " '11283',\n",
       " '11284',\n",
       " '11285',\n",
       " '11286',\n",
       " '11287',\n",
       " '11288',\n",
       " '11289',\n",
       " '11290',\n",
       " '11291',\n",
       " '11292',\n",
       " '11294',\n",
       " '11333',\n",
       " '11356',\n",
       " '11368',\n",
       " '11369',\n",
       " '11370',\n",
       " '11381',\n",
       " '11382',\n",
       " '11395',\n",
       " '11396',\n",
       " '11397',\n",
       " '11398',\n",
       " '11399',\n",
       " '11400',\n",
       " '11401',\n",
       " '11402',\n",
       " '11403',\n",
       " '11404',\n",
       " '11405',\n",
       " '11406',\n",
       " '11407',\n",
       " '11408',\n",
       " '11409',\n",
       " '11410',\n",
       " '11411',\n",
       " '11412',\n",
       " '11413',\n",
       " '11414',\n",
       " '11415',\n",
       " '11416',\n",
       " '11417',\n",
       " '11418',\n",
       " '11419',\n",
       " '11420',\n",
       " '11421',\n",
       " '11422',\n",
       " '11423',\n",
       " '11424',\n",
       " '11425',\n",
       " '11426',\n",
       " '11427',\n",
       " '11428',\n",
       " '11429',\n",
       " '11430',\n",
       " '11431',\n",
       " '11432',\n",
       " '11433',\n",
       " '11434',\n",
       " '11435',\n",
       " '11436',\n",
       " '11437',\n",
       " '11438',\n",
       " '11439',\n",
       " '11440',\n",
       " '11441',\n",
       " '11442',\n",
       " '11443',\n",
       " '11444',\n",
       " '11445',\n",
       " '11446',\n",
       " '11447',\n",
       " '11448',\n",
       " '11449',\n",
       " '11450',\n",
       " '11451',\n",
       " '11452',\n",
       " '11453',\n",
       " '11454',\n",
       " '11455',\n",
       " '11456',\n",
       " '11457',\n",
       " '11458',\n",
       " '11459',\n",
       " '11460',\n",
       " '11461',\n",
       " '11462',\n",
       " '11463',\n",
       " '11464',\n",
       " '11465',\n",
       " '11466',\n",
       " '11467',\n",
       " '11468',\n",
       " '11469',\n",
       " '11470',\n",
       " '11471',\n",
       " '11472',\n",
       " '11473',\n",
       " '11474',\n",
       " '11475',\n",
       " '11476',\n",
       " '11477',\n",
       " '11478',\n",
       " '11479',\n",
       " '11480',\n",
       " '11481',\n",
       " '11482',\n",
       " '11483',\n",
       " '11484',\n",
       " '11485',\n",
       " '11486',\n",
       " '11487',\n",
       " '11488',\n",
       " '11489',\n",
       " '11490',\n",
       " '11491',\n",
       " '11492',\n",
       " '11493',\n",
       " '11494',\n",
       " '11495',\n",
       " '11496',\n",
       " '11497',\n",
       " '11498',\n",
       " '11499',\n",
       " '11500',\n",
       " '11501',\n",
       " '11502',\n",
       " '11503',\n",
       " '11504',\n",
       " '11505',\n",
       " '11506',\n",
       " '11507',\n",
       " '11508',\n",
       " '11509',\n",
       " '11510',\n",
       " '11511',\n",
       " '11512',\n",
       " '11513',\n",
       " '11514',\n",
       " '11515',\n",
       " '11516',\n",
       " '11517',\n",
       " '11518',\n",
       " '11519',\n",
       " '11520',\n",
       " '11521',\n",
       " '11522',\n",
       " '11523',\n",
       " '11524',\n",
       " '11525',\n",
       " '11526',\n",
       " '11527',\n",
       " '11528',\n",
       " '11529',\n",
       " '11530',\n",
       " '11531',\n",
       " '11532',\n",
       " '11533',\n",
       " '11534',\n",
       " '11535',\n",
       " '11536',\n",
       " '11537',\n",
       " '11538',\n",
       " '11539',\n",
       " '11540',\n",
       " '11541',\n",
       " '11542',\n",
       " '11543',\n",
       " '11544',\n",
       " '11545',\n",
       " '11546',\n",
       " '11547',\n",
       " '11548',\n",
       " '11549',\n",
       " '11550',\n",
       " '11551',\n",
       " '11552',\n",
       " '11553',\n",
       " '11554',\n",
       " '11555',\n",
       " '11556',\n",
       " '11557',\n",
       " '11558',\n",
       " '11559',\n",
       " '11560',\n",
       " '11561',\n",
       " '11562',\n",
       " '11563',\n",
       " '11564',\n",
       " '11565',\n",
       " '11566',\n",
       " '11567',\n",
       " '11568',\n",
       " '11569',\n",
       " '11570',\n",
       " '11571',\n",
       " '11572',\n",
       " '11573',\n",
       " '11574',\n",
       " '11575',\n",
       " '11576',\n",
       " '11577',\n",
       " '11578',\n",
       " '11579',\n",
       " '11580',\n",
       " '11581',\n",
       " '11582',\n",
       " '11583',\n",
       " '11584',\n",
       " '11585',\n",
       " '11586',\n",
       " '11587',\n",
       " '11588',\n",
       " '11589',\n",
       " '11590',\n",
       " '11591',\n",
       " '11592',\n",
       " '11593',\n",
       " '11594',\n",
       " '11595',\n",
       " '11596',\n",
       " '11597',\n",
       " '11598',\n",
       " '11599',\n",
       " '11600',\n",
       " '11601',\n",
       " '11602',\n",
       " '11603',\n",
       " '11604',\n",
       " '11605',\n",
       " '11606',\n",
       " '11607',\n",
       " '11608',\n",
       " '11609',\n",
       " '11610',\n",
       " '11611',\n",
       " '11612',\n",
       " '11613',\n",
       " '11614',\n",
       " '11615',\n",
       " '11616',\n",
       " '11617',\n",
       " '11618',\n",
       " '11619',\n",
       " '11620',\n",
       " '11621',\n",
       " '11622',\n",
       " '11623',\n",
       " '11624',\n",
       " '11625',\n",
       " '11626',\n",
       " '11627',\n",
       " '11628',\n",
       " '11629',\n",
       " '11630',\n",
       " '11631',\n",
       " '11632',\n",
       " '11633',\n",
       " '11634',\n",
       " '11635',\n",
       " '11636',\n",
       " '11637',\n",
       " '11638',\n",
       " '11639',\n",
       " '11640',\n",
       " '11641',\n",
       " '11642',\n",
       " '11643',\n",
       " '11644',\n",
       " '11645',\n",
       " '11646',\n",
       " '11647',\n",
       " '11648',\n",
       " '11649',\n",
       " '11650',\n",
       " '11651',\n",
       " '11652',\n",
       " '11653',\n",
       " '11654',\n",
       " '11655',\n",
       " '11656',\n",
       " '11657',\n",
       " '11658',\n",
       " '11659',\n",
       " '11660',\n",
       " '11661',\n",
       " '11662',\n",
       " '11663',\n",
       " '11664',\n",
       " '11665',\n",
       " '11666',\n",
       " '11667',\n",
       " '11668',\n",
       " '11669',\n",
       " '11670',\n",
       " '11671',\n",
       " '11672',\n",
       " '11673',\n",
       " '11674',\n",
       " '11675',\n",
       " '11676',\n",
       " '11677',\n",
       " '11678',\n",
       " '11679',\n",
       " '11680',\n",
       " '11681',\n",
       " '11682',\n",
       " '11683',\n",
       " '11684',\n",
       " '11685',\n",
       " '11686',\n",
       " '11687',\n",
       " '11688',\n",
       " '11689',\n",
       " '11690',\n",
       " '11691',\n",
       " '11692',\n",
       " '11693',\n",
       " '11694',\n",
       " '11695',\n",
       " '11696',\n",
       " '11697',\n",
       " '11698',\n",
       " '11699'}"
      ]
     },
     "execution_count": 139,
     "metadata": {},
     "output_type": "execute_result"
    }
   ],
   "source": [
    "set(call_ids) - set(call_ids_bbn)"
   ]
  },
  {
   "cell_type": "markdown",
   "metadata": {},
   "source": [
    "According to the documentation, only 300 conversations should be missing from the `bbn` transcriptions - those prefixed with `114`, `115`, and `116`. What's the story on the other 429????"
   ]
  },
  {
   "cell_type": "markdown",
   "metadata": {},
   "source": [
    "How many word tokens are in the `bbn` transcripts?"
   ]
  },
  {
   "cell_type": "code",
   "execution_count": 140,
   "metadata": {
    "ExecuteTime": {
     "end_time": "2019-04-24T01:22:06.997383Z",
     "start_time": "2019-04-24T01:22:00.774329Z"
    }
   },
   "outputs": [
    {
     "name": "stderr",
     "output_type": "stream",
     "text": [
      "[Parallel(n_jobs=15)]: Using backend MultiprocessingBackend with 15 concurrent workers.\n",
      "[Parallel(n_jobs=15)]: Batch computation too fast (0.0185s.) Setting batch_size=20.\n",
      "[Parallel(n_jobs=15)]: Done   2 tasks      | elapsed:    0.0s\n",
      "[Parallel(n_jobs=15)]: Done  11 tasks      | elapsed:    0.0s\n",
      "[Parallel(n_jobs=15)]: Done  20 tasks      | elapsed:    0.0s\n",
      "[Parallel(n_jobs=15)]: Done  50 tasks      | elapsed:    0.3s\n",
      "[Parallel(n_jobs=15)]: Done 270 tasks      | elapsed:    0.5s\n",
      "[Parallel(n_jobs=15)]: Done 530 tasks      | elapsed:    0.7s\n",
      "[Parallel(n_jobs=15)]: Done 790 tasks      | elapsed:    1.1s\n",
      "[Parallel(n_jobs=15)]: Done 1090 tasks      | elapsed:    1.4s\n",
      "[Parallel(n_jobs=15)]: Done 1390 tasks      | elapsed:    1.7s\n",
      "[Parallel(n_jobs=15)]: Done 1730 tasks      | elapsed:    2.0s\n",
      "[Parallel(n_jobs=15)]: Done 2070 tasks      | elapsed:    2.4s\n",
      "[Parallel(n_jobs=15)]: Done 2450 tasks      | elapsed:    2.8s\n",
      "[Parallel(n_jobs=15)]: Done 2830 tasks      | elapsed:    3.1s\n",
      "[Parallel(n_jobs=15)]: Done 3250 tasks      | elapsed:    3.6s\n",
      "[Parallel(n_jobs=15)]: Done 3670 tasks      | elapsed:    4.0s\n",
      "[Parallel(n_jobs=15)]: Done 4130 tasks      | elapsed:    4.5s\n",
      "[Parallel(n_jobs=15)]: Done 5120 out of 5120 | elapsed:    5.5s finished\n"
     ]
    },
    {
     "data": {
      "text/plain": [
       "9676792"
      ]
     },
     "execution_count": 140,
     "metadata": {},
     "output_type": "execute_result"
    }
   ],
   "source": [
    "def count_word_tokens_in_call_bbn(call_id):\n",
    "    return sum([count_word_tokens_in_line(l) for l in get_transcriptions_bbn(call_id)])\n",
    "\n",
    "#31.0s on wittgenstein\n",
    "# sum([count_word_tokens_in_call_bbn(call_id) for call_id in call_ids_bbn])\n",
    "\n",
    "#vs. 5.5s on wittgenstein\n",
    "sum(par(delayed(count_word_tokens_in_call_bbn)(call_id)\n",
    "        for call_id in call_ids_bbn))"
   ]
  },
  {
   "cell_type": "markdown",
   "metadata": {},
   "source": [
    "How many word types are in the `bbn` transcripts?"
   ]
  },
  {
   "cell_type": "code",
   "execution_count": 141,
   "metadata": {
    "ExecuteTime": {
     "end_time": "2019-04-24T01:22:18.917366Z",
     "start_time": "2019-04-24T01:22:06.998960Z"
    }
   },
   "outputs": [
    {
     "name": "stderr",
     "output_type": "stream",
     "text": [
      "[Parallel(n_jobs=15)]: Using backend MultiprocessingBackend with 15 concurrent workers.\n",
      "[Parallel(n_jobs=15)]: Batch computation too fast (0.0204s.) Setting batch_size=18.\n",
      "[Parallel(n_jobs=15)]: Done   2 tasks      | elapsed:    0.0s\n",
      "[Parallel(n_jobs=15)]: Done  11 tasks      | elapsed:    0.0s\n",
      "[Parallel(n_jobs=15)]: Done  20 tasks      | elapsed:    0.0s\n",
      "[Parallel(n_jobs=15)]: Done  48 tasks      | elapsed:    0.3s\n",
      "[Parallel(n_jobs=15)]: Done 246 tasks      | elapsed:    0.5s\n",
      "[Parallel(n_jobs=15)]: Done 480 tasks      | elapsed:    0.8s\n",
      "[Parallel(n_jobs=15)]: Done 714 tasks      | elapsed:    1.1s\n",
      "[Parallel(n_jobs=15)]: Done 984 tasks      | elapsed:    1.4s\n",
      "[Parallel(n_jobs=15)]: Done 1254 tasks      | elapsed:    1.7s\n",
      "[Parallel(n_jobs=15)]: Done 1560 tasks      | elapsed:    2.1s\n",
      "[Parallel(n_jobs=15)]: Done 1866 tasks      | elapsed:    2.5s\n",
      "[Parallel(n_jobs=15)]: Done 2208 tasks      | elapsed:    2.8s\n",
      "[Parallel(n_jobs=15)]: Done 2550 tasks      | elapsed:    3.2s\n",
      "[Parallel(n_jobs=15)]: Done 2928 tasks      | elapsed:    3.6s\n",
      "[Parallel(n_jobs=15)]: Done 3306 tasks      | elapsed:    4.0s\n",
      "[Parallel(n_jobs=15)]: Done 3720 tasks      | elapsed:    4.4s\n",
      "[Parallel(n_jobs=15)]: Done 4134 tasks      | elapsed:    4.9s\n",
      "[Parallel(n_jobs=15)]: Done 4584 tasks      | elapsed:    5.3s\n",
      "[Parallel(n_jobs=15)]: Done 5120 out of 5120 | elapsed:    5.9s finished\n"
     ]
    },
    {
     "data": {
      "text/plain": [
       "42014"
      ]
     },
     "execution_count": 141,
     "metadata": {},
     "output_type": "execute_result"
    }
   ],
   "source": [
    "def word_types_in_call_bbn(call_id):\n",
    "    return union([word_types_in_line(l) for l in get_transcriptions_bbn(call_id)])\n",
    "\n",
    "#42.2s on wittgenstein\n",
    "# vocabulary_bbn = union([word_types_in_call_bbn(c) for c in call_ids_bbn])\n",
    "# len(vocabulary_bbn)\n",
    "\n",
    "# vs.  5.8s on wittgenstein\n",
    "vocabulary_bbn = union(par(delayed(word_types_in_call_bbn)(c) for c in call_ids_bbn))\n",
    "len(vocabulary_bbn)"
   ]
  },
  {
   "cell_type": "code",
   "execution_count": 142,
   "metadata": {
    "ExecuteTime": {
     "end_time": "2019-04-24T01:22:18.925926Z",
     "start_time": "2019-04-24T01:22:18.918763Z"
    }
   },
   "outputs": [
    {
     "data": {
      "text/plain": [
       "['',\n",
       " 'sewing',\n",
       " 'internationally',\n",
       " 'paralegal',\n",
       " 'obstinate',\n",
       " 'bolingbrook',\n",
       " 'pussycat',\n",
       " 'spent',\n",
       " 'refreshment',\n",
       " 'pleasantries',\n",
       " 'resurfaces',\n",
       " 'water',\n",
       " 'sideline',\n",
       " 'dabbled',\n",
       " 'malfunctions',\n",
       " 'reacher',\n",
       " \"officers'\",\n",
       " 'goodie',\n",
       " 'flecks',\n",
       " 'centigrade',\n",
       " 'overtimes',\n",
       " 'trail',\n",
       " 'hibernation',\n",
       " 'hiya',\n",
       " 'daughter',\n",
       " 'laureates',\n",
       " 'farmer',\n",
       " 'beaming',\n",
       " 'geek',\n",
       " 'crosses',\n",
       " 'proper',\n",
       " 'salary',\n",
       " 'freezer',\n",
       " 'partaking',\n",
       " 'hunting',\n",
       " 'embodied',\n",
       " 'wailing',\n",
       " 'genocide',\n",
       " 'summertime',\n",
       " 'roofs',\n",
       " 'pertain',\n",
       " 'gunshot',\n",
       " 'commodity',\n",
       " 'glider',\n",
       " 'bricklayer',\n",
       " 'clanton',\n",
       " 'trickled',\n",
       " 'melba',\n",
       " 'farrelly',\n",
       " 'utopian',\n",
       " 'derrick',\n",
       " 'grossness',\n",
       " 'rightly',\n",
       " 'satisfies',\n",
       " 'squeaks',\n",
       " 'climax',\n",
       " 'waseeka',\n",
       " 'handicapped',\n",
       " 'leaguers',\n",
       " 'salutations',\n",
       " 'smallest',\n",
       " 'pedophilia',\n",
       " \"patterson's\",\n",
       " 'without',\n",
       " 'map',\n",
       " 'hoy',\n",
       " 'knoxville',\n",
       " 'battered',\n",
       " 'dimensions',\n",
       " 'dapple',\n",
       " 'freebies',\n",
       " 'betterer',\n",
       " 'introverts',\n",
       " 'volleyball',\n",
       " 'sheeting',\n",
       " 'vitamins',\n",
       " 'culturally',\n",
       " 'athletically',\n",
       " 'infos',\n",
       " 'exorcist',\n",
       " 'assing',\n",
       " 'resorted',\n",
       " 'juxtapoz',\n",
       " 'ahmed',\n",
       " 'posting',\n",
       " 'borders',\n",
       " \"camcorder's\",\n",
       " 'spurning',\n",
       " 'packet',\n",
       " 'bev',\n",
       " 'resorts',\n",
       " 'avalanche',\n",
       " 'wham',\n",
       " 'trustan',\n",
       " 'oslo',\n",
       " 'farquars',\n",
       " \"kentucky's\",\n",
       " 'illegible',\n",
       " \"grandma's\",\n",
       " 'stretcher']"
      ]
     },
     "execution_count": 142,
     "metadata": {},
     "output_type": "execute_result"
    }
   ],
   "source": [
    "list(vocabulary_bbn)[:100]"
   ]
  },
  {
   "cell_type": "code",
   "execution_count": 143,
   "metadata": {
    "ExecuteTime": {
     "end_time": "2019-04-24T01:22:18.991492Z",
     "start_time": "2019-04-24T01:22:18.927328Z"
    }
   },
   "outputs": [
    {
     "data": {
      "text/plain": [
       "['',\n",
       " \"'and\",\n",
       " \"'berserkly'\",\n",
       " \"'bout\",\n",
       " \"'burb\",\n",
       " \"'burban\",\n",
       " \"'burbs\",\n",
       " \"'cau\",\n",
       " \"'cause\",\n",
       " \"'cept\"]"
      ]
     },
     "execution_count": 143,
     "metadata": {},
     "output_type": "execute_result"
    }
   ],
   "source": [
    "vocabulary_bbn_alpha = sorted(list(vocabulary_bbn))\n",
    "vocabulary_bbn_alpha[:10]"
   ]
  },
  {
   "cell_type": "code",
   "execution_count": 144,
   "metadata": {
    "ExecuteTime": {
     "end_time": "2019-04-24T01:22:23.852803Z",
     "start_time": "2019-04-24T01:22:18.992914Z"
    }
   },
   "outputs": [],
   "source": [
    "%%capture\n",
    "#cell magic above suppresses useless output of file.write\n",
    "\n",
    "vocabulary_bbn_fn = 'fisher_vocabulary_bbn.txt'\n",
    "\n",
    "vocabulary_bbn_fp = os.path.join(repo_dir, vocabulary_bbn_fn)\n",
    "\n",
    "#5.02s on wittgenstein\n",
    "with open(vocabulary_bbn_fp, 'w') as file:\n",
    "    for w in vocabulary_bbn_alpha:\n",
    "        file.write(\"{0}\\n\".format(w));"
   ]
  },
  {
   "cell_type": "code",
   "execution_count": 145,
   "metadata": {
    "ExecuteTime": {
     "end_time": "2019-04-24T01:22:24.031423Z",
     "start_time": "2019-04-24T01:22:23.853957Z"
    }
   },
   "outputs": [
    {
     "name": "stdout",
     "output_type": "stream",
     "text": [
      "     1\t\r\n",
      "     2\t'and\r\n",
      "     3\t'berserkly'\r\n",
      "     4\t'bout\r\n",
      "     5\t'burb\r\n",
      "     6\t'burban\r\n",
      "     7\t'burbs\r\n",
      "     8\t'cau\r\n",
      "     9\t'cause\r\n",
      "    10\t'cept\r\n",
      "    11\t'cide\r\n",
      "    12\t'cisco\r\n",
      "    13\t'cize\r\n",
      "    14\t'course\r\n",
      "    15\t'cuse\r\n",
      "    16\t'do\r\n",
      "    17\t'em\r\n",
      "    18\t'em's\r\n",
      "    19\t'ems\r\n",
      "    20\t'everybody's\r\n",
      "cat: write error: Broken pipe\r\n"
     ]
    }
   ],
   "source": [
    "%cat -n /mnt/cube/home/AD/emeinhar/fisher-lm/fisher_vocabulary_bbn.txt | head -20"
   ]
  },
  {
   "cell_type": "markdown",
   "metadata": {},
   "source": [
    "## Naive utterance sequence"
   ]
  },
  {
   "cell_type": "code",
   "execution_count": 146,
   "metadata": {
    "ExecuteTime": {
     "end_time": "2019-04-24T01:22:24.036197Z",
     "start_time": "2019-04-24T01:22:24.033414Z"
    }
   },
   "outputs": [],
   "source": [
    "def get_utterances_from_call_bbn(call_id):\n",
    "    return [l['speech'] for l in get_transcriptions_bbn(call_id)]"
   ]
  },
  {
   "cell_type": "code",
   "execution_count": 147,
   "metadata": {
    "ExecuteTime": {
     "end_time": "2019-04-24T01:22:24.042553Z",
     "start_time": "2019-04-24T01:22:24.037476Z"
    }
   },
   "outputs": [
    {
     "data": {
      "text/plain": [
       "'05863'"
      ]
     },
     "execution_count": 147,
     "metadata": {},
     "output_type": "execute_result"
    }
   ],
   "source": [
    "call_ids_bbn[0]"
   ]
  },
  {
   "cell_type": "code",
   "execution_count": 148,
   "metadata": {
    "ExecuteTime": {
     "end_time": "2019-04-24T01:22:24.062368Z",
     "start_time": "2019-04-24T01:22:24.043711Z"
    }
   },
   "outputs": [
    {
     "data": {
      "text/plain": [
       "['hi',\n",
       " 'hi my name is zelda',\n",
       " 'hi monique',\n",
       " \"i'm fine and you\",\n",
       " 'good',\n",
       " 'okay um',\n",
       " 'i would not do it',\n",
       " \"right i wouldn't um do you <rem> <rem> uh today i mean\",\n",
       " \"people look at money money is everything it's like they think that money's going to resolve all their problems and a million dollars today is not a lot of money and i would and that's a betrayal to me\",\n",
       " 'right right']"
      ]
     },
     "execution_count": 148,
     "metadata": {},
     "output_type": "execute_result"
    }
   ],
   "source": [
    "get_utterances_from_call_bbn('05863')[:10]"
   ]
  },
  {
   "cell_type": "code",
   "execution_count": 149,
   "metadata": {
    "ExecuteTime": {
     "end_time": "2019-04-24T01:22:30.445773Z",
     "start_time": "2019-04-24T01:22:24.063574Z"
    }
   },
   "outputs": [
    {
     "name": "stderr",
     "output_type": "stream",
     "text": [
      "[Parallel(n_jobs=15)]: Using backend MultiprocessingBackend with 15 concurrent workers.\n",
      "[Parallel(n_jobs=15)]: Batch computation too fast (0.0196s.) Setting batch_size=20.\n",
      "[Parallel(n_jobs=15)]: Done   2 tasks      | elapsed:    0.0s\n",
      "[Parallel(n_jobs=15)]: Done  11 tasks      | elapsed:    0.0s\n",
      "[Parallel(n_jobs=15)]: Done  20 tasks      | elapsed:    0.0s\n",
      "[Parallel(n_jobs=15)]: Done  50 tasks      | elapsed:    0.4s\n",
      "[Parallel(n_jobs=15)]: Done 270 tasks      | elapsed:    0.5s\n",
      "[Parallel(n_jobs=15)]: Done 530 tasks      | elapsed:    0.8s\n",
      "[Parallel(n_jobs=15)]: Done 790 tasks      | elapsed:    1.0s\n",
      "[Parallel(n_jobs=15)]: Done 1090 tasks      | elapsed:    1.3s\n",
      "[Parallel(n_jobs=15)]: Done 1390 tasks      | elapsed:    1.6s\n",
      "[Parallel(n_jobs=15)]: Done 1730 tasks      | elapsed:    2.0s\n",
      "[Parallel(n_jobs=15)]: Done 2070 tasks      | elapsed:    2.3s\n",
      "[Parallel(n_jobs=15)]: Done 2450 tasks      | elapsed:    2.8s\n",
      "[Parallel(n_jobs=15)]: Done 2830 tasks      | elapsed:    3.3s\n",
      "[Parallel(n_jobs=15)]: Done 3250 tasks      | elapsed:    3.6s\n",
      "[Parallel(n_jobs=15)]: Done 3670 tasks      | elapsed:    4.1s\n",
      "[Parallel(n_jobs=15)]: Done 4130 tasks      | elapsed:    4.5s\n",
      "[Parallel(n_jobs=15)]: Done 5120 out of 5120 | elapsed:    5.4s finished\n"
     ]
    },
    {
     "data": {
      "text/plain": [
       "954017"
      ]
     },
     "execution_count": 149,
     "metadata": {},
     "output_type": "execute_result"
    }
   ],
   "source": [
    "#35.3s on wittgenstein\n",
    "# utterances_bbn = []\n",
    "# for c in call_ids_bbn:\n",
    "#     utterances_bbn.extend( get_utterances_from_call_bbn(c) )\n",
    "# len(utterances_bbn)\n",
    "\n",
    "# 5.5s on wittgenstein\n",
    "utterances_bbn = list(chain.from_iterable(par(delayed(get_utterances_from_call_bbn)(c)\n",
    "                                              for c in call_ids_bbn)))\n",
    "len(utterances_bbn)"
   ]
  },
  {
   "cell_type": "code",
   "execution_count": 150,
   "metadata": {
    "ExecuteTime": {
     "end_time": "2019-04-24T01:22:30.449763Z",
     "start_time": "2019-04-24T01:22:30.447245Z"
    }
   },
   "outputs": [
    {
     "data": {
      "text/plain": [
       "'hi'"
      ]
     },
     "execution_count": 150,
     "metadata": {},
     "output_type": "execute_result"
    }
   ],
   "source": [
    "utterances_bbn[0]"
   ]
  },
  {
   "cell_type": "code",
   "execution_count": 151,
   "metadata": {
    "ExecuteTime": {
     "end_time": "2019-04-24T01:22:31.333940Z",
     "start_time": "2019-04-24T01:22:30.450688Z"
    }
   },
   "outputs": [],
   "source": [
    "%%capture\n",
    "#cell magic above suppresses useless output of file.write\n",
    "\n",
    "fisher_utterances_bbn_fn = 'fisher_utterances_bbn.txt'\n",
    "\n",
    "fisher_utterances_bbn_path = os.path.join(repo_dir, fisher_utterances_bbn_fn)\n",
    "\n",
    "\n",
    "with open(fisher_utterances_bbn_path, 'w') as file:\n",
    "\n",
    "    #write all lines at once using writelines and this takes <1s\n",
    "    utterances_w_linebreaks = list(map(lambda l: l + \"\\n\", utterances_bbn))\n",
    "    file.writelines(utterances_w_linebreaks)\n",
    "    \n",
    "    #if someone else is using the machine heavily doing other things, this can take upwards of 2ms\n",
    "#     for utterance in utterances_bbn:\n",
    "#         file.write(\"{0}\\n\".format(utterance));"
   ]
  },
  {
   "cell_type": "code",
   "execution_count": 152,
   "metadata": {
    "ExecuteTime": {
     "end_time": "2019-04-24T01:22:31.510975Z",
     "start_time": "2019-04-24T01:22:31.335005Z"
    }
   },
   "outputs": [
    {
     "name": "stdout",
     "output_type": "stream",
     "text": [
      "     1\thi\r\n",
      "     2\thi my name is zelda\r\n",
      "     3\thi monique\r\n",
      "     4\ti'm fine and you\r\n",
      "     5\tgood\r\n",
      "     6\tokay um\r\n",
      "     7\ti would not do it\r\n",
      "     8\tright i wouldn't um do you <rem> <rem> uh today i mean\r\n",
      "     9\tpeople look at money money is everything it's like they think that money's going to resolve all their problems and a million dollars today is not a lot of money and i would and that's a betrayal to me\r\n",
      "    10\tright right\r\n",
      "    11\tno\r\n",
      "    12\ti think human beings are <rem> um friendship <rem> relationships with people are a lot more important than money\r\n",
      "    13\tthen you weren't really their best friend either\r\n",
      "    14\tright right\r\n",
      "    15\tno\r\n",
      "    16\tmm\r\n",
      "    17\ti don't think any money is worth anyone's life uh a human a person's life is worth everything\r\n",
      "    18\tamen is right\r\n",
      "    19\ti mean <rem> there's not really much that we can debate on this because we really agreed on it you know\r\n",
      "    20\tright\r\n",
      "cat: write error: Broken pipe\r\n"
     ]
    }
   ],
   "source": [
    "%cat -n /mnt/cube/home/AD/emeinhar/fisher-lm/fisher_utterances_bbn.txt | head -20"
   ]
  },
  {
   "cell_type": "markdown",
   "metadata": {},
   "source": [
    "## All transcriptions"
   ]
  },
  {
   "cell_type": "code",
   "execution_count": 153,
   "metadata": {
    "ExecuteTime": {
     "end_time": "2019-04-24T01:22:31.516722Z",
     "start_time": "2019-04-24T01:22:31.512848Z"
    }
   },
   "outputs": [
    {
     "data": {
      "text/plain": [
       "[{'call_id': '05863',\n",
       "  'trn_fn': 'fe_03_05863.trn',\n",
       "  'ana_fn': 'fe_03_05863.ana',\n",
       "  'auto-segmented_trn_location': '/mnt/truffle/corpora/fisher_english_transcripts/fe_03_p2_tran/data/bbn_orig/058/auto-segmented/fe_03_05863.trn',\n",
       "  'rejected_trn_location': '/mnt/truffle/corpora/fisher_english_transcripts/fe_03_p2_tran/data/bbn_orig/058/rejected/fe_03_05863.trn',\n",
       "  'auto-segmented_ana_location': '/mnt/truffle/corpora/fisher_english_transcripts/fe_03_p2_tran/data/bbn_orig/058/auto-segmented/fe_03_05863.ana',\n",
       "  'rejected_ana_location': '/mnt/truffle/corpora/fisher_english_transcripts/fe_03_p2_tran/data/bbn_orig/058/rejected/fe_03_05863.ana'},\n",
       " {'call_id': '05876',\n",
       "  'trn_fn': 'fe_03_05876.trn',\n",
       "  'ana_fn': 'fe_03_05876.ana',\n",
       "  'auto-segmented_trn_location': '/mnt/truffle/corpora/fisher_english_transcripts/fe_03_p2_tran/data/bbn_orig/058/auto-segmented/fe_03_05876.trn',\n",
       "  'rejected_trn_location': '/mnt/truffle/corpora/fisher_english_transcripts/fe_03_p2_tran/data/bbn_orig/058/rejected/fe_03_05876.trn',\n",
       "  'auto-segmented_ana_location': '/mnt/truffle/corpora/fisher_english_transcripts/fe_03_p2_tran/data/bbn_orig/058/auto-segmented/fe_03_05876.ana',\n",
       "  'rejected_ana_location': '/mnt/truffle/corpora/fisher_english_transcripts/fe_03_p2_tran/data/bbn_orig/058/rejected/fe_03_05876.ana'},\n",
       " {'call_id': '05887',\n",
       "  'trn_fn': 'fe_03_05887.trn',\n",
       "  'ana_fn': 'fe_03_05887.ana',\n",
       "  'auto-segmented_trn_location': '/mnt/truffle/corpora/fisher_english_transcripts/fe_03_p2_tran/data/bbn_orig/058/auto-segmented/fe_03_05887.trn',\n",
       "  'rejected_trn_location': '/mnt/truffle/corpora/fisher_english_transcripts/fe_03_p2_tran/data/bbn_orig/058/rejected/fe_03_05887.trn',\n",
       "  'auto-segmented_ana_location': '/mnt/truffle/corpora/fisher_english_transcripts/fe_03_p2_tran/data/bbn_orig/058/auto-segmented/fe_03_05887.ana',\n",
       "  'rejected_ana_location': '/mnt/truffle/corpora/fisher_english_transcripts/fe_03_p2_tran/data/bbn_orig/058/rejected/fe_03_05887.ana'}]"
      ]
     },
     "execution_count": 153,
     "metadata": {},
     "output_type": "execute_result"
    }
   ],
   "source": [
    "bbn_call_relation[:3]"
   ]
  },
  {
   "cell_type": "code",
   "execution_count": 154,
   "metadata": {
    "ExecuteTime": {
     "end_time": "2019-04-24T01:22:31.522510Z",
     "start_time": "2019-04-24T01:22:31.518384Z"
    }
   },
   "outputs": [
    {
     "data": {
      "text/plain": [
       "['05863', '05876', '05887']"
      ]
     },
     "execution_count": 154,
     "metadata": {},
     "output_type": "execute_result"
    }
   ],
   "source": [
    "call_ids_bbn[:3]"
   ]
  },
  {
   "cell_type": "code",
   "execution_count": 155,
   "metadata": {
    "ExecuteTime": {
     "end_time": "2019-04-24T01:22:31.592465Z",
     "start_time": "2019-04-24T01:22:31.523823Z"
    }
   },
   "outputs": [
    {
     "data": {
      "text/plain": [
       "[{'speaker': 'A',\n",
       "  'n_words': 1,\n",
       "  'call_id': '05863',\n",
       "  'utterance_id': 'fe_03_05863-A-0001',\n",
       "  'speech_raw': 'HI [LAUGHTER]',\n",
       "  'has_words': True,\n",
       "  'speech': 'hi',\n",
       "  'duration': 10960,\n",
       "  'end': 12320,\n",
       "  'start': 1360,\n",
       "  'channel': 1,\n",
       "  'audio_fn': 'fe_03_05863.sph',\n",
       "  'type': 'NIST_1A'},\n",
       " {'speaker': 'A',\n",
       "  'n_words': 5,\n",
       "  'call_id': '05863',\n",
       "  'utterance_id': 'fe_03_05863-A-0002',\n",
       "  'speech_raw': 'HI MY NAME IS ZELDA',\n",
       "  'has_words': True,\n",
       "  'speech': 'hi my name is zelda',\n",
       "  'duration': 14080,\n",
       "  'end': 46640,\n",
       "  'start': 32560,\n",
       "  'channel': 1,\n",
       "  'audio_fn': 'fe_03_05863.sph',\n",
       "  'type': 'NIST_1A'},\n",
       " {'speaker': 'A',\n",
       "  'n_words': 2,\n",
       "  'call_id': '05863',\n",
       "  'utterance_id': 'fe_03_05863-A-0003',\n",
       "  'speech_raw': 'HI MONIQUE',\n",
       "  'has_words': True,\n",
       "  'speech': 'hi monique',\n",
       "  'duration': 10000,\n",
       "  'end': 69760,\n",
       "  'start': 59760,\n",
       "  'channel': 1,\n",
       "  'audio_fn': 'fe_03_05863.sph',\n",
       "  'type': 'NIST_1A'}]"
      ]
     },
     "execution_count": 155,
     "metadata": {},
     "output_type": "execute_result"
    }
   ],
   "source": [
    "get_transcriptions_bbn('05863')[:3]"
   ]
  },
  {
   "cell_type": "code",
   "execution_count": 156,
   "metadata": {
    "ExecuteTime": {
     "end_time": "2019-04-24T01:22:31.597319Z",
     "start_time": "2019-04-24T01:22:31.593919Z"
    }
   },
   "outputs": [
    {
     "data": {
      "text/plain": [
       "{'call_id': '05863',\n",
       " 'trn_fn': 'fe_03_05863.trn',\n",
       " 'ana_fn': 'fe_03_05863.ana',\n",
       " 'auto-segmented_trn_location': '/mnt/truffle/corpora/fisher_english_transcripts/fe_03_p2_tran/data/bbn_orig/058/auto-segmented/fe_03_05863.trn',\n",
       " 'rejected_trn_location': '/mnt/truffle/corpora/fisher_english_transcripts/fe_03_p2_tran/data/bbn_orig/058/rejected/fe_03_05863.trn',\n",
       " 'auto-segmented_ana_location': '/mnt/truffle/corpora/fisher_english_transcripts/fe_03_p2_tran/data/bbn_orig/058/auto-segmented/fe_03_05863.ana',\n",
       " 'rejected_ana_location': '/mnt/truffle/corpora/fisher_english_transcripts/fe_03_p2_tran/data/bbn_orig/058/rejected/fe_03_05863.ana'}"
      ]
     },
     "execution_count": 156,
     "metadata": {},
     "output_type": "execute_result"
    }
   ],
   "source": [
    "bbn_call_relation[0]"
   ]
  },
  {
   "cell_type": "code",
   "execution_count": 157,
   "metadata": {
    "ExecuteTime": {
     "end_time": "2019-04-24T01:22:39.228959Z",
     "start_time": "2019-04-24T01:22:31.599278Z"
    }
   },
   "outputs": [
    {
     "name": "stderr",
     "output_type": "stream",
     "text": [
      "[Parallel(n_jobs=15)]: Using backend MultiprocessingBackend with 15 concurrent workers.\n",
      "[Parallel(n_jobs=15)]: Batch computation too fast (0.0255s.) Setting batch_size=14.\n",
      "[Parallel(n_jobs=15)]: Done   2 tasks      | elapsed:    0.0s\n",
      "[Parallel(n_jobs=15)]: Done  11 tasks      | elapsed:    0.0s\n",
      "[Parallel(n_jobs=15)]: Done  20 tasks      | elapsed:    0.1s\n",
      "[Parallel(n_jobs=15)]: Done  44 tasks      | elapsed:    0.3s\n",
      "[Parallel(n_jobs=15)]: Done 198 tasks      | elapsed:    0.4s\n",
      "[Parallel(n_jobs=15)]: Done 380 tasks      | elapsed:    0.7s\n",
      "[Parallel(n_jobs=15)]: Done 562 tasks      | elapsed:    0.9s\n",
      "[Parallel(n_jobs=15)]: Done 772 tasks      | elapsed:    1.2s\n",
      "[Parallel(n_jobs=15)]: Done 982 tasks      | elapsed:    1.4s\n",
      "[Parallel(n_jobs=15)]: Done 1220 tasks      | elapsed:    1.7s\n",
      "[Parallel(n_jobs=15)]: Done 1458 tasks      | elapsed:    2.1s\n",
      "[Parallel(n_jobs=15)]: Done 1724 tasks      | elapsed:    2.4s\n",
      "[Parallel(n_jobs=15)]: Done 1990 tasks      | elapsed:    2.9s\n",
      "[Parallel(n_jobs=15)]: Done 2284 tasks      | elapsed:    3.2s\n",
      "[Parallel(n_jobs=15)]: Done 2578 tasks      | elapsed:    3.5s\n",
      "[Parallel(n_jobs=15)]: Done 2900 tasks      | elapsed:    3.9s\n",
      "[Parallel(n_jobs=15)]: Done 3222 tasks      | elapsed:    4.3s\n",
      "[Parallel(n_jobs=15)]: Done 3572 tasks      | elapsed:    4.7s\n",
      "[Parallel(n_jobs=15)]: Done 3922 tasks      | elapsed:    5.2s\n",
      "[Parallel(n_jobs=15)]: Done 4300 tasks      | elapsed:    5.7s\n",
      "[Parallel(n_jobs=15)]: Done 4678 tasks      | elapsed:    6.1s\n",
      "[Parallel(n_jobs=15)]: Done 5120 out of 5120 | elapsed:    6.6s finished\n"
     ]
    }
   ],
   "source": [
    "#39.0s on wittgenstein\n",
    "# bbn_transcription_relation = []\n",
    "# for call_relation in bbn_call_relation:\n",
    "#     for transcription_relation in get_transcriptions_bbn(call_relation['call_id']):\n",
    "#         new_transcription_rel = dictionary_product(transcription_relation, call_relation)\n",
    "#         bbn_transcription_relation.append(new_transcription_rel)\n",
    "\n",
    "# 6.9s on wittgenstein\n",
    "def get_bbn_transcription_relation_for(call_rel):\n",
    "#     return par(delayed(dictionary_product)(transcription_relation, call_rel)\n",
    "#                for transcription_relation in get_transcriptions_bbn(call_rel['call_id']))\n",
    "    return [dictionary_product(transcription_relation, call_rel)\n",
    "           for transcription_relation in get_transcriptions_bbn(call_rel['call_id'])]\n",
    "\n",
    "bbn_transcription_relation = list(chain.from_iterable(par(delayed(get_bbn_transcription_relation_for)(call_relation)\n",
    "                                                          for call_relation in bbn_call_relation)))"
   ]
  },
  {
   "cell_type": "code",
   "execution_count": 158,
   "metadata": {
    "ExecuteTime": {
     "end_time": "2019-04-24T01:22:39.234316Z",
     "start_time": "2019-04-24T01:22:39.230763Z"
    }
   },
   "outputs": [
    {
     "data": {
      "text/plain": [
       "954017"
      ]
     },
     "execution_count": 158,
     "metadata": {},
     "output_type": "execute_result"
    }
   ],
   "source": [
    "len(bbn_transcription_relation)"
   ]
  },
  {
   "cell_type": "code",
   "execution_count": 159,
   "metadata": {
    "ExecuteTime": {
     "end_time": "2019-04-24T01:22:39.243674Z",
     "start_time": "2019-04-24T01:22:39.235660Z"
    }
   },
   "outputs": [
    {
     "data": {
      "text/plain": [
       "[{'speaker': 'A',\n",
       "  'n_words': 1,\n",
       "  'duration': 10960,\n",
       "  'call_id': '05863',\n",
       "  'utterance_id': 'fe_03_05863-A-0001',\n",
       "  'speech_raw': 'HI [LAUGHTER]',\n",
       "  'end': 12320,\n",
       "  'start': 1360,\n",
       "  'audio_fn': 'fe_03_05863.sph',\n",
       "  'channel': 1,\n",
       "  'has_words': True,\n",
       "  'type': 'NIST_1A',\n",
       "  'speech': 'hi',\n",
       "  'rejected_trn_location': '/mnt/truffle/corpora/fisher_english_transcripts/fe_03_p2_tran/data/bbn_orig/058/rejected/fe_03_05863.trn',\n",
       "  'rejected_ana_location': '/mnt/truffle/corpora/fisher_english_transcripts/fe_03_p2_tran/data/bbn_orig/058/rejected/fe_03_05863.ana',\n",
       "  'ana_fn': 'fe_03_05863.ana',\n",
       "  'auto-segmented_trn_location': '/mnt/truffle/corpora/fisher_english_transcripts/fe_03_p2_tran/data/bbn_orig/058/auto-segmented/fe_03_05863.trn',\n",
       "  'trn_fn': 'fe_03_05863.trn',\n",
       "  'auto-segmented_ana_location': '/mnt/truffle/corpora/fisher_english_transcripts/fe_03_p2_tran/data/bbn_orig/058/auto-segmented/fe_03_05863.ana'},\n",
       " {'speaker': 'A',\n",
       "  'n_words': 5,\n",
       "  'duration': 14080,\n",
       "  'call_id': '05863',\n",
       "  'utterance_id': 'fe_03_05863-A-0002',\n",
       "  'speech_raw': 'HI MY NAME IS ZELDA',\n",
       "  'end': 46640,\n",
       "  'start': 32560,\n",
       "  'audio_fn': 'fe_03_05863.sph',\n",
       "  'channel': 1,\n",
       "  'has_words': True,\n",
       "  'type': 'NIST_1A',\n",
       "  'speech': 'hi my name is zelda',\n",
       "  'rejected_trn_location': '/mnt/truffle/corpora/fisher_english_transcripts/fe_03_p2_tran/data/bbn_orig/058/rejected/fe_03_05863.trn',\n",
       "  'rejected_ana_location': '/mnt/truffle/corpora/fisher_english_transcripts/fe_03_p2_tran/data/bbn_orig/058/rejected/fe_03_05863.ana',\n",
       "  'ana_fn': 'fe_03_05863.ana',\n",
       "  'auto-segmented_trn_location': '/mnt/truffle/corpora/fisher_english_transcripts/fe_03_p2_tran/data/bbn_orig/058/auto-segmented/fe_03_05863.trn',\n",
       "  'trn_fn': 'fe_03_05863.trn',\n",
       "  'auto-segmented_ana_location': '/mnt/truffle/corpora/fisher_english_transcripts/fe_03_p2_tran/data/bbn_orig/058/auto-segmented/fe_03_05863.ana'},\n",
       " {'speaker': 'A',\n",
       "  'n_words': 2,\n",
       "  'duration': 10000,\n",
       "  'call_id': '05863',\n",
       "  'utterance_id': 'fe_03_05863-A-0003',\n",
       "  'speech_raw': 'HI MONIQUE',\n",
       "  'end': 69760,\n",
       "  'start': 59760,\n",
       "  'audio_fn': 'fe_03_05863.sph',\n",
       "  'channel': 1,\n",
       "  'has_words': True,\n",
       "  'type': 'NIST_1A',\n",
       "  'speech': 'hi monique',\n",
       "  'rejected_trn_location': '/mnt/truffle/corpora/fisher_english_transcripts/fe_03_p2_tran/data/bbn_orig/058/rejected/fe_03_05863.trn',\n",
       "  'rejected_ana_location': '/mnt/truffle/corpora/fisher_english_transcripts/fe_03_p2_tran/data/bbn_orig/058/rejected/fe_03_05863.ana',\n",
       "  'ana_fn': 'fe_03_05863.ana',\n",
       "  'auto-segmented_trn_location': '/mnt/truffle/corpora/fisher_english_transcripts/fe_03_p2_tran/data/bbn_orig/058/auto-segmented/fe_03_05863.trn',\n",
       "  'trn_fn': 'fe_03_05863.trn',\n",
       "  'auto-segmented_ana_location': '/mnt/truffle/corpora/fisher_english_transcripts/fe_03_p2_tran/data/bbn_orig/058/auto-segmented/fe_03_05863.ana'},\n",
       " {'speaker': 'A',\n",
       "  'n_words': 4,\n",
       "  'duration': 11040,\n",
       "  'call_id': '05863',\n",
       "  'utterance_id': 'fe_03_05863-A-0004',\n",
       "  'speech_raw': \"I'M FINE AND YOU\",\n",
       "  'end': 88320,\n",
       "  'start': 77280,\n",
       "  'audio_fn': 'fe_03_05863.sph',\n",
       "  'channel': 1,\n",
       "  'has_words': True,\n",
       "  'type': 'NIST_1A',\n",
       "  'speech': \"i'm fine and you\",\n",
       "  'rejected_trn_location': '/mnt/truffle/corpora/fisher_english_transcripts/fe_03_p2_tran/data/bbn_orig/058/rejected/fe_03_05863.trn',\n",
       "  'rejected_ana_location': '/mnt/truffle/corpora/fisher_english_transcripts/fe_03_p2_tran/data/bbn_orig/058/rejected/fe_03_05863.ana',\n",
       "  'ana_fn': 'fe_03_05863.ana',\n",
       "  'auto-segmented_trn_location': '/mnt/truffle/corpora/fisher_english_transcripts/fe_03_p2_tran/data/bbn_orig/058/auto-segmented/fe_03_05863.trn',\n",
       "  'trn_fn': 'fe_03_05863.trn',\n",
       "  'auto-segmented_ana_location': '/mnt/truffle/corpora/fisher_english_transcripts/fe_03_p2_tran/data/bbn_orig/058/auto-segmented/fe_03_05863.ana'},\n",
       " {'speaker': 'A',\n",
       "  'n_words': 1,\n",
       "  'duration': 7600,\n",
       "  'call_id': '05863',\n",
       "  'utterance_id': 'fe_03_05863-A-0005',\n",
       "  'speech_raw': 'GOOD',\n",
       "  'end': 104400,\n",
       "  'start': 96800,\n",
       "  'audio_fn': 'fe_03_05863.sph',\n",
       "  'channel': 1,\n",
       "  'has_words': True,\n",
       "  'type': 'NIST_1A',\n",
       "  'speech': 'good',\n",
       "  'rejected_trn_location': '/mnt/truffle/corpora/fisher_english_transcripts/fe_03_p2_tran/data/bbn_orig/058/rejected/fe_03_05863.trn',\n",
       "  'rejected_ana_location': '/mnt/truffle/corpora/fisher_english_transcripts/fe_03_p2_tran/data/bbn_orig/058/rejected/fe_03_05863.ana',\n",
       "  'ana_fn': 'fe_03_05863.ana',\n",
       "  'auto-segmented_trn_location': '/mnt/truffle/corpora/fisher_english_transcripts/fe_03_p2_tran/data/bbn_orig/058/auto-segmented/fe_03_05863.trn',\n",
       "  'trn_fn': 'fe_03_05863.trn',\n",
       "  'auto-segmented_ana_location': '/mnt/truffle/corpora/fisher_english_transcripts/fe_03_p2_tran/data/bbn_orig/058/auto-segmented/fe_03_05863.ana'}]"
      ]
     },
     "execution_count": 159,
     "metadata": {},
     "output_type": "execute_result"
    }
   ],
   "source": [
    "bbn_transcription_relation[:5]"
   ]
  },
  {
   "cell_type": "code",
   "execution_count": 160,
   "metadata": {
    "ExecuteTime": {
     "end_time": "2019-04-24T01:22:39.248358Z",
     "start_time": "2019-04-24T01:22:39.245354Z"
    }
   },
   "outputs": [],
   "source": [
    "# import json"
   ]
  },
  {
   "cell_type": "code",
   "execution_count": 161,
   "metadata": {
    "ExecuteTime": {
     "end_time": "2019-04-24T01:23:16.287978Z",
     "start_time": "2019-04-24T01:22:39.250068Z"
    }
   },
   "outputs": [],
   "source": [
    "fisher_utterances_relation_bbn_fn = 'fisher_utterances_relation_bbn.json'\n",
    "\n",
    "fisher_utterances_relation_bbn_path = os.path.join(repo_dir, fisher_utterances_relation_bbn_fn)\n",
    "\n",
    "#32.5s on wittgenstein\n",
    "with open(fisher_utterances_relation_bbn_path, 'w', encoding='utf8') as json_file:\n",
    "    json.dump(bbn_transcription_relation, json_file, indent=1, ensure_ascii=False)"
   ]
  },
  {
   "cell_type": "code",
   "execution_count": 162,
   "metadata": {
    "ExecuteTime": {
     "end_time": "2019-04-24T01:23:16.502944Z",
     "start_time": "2019-04-24T01:23:16.289855Z"
    }
   },
   "outputs": [
    {
     "name": "stdout",
     "output_type": "stream",
     "text": [
      "     1\t[\r\n",
      "     2\t {\r\n",
      "     3\t  \"speaker\": \"A\",\r\n",
      "     4\t  \"n_words\": 1,\r\n",
      "     5\t  \"duration\": 10960,\r\n",
      "     6\t  \"call_id\": \"05863\",\r\n",
      "     7\t  \"utterance_id\": \"fe_03_05863-A-0001\",\r\n",
      "     8\t  \"speech_raw\": \"HI [LAUGHTER]\",\r\n",
      "     9\t  \"end\": 12320,\r\n",
      "    10\t  \"start\": 1360,\r\n",
      "    11\t  \"audio_fn\": \"fe_03_05863.sph\",\r\n",
      "    12\t  \"channel\": 1,\r\n",
      "    13\t  \"has_words\": true,\r\n",
      "    14\t  \"type\": \"NIST_1A\",\r\n",
      "    15\t  \"speech\": \"hi\",\r\n",
      "    16\t  \"rejected_trn_location\": \"/mnt/truffle/corpora/fisher_english_transcripts/fe_03_p2_tran/data/bbn_orig/058/rejected/fe_03_05863.trn\",\r\n",
      "    17\t  \"rejected_ana_location\": \"/mnt/truffle/corpora/fisher_english_transcripts/fe_03_p2_tran/data/bbn_orig/058/rejected/fe_03_05863.ana\",\r\n",
      "    18\t  \"ana_fn\": \"fe_03_05863.ana\",\r\n",
      "    19\t  \"auto-segmented_trn_location\": \"/mnt/truffle/corpora/fisher_english_transcripts/fe_03_p2_tran/data/bbn_orig/058/auto-segmented/fe_03_05863.trn\",\r\n",
      "    20\t  \"trn_fn\": \"fe_03_05863.trn\",\r\n",
      "cat: write error: Broken pipe\r\n"
     ]
    }
   ],
   "source": [
    "%cat -n /mnt/cube/home/AD/emeinhar/fisher-lm/fisher_utterances_relation_bbn.json | head -20"
   ]
  },
  {
   "cell_type": "code",
   "execution_count": 163,
   "metadata": {
    "ExecuteTime": {
     "end_time": "2019-04-24T01:23:16.520959Z",
     "start_time": "2019-04-24T01:23:16.518354Z"
    }
   },
   "outputs": [
    {
     "data": {
      "text/plain": [
       "'/mnt/truffle/corpora/fisher_english_transcripts/fe_03_p2_tran/data/bbn_orig/058'"
      ]
     },
     "execution_count": 163,
     "metadata": {},
     "output_type": "execute_result"
    }
   ],
   "source": [
    "os.getcwd()"
   ]
  },
  {
   "cell_type": "markdown",
   "metadata": {},
   "source": [
    "## Utterance statistics"
   ]
  },
  {
   "cell_type": "markdown",
   "metadata": {},
   "source": [
    "What is the distribution over\n",
    " - time til onset of the next utterance (if available)\n",
    " - utterance duration in s\n",
    " - utterance duration in orthographic wordforms?"
   ]
  },
  {
   "cell_type": "code",
   "execution_count": 164,
   "metadata": {
    "ExecuteTime": {
     "end_time": "2019-04-24T01:23:16.528963Z",
     "start_time": "2019-04-24T01:23:16.521947Z"
    }
   },
   "outputs": [
    {
     "data": {
      "text/plain": [
       "{'speaker': 'A',\n",
       " 'n_words': 1,\n",
       " 'duration': 10960,\n",
       " 'call_id': '05863',\n",
       " 'utterance_id': 'fe_03_05863-A-0001',\n",
       " 'speech_raw': 'HI [LAUGHTER]',\n",
       " 'end': 12320,\n",
       " 'start': 1360,\n",
       " 'audio_fn': 'fe_03_05863.sph',\n",
       " 'channel': 1,\n",
       " 'has_words': True,\n",
       " 'type': 'NIST_1A',\n",
       " 'speech': 'hi',\n",
       " 'rejected_trn_location': '/mnt/truffle/corpora/fisher_english_transcripts/fe_03_p2_tran/data/bbn_orig/058/rejected/fe_03_05863.trn',\n",
       " 'rejected_ana_location': '/mnt/truffle/corpora/fisher_english_transcripts/fe_03_p2_tran/data/bbn_orig/058/rejected/fe_03_05863.ana',\n",
       " 'ana_fn': 'fe_03_05863.ana',\n",
       " 'auto-segmented_trn_location': '/mnt/truffle/corpora/fisher_english_transcripts/fe_03_p2_tran/data/bbn_orig/058/auto-segmented/fe_03_05863.trn',\n",
       " 'trn_fn': 'fe_03_05863.trn',\n",
       " 'auto-segmented_ana_location': '/mnt/truffle/corpora/fisher_english_transcripts/fe_03_p2_tran/data/bbn_orig/058/auto-segmented/fe_03_05863.ana'}"
      ]
     },
     "execution_count": 164,
     "metadata": {},
     "output_type": "execute_result"
    }
   ],
   "source": [
    "bbn_transcription_relation[0]"
   ]
  },
  {
   "cell_type": "code",
   "execution_count": 165,
   "metadata": {
    "ExecuteTime": {
     "end_time": "2019-04-24T01:23:16.645900Z",
     "start_time": "2019-04-24T01:23:16.529837Z"
    }
   },
   "outputs": [
    {
     "data": {
      "text/plain": [
       "954017"
      ]
     },
     "execution_count": 165,
     "metadata": {},
     "output_type": "execute_result"
    }
   ],
   "source": [
    "utterance_durations_bbn = [utt['duration'] for utt in bbn_transcription_relation]\n",
    "len(utterance_durations_bbn)"
   ]
  },
  {
   "cell_type": "code",
   "execution_count": 166,
   "metadata": {
    "ExecuteTime": {
     "end_time": "2019-04-24T01:23:17.314925Z",
     "start_time": "2019-04-24T01:23:16.646942Z"
    }
   },
   "outputs": [
    {
     "data": {
      "text/plain": [
       "954017"
      ]
     },
     "execution_count": 166,
     "metadata": {},
     "output_type": "execute_result"
    }
   ],
   "source": [
    "utterance_lengths_bbn = [len(utt['speech'].split(' ')) for utt in bbn_transcription_relation]\n",
    "len(utterance_lengths_bbn)"
   ]
  },
  {
   "cell_type": "code",
   "execution_count": 167,
   "metadata": {
    "ExecuteTime": {
     "end_time": "2019-04-24T01:24:09.124096Z",
     "start_time": "2019-04-24T01:23:17.315930Z"
    }
   },
   "outputs": [
    {
     "name": "stderr",
     "output_type": "stream",
     "text": [
      "[Parallel(n_jobs=15)]: Using backend MultiprocessingBackend with 15 concurrent workers.\n",
      "[Parallel(n_jobs=15)]: Done   2 tasks      | elapsed:    0.3s\n",
      "[Parallel(n_jobs=15)]: Done  11 tasks      | elapsed:    0.3s\n",
      "[Parallel(n_jobs=15)]: Done  20 tasks      | elapsed:    0.5s\n",
      "[Parallel(n_jobs=15)]: Done  31 tasks      | elapsed:    0.6s\n",
      "[Parallel(n_jobs=15)]: Done  42 tasks      | elapsed:    0.7s\n",
      "[Parallel(n_jobs=15)]: Done  55 tasks      | elapsed:    0.9s\n",
      "[Parallel(n_jobs=15)]: Done  68 tasks      | elapsed:    1.0s\n",
      "[Parallel(n_jobs=15)]: Done  83 tasks      | elapsed:    1.2s\n",
      "[Parallel(n_jobs=15)]: Done  98 tasks      | elapsed:    1.4s\n",
      "[Parallel(n_jobs=15)]: Done 115 tasks      | elapsed:    1.6s\n",
      "[Parallel(n_jobs=15)]: Done 132 tasks      | elapsed:    1.7s\n",
      "[Parallel(n_jobs=15)]: Done 151 tasks      | elapsed:    1.9s\n",
      "[Parallel(n_jobs=15)]: Done 170 tasks      | elapsed:    2.1s\n",
      "[Parallel(n_jobs=15)]: Done 191 tasks      | elapsed:    2.4s\n",
      "[Parallel(n_jobs=15)]: Done 212 tasks      | elapsed:    2.6s\n",
      "[Parallel(n_jobs=15)]: Done 235 tasks      | elapsed:    2.8s\n",
      "[Parallel(n_jobs=15)]: Done 258 tasks      | elapsed:    3.0s\n",
      "[Parallel(n_jobs=15)]: Done 283 tasks      | elapsed:    3.3s\n",
      "[Parallel(n_jobs=15)]: Done 308 tasks      | elapsed:    3.5s\n",
      "[Parallel(n_jobs=15)]: Done 335 tasks      | elapsed:    3.8s\n",
      "[Parallel(n_jobs=15)]: Done 362 tasks      | elapsed:    4.1s\n",
      "[Parallel(n_jobs=15)]: Done 391 tasks      | elapsed:    4.4s\n",
      "[Parallel(n_jobs=15)]: Done 420 tasks      | elapsed:    4.8s\n",
      "[Parallel(n_jobs=15)]: Done 451 tasks      | elapsed:    5.1s\n",
      "[Parallel(n_jobs=15)]: Done 482 tasks      | elapsed:    5.4s\n",
      "[Parallel(n_jobs=15)]: Done 515 tasks      | elapsed:    5.7s\n",
      "[Parallel(n_jobs=15)]: Done 548 tasks      | elapsed:    6.0s\n",
      "[Parallel(n_jobs=15)]: Done 583 tasks      | elapsed:    6.4s\n",
      "[Parallel(n_jobs=15)]: Done 618 tasks      | elapsed:    6.8s\n",
      "[Parallel(n_jobs=15)]: Done 655 tasks      | elapsed:    7.1s\n",
      "[Parallel(n_jobs=15)]: Done 692 tasks      | elapsed:    7.5s\n",
      "[Parallel(n_jobs=15)]: Done 731 tasks      | elapsed:    7.9s\n",
      "[Parallel(n_jobs=15)]: Done 770 tasks      | elapsed:    8.3s\n",
      "[Parallel(n_jobs=15)]: Done 811 tasks      | elapsed:    8.8s\n",
      "[Parallel(n_jobs=15)]: Done 852 tasks      | elapsed:    9.2s\n",
      "[Parallel(n_jobs=15)]: Done 895 tasks      | elapsed:    9.6s\n",
      "[Parallel(n_jobs=15)]: Done 938 tasks      | elapsed:   10.1s\n",
      "[Parallel(n_jobs=15)]: Done 983 tasks      | elapsed:   10.5s\n",
      "[Parallel(n_jobs=15)]: Done 1028 tasks      | elapsed:   11.1s\n",
      "[Parallel(n_jobs=15)]: Done 1075 tasks      | elapsed:   11.6s\n",
      "[Parallel(n_jobs=15)]: Done 1122 tasks      | elapsed:   12.1s\n",
      "[Parallel(n_jobs=15)]: Done 1171 tasks      | elapsed:   12.6s\n",
      "[Parallel(n_jobs=15)]: Done 1220 tasks      | elapsed:   13.2s\n",
      "[Parallel(n_jobs=15)]: Done 1271 tasks      | elapsed:   13.7s\n",
      "[Parallel(n_jobs=15)]: Done 1322 tasks      | elapsed:   14.2s\n",
      "[Parallel(n_jobs=15)]: Done 1375 tasks      | elapsed:   14.8s\n",
      "[Parallel(n_jobs=15)]: Done 1428 tasks      | elapsed:   15.4s\n",
      "[Parallel(n_jobs=15)]: Done 1483 tasks      | elapsed:   16.0s\n",
      "[Parallel(n_jobs=15)]: Done 1538 tasks      | elapsed:   16.6s\n",
      "[Parallel(n_jobs=15)]: Done 1595 tasks      | elapsed:   17.0s\n",
      "[Parallel(n_jobs=15)]: Done 1652 tasks      | elapsed:   17.6s\n",
      "[Parallel(n_jobs=15)]: Done 1711 tasks      | elapsed:   18.2s\n",
      "[Parallel(n_jobs=15)]: Done 1770 tasks      | elapsed:   18.9s\n",
      "[Parallel(n_jobs=15)]: Done 1831 tasks      | elapsed:   19.4s\n",
      "[Parallel(n_jobs=15)]: Done 1892 tasks      | elapsed:   19.9s\n",
      "[Parallel(n_jobs=15)]: Done 1955 tasks      | elapsed:   20.5s\n",
      "[Parallel(n_jobs=15)]: Done 2018 tasks      | elapsed:   21.1s\n",
      "[Parallel(n_jobs=15)]: Done 2083 tasks      | elapsed:   21.7s\n",
      "[Parallel(n_jobs=15)]: Done 2148 tasks      | elapsed:   22.3s\n",
      "[Parallel(n_jobs=15)]: Done 2215 tasks      | elapsed:   23.0s\n",
      "[Parallel(n_jobs=15)]: Done 2282 tasks      | elapsed:   23.6s\n",
      "[Parallel(n_jobs=15)]: Done 2351 tasks      | elapsed:   24.2s\n",
      "[Parallel(n_jobs=15)]: Done 2420 tasks      | elapsed:   24.9s\n",
      "[Parallel(n_jobs=15)]: Done 2491 tasks      | elapsed:   25.6s\n",
      "[Parallel(n_jobs=15)]: Done 2562 tasks      | elapsed:   26.3s\n",
      "[Parallel(n_jobs=15)]: Done 2635 tasks      | elapsed:   27.0s\n",
      "[Parallel(n_jobs=15)]: Done 2708 tasks      | elapsed:   27.6s\n",
      "[Parallel(n_jobs=15)]: Done 2783 tasks      | elapsed:   28.2s\n",
      "[Parallel(n_jobs=15)]: Done 2858 tasks      | elapsed:   28.9s\n",
      "[Parallel(n_jobs=15)]: Done 2935 tasks      | elapsed:   29.8s\n",
      "[Parallel(n_jobs=15)]: Done 3012 tasks      | elapsed:   30.6s\n",
      "[Parallel(n_jobs=15)]: Done 3091 tasks      | elapsed:   31.4s\n",
      "[Parallel(n_jobs=15)]: Done 3170 tasks      | elapsed:   32.1s\n",
      "[Parallel(n_jobs=15)]: Done 3251 tasks      | elapsed:   33.0s\n",
      "[Parallel(n_jobs=15)]: Done 3332 tasks      | elapsed:   33.8s\n",
      "[Parallel(n_jobs=15)]: Done 3415 tasks      | elapsed:   34.5s\n",
      "[Parallel(n_jobs=15)]: Done 3498 tasks      | elapsed:   35.2s\n",
      "[Parallel(n_jobs=15)]: Done 3583 tasks      | elapsed:   35.9s\n",
      "[Parallel(n_jobs=15)]: Done 3668 tasks      | elapsed:   36.8s\n",
      "[Parallel(n_jobs=15)]: Done 3755 tasks      | elapsed:   37.6s\n",
      "[Parallel(n_jobs=15)]: Done 3842 tasks      | elapsed:   38.4s\n",
      "[Parallel(n_jobs=15)]: Done 3931 tasks      | elapsed:   39.1s\n",
      "[Parallel(n_jobs=15)]: Done 4020 tasks      | elapsed:   40.0s\n",
      "[Parallel(n_jobs=15)]: Done 4111 tasks      | elapsed:   40.9s\n",
      "[Parallel(n_jobs=15)]: Done 4202 tasks      | elapsed:   41.7s\n",
      "[Parallel(n_jobs=15)]: Done 4295 tasks      | elapsed:   42.5s\n",
      "[Parallel(n_jobs=15)]: Done 4388 tasks      | elapsed:   43.3s\n",
      "[Parallel(n_jobs=15)]: Done 4483 tasks      | elapsed:   44.3s\n",
      "[Parallel(n_jobs=15)]: Done 4578 tasks      | elapsed:   45.3s\n",
      "[Parallel(n_jobs=15)]: Done 4675 tasks      | elapsed:   46.2s\n",
      "[Parallel(n_jobs=15)]: Done 4772 tasks      | elapsed:   47.1s\n",
      "[Parallel(n_jobs=15)]: Done 4871 tasks      | elapsed:   48.2s\n",
      "[Parallel(n_jobs=15)]: Done 4970 tasks      | elapsed:   49.1s\n",
      "[Parallel(n_jobs=15)]: Done 5071 tasks      | elapsed:   50.1s\n",
      "[Parallel(n_jobs=15)]: Done 5120 out of 5120 | elapsed:   50.5s finished\n"
     ]
    }
   ],
   "source": [
    "#BOOKMARK\n",
    "#runtimes range from 9m 32s to 18m 7s on wittgenstein\n",
    "# times_between_onsets_bbn = []\n",
    "# for call_id in call_ids:\n",
    "#     my_utts = sorted([u for u in bbn_transcription_relation if u['call_id'] == call_id], key=lambda u:u['start'])\n",
    "#     starts = my_utts[:-1]\n",
    "#     ends = my_utts[1:]\n",
    "#     adjacent_pairs = zip(starts, ends)\n",
    "#     time_between_onsets = lambda pair: pair[1]['start'] - pair[0]['start']\n",
    "#     times_to_next_utt = list(map(time_between_onsets,\n",
    "#                                  adjacent_pairs))\n",
    "#     times_between_onsets_bbn.extend(times_to_next_utt)\n",
    "\n",
    "#runtime is ≈45s on wittgenstein\n",
    "def calc_onset_deltas_for_bbn(call_id):\n",
    "    my_utts = sorted([u for u in bbn_transcription_relation if u['call_id'] == call_id], key=lambda u:u['start'])\n",
    "    starts = my_utts[:-1]\n",
    "    ends = my_utts[1:]\n",
    "    adjacent_pairs = zip(starts, ends)\n",
    "    time_between_onsets = lambda pair: pair[1]['start'] - pair[0]['start']\n",
    "    times_to_next_utt = list(map(time_between_onsets,\n",
    "                                 adjacent_pairs))\n",
    "    return times_to_next_utt\n",
    "\n",
    "times_between_onsets_bbn = list(chain.from_iterable(par(delayed(calc_onset_deltas_for_bbn)(call_id)\n",
    "                                                        for call_id in call_ids_bbn)))"
   ]
  },
  {
   "cell_type": "code",
   "execution_count": 168,
   "metadata": {
    "ExecuteTime": {
     "end_time": "2019-04-24T01:24:11.810467Z",
     "start_time": "2019-04-24T01:24:09.125864Z"
    }
   },
   "outputs": [],
   "source": [
    "durations_df_bbn = pd.DataFrame(list(map(lambda d: {\"Duration\":d},\n",
    "                                     utterance_durations_bbn)))\n",
    "lengths_df_bbn = pd.DataFrame(list(map(lambda d: {\"Length\":d},\n",
    "                                   utterance_lengths_bbn)))\n",
    "onset_deltas_df_bbn = pd.DataFrame(list(map(lambda d: {\"Onset_Delta\":d},\n",
    "                                        times_between_onsets_bbn)))"
   ]
  },
  {
   "cell_type": "code",
   "execution_count": 169,
   "metadata": {
    "ExecuteTime": {
     "end_time": "2019-04-24T01:24:20.584307Z",
     "start_time": "2019-04-24T01:24:11.813113Z"
    }
   },
   "outputs": [
    {
     "name": "stderr",
     "output_type": "stream",
     "text": [
      "/home/AD/emeinhar/anaconda3/envs/anvil/lib/python3.6/site-packages/plotnine/stats/stat_bin.py:93: UserWarning: 'stat_bin()' using 'bins = 2215'. Pick better value with 'binwidth'.\n",
      "  warn(msg.format(params['bins']))\n"
     ]
    },
    {
     "data": {
      "image/png": "[encoded data removed]",
      "text/plain": [
       "<Figure size 640x480 with 1 Axes>"
      ]
     },
     "metadata": {},
     "output_type": "display_data"
    },
    {
     "data": {
      "text/plain": [
       "<ggplot: (-9223363243399717155)>"
      ]
     },
     "execution_count": 169,
     "metadata": {},
     "output_type": "execute_result"
    },
    {
     "name": "stderr",
     "output_type": "stream",
     "text": [
      "/home/AD/emeinhar/anaconda3/envs/anvil/lib/python3.6/site-packages/plotnine/stats/stat_bin.py:93: UserWarning: 'stat_bin()' using 'bins = 174'. Pick better value with 'binwidth'.\n",
      "  warn(msg.format(params['bins']))\n",
      "/home/AD/emeinhar/anaconda3/envs/anvil/lib/python3.6/site-packages/plotnine/layer.py:360: UserWarning: stat_bin : Removed 25082 rows containing non-finite values.\n",
      "  data = self.stat.compute_layer(data, params, layout)\n",
      "/home/AD/emeinhar/anaconda3/envs/anvil/lib/python3.6/site-packages/plotnine/layer.py:449: UserWarning: geom_histogram : Removed 2 rows containing missing values.\n",
      "  self.data = self.geom.handle_na(self.data)\n"
     ]
    },
    {
     "data": {
      "image/png": "[encoded data removed]",
      "text/plain": [
       "<Figure size 640x480 with 1 Axes>"
      ]
     },
     "metadata": {},
     "output_type": "display_data"
    },
    {
     "data": {
      "text/plain": [
       "<ggplot: (-9223363243399503160)>"
      ]
     },
     "execution_count": 169,
     "metadata": {},
     "output_type": "execute_result"
    }
   ],
   "source": [
    "ggplot(durations_df_bbn, aes(x=\"Duration\")) + geom_histogram()\n",
    "# ggplot(durations_df_bbn, aes(x=\"Duration\")) + geom_histogram() + xlim(0.0,100000)\n",
    "bbn_durations_plot = ggplot(durations_df_bbn, aes(x=\"Duration\")) + geom_histogram() + xlim(0.0,100000)\n",
    "bbn_durations_plot"
   ]
  },
  {
   "cell_type": "code",
   "execution_count": 170,
   "metadata": {
    "ExecuteTime": {
     "end_time": "2019-04-24T01:24:24.943621Z",
     "start_time": "2019-04-24T01:24:20.585788Z"
    }
   },
   "outputs": [
    {
     "name": "stderr",
     "output_type": "stream",
     "text": [
      "/home/AD/emeinhar/anaconda3/envs/anvil/lib/python3.6/site-packages/plotnine/stats/stat_bin.py:93: UserWarning: 'stat_bin()' using 'bins = 370'. Pick better value with 'binwidth'.\n",
      "  warn(msg.format(params['bins']))\n"
     ]
    },
    {
     "data": {
      "image/png": "[encoded data removed]",
      "text/plain": [
       "<Figure size 640x480 with 1 Axes>"
      ]
     },
     "metadata": {},
     "output_type": "display_data"
    },
    {
     "data": {
      "text/plain": [
       "<ggplot: (8793513629602)>"
      ]
     },
     "execution_count": 170,
     "metadata": {},
     "output_type": "execute_result"
    },
    {
     "name": "stderr",
     "output_type": "stream",
     "text": [
      "/home/AD/emeinhar/anaconda3/envs/anvil/lib/python3.6/site-packages/plotnine/stats/stat_bin.py:93: UserWarning: 'stat_bin()' using 'bins = 208'. Pick better value with 'binwidth'.\n",
      "  warn(msg.format(params['bins']))\n",
      "/home/AD/emeinhar/anaconda3/envs/anvil/lib/python3.6/site-packages/plotnine/layer.py:360: UserWarning: stat_bin : Removed 1266 rows containing non-finite values.\n",
      "  data = self.stat.compute_layer(data, params, layout)\n",
      "/home/AD/emeinhar/anaconda3/envs/anvil/lib/python3.6/site-packages/plotnine/layer.py:449: UserWarning: geom_histogram : Removed 2 rows containing missing values.\n",
      "  self.data = self.geom.handle_na(self.data)\n"
     ]
    },
    {
     "data": {
      "image/png": "[encoded data removed]",
      "text/plain": [
       "<Figure size 640x480 with 1 Axes>"
      ]
     },
     "metadata": {},
     "output_type": "display_data"
    },
    {
     "data": {
      "text/plain": [
       "<ggplot: (-9223363243568208454)>"
      ]
     },
     "execution_count": 170,
     "metadata": {},
     "output_type": "execute_result"
    }
   ],
   "source": [
    "ggplot(lengths_df_bbn, aes(x=\"Length\")) + geom_histogram()\n",
    "# ggplot(lengths_df_bbn, aes(x=\"Length\")) + geom_histogram() + xlim(0.0, 60.0)\n",
    "bbn_lengths_plot = ggplot(lengths_df_bbn, aes(x=\"Length\")) + geom_histogram() + xlim(0.0, 60.0)\n",
    "bbn_lengths_plot"
   ]
  },
  {
   "cell_type": "code",
   "execution_count": 171,
   "metadata": {
    "ExecuteTime": {
     "end_time": "2019-04-24T01:24:35.470039Z",
     "start_time": "2019-04-24T01:24:24.945191Z"
    }
   },
   "outputs": [
    {
     "name": "stderr",
     "output_type": "stream",
     "text": [
      "/home/AD/emeinhar/anaconda3/envs/anvil/lib/python3.6/site-packages/plotnine/stats/stat_bin.py:93: UserWarning: 'stat_bin()' using 'bins = 2843'. Pick better value with 'binwidth'.\n",
      "  warn(msg.format(params['bins']))\n"
     ]
    },
    {
     "data": {
      "image/png": "[encoded data removed]",
      "text/plain": [
       "<Figure size 640x480 with 1 Axes>"
      ]
     },
     "metadata": {},
     "output_type": "display_data"
    },
    {
     "data": {
      "text/plain": [
       "<ggplot: (8793286707667)>"
      ]
     },
     "execution_count": 171,
     "metadata": {},
     "output_type": "execute_result"
    },
    {
     "name": "stderr",
     "output_type": "stream",
     "text": [
      "/home/AD/emeinhar/anaconda3/envs/anvil/lib/python3.6/site-packages/plotnine/stats/stat_bin.py:93: UserWarning: 'stat_bin()' using 'bins = 201'. Pick better value with 'binwidth'.\n",
      "  warn(msg.format(params['bins']))\n",
      "/home/AD/emeinhar/anaconda3/envs/anvil/lib/python3.6/site-packages/plotnine/layer.py:360: UserWarning: stat_bin : Removed 9531 rows containing non-finite values.\n",
      "  data = self.stat.compute_layer(data, params, layout)\n",
      "/home/AD/emeinhar/anaconda3/envs/anvil/lib/python3.6/site-packages/plotnine/layer.py:449: UserWarning: geom_histogram : Removed 2 rows containing missing values.\n",
      "  self.data = self.geom.handle_na(self.data)\n"
     ]
    },
    {
     "data": {
      "image/png": "[encoded data removed]",
      "text/plain": [
       "<Figure size 640x480 with 1 Axes>"
      ]
     },
     "metadata": {},
     "output_type": "display_data"
    },
    {
     "data": {
      "text/plain": [
       "<ggplot: (-9223363243568072546)>"
      ]
     },
     "execution_count": 171,
     "metadata": {},
     "output_type": "execute_result"
    }
   ],
   "source": [
    "ggplot(onset_deltas_df_bbn, aes(x=\"Onset_Delta\")) + geom_histogram()\n",
    "# ggplot(onset_deltas_df_bbn, aes(x=\"Onset_Delta\")) + geom_histogram() + xlim(0.0, 100000)\n",
    "bbn_onset_deltas_plot = ggplot(onset_deltas_df_bbn, aes(x=\"Onset_Delta\")) + geom_histogram() + xlim(0.0, 100000)\n",
    "bbn_onset_deltas_plot"
   ]
  },
  {
   "cell_type": "markdown",
   "metadata": {},
   "source": [
    "### Side-by-side plot comparisons"
   ]
  },
  {
   "cell_type": "code",
   "execution_count": 172,
   "metadata": {
    "ExecuteTime": {
     "end_time": "2019-04-24T01:24:38.826172Z",
     "start_time": "2019-04-24T01:24:35.471584Z"
    }
   },
   "outputs": [
    {
     "name": "stderr",
     "output_type": "stream",
     "text": [
      "/home/AD/emeinhar/anaconda3/envs/anvil/lib/python3.6/site-packages/plotnine/stats/stat_bin.py:93: UserWarning: 'stat_bin()' using 'bins = 318'. Pick better value with 'binwidth'.\n",
      "  warn(msg.format(params['bins']))\n",
      "/home/AD/emeinhar/anaconda3/envs/anvil/lib/python3.6/site-packages/plotnine/layer.py:360: UserWarning: stat_bin : Removed 28 rows containing non-finite values.\n",
      "  data = self.stat.compute_layer(data, params, layout)\n",
      "/home/AD/emeinhar/anaconda3/envs/anvil/lib/python3.6/site-packages/plotnine/layer.py:449: UserWarning: geom_histogram : Removed 2 rows containing missing values.\n",
      "  self.data = self.geom.handle_na(self.data)\n"
     ]
    },
    {
     "data": {
      "image/png": "[encoded data removed]",
      "text/plain": [
       "<Figure size 640x480 with 1 Axes>"
      ]
     },
     "metadata": {},
     "output_type": "display_data"
    },
    {
     "data": {
      "text/plain": [
       "<ggplot: (8793386866366)>"
      ]
     },
     "execution_count": 172,
     "metadata": {},
     "output_type": "execute_result"
    },
    {
     "name": "stderr",
     "output_type": "stream",
     "text": [
      "/home/AD/emeinhar/anaconda3/envs/anvil/lib/python3.6/site-packages/plotnine/stats/stat_bin.py:93: UserWarning: 'stat_bin()' using 'bins = 174'. Pick better value with 'binwidth'.\n",
      "  warn(msg.format(params['bins']))\n",
      "/home/AD/emeinhar/anaconda3/envs/anvil/lib/python3.6/site-packages/plotnine/layer.py:360: UserWarning: stat_bin : Removed 25082 rows containing non-finite values.\n",
      "  data = self.stat.compute_layer(data, params, layout)\n",
      "/home/AD/emeinhar/anaconda3/envs/anvil/lib/python3.6/site-packages/plotnine/layer.py:449: UserWarning: geom_histogram : Removed 2 rows containing missing values.\n",
      "  self.data = self.geom.handle_na(self.data)\n"
     ]
    },
    {
     "data": {
      "image/png": "[encoded data removed]",
      "text/plain": [
       "<Figure size 640x480 with 1 Axes>"
      ]
     },
     "metadata": {},
     "output_type": "display_data"
    },
    {
     "data": {
      "text/plain": [
       "<ggplot: (-9223363243399503160)>"
      ]
     },
     "execution_count": 172,
     "metadata": {},
     "output_type": "execute_result"
    }
   ],
   "source": [
    "main_durations_plot\n",
    "bbn_durations_plot"
   ]
  },
  {
   "cell_type": "code",
   "execution_count": 173,
   "metadata": {
    "ExecuteTime": {
     "end_time": "2019-04-24T01:24:42.116389Z",
     "start_time": "2019-04-24T01:24:38.827729Z"
    }
   },
   "outputs": [
    {
     "name": "stderr",
     "output_type": "stream",
     "text": [
      "/home/AD/emeinhar/anaconda3/envs/anvil/lib/python3.6/site-packages/plotnine/stats/stat_bin.py:93: UserWarning: 'stat_bin()' using 'bins = 236'. Pick better value with 'binwidth'.\n",
      "  warn(msg.format(params['bins']))\n",
      "/home/AD/emeinhar/anaconda3/envs/anvil/lib/python3.6/site-packages/plotnine/layer.py:360: UserWarning: stat_bin : Removed 1271 rows containing non-finite values.\n",
      "  data = self.stat.compute_layer(data, params, layout)\n",
      "/home/AD/emeinhar/anaconda3/envs/anvil/lib/python3.6/site-packages/plotnine/layer.py:449: UserWarning: geom_histogram : Removed 2 rows containing missing values.\n",
      "  self.data = self.geom.handle_na(self.data)\n"
     ]
    },
    {
     "data": {
      "image/png": "[encoded data removed]",
      "text/plain": [
       "<Figure size 640x480 with 1 Axes>"
      ]
     },
     "metadata": {},
     "output_type": "display_data"
    },
    {
     "data": {
      "text/plain": [
       "<ggplot: (8793383144617)>"
      ]
     },
     "execution_count": 173,
     "metadata": {},
     "output_type": "execute_result"
    },
    {
     "name": "stderr",
     "output_type": "stream",
     "text": [
      "/home/AD/emeinhar/anaconda3/envs/anvil/lib/python3.6/site-packages/plotnine/stats/stat_bin.py:93: UserWarning: 'stat_bin()' using 'bins = 208'. Pick better value with 'binwidth'.\n",
      "  warn(msg.format(params['bins']))\n",
      "/home/AD/emeinhar/anaconda3/envs/anvil/lib/python3.6/site-packages/plotnine/layer.py:360: UserWarning: stat_bin : Removed 1266 rows containing non-finite values.\n",
      "  data = self.stat.compute_layer(data, params, layout)\n",
      "/home/AD/emeinhar/anaconda3/envs/anvil/lib/python3.6/site-packages/plotnine/layer.py:449: UserWarning: geom_histogram : Removed 2 rows containing missing values.\n",
      "  self.data = self.geom.handle_na(self.data)\n"
     ]
    },
    {
     "data": {
      "image/png": "[encoded data removed]",
      "text/plain": [
       "<Figure size 640x480 with 1 Axes>"
      ]
     },
     "metadata": {},
     "output_type": "display_data"
    },
    {
     "data": {
      "text/plain": [
       "<ggplot: (-9223363243568208454)>"
      ]
     },
     "execution_count": 173,
     "metadata": {},
     "output_type": "execute_result"
    }
   ],
   "source": [
    "main_length_plot\n",
    "bbn_lengths_plot"
   ]
  },
  {
   "cell_type": "code",
   "execution_count": 174,
   "metadata": {
    "ExecuteTime": {
     "end_time": "2019-04-24T01:24:45.854492Z",
     "start_time": "2019-04-24T01:24:42.117935Z"
    }
   },
   "outputs": [
    {
     "name": "stderr",
     "output_type": "stream",
     "text": [
      "/home/AD/emeinhar/anaconda3/envs/anvil/lib/python3.6/site-packages/plotnine/stats/stat_bin.py:93: UserWarning: 'stat_bin()' using 'bins = 355'. Pick better value with 'binwidth'.\n",
      "  warn(msg.format(params['bins']))\n",
      "/home/AD/emeinhar/anaconda3/envs/anvil/lib/python3.6/site-packages/plotnine/layer.py:360: UserWarning: stat_bin : Removed 204 rows containing non-finite values.\n",
      "  data = self.stat.compute_layer(data, params, layout)\n",
      "/home/AD/emeinhar/anaconda3/envs/anvil/lib/python3.6/site-packages/plotnine/layer.py:449: UserWarning: geom_histogram : Removed 2 rows containing missing values.\n",
      "  self.data = self.geom.handle_na(self.data)\n"
     ]
    },
    {
     "data": {
      "image/png": "[encoded data removed]",
      "text/plain": [
       "<Figure size 640x480 with 1 Axes>"
      ]
     },
     "metadata": {},
     "output_type": "display_data"
    },
    {
     "data": {
      "text/plain": [
       "<ggplot: (8793455387968)>"
      ]
     },
     "execution_count": 174,
     "metadata": {},
     "output_type": "execute_result"
    },
    {
     "name": "stderr",
     "output_type": "stream",
     "text": [
      "/home/AD/emeinhar/anaconda3/envs/anvil/lib/python3.6/site-packages/plotnine/stats/stat_bin.py:93: UserWarning: 'stat_bin()' using 'bins = 201'. Pick better value with 'binwidth'.\n",
      "  warn(msg.format(params['bins']))\n",
      "/home/AD/emeinhar/anaconda3/envs/anvil/lib/python3.6/site-packages/plotnine/layer.py:360: UserWarning: stat_bin : Removed 9531 rows containing non-finite values.\n",
      "  data = self.stat.compute_layer(data, params, layout)\n",
      "/home/AD/emeinhar/anaconda3/envs/anvil/lib/python3.6/site-packages/plotnine/layer.py:449: UserWarning: geom_histogram : Removed 2 rows containing missing values.\n",
      "  self.data = self.geom.handle_na(self.data)\n"
     ]
    },
    {
     "data": {
      "image/png": "[encoded data removed]",
      "text/plain": [
       "<Figure size 640x480 with 1 Axes>"
      ]
     },
     "metadata": {},
     "output_type": "display_data"
    },
    {
     "data": {
      "text/plain": [
       "<ggplot: (-9223363243568072546)>"
      ]
     },
     "execution_count": 174,
     "metadata": {},
     "output_type": "execute_result"
    }
   ],
   "source": [
    "main_onset_deltas_plot\n",
    "bbn_onset_deltas_plot"
   ]
  },
  {
   "cell_type": "markdown",
   "metadata": {},
   "source": [
    "## Useful examples"
   ]
  },
  {
   "cell_type": "code",
   "execution_count": 175,
   "metadata": {
    "ExecuteTime": {
     "end_time": "2019-04-24T01:24:45.859611Z",
     "start_time": "2019-04-24T01:24:45.855902Z"
    }
   },
   "outputs": [
    {
     "data": {
      "text/plain": [
       "{'speaker': 'A',\n",
       " 'n_words': 4,\n",
       " 'duration': 11040,\n",
       " 'call_id': '05863',\n",
       " 'utterance_id': 'fe_03_05863-A-0004',\n",
       " 'speech_raw': \"I'M FINE AND YOU\",\n",
       " 'end': 88320,\n",
       " 'start': 77280,\n",
       " 'audio_fn': 'fe_03_05863.sph',\n",
       " 'channel': 1,\n",
       " 'has_words': True,\n",
       " 'type': 'NIST_1A',\n",
       " 'speech': \"i'm fine and you\",\n",
       " 'rejected_trn_location': '/mnt/truffle/corpora/fisher_english_transcripts/fe_03_p2_tran/data/bbn_orig/058/rejected/fe_03_05863.trn',\n",
       " 'rejected_ana_location': '/mnt/truffle/corpora/fisher_english_transcripts/fe_03_p2_tran/data/bbn_orig/058/rejected/fe_03_05863.ana',\n",
       " 'ana_fn': 'fe_03_05863.ana',\n",
       " 'auto-segmented_trn_location': '/mnt/truffle/corpora/fisher_english_transcripts/fe_03_p2_tran/data/bbn_orig/058/auto-segmented/fe_03_05863.trn',\n",
       " 'trn_fn': 'fe_03_05863.trn',\n",
       " 'auto-segmented_ana_location': '/mnt/truffle/corpora/fisher_english_transcripts/fe_03_p2_tran/data/bbn_orig/058/auto-segmented/fe_03_05863.ana'}"
      ]
     },
     "execution_count": 175,
     "metadata": {},
     "output_type": "execute_result"
    }
   ],
   "source": [
    "bbn_transcription_relation[3]"
   ]
  },
  {
   "cell_type": "code",
   "execution_count": 176,
   "metadata": {
    "ExecuteTime": {
     "end_time": "2019-04-24T01:24:45.865713Z",
     "start_time": "2019-04-24T01:24:45.861633Z"
    }
   },
   "outputs": [],
   "source": [
    "# tsFor10622 = [t for t in bbn_transcription_relation if t['call_id'] == '10622']\n",
    "# len(tsFor10622)"
   ]
  },
  {
   "cell_type": "code",
   "execution_count": 177,
   "metadata": {
    "ExecuteTime": {
     "end_time": "2019-04-24T01:24:45.871432Z",
     "start_time": "2019-04-24T01:24:45.867558Z"
    }
   },
   "outputs": [],
   "source": [
    "# [t for t in bbn_transcription_relation if 'BIO TERROR' in t['speech']]"
   ]
  },
  {
   "cell_type": "markdown",
   "metadata": {},
   "source": [
    "# Using `kenlm`"
   ]
  },
  {
   "cell_type": "code",
   "execution_count": 178,
   "metadata": {
    "ExecuteTime": {
     "end_time": "2019-04-24T01:24:45.878986Z",
     "start_time": "2019-04-24T01:24:45.872916Z"
    }
   },
   "outputs": [
    {
     "data": {
      "text/plain": [
       "'/mnt/cube/home/AD/emeinhar/fisher-lm'"
      ]
     },
     "execution_count": 178,
     "metadata": {},
     "output_type": "execute_result"
    }
   ],
   "source": [
    "os.chdir(repo_dir)\n",
    "os.getcwd()"
   ]
  },
  {
   "cell_type": "code",
   "execution_count": 179,
   "metadata": {
    "ExecuteTime": {
     "end_time": "2019-04-24T01:24:46.098310Z",
     "start_time": "2019-04-24T01:24:45.880498Z"
    }
   },
   "outputs": [
    {
     "name": "stdout",
     "output_type": "stream",
     "text": [
      " fisher_utterances_bbn.txt\r\n",
      " fisher_utterances_main.txt\r\n",
      " fisher_utterances_relation_bbn.json\r\n",
      " fisher_utterances_relation_main.json\r\n",
      " fisher_vocabulary_bbn.txt\r\n",
      " fisher_vocabulary_main.txt\r\n",
      "'Preprocessing Fisher corpus transcriptions for ease of processing and use with kenlm.ipynb'\r\n"
     ]
    }
   ],
   "source": [
    "%ls"
   ]
  },
  {
   "cell_type": "markdown",
   "metadata": {},
   "source": [
    "## Check for format complaints"
   ]
  },
  {
   "cell_type": "markdown",
   "metadata": {},
   "source": [
    "Below is a dummy run, where we create a unigram model from \n",
    " - fisher_utterances_main.txt\n",
    " - fisher_utterances_bbn.txt\n",
    "to see if kenlm complains about the format of the files."
   ]
  },
  {
   "cell_type": "code",
   "execution_count": 180,
   "metadata": {
    "ExecuteTime": {
     "end_time": "2019-04-24T01:24:56.040353Z",
     "start_time": "2019-04-24T01:24:46.100825Z"
    }
   },
   "outputs": [
    {
     "name": "stdout",
     "output_type": "stream",
     "text": [
      "=== 1/5 Counting and sorting n-grams ===\n",
      "Reading /mnt/cube/home/AD/emeinhar/fisher-lm/fisher_utterances_main.txt\n",
      "----5---10---15---20---25---30---35---40---45---50---55---60---65---70---75---80---85---90---95--100\n",
      "****************************************************************************************************\n",
      "Unigram tokens 10731876 types 44067\n",
      "=== 2/5 Calculating and sorting adjusted counts ===\n",
      "Chain sizes: 1:528804\n",
      "Statistics:\n",
      "1 44067 D1=0.566009 D2=0.988153 D3+=1.45856\n",
      "Memory estimate for binary LM:\n",
      "type      kB\n",
      "probing 1893 assuming -p 1.5\n",
      "probing 2065 assuming -r models -p 1.5\n",
      "trie    1285 without quantization\n",
      "trie    1160 assuming -q 8 -b 8 quantization \n",
      "trie    1285 assuming -a 22 array pointer compression\n",
      "trie    1160 assuming -a 22 -q 8 -b 8 array pointer compression and quantization\n",
      "=== 3/5 Calculating and sorting initial probabilities ===\n",
      "Chain sizes: 1:528804\n",
      "=== 4/5 Calculating and writing order-interpolated probabilities ===\n",
      "Chain sizes: 1:528804\n",
      "=== 5/5 Writing ARPA model ===\n",
      "----5---10---15---20---25---30---35---40---45---50---55---60---65---70---75---80---85---90---95--100\n",
      "****************************************************************************************************\n",
      "Name:lmplz\tVmPeak:105760580 kB\tVmRSS:7764 kB\tRSSMax:35211556 kB\tuser:2.27562\tsys:7.17756\tCPU:9.45321\treal:9.48872\n"
     ]
    }
   ],
   "source": [
    "!/home/AD/emeinhar/GitHub/kenlm/build/bin/lmplz -o 1 --text fisher_utterances_main.txt --arpa fisher_utterances_main_1gram.arpa"
   ]
  },
  {
   "cell_type": "code",
   "execution_count": 181,
   "metadata": {
    "ExecuteTime": {
     "end_time": "2019-04-24T01:25:05.399598Z",
     "start_time": "2019-04-24T01:24:56.042475Z"
    }
   },
   "outputs": [
    {
     "name": "stdout",
     "output_type": "stream",
     "text": [
      "=== 1/5 Counting and sorting n-grams ===\n",
      "Reading /mnt/cube/home/AD/emeinhar/fisher-lm/fisher_utterances_bbn.txt\n",
      "----5---10---15---20---25---30---35---40---45---50---55---60---65---70---75---80---85---90---95--100\n",
      "****************************************************************************************************\n",
      "Unigram tokens 9641143 types 42016\n",
      "=== 2/5 Calculating and sorting adjusted counts ===\n",
      "Chain sizes: 1:504192\n",
      "Statistics:\n",
      "1 42016 D1=0.560428 D2=1.0005 D3+=1.43457\n",
      "Memory estimate for binary LM:\n",
      "type      kB\n",
      "probing 1805 assuming -p 1.5\n",
      "probing 1969 assuming -r models -p 1.5\n",
      "trie    1225 without quantization\n",
      "trie    1106 assuming -q 8 -b 8 quantization \n",
      "trie    1225 assuming -a 22 array pointer compression\n",
      "trie    1106 assuming -a 22 -q 8 -b 8 array pointer compression and quantization\n",
      "=== 3/5 Calculating and sorting initial probabilities ===\n",
      "Chain sizes: 1:504192\n",
      "=== 4/5 Calculating and writing order-interpolated probabilities ===\n",
      "Chain sizes: 1:504192\n",
      "=== 5/5 Writing ARPA model ===\n",
      "----5---10---15---20---25---30---35---40---45---50---55---60---65---70---75---80---85---90---95--100\n",
      "****************************************************************************************************\n",
      "Name:lmplz\tVmPeak:105752384 kB\tVmRSS:7056 kB\tRSSMax:35211644 kB\tuser:2.30962\tsys:6.79325\tCPU:9.1029\treal:9.13754\n"
     ]
    }
   ],
   "source": [
    "!/home/AD/emeinhar/GitHub/kenlm/build/bin/lmplz -o 1 --text fisher_utterances_bbn.txt --arpa fisher_utterances_bbn_1gram.arpa"
   ]
  },
  {
   "cell_type": "markdown",
   "metadata": {},
   "source": [
    "## Timing tests"
   ]
  },
  {
   "cell_type": "markdown",
   "metadata": {},
   "source": [
    "Estimating a unigram model takes about 9s. Let's see how long progressively larger models take to estimate."
   ]
  },
  {
   "cell_type": "code",
   "execution_count": 182,
   "metadata": {
    "ExecuteTime": {
     "end_time": "2019-04-24T01:25:15.452292Z",
     "start_time": "2019-04-24T01:25:05.401727Z"
    }
   },
   "outputs": [
    {
     "name": "stdout",
     "output_type": "stream",
     "text": [
      "=== 1/5 Counting and sorting n-grams ===\n",
      "Reading /mnt/cube/home/AD/emeinhar/fisher-lm/fisher_utterances_main.txt\n",
      "----5---10---15---20---25---30---35---40---45---50---55---60---65---70---75---80---85---90---95--100\n",
      "****************************************************************************************************\n",
      "Unigram tokens 10731876 types 44067\n",
      "=== 2/5 Calculating and sorting adjusted counts ===\n",
      "Chain sizes: 1:528804 2:108102156288\n",
      "Statistics:\n",
      "1 44067 D1=0.573987 D2=0.970821 D3+=1.48062\n",
      "2 918933 D1=0.686281 D2=1.07337 D3+=1.39033\n",
      "Memory estimate for binary LM:\n",
      "type       kB\n",
      "probing 17272 assuming -p 1.5\n",
      "probing 17444 assuming -r models -p 1.5\n",
      "trie     6305 without quantization\n",
      "trie     3726 assuming -q 8 -b 8 quantization \n",
      "trie     6305 assuming -a 22 array pointer compression\n",
      "trie     3726 assuming -a 22 -q 8 -b 8 array pointer compression and quantization\n",
      "=== 3/5 Calculating and sorting initial probabilities ===\n",
      "Chain sizes: 1:528804 2:14702928\n",
      "----5---10---15---20---25---30---35---40---45---50---55---60---65---70---75---80---85---90---95--100\n",
      "####################################################################################################\n",
      "=== 4/5 Calculating and writing order-interpolated probabilities ===\n",
      "Chain sizes: 1:528804 2:14702928\n",
      "----5---10---15---20---25---30---35---40---45---50---55---60---65---70---75---80---85---90---95--100\n",
      "####################################################################################################\n",
      "=== 5/5 Writing ARPA model ===\n",
      "----5---10---15---20---25---30---35---40---45---50---55---60---65---70---75---80---85---90---95--100\n",
      "****************************************************************************************************\n",
      "Name:lmplz\tVmPeak:105760576 kB\tVmRSS:22140 kB\tRSSMax:28828284 kB\tuser:3.59004\tsys:6.04997\tCPU:9.64005\treal:9.8256\n"
     ]
    }
   ],
   "source": [
    "!/home/AD/emeinhar/GitHub/kenlm/build/bin/lmplz -o 2 --text fisher_utterances_main.txt --arpa fisher_utterances_main_2gram.arpa"
   ]
  },
  {
   "cell_type": "code",
   "execution_count": 183,
   "metadata": {
    "ExecuteTime": {
     "end_time": "2019-04-24T01:25:24.968459Z",
     "start_time": "2019-04-24T01:25:15.454799Z"
    }
   },
   "outputs": [
    {
     "name": "stdout",
     "output_type": "stream",
     "text": [
      "=== 1/5 Counting and sorting n-grams ===\n",
      "Reading /mnt/cube/home/AD/emeinhar/fisher-lm/fisher_utterances_bbn.txt\n",
      "----5---10---15---20---25---30---35---40---45---50---55---60---65---70---75---80---85---90---95--100\n",
      "****************************************************************************************************\n",
      "Unigram tokens 9641143 types 42016\n",
      "=== 2/5 Calculating and sorting adjusted counts ===\n",
      "Chain sizes: 1:504192 2:108102180864\n",
      "Statistics:\n",
      "1 42016 D1=0.568433 D2=0.981916 D3+=1.4966\n",
      "2 861818 D1=0.687395 D2=1.07196 D3+=1.3933\n",
      "Memory estimate for binary LM:\n",
      "type       kB\n",
      "probing 16215 assuming -p 1.5\n",
      "probing 16380 assuming -r models -p 1.5\n",
      "trie     5929 without quantization\n",
      "trie     3510 assuming -q 8 -b 8 quantization \n",
      "trie     5929 assuming -a 22 array pointer compression\n",
      "trie     3510 assuming -a 22 -q 8 -b 8 array pointer compression and quantization\n",
      "=== 3/5 Calculating and sorting initial probabilities ===\n",
      "Chain sizes: 1:504192 2:13789088\n",
      "----5---10---15---20---25---30---35---40---45---50---55---60---65---70---75---80---85---90---95--100\n",
      "####################################################################################################\n",
      "=== 4/5 Calculating and writing order-interpolated probabilities ===\n",
      "Chain sizes: 1:504192 2:13789088\n",
      "----5---10---15---20---25---30---35---40---45---50---55---60---65---70---75---80---85---90---95--100\n",
      "####################################################################################################\n",
      "=== 5/5 Writing ARPA model ===\n",
      "----5---10---15---20---25---30---35---40---45---50---55---60---65---70---75---80---85---90---95--100\n",
      "****************************************************************************************************\n",
      "Name:lmplz\tVmPeak:105744184 kB\tVmRSS:21080 kB\tRSSMax:28828236 kB\tuser:3.27841\tsys:5.84204\tCPU:9.12048\treal:9.29265\n"
     ]
    }
   ],
   "source": [
    "!/home/AD/emeinhar/GitHub/kenlm/build/bin/lmplz -o 2 --text fisher_utterances_bbn.txt --arpa fisher_utterances_bbn_2gram.arpa"
   ]
  },
  {
   "cell_type": "code",
   "execution_count": 184,
   "metadata": {
    "ExecuteTime": {
     "end_time": "2019-04-24T01:25:38.003394Z",
     "start_time": "2019-04-24T01:25:24.970627Z"
    }
   },
   "outputs": [
    {
     "name": "stdout",
     "output_type": "stream",
     "text": [
      "=== 1/5 Counting and sorting n-grams ===\n",
      "Reading /mnt/cube/home/AD/emeinhar/fisher-lm/fisher_utterances_main.txt\n",
      "----5---10---15---20---25---30---35---40---45---50---55---60---65---70---75---80---85---90---95--100\n",
      "****************************************************************************************************\n",
      "Unigram tokens 10731876 types 44067\n",
      "=== 2/5 Calculating and sorting adjusted counts ===\n",
      "Chain sizes: 1:528804 2:37600751616 3:70501408768\n",
      "Statistics:\n",
      "1 44067 D1=0.573987 D2=0.970821 D3+=1.48062\n",
      "2 918933 D1=0.699343 D2=1.08262 D3+=1.4012\n",
      "3 3530719 D1=0.781713 D2=1.0944 D3+=1.33275\n",
      "Memory estimate for binary LM:\n",
      "type    MB\n",
      "probing 82 assuming -p 1.5\n",
      "probing 88 assuming -r models -p 1.5\n",
      "trie    31 without quantization\n",
      "trie    17 assuming -q 8 -b 8 quantization \n",
      "trie    30 assuming -a 22 array pointer compression\n",
      "trie    15 assuming -a 22 -q 8 -b 8 array pointer compression and quantization\n",
      "=== 3/5 Calculating and sorting initial probabilities ===\n",
      "Chain sizes: 1:528804 2:14702928 3:70614380\n",
      "----5---10---15---20---25---30---35---40---45---50---55---60---65---70---75---80---85---90---95--100\n",
      "####################################################################################################\n",
      "=== 4/5 Calculating and writing order-interpolated probabilities ===\n",
      "Chain sizes: 1:528804 2:14702928 3:70614380\n",
      "----5---10---15---20---25---30---35---40---45---50---55---60---65---70---75---80---85---90---95--100\n",
      "####################################################################################################\n",
      "=== 5/5 Writing ARPA model ===\n",
      "----5---10---15---20---25---30---35---40---45---50---55---60---65---70---75---80---85---90---95--100\n",
      "****************************************************************************************************\n",
      "Name:lmplz\tVmPeak:105752384 kB\tVmRSS:22312 kB\tRSSMax:24455480 kB\tuser:6.45112\tsys:5.5867\tCPU:12.0378\treal:12.7966\n"
     ]
    }
   ],
   "source": [
    "!/home/AD/emeinhar/GitHub/kenlm/build/bin/lmplz -o 3 --text fisher_utterances_main.txt --arpa fisher_utterances_main_3gram.arpa"
   ]
  },
  {
   "cell_type": "code",
   "execution_count": 185,
   "metadata": {
    "ExecuteTime": {
     "end_time": "2019-04-24T01:25:50.424572Z",
     "start_time": "2019-04-24T01:25:38.005640Z"
    }
   },
   "outputs": [
    {
     "name": "stdout",
     "output_type": "stream",
     "text": [
      "=== 1/5 Counting and sorting n-grams ===\n",
      "Reading /mnt/cube/home/AD/emeinhar/fisher-lm/fisher_utterances_bbn.txt\n",
      "----5---10---15---20---25---30---35---40---45---50---55---60---65---70---75---80---85---90---95--100\n",
      "****************************************************************************************************\n",
      "Unigram tokens 9641143 types 42016\n",
      "=== 2/5 Calculating and sorting adjusted counts ===\n",
      "Chain sizes: 1:504192 2:37600759808 3:70501425152\n",
      "Statistics:\n",
      "1 42016 D1=0.568433 D2=0.981916 D3+=1.4966\n",
      "2 861818 D1=0.700473 D2=1.08569 D3+=1.39281\n",
      "3 3266234 D1=0.783325 D2=1.09392 D3+=1.33518\n",
      "Memory estimate for binary LM:\n",
      "type    MB\n",
      "probing 76 assuming -p 1.5\n",
      "probing 81 assuming -r models -p 1.5\n",
      "trie    29 without quantization\n",
      "trie    15 assuming -q 8 -b 8 quantization \n",
      "trie    28 assuming -a 22 array pointer compression\n",
      "trie    14 assuming -a 22 -q 8 -b 8 array pointer compression and quantization\n",
      "=== 3/5 Calculating and sorting initial probabilities ===\n",
      "Chain sizes: 1:504192 2:13789088 3:65324680\n",
      "----5---10---15---20---25---30---35---40---45---50---55---60---65---70---75---80---85---90---95--100\n",
      "####################################################################################################\n",
      "=== 4/5 Calculating and writing order-interpolated probabilities ===\n",
      "Chain sizes: 1:504192 2:13789088 3:65324680\n",
      "----5---10---15---20---25---30---35---40---45---50---55---60---65---70---75---80---85---90---95--100\n",
      "####################################################################################################\n",
      "=== 5/5 Writing ARPA model ===\n",
      "----5---10---15---20---25---30---35---40---45---50---55---60---65---70---75---80---85---90---95--100\n",
      "****************************************************************************************************\n",
      "Name:lmplz\tVmPeak:105760580 kB\tVmRSS:21160 kB\tRSSMax:24450288 kB\tuser:6.21017\tsys:5.18718\tCPU:11.3974\treal:12.1957\n"
     ]
    }
   ],
   "source": [
    "!/home/AD/emeinhar/GitHub/kenlm/build/bin/lmplz -o 3 --text fisher_utterances_bbn.txt --arpa fisher_utterances_bbn_3gram.arpa"
   ]
  },
  {
   "cell_type": "code",
   "execution_count": 186,
   "metadata": {
    "ExecuteTime": {
     "end_time": "2019-04-24T01:26:07.845542Z",
     "start_time": "2019-04-24T01:25:50.426717Z"
    }
   },
   "outputs": [
    {
     "name": "stdout",
     "output_type": "stream",
     "text": [
      "=== 1/5 Counting and sorting n-grams ===\n",
      "Reading /mnt/cube/home/AD/emeinhar/fisher-lm/fisher_utterances_main.txt\n",
      "----5---10---15---20---25---30---35---40---45---50---55---60---65---70---75---80---85---90---95--100\n",
      "****************************************************************************************************\n",
      "Unigram tokens 10731876 types 44067\n",
      "=== 2/5 Calculating and sorting adjusted counts ===\n",
      "Chain sizes: 1:528804 2:18400366592 3:34500685824 4:55201099776\n",
      "Statistics:\n",
      "1 44067 D1=0.573987 D2=0.970821 D3+=1.48062\n",
      "2 918933 D1=0.699343 D2=1.08262 D3+=1.4012\n",
      "3 3530719 D1=0.795603 D2=1.11509 D3+=1.37541\n",
      "4 6315659 D1=0.865325 D2=1.16156 D3+=1.32481\n",
      "Memory estimate for binary LM:\n",
      "type     MB\n",
      "probing 211 assuming -p 1.5\n",
      "probing 236 assuming -r models -p 1.5\n",
      "trie     90 without quantization\n",
      "trie     48 assuming -q 8 -b 8 quantization \n",
      "trie     82 assuming -a 22 array pointer compression\n",
      "trie     40 assuming -a 22 -q 8 -b 8 array pointer compression and quantization\n",
      "=== 3/5 Calculating and sorting initial probabilities ===\n",
      "Chain sizes: 1:528804 2:14702928 3:70614380 4:151575816\n",
      "----5---10---15---20---25---30---35---40---45---50---55---60---65---70---75---80---85---90---95--100\n",
      "####################################################################################################\n",
      "=== 4/5 Calculating and writing order-interpolated probabilities ===\n",
      "Chain sizes: 1:528804 2:14702928 3:70614380 4:151575816\n",
      "----5---10---15---20---25---30---35---40---45---50---55---60---65---70---75---80---85---90---95--100\n",
      "####################################################################################################\n",
      "=== 5/5 Writing ARPA model ===\n",
      "----5---10---15---20---25---30---35---40---45---50---55---60---65---70---75---80---85---90---95--100\n",
      "****************************************************************************************************\n",
      "Name:lmplz\tVmPeak:105760572 kB\tVmRSS:22312 kB\tRSSMax:21289076 kB\tuser:9.83871\tsys:5.78167\tCPU:15.6204\treal:17.1985\n"
     ]
    }
   ],
   "source": [
    "!/home/AD/emeinhar/GitHub/kenlm/build/bin/lmplz -o 4 --text fisher_utterances_main.txt --arpa fisher_utterances_main_4gram.arpa"
   ]
  },
  {
   "cell_type": "code",
   "execution_count": 187,
   "metadata": {
    "ExecuteTime": {
     "end_time": "2019-04-24T01:26:24.318360Z",
     "start_time": "2019-04-24T01:26:07.847135Z"
    }
   },
   "outputs": [
    {
     "name": "stdout",
     "output_type": "stream",
     "text": [
      "=== 1/5 Counting and sorting n-grams ===\n",
      "Reading /mnt/cube/home/AD/emeinhar/fisher-lm/fisher_utterances_bbn.txt\n",
      "----5---10---15---20---25---30---35---40---45---50---55---60---65---70---75---80---85---90---95--100\n",
      "****************************************************************************************************\n",
      "Unigram tokens 9641143 types 42016\n",
      "=== 2/5 Calculating and sorting adjusted counts ===\n",
      "Chain sizes: 1:504192 2:18400370688 3:34500694016 4:55201112064\n",
      "Statistics:\n",
      "1 42016 D1=0.568433 D2=0.981916 D3+=1.4966\n",
      "2 861818 D1=0.700473 D2=1.08569 D3+=1.39281\n",
      "3 3266234 D1=0.797302 D2=1.11612 D3+=1.37803\n",
      "4 5794592 D1=0.867362 D2=1.16376 D3+=1.32942\n",
      "Memory estimate for binary LM:\n",
      "type     MB\n",
      "probing 194 assuming -p 1.5\n",
      "probing 218 assuming -r models -p 1.5\n",
      "trie     83 without quantization\n",
      "trie     44 assuming -q 8 -b 8 quantization \n",
      "trie     76 assuming -a 22 array pointer compression\n",
      "trie     37 assuming -a 22 -q 8 -b 8 array pointer compression and quantization\n",
      "=== 3/5 Calculating and sorting initial probabilities ===\n",
      "Chain sizes: 1:504192 2:13789088 3:65324680 4:139070208\n",
      "----5---10---15---20---25---30---35---40---45---50---55---60---65---70---75---80---85---90---95--100\n",
      "####################################################################################################\n",
      "=== 4/5 Calculating and writing order-interpolated probabilities ===\n",
      "Chain sizes: 1:504192 2:13789088 3:65324680 4:139070208\n",
      "----5---10---15---20---25---30---35---40---45---50---55---60---65---70---75---80---85---90---95--100\n",
      "####################################################################################################\n",
      "=== 5/5 Writing ARPA model ===\n",
      "----5---10---15---20---25---30---35---40---45---50---55---60---65---70---75---80---85---90---95--100\n",
      "****************************************************************************************************\n",
      "Name:lmplz\tVmPeak:105760572 kB\tVmRSS:21348 kB\tRSSMax:21276648 kB\tuser:9.03832\tsys:5.70947\tCPU:14.7478\treal:16.2509\n"
     ]
    }
   ],
   "source": [
    "!/home/AD/emeinhar/GitHub/kenlm/build/bin/lmplz -o 4 --text fisher_utterances_bbn.txt --arpa fisher_utterances_bbn_4gram.arpa"
   ]
  },
  {
   "cell_type": "code",
   "execution_count": 188,
   "metadata": {
    "ExecuteTime": {
     "end_time": "2019-04-24T01:26:47.344087Z",
     "start_time": "2019-04-24T01:26:24.319908Z"
    }
   },
   "outputs": [
    {
     "name": "stdout",
     "output_type": "stream",
     "text": [
      "=== 1/5 Counting and sorting n-grams ===\n",
      "Reading /mnt/cube/home/AD/emeinhar/fisher-lm/fisher_utterances_main.txt\n",
      "----5---10---15---20---25---30---35---40---45---50---55---60---65---70---75---80---85---90---95--100\n",
      "****************************************************************************************************\n",
      "Unigram tokens 10731876 types 44067\n",
      "=== 2/5 Calculating and sorting adjusted counts ===\n",
      "Chain sizes: 1:528804 2:10546551808 3:19774785536 4:31639654400 5:46141165568\n",
      "Statistics:\n",
      "1 44067 D1=0.573987 D2=0.970821 D3+=1.48062\n",
      "2 918933 D1=0.699343 D2=1.08262 D3+=1.4012\n",
      "3 3530719 D1=0.795603 D2=1.11509 D3+=1.37541\n",
      "4 6315659 D1=0.878533 D2=1.1968 D3+=1.37818\n",
      "5 7650530 D1=0.930477 D2=1.2561 D3+=1.35534\n",
      "Memory estimate for binary LM:\n",
      "type     MB\n",
      "probing 378 assuming -p 1.5\n",
      "probing 440 assuming -r models -p 1.5\n",
      "trie    174 without quantization\n",
      "trie     93 assuming -q 8 -b 8 quantization \n",
      "trie    154 assuming -a 22 array pointer compression\n",
      "trie     73 assuming -a 22 -q 8 -b 8 array pointer compression and quantization\n",
      "=== 3/5 Calculating and sorting initial probabilities ===\n",
      "Chain sizes: 1:528804 2:14702928 3:70614380 4:151575816 5:214214840\n",
      "----5---10---15---20---25---30---35---40---45---50---55---60---65---70---75---80---85---90---95--100\n",
      "####################################################################################################\n",
      "=== 4/5 Calculating and writing order-interpolated probabilities ===\n",
      "Chain sizes: 1:528804 2:14702928 3:70614380 4:151575816 5:214214840\n",
      "----5---10---15---20---25---30---35---40---45---50---55---60---65---70---75---80---85---90---95--100\n",
      "####################################################################################################\n",
      "=== 5/5 Writing ARPA model ===\n",
      "----5---10---15---20---25---30---35---40---45---50---55---60---65---70---75---80---85---90---95--100\n",
      "****************************************************************************************************\n",
      "Name:lmplz\tVmPeak:105767784 kB\tVmRSS:22244 kB\tRSSMax:18875464 kB\tuser:14.1609\tsys:6.54977\tCPU:20.7107\treal:22.7906\n"
     ]
    }
   ],
   "source": [
    "!/home/AD/emeinhar/GitHub/kenlm/build/bin/lmplz -o 5 --text fisher_utterances_main.txt --arpa fisher_utterances_main_5gram.arpa"
   ]
  },
  {
   "cell_type": "code",
   "execution_count": 189,
   "metadata": {
    "ExecuteTime": {
     "end_time": "2019-04-24T01:27:08.845608Z",
     "start_time": "2019-04-24T01:26:47.346300Z"
    }
   },
   "outputs": [
    {
     "name": "stdout",
     "output_type": "stream",
     "text": [
      "=== 1/5 Counting and sorting n-grams ===\n",
      "Reading /mnt/cube/home/AD/emeinhar/fisher-lm/fisher_utterances_bbn.txt\n",
      "----5---10---15---20---25---30---35---40---45---50---55---60---65---70---75---80---85---90---95--100\n",
      "****************************************************************************************************\n",
      "Unigram tokens 9641143 types 42016\n",
      "=== 2/5 Calculating and sorting adjusted counts ===\n",
      "Chain sizes: 1:504192 2:10546553856 3:19774789632 4:31639660544 5:46141177856\n",
      "Statistics:\n",
      "1 42016 D1=0.568433 D2=0.981916 D3+=1.4966\n",
      "2 861818 D1=0.700473 D2=1.08569 D3+=1.39281\n",
      "3 3266234 D1=0.797302 D2=1.11612 D3+=1.37803\n",
      "4 5794592 D1=0.880501 D2=1.20152 D3+=1.37819\n",
      "5 6996024 D1=0.932361 D2=1.25759 D3+=1.37719\n",
      "Memory estimate for binary LM:\n",
      "type     MB\n",
      "probing 348 assuming -p 1.5\n",
      "probing 405 assuming -r models -p 1.5\n",
      "trie    160 without quantization\n",
      "trie     85 assuming -q 8 -b 8 quantization \n",
      "trie    142 assuming -a 22 array pointer compression\n",
      "trie     67 assuming -a 22 -q 8 -b 8 array pointer compression and quantization\n",
      "=== 3/5 Calculating and sorting initial probabilities ===\n",
      "Chain sizes: 1:504192 2:13789088 3:65324680 4:139070208 5:195888672\n",
      "----5---10---15---20---25---30---35---40---45---50---55---60---65---70---75---80---85---90---95--100\n",
      "####################################################################################################\n",
      "=== 4/5 Calculating and writing order-interpolated probabilities ===\n",
      "Chain sizes: 1:504192 2:13789088 3:65324680 4:139070208 5:195888672\n",
      "----5---10---15---20---25---30---35---40---45---50---55---60---65---70---75---80---85---90---95--100\n",
      "####################################################################################################\n",
      "=== 5/5 Writing ARPA model ===\n",
      "----5---10---15---20---25---30---35---40---45---50---55---60---65---70---75---80---85---90---95--100\n",
      "****************************************************************************************************\n",
      "Name:lmplz\tVmPeak:105767784 kB\tVmRSS:21712 kB\tRSSMax:18855856 kB\tuser:12.9633\tsys:6.39141\tCPU:19.3547\treal:21.2763\n"
     ]
    }
   ],
   "source": [
    "!/home/AD/emeinhar/GitHub/kenlm/build/bin/lmplz -o 5 --text fisher_utterances_bbn.txt --arpa fisher_utterances_bbn_5gram.arpa"
   ]
  },
  {
   "cell_type": "markdown",
   "metadata": {},
   "source": [
    "## Query an n-gram model"
   ]
  },
  {
   "cell_type": "code",
   "execution_count": 190,
   "metadata": {
    "ExecuteTime": {
     "end_time": "2019-04-24T01:27:09.084191Z",
     "start_time": "2019-04-24T01:27:08.847881Z"
    }
   },
   "outputs": [
    {
     "name": "stdout",
     "output_type": "stream",
     "text": [
      "fisher_utterances_bbn_1gram.arpa  fisher_utterances_main_1gram.arpa\r\n",
      "fisher_utterances_bbn_2gram.arpa  fisher_utterances_main_2gram.arpa\r\n",
      "fisher_utterances_bbn_3gram.arpa  fisher_utterances_main_3gram.arpa\r\n",
      "fisher_utterances_bbn_4gram.arpa  fisher_utterances_main_4gram.arpa\r\n",
      "fisher_utterances_bbn_5gram.arpa  fisher_utterances_main_5gram.arpa\r\n"
     ]
    }
   ],
   "source": [
    "%ls *gram.arpa"
   ]
  },
  {
   "cell_type": "code",
   "execution_count": 191,
   "metadata": {
    "ExecuteTime": {
     "end_time": "2019-04-24T01:27:16.684214Z",
     "start_time": "2019-04-24T01:27:09.086279Z"
    }
   },
   "outputs": [
    {
     "name": "stdout",
     "output_type": "stream",
     "text": [
      "Loading the LM will be faster if you build a binary file.\n",
      "Reading fisher_utterances_main_5gram.arpa\n",
      "----5---10---15---20---25---30---35---40---45---50---55---60---65---70---75---80---85---90---95--100\n",
      "****************************************************************************************************\n",
      "how's=3183 2 -3.7624419\tit=82 3 -0.3159168\tgoing=156 4 -0.05819364\t</s>=2 5 -0.12938201\tTotal: -4.2659345 OOV: 0\n",
      "Perplexity including OOVs:\t11.65423086000582\n",
      "Perplexity excluding OOVs:\t11.65423086000582\n",
      "OOVs:\t0\n",
      "Tokens:\t4\n",
      "Name:query\tVmPeak:418440 kB\tVmRSS:4940 kB\tRSSMax:393296 kB\tuser:7.23749\tsys:0.09991\tCPU:7.33743\treal:7.34128\n"
     ]
    }
   ],
   "source": [
    "!echo \"how's it going\" | /home/AD/emeinhar/GitHub/kenlm/build/bin/query fisher_utterances_main_5gram.arpa"
   ]
  },
  {
   "cell_type": "code",
   "execution_count": 192,
   "metadata": {
    "ExecuteTime": {
     "end_time": "2019-04-24T01:27:27.741916Z",
     "start_time": "2019-04-24T01:27:16.686081Z"
    }
   },
   "outputs": [
    {
     "name": "stdout",
     "output_type": "stream",
     "text": [
      "Reading fisher_utterances_main_5gram.arpa\n",
      "----5---10---15---20---25---30---35---40---45---50---55---60---65---70---75---80---85---90---95--100\n",
      "****************************************************************************************************\n",
      "SUCCESS\n"
     ]
    }
   ],
   "source": [
    "!/home/AD/emeinhar/GitHub/kenlm/build/bin/build_binary fisher_utterances_main_5gram.arpa fisher_utterances_main_5gram.mmap"
   ]
  },
  {
   "cell_type": "code",
   "execution_count": 193,
   "metadata": {
    "ExecuteTime": {
     "end_time": "2019-04-24T01:27:27.974943Z",
     "start_time": "2019-04-24T01:27:27.743268Z"
    }
   },
   "outputs": [
    {
     "name": "stdout",
     "output_type": "stream",
     "text": [
      "This binary file contains probing hash tables.\r\n",
      "how's=3183 2 -3.7624419\tit=82 3 -0.3159168\tgoing=156 4 -0.05819364\t</s>=2 5 -0.12938201\tTotal: -4.2659345 OOV: 0\r\n",
      "Perplexity including OOVs:\t11.65423086000582\r\n",
      "Perplexity excluding OOVs:\t11.65423086000582\r\n",
      "OOVs:\t0\r\n",
      "Tokens:\t4\r\n",
      "Name:query\tVmPeak:416400 kB\tVmRSS:4940 kB\tRSSMax:392856 kB\tuser:0\tsys:0.023481\tCPU:0.023512\treal:0.0227069\r\n"
     ]
    }
   ],
   "source": [
    "!echo \"how's it going\" | /home/AD/emeinhar/GitHub/kenlm/build/bin/query fisher_utterances_main_5gram.mmap"
   ]
  },
  {
   "cell_type": "markdown",
   "metadata": {},
   "source": [
    "Assuming `real:0.0245038` at the bottom indicates the real (≈wall clock time from start to finish) duration in s, that's 24.5ms."
   ]
  },
  {
   "cell_type": "markdown",
   "metadata": {},
   "source": [
    "## python module"
   ]
  },
  {
   "cell_type": "code",
   "execution_count": 194,
   "metadata": {
    "ExecuteTime": {
     "end_time": "2019-04-24T01:27:28.151153Z",
     "start_time": "2019-04-24T01:27:27.977808Z"
    }
   },
   "outputs": [],
   "source": [
    "import kenlm"
   ]
  },
  {
   "cell_type": "code",
   "execution_count": 195,
   "metadata": {
    "ExecuteTime": {
     "end_time": "2019-04-24T01:27:28.159284Z",
     "start_time": "2019-04-24T01:27:28.153817Z"
    }
   },
   "outputs": [
    {
     "data": {
      "text/plain": [
       "'/mnt/cube/home/AD/emeinhar/fisher-lm'"
      ]
     },
     "execution_count": 195,
     "metadata": {},
     "output_type": "execute_result"
    }
   ],
   "source": [
    "os.getcwd()"
   ]
  },
  {
   "cell_type": "code",
   "execution_count": 196,
   "metadata": {
    "ExecuteTime": {
     "end_time": "2019-04-24T01:27:28.167772Z",
     "start_time": "2019-04-24T01:27:28.161026Z"
    }
   },
   "outputs": [
    {
     "data": {
      "text/plain": [
       "['fisher_utterances_main_5gram.arpa',\n",
       " 'fisher_utterances_main_2gram.arpa',\n",
       " 'fisher_utterances_main_4gram.arpa',\n",
       " 'fisher_utterances_main_3gram.arpa',\n",
       " 'fisher_utterances_main_1gram.arpa']"
      ]
     },
     "execution_count": 196,
     "metadata": {},
     "output_type": "execute_result"
    }
   ],
   "source": [
    "arpa_files = [fn for fn in os.listdir()\n",
    "              if '.arpa' in fn\n",
    "              and 'main' in fn]; arpa_files"
   ]
  },
  {
   "cell_type": "code",
   "execution_count": 197,
   "metadata": {
    "ExecuteTime": {
     "end_time": "2019-04-24T01:27:28.172358Z",
     "start_time": "2019-04-24T01:27:28.169277Z"
    }
   },
   "outputs": [],
   "source": [
    "# from random import choice\n",
    "# my_arpa_filename = choice(arpa_files); my_arpa_filename\n",
    "\n",
    "my_arpa_filename = 'fisher_utterances_main_5gram.arpa'"
   ]
  },
  {
   "cell_type": "code",
   "execution_count": 198,
   "metadata": {
    "ExecuteTime": {
     "end_time": "2019-04-24T01:27:28.182395Z",
     "start_time": "2019-04-24T01:27:28.174657Z"
    }
   },
   "outputs": [
    {
     "data": {
      "text/plain": [
       "'/mnt/cube/home/AD/emeinhar/fisher-lm/fisher_utterances_main_5gram.arpa'"
      ]
     },
     "execution_count": 198,
     "metadata": {},
     "output_type": "execute_result"
    }
   ],
   "source": [
    "LM_fp = os.path.join(os.getcwd(), my_arpa_filename); LM_fp"
   ]
  },
  {
   "cell_type": "code",
   "execution_count": 199,
   "metadata": {
    "ExecuteTime": {
     "end_time": "2019-04-24T01:27:35.895743Z",
     "start_time": "2019-04-24T01:27:28.184663Z"
    }
   },
   "outputs": [
    {
     "name": "stdout",
     "output_type": "stream",
     "text": [
      "5-gram model\n"
     ]
    }
   ],
   "source": [
    "model = kenlm.LanguageModel(LM_fp)\n",
    "print('{0}-gram model'.format(model.order))"
   ]
  },
  {
   "cell_type": "code",
   "execution_count": 200,
   "metadata": {
    "ExecuteTime": {
     "end_time": "2019-04-24T01:27:35.900307Z",
     "start_time": "2019-04-24T01:27:35.897438Z"
    }
   },
   "outputs": [],
   "source": [
    "sentence = \"how's it going\""
   ]
  },
  {
   "cell_type": "code",
   "execution_count": 201,
   "metadata": {
    "ExecuteTime": {
     "end_time": "2019-04-24T01:27:35.907284Z",
     "start_time": "2019-04-24T01:27:35.901423Z"
    }
   },
   "outputs": [
    {
     "data": {
      "text/plain": [
       "-4.265934467315674"
      ]
     },
     "execution_count": 201,
     "metadata": {},
     "output_type": "execute_result"
    }
   ],
   "source": [
    "model.score(sentence)"
   ]
  }
 ],
 "metadata": {
  "kernelspec": {
   "display_name": "Python 3",
   "language": "python",
   "name": "python3"
  },
  "language_info": {
   "codemirror_mode": {
    "name": "ipython",
    "version": 3
   },
   "file_extension": ".py",
   "mimetype": "text/x-python",
   "name": "python",
   "nbconvert_exporter": "python",
   "pygments_lexer": "ipython3",
   "version": "3.6.8"
  },
  "notify_time": "5",
  "toc": {
   "base_numbering": 1,
   "nav_menu": {},
   "number_sections": true,
   "sideBar": true,
   "skip_h1_title": false,
   "title_cell": "Table of Contents",
   "title_sidebar": "Contents",
   "toc_cell": false,
   "toc_position": {},
   "toc_section_display": true,
   "toc_window_display": false
  }
 },
 "nbformat": 4,
 "nbformat_minor": 2
}
